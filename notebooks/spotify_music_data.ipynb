{
 "cells": [
  {
   "cell_type": "code",
   "execution_count": 1,
   "id": "fcc5d053-5597-4982-9ad1-eed54ba7e9bd",
   "metadata": {},
   "outputs": [
    {
     "data": {
      "text/plain": [
       "True"
      ]
     },
     "execution_count": 1,
     "metadata": {},
     "output_type": "execute_result"
    }
   ],
   "source": [
    "import spotipy\n",
    "import spotipy.util as util\n",
    "import pandas as pd\n",
    "import os\n",
    "from spotipy.oauth2 import SpotifyClientCredentials\n",
    "from dotenv import load_dotenv\n",
    "\n",
    "load_dotenv()"
   ]
  },
  {
   "cell_type": "code",
   "execution_count": 2,
   "id": "4455c3a7-7d01-4a58-bcfd-492f15d8f702",
   "metadata": {},
   "outputs": [],
   "source": [
    "CLIENT_ID = os.getenv('CLIENT_ID')\n",
    "CLIENT_SECRET = os.getenv('CLIENT_SECRET')"
   ]
  },
  {
   "cell_type": "code",
   "execution_count": 3,
   "id": "98aef664",
   "metadata": {},
   "outputs": [],
   "source": [
    "client_credentials_manager = SpotifyClientCredentials(client_id=CLIENT_ID, client_secret=CLIENT_SECRET)\n",
    "sp = spotipy.Spotify(client_credentials_manager=client_credentials_manager)"
   ]
  },
  {
   "cell_type": "code",
   "execution_count": 4,
   "id": "2e7f74f2",
   "metadata": {},
   "outputs": [],
   "source": [
    "playlists_uris = []"
   ]
  },
  {
   "cell_type": "code",
   "execution_count": 5,
   "id": "c64abd6a",
   "metadata": {},
   "outputs": [],
   "source": [
    "def playlists(link):\n",
    "    playlist_URI = link.split(\"/\")[-1]\n",
    "    try:\n",
    "        playlist_URI = playlist_URI.split(\"?\")[0].strip()\n",
    "        return playlist_URI\n",
    "    except:\n",
    "        return playlist_URI"
   ]
  },
  {
   "cell_type": "code",
   "execution_count": 6,
   "id": "9276f0a0",
   "metadata": {},
   "outputs": [
    {
     "name": "stdout",
     "output_type": "stream",
     "text": [
      "['1G8IpkZKobrIlXcVPoSIuf', '3ONtdDxw2cKFg0hfEdwSCa', '37i9dQZF1DXcBWIGoYBM5M', '31ymdYCITDnZRtkKzP3Itp', '37i9dQZF1DX5hHfOi73rY3', '37i9dQZF1DXa71eg5j9dKZ', '37i9dQZF1DWSvKsRPPnv5o', '37i9dQZF1DXcDoDDetPsEg']\n"
     ]
    }
   ],
   "source": [
    "with open('./data/spotify_playlists/playlist_links.txt') as links:\n",
    "    for line in links:\n",
    "        playlists_uris.append(playlists(line))\n",
    "\n",
    "print(playlists_uris)"
   ]
  },
  {
   "cell_type": "code",
   "execution_count": 7,
   "id": "d0d0dc17",
   "metadata": {},
   "outputs": [],
   "source": [
    "song_info = []\n",
    "tenk_songs = playlists_uris[:2]"
   ]
  },
  {
   "cell_type": "code",
   "execution_count": 8,
   "id": "c10eaad9",
   "metadata": {},
   "outputs": [],
   "source": [
    "\n",
    "import time"
   ]
  },
  {
   "cell_type": "code",
   "execution_count": 13,
   "id": "4aa80ed2",
   "metadata": {},
   "outputs": [],
   "source": [
    "x = 0    \n",
    "for song in playlists_uris[1:]:\n",
    "    for track in sp.playlist_tracks(song)[\"items\"]:\n",
    "            try:\n",
    "            #URI\n",
    "                track_uri = track[\"track\"][\"uri\"]\n",
    "                \n",
    "                #Track name\n",
    "                track_name = track[\"track\"][\"name\"]\n",
    "                \n",
    "                #Main Artist\n",
    "                artist_uri = track[\"track\"][\"artists\"][0][\"uri\"]\n",
    "                artist_info = sp.artist(artist_uri)\n",
    "                \n",
    "                #Name, popularity, genre\n",
    "                artist_name = track[\"track\"][\"artists\"][0][\"name\"]\n",
    "                artist_pop = artist_info[\"popularity\"]\n",
    "                artist_genres = artist_info[\"genres\"]\n",
    "                \n",
    "                #Album\n",
    "                album = track[\"track\"][\"album\"][\"name\"]\n",
    "                \n",
    "                #Popularity of the track\n",
    "                track_pop = track[\"track\"][\"popularity\"]\n",
    "\n",
    "                track_features = sp.audio_features(track_uri)[0]\n",
    "\n",
    "                track_features['song_name'] = track_name\n",
    "                track_features['artist_name'] = artist_name\n",
    "                track_features['artist_genres'] = artist_info[\"genres\"]\n",
    "                track_features['artist_pop'] = artist_info[\"popularity\"]\n",
    "                track_features['song_popularity'] = track_pop\n",
    "                \n",
    "                song_info.append(track_features)\n",
    "                \n",
    "            \n",
    "\n",
    "            except:\n",
    "                next\n",
    "    print(len(song_info))\n",
    "    time.sleep(30)\n",
    "\n",
    "print('done')"
   ]
  },
  {
   "cell_type": "code",
   "execution_count": 10,
   "id": "710e7cf7",
   "metadata": {},
   "outputs": [],
   "source": [
    "#load from previously saved extracted song data\n",
    "small_music_data = pd.read_csv('./data/other_song_data')\n",
    "tenK_df = pd.read_csv('./data/10k_data')"
   ]
  },
  {
   "cell_type": "code",
   "execution_count": 14,
   "id": "af6dcd00",
   "metadata": {},
   "outputs": [
    {
     "data": {
      "text/html": [
       "<div>\n",
       "<style scoped>\n",
       "    .dataframe tbody tr th:only-of-type {\n",
       "        vertical-align: middle;\n",
       "    }\n",
       "\n",
       "    .dataframe tbody tr th {\n",
       "        vertical-align: top;\n",
       "    }\n",
       "\n",
       "    .dataframe thead th {\n",
       "        text-align: right;\n",
       "    }\n",
       "</style>\n",
       "<table border=\"1\" class=\"dataframe\">\n",
       "  <thead>\n",
       "    <tr style=\"text-align: right;\">\n",
       "      <th></th>\n",
       "      <th>Unnamed: 0</th>\n",
       "      <th>danceability</th>\n",
       "      <th>energy</th>\n",
       "      <th>key</th>\n",
       "      <th>loudness</th>\n",
       "      <th>mode</th>\n",
       "      <th>speechiness</th>\n",
       "      <th>acousticness</th>\n",
       "      <th>instrumentalness</th>\n",
       "      <th>liveness</th>\n",
       "      <th>...</th>\n",
       "      <th>id</th>\n",
       "      <th>uri</th>\n",
       "      <th>track_href</th>\n",
       "      <th>analysis_url</th>\n",
       "      <th>duration_ms</th>\n",
       "      <th>time_signature</th>\n",
       "      <th>song_name</th>\n",
       "      <th>artist_name</th>\n",
       "      <th>artist_genres</th>\n",
       "      <th>artist_pop</th>\n",
       "    </tr>\n",
       "  </thead>\n",
       "  <tbody>\n",
       "    <tr>\n",
       "      <th>0</th>\n",
       "      <td>0</td>\n",
       "      <td>0.623</td>\n",
       "      <td>0.763</td>\n",
       "      <td>9</td>\n",
       "      <td>-4.412</td>\n",
       "      <td>1</td>\n",
       "      <td>0.0719</td>\n",
       "      <td>0.19900</td>\n",
       "      <td>0.000007</td>\n",
       "      <td>0.1260</td>\n",
       "      <td>...</td>\n",
       "      <td>6iCJCZqDJjmBxt07Oid6FI</td>\n",
       "      <td>spotify:track:6iCJCZqDJjmBxt07Oid6FI</td>\n",
       "      <td>https://api.spotify.com/v1/tracks/6iCJCZqDJjmB...</td>\n",
       "      <td>https://api.spotify.com/v1/audio-analysis/6iCJ...</td>\n",
       "      <td>226610</td>\n",
       "      <td>4</td>\n",
       "      <td>Buttercup</td>\n",
       "      <td>Hippo Campus</td>\n",
       "      <td>['indie pop', 'indie poptimism', 'indie rock',...</td>\n",
       "      <td>62</td>\n",
       "    </tr>\n",
       "    <tr>\n",
       "      <th>1</th>\n",
       "      <td>1</td>\n",
       "      <td>0.641</td>\n",
       "      <td>0.559</td>\n",
       "      <td>7</td>\n",
       "      <td>-11.132</td>\n",
       "      <td>0</td>\n",
       "      <td>0.0355</td>\n",
       "      <td>0.40400</td>\n",
       "      <td>0.004020</td>\n",
       "      <td>0.0937</td>\n",
       "      <td>...</td>\n",
       "      <td>0Oqc0kKFsQ6MhFOLBNZIGX</td>\n",
       "      <td>spotify:track:0Oqc0kKFsQ6MhFOLBNZIGX</td>\n",
       "      <td>https://api.spotify.com/v1/tracks/0Oqc0kKFsQ6M...</td>\n",
       "      <td>https://api.spotify.com/v1/audio-analysis/0Oqc...</td>\n",
       "      <td>202193</td>\n",
       "      <td>4</td>\n",
       "      <td>Doin' Time</td>\n",
       "      <td>Lana Del Rey</td>\n",
       "      <td>['art pop', 'pop']</td>\n",
       "      <td>90</td>\n",
       "    </tr>\n",
       "    <tr>\n",
       "      <th>2</th>\n",
       "      <td>2</td>\n",
       "      <td>0.647</td>\n",
       "      <td>0.398</td>\n",
       "      <td>4</td>\n",
       "      <td>-8.630</td>\n",
       "      <td>1</td>\n",
       "      <td>0.0283</td>\n",
       "      <td>0.10800</td>\n",
       "      <td>0.107000</td>\n",
       "      <td>0.1480</td>\n",
       "      <td>...</td>\n",
       "      <td>0mO6oS60RST2sWmN2FKknP</td>\n",
       "      <td>spotify:track:0mO6oS60RST2sWmN2FKknP</td>\n",
       "      <td>https://api.spotify.com/v1/tracks/0mO6oS60RST2...</td>\n",
       "      <td>https://api.spotify.com/v1/audio-analysis/0mO6...</td>\n",
       "      <td>432560</td>\n",
       "      <td>4</td>\n",
       "      <td>One More Hour</td>\n",
       "      <td>Tame Impala</td>\n",
       "      <td>['australian psych', 'neo-psychedelic']</td>\n",
       "      <td>80</td>\n",
       "    </tr>\n",
       "    <tr>\n",
       "      <th>3</th>\n",
       "      <td>3</td>\n",
       "      <td>0.662</td>\n",
       "      <td>0.681</td>\n",
       "      <td>11</td>\n",
       "      <td>-8.152</td>\n",
       "      <td>0</td>\n",
       "      <td>0.0315</td>\n",
       "      <td>0.03210</td>\n",
       "      <td>0.139000</td>\n",
       "      <td>0.5080</td>\n",
       "      <td>...</td>\n",
       "      <td>4XfI7M5gLwEY84gYiH4RDD</td>\n",
       "      <td>spotify:track:4XfI7M5gLwEY84gYiH4RDD</td>\n",
       "      <td>https://api.spotify.com/v1/tracks/4XfI7M5gLwEY...</td>\n",
       "      <td>https://api.spotify.com/v1/audio-analysis/4XfI...</td>\n",
       "      <td>186307</td>\n",
       "      <td>4</td>\n",
       "      <td>Devil's Advocate</td>\n",
       "      <td>The Neighbourhood</td>\n",
       "      <td>['modern alternative rock', 'modern rock', 'po...</td>\n",
       "      <td>85</td>\n",
       "    </tr>\n",
       "    <tr>\n",
       "      <th>4</th>\n",
       "      <td>4</td>\n",
       "      <td>0.726</td>\n",
       "      <td>0.815</td>\n",
       "      <td>11</td>\n",
       "      <td>-5.886</td>\n",
       "      <td>1</td>\n",
       "      <td>0.0313</td>\n",
       "      <td>0.00799</td>\n",
       "      <td>0.081000</td>\n",
       "      <td>0.1120</td>\n",
       "      <td>...</td>\n",
       "      <td>3lIxtCaROdRDuTnNBDm3n2</td>\n",
       "      <td>spotify:track:3lIxtCaROdRDuTnNBDm3n2</td>\n",
       "      <td>https://api.spotify.com/v1/tracks/3lIxtCaROdRD...</td>\n",
       "      <td>https://api.spotify.com/v1/audio-analysis/3lIx...</td>\n",
       "      <td>209560</td>\n",
       "      <td>4</td>\n",
       "      <td>She's My Collar (feat. Kali Uchis)</td>\n",
       "      <td>Gorillaz</td>\n",
       "      <td>['alternative hip hop']</td>\n",
       "      <td>80</td>\n",
       "    </tr>\n",
       "  </tbody>\n",
       "</table>\n",
       "<p>5 rows × 23 columns</p>\n",
       "</div>"
      ],
      "text/plain": [
       "   Unnamed: 0  danceability  energy  key  loudness  mode  speechiness  \\\n",
       "0           0         0.623   0.763    9    -4.412     1       0.0719   \n",
       "1           1         0.641   0.559    7   -11.132     0       0.0355   \n",
       "2           2         0.647   0.398    4    -8.630     1       0.0283   \n",
       "3           3         0.662   0.681   11    -8.152     0       0.0315   \n",
       "4           4         0.726   0.815   11    -5.886     1       0.0313   \n",
       "\n",
       "   acousticness  instrumentalness  liveness  ...                      id  \\\n",
       "0       0.19900          0.000007    0.1260  ...  6iCJCZqDJjmBxt07Oid6FI   \n",
       "1       0.40400          0.004020    0.0937  ...  0Oqc0kKFsQ6MhFOLBNZIGX   \n",
       "2       0.10800          0.107000    0.1480  ...  0mO6oS60RST2sWmN2FKknP   \n",
       "3       0.03210          0.139000    0.5080  ...  4XfI7M5gLwEY84gYiH4RDD   \n",
       "4       0.00799          0.081000    0.1120  ...  3lIxtCaROdRDuTnNBDm3n2   \n",
       "\n",
       "                                    uri  \\\n",
       "0  spotify:track:6iCJCZqDJjmBxt07Oid6FI   \n",
       "1  spotify:track:0Oqc0kKFsQ6MhFOLBNZIGX   \n",
       "2  spotify:track:0mO6oS60RST2sWmN2FKknP   \n",
       "3  spotify:track:4XfI7M5gLwEY84gYiH4RDD   \n",
       "4  spotify:track:3lIxtCaROdRDuTnNBDm3n2   \n",
       "\n",
       "                                          track_href  \\\n",
       "0  https://api.spotify.com/v1/tracks/6iCJCZqDJjmB...   \n",
       "1  https://api.spotify.com/v1/tracks/0Oqc0kKFsQ6M...   \n",
       "2  https://api.spotify.com/v1/tracks/0mO6oS60RST2...   \n",
       "3  https://api.spotify.com/v1/tracks/4XfI7M5gLwEY...   \n",
       "4  https://api.spotify.com/v1/tracks/3lIxtCaROdRD...   \n",
       "\n",
       "                                        analysis_url duration_ms  \\\n",
       "0  https://api.spotify.com/v1/audio-analysis/6iCJ...      226610   \n",
       "1  https://api.spotify.com/v1/audio-analysis/0Oqc...      202193   \n",
       "2  https://api.spotify.com/v1/audio-analysis/0mO6...      432560   \n",
       "3  https://api.spotify.com/v1/audio-analysis/4XfI...      186307   \n",
       "4  https://api.spotify.com/v1/audio-analysis/3lIx...      209560   \n",
       "\n",
       "  time_signature                           song_name        artist_name  \\\n",
       "0              4                           Buttercup       Hippo Campus   \n",
       "1              4                          Doin' Time       Lana Del Rey   \n",
       "2              4                       One More Hour        Tame Impala   \n",
       "3              4                    Devil's Advocate  The Neighbourhood   \n",
       "4              4  She's My Collar (feat. Kali Uchis)           Gorillaz   \n",
       "\n",
       "                                       artist_genres artist_pop  \n",
       "0  ['indie pop', 'indie poptimism', 'indie rock',...         62  \n",
       "1                                 ['art pop', 'pop']         90  \n",
       "2            ['australian psych', 'neo-psychedelic']         80  \n",
       "3  ['modern alternative rock', 'modern rock', 'po...         85  \n",
       "4                            ['alternative hip hop']         80  \n",
       "\n",
       "[5 rows x 23 columns]"
      ]
     },
     "execution_count": 14,
     "metadata": {},
     "output_type": "execute_result"
    }
   ],
   "source": [
    "small_music_data.head()"
   ]
  },
  {
   "cell_type": "code",
   "execution_count": 11,
   "id": "4d96ec33",
   "metadata": {},
   "outputs": [],
   "source": [
    "import openai"
   ]
  },
  {
   "cell_type": "code",
   "execution_count": 12,
   "id": "165a5899",
   "metadata": {},
   "outputs": [],
   "source": [
    "openai.api_key = os.getenv('OPENAI_SECRET')"
   ]
  },
  {
   "cell_type": "code",
   "execution_count": 22,
   "id": "d61fee0e",
   "metadata": {},
   "outputs": [],
   "source": [
    "small_prompts = []\n",
    "tenk_prompts = []"
   ]
  },
  {
   "cell_type": "code",
   "execution_count": 23,
   "id": "482645f2",
   "metadata": {},
   "outputs": [],
   "source": [
    "for i, r in small_music_data.iterrows():\n",
    "    small_prompts.append(f\"only give the genre of the song {r['song_name']} by {r['artist_name']}\")\n",
    "for i, r in tenK_df.iterrows():\n",
    "    tenk_prompts.append(f\"only give the genre of the song {r['song_name']} by {r['artist_name']}\")"
   ]
  },
  {
   "cell_type": "code",
   "execution_count": 35,
   "id": "95dca06d",
   "metadata": {},
   "outputs": [
    {
     "name": "stdout",
     "output_type": "stream",
     "text": [
      "505\n",
      "9947\n"
     ]
    }
   ],
   "source": [
    "print(len(small_prompts))\n",
    "print(len(tenk_prompts))"
   ]
  },
  {
   "cell_type": "code",
   "execution_count": 25,
   "id": "e170f8ed",
   "metadata": {},
   "outputs": [],
   "source": [
    "model = 'text-davinci-002'"
   ]
  },
  {
   "cell_type": "code",
   "execution_count": 34,
   "id": "f130d552",
   "metadata": {},
   "outputs": [],
   "source": [
    "small_outputs = []"
   ]
  },
  {
   "cell_type": "code",
   "execution_count": 36,
   "id": "bad5d5f6",
   "metadata": {},
   "outputs": [
    {
     "name": "stdout",
     "output_type": "stream",
     "text": [
      "done\n"
     ]
    }
   ],
   "source": [
    "x = 0\n",
    "\n",
    "while len(small_outputs) <= (len(small_prompts)-20):\n",
    "    try:\n",
    "        completions = openai.Completion.create(engine=model, prompt = small_prompts[x:20 + x], max_tokens=500, temperature=0.5)\n",
    "        for choice in completions.choices:\n",
    "            small_outputs.append(choice.text)\n",
    "        x += 20\n",
    "        time.sleep(60)\n",
    "    except:\n",
    "        completions = openai.Completion.create(engine=model, prompt = small_prompts[-20:], max_tokens=500, temperature=0.5)\n",
    "        for choice in completions.choices:\n",
    "            small_outputs.append(choice.text)\n",
    "        break\n",
    "else:\n",
    "    print('done')"
   ]
  },
  {
   "cell_type": "code",
   "execution_count": 37,
   "id": "3b151850",
   "metadata": {},
   "outputs": [
    {
     "name": "stdout",
     "output_type": "stream",
     "text": [
      "500\n"
     ]
    }
   ],
   "source": [
    "print(len(small_outputs))"
   ]
  },
  {
   "cell_type": "code",
   "execution_count": 38,
   "id": "96ec0ac9",
   "metadata": {},
   "outputs": [],
   "source": [
    "#loop didnt grab the last 8\n",
    "completions = openai.Completion.create(engine=model, prompt = small_prompts[500:], max_tokens=500, temperature=0.5)\n",
    "for choice in completions.choices:\n",
    "    small_outputs.append(choice.text)"
   ]
  },
  {
   "cell_type": "code",
   "execution_count": 39,
   "id": "928531c8",
   "metadata": {},
   "outputs": [],
   "source": [
    "half_tenk_outputs = []\n",
    "half_tenk_prompts = tenk_prompts[:4800]"
   ]
  },
  {
   "cell_type": "code",
   "execution_count": 40,
   "id": "ff0ffd43",
   "metadata": {},
   "outputs": [],
   "source": [
    "x = 0\n",
    "\n",
    "while len(half_tenk_outputs) <= (len(half_tenk_prompts)-20):\n",
    "    try:\n",
    "        completions = openai.Completion.create(engine=model, prompt = half_tenk_prompts[x:20 + x], max_tokens=500, temperature=0.5)\n",
    "        for choice in completions.choices:\n",
    "            half_tenk_outputs.append(choice.text)\n",
    "        x += 20\n",
    "        time.sleep(60)\n",
    "    except:\n",
    "        completions = openai.Completion.create(engine=model, prompt = half_tenk_prompts[-20:], max_tokens=500, temperature=0.5)\n",
    "        for choice in completions.choices:\n",
    "            half_tenk_outputs.append(choice.text)\n",
    "        break\n",
    "else:\n",
    "    print('done')"
   ]
  },
  {
   "cell_type": "code",
   "execution_count": 44,
   "id": "b12d3444",
   "metadata": {},
   "outputs": [
    {
     "name": "stdout",
     "output_type": "stream",
     "text": [
      "['\\n\\nFolk', '\\n\\ngrunge', '\\n\\nRock', '\\n\\nRock', '\\n\\nRock and Roll', '\\n\\nR&B', '\\n\\nThe Ronettes are a pop girl group from the 1960s. Their song Be My Baby is a pop song with elements of rock and roll.', '\\n\\nR&B; Soul', '\\n\\nR&B', '\\n\\nRock']\n"
     ]
    }
   ],
   "source": [
    "print(half_tenk_outputs[:10])"
   ]
  },
  {
   "cell_type": "code",
   "execution_count": 45,
   "id": "7342f532",
   "metadata": {},
   "outputs": [
    {
     "name": "stdout",
     "output_type": "stream",
     "text": [
      "['only give the genre of the song Like a Rolling Stone by Bob Dylan', 'only give the genre of the song Smells Like Teen Spirit by Nirvana', 'only give the genre of the song A Day In The Life - Remastered by The Beatles', 'only give the genre of the song Good Vibrations (Mono) by The Beach Boys', 'only give the genre of the song Johnny B Goode by Chuck Berry', 'only give the genre of the song Respect by Aretha Franklin', 'only give the genre of the song Be My Baby by The Ronettes', \"only give the genre of the song What's Going On by Marvin Gaye\", 'only give the genre of the song I Heard It Through The Grapevine by Marvin Gaye', \"only give the genre of the song (I Can't Get No) Satisfaction - Mono Version / Remastered 2002 by The Rolling Stones\"]\n"
     ]
    }
   ],
   "source": [
    "print(half_tenk_prompts[:10])"
   ]
  },
  {
   "cell_type": "code",
   "execution_count": 46,
   "id": "f1811b24",
   "metadata": {},
   "outputs": [],
   "source": [
    "def new_line_strip(value):\n",
    "    return ''.join(value.splitlines())"
   ]
  },
  {
   "cell_type": "code",
   "execution_count": 55,
   "id": "6af8387c",
   "metadata": {},
   "outputs": [],
   "source": [
    "song_genre_small = []"
   ]
  },
  {
   "cell_type": "code",
   "execution_count": 56,
   "id": "09a0c220",
   "metadata": {},
   "outputs": [],
   "source": [
    "\n",
    "for item in small_outputs:\n",
    "    item = new_line_strip(item).lower()\n",
    "    if 'is' in item:\n",
    "        split = item.split('is')\n",
    "        item = split[-1]\n",
    "        song_genre_small.append(item)\n",
    "    else:\n",
    "        song_genre_small.append(item)\n",
    "    temp_string_list = []"
   ]
  },
  {
   "cell_type": "code",
   "execution_count": 59,
   "id": "08181962",
   "metadata": {},
   "outputs": [],
   "source": [
    "tenk_song_info = []"
   ]
  },
  {
   "cell_type": "code",
   "execution_count": 60,
   "id": "3b9043ab",
   "metadata": {},
   "outputs": [],
   "source": [
    "\n",
    "for item in half_tenk_outputs:\n",
    "    item = new_line_strip(item).lower()\n",
    "    if 'is' in item:\n",
    "        split = item.split('is')\n",
    "        item = split[-1]\n",
    "        tenk_song_info.append(item)\n",
    "    else:\n",
    "        tenk_song_info.append(item)"
   ]
  },
  {
   "cell_type": "code",
   "execution_count": 80,
   "id": "061caf72",
   "metadata": {},
   "outputs": [],
   "source": [
    "small_music_data['song_genre'] = song_genre_small"
   ]
  },
  {
   "cell_type": "code",
   "execution_count": 81,
   "id": "6933d5b4",
   "metadata": {},
   "outputs": [
    {
     "data": {
      "text/html": [
       "<div>\n",
       "<style scoped>\n",
       "    .dataframe tbody tr th:only-of-type {\n",
       "        vertical-align: middle;\n",
       "    }\n",
       "\n",
       "    .dataframe tbody tr th {\n",
       "        vertical-align: top;\n",
       "    }\n",
       "\n",
       "    .dataframe thead th {\n",
       "        text-align: right;\n",
       "    }\n",
       "</style>\n",
       "<table border=\"1\" class=\"dataframe\">\n",
       "  <thead>\n",
       "    <tr style=\"text-align: right;\">\n",
       "      <th></th>\n",
       "      <th>danceability</th>\n",
       "      <th>energy</th>\n",
       "      <th>key</th>\n",
       "      <th>loudness</th>\n",
       "      <th>mode</th>\n",
       "      <th>speechiness</th>\n",
       "      <th>acousticness</th>\n",
       "      <th>instrumentalness</th>\n",
       "      <th>liveness</th>\n",
       "      <th>valence</th>\n",
       "      <th>...</th>\n",
       "      <th>uri</th>\n",
       "      <th>track_href</th>\n",
       "      <th>analysis_url</th>\n",
       "      <th>duration_ms</th>\n",
       "      <th>time_signature</th>\n",
       "      <th>song_name</th>\n",
       "      <th>artist_name</th>\n",
       "      <th>artist_genres</th>\n",
       "      <th>artist_pop</th>\n",
       "      <th>song_genre</th>\n",
       "    </tr>\n",
       "  </thead>\n",
       "  <tbody>\n",
       "    <tr>\n",
       "      <th>0</th>\n",
       "      <td>0.623</td>\n",
       "      <td>0.763</td>\n",
       "      <td>9</td>\n",
       "      <td>-4.412</td>\n",
       "      <td>1</td>\n",
       "      <td>0.0719</td>\n",
       "      <td>0.19900</td>\n",
       "      <td>0.000007</td>\n",
       "      <td>0.1260</td>\n",
       "      <td>0.199</td>\n",
       "      <td>...</td>\n",
       "      <td>spotify:track:6iCJCZqDJjmBxt07Oid6FI</td>\n",
       "      <td>https://api.spotify.com/v1/tracks/6iCJCZqDJjmB...</td>\n",
       "      <td>https://api.spotify.com/v1/audio-analysis/6iCJ...</td>\n",
       "      <td>226610</td>\n",
       "      <td>4</td>\n",
       "      <td>Buttercup</td>\n",
       "      <td>Hippo Campus</td>\n",
       "      <td>['indie pop', 'indie poptimism', 'indie rock',...</td>\n",
       "      <td>62</td>\n",
       "      <td>indie rock</td>\n",
       "    </tr>\n",
       "    <tr>\n",
       "      <th>1</th>\n",
       "      <td>0.641</td>\n",
       "      <td>0.559</td>\n",
       "      <td>7</td>\n",
       "      <td>-11.132</td>\n",
       "      <td>0</td>\n",
       "      <td>0.0355</td>\n",
       "      <td>0.40400</td>\n",
       "      <td>0.004020</td>\n",
       "      <td>0.0937</td>\n",
       "      <td>0.523</td>\n",
       "      <td>...</td>\n",
       "      <td>spotify:track:0Oqc0kKFsQ6MhFOLBNZIGX</td>\n",
       "      <td>https://api.spotify.com/v1/tracks/0Oqc0kKFsQ6M...</td>\n",
       "      <td>https://api.spotify.com/v1/audio-analysis/0Oqc...</td>\n",
       "      <td>202193</td>\n",
       "      <td>4</td>\n",
       "      <td>Doin' Time</td>\n",
       "      <td>Lana Del Rey</td>\n",
       "      <td>['art pop', 'pop']</td>\n",
       "      <td>90</td>\n",
       "      <td>indie pop</td>\n",
       "    </tr>\n",
       "    <tr>\n",
       "      <th>2</th>\n",
       "      <td>0.647</td>\n",
       "      <td>0.398</td>\n",
       "      <td>4</td>\n",
       "      <td>-8.630</td>\n",
       "      <td>1</td>\n",
       "      <td>0.0283</td>\n",
       "      <td>0.10800</td>\n",
       "      <td>0.107000</td>\n",
       "      <td>0.1480</td>\n",
       "      <td>0.320</td>\n",
       "      <td>...</td>\n",
       "      <td>spotify:track:0mO6oS60RST2sWmN2FKknP</td>\n",
       "      <td>https://api.spotify.com/v1/tracks/0mO6oS60RST2...</td>\n",
       "      <td>https://api.spotify.com/v1/audio-analysis/0mO6...</td>\n",
       "      <td>432560</td>\n",
       "      <td>4</td>\n",
       "      <td>One More Hour</td>\n",
       "      <td>Tame Impala</td>\n",
       "      <td>['australian psych', 'neo-psychedelic']</td>\n",
       "      <td>80</td>\n",
       "      <td>indie rock</td>\n",
       "    </tr>\n",
       "    <tr>\n",
       "      <th>3</th>\n",
       "      <td>0.662</td>\n",
       "      <td>0.681</td>\n",
       "      <td>11</td>\n",
       "      <td>-8.152</td>\n",
       "      <td>0</td>\n",
       "      <td>0.0315</td>\n",
       "      <td>0.03210</td>\n",
       "      <td>0.139000</td>\n",
       "      <td>0.5080</td>\n",
       "      <td>0.864</td>\n",
       "      <td>...</td>\n",
       "      <td>spotify:track:4XfI7M5gLwEY84gYiH4RDD</td>\n",
       "      <td>https://api.spotify.com/v1/tracks/4XfI7M5gLwEY...</td>\n",
       "      <td>https://api.spotify.com/v1/audio-analysis/4XfI...</td>\n",
       "      <td>186307</td>\n",
       "      <td>4</td>\n",
       "      <td>Devil's Advocate</td>\n",
       "      <td>The Neighbourhood</td>\n",
       "      <td>['modern alternative rock', 'modern rock', 'po...</td>\n",
       "      <td>85</td>\n",
       "      <td>indie rock</td>\n",
       "    </tr>\n",
       "    <tr>\n",
       "      <th>4</th>\n",
       "      <td>0.726</td>\n",
       "      <td>0.815</td>\n",
       "      <td>11</td>\n",
       "      <td>-5.886</td>\n",
       "      <td>1</td>\n",
       "      <td>0.0313</td>\n",
       "      <td>0.00799</td>\n",
       "      <td>0.081000</td>\n",
       "      <td>0.1120</td>\n",
       "      <td>0.462</td>\n",
       "      <td>...</td>\n",
       "      <td>spotify:track:3lIxtCaROdRDuTnNBDm3n2</td>\n",
       "      <td>https://api.spotify.com/v1/tracks/3lIxtCaROdRD...</td>\n",
       "      <td>https://api.spotify.com/v1/audio-analysis/3lIx...</td>\n",
       "      <td>209560</td>\n",
       "      <td>4</td>\n",
       "      <td>She's My Collar (feat. Kali Uchis)</td>\n",
       "      <td>Gorillaz</td>\n",
       "      <td>['alternative hip hop']</td>\n",
       "      <td>80</td>\n",
       "      <td>r&amp;b</td>\n",
       "    </tr>\n",
       "  </tbody>\n",
       "</table>\n",
       "<p>5 rows × 23 columns</p>\n",
       "</div>"
      ],
      "text/plain": [
       "   danceability  energy  key  loudness  mode  speechiness  acousticness  \\\n",
       "0         0.623   0.763    9    -4.412     1       0.0719       0.19900   \n",
       "1         0.641   0.559    7   -11.132     0       0.0355       0.40400   \n",
       "2         0.647   0.398    4    -8.630     1       0.0283       0.10800   \n",
       "3         0.662   0.681   11    -8.152     0       0.0315       0.03210   \n",
       "4         0.726   0.815   11    -5.886     1       0.0313       0.00799   \n",
       "\n",
       "   instrumentalness  liveness  valence  ...  \\\n",
       "0          0.000007    0.1260    0.199  ...   \n",
       "1          0.004020    0.0937    0.523  ...   \n",
       "2          0.107000    0.1480    0.320  ...   \n",
       "3          0.139000    0.5080    0.864  ...   \n",
       "4          0.081000    0.1120    0.462  ...   \n",
       "\n",
       "                                    uri  \\\n",
       "0  spotify:track:6iCJCZqDJjmBxt07Oid6FI   \n",
       "1  spotify:track:0Oqc0kKFsQ6MhFOLBNZIGX   \n",
       "2  spotify:track:0mO6oS60RST2sWmN2FKknP   \n",
       "3  spotify:track:4XfI7M5gLwEY84gYiH4RDD   \n",
       "4  spotify:track:3lIxtCaROdRDuTnNBDm3n2   \n",
       "\n",
       "                                          track_href  \\\n",
       "0  https://api.spotify.com/v1/tracks/6iCJCZqDJjmB...   \n",
       "1  https://api.spotify.com/v1/tracks/0Oqc0kKFsQ6M...   \n",
       "2  https://api.spotify.com/v1/tracks/0mO6oS60RST2...   \n",
       "3  https://api.spotify.com/v1/tracks/4XfI7M5gLwEY...   \n",
       "4  https://api.spotify.com/v1/tracks/3lIxtCaROdRD...   \n",
       "\n",
       "                                        analysis_url duration_ms  \\\n",
       "0  https://api.spotify.com/v1/audio-analysis/6iCJ...      226610   \n",
       "1  https://api.spotify.com/v1/audio-analysis/0Oqc...      202193   \n",
       "2  https://api.spotify.com/v1/audio-analysis/0mO6...      432560   \n",
       "3  https://api.spotify.com/v1/audio-analysis/4XfI...      186307   \n",
       "4  https://api.spotify.com/v1/audio-analysis/3lIx...      209560   \n",
       "\n",
       "  time_signature                           song_name        artist_name  \\\n",
       "0              4                           Buttercup       Hippo Campus   \n",
       "1              4                          Doin' Time       Lana Del Rey   \n",
       "2              4                       One More Hour        Tame Impala   \n",
       "3              4                    Devil's Advocate  The Neighbourhood   \n",
       "4              4  She's My Collar (feat. Kali Uchis)           Gorillaz   \n",
       "\n",
       "                                       artist_genres artist_pop  song_genre  \n",
       "0  ['indie pop', 'indie poptimism', 'indie rock',...         62  indie rock  \n",
       "1                                 ['art pop', 'pop']         90   indie pop  \n",
       "2            ['australian psych', 'neo-psychedelic']         80  indie rock  \n",
       "3  ['modern alternative rock', 'modern rock', 'po...         85  indie rock  \n",
       "4                            ['alternative hip hop']         80         r&b  \n",
       "\n",
       "[5 rows x 23 columns]"
      ]
     },
     "execution_count": 81,
     "metadata": {},
     "output_type": "execute_result"
    }
   ],
   "source": [
    "small_music_data.head()"
   ]
  },
  {
   "cell_type": "code",
   "execution_count": 87,
   "id": "acd04768",
   "metadata": {},
   "outputs": [
    {
     "name": "stdout",
     "output_type": "stream",
     "text": [
      "1920\n"
     ]
    }
   ],
   "source": [
    "print(len(tenk_song_info))"
   ]
  },
  {
   "cell_type": "code",
   "execution_count": 88,
   "id": "b63117c3",
   "metadata": {},
   "outputs": [],
   "source": [
    "tenK_df = tenK_df.iloc[0:1920]"
   ]
  },
  {
   "cell_type": "code",
   "execution_count": 89,
   "id": "48f52c71",
   "metadata": {},
   "outputs": [],
   "source": [
    "tenK_df['song_genre'] = tenk_song_info"
   ]
  },
  {
   "cell_type": "code",
   "execution_count": 70,
   "id": "11a06178",
   "metadata": {},
   "outputs": [],
   "source": [
    "tenK_df.drop(columns='Unnamed: 0', inplace=True)\n",
    "small_music_data.drop(columns='Unnamed: 0', inplace=True)"
   ]
  },
  {
   "cell_type": "code",
   "execution_count": 90,
   "id": "476e6081",
   "metadata": {},
   "outputs": [],
   "source": [
    "combined = pd.concat([tenK_df,small_music_data])\n",
    "combined.reset_index(inplace=True)"
   ]
  },
  {
   "cell_type": "code",
   "execution_count": 91,
   "id": "fcb8b8b0",
   "metadata": {},
   "outputs": [],
   "source": [
    "combined.drop(columns='index', inplace=True)"
   ]
  },
  {
   "cell_type": "code",
   "execution_count": 92,
   "id": "f55e76d9",
   "metadata": {},
   "outputs": [],
   "source": [
    "combined.to_csv('./data/updated_music.csv')"
   ]
  },
  {
   "cell_type": "code",
   "execution_count": null,
   "id": "9c7f5334",
   "metadata": {},
   "outputs": [],
   "source": []
  }
 ],
 "metadata": {
  "kernelspec": {
   "display_name": "Python 3.11.0 64-bit",
   "language": "python",
   "name": "python3"
  },
  "language_info": {
   "codemirror_mode": {
    "name": "ipython",
    "version": 3
   },
   "file_extension": ".py",
   "mimetype": "text/x-python",
   "name": "python",
   "nbconvert_exporter": "python",
   "pygments_lexer": "ipython3",
   "version": "3.11.0"
  },
  "vscode": {
   "interpreter": {
    "hash": "c261aea317cc0286b3b3261fbba9abdec21eaa57589985bb7a274bf54d6cc0a7"
   }
  }
 },
 "nbformat": 4,
 "nbformat_minor": 5
}
