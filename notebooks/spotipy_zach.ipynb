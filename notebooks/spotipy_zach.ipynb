{
 "cells": [
  {
   "cell_type": "code",
   "execution_count": 1,
   "id": "44db7b68",
   "metadata": {},
   "outputs": [],
   "source": [
    "import os\n",
    "import numpy as np\n",
    "import pandas as pd\n",
    "\n",
    "import seaborn as sns\n",
    "import plotly.express as px \n",
    "import matplotlib.pyplot as plt\n",
    "\n",
    "from sklearn.cluster import KMeans\n",
    "from sklearn.preprocessing import StandardScaler\n",
    "from sklearn.pipeline import Pipeline\n",
    "from sklearn.manifold import TSNE\n",
    "from sklearn.decomposition import PCA\n",
    "from sklearn.metrics import euclidean_distances\n",
    "from scipy.spatial.distance import cdist\n",
    "\n",
    "import warnings\n",
    "warnings.filterwarnings(\"ignore\")"
   ]
  },
  {
   "cell_type": "code",
   "execution_count": null,
   "id": "6a889dd4",
   "metadata": {},
   "outputs": [],
   "source": []
  },
  {
   "cell_type": "code",
   "execution_count": 2,
   "id": "a51cc190",
   "metadata": {},
   "outputs": [
    {
     "data": {
      "text/html": [
       "<div>\n",
       "<style scoped>\n",
       "    .dataframe tbody tr th:only-of-type {\n",
       "        vertical-align: middle;\n",
       "    }\n",
       "\n",
       "    .dataframe tbody tr th {\n",
       "        vertical-align: top;\n",
       "    }\n",
       "\n",
       "    .dataframe thead th {\n",
       "        text-align: right;\n",
       "    }\n",
       "</style>\n",
       "<table border=\"1\" class=\"dataframe\">\n",
       "  <thead>\n",
       "    <tr style=\"text-align: right;\">\n",
       "      <th></th>\n",
       "      <th>Unnamed: 0</th>\n",
       "      <th>danceability</th>\n",
       "      <th>energy</th>\n",
       "      <th>key</th>\n",
       "      <th>loudness</th>\n",
       "      <th>mode</th>\n",
       "      <th>speechiness</th>\n",
       "      <th>acousticness</th>\n",
       "      <th>instrumentalness</th>\n",
       "      <th>liveness</th>\n",
       "      <th>...</th>\n",
       "      <th>uri</th>\n",
       "      <th>track_href</th>\n",
       "      <th>analysis_url</th>\n",
       "      <th>duration_ms</th>\n",
       "      <th>time_signature</th>\n",
       "      <th>song_name</th>\n",
       "      <th>artist_name</th>\n",
       "      <th>artist_genres</th>\n",
       "      <th>artist_pop</th>\n",
       "      <th>song_popularity</th>\n",
       "    </tr>\n",
       "  </thead>\n",
       "  <tbody>\n",
       "    <tr>\n",
       "      <th>0</th>\n",
       "      <td>0</td>\n",
       "      <td>0.482</td>\n",
       "      <td>0.721</td>\n",
       "      <td>0</td>\n",
       "      <td>-6.839</td>\n",
       "      <td>1</td>\n",
       "      <td>0.0321</td>\n",
       "      <td>0.731000</td>\n",
       "      <td>0.000000</td>\n",
       "      <td>0.1890</td>\n",
       "      <td>...</td>\n",
       "      <td>spotify:track:3AhXZa8sUQht0UEdBJgpGc</td>\n",
       "      <td>https://api.spotify.com/v1/tracks/3AhXZa8sUQht...</td>\n",
       "      <td>https://api.spotify.com/v1/audio-analysis/3AhX...</td>\n",
       "      <td>369600</td>\n",
       "      <td>4</td>\n",
       "      <td>Like a Rolling Stone</td>\n",
       "      <td>Bob Dylan</td>\n",
       "      <td>['classic rock', 'country rock', 'folk', 'folk...</td>\n",
       "      <td>72</td>\n",
       "      <td>68</td>\n",
       "    </tr>\n",
       "    <tr>\n",
       "      <th>1</th>\n",
       "      <td>1</td>\n",
       "      <td>0.485</td>\n",
       "      <td>0.863</td>\n",
       "      <td>1</td>\n",
       "      <td>-9.027</td>\n",
       "      <td>1</td>\n",
       "      <td>0.0495</td>\n",
       "      <td>0.000012</td>\n",
       "      <td>0.016200</td>\n",
       "      <td>0.1380</td>\n",
       "      <td>...</td>\n",
       "      <td>spotify:track:3oTlkzk1OtrhH8wBAduVEi</td>\n",
       "      <td>https://api.spotify.com/v1/tracks/3oTlkzk1Otrh...</td>\n",
       "      <td>https://api.spotify.com/v1/audio-analysis/3oTl...</td>\n",
       "      <td>300977</td>\n",
       "      <td>4</td>\n",
       "      <td>Smells Like Teen Spirit</td>\n",
       "      <td>Nirvana</td>\n",
       "      <td>['grunge', 'permanent wave', 'rock']</td>\n",
       "      <td>82</td>\n",
       "      <td>0</td>\n",
       "    </tr>\n",
       "    <tr>\n",
       "      <th>2</th>\n",
       "      <td>2</td>\n",
       "      <td>0.364</td>\n",
       "      <td>0.457</td>\n",
       "      <td>4</td>\n",
       "      <td>-14.162</td>\n",
       "      <td>0</td>\n",
       "      <td>0.0675</td>\n",
       "      <td>0.290000</td>\n",
       "      <td>0.000106</td>\n",
       "      <td>0.9220</td>\n",
       "      <td>...</td>\n",
       "      <td>spotify:track:3ZFBeIyP41HhnALjxWy1pR</td>\n",
       "      <td>https://api.spotify.com/v1/tracks/3ZFBeIyP41Hh...</td>\n",
       "      <td>https://api.spotify.com/v1/audio-analysis/3ZFB...</td>\n",
       "      <td>337413</td>\n",
       "      <td>4</td>\n",
       "      <td>A Day In The Life - Remastered</td>\n",
       "      <td>The Beatles</td>\n",
       "      <td>['beatlesque', 'british invasion', 'classic ro...</td>\n",
       "      <td>84</td>\n",
       "      <td>0</td>\n",
       "    </tr>\n",
       "    <tr>\n",
       "      <th>3</th>\n",
       "      <td>3</td>\n",
       "      <td>0.398</td>\n",
       "      <td>0.413</td>\n",
       "      <td>1</td>\n",
       "      <td>-10.934</td>\n",
       "      <td>1</td>\n",
       "      <td>0.0388</td>\n",
       "      <td>0.082200</td>\n",
       "      <td>0.000025</td>\n",
       "      <td>0.0891</td>\n",
       "      <td>...</td>\n",
       "      <td>spotify:track:5Qt4Cc66g24QWwGP3YYV9y</td>\n",
       "      <td>https://api.spotify.com/v1/tracks/5Qt4Cc66g24Q...</td>\n",
       "      <td>https://api.spotify.com/v1/audio-analysis/5Qt4...</td>\n",
       "      <td>219147</td>\n",
       "      <td>4</td>\n",
       "      <td>Good Vibrations (Mono)</td>\n",
       "      <td>The Beach Boys</td>\n",
       "      <td>['baroque pop', 'classic rock', 'psychedelic r...</td>\n",
       "      <td>78</td>\n",
       "      <td>20</td>\n",
       "    </tr>\n",
       "    <tr>\n",
       "      <th>4</th>\n",
       "      <td>4</td>\n",
       "      <td>0.518</td>\n",
       "      <td>0.756</td>\n",
       "      <td>10</td>\n",
       "      <td>-10.851</td>\n",
       "      <td>1</td>\n",
       "      <td>0.0915</td>\n",
       "      <td>0.735000</td>\n",
       "      <td>0.000062</td>\n",
       "      <td>0.3170</td>\n",
       "      <td>...</td>\n",
       "      <td>spotify:track:7MH2ZclofPlTrZOkPzZKhK</td>\n",
       "      <td>https://api.spotify.com/v1/tracks/7MH2ZclofPlT...</td>\n",
       "      <td>https://api.spotify.com/v1/audio-analysis/7MH2...</td>\n",
       "      <td>160893</td>\n",
       "      <td>4</td>\n",
       "      <td>Johnny B Goode</td>\n",
       "      <td>Chuck Berry</td>\n",
       "      <td>['classic rock', 'rock', 'rock-and-roll', 'roc...</td>\n",
       "      <td>75</td>\n",
       "      <td>0</td>\n",
       "    </tr>\n",
       "    <tr>\n",
       "      <th>...</th>\n",
       "      <td>...</td>\n",
       "      <td>...</td>\n",
       "      <td>...</td>\n",
       "      <td>...</td>\n",
       "      <td>...</td>\n",
       "      <td>...</td>\n",
       "      <td>...</td>\n",
       "      <td>...</td>\n",
       "      <td>...</td>\n",
       "      <td>...</td>\n",
       "      <td>...</td>\n",
       "      <td>...</td>\n",
       "      <td>...</td>\n",
       "      <td>...</td>\n",
       "      <td>...</td>\n",
       "      <td>...</td>\n",
       "      <td>...</td>\n",
       "      <td>...</td>\n",
       "      <td>...</td>\n",
       "      <td>...</td>\n",
       "      <td>...</td>\n",
       "    </tr>\n",
       "    <tr>\n",
       "      <th>1094</th>\n",
       "      <td>1094</td>\n",
       "      <td>0.509</td>\n",
       "      <td>0.680</td>\n",
       "      <td>5</td>\n",
       "      <td>-8.354</td>\n",
       "      <td>1</td>\n",
       "      <td>0.0372</td>\n",
       "      <td>0.360000</td>\n",
       "      <td>0.000000</td>\n",
       "      <td>0.0824</td>\n",
       "      <td>...</td>\n",
       "      <td>spotify:track:7tJQ4Ekp2vN3NlI3vJJW3v</td>\n",
       "      <td>https://api.spotify.com/v1/tracks/7tJQ4Ekp2vN3...</td>\n",
       "      <td>https://api.spotify.com/v1/audio-analysis/7tJQ...</td>\n",
       "      <td>185200</td>\n",
       "      <td>4</td>\n",
       "      <td>I Want You</td>\n",
       "      <td>Bob Dylan</td>\n",
       "      <td>['classic rock', 'country rock', 'folk', 'folk...</td>\n",
       "      <td>72</td>\n",
       "      <td>56</td>\n",
       "    </tr>\n",
       "    <tr>\n",
       "      <th>1095</th>\n",
       "      <td>1095</td>\n",
       "      <td>0.612</td>\n",
       "      <td>0.668</td>\n",
       "      <td>6</td>\n",
       "      <td>-6.143</td>\n",
       "      <td>0</td>\n",
       "      <td>0.0302</td>\n",
       "      <td>0.057900</td>\n",
       "      <td>0.044500</td>\n",
       "      <td>0.3410</td>\n",
       "      <td>...</td>\n",
       "      <td>spotify:track:6EaHDsTWNNJRkCMtptSE6n</td>\n",
       "      <td>https://api.spotify.com/v1/tracks/6EaHDsTWNNJR...</td>\n",
       "      <td>https://api.spotify.com/v1/audio-analysis/6EaH...</td>\n",
       "      <td>315200</td>\n",
       "      <td>4</td>\n",
       "      <td>The Suburbs</td>\n",
       "      <td>Arcade Fire</td>\n",
       "      <td>['baroque pop', 'canadian indie', 'indie rock'...</td>\n",
       "      <td>66</td>\n",
       "      <td>0</td>\n",
       "    </tr>\n",
       "    <tr>\n",
       "      <th>1096</th>\n",
       "      <td>1096</td>\n",
       "      <td>0.651</td>\n",
       "      <td>0.944</td>\n",
       "      <td>2</td>\n",
       "      <td>-5.480</td>\n",
       "      <td>1</td>\n",
       "      <td>0.0381</td>\n",
       "      <td>0.085500</td>\n",
       "      <td>0.145000</td>\n",
       "      <td>0.1160</td>\n",
       "      <td>...</td>\n",
       "      <td>spotify:track:5mWhSQfWEeBZD9YTd4yyFc</td>\n",
       "      <td>https://api.spotify.com/v1/tracks/5mWhSQfWEeBZ...</td>\n",
       "      <td>https://api.spotify.com/v1/audio-analysis/5mWh...</td>\n",
       "      <td>263440</td>\n",
       "      <td>4</td>\n",
       "      <td>Dum Surfer</td>\n",
       "      <td>King Krule</td>\n",
       "      <td>['uk alternative pop']</td>\n",
       "      <td>60</td>\n",
       "      <td>3</td>\n",
       "    </tr>\n",
       "    <tr>\n",
       "      <th>1097</th>\n",
       "      <td>1097</td>\n",
       "      <td>0.492</td>\n",
       "      <td>0.194</td>\n",
       "      <td>6</td>\n",
       "      <td>-14.073</td>\n",
       "      <td>1</td>\n",
       "      <td>0.0577</td>\n",
       "      <td>0.984000</td>\n",
       "      <td>0.104000</td>\n",
       "      <td>0.1820</td>\n",
       "      <td>...</td>\n",
       "      <td>spotify:track:5iltwljBW1H5ScLeeiB9ZB</td>\n",
       "      <td>https://api.spotify.com/v1/tracks/5iltwljBW1H5...</td>\n",
       "      <td>https://api.spotify.com/v1/audio-analysis/5ilt...</td>\n",
       "      <td>203373</td>\n",
       "      <td>4</td>\n",
       "      <td>Black and Tan Fantasy</td>\n",
       "      <td>Duke Ellington &amp; His Washingtonians</td>\n",
       "      <td>['hot jazz']</td>\n",
       "      <td>18</td>\n",
       "      <td>11</td>\n",
       "    </tr>\n",
       "    <tr>\n",
       "      <th>1098</th>\n",
       "      <td>1098</td>\n",
       "      <td>0.589</td>\n",
       "      <td>0.713</td>\n",
       "      <td>0</td>\n",
       "      <td>-6.064</td>\n",
       "      <td>1</td>\n",
       "      <td>0.0407</td>\n",
       "      <td>0.093700</td>\n",
       "      <td>0.001030</td>\n",
       "      <td>0.0568</td>\n",
       "      <td>...</td>\n",
       "      <td>spotify:track:52MN1t40XkISi6QtVzVDJO</td>\n",
       "      <td>https://api.spotify.com/v1/tracks/52MN1t40XkIS...</td>\n",
       "      <td>https://api.spotify.com/v1/audio-analysis/52MN...</td>\n",
       "      <td>203173</td>\n",
       "      <td>4</td>\n",
       "      <td>Our House (Remastered)</td>\n",
       "      <td>Madness</td>\n",
       "      <td>['ska', 'ska revival']</td>\n",
       "      <td>61</td>\n",
       "      <td>0</td>\n",
       "    </tr>\n",
       "  </tbody>\n",
       "</table>\n",
       "<p>1099 rows × 24 columns</p>\n",
       "</div>"
      ],
      "text/plain": [
       "      Unnamed: 0  danceability  energy  key  loudness  mode  speechiness  \\\n",
       "0              0         0.482   0.721    0    -6.839     1       0.0321   \n",
       "1              1         0.485   0.863    1    -9.027     1       0.0495   \n",
       "2              2         0.364   0.457    4   -14.162     0       0.0675   \n",
       "3              3         0.398   0.413    1   -10.934     1       0.0388   \n",
       "4              4         0.518   0.756   10   -10.851     1       0.0915   \n",
       "...          ...           ...     ...  ...       ...   ...          ...   \n",
       "1094        1094         0.509   0.680    5    -8.354     1       0.0372   \n",
       "1095        1095         0.612   0.668    6    -6.143     0       0.0302   \n",
       "1096        1096         0.651   0.944    2    -5.480     1       0.0381   \n",
       "1097        1097         0.492   0.194    6   -14.073     1       0.0577   \n",
       "1098        1098         0.589   0.713    0    -6.064     1       0.0407   \n",
       "\n",
       "      acousticness  instrumentalness  liveness  ...  \\\n",
       "0         0.731000          0.000000    0.1890  ...   \n",
       "1         0.000012          0.016200    0.1380  ...   \n",
       "2         0.290000          0.000106    0.9220  ...   \n",
       "3         0.082200          0.000025    0.0891  ...   \n",
       "4         0.735000          0.000062    0.3170  ...   \n",
       "...            ...               ...       ...  ...   \n",
       "1094      0.360000          0.000000    0.0824  ...   \n",
       "1095      0.057900          0.044500    0.3410  ...   \n",
       "1096      0.085500          0.145000    0.1160  ...   \n",
       "1097      0.984000          0.104000    0.1820  ...   \n",
       "1098      0.093700          0.001030    0.0568  ...   \n",
       "\n",
       "                                       uri  \\\n",
       "0     spotify:track:3AhXZa8sUQht0UEdBJgpGc   \n",
       "1     spotify:track:3oTlkzk1OtrhH8wBAduVEi   \n",
       "2     spotify:track:3ZFBeIyP41HhnALjxWy1pR   \n",
       "3     spotify:track:5Qt4Cc66g24QWwGP3YYV9y   \n",
       "4     spotify:track:7MH2ZclofPlTrZOkPzZKhK   \n",
       "...                                    ...   \n",
       "1094  spotify:track:7tJQ4Ekp2vN3NlI3vJJW3v   \n",
       "1095  spotify:track:6EaHDsTWNNJRkCMtptSE6n   \n",
       "1096  spotify:track:5mWhSQfWEeBZD9YTd4yyFc   \n",
       "1097  spotify:track:5iltwljBW1H5ScLeeiB9ZB   \n",
       "1098  spotify:track:52MN1t40XkISi6QtVzVDJO   \n",
       "\n",
       "                                             track_href  \\\n",
       "0     https://api.spotify.com/v1/tracks/3AhXZa8sUQht...   \n",
       "1     https://api.spotify.com/v1/tracks/3oTlkzk1Otrh...   \n",
       "2     https://api.spotify.com/v1/tracks/3ZFBeIyP41Hh...   \n",
       "3     https://api.spotify.com/v1/tracks/5Qt4Cc66g24Q...   \n",
       "4     https://api.spotify.com/v1/tracks/7MH2ZclofPlT...   \n",
       "...                                                 ...   \n",
       "1094  https://api.spotify.com/v1/tracks/7tJQ4Ekp2vN3...   \n",
       "1095  https://api.spotify.com/v1/tracks/6EaHDsTWNNJR...   \n",
       "1096  https://api.spotify.com/v1/tracks/5mWhSQfWEeBZ...   \n",
       "1097  https://api.spotify.com/v1/tracks/5iltwljBW1H5...   \n",
       "1098  https://api.spotify.com/v1/tracks/52MN1t40XkIS...   \n",
       "\n",
       "                                           analysis_url duration_ms  \\\n",
       "0     https://api.spotify.com/v1/audio-analysis/3AhX...      369600   \n",
       "1     https://api.spotify.com/v1/audio-analysis/3oTl...      300977   \n",
       "2     https://api.spotify.com/v1/audio-analysis/3ZFB...      337413   \n",
       "3     https://api.spotify.com/v1/audio-analysis/5Qt4...      219147   \n",
       "4     https://api.spotify.com/v1/audio-analysis/7MH2...      160893   \n",
       "...                                                 ...         ...   \n",
       "1094  https://api.spotify.com/v1/audio-analysis/7tJQ...      185200   \n",
       "1095  https://api.spotify.com/v1/audio-analysis/6EaH...      315200   \n",
       "1096  https://api.spotify.com/v1/audio-analysis/5mWh...      263440   \n",
       "1097  https://api.spotify.com/v1/audio-analysis/5ilt...      203373   \n",
       "1098  https://api.spotify.com/v1/audio-analysis/52MN...      203173   \n",
       "\n",
       "     time_signature                       song_name  \\\n",
       "0                 4            Like a Rolling Stone   \n",
       "1                 4         Smells Like Teen Spirit   \n",
       "2                 4  A Day In The Life - Remastered   \n",
       "3                 4          Good Vibrations (Mono)   \n",
       "4                 4                  Johnny B Goode   \n",
       "...             ...                             ...   \n",
       "1094              4                      I Want You   \n",
       "1095              4                     The Suburbs   \n",
       "1096              4                      Dum Surfer   \n",
       "1097              4           Black and Tan Fantasy   \n",
       "1098              4          Our House (Remastered)   \n",
       "\n",
       "                              artist_name  \\\n",
       "0                               Bob Dylan   \n",
       "1                                 Nirvana   \n",
       "2                             The Beatles   \n",
       "3                          The Beach Boys   \n",
       "4                             Chuck Berry   \n",
       "...                                   ...   \n",
       "1094                            Bob Dylan   \n",
       "1095                          Arcade Fire   \n",
       "1096                           King Krule   \n",
       "1097  Duke Ellington & His Washingtonians   \n",
       "1098                              Madness   \n",
       "\n",
       "                                          artist_genres  artist_pop  \\\n",
       "0     ['classic rock', 'country rock', 'folk', 'folk...          72   \n",
       "1                  ['grunge', 'permanent wave', 'rock']          82   \n",
       "2     ['beatlesque', 'british invasion', 'classic ro...          84   \n",
       "3     ['baroque pop', 'classic rock', 'psychedelic r...          78   \n",
       "4     ['classic rock', 'rock', 'rock-and-roll', 'roc...          75   \n",
       "...                                                 ...         ...   \n",
       "1094  ['classic rock', 'country rock', 'folk', 'folk...          72   \n",
       "1095  ['baroque pop', 'canadian indie', 'indie rock'...          66   \n",
       "1096                             ['uk alternative pop']          60   \n",
       "1097                                       ['hot jazz']          18   \n",
       "1098                             ['ska', 'ska revival']          61   \n",
       "\n",
       "     song_popularity  \n",
       "0                 68  \n",
       "1                  0  \n",
       "2                  0  \n",
       "3                 20  \n",
       "4                  0  \n",
       "...              ...  \n",
       "1094              56  \n",
       "1095               0  \n",
       "1096               3  \n",
       "1097              11  \n",
       "1098               0  \n",
       "\n",
       "[1099 rows x 24 columns]"
      ]
     },
     "execution_count": 2,
     "metadata": {},
     "output_type": "execute_result"
    }
   ],
   "source": [
    "sample_p = pd.read_csv('./data/sample_music')\n",
    "sample_p"
   ]
  },
  {
   "cell_type": "code",
   "execution_count": 172,
   "id": "99cf2a75",
   "metadata": {},
   "outputs": [
    {
     "data": {
      "text/plain": [
       "\"['classic rock', 'country rock', 'folk', 'folk rock', 'rock', 'roots rock', 'singer-songwriter']\""
      ]
     },
     "execution_count": 172,
     "metadata": {},
     "output_type": "execute_result"
    }
   ],
   "source": [
    "sample_p['artist_genres'][0]"
   ]
  },
  {
   "cell_type": "code",
   "execution_count": 175,
   "id": "82f727db",
   "metadata": {},
   "outputs": [],
   "source": [
    "s = sample_p['artist_genres']\n",
    "new_column=s.str.strip('\"\"[]')"
   ]
  },
  {
   "cell_type": "code",
   "execution_count": 184,
   "id": "59b64fc6",
   "metadata": {},
   "outputs": [],
   "source": [
    "new_column2=new_column.str.split(\",\")"
   ]
  },
  {
   "cell_type": "code",
   "execution_count": 186,
   "id": "1925ce45",
   "metadata": {},
   "outputs": [],
   "source": [
    "sample_p['artist_genres']=new_column2.str[0]"
   ]
  },
  {
   "cell_type": "code",
   "execution_count": 187,
   "id": "091573d6",
   "metadata": {},
   "outputs": [
    {
     "data": {
      "text/plain": [
       "0             'classic rock'\n",
       "1                   'grunge'\n",
       "2               'beatlesque'\n",
       "3              'baroque pop'\n",
       "4             'classic rock'\n",
       "                ...         \n",
       "1094          'classic rock'\n",
       "1095           'baroque pop'\n",
       "1096    'uk alternative pop'\n",
       "1097              'hot jazz'\n",
       "1098                   'ska'\n",
       "Name: artist_genres, Length: 1099, dtype: object"
      ]
     },
     "execution_count": 187,
     "metadata": {},
     "output_type": "execute_result"
    }
   ],
   "source": [
    "sample_p['artist_genres']"
   ]
  },
  {
   "cell_type": "code",
   "execution_count": 188,
   "id": "72cc1bb1",
   "metadata": {},
   "outputs": [
    {
     "data": {
      "text/html": [
       "<div>\n",
       "<style scoped>\n",
       "    .dataframe tbody tr th:only-of-type {\n",
       "        vertical-align: middle;\n",
       "    }\n",
       "\n",
       "    .dataframe tbody tr th {\n",
       "        vertical-align: top;\n",
       "    }\n",
       "\n",
       "    .dataframe thead th {\n",
       "        text-align: right;\n",
       "    }\n",
       "</style>\n",
       "<table border=\"1\" class=\"dataframe\">\n",
       "  <thead>\n",
       "    <tr style=\"text-align: right;\">\n",
       "      <th></th>\n",
       "      <th>Unnamed: 0</th>\n",
       "      <th>danceability</th>\n",
       "      <th>energy</th>\n",
       "      <th>key</th>\n",
       "      <th>loudness</th>\n",
       "      <th>mode</th>\n",
       "      <th>speechiness</th>\n",
       "      <th>acousticness</th>\n",
       "      <th>instrumentalness</th>\n",
       "      <th>liveness</th>\n",
       "      <th>...</th>\n",
       "      <th>uri</th>\n",
       "      <th>track_href</th>\n",
       "      <th>analysis_url</th>\n",
       "      <th>duration_ms</th>\n",
       "      <th>time_signature</th>\n",
       "      <th>song_name</th>\n",
       "      <th>artist_name</th>\n",
       "      <th>artist_genres</th>\n",
       "      <th>artist_pop</th>\n",
       "      <th>song_popularity</th>\n",
       "    </tr>\n",
       "  </thead>\n",
       "  <tbody>\n",
       "    <tr>\n",
       "      <th>0</th>\n",
       "      <td>0</td>\n",
       "      <td>0.482</td>\n",
       "      <td>0.721</td>\n",
       "      <td>0</td>\n",
       "      <td>-6.839</td>\n",
       "      <td>1</td>\n",
       "      <td>0.0321</td>\n",
       "      <td>0.731000</td>\n",
       "      <td>0.000000</td>\n",
       "      <td>0.1890</td>\n",
       "      <td>...</td>\n",
       "      <td>spotify:track:3AhXZa8sUQht0UEdBJgpGc</td>\n",
       "      <td>https://api.spotify.com/v1/tracks/3AhXZa8sUQht...</td>\n",
       "      <td>https://api.spotify.com/v1/audio-analysis/3AhX...</td>\n",
       "      <td>369600</td>\n",
       "      <td>4</td>\n",
       "      <td>Like a Rolling Stone</td>\n",
       "      <td>Bob Dylan</td>\n",
       "      <td>'classic rock'</td>\n",
       "      <td>72</td>\n",
       "      <td>68</td>\n",
       "    </tr>\n",
       "    <tr>\n",
       "      <th>1</th>\n",
       "      <td>1</td>\n",
       "      <td>0.485</td>\n",
       "      <td>0.863</td>\n",
       "      <td>1</td>\n",
       "      <td>-9.027</td>\n",
       "      <td>1</td>\n",
       "      <td>0.0495</td>\n",
       "      <td>0.000012</td>\n",
       "      <td>0.016200</td>\n",
       "      <td>0.1380</td>\n",
       "      <td>...</td>\n",
       "      <td>spotify:track:3oTlkzk1OtrhH8wBAduVEi</td>\n",
       "      <td>https://api.spotify.com/v1/tracks/3oTlkzk1Otrh...</td>\n",
       "      <td>https://api.spotify.com/v1/audio-analysis/3oTl...</td>\n",
       "      <td>300977</td>\n",
       "      <td>4</td>\n",
       "      <td>Smells Like Teen Spirit</td>\n",
       "      <td>Nirvana</td>\n",
       "      <td>'grunge'</td>\n",
       "      <td>82</td>\n",
       "      <td>0</td>\n",
       "    </tr>\n",
       "    <tr>\n",
       "      <th>2</th>\n",
       "      <td>2</td>\n",
       "      <td>0.364</td>\n",
       "      <td>0.457</td>\n",
       "      <td>4</td>\n",
       "      <td>-14.162</td>\n",
       "      <td>0</td>\n",
       "      <td>0.0675</td>\n",
       "      <td>0.290000</td>\n",
       "      <td>0.000106</td>\n",
       "      <td>0.9220</td>\n",
       "      <td>...</td>\n",
       "      <td>spotify:track:3ZFBeIyP41HhnALjxWy1pR</td>\n",
       "      <td>https://api.spotify.com/v1/tracks/3ZFBeIyP41Hh...</td>\n",
       "      <td>https://api.spotify.com/v1/audio-analysis/3ZFB...</td>\n",
       "      <td>337413</td>\n",
       "      <td>4</td>\n",
       "      <td>A Day In The Life - Remastered</td>\n",
       "      <td>The Beatles</td>\n",
       "      <td>'beatlesque'</td>\n",
       "      <td>84</td>\n",
       "      <td>0</td>\n",
       "    </tr>\n",
       "    <tr>\n",
       "      <th>3</th>\n",
       "      <td>3</td>\n",
       "      <td>0.398</td>\n",
       "      <td>0.413</td>\n",
       "      <td>1</td>\n",
       "      <td>-10.934</td>\n",
       "      <td>1</td>\n",
       "      <td>0.0388</td>\n",
       "      <td>0.082200</td>\n",
       "      <td>0.000025</td>\n",
       "      <td>0.0891</td>\n",
       "      <td>...</td>\n",
       "      <td>spotify:track:5Qt4Cc66g24QWwGP3YYV9y</td>\n",
       "      <td>https://api.spotify.com/v1/tracks/5Qt4Cc66g24Q...</td>\n",
       "      <td>https://api.spotify.com/v1/audio-analysis/5Qt4...</td>\n",
       "      <td>219147</td>\n",
       "      <td>4</td>\n",
       "      <td>Good Vibrations (Mono)</td>\n",
       "      <td>The Beach Boys</td>\n",
       "      <td>'baroque pop'</td>\n",
       "      <td>78</td>\n",
       "      <td>20</td>\n",
       "    </tr>\n",
       "    <tr>\n",
       "      <th>4</th>\n",
       "      <td>4</td>\n",
       "      <td>0.518</td>\n",
       "      <td>0.756</td>\n",
       "      <td>10</td>\n",
       "      <td>-10.851</td>\n",
       "      <td>1</td>\n",
       "      <td>0.0915</td>\n",
       "      <td>0.735000</td>\n",
       "      <td>0.000062</td>\n",
       "      <td>0.3170</td>\n",
       "      <td>...</td>\n",
       "      <td>spotify:track:7MH2ZclofPlTrZOkPzZKhK</td>\n",
       "      <td>https://api.spotify.com/v1/tracks/7MH2ZclofPlT...</td>\n",
       "      <td>https://api.spotify.com/v1/audio-analysis/7MH2...</td>\n",
       "      <td>160893</td>\n",
       "      <td>4</td>\n",
       "      <td>Johnny B Goode</td>\n",
       "      <td>Chuck Berry</td>\n",
       "      <td>'classic rock'</td>\n",
       "      <td>75</td>\n",
       "      <td>0</td>\n",
       "    </tr>\n",
       "    <tr>\n",
       "      <th>...</th>\n",
       "      <td>...</td>\n",
       "      <td>...</td>\n",
       "      <td>...</td>\n",
       "      <td>...</td>\n",
       "      <td>...</td>\n",
       "      <td>...</td>\n",
       "      <td>...</td>\n",
       "      <td>...</td>\n",
       "      <td>...</td>\n",
       "      <td>...</td>\n",
       "      <td>...</td>\n",
       "      <td>...</td>\n",
       "      <td>...</td>\n",
       "      <td>...</td>\n",
       "      <td>...</td>\n",
       "      <td>...</td>\n",
       "      <td>...</td>\n",
       "      <td>...</td>\n",
       "      <td>...</td>\n",
       "      <td>...</td>\n",
       "      <td>...</td>\n",
       "    </tr>\n",
       "    <tr>\n",
       "      <th>1094</th>\n",
       "      <td>1094</td>\n",
       "      <td>0.509</td>\n",
       "      <td>0.680</td>\n",
       "      <td>5</td>\n",
       "      <td>-8.354</td>\n",
       "      <td>1</td>\n",
       "      <td>0.0372</td>\n",
       "      <td>0.360000</td>\n",
       "      <td>0.000000</td>\n",
       "      <td>0.0824</td>\n",
       "      <td>...</td>\n",
       "      <td>spotify:track:7tJQ4Ekp2vN3NlI3vJJW3v</td>\n",
       "      <td>https://api.spotify.com/v1/tracks/7tJQ4Ekp2vN3...</td>\n",
       "      <td>https://api.spotify.com/v1/audio-analysis/7tJQ...</td>\n",
       "      <td>185200</td>\n",
       "      <td>4</td>\n",
       "      <td>I Want You</td>\n",
       "      <td>Bob Dylan</td>\n",
       "      <td>'classic rock'</td>\n",
       "      <td>72</td>\n",
       "      <td>56</td>\n",
       "    </tr>\n",
       "    <tr>\n",
       "      <th>1095</th>\n",
       "      <td>1095</td>\n",
       "      <td>0.612</td>\n",
       "      <td>0.668</td>\n",
       "      <td>6</td>\n",
       "      <td>-6.143</td>\n",
       "      <td>0</td>\n",
       "      <td>0.0302</td>\n",
       "      <td>0.057900</td>\n",
       "      <td>0.044500</td>\n",
       "      <td>0.3410</td>\n",
       "      <td>...</td>\n",
       "      <td>spotify:track:6EaHDsTWNNJRkCMtptSE6n</td>\n",
       "      <td>https://api.spotify.com/v1/tracks/6EaHDsTWNNJR...</td>\n",
       "      <td>https://api.spotify.com/v1/audio-analysis/6EaH...</td>\n",
       "      <td>315200</td>\n",
       "      <td>4</td>\n",
       "      <td>The Suburbs</td>\n",
       "      <td>Arcade Fire</td>\n",
       "      <td>'baroque pop'</td>\n",
       "      <td>66</td>\n",
       "      <td>0</td>\n",
       "    </tr>\n",
       "    <tr>\n",
       "      <th>1096</th>\n",
       "      <td>1096</td>\n",
       "      <td>0.651</td>\n",
       "      <td>0.944</td>\n",
       "      <td>2</td>\n",
       "      <td>-5.480</td>\n",
       "      <td>1</td>\n",
       "      <td>0.0381</td>\n",
       "      <td>0.085500</td>\n",
       "      <td>0.145000</td>\n",
       "      <td>0.1160</td>\n",
       "      <td>...</td>\n",
       "      <td>spotify:track:5mWhSQfWEeBZD9YTd4yyFc</td>\n",
       "      <td>https://api.spotify.com/v1/tracks/5mWhSQfWEeBZ...</td>\n",
       "      <td>https://api.spotify.com/v1/audio-analysis/5mWh...</td>\n",
       "      <td>263440</td>\n",
       "      <td>4</td>\n",
       "      <td>Dum Surfer</td>\n",
       "      <td>King Krule</td>\n",
       "      <td>'uk alternative pop'</td>\n",
       "      <td>60</td>\n",
       "      <td>3</td>\n",
       "    </tr>\n",
       "    <tr>\n",
       "      <th>1097</th>\n",
       "      <td>1097</td>\n",
       "      <td>0.492</td>\n",
       "      <td>0.194</td>\n",
       "      <td>6</td>\n",
       "      <td>-14.073</td>\n",
       "      <td>1</td>\n",
       "      <td>0.0577</td>\n",
       "      <td>0.984000</td>\n",
       "      <td>0.104000</td>\n",
       "      <td>0.1820</td>\n",
       "      <td>...</td>\n",
       "      <td>spotify:track:5iltwljBW1H5ScLeeiB9ZB</td>\n",
       "      <td>https://api.spotify.com/v1/tracks/5iltwljBW1H5...</td>\n",
       "      <td>https://api.spotify.com/v1/audio-analysis/5ilt...</td>\n",
       "      <td>203373</td>\n",
       "      <td>4</td>\n",
       "      <td>Black and Tan Fantasy</td>\n",
       "      <td>Duke Ellington &amp; His Washingtonians</td>\n",
       "      <td>'hot jazz'</td>\n",
       "      <td>18</td>\n",
       "      <td>11</td>\n",
       "    </tr>\n",
       "    <tr>\n",
       "      <th>1098</th>\n",
       "      <td>1098</td>\n",
       "      <td>0.589</td>\n",
       "      <td>0.713</td>\n",
       "      <td>0</td>\n",
       "      <td>-6.064</td>\n",
       "      <td>1</td>\n",
       "      <td>0.0407</td>\n",
       "      <td>0.093700</td>\n",
       "      <td>0.001030</td>\n",
       "      <td>0.0568</td>\n",
       "      <td>...</td>\n",
       "      <td>spotify:track:52MN1t40XkISi6QtVzVDJO</td>\n",
       "      <td>https://api.spotify.com/v1/tracks/52MN1t40XkIS...</td>\n",
       "      <td>https://api.spotify.com/v1/audio-analysis/52MN...</td>\n",
       "      <td>203173</td>\n",
       "      <td>4</td>\n",
       "      <td>Our House (Remastered)</td>\n",
       "      <td>Madness</td>\n",
       "      <td>'ska'</td>\n",
       "      <td>61</td>\n",
       "      <td>0</td>\n",
       "    </tr>\n",
       "  </tbody>\n",
       "</table>\n",
       "<p>1099 rows × 24 columns</p>\n",
       "</div>"
      ],
      "text/plain": [
       "      Unnamed: 0  danceability  energy  key  loudness  mode  speechiness  \\\n",
       "0              0         0.482   0.721    0    -6.839     1       0.0321   \n",
       "1              1         0.485   0.863    1    -9.027     1       0.0495   \n",
       "2              2         0.364   0.457    4   -14.162     0       0.0675   \n",
       "3              3         0.398   0.413    1   -10.934     1       0.0388   \n",
       "4              4         0.518   0.756   10   -10.851     1       0.0915   \n",
       "...          ...           ...     ...  ...       ...   ...          ...   \n",
       "1094        1094         0.509   0.680    5    -8.354     1       0.0372   \n",
       "1095        1095         0.612   0.668    6    -6.143     0       0.0302   \n",
       "1096        1096         0.651   0.944    2    -5.480     1       0.0381   \n",
       "1097        1097         0.492   0.194    6   -14.073     1       0.0577   \n",
       "1098        1098         0.589   0.713    0    -6.064     1       0.0407   \n",
       "\n",
       "      acousticness  instrumentalness  liveness  ...  \\\n",
       "0         0.731000          0.000000    0.1890  ...   \n",
       "1         0.000012          0.016200    0.1380  ...   \n",
       "2         0.290000          0.000106    0.9220  ...   \n",
       "3         0.082200          0.000025    0.0891  ...   \n",
       "4         0.735000          0.000062    0.3170  ...   \n",
       "...            ...               ...       ...  ...   \n",
       "1094      0.360000          0.000000    0.0824  ...   \n",
       "1095      0.057900          0.044500    0.3410  ...   \n",
       "1096      0.085500          0.145000    0.1160  ...   \n",
       "1097      0.984000          0.104000    0.1820  ...   \n",
       "1098      0.093700          0.001030    0.0568  ...   \n",
       "\n",
       "                                       uri  \\\n",
       "0     spotify:track:3AhXZa8sUQht0UEdBJgpGc   \n",
       "1     spotify:track:3oTlkzk1OtrhH8wBAduVEi   \n",
       "2     spotify:track:3ZFBeIyP41HhnALjxWy1pR   \n",
       "3     spotify:track:5Qt4Cc66g24QWwGP3YYV9y   \n",
       "4     spotify:track:7MH2ZclofPlTrZOkPzZKhK   \n",
       "...                                    ...   \n",
       "1094  spotify:track:7tJQ4Ekp2vN3NlI3vJJW3v   \n",
       "1095  spotify:track:6EaHDsTWNNJRkCMtptSE6n   \n",
       "1096  spotify:track:5mWhSQfWEeBZD9YTd4yyFc   \n",
       "1097  spotify:track:5iltwljBW1H5ScLeeiB9ZB   \n",
       "1098  spotify:track:52MN1t40XkISi6QtVzVDJO   \n",
       "\n",
       "                                             track_href  \\\n",
       "0     https://api.spotify.com/v1/tracks/3AhXZa8sUQht...   \n",
       "1     https://api.spotify.com/v1/tracks/3oTlkzk1Otrh...   \n",
       "2     https://api.spotify.com/v1/tracks/3ZFBeIyP41Hh...   \n",
       "3     https://api.spotify.com/v1/tracks/5Qt4Cc66g24Q...   \n",
       "4     https://api.spotify.com/v1/tracks/7MH2ZclofPlT...   \n",
       "...                                                 ...   \n",
       "1094  https://api.spotify.com/v1/tracks/7tJQ4Ekp2vN3...   \n",
       "1095  https://api.spotify.com/v1/tracks/6EaHDsTWNNJR...   \n",
       "1096  https://api.spotify.com/v1/tracks/5mWhSQfWEeBZ...   \n",
       "1097  https://api.spotify.com/v1/tracks/5iltwljBW1H5...   \n",
       "1098  https://api.spotify.com/v1/tracks/52MN1t40XkIS...   \n",
       "\n",
       "                                           analysis_url duration_ms  \\\n",
       "0     https://api.spotify.com/v1/audio-analysis/3AhX...      369600   \n",
       "1     https://api.spotify.com/v1/audio-analysis/3oTl...      300977   \n",
       "2     https://api.spotify.com/v1/audio-analysis/3ZFB...      337413   \n",
       "3     https://api.spotify.com/v1/audio-analysis/5Qt4...      219147   \n",
       "4     https://api.spotify.com/v1/audio-analysis/7MH2...      160893   \n",
       "...                                                 ...         ...   \n",
       "1094  https://api.spotify.com/v1/audio-analysis/7tJQ...      185200   \n",
       "1095  https://api.spotify.com/v1/audio-analysis/6EaH...      315200   \n",
       "1096  https://api.spotify.com/v1/audio-analysis/5mWh...      263440   \n",
       "1097  https://api.spotify.com/v1/audio-analysis/5ilt...      203373   \n",
       "1098  https://api.spotify.com/v1/audio-analysis/52MN...      203173   \n",
       "\n",
       "     time_signature                       song_name  \\\n",
       "0                 4            Like a Rolling Stone   \n",
       "1                 4         Smells Like Teen Spirit   \n",
       "2                 4  A Day In The Life - Remastered   \n",
       "3                 4          Good Vibrations (Mono)   \n",
       "4                 4                  Johnny B Goode   \n",
       "...             ...                             ...   \n",
       "1094              4                      I Want You   \n",
       "1095              4                     The Suburbs   \n",
       "1096              4                      Dum Surfer   \n",
       "1097              4           Black and Tan Fantasy   \n",
       "1098              4          Our House (Remastered)   \n",
       "\n",
       "                              artist_name         artist_genres  artist_pop  \\\n",
       "0                               Bob Dylan        'classic rock'          72   \n",
       "1                                 Nirvana              'grunge'          82   \n",
       "2                             The Beatles          'beatlesque'          84   \n",
       "3                          The Beach Boys         'baroque pop'          78   \n",
       "4                             Chuck Berry        'classic rock'          75   \n",
       "...                                   ...                   ...         ...   \n",
       "1094                            Bob Dylan        'classic rock'          72   \n",
       "1095                          Arcade Fire         'baroque pop'          66   \n",
       "1096                           King Krule  'uk alternative pop'          60   \n",
       "1097  Duke Ellington & His Washingtonians            'hot jazz'          18   \n",
       "1098                              Madness                 'ska'          61   \n",
       "\n",
       "     song_popularity  \n",
       "0                 68  \n",
       "1                  0  \n",
       "2                  0  \n",
       "3                 20  \n",
       "4                  0  \n",
       "...              ...  \n",
       "1094              56  \n",
       "1095               0  \n",
       "1096               3  \n",
       "1097              11  \n",
       "1098               0  \n",
       "\n",
       "[1099 rows x 24 columns]"
      ]
     },
     "execution_count": 188,
     "metadata": {},
     "output_type": "execute_result"
    }
   ],
   "source": [
    "sample_p"
   ]
  },
  {
   "cell_type": "code",
   "execution_count": 189,
   "id": "728422a1",
   "metadata": {
    "scrolled": true
   },
   "outputs": [
    {
     "name": "stdout",
     "output_type": "stream",
     "text": [
      "<class 'pandas.core.frame.DataFrame'>\n",
      "RangeIndex: 1099 entries, 0 to 1098\n",
      "Data columns (total 18 columns):\n",
      " #   Column            Non-Null Count  Dtype  \n",
      "---  ------            --------------  -----  \n",
      " 0   danceability      1099 non-null   float64\n",
      " 1   energy            1099 non-null   float64\n",
      " 2   key               1099 non-null   int64  \n",
      " 3   loudness          1099 non-null   float64\n",
      " 4   mode              1099 non-null   int64  \n",
      " 5   speechiness       1099 non-null   float64\n",
      " 6   acousticness      1099 non-null   float64\n",
      " 7   instrumentalness  1099 non-null   float64\n",
      " 8   liveness          1099 non-null   float64\n",
      " 9   valence           1099 non-null   float64\n",
      " 10  tempo             1099 non-null   float64\n",
      " 11  duration_ms       1099 non-null   int64  \n",
      " 12  time_signature    1099 non-null   int64  \n",
      " 13  song_name         1099 non-null   object \n",
      " 14  artist_name       1099 non-null   object \n",
      " 15  artist_genres     1099 non-null   object \n",
      " 16  artist_pop        1099 non-null   int64  \n",
      " 17  song_popularity   1099 non-null   int64  \n",
      "dtypes: float64(9), int64(6), object(3)\n",
      "memory usage: 154.7+ KB\n"
     ]
    }
   ],
   "source": [
    "clean_data= sample_p.drop(columns=['Unnamed: 0','uri','track_href','analysis_url','type', 'id'])\n",
    "clean_data\n",
    "clean_data.info()"
   ]
  },
  {
   "cell_type": "code",
   "execution_count": 190,
   "id": "58e80599",
   "metadata": {},
   "outputs": [],
   "source": [
    "#Create genre list\n",
    "def genre_list(self):\n",
    "    split = self.strip().split(',')\n",
    "    clean = [x.strip(\" [']\") for x in split]\n",
    "    return clean"
   ]
  },
  {
   "cell_type": "code",
   "execution_count": 191,
   "id": "8a7e4671",
   "metadata": {},
   "outputs": [],
   "source": [
    "# convert the df to list\n",
    "clean_data['artist_genres'] = clean_data['artist_genres'].apply(lambda x: genre_list(x))"
   ]
  },
  {
   "cell_type": "code",
   "execution_count": 192,
   "id": "0d8dd816",
   "metadata": {},
   "outputs": [
    {
     "name": "stdout",
     "output_type": "stream",
     "text": [
      "['classic rock', 'grunge', 'beatlesque', 'baroque pop', 'classic soul', 'adult standards', 'british invasion', 'pop', 'rock-and-roll', 'album rock', 'alternative rock', 'atl hip hop', 'punk', 'dance pop', 'bronx hip hop', 'art rock', 'funk', 'acid rock', 'classic garage rock', 'madchester', 'downtempo', 'conscious hip hop', 'art punk', 'east coast hip hop', 'art pop', 'alternative dance', 'bubblegum pop', 'classic girl group', 'lilith', 'glam metal', 'blues rock', 'chicago rap', 'electro', 'piano rock', 'irish rock', 'europop', 'disco', 'hip hop', 'british soul', 'reggae', 'french shoegaze', 'honky tonk', 'barbadian pop', 'mellow gold', 'candy pop', 'canadian hip hop', 'soul', '', 'american folk revival', 'garage rock', 'australian psych', 'afrofuturism', 'g funk', 'new romantic', 'australian dance', 'brooklyn indie', 'dusseldorf electronic', 'britpop', 'arkansas country', 'mod revival', 'blues', 'chicago soul', 'boston rock', 'british blues', 'alternative metal', 'bossa nova', 'brill building pop', 'doo-wop', 'detroit hip hop', 'alternative r&b', 'big beat', 'alternative pop', 'ska', 'acoustic blues', 'australian rock', 'canadian singer-songwriter', 'ambient', 'chanson', 'hard rock', 'cosmic american', 'new wave', 'hip house', 'hot jazz', 'bebop', 'classic dubstep', 'big band', 'canadian pop', 'dark pop', 'classic country pop', 'acoustic punk', 'early us punk', 'new wave pop', 'australian indie', 'alternative hip hop', 'indie pop', 'electronica', 'dance rock', 'albuquerque indie', 'eau claire indie', 'glam rock', 'afrobeat', 'permanent wave', 'glam punk', 'folk rock', 'cool jazz', 'indie rock', 'dub', 'belgian singer-songwriter', 'alternative americana', 'country', 'lgbtq+ hip hop', 'r&b en espanol', 'chamber pop', 'bedroom pop', 'celtic punk', 'gospel', 'canadian indie', 'alternative country', 'folk', 'bluegrass', 'early synthpop', 'dreamo', 'modern alternative rock', 'space age pop', 'experimental rock', 'contemporary r&b', 'bassline', 'pub rock', 'classic uk pop', 'african-american classical', 'canadian contemporary r&b', 'boy band', 'modern rock', 'motown', 'pop rock', 'british folk', 'harlem renaissance', 'dirty south rap', 'disney', 'jazz blues', 'rap', 'acid house', 'edm', 'ambient pop', 'anti-folk', 'french jazz', 'contemporary post-bop', 'atmospheric dnb', 'gangster rap', 'birmingham hip hop', 'appalachian folk', 'ambient house', 'rhythm and blues', 'indie punk', 'bakersfield sound', 'bluegrass gospel', 'surf music', 'uk alternative pop']\n"
     ]
    }
   ],
   "source": [
    "#finding all the genres in the data set\n",
    "all_genres = []\n",
    "for row in clean_data.artist_genres:\n",
    "    for x in row:\n",
    "        if x not in all_genres:\n",
    "            all_genres.append(x)\n",
    "        \n",
    "print(all_genres)\n",
    "    "
   ]
  },
  {
   "cell_type": "code",
   "execution_count": 193,
   "id": "23feac88",
   "metadata": {},
   "outputs": [
    {
     "data": {
      "text/html": [
       "<div>\n",
       "<style scoped>\n",
       "    .dataframe tbody tr th:only-of-type {\n",
       "        vertical-align: middle;\n",
       "    }\n",
       "\n",
       "    .dataframe tbody tr th {\n",
       "        vertical-align: top;\n",
       "    }\n",
       "\n",
       "    .dataframe thead th {\n",
       "        text-align: right;\n",
       "    }\n",
       "</style>\n",
       "<table border=\"1\" class=\"dataframe\">\n",
       "  <thead>\n",
       "    <tr style=\"text-align: right;\">\n",
       "      <th></th>\n",
       "      <th>danceability</th>\n",
       "      <th>energy</th>\n",
       "      <th>key</th>\n",
       "      <th>loudness</th>\n",
       "      <th>mode</th>\n",
       "      <th>speechiness</th>\n",
       "      <th>acousticness</th>\n",
       "      <th>instrumentalness</th>\n",
       "      <th>liveness</th>\n",
       "      <th>valence</th>\n",
       "      <th>tempo</th>\n",
       "      <th>duration_ms</th>\n",
       "      <th>time_signature</th>\n",
       "      <th>song_name</th>\n",
       "      <th>artist_name</th>\n",
       "      <th>artist_genres</th>\n",
       "      <th>artist_pop</th>\n",
       "      <th>song_popularity</th>\n",
       "    </tr>\n",
       "  </thead>\n",
       "  <tbody>\n",
       "    <tr>\n",
       "      <th>0</th>\n",
       "      <td>0.482</td>\n",
       "      <td>0.721</td>\n",
       "      <td>0</td>\n",
       "      <td>-6.839</td>\n",
       "      <td>1</td>\n",
       "      <td>0.0321</td>\n",
       "      <td>0.731000</td>\n",
       "      <td>0.000000</td>\n",
       "      <td>0.1890</td>\n",
       "      <td>0.557</td>\n",
       "      <td>95.263</td>\n",
       "      <td>369600</td>\n",
       "      <td>4</td>\n",
       "      <td>Like a Rolling Stone</td>\n",
       "      <td>Bob Dylan</td>\n",
       "      <td>[classic rock]</td>\n",
       "      <td>72</td>\n",
       "      <td>68</td>\n",
       "    </tr>\n",
       "    <tr>\n",
       "      <th>1</th>\n",
       "      <td>0.485</td>\n",
       "      <td>0.863</td>\n",
       "      <td>1</td>\n",
       "      <td>-9.027</td>\n",
       "      <td>1</td>\n",
       "      <td>0.0495</td>\n",
       "      <td>0.000012</td>\n",
       "      <td>0.016200</td>\n",
       "      <td>0.1380</td>\n",
       "      <td>0.767</td>\n",
       "      <td>116.835</td>\n",
       "      <td>300977</td>\n",
       "      <td>4</td>\n",
       "      <td>Smells Like Teen Spirit</td>\n",
       "      <td>Nirvana</td>\n",
       "      <td>[grunge]</td>\n",
       "      <td>82</td>\n",
       "      <td>0</td>\n",
       "    </tr>\n",
       "    <tr>\n",
       "      <th>2</th>\n",
       "      <td>0.364</td>\n",
       "      <td>0.457</td>\n",
       "      <td>4</td>\n",
       "      <td>-14.162</td>\n",
       "      <td>0</td>\n",
       "      <td>0.0675</td>\n",
       "      <td>0.290000</td>\n",
       "      <td>0.000106</td>\n",
       "      <td>0.9220</td>\n",
       "      <td>0.175</td>\n",
       "      <td>163.219</td>\n",
       "      <td>337413</td>\n",
       "      <td>4</td>\n",
       "      <td>A Day In The Life - Remastered</td>\n",
       "      <td>The Beatles</td>\n",
       "      <td>[beatlesque]</td>\n",
       "      <td>84</td>\n",
       "      <td>0</td>\n",
       "    </tr>\n",
       "    <tr>\n",
       "      <th>3</th>\n",
       "      <td>0.398</td>\n",
       "      <td>0.413</td>\n",
       "      <td>1</td>\n",
       "      <td>-10.934</td>\n",
       "      <td>1</td>\n",
       "      <td>0.0388</td>\n",
       "      <td>0.082200</td>\n",
       "      <td>0.000025</td>\n",
       "      <td>0.0891</td>\n",
       "      <td>0.331</td>\n",
       "      <td>133.574</td>\n",
       "      <td>219147</td>\n",
       "      <td>4</td>\n",
       "      <td>Good Vibrations (Mono)</td>\n",
       "      <td>The Beach Boys</td>\n",
       "      <td>[baroque pop]</td>\n",
       "      <td>78</td>\n",
       "      <td>20</td>\n",
       "    </tr>\n",
       "    <tr>\n",
       "      <th>4</th>\n",
       "      <td>0.518</td>\n",
       "      <td>0.756</td>\n",
       "      <td>10</td>\n",
       "      <td>-10.851</td>\n",
       "      <td>1</td>\n",
       "      <td>0.0915</td>\n",
       "      <td>0.735000</td>\n",
       "      <td>0.000062</td>\n",
       "      <td>0.3170</td>\n",
       "      <td>0.968</td>\n",
       "      <td>166.429</td>\n",
       "      <td>160893</td>\n",
       "      <td>4</td>\n",
       "      <td>Johnny B Goode</td>\n",
       "      <td>Chuck Berry</td>\n",
       "      <td>[classic rock]</td>\n",
       "      <td>75</td>\n",
       "      <td>0</td>\n",
       "    </tr>\n",
       "  </tbody>\n",
       "</table>\n",
       "</div>"
      ],
      "text/plain": [
       "   danceability  energy  key  loudness  mode  speechiness  acousticness  \\\n",
       "0         0.482   0.721    0    -6.839     1       0.0321      0.731000   \n",
       "1         0.485   0.863    1    -9.027     1       0.0495      0.000012   \n",
       "2         0.364   0.457    4   -14.162     0       0.0675      0.290000   \n",
       "3         0.398   0.413    1   -10.934     1       0.0388      0.082200   \n",
       "4         0.518   0.756   10   -10.851     1       0.0915      0.735000   \n",
       "\n",
       "   instrumentalness  liveness  valence    tempo  duration_ms  time_signature  \\\n",
       "0          0.000000    0.1890    0.557   95.263       369600               4   \n",
       "1          0.016200    0.1380    0.767  116.835       300977               4   \n",
       "2          0.000106    0.9220    0.175  163.219       337413               4   \n",
       "3          0.000025    0.0891    0.331  133.574       219147               4   \n",
       "4          0.000062    0.3170    0.968  166.429       160893               4   \n",
       "\n",
       "                        song_name     artist_name   artist_genres  artist_pop  \\\n",
       "0            Like a Rolling Stone       Bob Dylan  [classic rock]          72   \n",
       "1         Smells Like Teen Spirit         Nirvana        [grunge]          82   \n",
       "2  A Day In The Life - Remastered     The Beatles    [beatlesque]          84   \n",
       "3          Good Vibrations (Mono)  The Beach Boys   [baroque pop]          78   \n",
       "4                  Johnny B Goode     Chuck Berry  [classic rock]          75   \n",
       "\n",
       "   song_popularity  \n",
       "0               68  \n",
       "1                0  \n",
       "2                0  \n",
       "3               20  \n",
       "4                0  "
      ]
     },
     "execution_count": 193,
     "metadata": {},
     "output_type": "execute_result"
    }
   ],
   "source": [
    "clean_data.head()"
   ]
  },
  {
   "cell_type": "code",
   "execution_count": 37,
   "id": "96112929",
   "metadata": {},
   "outputs": [],
   "source": [
    "#combining genres with music feature data average into a new df\n",
    "genre_features_input = {}\n",
    "genre_features = {}\n",
    "#list of features were looking for\n",
    "features_input = ['danceability','energy','loudness','speechiness','acousticness','liveness','valence']\n",
    "\n",
    "\n",
    "#loop through df\n",
    "for i, r in clean_data.iterrows():\n",
    "\n",
    "    #loop through each genre\n",
    "    for genre in r['artist_genres']:\n",
    "\n",
    "        #create a dict for the genre if it isnt made\n",
    "        if genre not in genre_features_input.keys():\n",
    "            genre_features_input[genre] = []\n",
    "\n",
    "            #start adding the features\n",
    "            for feature in features_input:\n",
    "\n",
    "                #create dict for features\n",
    "                if feature not in genre_features.keys():\n",
    "                    genre_features[feature] = []\n",
    "                    genre_features[feature].append(r[feature])\n",
    "                \n",
    "            genre_features_input[genre].append(genre_features)\n",
    "        #else add onto the generated genre key\n",
    "        else:\n",
    "            for genre_info in genre_features_input.values():\n",
    "                for dicts in genre_info:\n",
    "                    for key,v in dicts.items():\n",
    "                        for feature in features_input:\n",
    "                            if key == feature:\n",
    "                                dicts[key].append(r[feature])\n",
    "                    \n",
    "                    \n",
    "                \n",
    "        genre_features = {}"
   ]
  },
  {
   "cell_type": "code",
   "execution_count": null,
   "id": "dfe8bdd9",
   "metadata": {},
   "outputs": [],
   "source": []
  },
  {
   "cell_type": "code",
   "execution_count": null,
   "id": "cbb7a773",
   "metadata": {},
   "outputs": [],
   "source": []
  },
  {
   "cell_type": "code",
   "execution_count": null,
   "id": "4792234c",
   "metadata": {},
   "outputs": [],
   "source": []
  },
  {
   "cell_type": "code",
   "execution_count": null,
   "id": "5ab3fcb0",
   "metadata": {},
   "outputs": [],
   "source": []
  },
  {
   "cell_type": "code",
   "execution_count": null,
   "id": "c289d94b",
   "metadata": {},
   "outputs": [],
   "source": []
  },
  {
   "cell_type": "code",
   "execution_count": null,
   "id": "16f17b4e",
   "metadata": {},
   "outputs": [],
   "source": []
  },
  {
   "cell_type": "code",
   "execution_count": null,
   "id": "e296af0a",
   "metadata": {},
   "outputs": [],
   "source": []
  },
  {
   "cell_type": "code",
   "execution_count": null,
   "id": "f47ae58b",
   "metadata": {},
   "outputs": [],
   "source": []
  },
  {
   "cell_type": "code",
   "execution_count": null,
   "id": "3ff366a5",
   "metadata": {},
   "outputs": [],
   "source": []
  },
  {
   "cell_type": "code",
   "execution_count": null,
   "id": "962aeee6",
   "metadata": {},
   "outputs": [],
   "source": []
  },
  {
   "cell_type": "code",
   "execution_count": 233,
   "id": "422381d6",
   "metadata": {},
   "outputs": [
    {
     "data": {
      "text/html": [
       "<div>\n",
       "<style scoped>\n",
       "    .dataframe tbody tr th:only-of-type {\n",
       "        vertical-align: middle;\n",
       "    }\n",
       "\n",
       "    .dataframe tbody tr th {\n",
       "        vertical-align: top;\n",
       "    }\n",
       "\n",
       "    .dataframe thead th {\n",
       "        text-align: right;\n",
       "    }\n",
       "</style>\n",
       "<table border=\"1\" class=\"dataframe\">\n",
       "  <thead>\n",
       "    <tr style=\"text-align: right;\">\n",
       "      <th></th>\n",
       "      <th>artist_genres</th>\n",
       "      <th>danceability</th>\n",
       "      <th>energy</th>\n",
       "      <th>acousticness</th>\n",
       "      <th>valence</th>\n",
       "      <th>song_popularity</th>\n",
       "      <th>artist_pop</th>\n",
       "    </tr>\n",
       "  </thead>\n",
       "  <tbody>\n",
       "    <tr>\n",
       "      <th>0</th>\n",
       "      <td>[classic rock]</td>\n",
       "      <td>0.482</td>\n",
       "      <td>0.721</td>\n",
       "      <td>0.731000</td>\n",
       "      <td>0.557</td>\n",
       "      <td>68</td>\n",
       "      <td>72</td>\n",
       "    </tr>\n",
       "    <tr>\n",
       "      <th>1</th>\n",
       "      <td>[grunge]</td>\n",
       "      <td>0.485</td>\n",
       "      <td>0.863</td>\n",
       "      <td>0.000012</td>\n",
       "      <td>0.767</td>\n",
       "      <td>0</td>\n",
       "      <td>82</td>\n",
       "    </tr>\n",
       "    <tr>\n",
       "      <th>2</th>\n",
       "      <td>[beatlesque]</td>\n",
       "      <td>0.364</td>\n",
       "      <td>0.457</td>\n",
       "      <td>0.290000</td>\n",
       "      <td>0.175</td>\n",
       "      <td>0</td>\n",
       "      <td>84</td>\n",
       "    </tr>\n",
       "    <tr>\n",
       "      <th>3</th>\n",
       "      <td>[baroque pop]</td>\n",
       "      <td>0.398</td>\n",
       "      <td>0.413</td>\n",
       "      <td>0.082200</td>\n",
       "      <td>0.331</td>\n",
       "      <td>20</td>\n",
       "      <td>78</td>\n",
       "    </tr>\n",
       "    <tr>\n",
       "      <th>4</th>\n",
       "      <td>[classic rock]</td>\n",
       "      <td>0.518</td>\n",
       "      <td>0.756</td>\n",
       "      <td>0.735000</td>\n",
       "      <td>0.968</td>\n",
       "      <td>0</td>\n",
       "      <td>75</td>\n",
       "    </tr>\n",
       "    <tr>\n",
       "      <th>...</th>\n",
       "      <td>...</td>\n",
       "      <td>...</td>\n",
       "      <td>...</td>\n",
       "      <td>...</td>\n",
       "      <td>...</td>\n",
       "      <td>...</td>\n",
       "      <td>...</td>\n",
       "    </tr>\n",
       "    <tr>\n",
       "      <th>1094</th>\n",
       "      <td>[classic rock]</td>\n",
       "      <td>0.509</td>\n",
       "      <td>0.680</td>\n",
       "      <td>0.360000</td>\n",
       "      <td>0.802</td>\n",
       "      <td>56</td>\n",
       "      <td>72</td>\n",
       "    </tr>\n",
       "    <tr>\n",
       "      <th>1095</th>\n",
       "      <td>[baroque pop]</td>\n",
       "      <td>0.612</td>\n",
       "      <td>0.668</td>\n",
       "      <td>0.057900</td>\n",
       "      <td>0.524</td>\n",
       "      <td>0</td>\n",
       "      <td>66</td>\n",
       "    </tr>\n",
       "    <tr>\n",
       "      <th>1096</th>\n",
       "      <td>[uk alternative pop]</td>\n",
       "      <td>0.651</td>\n",
       "      <td>0.944</td>\n",
       "      <td>0.085500</td>\n",
       "      <td>0.676</td>\n",
       "      <td>3</td>\n",
       "      <td>60</td>\n",
       "    </tr>\n",
       "    <tr>\n",
       "      <th>1097</th>\n",
       "      <td>[hot jazz]</td>\n",
       "      <td>0.492</td>\n",
       "      <td>0.194</td>\n",
       "      <td>0.984000</td>\n",
       "      <td>0.368</td>\n",
       "      <td>11</td>\n",
       "      <td>18</td>\n",
       "    </tr>\n",
       "    <tr>\n",
       "      <th>1098</th>\n",
       "      <td>[ska]</td>\n",
       "      <td>0.589</td>\n",
       "      <td>0.713</td>\n",
       "      <td>0.093700</td>\n",
       "      <td>0.830</td>\n",
       "      <td>0</td>\n",
       "      <td>61</td>\n",
       "    </tr>\n",
       "  </tbody>\n",
       "</table>\n",
       "<p>1099 rows × 7 columns</p>\n",
       "</div>"
      ],
      "text/plain": [
       "             artist_genres  danceability  energy  acousticness  valence  \\\n",
       "0           [classic rock]         0.482   0.721      0.731000    0.557   \n",
       "1                 [grunge]         0.485   0.863      0.000012    0.767   \n",
       "2             [beatlesque]         0.364   0.457      0.290000    0.175   \n",
       "3            [baroque pop]         0.398   0.413      0.082200    0.331   \n",
       "4           [classic rock]         0.518   0.756      0.735000    0.968   \n",
       "...                    ...           ...     ...           ...      ...   \n",
       "1094        [classic rock]         0.509   0.680      0.360000    0.802   \n",
       "1095         [baroque pop]         0.612   0.668      0.057900    0.524   \n",
       "1096  [uk alternative pop]         0.651   0.944      0.085500    0.676   \n",
       "1097            [hot jazz]         0.492   0.194      0.984000    0.368   \n",
       "1098                 [ska]         0.589   0.713      0.093700    0.830   \n",
       "\n",
       "      song_popularity  artist_pop  \n",
       "0                  68          72  \n",
       "1                   0          82  \n",
       "2                   0          84  \n",
       "3                  20          78  \n",
       "4                   0          75  \n",
       "...               ...         ...  \n",
       "1094               56          72  \n",
       "1095                0          66  \n",
       "1096                3          60  \n",
       "1097               11          18  \n",
       "1098                0          61  \n",
       "\n",
       "[1099 rows x 7 columns]"
      ]
     },
     "execution_count": 233,
     "metadata": {},
     "output_type": "execute_result"
    }
   ],
   "source": [
    "genre_df =clean_data[['artist_genres', 'danceability','energy','acousticness','valence','song_popularity','artist_pop']].copy()\n",
    "genre_df"
   ]
  },
  {
   "cell_type": "code",
   "execution_count": 234,
   "id": "3fb9b020",
   "metadata": {},
   "outputs": [
    {
     "name": "stdout",
     "output_type": "stream",
     "text": [
      "<class 'pandas.core.frame.DataFrame'>\n",
      "RangeIndex: 1099 entries, 0 to 1098\n",
      "Data columns (total 7 columns):\n",
      " #   Column           Non-Null Count  Dtype  \n",
      "---  ------           --------------  -----  \n",
      " 0   artist_genres    1099 non-null   object \n",
      " 1   danceability     1099 non-null   float64\n",
      " 2   energy           1099 non-null   float64\n",
      " 3   acousticness     1099 non-null   float64\n",
      " 4   valence          1099 non-null   float64\n",
      " 5   song_popularity  1099 non-null   int64  \n",
      " 6   artist_pop       1099 non-null   int64  \n",
      "dtypes: float64(4), int64(2), object(1)\n",
      "memory usage: 60.2+ KB\n"
     ]
    }
   ],
   "source": [
    "genre_df.info()"
   ]
  },
  {
   "cell_type": "code",
   "execution_count": 236,
   "id": "58d5d596",
   "metadata": {},
   "outputs": [
    {
     "data": {
      "text/plain": [
       "<bound method DataFrame.info of                         danceability    energy  acousticness   valence  \\\n",
       "artist_genres                                                            \n",
       "['']                        0.572286  0.384957      0.644897  0.527571   \n",
       "['acid house']              0.714000  0.873000      0.152000  0.516000   \n",
       "['acid rock']               0.427800  0.687600      0.237189  0.478880   \n",
       "['acoustic blues']          0.537667  0.242100      0.958500  0.496333   \n",
       "['acoustic punk']           0.701000  0.261000      0.219000  0.890000   \n",
       "...                              ...       ...           ...       ...   \n",
       "['ska']                     0.697000  0.592500      0.092950  0.902500   \n",
       "['soul']                    0.516000  0.150000      0.130000  0.205000   \n",
       "['space age pop']           0.699000  0.503000      0.775000  0.846000   \n",
       "['surf music']              0.461000  0.955000      0.111000  0.725000   \n",
       "['uk alternative pop']      0.651000  0.944000      0.085500  0.676000   \n",
       "\n",
       "                        song_popularity  artist_pop  \n",
       "artist_genres                                        \n",
       "['']                          28.714286   28.142857  \n",
       "['acid house']                 0.000000   31.000000  \n",
       "['acid rock']                 49.333333   66.333333  \n",
       "['acoustic blues']            15.666667   39.833333  \n",
       "['acoustic punk']              0.000000   57.000000  \n",
       "...                                 ...         ...  \n",
       "['ska']                        0.000000   43.000000  \n",
       "['soul']                      66.000000   56.000000  \n",
       "['space age pop']             17.000000   45.000000  \n",
       "['surf music']                45.000000   44.000000  \n",
       "['uk alternative pop']         3.000000   60.000000  \n",
       "\n",
       "[158 rows x 6 columns]>"
      ]
     },
     "execution_count": 236,
     "metadata": {},
     "output_type": "execute_result"
    }
   ],
   "source": [
    "genre_df['artist_genres']  = (genre_df['artist_genres'].astype('string'))\n",
    "newframe=genre_df.groupby('artist_genres')['danceability','energy','acousticness','valence','song_popularity','artist_pop'].mean()\n",
    "newframe.info\n"
   ]
  },
  {
   "cell_type": "code",
   "execution_count": 244,
   "id": "aea50bdc",
   "metadata": {},
   "outputs": [
    {
     "name": "stdout",
     "output_type": "stream",
     "text": [
      "<class 'pandas.core.frame.DataFrame'>\n",
      "Index: 10 entries, ['permanent wave'] to ['celtic punk']\n",
      "Data columns (total 6 columns):\n",
      " #   Column           Non-Null Count  Dtype  \n",
      "---  ------           --------------  -----  \n",
      " 0   danceability     10 non-null     float64\n",
      " 1   energy           10 non-null     float64\n",
      " 2   acousticness     10 non-null     float64\n",
      " 3   valence          10 non-null     float64\n",
      " 4   song_popularity  10 non-null     float64\n",
      " 5   artist_pop       10 non-null     float64\n",
      "dtypes: float64(6)\n",
      "memory usage: 560.0 bytes\n",
      "<class 'pandas.core.frame.DataFrame'>\n",
      "RangeIndex: 10 entries, 0 to 9\n",
      "Data columns (total 7 columns):\n",
      " #   Column           Non-Null Count  Dtype  \n",
      "---  ------           --------------  -----  \n",
      " 0   artist_genres    10 non-null     string \n",
      " 1   danceability     10 non-null     float64\n",
      " 2   energy           10 non-null     float64\n",
      " 3   acousticness     10 non-null     float64\n",
      " 4   valence          10 non-null     float64\n",
      " 5   song_popularity  10 non-null     float64\n",
      " 6   artist_pop       10 non-null     float64\n",
      "dtypes: float64(6), string(1)\n",
      "memory usage: 688.0 bytes\n"
     ]
    }
   ],
   "source": [
    "df = pd.DataFrame(newframe)\n",
    "new_genre= df.nlargest(10, 'song_popularity',keep='last')\n",
    "#new_genre.drop_duplicates('artist_genres')\n",
    "new_genre.info()\n",
    "new_genre.reset_index(inplace=True)\n",
    "new_genre2= df.nlargest(10, 'artist_pop',keep='last')\n",
    "new_genre.info()\n",
    "new_genre2.reset_index(inplace=True)\n"
   ]
  },
  {
   "cell_type": "code",
   "execution_count": 238,
   "id": "92386632",
   "metadata": {},
   "outputs": [
    {
     "data": {
      "text/html": [
       "<div>\n",
       "<style scoped>\n",
       "    .dataframe tbody tr th:only-of-type {\n",
       "        vertical-align: middle;\n",
       "    }\n",
       "\n",
       "    .dataframe tbody tr th {\n",
       "        vertical-align: top;\n",
       "    }\n",
       "\n",
       "    .dataframe thead th {\n",
       "        text-align: right;\n",
       "    }\n",
       "</style>\n",
       "<table border=\"1\" class=\"dataframe\">\n",
       "  <thead>\n",
       "    <tr style=\"text-align: right;\">\n",
       "      <th></th>\n",
       "      <th>artist_genres</th>\n",
       "      <th>danceability</th>\n",
       "      <th>energy</th>\n",
       "      <th>acousticness</th>\n",
       "      <th>valence</th>\n",
       "      <th>song_popularity</th>\n",
       "      <th>artist_pop</th>\n",
       "    </tr>\n",
       "  </thead>\n",
       "  <tbody>\n",
       "    <tr>\n",
       "      <th>0</th>\n",
       "      <td>['permanent wave']</td>\n",
       "      <td>0.478000</td>\n",
       "      <td>0.690286</td>\n",
       "      <td>0.230535</td>\n",
       "      <td>0.481143</td>\n",
       "      <td>81.428571</td>\n",
       "      <td>84.714286</td>\n",
       "    </tr>\n",
       "    <tr>\n",
       "      <th>1</th>\n",
       "      <td>['rap']</td>\n",
       "      <td>0.834000</td>\n",
       "      <td>0.730000</td>\n",
       "      <td>0.005130</td>\n",
       "      <td>0.446000</td>\n",
       "      <td>81.000000</td>\n",
       "      <td>91.000000</td>\n",
       "    </tr>\n",
       "    <tr>\n",
       "      <th>2</th>\n",
       "      <td>['modern rock']</td>\n",
       "      <td>0.542000</td>\n",
       "      <td>0.905000</td>\n",
       "      <td>0.001720</td>\n",
       "      <td>0.374000</td>\n",
       "      <td>80.000000</td>\n",
       "      <td>74.000000</td>\n",
       "    </tr>\n",
       "    <tr>\n",
       "      <th>3</th>\n",
       "      <td>['lgbtq+ hip hop']</td>\n",
       "      <td>0.878000</td>\n",
       "      <td>0.619000</td>\n",
       "      <td>0.053300</td>\n",
       "      <td>0.639000</td>\n",
       "      <td>77.000000</td>\n",
       "      <td>83.000000</td>\n",
       "    </tr>\n",
       "    <tr>\n",
       "      <th>4</th>\n",
       "      <td>['folk']</td>\n",
       "      <td>0.711000</td>\n",
       "      <td>0.292000</td>\n",
       "      <td>0.313000</td>\n",
       "      <td>0.194000</td>\n",
       "      <td>76.000000</td>\n",
       "      <td>69.000000</td>\n",
       "    </tr>\n",
       "    <tr>\n",
       "      <th>5</th>\n",
       "      <td>['glam punk']</td>\n",
       "      <td>0.535000</td>\n",
       "      <td>0.716000</td>\n",
       "      <td>0.326000</td>\n",
       "      <td>0.901000</td>\n",
       "      <td>75.000000</td>\n",
       "      <td>64.000000</td>\n",
       "    </tr>\n",
       "    <tr>\n",
       "      <th>6</th>\n",
       "      <td>['madchester']</td>\n",
       "      <td>0.510667</td>\n",
       "      <td>0.848333</td>\n",
       "      <td>0.015315</td>\n",
       "      <td>0.784000</td>\n",
       "      <td>74.666667</td>\n",
       "      <td>76.000000</td>\n",
       "    </tr>\n",
       "    <tr>\n",
       "      <th>7</th>\n",
       "      <td>['bedroom pop']</td>\n",
       "      <td>0.742000</td>\n",
       "      <td>0.546000</td>\n",
       "      <td>0.172000</td>\n",
       "      <td>0.868000</td>\n",
       "      <td>73.000000</td>\n",
       "      <td>76.000000</td>\n",
       "    </tr>\n",
       "    <tr>\n",
       "      <th>8</th>\n",
       "      <td>['modern alternative rock']</td>\n",
       "      <td>0.472000</td>\n",
       "      <td>0.745000</td>\n",
       "      <td>0.000607</td>\n",
       "      <td>0.063100</td>\n",
       "      <td>71.000000</td>\n",
       "      <td>82.000000</td>\n",
       "    </tr>\n",
       "    <tr>\n",
       "      <th>9</th>\n",
       "      <td>['celtic punk']</td>\n",
       "      <td>0.271000</td>\n",
       "      <td>0.551000</td>\n",
       "      <td>0.582000</td>\n",
       "      <td>0.428000</td>\n",
       "      <td>71.000000</td>\n",
       "      <td>72.000000</td>\n",
       "    </tr>\n",
       "  </tbody>\n",
       "</table>\n",
       "</div>"
      ],
      "text/plain": [
       "                 artist_genres  danceability    energy  acousticness  \\\n",
       "0           ['permanent wave']      0.478000  0.690286      0.230535   \n",
       "1                      ['rap']      0.834000  0.730000      0.005130   \n",
       "2              ['modern rock']      0.542000  0.905000      0.001720   \n",
       "3           ['lgbtq+ hip hop']      0.878000  0.619000      0.053300   \n",
       "4                     ['folk']      0.711000  0.292000      0.313000   \n",
       "5                ['glam punk']      0.535000  0.716000      0.326000   \n",
       "6               ['madchester']      0.510667  0.848333      0.015315   \n",
       "7              ['bedroom pop']      0.742000  0.546000      0.172000   \n",
       "8  ['modern alternative rock']      0.472000  0.745000      0.000607   \n",
       "9              ['celtic punk']      0.271000  0.551000      0.582000   \n",
       "\n",
       "    valence  song_popularity  artist_pop  \n",
       "0  0.481143        81.428571   84.714286  \n",
       "1  0.446000        81.000000   91.000000  \n",
       "2  0.374000        80.000000   74.000000  \n",
       "3  0.639000        77.000000   83.000000  \n",
       "4  0.194000        76.000000   69.000000  \n",
       "5  0.901000        75.000000   64.000000  \n",
       "6  0.784000        74.666667   76.000000  \n",
       "7  0.868000        73.000000   76.000000  \n",
       "8  0.063100        71.000000   82.000000  \n",
       "9  0.428000        71.000000   72.000000  "
      ]
     },
     "execution_count": 238,
     "metadata": {},
     "output_type": "execute_result"
    }
   ],
   "source": [
    "new_genre"
   ]
  },
  {
   "cell_type": "code",
   "execution_count": 245,
   "id": "413d560d",
   "metadata": {},
   "outputs": [
    {
     "data": {
      "text/html": [
       "<div>\n",
       "<style scoped>\n",
       "    .dataframe tbody tr th:only-of-type {\n",
       "        vertical-align: middle;\n",
       "    }\n",
       "\n",
       "    .dataframe tbody tr th {\n",
       "        vertical-align: top;\n",
       "    }\n",
       "\n",
       "    .dataframe thead th {\n",
       "        text-align: right;\n",
       "    }\n",
       "</style>\n",
       "<table border=\"1\" class=\"dataframe\">\n",
       "  <thead>\n",
       "    <tr style=\"text-align: right;\">\n",
       "      <th></th>\n",
       "      <th>artist_genres</th>\n",
       "      <th>danceability</th>\n",
       "      <th>energy</th>\n",
       "      <th>acousticness</th>\n",
       "      <th>valence</th>\n",
       "      <th>song_popularity</th>\n",
       "      <th>artist_pop</th>\n",
       "    </tr>\n",
       "  </thead>\n",
       "  <tbody>\n",
       "    <tr>\n",
       "      <th>0</th>\n",
       "      <td>['canadian hip hop']</td>\n",
       "      <td>0.836000</td>\n",
       "      <td>0.518000</td>\n",
       "      <td>0.003360</td>\n",
       "      <td>0.436000</td>\n",
       "      <td>0.000000</td>\n",
       "      <td>97.000000</td>\n",
       "    </tr>\n",
       "    <tr>\n",
       "      <th>1</th>\n",
       "      <td>['canadian contemporary r&amp;b']</td>\n",
       "      <td>0.702000</td>\n",
       "      <td>0.770000</td>\n",
       "      <td>0.124000</td>\n",
       "      <td>0.593000</td>\n",
       "      <td>0.000000</td>\n",
       "      <td>96.000000</td>\n",
       "    </tr>\n",
       "    <tr>\n",
       "      <th>2</th>\n",
       "      <td>['detroit hip hop']</td>\n",
       "      <td>0.820000</td>\n",
       "      <td>0.715000</td>\n",
       "      <td>0.031750</td>\n",
       "      <td>0.537525</td>\n",
       "      <td>0.000000</td>\n",
       "      <td>92.000000</td>\n",
       "    </tr>\n",
       "    <tr>\n",
       "      <th>3</th>\n",
       "      <td>['rap']</td>\n",
       "      <td>0.834000</td>\n",
       "      <td>0.730000</td>\n",
       "      <td>0.005130</td>\n",
       "      <td>0.446000</td>\n",
       "      <td>81.000000</td>\n",
       "      <td>91.000000</td>\n",
       "    </tr>\n",
       "    <tr>\n",
       "      <th>4</th>\n",
       "      <td>['chicago rap']</td>\n",
       "      <td>0.597857</td>\n",
       "      <td>0.701000</td>\n",
       "      <td>0.210621</td>\n",
       "      <td>0.399971</td>\n",
       "      <td>20.142857</td>\n",
       "      <td>91.000000</td>\n",
       "    </tr>\n",
       "    <tr>\n",
       "      <th>5</th>\n",
       "      <td>['barbadian pop']</td>\n",
       "      <td>0.680667</td>\n",
       "      <td>0.709667</td>\n",
       "      <td>0.036280</td>\n",
       "      <td>0.577667</td>\n",
       "      <td>0.000000</td>\n",
       "      <td>90.000000</td>\n",
       "    </tr>\n",
       "    <tr>\n",
       "      <th>6</th>\n",
       "      <td>['garage rock']</td>\n",
       "      <td>0.541500</td>\n",
       "      <td>0.740000</td>\n",
       "      <td>0.094125</td>\n",
       "      <td>0.591500</td>\n",
       "      <td>0.000000</td>\n",
       "      <td>88.000000</td>\n",
       "    </tr>\n",
       "    <tr>\n",
       "      <th>7</th>\n",
       "      <td>['glam rock']</td>\n",
       "      <td>0.533000</td>\n",
       "      <td>0.414000</td>\n",
       "      <td>0.554750</td>\n",
       "      <td>0.317250</td>\n",
       "      <td>0.000000</td>\n",
       "      <td>87.000000</td>\n",
       "    </tr>\n",
       "    <tr>\n",
       "      <th>8</th>\n",
       "      <td>['r&amp;b en espanol']</td>\n",
       "      <td>0.893000</td>\n",
       "      <td>0.482000</td>\n",
       "      <td>0.549000</td>\n",
       "      <td>0.530000</td>\n",
       "      <td>67.000000</td>\n",
       "      <td>86.000000</td>\n",
       "    </tr>\n",
       "    <tr>\n",
       "      <th>9</th>\n",
       "      <td>['pop']</td>\n",
       "      <td>0.818333</td>\n",
       "      <td>0.735333</td>\n",
       "      <td>0.092400</td>\n",
       "      <td>0.823667</td>\n",
       "      <td>61.166667</td>\n",
       "      <td>85.666667</td>\n",
       "    </tr>\n",
       "  </tbody>\n",
       "</table>\n",
       "</div>"
      ],
      "text/plain": [
       "                   artist_genres  danceability    energy  acousticness  \\\n",
       "0           ['canadian hip hop']      0.836000  0.518000      0.003360   \n",
       "1  ['canadian contemporary r&b']      0.702000  0.770000      0.124000   \n",
       "2            ['detroit hip hop']      0.820000  0.715000      0.031750   \n",
       "3                        ['rap']      0.834000  0.730000      0.005130   \n",
       "4                ['chicago rap']      0.597857  0.701000      0.210621   \n",
       "5              ['barbadian pop']      0.680667  0.709667      0.036280   \n",
       "6                ['garage rock']      0.541500  0.740000      0.094125   \n",
       "7                  ['glam rock']      0.533000  0.414000      0.554750   \n",
       "8             ['r&b en espanol']      0.893000  0.482000      0.549000   \n",
       "9                        ['pop']      0.818333  0.735333      0.092400   \n",
       "\n",
       "    valence  song_popularity  artist_pop  \n",
       "0  0.436000         0.000000   97.000000  \n",
       "1  0.593000         0.000000   96.000000  \n",
       "2  0.537525         0.000000   92.000000  \n",
       "3  0.446000        81.000000   91.000000  \n",
       "4  0.399971        20.142857   91.000000  \n",
       "5  0.577667         0.000000   90.000000  \n",
       "6  0.591500         0.000000   88.000000  \n",
       "7  0.317250         0.000000   87.000000  \n",
       "8  0.530000        67.000000   86.000000  \n",
       "9  0.823667        61.166667   85.666667  "
      ]
     },
     "execution_count": 245,
     "metadata": {},
     "output_type": "execute_result"
    }
   ],
   "source": [
    "new_genre2"
   ]
  },
  {
   "cell_type": "code",
   "execution_count": 252,
   "id": "9fe874cd",
   "metadata": {},
   "outputs": [
    {
     "data": {
      "application/vnd.plotly.v1+json": {
       "config": {
        "plotlyServerURL": "https://plot.ly"
       },
       "data": [
        {
         "alignmentgroup": "True",
         "hovertemplate": "variable=valence<br>artist_genres=%{x}<br>value=%{y}<extra></extra>",
         "legendgroup": "valence",
         "marker": {
          "color": "#636efa",
          "pattern": {
           "shape": ""
          }
         },
         "name": "valence",
         "offsetgroup": "valence",
         "orientation": "v",
         "showlegend": true,
         "textposition": "auto",
         "type": "bar",
         "x": [
          "['permanent wave']",
          "['rap']",
          "['modern rock']",
          "['lgbtq+ hip hop']",
          "['folk']",
          "['glam punk']",
          "['madchester']",
          "['bedroom pop']",
          "['modern alternative rock']",
          "['celtic punk']"
         ],
         "xaxis": "x",
         "y": [
          0.48114285714285715,
          0.446,
          0.374,
          0.639,
          0.194,
          0.901,
          0.7839999999999999,
          0.868,
          0.0631,
          0.428
         ],
         "yaxis": "y"
        },
        {
         "alignmentgroup": "True",
         "hovertemplate": "variable=energy<br>artist_genres=%{x}<br>value=%{y}<extra></extra>",
         "legendgroup": "energy",
         "marker": {
          "color": "#EF553B",
          "pattern": {
           "shape": ""
          }
         },
         "name": "energy",
         "offsetgroup": "energy",
         "orientation": "v",
         "showlegend": true,
         "textposition": "auto",
         "type": "bar",
         "x": [
          "['permanent wave']",
          "['rap']",
          "['modern rock']",
          "['lgbtq+ hip hop']",
          "['folk']",
          "['glam punk']",
          "['madchester']",
          "['bedroom pop']",
          "['modern alternative rock']",
          "['celtic punk']"
         ],
         "xaxis": "x",
         "y": [
          0.6902857142857143,
          0.73,
          0.905,
          0.619,
          0.292,
          0.716,
          0.8483333333333333,
          0.546,
          0.745,
          0.551
         ],
         "yaxis": "y"
        },
        {
         "alignmentgroup": "True",
         "hovertemplate": "variable=danceability<br>artist_genres=%{x}<br>value=%{y}<extra></extra>",
         "legendgroup": "danceability",
         "marker": {
          "color": "#00cc96",
          "pattern": {
           "shape": ""
          }
         },
         "name": "danceability",
         "offsetgroup": "danceability",
         "orientation": "v",
         "showlegend": true,
         "textposition": "auto",
         "type": "bar",
         "x": [
          "['permanent wave']",
          "['rap']",
          "['modern rock']",
          "['lgbtq+ hip hop']",
          "['folk']",
          "['glam punk']",
          "['madchester']",
          "['bedroom pop']",
          "['modern alternative rock']",
          "['celtic punk']"
         ],
         "xaxis": "x",
         "y": [
          0.47800000000000004,
          0.834,
          0.542,
          0.878,
          0.711,
          0.535,
          0.5106666666666667,
          0.742,
          0.472,
          0.271
         ],
         "yaxis": "y"
        },
        {
         "alignmentgroup": "True",
         "hovertemplate": "variable=acousticness<br>artist_genres=%{x}<br>value=%{y}<extra></extra>",
         "legendgroup": "acousticness",
         "marker": {
          "color": "#ab63fa",
          "pattern": {
           "shape": ""
          }
         },
         "name": "acousticness",
         "offsetgroup": "acousticness",
         "orientation": "v",
         "showlegend": true,
         "textposition": "auto",
         "type": "bar",
         "x": [
          "['permanent wave']",
          "['rap']",
          "['modern rock']",
          "['lgbtq+ hip hop']",
          "['folk']",
          "['glam punk']",
          "['madchester']",
          "['bedroom pop']",
          "['modern alternative rock']",
          "['celtic punk']"
         ],
         "xaxis": "x",
         "y": [
          0.2305352,
          0.00513,
          0.00172,
          0.0533,
          0.313,
          0.326,
          0.015314666666666666,
          0.172,
          0.000607,
          0.582
         ],
         "yaxis": "y"
        }
       ],
       "layout": {
        "barmode": "group",
        "legend": {
         "title": {
          "text": "variable"
         },
         "tracegroupgap": 0
        },
        "margin": {
         "t": 60
        },
        "template": {
         "data": {
          "bar": [
           {
            "error_x": {
             "color": "#2a3f5f"
            },
            "error_y": {
             "color": "#2a3f5f"
            },
            "marker": {
             "line": {
              "color": "#E5ECF6",
              "width": 0.5
             },
             "pattern": {
              "fillmode": "overlay",
              "size": 10,
              "solidity": 0.2
             }
            },
            "type": "bar"
           }
          ],
          "barpolar": [
           {
            "marker": {
             "line": {
              "color": "#E5ECF6",
              "width": 0.5
             },
             "pattern": {
              "fillmode": "overlay",
              "size": 10,
              "solidity": 0.2
             }
            },
            "type": "barpolar"
           }
          ],
          "carpet": [
           {
            "aaxis": {
             "endlinecolor": "#2a3f5f",
             "gridcolor": "white",
             "linecolor": "white",
             "minorgridcolor": "white",
             "startlinecolor": "#2a3f5f"
            },
            "baxis": {
             "endlinecolor": "#2a3f5f",
             "gridcolor": "white",
             "linecolor": "white",
             "minorgridcolor": "white",
             "startlinecolor": "#2a3f5f"
            },
            "type": "carpet"
           }
          ],
          "choropleth": [
           {
            "colorbar": {
             "outlinewidth": 0,
             "ticks": ""
            },
            "type": "choropleth"
           }
          ],
          "contour": [
           {
            "colorbar": {
             "outlinewidth": 0,
             "ticks": ""
            },
            "colorscale": [
             [
              0,
              "#0d0887"
             ],
             [
              0.1111111111111111,
              "#46039f"
             ],
             [
              0.2222222222222222,
              "#7201a8"
             ],
             [
              0.3333333333333333,
              "#9c179e"
             ],
             [
              0.4444444444444444,
              "#bd3786"
             ],
             [
              0.5555555555555556,
              "#d8576b"
             ],
             [
              0.6666666666666666,
              "#ed7953"
             ],
             [
              0.7777777777777778,
              "#fb9f3a"
             ],
             [
              0.8888888888888888,
              "#fdca26"
             ],
             [
              1,
              "#f0f921"
             ]
            ],
            "type": "contour"
           }
          ],
          "contourcarpet": [
           {
            "colorbar": {
             "outlinewidth": 0,
             "ticks": ""
            },
            "type": "contourcarpet"
           }
          ],
          "heatmap": [
           {
            "colorbar": {
             "outlinewidth": 0,
             "ticks": ""
            },
            "colorscale": [
             [
              0,
              "#0d0887"
             ],
             [
              0.1111111111111111,
              "#46039f"
             ],
             [
              0.2222222222222222,
              "#7201a8"
             ],
             [
              0.3333333333333333,
              "#9c179e"
             ],
             [
              0.4444444444444444,
              "#bd3786"
             ],
             [
              0.5555555555555556,
              "#d8576b"
             ],
             [
              0.6666666666666666,
              "#ed7953"
             ],
             [
              0.7777777777777778,
              "#fb9f3a"
             ],
             [
              0.8888888888888888,
              "#fdca26"
             ],
             [
              1,
              "#f0f921"
             ]
            ],
            "type": "heatmap"
           }
          ],
          "heatmapgl": [
           {
            "colorbar": {
             "outlinewidth": 0,
             "ticks": ""
            },
            "colorscale": [
             [
              0,
              "#0d0887"
             ],
             [
              0.1111111111111111,
              "#46039f"
             ],
             [
              0.2222222222222222,
              "#7201a8"
             ],
             [
              0.3333333333333333,
              "#9c179e"
             ],
             [
              0.4444444444444444,
              "#bd3786"
             ],
             [
              0.5555555555555556,
              "#d8576b"
             ],
             [
              0.6666666666666666,
              "#ed7953"
             ],
             [
              0.7777777777777778,
              "#fb9f3a"
             ],
             [
              0.8888888888888888,
              "#fdca26"
             ],
             [
              1,
              "#f0f921"
             ]
            ],
            "type": "heatmapgl"
           }
          ],
          "histogram": [
           {
            "marker": {
             "pattern": {
              "fillmode": "overlay",
              "size": 10,
              "solidity": 0.2
             }
            },
            "type": "histogram"
           }
          ],
          "histogram2d": [
           {
            "colorbar": {
             "outlinewidth": 0,
             "ticks": ""
            },
            "colorscale": [
             [
              0,
              "#0d0887"
             ],
             [
              0.1111111111111111,
              "#46039f"
             ],
             [
              0.2222222222222222,
              "#7201a8"
             ],
             [
              0.3333333333333333,
              "#9c179e"
             ],
             [
              0.4444444444444444,
              "#bd3786"
             ],
             [
              0.5555555555555556,
              "#d8576b"
             ],
             [
              0.6666666666666666,
              "#ed7953"
             ],
             [
              0.7777777777777778,
              "#fb9f3a"
             ],
             [
              0.8888888888888888,
              "#fdca26"
             ],
             [
              1,
              "#f0f921"
             ]
            ],
            "type": "histogram2d"
           }
          ],
          "histogram2dcontour": [
           {
            "colorbar": {
             "outlinewidth": 0,
             "ticks": ""
            },
            "colorscale": [
             [
              0,
              "#0d0887"
             ],
             [
              0.1111111111111111,
              "#46039f"
             ],
             [
              0.2222222222222222,
              "#7201a8"
             ],
             [
              0.3333333333333333,
              "#9c179e"
             ],
             [
              0.4444444444444444,
              "#bd3786"
             ],
             [
              0.5555555555555556,
              "#d8576b"
             ],
             [
              0.6666666666666666,
              "#ed7953"
             ],
             [
              0.7777777777777778,
              "#fb9f3a"
             ],
             [
              0.8888888888888888,
              "#fdca26"
             ],
             [
              1,
              "#f0f921"
             ]
            ],
            "type": "histogram2dcontour"
           }
          ],
          "mesh3d": [
           {
            "colorbar": {
             "outlinewidth": 0,
             "ticks": ""
            },
            "type": "mesh3d"
           }
          ],
          "parcoords": [
           {
            "line": {
             "colorbar": {
              "outlinewidth": 0,
              "ticks": ""
             }
            },
            "type": "parcoords"
           }
          ],
          "pie": [
           {
            "automargin": true,
            "type": "pie"
           }
          ],
          "scatter": [
           {
            "marker": {
             "colorbar": {
              "outlinewidth": 0,
              "ticks": ""
             }
            },
            "type": "scatter"
           }
          ],
          "scatter3d": [
           {
            "line": {
             "colorbar": {
              "outlinewidth": 0,
              "ticks": ""
             }
            },
            "marker": {
             "colorbar": {
              "outlinewidth": 0,
              "ticks": ""
             }
            },
            "type": "scatter3d"
           }
          ],
          "scattercarpet": [
           {
            "marker": {
             "colorbar": {
              "outlinewidth": 0,
              "ticks": ""
             }
            },
            "type": "scattercarpet"
           }
          ],
          "scattergeo": [
           {
            "marker": {
             "colorbar": {
              "outlinewidth": 0,
              "ticks": ""
             }
            },
            "type": "scattergeo"
           }
          ],
          "scattergl": [
           {
            "marker": {
             "colorbar": {
              "outlinewidth": 0,
              "ticks": ""
             }
            },
            "type": "scattergl"
           }
          ],
          "scattermapbox": [
           {
            "marker": {
             "colorbar": {
              "outlinewidth": 0,
              "ticks": ""
             }
            },
            "type": "scattermapbox"
           }
          ],
          "scatterpolar": [
           {
            "marker": {
             "colorbar": {
              "outlinewidth": 0,
              "ticks": ""
             }
            },
            "type": "scatterpolar"
           }
          ],
          "scatterpolargl": [
           {
            "marker": {
             "colorbar": {
              "outlinewidth": 0,
              "ticks": ""
             }
            },
            "type": "scatterpolargl"
           }
          ],
          "scatterternary": [
           {
            "marker": {
             "colorbar": {
              "outlinewidth": 0,
              "ticks": ""
             }
            },
            "type": "scatterternary"
           }
          ],
          "surface": [
           {
            "colorbar": {
             "outlinewidth": 0,
             "ticks": ""
            },
            "colorscale": [
             [
              0,
              "#0d0887"
             ],
             [
              0.1111111111111111,
              "#46039f"
             ],
             [
              0.2222222222222222,
              "#7201a8"
             ],
             [
              0.3333333333333333,
              "#9c179e"
             ],
             [
              0.4444444444444444,
              "#bd3786"
             ],
             [
              0.5555555555555556,
              "#d8576b"
             ],
             [
              0.6666666666666666,
              "#ed7953"
             ],
             [
              0.7777777777777778,
              "#fb9f3a"
             ],
             [
              0.8888888888888888,
              "#fdca26"
             ],
             [
              1,
              "#f0f921"
             ]
            ],
            "type": "surface"
           }
          ],
          "table": [
           {
            "cells": {
             "fill": {
              "color": "#EBF0F8"
             },
             "line": {
              "color": "white"
             }
            },
            "header": {
             "fill": {
              "color": "#C8D4E3"
             },
             "line": {
              "color": "white"
             }
            },
            "type": "table"
           }
          ]
         },
         "layout": {
          "annotationdefaults": {
           "arrowcolor": "#2a3f5f",
           "arrowhead": 0,
           "arrowwidth": 1
          },
          "autotypenumbers": "strict",
          "coloraxis": {
           "colorbar": {
            "outlinewidth": 0,
            "ticks": ""
           }
          },
          "colorscale": {
           "diverging": [
            [
             0,
             "#8e0152"
            ],
            [
             0.1,
             "#c51b7d"
            ],
            [
             0.2,
             "#de77ae"
            ],
            [
             0.3,
             "#f1b6da"
            ],
            [
             0.4,
             "#fde0ef"
            ],
            [
             0.5,
             "#f7f7f7"
            ],
            [
             0.6,
             "#e6f5d0"
            ],
            [
             0.7,
             "#b8e186"
            ],
            [
             0.8,
             "#7fbc41"
            ],
            [
             0.9,
             "#4d9221"
            ],
            [
             1,
             "#276419"
            ]
           ],
           "sequential": [
            [
             0,
             "#0d0887"
            ],
            [
             0.1111111111111111,
             "#46039f"
            ],
            [
             0.2222222222222222,
             "#7201a8"
            ],
            [
             0.3333333333333333,
             "#9c179e"
            ],
            [
             0.4444444444444444,
             "#bd3786"
            ],
            [
             0.5555555555555556,
             "#d8576b"
            ],
            [
             0.6666666666666666,
             "#ed7953"
            ],
            [
             0.7777777777777778,
             "#fb9f3a"
            ],
            [
             0.8888888888888888,
             "#fdca26"
            ],
            [
             1,
             "#f0f921"
            ]
           ],
           "sequentialminus": [
            [
             0,
             "#0d0887"
            ],
            [
             0.1111111111111111,
             "#46039f"
            ],
            [
             0.2222222222222222,
             "#7201a8"
            ],
            [
             0.3333333333333333,
             "#9c179e"
            ],
            [
             0.4444444444444444,
             "#bd3786"
            ],
            [
             0.5555555555555556,
             "#d8576b"
            ],
            [
             0.6666666666666666,
             "#ed7953"
            ],
            [
             0.7777777777777778,
             "#fb9f3a"
            ],
            [
             0.8888888888888888,
             "#fdca26"
            ],
            [
             1,
             "#f0f921"
            ]
           ]
          },
          "colorway": [
           "#636efa",
           "#EF553B",
           "#00cc96",
           "#ab63fa",
           "#FFA15A",
           "#19d3f3",
           "#FF6692",
           "#B6E880",
           "#FF97FF",
           "#FECB52"
          ],
          "font": {
           "color": "#2a3f5f"
          },
          "geo": {
           "bgcolor": "white",
           "lakecolor": "white",
           "landcolor": "#E5ECF6",
           "showlakes": true,
           "showland": true,
           "subunitcolor": "white"
          },
          "hoverlabel": {
           "align": "left"
          },
          "hovermode": "closest",
          "mapbox": {
           "style": "light"
          },
          "paper_bgcolor": "white",
          "plot_bgcolor": "#E5ECF6",
          "polar": {
           "angularaxis": {
            "gridcolor": "white",
            "linecolor": "white",
            "ticks": ""
           },
           "bgcolor": "#E5ECF6",
           "radialaxis": {
            "gridcolor": "white",
            "linecolor": "white",
            "ticks": ""
           }
          },
          "scene": {
           "xaxis": {
            "backgroundcolor": "#E5ECF6",
            "gridcolor": "white",
            "gridwidth": 2,
            "linecolor": "white",
            "showbackground": true,
            "ticks": "",
            "zerolinecolor": "white"
           },
           "yaxis": {
            "backgroundcolor": "#E5ECF6",
            "gridcolor": "white",
            "gridwidth": 2,
            "linecolor": "white",
            "showbackground": true,
            "ticks": "",
            "zerolinecolor": "white"
           },
           "zaxis": {
            "backgroundcolor": "#E5ECF6",
            "gridcolor": "white",
            "gridwidth": 2,
            "linecolor": "white",
            "showbackground": true,
            "ticks": "",
            "zerolinecolor": "white"
           }
          },
          "shapedefaults": {
           "line": {
            "color": "#2a3f5f"
           }
          },
          "ternary": {
           "aaxis": {
            "gridcolor": "white",
            "linecolor": "white",
            "ticks": ""
           },
           "baxis": {
            "gridcolor": "white",
            "linecolor": "white",
            "ticks": ""
           },
           "bgcolor": "#E5ECF6",
           "caxis": {
            "gridcolor": "white",
            "linecolor": "white",
            "ticks": ""
           }
          },
          "title": {
           "x": 0.05
          },
          "xaxis": {
           "automargin": true,
           "gridcolor": "white",
           "linecolor": "white",
           "ticks": "",
           "title": {
            "standoff": 15
           },
           "zerolinecolor": "white",
           "zerolinewidth": 2
          },
          "yaxis": {
           "automargin": true,
           "gridcolor": "white",
           "linecolor": "white",
           "ticks": "",
           "title": {
            "standoff": 15
           },
           "zerolinecolor": "white",
           "zerolinewidth": 2
          }
         }
        },
        "title": {
         "text": "Genre Poularity Based on Song"
        },
        "xaxis": {
         "anchor": "y",
         "domain": [
          0,
          1
         ],
         "title": {
          "text": "artist_genres"
         }
        },
        "yaxis": {
         "anchor": "x",
         "domain": [
          0,
          1
         ],
         "dtick": 0.2,
         "tick0": 0,
         "tickmode": "linear",
         "title": {
          "text": "Genre Poularity Based on Song"
         }
        }
       }
      },
      "text/html": [
       "<div>                            <div id=\"7086072f-6484-48a1-a691-6016636693cc\" class=\"plotly-graph-div\" style=\"height:525px; width:100%;\"></div>            <script type=\"text/javascript\">                require([\"plotly\"], function(Plotly) {                    window.PLOTLYENV=window.PLOTLYENV || {};                                    if (document.getElementById(\"7086072f-6484-48a1-a691-6016636693cc\")) {                    Plotly.newPlot(                        \"7086072f-6484-48a1-a691-6016636693cc\",                        [{\"alignmentgroup\":\"True\",\"hovertemplate\":\"variable=valence<br>artist_genres=%{x}<br>value=%{y}<extra></extra>\",\"legendgroup\":\"valence\",\"marker\":{\"color\":\"#636efa\",\"pattern\":{\"shape\":\"\"}},\"name\":\"valence\",\"offsetgroup\":\"valence\",\"orientation\":\"v\",\"showlegend\":true,\"textposition\":\"auto\",\"x\":[\"['permanent wave']\",\"['rap']\",\"['modern rock']\",\"['lgbtq+ hip hop']\",\"['folk']\",\"['glam punk']\",\"['madchester']\",\"['bedroom pop']\",\"['modern alternative rock']\",\"['celtic punk']\"],\"xaxis\":\"x\",\"y\":[0.48114285714285715,0.446,0.374,0.639,0.194,0.901,0.7839999999999999,0.868,0.0631,0.428],\"yaxis\":\"y\",\"type\":\"bar\"},{\"alignmentgroup\":\"True\",\"hovertemplate\":\"variable=energy<br>artist_genres=%{x}<br>value=%{y}<extra></extra>\",\"legendgroup\":\"energy\",\"marker\":{\"color\":\"#EF553B\",\"pattern\":{\"shape\":\"\"}},\"name\":\"energy\",\"offsetgroup\":\"energy\",\"orientation\":\"v\",\"showlegend\":true,\"textposition\":\"auto\",\"x\":[\"['permanent wave']\",\"['rap']\",\"['modern rock']\",\"['lgbtq+ hip hop']\",\"['folk']\",\"['glam punk']\",\"['madchester']\",\"['bedroom pop']\",\"['modern alternative rock']\",\"['celtic punk']\"],\"xaxis\":\"x\",\"y\":[0.6902857142857143,0.73,0.905,0.619,0.292,0.716,0.8483333333333333,0.546,0.745,0.551],\"yaxis\":\"y\",\"type\":\"bar\"},{\"alignmentgroup\":\"True\",\"hovertemplate\":\"variable=danceability<br>artist_genres=%{x}<br>value=%{y}<extra></extra>\",\"legendgroup\":\"danceability\",\"marker\":{\"color\":\"#00cc96\",\"pattern\":{\"shape\":\"\"}},\"name\":\"danceability\",\"offsetgroup\":\"danceability\",\"orientation\":\"v\",\"showlegend\":true,\"textposition\":\"auto\",\"x\":[\"['permanent wave']\",\"['rap']\",\"['modern rock']\",\"['lgbtq+ hip hop']\",\"['folk']\",\"['glam punk']\",\"['madchester']\",\"['bedroom pop']\",\"['modern alternative rock']\",\"['celtic punk']\"],\"xaxis\":\"x\",\"y\":[0.47800000000000004,0.834,0.542,0.878,0.711,0.535,0.5106666666666667,0.742,0.472,0.271],\"yaxis\":\"y\",\"type\":\"bar\"},{\"alignmentgroup\":\"True\",\"hovertemplate\":\"variable=acousticness<br>artist_genres=%{x}<br>value=%{y}<extra></extra>\",\"legendgroup\":\"acousticness\",\"marker\":{\"color\":\"#ab63fa\",\"pattern\":{\"shape\":\"\"}},\"name\":\"acousticness\",\"offsetgroup\":\"acousticness\",\"orientation\":\"v\",\"showlegend\":true,\"textposition\":\"auto\",\"x\":[\"['permanent wave']\",\"['rap']\",\"['modern rock']\",\"['lgbtq+ hip hop']\",\"['folk']\",\"['glam punk']\",\"['madchester']\",\"['bedroom pop']\",\"['modern alternative rock']\",\"['celtic punk']\"],\"xaxis\":\"x\",\"y\":[0.2305352,0.00513,0.00172,0.0533,0.313,0.326,0.015314666666666666,0.172,0.000607,0.582],\"yaxis\":\"y\",\"type\":\"bar\"}],                        {\"template\":{\"data\":{\"bar\":[{\"error_x\":{\"color\":\"#2a3f5f\"},\"error_y\":{\"color\":\"#2a3f5f\"},\"marker\":{\"line\":{\"color\":\"#E5ECF6\",\"width\":0.5},\"pattern\":{\"fillmode\":\"overlay\",\"size\":10,\"solidity\":0.2}},\"type\":\"bar\"}],\"barpolar\":[{\"marker\":{\"line\":{\"color\":\"#E5ECF6\",\"width\":0.5},\"pattern\":{\"fillmode\":\"overlay\",\"size\":10,\"solidity\":0.2}},\"type\":\"barpolar\"}],\"carpet\":[{\"aaxis\":{\"endlinecolor\":\"#2a3f5f\",\"gridcolor\":\"white\",\"linecolor\":\"white\",\"minorgridcolor\":\"white\",\"startlinecolor\":\"#2a3f5f\"},\"baxis\":{\"endlinecolor\":\"#2a3f5f\",\"gridcolor\":\"white\",\"linecolor\":\"white\",\"minorgridcolor\":\"white\",\"startlinecolor\":\"#2a3f5f\"},\"type\":\"carpet\"}],\"choropleth\":[{\"colorbar\":{\"outlinewidth\":0,\"ticks\":\"\"},\"type\":\"choropleth\"}],\"contour\":[{\"colorbar\":{\"outlinewidth\":0,\"ticks\":\"\"},\"colorscale\":[[0.0,\"#0d0887\"],[0.1111111111111111,\"#46039f\"],[0.2222222222222222,\"#7201a8\"],[0.3333333333333333,\"#9c179e\"],[0.4444444444444444,\"#bd3786\"],[0.5555555555555556,\"#d8576b\"],[0.6666666666666666,\"#ed7953\"],[0.7777777777777778,\"#fb9f3a\"],[0.8888888888888888,\"#fdca26\"],[1.0,\"#f0f921\"]],\"type\":\"contour\"}],\"contourcarpet\":[{\"colorbar\":{\"outlinewidth\":0,\"ticks\":\"\"},\"type\":\"contourcarpet\"}],\"heatmap\":[{\"colorbar\":{\"outlinewidth\":0,\"ticks\":\"\"},\"colorscale\":[[0.0,\"#0d0887\"],[0.1111111111111111,\"#46039f\"],[0.2222222222222222,\"#7201a8\"],[0.3333333333333333,\"#9c179e\"],[0.4444444444444444,\"#bd3786\"],[0.5555555555555556,\"#d8576b\"],[0.6666666666666666,\"#ed7953\"],[0.7777777777777778,\"#fb9f3a\"],[0.8888888888888888,\"#fdca26\"],[1.0,\"#f0f921\"]],\"type\":\"heatmap\"}],\"heatmapgl\":[{\"colorbar\":{\"outlinewidth\":0,\"ticks\":\"\"},\"colorscale\":[[0.0,\"#0d0887\"],[0.1111111111111111,\"#46039f\"],[0.2222222222222222,\"#7201a8\"],[0.3333333333333333,\"#9c179e\"],[0.4444444444444444,\"#bd3786\"],[0.5555555555555556,\"#d8576b\"],[0.6666666666666666,\"#ed7953\"],[0.7777777777777778,\"#fb9f3a\"],[0.8888888888888888,\"#fdca26\"],[1.0,\"#f0f921\"]],\"type\":\"heatmapgl\"}],\"histogram\":[{\"marker\":{\"pattern\":{\"fillmode\":\"overlay\",\"size\":10,\"solidity\":0.2}},\"type\":\"histogram\"}],\"histogram2d\":[{\"colorbar\":{\"outlinewidth\":0,\"ticks\":\"\"},\"colorscale\":[[0.0,\"#0d0887\"],[0.1111111111111111,\"#46039f\"],[0.2222222222222222,\"#7201a8\"],[0.3333333333333333,\"#9c179e\"],[0.4444444444444444,\"#bd3786\"],[0.5555555555555556,\"#d8576b\"],[0.6666666666666666,\"#ed7953\"],[0.7777777777777778,\"#fb9f3a\"],[0.8888888888888888,\"#fdca26\"],[1.0,\"#f0f921\"]],\"type\":\"histogram2d\"}],\"histogram2dcontour\":[{\"colorbar\":{\"outlinewidth\":0,\"ticks\":\"\"},\"colorscale\":[[0.0,\"#0d0887\"],[0.1111111111111111,\"#46039f\"],[0.2222222222222222,\"#7201a8\"],[0.3333333333333333,\"#9c179e\"],[0.4444444444444444,\"#bd3786\"],[0.5555555555555556,\"#d8576b\"],[0.6666666666666666,\"#ed7953\"],[0.7777777777777778,\"#fb9f3a\"],[0.8888888888888888,\"#fdca26\"],[1.0,\"#f0f921\"]],\"type\":\"histogram2dcontour\"}],\"mesh3d\":[{\"colorbar\":{\"outlinewidth\":0,\"ticks\":\"\"},\"type\":\"mesh3d\"}],\"parcoords\":[{\"line\":{\"colorbar\":{\"outlinewidth\":0,\"ticks\":\"\"}},\"type\":\"parcoords\"}],\"pie\":[{\"automargin\":true,\"type\":\"pie\"}],\"scatter\":[{\"marker\":{\"colorbar\":{\"outlinewidth\":0,\"ticks\":\"\"}},\"type\":\"scatter\"}],\"scatter3d\":[{\"line\":{\"colorbar\":{\"outlinewidth\":0,\"ticks\":\"\"}},\"marker\":{\"colorbar\":{\"outlinewidth\":0,\"ticks\":\"\"}},\"type\":\"scatter3d\"}],\"scattercarpet\":[{\"marker\":{\"colorbar\":{\"outlinewidth\":0,\"ticks\":\"\"}},\"type\":\"scattercarpet\"}],\"scattergeo\":[{\"marker\":{\"colorbar\":{\"outlinewidth\":0,\"ticks\":\"\"}},\"type\":\"scattergeo\"}],\"scattergl\":[{\"marker\":{\"colorbar\":{\"outlinewidth\":0,\"ticks\":\"\"}},\"type\":\"scattergl\"}],\"scattermapbox\":[{\"marker\":{\"colorbar\":{\"outlinewidth\":0,\"ticks\":\"\"}},\"type\":\"scattermapbox\"}],\"scatterpolar\":[{\"marker\":{\"colorbar\":{\"outlinewidth\":0,\"ticks\":\"\"}},\"type\":\"scatterpolar\"}],\"scatterpolargl\":[{\"marker\":{\"colorbar\":{\"outlinewidth\":0,\"ticks\":\"\"}},\"type\":\"scatterpolargl\"}],\"scatterternary\":[{\"marker\":{\"colorbar\":{\"outlinewidth\":0,\"ticks\":\"\"}},\"type\":\"scatterternary\"}],\"surface\":[{\"colorbar\":{\"outlinewidth\":0,\"ticks\":\"\"},\"colorscale\":[[0.0,\"#0d0887\"],[0.1111111111111111,\"#46039f\"],[0.2222222222222222,\"#7201a8\"],[0.3333333333333333,\"#9c179e\"],[0.4444444444444444,\"#bd3786\"],[0.5555555555555556,\"#d8576b\"],[0.6666666666666666,\"#ed7953\"],[0.7777777777777778,\"#fb9f3a\"],[0.8888888888888888,\"#fdca26\"],[1.0,\"#f0f921\"]],\"type\":\"surface\"}],\"table\":[{\"cells\":{\"fill\":{\"color\":\"#EBF0F8\"},\"line\":{\"color\":\"white\"}},\"header\":{\"fill\":{\"color\":\"#C8D4E3\"},\"line\":{\"color\":\"white\"}},\"type\":\"table\"}]},\"layout\":{\"annotationdefaults\":{\"arrowcolor\":\"#2a3f5f\",\"arrowhead\":0,\"arrowwidth\":1},\"autotypenumbers\":\"strict\",\"coloraxis\":{\"colorbar\":{\"outlinewidth\":0,\"ticks\":\"\"}},\"colorscale\":{\"diverging\":[[0,\"#8e0152\"],[0.1,\"#c51b7d\"],[0.2,\"#de77ae\"],[0.3,\"#f1b6da\"],[0.4,\"#fde0ef\"],[0.5,\"#f7f7f7\"],[0.6,\"#e6f5d0\"],[0.7,\"#b8e186\"],[0.8,\"#7fbc41\"],[0.9,\"#4d9221\"],[1,\"#276419\"]],\"sequential\":[[0.0,\"#0d0887\"],[0.1111111111111111,\"#46039f\"],[0.2222222222222222,\"#7201a8\"],[0.3333333333333333,\"#9c179e\"],[0.4444444444444444,\"#bd3786\"],[0.5555555555555556,\"#d8576b\"],[0.6666666666666666,\"#ed7953\"],[0.7777777777777778,\"#fb9f3a\"],[0.8888888888888888,\"#fdca26\"],[1.0,\"#f0f921\"]],\"sequentialminus\":[[0.0,\"#0d0887\"],[0.1111111111111111,\"#46039f\"],[0.2222222222222222,\"#7201a8\"],[0.3333333333333333,\"#9c179e\"],[0.4444444444444444,\"#bd3786\"],[0.5555555555555556,\"#d8576b\"],[0.6666666666666666,\"#ed7953\"],[0.7777777777777778,\"#fb9f3a\"],[0.8888888888888888,\"#fdca26\"],[1.0,\"#f0f921\"]]},\"colorway\":[\"#636efa\",\"#EF553B\",\"#00cc96\",\"#ab63fa\",\"#FFA15A\",\"#19d3f3\",\"#FF6692\",\"#B6E880\",\"#FF97FF\",\"#FECB52\"],\"font\":{\"color\":\"#2a3f5f\"},\"geo\":{\"bgcolor\":\"white\",\"lakecolor\":\"white\",\"landcolor\":\"#E5ECF6\",\"showlakes\":true,\"showland\":true,\"subunitcolor\":\"white\"},\"hoverlabel\":{\"align\":\"left\"},\"hovermode\":\"closest\",\"mapbox\":{\"style\":\"light\"},\"paper_bgcolor\":\"white\",\"plot_bgcolor\":\"#E5ECF6\",\"polar\":{\"angularaxis\":{\"gridcolor\":\"white\",\"linecolor\":\"white\",\"ticks\":\"\"},\"bgcolor\":\"#E5ECF6\",\"radialaxis\":{\"gridcolor\":\"white\",\"linecolor\":\"white\",\"ticks\":\"\"}},\"scene\":{\"xaxis\":{\"backgroundcolor\":\"#E5ECF6\",\"gridcolor\":\"white\",\"gridwidth\":2,\"linecolor\":\"white\",\"showbackground\":true,\"ticks\":\"\",\"zerolinecolor\":\"white\"},\"yaxis\":{\"backgroundcolor\":\"#E5ECF6\",\"gridcolor\":\"white\",\"gridwidth\":2,\"linecolor\":\"white\",\"showbackground\":true,\"ticks\":\"\",\"zerolinecolor\":\"white\"},\"zaxis\":{\"backgroundcolor\":\"#E5ECF6\",\"gridcolor\":\"white\",\"gridwidth\":2,\"linecolor\":\"white\",\"showbackground\":true,\"ticks\":\"\",\"zerolinecolor\":\"white\"}},\"shapedefaults\":{\"line\":{\"color\":\"#2a3f5f\"}},\"ternary\":{\"aaxis\":{\"gridcolor\":\"white\",\"linecolor\":\"white\",\"ticks\":\"\"},\"baxis\":{\"gridcolor\":\"white\",\"linecolor\":\"white\",\"ticks\":\"\"},\"bgcolor\":\"#E5ECF6\",\"caxis\":{\"gridcolor\":\"white\",\"linecolor\":\"white\",\"ticks\":\"\"}},\"title\":{\"x\":0.05},\"xaxis\":{\"automargin\":true,\"gridcolor\":\"white\",\"linecolor\":\"white\",\"ticks\":\"\",\"title\":{\"standoff\":15},\"zerolinecolor\":\"white\",\"zerolinewidth\":2},\"yaxis\":{\"automargin\":true,\"gridcolor\":\"white\",\"linecolor\":\"white\",\"ticks\":\"\",\"title\":{\"standoff\":15},\"zerolinecolor\":\"white\",\"zerolinewidth\":2}}},\"xaxis\":{\"anchor\":\"y\",\"domain\":[0.0,1.0],\"title\":{\"text\":\"artist_genres\"}},\"yaxis\":{\"anchor\":\"x\",\"domain\":[0.0,1.0],\"title\":{\"text\":\"Genre Poularity Based on Song\"},\"tickmode\":\"linear\",\"tick0\":0,\"dtick\":0.2},\"legend\":{\"title\":{\"text\":\"variable\"},\"tracegroupgap\":0},\"margin\":{\"t\":60},\"barmode\":\"group\",\"title\":{\"text\":\"Genre Poularity Based on Song\"}},                        {\"responsive\": true}                    ).then(function(){\n",
       "                            \n",
       "var gd = document.getElementById('7086072f-6484-48a1-a691-6016636693cc');\n",
       "var x = new MutationObserver(function (mutations, observer) {{\n",
       "        var display = window.getComputedStyle(gd).display;\n",
       "        if (!display || display === 'none') {{\n",
       "            console.log([gd, 'removed!']);\n",
       "            Plotly.purge(gd);\n",
       "            observer.disconnect();\n",
       "        }}\n",
       "}});\n",
       "\n",
       "// Listen for the removal of the full notebook cells\n",
       "var notebookContainer = gd.closest('#notebook-container');\n",
       "if (notebookContainer) {{\n",
       "    x.observe(notebookContainer, {childList: true});\n",
       "}}\n",
       "\n",
       "// Listen for the clearing of the current output cell\n",
       "var outputEl = gd.closest('.output');\n",
       "if (outputEl) {{\n",
       "    x.observe(outputEl, {childList: true});\n",
       "}}\n",
       "\n",
       "                        })                };                });            </script>        </div>"
      ]
     },
     "metadata": {},
     "output_type": "display_data"
    }
   ],
   "source": [
    "#top10_genres= genre_df.nlargest(10, 'song_popularity')\n",
    "\n",
    "fig = px.bar(new_genre, x='artist_genres', y=['valence', 'energy', 'danceability', 'acousticness'], barmode='group')\n",
    "\n",
    "\n",
    "fig.update_layout(\n",
    "    title=\"Genre Poularity Based on Song\",\n",
    "    yaxis = dict(\n",
    "        tickmode = 'linear',\n",
    "        title=\"Genre Poularity Based on Song\",\n",
    "        tick0 = 0,\n",
    "        dtick = 0.2\n",
    "    )\n",
    ")\n",
    "fig.show()\n",
    "        "
   ]
  },
  {
   "cell_type": "code",
   "execution_count": 250,
   "id": "e9ce5555",
   "metadata": {},
   "outputs": [
    {
     "data": {
      "application/vnd.plotly.v1+json": {
       "config": {
        "plotlyServerURL": "https://plot.ly"
       },
       "data": [
        {
         "alignmentgroup": "True",
         "hovertemplate": "variable=valence<br>artist_genres=%{x}<br>value=%{y}<extra></extra>",
         "legendgroup": "valence",
         "marker": {
          "color": "#636efa",
          "pattern": {
           "shape": ""
          }
         },
         "name": "valence",
         "offsetgroup": "valence",
         "orientation": "v",
         "showlegend": true,
         "textposition": "auto",
         "type": "bar",
         "x": [
          "['canadian hip hop']",
          "['canadian contemporary r&b']",
          "['detroit hip hop']",
          "['rap']",
          "['chicago rap']",
          "['barbadian pop']",
          "['garage rock']",
          "['glam rock']",
          "['r&b en espanol']",
          "['pop']"
         ],
         "xaxis": "x",
         "y": [
          0.43599999999999994,
          0.593,
          0.537525,
          0.446,
          0.3999714285714286,
          0.5776666666666667,
          0.5915,
          0.31725000000000003,
          0.53,
          0.8236666666666667
         ],
         "yaxis": "y"
        },
        {
         "alignmentgroup": "True",
         "hovertemplate": "variable=energy<br>artist_genres=%{x}<br>value=%{y}<extra></extra>",
         "legendgroup": "energy",
         "marker": {
          "color": "#EF553B",
          "pattern": {
           "shape": ""
          }
         },
         "name": "energy",
         "offsetgroup": "energy",
         "orientation": "v",
         "showlegend": true,
         "textposition": "auto",
         "type": "bar",
         "x": [
          "['canadian hip hop']",
          "['canadian contemporary r&b']",
          "['detroit hip hop']",
          "['rap']",
          "['chicago rap']",
          "['barbadian pop']",
          "['garage rock']",
          "['glam rock']",
          "['r&b en espanol']",
          "['pop']"
         ],
         "xaxis": "x",
         "y": [
          0.518,
          0.77,
          0.7150000000000001,
          0.73,
          0.701,
          0.7096666666666667,
          0.74,
          0.41400000000000003,
          0.482,
          0.7353333333333333
         ],
         "yaxis": "y"
        },
        {
         "alignmentgroup": "True",
         "hovertemplate": "variable=danceability<br>artist_genres=%{x}<br>value=%{y}<extra></extra>",
         "legendgroup": "danceability",
         "marker": {
          "color": "#00cc96",
          "pattern": {
           "shape": ""
          }
         },
         "name": "danceability",
         "offsetgroup": "danceability",
         "orientation": "v",
         "showlegend": true,
         "textposition": "auto",
         "type": "bar",
         "x": [
          "['canadian hip hop']",
          "['canadian contemporary r&b']",
          "['detroit hip hop']",
          "['rap']",
          "['chicago rap']",
          "['barbadian pop']",
          "['garage rock']",
          "['glam rock']",
          "['r&b en espanol']",
          "['pop']"
         ],
         "xaxis": "x",
         "y": [
          0.8360000000000001,
          0.702,
          0.82,
          0.834,
          0.597857142857143,
          0.6806666666666666,
          0.5415000000000001,
          0.5329999999999999,
          0.893,
          0.8183333333333334
         ],
         "yaxis": "y"
        },
        {
         "alignmentgroup": "True",
         "hovertemplate": "variable=acousticness<br>artist_genres=%{x}<br>value=%{y}<extra></extra>",
         "legendgroup": "acousticness",
         "marker": {
          "color": "#ab63fa",
          "pattern": {
           "shape": ""
          }
         },
         "name": "acousticness",
         "offsetgroup": "acousticness",
         "orientation": "v",
         "showlegend": true,
         "textposition": "auto",
         "type": "bar",
         "x": [
          "['canadian hip hop']",
          "['canadian contemporary r&b']",
          "['detroit hip hop']",
          "['rap']",
          "['chicago rap']",
          "['barbadian pop']",
          "['garage rock']",
          "['glam rock']",
          "['r&b en espanol']",
          "['pop']"
         ],
         "xaxis": "x",
         "y": [
          0.00336,
          0.124,
          0.03175,
          0.00513,
          0.21062142857142857,
          0.03628,
          0.094125,
          0.55475,
          0.549,
          0.0924
         ],
         "yaxis": "y"
        }
       ],
       "layout": {
        "barmode": "group",
        "legend": {
         "title": {
          "text": "variable"
         },
         "tracegroupgap": 0
        },
        "margin": {
         "t": 60
        },
        "template": {
         "data": {
          "bar": [
           {
            "error_x": {
             "color": "#2a3f5f"
            },
            "error_y": {
             "color": "#2a3f5f"
            },
            "marker": {
             "line": {
              "color": "#E5ECF6",
              "width": 0.5
             },
             "pattern": {
              "fillmode": "overlay",
              "size": 10,
              "solidity": 0.2
             }
            },
            "type": "bar"
           }
          ],
          "barpolar": [
           {
            "marker": {
             "line": {
              "color": "#E5ECF6",
              "width": 0.5
             },
             "pattern": {
              "fillmode": "overlay",
              "size": 10,
              "solidity": 0.2
             }
            },
            "type": "barpolar"
           }
          ],
          "carpet": [
           {
            "aaxis": {
             "endlinecolor": "#2a3f5f",
             "gridcolor": "white",
             "linecolor": "white",
             "minorgridcolor": "white",
             "startlinecolor": "#2a3f5f"
            },
            "baxis": {
             "endlinecolor": "#2a3f5f",
             "gridcolor": "white",
             "linecolor": "white",
             "minorgridcolor": "white",
             "startlinecolor": "#2a3f5f"
            },
            "type": "carpet"
           }
          ],
          "choropleth": [
           {
            "colorbar": {
             "outlinewidth": 0,
             "ticks": ""
            },
            "type": "choropleth"
           }
          ],
          "contour": [
           {
            "colorbar": {
             "outlinewidth": 0,
             "ticks": ""
            },
            "colorscale": [
             [
              0,
              "#0d0887"
             ],
             [
              0.1111111111111111,
              "#46039f"
             ],
             [
              0.2222222222222222,
              "#7201a8"
             ],
             [
              0.3333333333333333,
              "#9c179e"
             ],
             [
              0.4444444444444444,
              "#bd3786"
             ],
             [
              0.5555555555555556,
              "#d8576b"
             ],
             [
              0.6666666666666666,
              "#ed7953"
             ],
             [
              0.7777777777777778,
              "#fb9f3a"
             ],
             [
              0.8888888888888888,
              "#fdca26"
             ],
             [
              1,
              "#f0f921"
             ]
            ],
            "type": "contour"
           }
          ],
          "contourcarpet": [
           {
            "colorbar": {
             "outlinewidth": 0,
             "ticks": ""
            },
            "type": "contourcarpet"
           }
          ],
          "heatmap": [
           {
            "colorbar": {
             "outlinewidth": 0,
             "ticks": ""
            },
            "colorscale": [
             [
              0,
              "#0d0887"
             ],
             [
              0.1111111111111111,
              "#46039f"
             ],
             [
              0.2222222222222222,
              "#7201a8"
             ],
             [
              0.3333333333333333,
              "#9c179e"
             ],
             [
              0.4444444444444444,
              "#bd3786"
             ],
             [
              0.5555555555555556,
              "#d8576b"
             ],
             [
              0.6666666666666666,
              "#ed7953"
             ],
             [
              0.7777777777777778,
              "#fb9f3a"
             ],
             [
              0.8888888888888888,
              "#fdca26"
             ],
             [
              1,
              "#f0f921"
             ]
            ],
            "type": "heatmap"
           }
          ],
          "heatmapgl": [
           {
            "colorbar": {
             "outlinewidth": 0,
             "ticks": ""
            },
            "colorscale": [
             [
              0,
              "#0d0887"
             ],
             [
              0.1111111111111111,
              "#46039f"
             ],
             [
              0.2222222222222222,
              "#7201a8"
             ],
             [
              0.3333333333333333,
              "#9c179e"
             ],
             [
              0.4444444444444444,
              "#bd3786"
             ],
             [
              0.5555555555555556,
              "#d8576b"
             ],
             [
              0.6666666666666666,
              "#ed7953"
             ],
             [
              0.7777777777777778,
              "#fb9f3a"
             ],
             [
              0.8888888888888888,
              "#fdca26"
             ],
             [
              1,
              "#f0f921"
             ]
            ],
            "type": "heatmapgl"
           }
          ],
          "histogram": [
           {
            "marker": {
             "pattern": {
              "fillmode": "overlay",
              "size": 10,
              "solidity": 0.2
             }
            },
            "type": "histogram"
           }
          ],
          "histogram2d": [
           {
            "colorbar": {
             "outlinewidth": 0,
             "ticks": ""
            },
            "colorscale": [
             [
              0,
              "#0d0887"
             ],
             [
              0.1111111111111111,
              "#46039f"
             ],
             [
              0.2222222222222222,
              "#7201a8"
             ],
             [
              0.3333333333333333,
              "#9c179e"
             ],
             [
              0.4444444444444444,
              "#bd3786"
             ],
             [
              0.5555555555555556,
              "#d8576b"
             ],
             [
              0.6666666666666666,
              "#ed7953"
             ],
             [
              0.7777777777777778,
              "#fb9f3a"
             ],
             [
              0.8888888888888888,
              "#fdca26"
             ],
             [
              1,
              "#f0f921"
             ]
            ],
            "type": "histogram2d"
           }
          ],
          "histogram2dcontour": [
           {
            "colorbar": {
             "outlinewidth": 0,
             "ticks": ""
            },
            "colorscale": [
             [
              0,
              "#0d0887"
             ],
             [
              0.1111111111111111,
              "#46039f"
             ],
             [
              0.2222222222222222,
              "#7201a8"
             ],
             [
              0.3333333333333333,
              "#9c179e"
             ],
             [
              0.4444444444444444,
              "#bd3786"
             ],
             [
              0.5555555555555556,
              "#d8576b"
             ],
             [
              0.6666666666666666,
              "#ed7953"
             ],
             [
              0.7777777777777778,
              "#fb9f3a"
             ],
             [
              0.8888888888888888,
              "#fdca26"
             ],
             [
              1,
              "#f0f921"
             ]
            ],
            "type": "histogram2dcontour"
           }
          ],
          "mesh3d": [
           {
            "colorbar": {
             "outlinewidth": 0,
             "ticks": ""
            },
            "type": "mesh3d"
           }
          ],
          "parcoords": [
           {
            "line": {
             "colorbar": {
              "outlinewidth": 0,
              "ticks": ""
             }
            },
            "type": "parcoords"
           }
          ],
          "pie": [
           {
            "automargin": true,
            "type": "pie"
           }
          ],
          "scatter": [
           {
            "marker": {
             "colorbar": {
              "outlinewidth": 0,
              "ticks": ""
             }
            },
            "type": "scatter"
           }
          ],
          "scatter3d": [
           {
            "line": {
             "colorbar": {
              "outlinewidth": 0,
              "ticks": ""
             }
            },
            "marker": {
             "colorbar": {
              "outlinewidth": 0,
              "ticks": ""
             }
            },
            "type": "scatter3d"
           }
          ],
          "scattercarpet": [
           {
            "marker": {
             "colorbar": {
              "outlinewidth": 0,
              "ticks": ""
             }
            },
            "type": "scattercarpet"
           }
          ],
          "scattergeo": [
           {
            "marker": {
             "colorbar": {
              "outlinewidth": 0,
              "ticks": ""
             }
            },
            "type": "scattergeo"
           }
          ],
          "scattergl": [
           {
            "marker": {
             "colorbar": {
              "outlinewidth": 0,
              "ticks": ""
             }
            },
            "type": "scattergl"
           }
          ],
          "scattermapbox": [
           {
            "marker": {
             "colorbar": {
              "outlinewidth": 0,
              "ticks": ""
             }
            },
            "type": "scattermapbox"
           }
          ],
          "scatterpolar": [
           {
            "marker": {
             "colorbar": {
              "outlinewidth": 0,
              "ticks": ""
             }
            },
            "type": "scatterpolar"
           }
          ],
          "scatterpolargl": [
           {
            "marker": {
             "colorbar": {
              "outlinewidth": 0,
              "ticks": ""
             }
            },
            "type": "scatterpolargl"
           }
          ],
          "scatterternary": [
           {
            "marker": {
             "colorbar": {
              "outlinewidth": 0,
              "ticks": ""
             }
            },
            "type": "scatterternary"
           }
          ],
          "surface": [
           {
            "colorbar": {
             "outlinewidth": 0,
             "ticks": ""
            },
            "colorscale": [
             [
              0,
              "#0d0887"
             ],
             [
              0.1111111111111111,
              "#46039f"
             ],
             [
              0.2222222222222222,
              "#7201a8"
             ],
             [
              0.3333333333333333,
              "#9c179e"
             ],
             [
              0.4444444444444444,
              "#bd3786"
             ],
             [
              0.5555555555555556,
              "#d8576b"
             ],
             [
              0.6666666666666666,
              "#ed7953"
             ],
             [
              0.7777777777777778,
              "#fb9f3a"
             ],
             [
              0.8888888888888888,
              "#fdca26"
             ],
             [
              1,
              "#f0f921"
             ]
            ],
            "type": "surface"
           }
          ],
          "table": [
           {
            "cells": {
             "fill": {
              "color": "#EBF0F8"
             },
             "line": {
              "color": "white"
             }
            },
            "header": {
             "fill": {
              "color": "#C8D4E3"
             },
             "line": {
              "color": "white"
             }
            },
            "type": "table"
           }
          ]
         },
         "layout": {
          "annotationdefaults": {
           "arrowcolor": "#2a3f5f",
           "arrowhead": 0,
           "arrowwidth": 1
          },
          "autotypenumbers": "strict",
          "coloraxis": {
           "colorbar": {
            "outlinewidth": 0,
            "ticks": ""
           }
          },
          "colorscale": {
           "diverging": [
            [
             0,
             "#8e0152"
            ],
            [
             0.1,
             "#c51b7d"
            ],
            [
             0.2,
             "#de77ae"
            ],
            [
             0.3,
             "#f1b6da"
            ],
            [
             0.4,
             "#fde0ef"
            ],
            [
             0.5,
             "#f7f7f7"
            ],
            [
             0.6,
             "#e6f5d0"
            ],
            [
             0.7,
             "#b8e186"
            ],
            [
             0.8,
             "#7fbc41"
            ],
            [
             0.9,
             "#4d9221"
            ],
            [
             1,
             "#276419"
            ]
           ],
           "sequential": [
            [
             0,
             "#0d0887"
            ],
            [
             0.1111111111111111,
             "#46039f"
            ],
            [
             0.2222222222222222,
             "#7201a8"
            ],
            [
             0.3333333333333333,
             "#9c179e"
            ],
            [
             0.4444444444444444,
             "#bd3786"
            ],
            [
             0.5555555555555556,
             "#d8576b"
            ],
            [
             0.6666666666666666,
             "#ed7953"
            ],
            [
             0.7777777777777778,
             "#fb9f3a"
            ],
            [
             0.8888888888888888,
             "#fdca26"
            ],
            [
             1,
             "#f0f921"
            ]
           ],
           "sequentialminus": [
            [
             0,
             "#0d0887"
            ],
            [
             0.1111111111111111,
             "#46039f"
            ],
            [
             0.2222222222222222,
             "#7201a8"
            ],
            [
             0.3333333333333333,
             "#9c179e"
            ],
            [
             0.4444444444444444,
             "#bd3786"
            ],
            [
             0.5555555555555556,
             "#d8576b"
            ],
            [
             0.6666666666666666,
             "#ed7953"
            ],
            [
             0.7777777777777778,
             "#fb9f3a"
            ],
            [
             0.8888888888888888,
             "#fdca26"
            ],
            [
             1,
             "#f0f921"
            ]
           ]
          },
          "colorway": [
           "#636efa",
           "#EF553B",
           "#00cc96",
           "#ab63fa",
           "#FFA15A",
           "#19d3f3",
           "#FF6692",
           "#B6E880",
           "#FF97FF",
           "#FECB52"
          ],
          "font": {
           "color": "#2a3f5f"
          },
          "geo": {
           "bgcolor": "white",
           "lakecolor": "white",
           "landcolor": "#E5ECF6",
           "showlakes": true,
           "showland": true,
           "subunitcolor": "white"
          },
          "hoverlabel": {
           "align": "left"
          },
          "hovermode": "closest",
          "mapbox": {
           "style": "light"
          },
          "paper_bgcolor": "white",
          "plot_bgcolor": "#E5ECF6",
          "polar": {
           "angularaxis": {
            "gridcolor": "white",
            "linecolor": "white",
            "ticks": ""
           },
           "bgcolor": "#E5ECF6",
           "radialaxis": {
            "gridcolor": "white",
            "linecolor": "white",
            "ticks": ""
           }
          },
          "scene": {
           "xaxis": {
            "backgroundcolor": "#E5ECF6",
            "gridcolor": "white",
            "gridwidth": 2,
            "linecolor": "white",
            "showbackground": true,
            "ticks": "",
            "zerolinecolor": "white"
           },
           "yaxis": {
            "backgroundcolor": "#E5ECF6",
            "gridcolor": "white",
            "gridwidth": 2,
            "linecolor": "white",
            "showbackground": true,
            "ticks": "",
            "zerolinecolor": "white"
           },
           "zaxis": {
            "backgroundcolor": "#E5ECF6",
            "gridcolor": "white",
            "gridwidth": 2,
            "linecolor": "white",
            "showbackground": true,
            "ticks": "",
            "zerolinecolor": "white"
           }
          },
          "shapedefaults": {
           "line": {
            "color": "#2a3f5f"
           }
          },
          "ternary": {
           "aaxis": {
            "gridcolor": "white",
            "linecolor": "white",
            "ticks": ""
           },
           "baxis": {
            "gridcolor": "white",
            "linecolor": "white",
            "ticks": ""
           },
           "bgcolor": "#E5ECF6",
           "caxis": {
            "gridcolor": "white",
            "linecolor": "white",
            "ticks": ""
           }
          },
          "title": {
           "x": 0.05
          },
          "xaxis": {
           "automargin": true,
           "gridcolor": "white",
           "linecolor": "white",
           "ticks": "",
           "title": {
            "standoff": 15
           },
           "zerolinecolor": "white",
           "zerolinewidth": 2
          },
          "yaxis": {
           "automargin": true,
           "gridcolor": "white",
           "linecolor": "white",
           "ticks": "",
           "title": {
            "standoff": 15
           },
           "zerolinecolor": "white",
           "zerolinewidth": 2
          }
         }
        },
        "title": {
         "text": "Genre Poularity Based on Artist"
        },
        "xaxis": {
         "anchor": "y",
         "domain": [
          0,
          1
         ],
         "title": {
          "text": "artist_genres"
         }
        },
        "yaxis": {
         "anchor": "x",
         "domain": [
          0,
          1
         ],
         "dtick": 0.2,
         "tick0": 0,
         "tickmode": "linear",
         "title": {
          "text": "value"
         }
        }
       }
      },
      "text/html": [
       "<div>                            <div id=\"fd6ff15d-a285-4434-a94b-678f08f9c36a\" class=\"plotly-graph-div\" style=\"height:525px; width:100%;\"></div>            <script type=\"text/javascript\">                require([\"plotly\"], function(Plotly) {                    window.PLOTLYENV=window.PLOTLYENV || {};                                    if (document.getElementById(\"fd6ff15d-a285-4434-a94b-678f08f9c36a\")) {                    Plotly.newPlot(                        \"fd6ff15d-a285-4434-a94b-678f08f9c36a\",                        [{\"alignmentgroup\":\"True\",\"hovertemplate\":\"variable=valence<br>artist_genres=%{x}<br>value=%{y}<extra></extra>\",\"legendgroup\":\"valence\",\"marker\":{\"color\":\"#636efa\",\"pattern\":{\"shape\":\"\"}},\"name\":\"valence\",\"offsetgroup\":\"valence\",\"orientation\":\"v\",\"showlegend\":true,\"textposition\":\"auto\",\"x\":[\"['canadian hip hop']\",\"['canadian contemporary r&b']\",\"['detroit hip hop']\",\"['rap']\",\"['chicago rap']\",\"['barbadian pop']\",\"['garage rock']\",\"['glam rock']\",\"['r&b en espanol']\",\"['pop']\"],\"xaxis\":\"x\",\"y\":[0.43599999999999994,0.593,0.537525,0.446,0.3999714285714286,0.5776666666666667,0.5915,0.31725000000000003,0.53,0.8236666666666667],\"yaxis\":\"y\",\"type\":\"bar\"},{\"alignmentgroup\":\"True\",\"hovertemplate\":\"variable=energy<br>artist_genres=%{x}<br>value=%{y}<extra></extra>\",\"legendgroup\":\"energy\",\"marker\":{\"color\":\"#EF553B\",\"pattern\":{\"shape\":\"\"}},\"name\":\"energy\",\"offsetgroup\":\"energy\",\"orientation\":\"v\",\"showlegend\":true,\"textposition\":\"auto\",\"x\":[\"['canadian hip hop']\",\"['canadian contemporary r&b']\",\"['detroit hip hop']\",\"['rap']\",\"['chicago rap']\",\"['barbadian pop']\",\"['garage rock']\",\"['glam rock']\",\"['r&b en espanol']\",\"['pop']\"],\"xaxis\":\"x\",\"y\":[0.518,0.77,0.7150000000000001,0.73,0.701,0.7096666666666667,0.74,0.41400000000000003,0.482,0.7353333333333333],\"yaxis\":\"y\",\"type\":\"bar\"},{\"alignmentgroup\":\"True\",\"hovertemplate\":\"variable=danceability<br>artist_genres=%{x}<br>value=%{y}<extra></extra>\",\"legendgroup\":\"danceability\",\"marker\":{\"color\":\"#00cc96\",\"pattern\":{\"shape\":\"\"}},\"name\":\"danceability\",\"offsetgroup\":\"danceability\",\"orientation\":\"v\",\"showlegend\":true,\"textposition\":\"auto\",\"x\":[\"['canadian hip hop']\",\"['canadian contemporary r&b']\",\"['detroit hip hop']\",\"['rap']\",\"['chicago rap']\",\"['barbadian pop']\",\"['garage rock']\",\"['glam rock']\",\"['r&b en espanol']\",\"['pop']\"],\"xaxis\":\"x\",\"y\":[0.8360000000000001,0.702,0.82,0.834,0.597857142857143,0.6806666666666666,0.5415000000000001,0.5329999999999999,0.893,0.8183333333333334],\"yaxis\":\"y\",\"type\":\"bar\"},{\"alignmentgroup\":\"True\",\"hovertemplate\":\"variable=acousticness<br>artist_genres=%{x}<br>value=%{y}<extra></extra>\",\"legendgroup\":\"acousticness\",\"marker\":{\"color\":\"#ab63fa\",\"pattern\":{\"shape\":\"\"}},\"name\":\"acousticness\",\"offsetgroup\":\"acousticness\",\"orientation\":\"v\",\"showlegend\":true,\"textposition\":\"auto\",\"x\":[\"['canadian hip hop']\",\"['canadian contemporary r&b']\",\"['detroit hip hop']\",\"['rap']\",\"['chicago rap']\",\"['barbadian pop']\",\"['garage rock']\",\"['glam rock']\",\"['r&b en espanol']\",\"['pop']\"],\"xaxis\":\"x\",\"y\":[0.00336,0.124,0.03175,0.00513,0.21062142857142857,0.03628,0.094125,0.55475,0.549,0.0924],\"yaxis\":\"y\",\"type\":\"bar\"}],                        {\"template\":{\"data\":{\"bar\":[{\"error_x\":{\"color\":\"#2a3f5f\"},\"error_y\":{\"color\":\"#2a3f5f\"},\"marker\":{\"line\":{\"color\":\"#E5ECF6\",\"width\":0.5},\"pattern\":{\"fillmode\":\"overlay\",\"size\":10,\"solidity\":0.2}},\"type\":\"bar\"}],\"barpolar\":[{\"marker\":{\"line\":{\"color\":\"#E5ECF6\",\"width\":0.5},\"pattern\":{\"fillmode\":\"overlay\",\"size\":10,\"solidity\":0.2}},\"type\":\"barpolar\"}],\"carpet\":[{\"aaxis\":{\"endlinecolor\":\"#2a3f5f\",\"gridcolor\":\"white\",\"linecolor\":\"white\",\"minorgridcolor\":\"white\",\"startlinecolor\":\"#2a3f5f\"},\"baxis\":{\"endlinecolor\":\"#2a3f5f\",\"gridcolor\":\"white\",\"linecolor\":\"white\",\"minorgridcolor\":\"white\",\"startlinecolor\":\"#2a3f5f\"},\"type\":\"carpet\"}],\"choropleth\":[{\"colorbar\":{\"outlinewidth\":0,\"ticks\":\"\"},\"type\":\"choropleth\"}],\"contour\":[{\"colorbar\":{\"outlinewidth\":0,\"ticks\":\"\"},\"colorscale\":[[0.0,\"#0d0887\"],[0.1111111111111111,\"#46039f\"],[0.2222222222222222,\"#7201a8\"],[0.3333333333333333,\"#9c179e\"],[0.4444444444444444,\"#bd3786\"],[0.5555555555555556,\"#d8576b\"],[0.6666666666666666,\"#ed7953\"],[0.7777777777777778,\"#fb9f3a\"],[0.8888888888888888,\"#fdca26\"],[1.0,\"#f0f921\"]],\"type\":\"contour\"}],\"contourcarpet\":[{\"colorbar\":{\"outlinewidth\":0,\"ticks\":\"\"},\"type\":\"contourcarpet\"}],\"heatmap\":[{\"colorbar\":{\"outlinewidth\":0,\"ticks\":\"\"},\"colorscale\":[[0.0,\"#0d0887\"],[0.1111111111111111,\"#46039f\"],[0.2222222222222222,\"#7201a8\"],[0.3333333333333333,\"#9c179e\"],[0.4444444444444444,\"#bd3786\"],[0.5555555555555556,\"#d8576b\"],[0.6666666666666666,\"#ed7953\"],[0.7777777777777778,\"#fb9f3a\"],[0.8888888888888888,\"#fdca26\"],[1.0,\"#f0f921\"]],\"type\":\"heatmap\"}],\"heatmapgl\":[{\"colorbar\":{\"outlinewidth\":0,\"ticks\":\"\"},\"colorscale\":[[0.0,\"#0d0887\"],[0.1111111111111111,\"#46039f\"],[0.2222222222222222,\"#7201a8\"],[0.3333333333333333,\"#9c179e\"],[0.4444444444444444,\"#bd3786\"],[0.5555555555555556,\"#d8576b\"],[0.6666666666666666,\"#ed7953\"],[0.7777777777777778,\"#fb9f3a\"],[0.8888888888888888,\"#fdca26\"],[1.0,\"#f0f921\"]],\"type\":\"heatmapgl\"}],\"histogram\":[{\"marker\":{\"pattern\":{\"fillmode\":\"overlay\",\"size\":10,\"solidity\":0.2}},\"type\":\"histogram\"}],\"histogram2d\":[{\"colorbar\":{\"outlinewidth\":0,\"ticks\":\"\"},\"colorscale\":[[0.0,\"#0d0887\"],[0.1111111111111111,\"#46039f\"],[0.2222222222222222,\"#7201a8\"],[0.3333333333333333,\"#9c179e\"],[0.4444444444444444,\"#bd3786\"],[0.5555555555555556,\"#d8576b\"],[0.6666666666666666,\"#ed7953\"],[0.7777777777777778,\"#fb9f3a\"],[0.8888888888888888,\"#fdca26\"],[1.0,\"#f0f921\"]],\"type\":\"histogram2d\"}],\"histogram2dcontour\":[{\"colorbar\":{\"outlinewidth\":0,\"ticks\":\"\"},\"colorscale\":[[0.0,\"#0d0887\"],[0.1111111111111111,\"#46039f\"],[0.2222222222222222,\"#7201a8\"],[0.3333333333333333,\"#9c179e\"],[0.4444444444444444,\"#bd3786\"],[0.5555555555555556,\"#d8576b\"],[0.6666666666666666,\"#ed7953\"],[0.7777777777777778,\"#fb9f3a\"],[0.8888888888888888,\"#fdca26\"],[1.0,\"#f0f921\"]],\"type\":\"histogram2dcontour\"}],\"mesh3d\":[{\"colorbar\":{\"outlinewidth\":0,\"ticks\":\"\"},\"type\":\"mesh3d\"}],\"parcoords\":[{\"line\":{\"colorbar\":{\"outlinewidth\":0,\"ticks\":\"\"}},\"type\":\"parcoords\"}],\"pie\":[{\"automargin\":true,\"type\":\"pie\"}],\"scatter\":[{\"marker\":{\"colorbar\":{\"outlinewidth\":0,\"ticks\":\"\"}},\"type\":\"scatter\"}],\"scatter3d\":[{\"line\":{\"colorbar\":{\"outlinewidth\":0,\"ticks\":\"\"}},\"marker\":{\"colorbar\":{\"outlinewidth\":0,\"ticks\":\"\"}},\"type\":\"scatter3d\"}],\"scattercarpet\":[{\"marker\":{\"colorbar\":{\"outlinewidth\":0,\"ticks\":\"\"}},\"type\":\"scattercarpet\"}],\"scattergeo\":[{\"marker\":{\"colorbar\":{\"outlinewidth\":0,\"ticks\":\"\"}},\"type\":\"scattergeo\"}],\"scattergl\":[{\"marker\":{\"colorbar\":{\"outlinewidth\":0,\"ticks\":\"\"}},\"type\":\"scattergl\"}],\"scattermapbox\":[{\"marker\":{\"colorbar\":{\"outlinewidth\":0,\"ticks\":\"\"}},\"type\":\"scattermapbox\"}],\"scatterpolar\":[{\"marker\":{\"colorbar\":{\"outlinewidth\":0,\"ticks\":\"\"}},\"type\":\"scatterpolar\"}],\"scatterpolargl\":[{\"marker\":{\"colorbar\":{\"outlinewidth\":0,\"ticks\":\"\"}},\"type\":\"scatterpolargl\"}],\"scatterternary\":[{\"marker\":{\"colorbar\":{\"outlinewidth\":0,\"ticks\":\"\"}},\"type\":\"scatterternary\"}],\"surface\":[{\"colorbar\":{\"outlinewidth\":0,\"ticks\":\"\"},\"colorscale\":[[0.0,\"#0d0887\"],[0.1111111111111111,\"#46039f\"],[0.2222222222222222,\"#7201a8\"],[0.3333333333333333,\"#9c179e\"],[0.4444444444444444,\"#bd3786\"],[0.5555555555555556,\"#d8576b\"],[0.6666666666666666,\"#ed7953\"],[0.7777777777777778,\"#fb9f3a\"],[0.8888888888888888,\"#fdca26\"],[1.0,\"#f0f921\"]],\"type\":\"surface\"}],\"table\":[{\"cells\":{\"fill\":{\"color\":\"#EBF0F8\"},\"line\":{\"color\":\"white\"}},\"header\":{\"fill\":{\"color\":\"#C8D4E3\"},\"line\":{\"color\":\"white\"}},\"type\":\"table\"}]},\"layout\":{\"annotationdefaults\":{\"arrowcolor\":\"#2a3f5f\",\"arrowhead\":0,\"arrowwidth\":1},\"autotypenumbers\":\"strict\",\"coloraxis\":{\"colorbar\":{\"outlinewidth\":0,\"ticks\":\"\"}},\"colorscale\":{\"diverging\":[[0,\"#8e0152\"],[0.1,\"#c51b7d\"],[0.2,\"#de77ae\"],[0.3,\"#f1b6da\"],[0.4,\"#fde0ef\"],[0.5,\"#f7f7f7\"],[0.6,\"#e6f5d0\"],[0.7,\"#b8e186\"],[0.8,\"#7fbc41\"],[0.9,\"#4d9221\"],[1,\"#276419\"]],\"sequential\":[[0.0,\"#0d0887\"],[0.1111111111111111,\"#46039f\"],[0.2222222222222222,\"#7201a8\"],[0.3333333333333333,\"#9c179e\"],[0.4444444444444444,\"#bd3786\"],[0.5555555555555556,\"#d8576b\"],[0.6666666666666666,\"#ed7953\"],[0.7777777777777778,\"#fb9f3a\"],[0.8888888888888888,\"#fdca26\"],[1.0,\"#f0f921\"]],\"sequentialminus\":[[0.0,\"#0d0887\"],[0.1111111111111111,\"#46039f\"],[0.2222222222222222,\"#7201a8\"],[0.3333333333333333,\"#9c179e\"],[0.4444444444444444,\"#bd3786\"],[0.5555555555555556,\"#d8576b\"],[0.6666666666666666,\"#ed7953\"],[0.7777777777777778,\"#fb9f3a\"],[0.8888888888888888,\"#fdca26\"],[1.0,\"#f0f921\"]]},\"colorway\":[\"#636efa\",\"#EF553B\",\"#00cc96\",\"#ab63fa\",\"#FFA15A\",\"#19d3f3\",\"#FF6692\",\"#B6E880\",\"#FF97FF\",\"#FECB52\"],\"font\":{\"color\":\"#2a3f5f\"},\"geo\":{\"bgcolor\":\"white\",\"lakecolor\":\"white\",\"landcolor\":\"#E5ECF6\",\"showlakes\":true,\"showland\":true,\"subunitcolor\":\"white\"},\"hoverlabel\":{\"align\":\"left\"},\"hovermode\":\"closest\",\"mapbox\":{\"style\":\"light\"},\"paper_bgcolor\":\"white\",\"plot_bgcolor\":\"#E5ECF6\",\"polar\":{\"angularaxis\":{\"gridcolor\":\"white\",\"linecolor\":\"white\",\"ticks\":\"\"},\"bgcolor\":\"#E5ECF6\",\"radialaxis\":{\"gridcolor\":\"white\",\"linecolor\":\"white\",\"ticks\":\"\"}},\"scene\":{\"xaxis\":{\"backgroundcolor\":\"#E5ECF6\",\"gridcolor\":\"white\",\"gridwidth\":2,\"linecolor\":\"white\",\"showbackground\":true,\"ticks\":\"\",\"zerolinecolor\":\"white\"},\"yaxis\":{\"backgroundcolor\":\"#E5ECF6\",\"gridcolor\":\"white\",\"gridwidth\":2,\"linecolor\":\"white\",\"showbackground\":true,\"ticks\":\"\",\"zerolinecolor\":\"white\"},\"zaxis\":{\"backgroundcolor\":\"#E5ECF6\",\"gridcolor\":\"white\",\"gridwidth\":2,\"linecolor\":\"white\",\"showbackground\":true,\"ticks\":\"\",\"zerolinecolor\":\"white\"}},\"shapedefaults\":{\"line\":{\"color\":\"#2a3f5f\"}},\"ternary\":{\"aaxis\":{\"gridcolor\":\"white\",\"linecolor\":\"white\",\"ticks\":\"\"},\"baxis\":{\"gridcolor\":\"white\",\"linecolor\":\"white\",\"ticks\":\"\"},\"bgcolor\":\"#E5ECF6\",\"caxis\":{\"gridcolor\":\"white\",\"linecolor\":\"white\",\"ticks\":\"\"}},\"title\":{\"x\":0.05},\"xaxis\":{\"automargin\":true,\"gridcolor\":\"white\",\"linecolor\":\"white\",\"ticks\":\"\",\"title\":{\"standoff\":15},\"zerolinecolor\":\"white\",\"zerolinewidth\":2},\"yaxis\":{\"automargin\":true,\"gridcolor\":\"white\",\"linecolor\":\"white\",\"ticks\":\"\",\"title\":{\"standoff\":15},\"zerolinecolor\":\"white\",\"zerolinewidth\":2}}},\"xaxis\":{\"anchor\":\"y\",\"domain\":[0.0,1.0],\"title\":{\"text\":\"artist_genres\"}},\"yaxis\":{\"anchor\":\"x\",\"domain\":[0.0,1.0],\"title\":{\"text\":\"value\"},\"tickmode\":\"linear\",\"tick0\":0,\"dtick\":0.2},\"legend\":{\"title\":{\"text\":\"variable\"},\"tracegroupgap\":0},\"margin\":{\"t\":60},\"barmode\":\"group\",\"title\":{\"text\":\"Genre Poularity Based on Artist\"}},                        {\"responsive\": true}                    ).then(function(){\n",
       "                            \n",
       "var gd = document.getElementById('fd6ff15d-a285-4434-a94b-678f08f9c36a');\n",
       "var x = new MutationObserver(function (mutations, observer) {{\n",
       "        var display = window.getComputedStyle(gd).display;\n",
       "        if (!display || display === 'none') {{\n",
       "            console.log([gd, 'removed!']);\n",
       "            Plotly.purge(gd);\n",
       "            observer.disconnect();\n",
       "        }}\n",
       "}});\n",
       "\n",
       "// Listen for the removal of the full notebook cells\n",
       "var notebookContainer = gd.closest('#notebook-container');\n",
       "if (notebookContainer) {{\n",
       "    x.observe(notebookContainer, {childList: true});\n",
       "}}\n",
       "\n",
       "// Listen for the clearing of the current output cell\n",
       "var outputEl = gd.closest('.output');\n",
       "if (outputEl) {{\n",
       "    x.observe(outputEl, {childList: true});\n",
       "}}\n",
       "\n",
       "                        })                };                });            </script>        </div>"
      ]
     },
     "metadata": {},
     "output_type": "display_data"
    }
   ],
   "source": [
    "fig = px.bar(new_genre2, x='artist_genres', y=['valence', 'energy', 'danceability', 'acousticness'], barmode='group')\n",
    "\n",
    "\n",
    "fig.update_layout(\n",
    "    title=\"Genre Poularity Based on Artist\",\n",
    "    yaxis = dict(\n",
    "        tickmode = 'linear',\n",
    "        tick0 = 0,\n",
    "        dtick = 0.2\n",
    "    )\n",
    ")\n",
    "fig.show()"
   ]
  },
  {
   "cell_type": "code",
   "execution_count": 206,
   "id": "70bd604f",
   "metadata": {},
   "outputs": [],
   "source": [
    "cluster_pipeline = Pipeline([('scaler', StandardScaler()), ('kmeans', KMeans(n_clusters=10,random_state =0))])\n",
    "X = genre_df.select_dtypes(np.number)\n",
    "cluster_pipeline.fit(X)\n",
    "genre_df['cluster'] = cluster_pipeline.predict(X)"
   ]
  },
  {
   "cell_type": "code",
   "execution_count": 209,
   "id": "0d77bd26",
   "metadata": {},
   "outputs": [
    {
     "name": "stdout",
     "output_type": "stream",
     "text": [
      "[t-SNE] Computing 91 nearest neighbors...\n",
      "[t-SNE] Indexed 1099 samples in 0.002s...\n",
      "[t-SNE] Computed neighbors for 1099 samples in 0.041s...\n",
      "[t-SNE] Computed conditional probabilities for sample 1000 / 1099\n",
      "[t-SNE] Computed conditional probabilities for sample 1099 / 1099\n",
      "[t-SNE] Mean sigma: 0.622092\n",
      "[t-SNE] KL divergence after 250 iterations with early exaggeration: 56.649952\n",
      "[t-SNE] KL divergence after 1000 iterations: 0.598758\n"
     ]
    },
    {
     "data": {
      "application/vnd.plotly.v1+json": {
       "config": {
        "plotlyServerURL": "https://plot.ly"
       },
       "data": [
        {
         "customdata": [
          [
           "['classic rock']"
          ],
          [
           "['grunge']"
          ],
          [
           "['beatlesque']"
          ],
          [
           "['baroque pop']"
          ],
          [
           "['classic rock']"
          ],
          [
           "['classic soul']"
          ],
          [
           "['adult standards']"
          ],
          [
           "['classic soul']"
          ],
          [
           "['classic soul']"
          ],
          [
           "['british invasion']"
          ],
          [
           "['pop']"
          ],
          [
           "['rock-and-roll']"
          ],
          [
           "['classic rock']"
          ],
          [
           "['album rock']"
          ],
          [
           "['alternative rock']"
          ],
          [
           "['baroque pop']"
          ],
          [
           "['classic soul']"
          ],
          [
           "['atl hip hop']"
          ],
          [
           "['punk']"
          ],
          [
           "['dance pop']"
          ],
          [
           "['classic rock']"
          ],
          [
           "['british invasion']"
          ],
          [
           "['beatlesque']"
          ],
          [
           "['rock-and-roll']"
          ],
          [
           "['album rock']"
          ],
          [
           "['bronx hip hop']"
          ],
          [
           "['adult standards']"
          ],
          [
           "['album rock']"
          ],
          [
           "['adult standards']"
          ],
          [
           "['art rock']"
          ],
          [
           "['funk']"
          ],
          [
           "['adult standards']"
          ],
          [
           "['alternative rock']"
          ],
          [
           "['british invasion']"
          ],
          [
           "['adult standards']"
          ],
          [
           "['album rock']"
          ],
          [
           "['dance pop']"
          ],
          [
           "['alternative rock']"
          ],
          [
           "['alternative rock']"
          ],
          [
           "['punk']"
          ],
          [
           "['classic rock']"
          ],
          [
           "['alternative rock']"
          ],
          [
           "['acid rock']"
          ],
          [
           "['classic garage rock']"
          ],
          [
           "['adult standards']"
          ],
          [
           "['atl hip hop']"
          ],
          [
           "['adult standards']"
          ],
          [
           "['beatlesque']"
          ],
          [
           "['album rock']"
          ],
          [
           "['alternative rock']"
          ],
          [
           "['dance pop']"
          ],
          [
           "['rock-and-roll']"
          ],
          [
           "['acid rock']"
          ],
          [
           "['dance pop']"
          ],
          [
           "['madchester']"
          ],
          [
           "['art rock']"
          ],
          [
           "['adult standards']"
          ],
          [
           "['art rock']"
          ],
          [
           "['alternative rock']"
          ],
          [
           "['adult standards']"
          ],
          [
           "['album rock']"
          ],
          [
           "['classic soul']"
          ],
          [
           "['downtempo']"
          ],
          [
           "['alternative rock']"
          ],
          [
           "['conscious hip hop']"
          ],
          [
           "['art punk']"
          ],
          [
           "['alternative rock']"
          ],
          [
           "['album rock']"
          ],
          [
           "['conscious hip hop']"
          ],
          [
           "['album rock']"
          ],
          [
           "['art rock']"
          ],
          [
           "['album rock']"
          ],
          [
           "['east coast hip hop']"
          ],
          [
           "['art pop']"
          ],
          [
           "['dance pop']"
          ],
          [
           "['classic soul']"
          ],
          [
           "['british invasion']"
          ],
          [
           "['alternative dance']"
          ],
          [
           "['bubblegum pop']"
          ],
          [
           "['classic rock']"
          ],
          [
           "['classic girl group']"
          ],
          [
           "['rock-and-roll']"
          ],
          [
           "['art pop']"
          ],
          [
           "['beatlesque']"
          ],
          [
           "['acid rock']"
          ],
          [
           "['lilith']"
          ],
          [
           "['madchester']"
          ],
          [
           "['glam metal']"
          ],
          [
           "['blues rock']"
          ],
          [
           "['album rock']"
          ],
          [
           "['chicago rap']"
          ],
          [
           "['punk']"
          ],
          [
           "['art pop']"
          ],
          [
           "['electro']"
          ],
          [
           "['rock-and-roll']"
          ],
          [
           "['art rock']"
          ],
          [
           "['adult standards']"
          ],
          [
           "['rock-and-roll']"
          ],
          [
           "['funk']"
          ],
          [
           "['beatlesque']"
          ],
          [
           "['alternative rock']"
          ],
          [
           "['piano rock']"
          ],
          [
           "['classic rock']"
          ],
          [
           "['irish rock']"
          ],
          [
           "['alternative rock']"
          ],
          [
           "['classic soul']"
          ],
          [
           "['beatlesque']"
          ],
          [
           "['europop']"
          ],
          [
           "['adult standards']"
          ],
          [
           "['madchester']"
          ],
          [
           "['rock-and-roll']"
          ],
          [
           "['disco']"
          ],
          [
           "['hip hop']"
          ],
          [
           "['classic soul']"
          ],
          [
           "['british invasion']"
          ],
          [
           "['art pop']"
          ],
          [
           "['british soul']"
          ],
          [
           "['east coast hip hop']"
          ],
          [
           "['classic rock']"
          ],
          [
           "['classic rock']"
          ],
          [
           "['funk']"
          ],
          [
           "['classic rock']"
          ],
          [
           "['reggae']"
          ],
          [
           "['classic rock']"
          ],
          [
           "['album rock']"
          ],
          [
           "['classic rock']"
          ],
          [
           "['album rock']"
          ],
          [
           "['french shoegaze']"
          ],
          [
           "['alternative dance']"
          ],
          [
           "['honky tonk']"
          ],
          [
           "['art rock']"
          ],
          [
           "['alternative dance']"
          ],
          [
           "['piano rock']"
          ],
          [
           "['classic soul']"
          ],
          [
           "['alternative dance']"
          ],
          [
           "['barbadian pop']"
          ],
          [
           "['beatlesque']"
          ],
          [
           "['disco']"
          ],
          [
           "['classic rock']"
          ],
          [
           "['mellow gold']"
          ],
          [
           "['adult standards']"
          ],
          [
           "['alternative dance']"
          ],
          [
           "['alternative rock']"
          ],
          [
           "['rock-and-roll']"
          ],
          [
           "['album rock']"
          ],
          [
           "['candy pop']"
          ],
          [
           "['album rock']"
          ],
          [
           "['east coast hip hop']"
          ],
          [
           "['dance pop']"
          ],
          [
           "['alternative rock']"
          ],
          [
           "['canadian hip hop']"
          ],
          [
           "['beatlesque']"
          ],
          [
           "['alternative dance']"
          ],
          [
           "['soul']"
          ],
          [
           "['british invasion']"
          ],
          [
           "['']"
          ],
          [
           "['beatlesque']"
          ],
          [
           "['american folk revival']"
          ],
          [
           "['adult standards']"
          ],
          [
           "['rock-and-roll']"
          ],
          [
           "['east coast hip hop']"
          ],
          [
           "['garage rock']"
          ],
          [
           "['dance pop']"
          ],
          [
           "['dance pop']"
          ],
          [
           "['australian psych']"
          ],
          [
           "['afrofuturism']"
          ],
          [
           "['alternative rock']"
          ],
          [
           "['funk']"
          ],
          [
           "['art pop']"
          ],
          [
           "['classic rock']"
          ],
          [
           "['alternative dance']"
          ],
          [
           "['g funk']"
          ],
          [
           "['adult standards']"
          ],
          [
           "['acid rock']"
          ],
          [
           "['funk']"
          ],
          [
           "['irish rock']"
          ],
          [
           "['art punk']"
          ],
          [
           "['new romantic']"
          ],
          [
           "['funk']"
          ],
          [
           "['classic rock']"
          ],
          [
           "['australian dance']"
          ],
          [
           "['british invasion']"
          ],
          [
           "['brooklyn indie']"
          ],
          [
           "['dusseldorf electronic']"
          ],
          [
           "['alternative rock']"
          ],
          [
           "['beatlesque']"
          ],
          [
           "['album rock']"
          ],
          [
           "['britpop']"
          ],
          [
           "['beatlesque']"
          ],
          [
           "['alternative dance']"
          ],
          [
           "['alternative rock']"
          ],
          [
           "['disco']"
          ],
          [
           "['album rock']"
          ],
          [
           "['beatlesque']"
          ],
          [
           "['arkansas country']"
          ],
          [
           "['atl hip hop']"
          ],
          [
           "['adult standards']"
          ],
          [
           "['arkansas country']"
          ],
          [
           "['funk']"
          ],
          [
           "['art pop']"
          ],
          [
           "['mod revival']"
          ],
          [
           "['atl hip hop']"
          ],
          [
           "['classic rock']"
          ],
          [
           "['arkansas country']"
          ],
          [
           "['classic rock']"
          ],
          [
           "['adult standards']"
          ],
          [
           "['bronx hip hop']"
          ],
          [
           "['adult standards']"
          ],
          [
           "['blues']"
          ],
          [
           "['classic rock']"
          ],
          [
           "['alternative rock']"
          ],
          [
           "['chicago soul']"
          ],
          [
           "['art rock']"
          ],
          [
           "['adult standards']"
          ],
          [
           "['album rock']"
          ],
          [
           "['album rock']"
          ],
          [
           "['afrofuturism']"
          ],
          [
           "['classic rock']"
          ],
          [
           "['album rock']"
          ],
          [
           "['beatlesque']"
          ],
          [
           "['album rock']"
          ],
          [
           "['dance pop']"
          ],
          [
           "['boston rock']"
          ],
          [
           "['art rock']"
          ],
          [
           "['dance pop']"
          ],
          [
           "['art rock']"
          ],
          [
           "['pop']"
          ],
          [
           "['beatlesque']"
          ],
          [
           "['rock-and-roll']"
          ],
          [
           "['classic soul']"
          ],
          [
           "['british soul']"
          ],
          [
           "['adult standards']"
          ],
          [
           "['british blues']"
          ],
          [
           "['classic soul']"
          ],
          [
           "['alternative rock']"
          ],
          [
           "['alternative metal']"
          ],
          [
           "['bossa nova']"
          ],
          [
           "['adult standards']"
          ],
          [
           "['british invasion']"
          ],
          [
           "['art rock']"
          ],
          [
           "['classic soul']"
          ],
          [
           "['adult standards']"
          ],
          [
           "['funk']"
          ],
          [
           "['alternative rock']"
          ],
          [
           "['album rock']"
          ],
          [
           "['alternative rock']"
          ],
          [
           "['beatlesque']"
          ],
          [
           "['alternative rock']"
          ],
          [
           "['classic rock']"
          ],
          [
           "['irish rock']"
          ],
          [
           "['rock-and-roll']"
          ],
          [
           "['brill building pop']"
          ],
          [
           "['classic soul']"
          ],
          [
           "['adult standards']"
          ],
          [
           "['alternative dance']"
          ],
          [
           "['art rock']"
          ],
          [
           "['dusseldorf electronic']"
          ],
          [
           "['baroque pop']"
          ],
          [
           "['baroque pop']"
          ],
          [
           "['alternative rock']"
          ],
          [
           "['alternative rock']"
          ],
          [
           "['doo-wop']"
          ],
          [
           "['art pop']"
          ],
          [
           "['pop']"
          ],
          [
           "['album rock']"
          ],
          [
           "['alternative rock']"
          ],
          [
           "['acid rock']"
          ],
          [
           "['electro']"
          ],
          [
           "['art pop']"
          ],
          [
           "['alternative dance']"
          ],
          [
           "['album rock']"
          ],
          [
           "['album rock']"
          ],
          [
           "['detroit hip hop']"
          ],
          [
           "['alternative r&b']"
          ],
          [
           "['big beat']"
          ],
          [
           "['classic garage rock']"
          ],
          [
           "['album rock']"
          ],
          [
           "['alternative dance']"
          ],
          [
           "['alternative rock']"
          ],
          [
           "['adult standards']"
          ],
          [
           "['alternative pop']"
          ],
          [
           "['atl hip hop']"
          ],
          [
           "['hip hop']"
          ],
          [
           "['reggae']"
          ],
          [
           "['chicago rap']"
          ],
          [
           "['ska']"
          ],
          [
           "['beatlesque']"
          ],
          [
           "['arkansas country']"
          ],
          [
           "['classic soul']"
          ],
          [
           "['acoustic blues']"
          ],
          [
           "['australian rock']"
          ],
          [
           "['acid rock']"
          ],
          [
           "['electro']"
          ],
          [
           "['classic soul']"
          ],
          [
           "['album rock']"
          ],
          [
           "['blues']"
          ],
          [
           "['blues']"
          ],
          [
           "['chicago rap']"
          ],
          [
           "['canadian singer-songwriter']"
          ],
          [
           "['adult standards']"
          ],
          [
           "['ambient']"
          ],
          [
           "['alternative dance']"
          ],
          [
           "['album rock']"
          ],
          [
           "['classic girl group']"
          ],
          [
           "['chanson']"
          ],
          [
           "['alternative rock']"
          ],
          [
           "['hard rock']"
          ],
          [
           "['chanson']"
          ],
          [
           "['alternative rock']"
          ],
          [
           "['bubblegum pop']"
          ],
          [
           "['detroit hip hop']"
          ],
          [
           "['alternative rock']"
          ],
          [
           "['conscious hip hop']"
          ],
          [
           "['album rock']"
          ],
          [
           "['classic girl group']"
          ],
          [
           "['alternative rock']"
          ],
          [
           "['adult standards']"
          ],
          [
           "['baroque pop']"
          ],
          [
           "['cosmic american']"
          ],
          [
           "['blues rock']"
          ],
          [
           "['art punk']"
          ],
          [
           "['australian rock']"
          ],
          [
           "['british invasion']"
          ],
          [
           "['art rock']"
          ],
          [
           "['alternative dance']"
          ],
          [
           "['alternative metal']"
          ],
          [
           "['adult standards']"
          ],
          [
           "['new wave']"
          ],
          [
           "['art rock']"
          ],
          [
           "['alternative dance']"
          ],
          [
           "['art pop']"
          ],
          [
           "['album rock']"
          ],
          [
           "['album rock']"
          ],
          [
           "['hip house']"
          ],
          [
           "['alternative rock']"
          ],
          [
           "['adult standards']"
          ],
          [
           "['british invasion']"
          ],
          [
           "['chicago soul']"
          ],
          [
           "['afrofuturism']"
          ],
          [
           "['classic soul']"
          ],
          [
           "['album rock']"
          ],
          [
           "['dance pop']"
          ],
          [
           "['classic rock']"
          ],
          [
           "['canadian singer-songwriter']"
          ],
          [
           "['conscious hip hop']"
          ],
          [
           "['art rock']"
          ],
          [
           "['conscious hip hop']"
          ],
          [
           "['classic soul']"
          ],
          [
           "['hot jazz']"
          ],
          [
           "['album rock']"
          ],
          [
           "['baroque pop']"
          ],
          [
           "['album rock']"
          ],
          [
           "['beatlesque']"
          ],
          [
           "['alternative rock']"
          ],
          [
           "['electro']"
          ],
          [
           "['album rock']"
          ],
          [
           "['adult standards']"
          ],
          [
           "['alternative rock']"
          ],
          [
           "['acid rock']"
          ],
          [
           "['alternative rock']"
          ],
          [
           "['bebop']"
          ],
          [
           "['album rock']"
          ],
          [
           "['alternative dance']"
          ],
          [
           "['alternative rock']"
          ],
          [
           "['classic dubstep']"
          ],
          [
           "['beatlesque']"
          ],
          [
           "['album rock']"
          ],
          [
           "['alternative rock']"
          ],
          [
           "['adult standards']"
          ],
          [
           "['art pop']"
          ],
          [
           "['rock-and-roll']"
          ],
          [
           "['baroque pop']"
          ],
          [
           "['blues']"
          ],
          [
           "['classic rock']"
          ],
          [
           "['album rock']"
          ],
          [
           "['big band']"
          ],
          [
           "['barbadian pop']"
          ],
          [
           "['canadian pop']"
          ],
          [
           "['art rock']"
          ],
          [
           "['adult standards']"
          ],
          [
           "['alternative rock']"
          ],
          [
           "['classic soul']"
          ],
          [
           "['alternative metal']"
          ],
          [
           "['alternative rock']"
          ],
          [
           "['acid rock']"
          ],
          [
           "['glam metal']"
          ],
          [
           "['alternative rock']"
          ],
          [
           "['mod revival']"
          ],
          [
           "['bebop']"
          ],
          [
           "['rock-and-roll']"
          ],
          [
           "['blues']"
          ],
          [
           "['blues']"
          ],
          [
           "['beatlesque']"
          ],
          [
           "['hip house']"
          ],
          [
           "['album rock']"
          ],
          [
           "['funk']"
          ],
          [
           "['dark pop']"
          ],
          [
           "['adult standards']"
          ],
          [
           "['funk']"
          ],
          [
           "['dance pop']"
          ],
          [
           "['classic country pop']"
          ],
          [
           "['acoustic punk']"
          ],
          [
           "['classic rock']"
          ],
          [
           "['album rock']"
          ],
          [
           "['early us punk']"
          ],
          [
           "['british invasion']"
          ],
          [
           "['beatlesque']"
          ],
          [
           "['new wave pop']"
          ],
          [
           "['beatlesque']"
          ],
          [
           "['disco']"
          ],
          [
           "['album rock']"
          ],
          [
           "['album rock']"
          ],
          [
           "['bebop']"
          ],
          [
           "['alternative rock']"
          ],
          [
           "['classic rock']"
          ],
          [
           "['doo-wop']"
          ],
          [
           "['irish rock']"
          ],
          [
           "['bubblegum pop']"
          ],
          [
           "['detroit hip hop']"
          ],
          [
           "['adult standards']"
          ],
          [
           "['alternative dance']"
          ],
          [
           "['alternative rock']"
          ],
          [
           "['alternative rock']"
          ],
          [
           "['classic rock']"
          ],
          [
           "['classic soul']"
          ],
          [
           "['australian indie']"
          ],
          [
           "['conscious hip hop']"
          ],
          [
           "['classic rock']"
          ],
          [
           "['acid rock']"
          ],
          [
           "['blues']"
          ],
          [
           "['brill building pop']"
          ],
          [
           "['baroque pop']"
          ],
          [
           "['alternative hip hop']"
          ],
          [
           "['indie pop']"
          ],
          [
           "['adult standards']"
          ],
          [
           "['art pop']"
          ],
          [
           "['mod revival']"
          ],
          [
           "['classic rock']"
          ],
          [
           "['acid rock']"
          ],
          [
           "['classic soul']"
          ],
          [
           "['electronica']"
          ],
          [
           "['art punk']"
          ],
          [
           "['atl hip hop']"
          ],
          [
           "['acid rock']"
          ],
          [
           "['adult standards']"
          ],
          [
           "['new romantic']"
          ],
          [
           "['album rock']"
          ],
          [
           "['classic rock']"
          ],
          [
           "['hip hop']"
          ],
          [
           "['baroque pop']"
          ],
          [
           "['dance rock']"
          ],
          [
           "['albuquerque indie']"
          ],
          [
           "['chicago rap']"
          ],
          [
           "['baroque pop']"
          ],
          [
           "['alternative rock']"
          ],
          [
           "['']"
          ],
          [
           "['new wave']"
          ],
          [
           "['british invasion']"
          ],
          [
           "['doo-wop']"
          ],
          [
           "['canadian pop']"
          ],
          [
           "['alternative rock']"
          ],
          [
           "['grunge']"
          ],
          [
           "['beatlesque']"
          ],
          [
           "['eau claire indie']"
          ],
          [
           "['blues rock']"
          ],
          [
           "['']"
          ],
          [
           "['alternative pop']"
          ],
          [
           "['art pop']"
          ],
          [
           "['glam rock']"
          ],
          [
           "['art rock']"
          ],
          [
           "['afrofuturism']"
          ],
          [
           "['downtempo']"
          ],
          [
           "['bubblegum pop']"
          ],
          [
           "['dance pop']"
          ],
          [
           "['afrobeat']"
          ],
          [
           "['alternative rock']"
          ],
          [
           "['grunge']"
          ],
          [
           "['alternative rock']"
          ],
          [
           "['alternative dance']"
          ],
          [
           "['alternative rock']"
          ],
          [
           "['adult standards']"
          ],
          [
           "['funk']"
          ],
          [
           "['conscious hip hop']"
          ],
          [
           "['art rock']"
          ],
          [
           "['alternative hip hop']"
          ],
          [
           "['alternative pop']"
          ],
          [
           "['adult standards']"
          ],
          [
           "['permanent wave']"
          ],
          [
           "['blues']"
          ],
          [
           "['hip hop']"
          ],
          [
           "['mod revival']"
          ],
          [
           "['glam punk']"
          ],
          [
           "['classic soul']"
          ],
          [
           "['art rock']"
          ],
          [
           "['dance pop']"
          ],
          [
           "['alternative rock']"
          ],
          [
           "['alternative rock']"
          ],
          [
           "['folk rock']"
          ],
          [
           "['classic rock']"
          ],
          [
           "['alternative metal']"
          ],
          [
           "['classic girl group']"
          ],
          [
           "['art pop']"
          ],
          [
           "['classic rock']"
          ],
          [
           "['alternative rock']"
          ],
          [
           "['classic soul']"
          ],
          [
           "['dusseldorf electronic']"
          ],
          [
           "['classic rock']"
          ],
          [
           "['blues']"
          ],
          [
           "['alternative hip hop']"
          ],
          [
           "['alternative metal']"
          ],
          [
           "['funk']"
          ],
          [
           "['dance pop']"
          ],
          [
           "['art rock']"
          ],
          [
           "['cool jazz']"
          ],
          [
           "['art pop']"
          ],
          [
           "['new wave pop']"
          ],
          [
           "['barbadian pop']"
          ],
          [
           "['conscious hip hop']"
          ],
          [
           "['album rock']"
          ],
          [
           "['adult standards']"
          ],
          [
           "['alternative rock']"
          ],
          [
           "['alternative metal']"
          ],
          [
           "['adult standards']"
          ],
          [
           "['garage rock']"
          ],
          [
           "['alternative dance']"
          ],
          [
           "['beatlesque']"
          ],
          [
           "['dance pop']"
          ],
          [
           "['rock-and-roll']"
          ],
          [
           "['blues']"
          ],
          [
           "['classic soul']"
          ],
          [
           "['indie rock']"
          ],
          [
           "['album rock']"
          ],
          [
           "['art rock']"
          ],
          [
           "['dark pop']"
          ],
          [
           "['permanent wave']"
          ],
          [
           "['beatlesque']"
          ],
          [
           "['canadian singer-songwriter']"
          ],
          [
           "['canadian singer-songwriter']"
          ],
          [
           "['reggae']"
          ],
          [
           "['alternative rock']"
          ],
          [
           "['east coast hip hop']"
          ],
          [
           "['dub']"
          ],
          [
           "['belgian singer-songwriter']"
          ],
          [
           "['adult standards']"
          ],
          [
           "['big beat']"
          ],
          [
           "['classic rock']"
          ],
          [
           "['alternative dance']"
          ],
          [
           "['mellow gold']"
          ],
          [
           "['alternative americana']"
          ],
          [
           "['alternative rock']"
          ],
          [
           "['classic soul']"
          ],
          [
           "['acid rock']"
          ],
          [
           "['album rock']"
          ],
          [
           "['country']"
          ],
          [
           "['adult standards']"
          ],
          [
           "['adult standards']"
          ],
          [
           "['art rock']"
          ],
          [
           "['alternative rock']"
          ],
          [
           "['dance pop']"
          ],
          [
           "['adult standards']"
          ],
          [
           "['dance pop']"
          ],
          [
           "['album rock']"
          ],
          [
           "['classic soul']"
          ],
          [
           "['album rock']"
          ],
          [
           "['eau claire indie']"
          ],
          [
           "['alternative rock']"
          ],
          [
           "['american folk revival']"
          ],
          [
           "['dance pop']"
          ],
          [
           "['alternative rock']"
          ],
          [
           "['dance pop']"
          ],
          [
           "['irish rock']"
          ],
          [
           "['album rock']"
          ],
          [
           "['lgbtq+ hip hop']"
          ],
          [
           "['adult standards']"
          ],
          [
           "['classic rock']"
          ],
          [
           "['bubblegum pop']"
          ],
          [
           "['album rock']"
          ],
          [
           "['australian rock']"
          ],
          [
           "['g funk']"
          ],
          [
           "['classic rock']"
          ],
          [
           "['reggae']"
          ],
          [
           "['r&b en espanol']"
          ],
          [
           "['classic rock']"
          ],
          [
           "['classic soul']"
          ],
          [
           "['blues']"
          ],
          [
           "['atl hip hop']"
          ],
          [
           "['new romantic']"
          ],
          [
           "['chamber pop']"
          ],
          [
           "['classic rock']"
          ],
          [
           "['alternative dance']"
          ],
          [
           "['art pop']"
          ],
          [
           "['bedroom pop']"
          ],
          [
           "['adult standards']"
          ],
          [
           "['art rock']"
          ],
          [
           "['doo-wop']"
          ],
          [
           "['alternative dance']"
          ],
          [
           "['celtic punk']"
          ],
          [
           "['baroque pop']"
          ],
          [
           "['alternative dance']"
          ],
          [
           "['adult standards']"
          ],
          [
           "['adult standards']"
          ],
          [
           "['album rock']"
          ],
          [
           "['bebop']"
          ],
          [
           "['alternative dance']"
          ],
          [
           "['classic rock']"
          ],
          [
           "['downtempo']"
          ],
          [
           "['alternative rock']"
          ],
          [
           "['dance rock']"
          ],
          [
           "['alternative pop']"
          ],
          [
           "['irish rock']"
          ],
          [
           "['british soul']"
          ],
          [
           "['beatlesque']"
          ],
          [
           "['adult standards']"
          ],
          [
           "['afrofuturism']"
          ],
          [
           "['bubblegum pop']"
          ],
          [
           "['dance pop']"
          ],
          [
           "['art rock']"
          ],
          [
           "['gospel']"
          ],
          [
           "['canadian indie']"
          ],
          [
           "['adult standards']"
          ],
          [
           "['alternative country']"
          ],
          [
           "['adult standards']"
          ],
          [
           "['britpop']"
          ],
          [
           "['album rock']"
          ],
          [
           "['alternative dance']"
          ],
          [
           "['art rock']"
          ],
          [
           "['australian dance']"
          ],
          [
           "['electronica']"
          ],
          [
           "['beatlesque']"
          ],
          [
           "['alternative dance']"
          ],
          [
           "['canadian singer-songwriter']"
          ],
          [
           "['art rock']"
          ],
          [
           "['britpop']"
          ],
          [
           "['australian rock']"
          ],
          [
           "['adult standards']"
          ],
          [
           "['beatlesque']"
          ],
          [
           "['british invasion']"
          ],
          [
           "['adult standards']"
          ],
          [
           "['alternative rock']"
          ],
          [
           "['art rock']"
          ],
          [
           "['folk']"
          ],
          [
           "['album rock']"
          ],
          [
           "['art rock']"
          ],
          [
           "['blues']"
          ],
          [
           "['afrofuturism']"
          ],
          [
           "['art rock']"
          ],
          [
           "['bluegrass']"
          ],
          [
           "['canadian singer-songwriter']"
          ],
          [
           "['blues rock']"
          ],
          [
           "['dub']"
          ],
          [
           "['canadian hip hop']"
          ],
          [
           "['album rock']"
          ],
          [
           "['alternative rock']"
          ],
          [
           "['baroque pop']"
          ],
          [
           "['bronx hip hop']"
          ],
          [
           "['alternative dance']"
          ],
          [
           "['dance pop']"
          ],
          [
           "['electro']"
          ],
          [
           "['early synthpop']"
          ],
          [
           "['alternative r&b']"
          ],
          [
           "['album rock']"
          ],
          [
           "['album rock']"
          ],
          [
           "['british invasion']"
          ],
          [
           "['classic rock']"
          ],
          [
           "['beatlesque']"
          ],
          [
           "['art rock']"
          ],
          [
           "['art pop']"
          ],
          [
           "['art pop']"
          ],
          [
           "['alternative hip hop']"
          ],
          [
           "['punk']"
          ],
          [
           "['alternative rock']"
          ],
          [
           "['blues']"
          ],
          [
           "['classic rock']"
          ],
          [
           "['rock-and-roll']"
          ],
          [
           "['classic girl group']"
          ],
          [
           "['dance pop']"
          ],
          [
           "['classic rock']"
          ],
          [
           "['album rock']"
          ],
          [
           "['art rock']"
          ],
          [
           "['classic soul']"
          ],
          [
           "['alternative rock']"
          ],
          [
           "['early us punk']"
          ],
          [
           "['classic rock']"
          ],
          [
           "['irish rock']"
          ],
          [
           "['dreamo']"
          ],
          [
           "['grunge']"
          ],
          [
           "['modern alternative rock']"
          ],
          [
           "['art rock']"
          ],
          [
           "['alternative rock']"
          ],
          [
           "['art rock']"
          ],
          [
           "['space age pop']"
          ],
          [
           "['classic soul']"
          ],
          [
           "['album rock']"
          ],
          [
           "['bebop']"
          ],
          [
           "['canadian pop']"
          ],
          [
           "['australian psych']"
          ],
          [
           "['dance pop']"
          ],
          [
           "['adult standards']"
          ],
          [
           "['british invasion']"
          ],
          [
           "['classic soul']"
          ],
          [
           "['blues']"
          ],
          [
           "['alternative rock']"
          ],
          [
           "['alternative r&b']"
          ],
          [
           "['glam metal']"
          ],
          [
           "['alternative rock']"
          ],
          [
           "['grunge']"
          ],
          [
           "['alternative rock']"
          ],
          [
           "['east coast hip hop']"
          ],
          [
           "['electro']"
          ],
          [
           "['canadian singer-songwriter']"
          ],
          [
           "['classic rock']"
          ],
          [
           "['beatlesque']"
          ],
          [
           "['dance pop']"
          ],
          [
           "['funk']"
          ],
          [
           "['g funk']"
          ],
          [
           "['alternative dance']"
          ],
          [
           "['alternative rock']"
          ],
          [
           "['experimental rock']"
          ],
          [
           "['album rock']"
          ],
          [
           "['album rock']"
          ],
          [
           "['alternative rock']"
          ],
          [
           "['adult standards']"
          ],
          [
           "['alternative dance']"
          ],
          [
           "['classic girl group']"
          ],
          [
           "['art rock']"
          ],
          [
           "['adult standards']"
          ],
          [
           "['contemporary r&b']"
          ],
          [
           "['conscious hip hop']"
          ],
          [
           "['classic rock']"
          ],
          [
           "['conscious hip hop']"
          ],
          [
           "['album rock']"
          ],
          [
           "['alternative rock']"
          ],
          [
           "['beatlesque']"
          ],
          [
           "['bassline']"
          ],
          [
           "['permanent wave']"
          ],
          [
           "['british invasion']"
          ],
          [
           "['classic soul']"
          ],
          [
           "['album rock']"
          ],
          [
           "['pub rock']"
          ],
          [
           "['album rock']"
          ],
          [
           "['bubblegum pop']"
          ],
          [
           "['atl hip hop']"
          ],
          [
           "['album rock']"
          ],
          [
           "['album rock']"
          ],
          [
           "['acid rock']"
          ],
          [
           "['art rock']"
          ],
          [
           "['alternative rock']"
          ],
          [
           "['classic uk pop']"
          ],
          [
           "['alternative rock']"
          ],
          [
           "['alternative rock']"
          ],
          [
           "['dance pop']"
          ],
          [
           "['baroque pop']"
          ],
          [
           "['classic rock']"
          ],
          [
           "['baroque pop']"
          ],
          [
           "['dub']"
          ],
          [
           "['conscious hip hop']"
          ],
          [
           "['pop']"
          ],
          [
           "['acoustic blues']"
          ],
          [
           "['african-american classical']"
          ],
          [
           "['album rock']"
          ],
          [
           "['folk rock']"
          ],
          [
           "['art rock']"
          ],
          [
           "['electronica']"
          ],
          [
           "['classic soul']"
          ],
          [
           "['classic rock']"
          ],
          [
           "['album rock']"
          ],
          [
           "['canadian singer-songwriter']"
          ],
          [
           "['adult standards']"
          ],
          [
           "['hip hop']"
          ],
          [
           "['adult standards']"
          ],
          [
           "['baroque pop']"
          ],
          [
           "['art rock']"
          ],
          [
           "['alternative rock']"
          ],
          [
           "['canadian contemporary r&b']"
          ],
          [
           "['early us punk']"
          ],
          [
           "['album rock']"
          ],
          [
           "['dance pop']"
          ],
          [
           "['glam rock']"
          ],
          [
           "['dance rock']"
          ],
          [
           "['hip hop']"
          ],
          [
           "['classic rock']"
          ],
          [
           "['boy band']"
          ],
          [
           "['alternative dance']"
          ],
          [
           "['art rock']"
          ],
          [
           "['classic rock']"
          ],
          [
           "['hard rock']"
          ],
          [
           "['chicago rap']"
          ],
          [
           "['art pop']"
          ],
          [
           "['bubblegum pop']"
          ],
          [
           "['east coast hip hop']"
          ],
          [
           "['disco']"
          ],
          [
           "['alternative rock']"
          ],
          [
           "['glam rock']"
          ],
          [
           "['classic rock']"
          ],
          [
           "['rock-and-roll']"
          ],
          [
           "['art rock']"
          ],
          [
           "['dance pop']"
          ],
          [
           "['irish rock']"
          ],
          [
           "['pop']"
          ],
          [
           "['album rock']"
          ],
          [
           "['new wave']"
          ],
          [
           "['atl hip hop']"
          ],
          [
           "['adult standards']"
          ],
          [
           "['new wave']"
          ],
          [
           "['dance pop']"
          ],
          [
           "['alternative rock']"
          ],
          [
           "['art pop']"
          ],
          [
           "['canadian singer-songwriter']"
          ],
          [
           "['art rock']"
          ],
          [
           "['art pop']"
          ],
          [
           "['reggae']"
          ],
          [
           "['classic rock']"
          ],
          [
           "['detroit hip hop']"
          ],
          [
           "['baroque pop']"
          ],
          [
           "['bubblegum pop']"
          ],
          [
           "['beatlesque']"
          ],
          [
           "['classic rock']"
          ],
          [
           "['alternative rock']"
          ],
          [
           "['british invasion']"
          ],
          [
           "['permanent wave']"
          ],
          [
           "['canadian singer-songwriter']"
          ],
          [
           "['art rock']"
          ],
          [
           "['candy pop']"
          ],
          [
           "['adult standards']"
          ],
          [
           "['alternative hip hop']"
          ],
          [
           "['alternative rock']"
          ],
          [
           "['beatlesque']"
          ],
          [
           "['east coast hip hop']"
          ],
          [
           "['bebop']"
          ],
          [
           "['grunge']"
          ],
          [
           "['disco']"
          ],
          [
           "['dance pop']"
          ],
          [
           "['modern rock']"
          ],
          [
           "['conscious hip hop']"
          ],
          [
           "['adult standards']"
          ],
          [
           "['blues']"
          ],
          [
           "['permanent wave']"
          ],
          [
           "['classic rock']"
          ],
          [
           "['alternative rock']"
          ],
          [
           "['classic soul']"
          ],
          [
           "['brooklyn indie']"
          ],
          [
           "['album rock']"
          ],
          [
           "['australian rock']"
          ],
          [
           "['canadian indie']"
          ],
          [
           "['dance pop']"
          ],
          [
           "['classic rock']"
          ],
          [
           "['pop']"
          ],
          [
           "['motown']"
          ],
          [
           "['classic rock']"
          ],
          [
           "['east coast hip hop']"
          ],
          [
           "['rock-and-roll']"
          ],
          [
           "['funk']"
          ],
          [
           "['pop rock']"
          ],
          [
           "['atl hip hop']"
          ],
          [
           "['alternative rock']"
          ],
          [
           "['alternative rock']"
          ],
          [
           "['new romantic']"
          ],
          [
           "['alternative rock']"
          ],
          [
           "['country']"
          ],
          [
           "['beatlesque']"
          ],
          [
           "['british folk']"
          ],
          [
           "['harlem renaissance']"
          ],
          [
           "['classic girl group']"
          ],
          [
           "['adult standards']"
          ],
          [
           "['classic uk pop']"
          ],
          [
           "['classic soul']"
          ],
          [
           "['alternative rock']"
          ],
          [
           "['classic rock']"
          ],
          [
           "['album rock']"
          ],
          [
           "['classic rock']"
          ],
          [
           "['dub']"
          ],
          [
           "['dark pop']"
          ],
          [
           "['blues']"
          ],
          [
           "['dirty south rap']"
          ],
          [
           "['electronica']"
          ],
          [
           "['disney']"
          ],
          [
           "['acid rock']"
          ],
          [
           "['art rock']"
          ],
          [
           "['indie rock']"
          ],
          [
           "['adult standards']"
          ],
          [
           "['alternative rock']"
          ],
          [
           "['adult standards']"
          ],
          [
           "['beatlesque']"
          ],
          [
           "['classic soul']"
          ],
          [
           "['alternative dance']"
          ],
          [
           "['album rock']"
          ],
          [
           "['permanent wave']"
          ],
          [
           "['big beat']"
          ],
          [
           "['new wave pop']"
          ],
          [
           "['country']"
          ],
          [
           "['classic soul']"
          ],
          [
           "['jazz blues']"
          ],
          [
           "['alternative rock']"
          ],
          [
           "['rock-and-roll']"
          ],
          [
           "['adult standards']"
          ],
          [
           "['canadian singer-songwriter']"
          ],
          [
           "['classic rock']"
          ],
          [
           "['canadian singer-songwriter']"
          ],
          [
           "['classic rock']"
          ],
          [
           "['classic rock']"
          ],
          [
           "['rap']"
          ],
          [
           "['art rock']"
          ],
          [
           "['east coast hip hop']"
          ],
          [
           "['classic rock']"
          ],
          [
           "['classic soul']"
          ],
          [
           "['g funk']"
          ],
          [
           "['alternative rock']"
          ],
          [
           "['acoustic blues']"
          ],
          [
           "['glam metal']"
          ],
          [
           "['album rock']"
          ],
          [
           "['british invasion']"
          ],
          [
           "['dance pop']"
          ],
          [
           "['alternative dance']"
          ],
          [
           "['bossa nova']"
          ],
          [
           "['adult standards']"
          ],
          [
           "['electronica']"
          ],
          [
           "['acid house']"
          ],
          [
           "['british invasion']"
          ],
          [
           "['alternative rock']"
          ],
          [
           "['alternative rock']"
          ],
          [
           "['britpop']"
          ],
          [
           "['disco']"
          ],
          [
           "['conscious hip hop']"
          ],
          [
           "['beatlesque']"
          ],
          [
           "['album rock']"
          ],
          [
           "['album rock']"
          ],
          [
           "['atl hip hop']"
          ],
          [
           "['edm']"
          ],
          [
           "['big beat']"
          ],
          [
           "['ambient pop']"
          ],
          [
           "['art rock']"
          ],
          [
           "['classic soul']"
          ],
          [
           "['alternative metal']"
          ],
          [
           "['']"
          ],
          [
           "['rock-and-roll']"
          ],
          [
           "['adult standards']"
          ],
          [
           "['adult standards']"
          ],
          [
           "['alternative rock']"
          ],
          [
           "['blues']"
          ],
          [
           "['adult standards']"
          ],
          [
           "['east coast hip hop']"
          ],
          [
           "['dance pop']"
          ],
          [
           "['classic rock']"
          ],
          [
           "['alternative rock']"
          ],
          [
           "['anti-folk']"
          ],
          [
           "['art rock']"
          ],
          [
           "['adult standards']"
          ],
          [
           "['mod revival']"
          ],
          [
           "['album rock']"
          ],
          [
           "['album rock']"
          ],
          [
           "['classic soul']"
          ],
          [
           "['adult standards']"
          ],
          [
           "['glam rock']"
          ],
          [
           "['bronx hip hop']"
          ],
          [
           "['classic rock']"
          ],
          [
           "['alternative dance']"
          ],
          [
           "['east coast hip hop']"
          ],
          [
           "['adult standards']"
          ],
          [
           "['alternative dance']"
          ],
          [
           "['classic soul']"
          ],
          [
           "['art rock']"
          ],
          [
           "['classic rock']"
          ],
          [
           "['alternative dance']"
          ],
          [
           "['baroque pop']"
          ],
          [
           "['motown']"
          ],
          [
           "['dance pop']"
          ],
          [
           "['dance pop']"
          ],
          [
           "['adult standards']"
          ],
          [
           "['british invasion']"
          ],
          [
           "['candy pop']"
          ],
          [
           "['east coast hip hop']"
          ],
          [
           "['baroque pop']"
          ],
          [
           "['beatlesque']"
          ],
          [
           "['disco']"
          ],
          [
           "['permanent wave']"
          ],
          [
           "['lilith']"
          ],
          [
           "['art rock']"
          ],
          [
           "['bubblegum pop']"
          ],
          [
           "['canadian singer-songwriter']"
          ],
          [
           "['album rock']"
          ],
          [
           "['disco']"
          ],
          [
           "['europop']"
          ],
          [
           "['classic girl group']"
          ],
          [
           "['album rock']"
          ],
          [
           "['album rock']"
          ],
          [
           "['classic soul']"
          ],
          [
           "['beatlesque']"
          ],
          [
           "['acoustic blues']"
          ],
          [
           "['album rock']"
          ],
          [
           "['beatlesque']"
          ],
          [
           "['adult standards']"
          ],
          [
           "['album rock']"
          ],
          [
           "['french jazz']"
          ],
          [
           "['contemporary post-bop']"
          ],
          [
           "['alternative rock']"
          ],
          [
           "['album rock']"
          ],
          [
           "['adult standards']"
          ],
          [
           "['art punk']"
          ],
          [
           "['bubblegum pop']"
          ],
          [
           "['funk']"
          ],
          [
           "['adult standards']"
          ],
          [
           "['alternative rock']"
          ],
          [
           "['album rock']"
          ],
          [
           "['dance pop']"
          ],
          [
           "['alternative rock']"
          ],
          [
           "['acoustic blues']"
          ],
          [
           "['atmospheric dnb']"
          ],
          [
           "['canadian singer-songwriter']"
          ],
          [
           "['east coast hip hop']"
          ],
          [
           "['album rock']"
          ],
          [
           "['adult standards']"
          ],
          [
           "['adult standards']"
          ],
          [
           "['disco']"
          ],
          [
           "['alternative rock']"
          ],
          [
           "['gangster rap']"
          ],
          [
           "['adult standards']"
          ],
          [
           "['']"
          ],
          [
           "['alternative rock']"
          ],
          [
           "['art pop']"
          ],
          [
           "['']"
          ],
          [
           "['album rock']"
          ],
          [
           "['adult standards']"
          ],
          [
           "['classic rock']"
          ],
          [
           "['dance pop']"
          ],
          [
           "['bubblegum pop']"
          ],
          [
           "['art pop']"
          ],
          [
           "['rock-and-roll']"
          ],
          [
           "['dance pop']"
          ],
          [
           "['adult standards']"
          ],
          [
           "['honky tonk']"
          ],
          [
           "['chicago rap']"
          ],
          [
           "['adult standards']"
          ],
          [
           "['dance pop']"
          ],
          [
           "['album rock']"
          ],
          [
           "['album rock']"
          ],
          [
           "['british invasion']"
          ],
          [
           "['alternative hip hop']"
          ],
          [
           "['afrofuturism']"
          ],
          [
           "['conscious hip hop']"
          ],
          [
           "['classic rock']"
          ],
          [
           "['alternative rock']"
          ],
          [
           "['album rock']"
          ],
          [
           "['chamber pop']"
          ],
          [
           "['alternative rock']"
          ],
          [
           "['blues rock']"
          ],
          [
           "['britpop']"
          ],
          [
           "['chicago soul']"
          ],
          [
           "['classic rock']"
          ],
          [
           "['mellow gold']"
          ],
          [
           "['punk']"
          ],
          [
           "['birmingham hip hop']"
          ],
          [
           "['alternative dance']"
          ],
          [
           "['album rock']"
          ],
          [
           "['dance pop']"
          ],
          [
           "['alternative hip hop']"
          ],
          [
           "['alternative rock']"
          ],
          [
           "['alternative pop']"
          ],
          [
           "['big band']"
          ],
          [
           "['art rock']"
          ],
          [
           "['beatlesque']"
          ],
          [
           "['classic country pop']"
          ],
          [
           "['bassline']"
          ],
          [
           "['afrobeat']"
          ],
          [
           "['alternative rock']"
          ],
          [
           "['african-american classical']"
          ],
          [
           "['appalachian folk']"
          ],
          [
           "['ambient house']"
          ],
          [
           "['rhythm and blues']"
          ],
          [
           "['chicago rap']"
          ],
          [
           "['album rock']"
          ],
          [
           "['acid rock']"
          ],
          [
           "['acoustic blues']"
          ],
          [
           "['art pop']"
          ],
          [
           "['adult standards']"
          ],
          [
           "['dark pop']"
          ],
          [
           "['hip hop']"
          ],
          [
           "['bebop']"
          ],
          [
           "['chicago soul']"
          ],
          [
           "['adult standards']"
          ],
          [
           "['baroque pop']"
          ],
          [
           "['indie punk']"
          ],
          [
           "['bakersfield sound']"
          ],
          [
           "['art pop']"
          ],
          [
           "['classic soul']"
          ],
          [
           "['']"
          ],
          [
           "['bluegrass gospel']"
          ],
          [
           "['adult standards']"
          ],
          [
           "['surf music']"
          ],
          [
           "['alternative pop']"
          ],
          [
           "['disco']"
          ],
          [
           "['harlem renaissance']"
          ],
          [
           "['atl hip hop']"
          ],
          [
           "['alternative dance']"
          ],
          [
           "['album rock']"
          ],
          [
           "['classic rock']"
          ],
          [
           "['baroque pop']"
          ],
          [
           "['uk alternative pop']"
          ],
          [
           "['hot jazz']"
          ],
          [
           "['ska']"
          ]
         ],
         "hovertemplate": "x=%{x}<br>y=%{y}<br>genres=%{customdata[0]}<br>cluster=%{marker.color}<extra></extra>",
         "legendgroup": "",
         "marker": {
          "color": [
           9,
           5,
           1,
           4,
           3,
           0,
           8,
           5,
           4,
           6,
           0,
           2,
           5,
           5,
           8,
           9,
           9,
           6,
           1,
           5,
           6,
           3,
           4,
           3,
           7,
           0,
           3,
           9,
           7,
           1,
           0,
           6,
           5,
           4,
           7,
           3,
           0,
           4,
           6,
           8,
           4,
           6,
           8,
           0,
           6,
           0,
           9,
           5,
           4,
           1,
           0,
           3,
           8,
           6,
           8,
           4,
           9,
           9,
           5,
           6,
           5,
           1,
           5,
           6,
           4,
           0,
           1,
           8,
           0,
           8,
           2,
           4,
           5,
           1,
           0,
           2,
           5,
           0,
           9,
           5,
           5,
           3,
           4,
           3,
           8,
           1,
           8,
           5,
           0,
           4,
           1,
           6,
           9,
           0,
           4,
           4,
           0,
           3,
           6,
           5,
           1,
           3,
           3,
           4,
           6,
           2,
           7,
           5,
           6,
           0,
           3,
           0,
           1,
           3,
           5,
           7,
           5,
           0,
           9,
           6,
           3,
           7,
           6,
           6,
           3,
           3,
           7,
           1,
           0,
           2,
           1,
           1,
           3,
           3,
           1,
           5,
           5,
           6,
           8,
           3,
           3,
           5,
           4,
           3,
           1,
           0,
           3,
           0,
           9,
           8,
           6,
           1,
           8,
           9,
           6,
           7,
           1,
           2,
           3,
           3,
           5,
           5,
           0,
           0,
           8,
           9,
           0,
           1,
           9,
           5,
           8,
           6,
           2,
           9,
           0,
           5,
           0,
           9,
           0,
           3,
           0,
           3,
           4,
           1,
           5,
           2,
           6,
           0,
           5,
           6,
           0,
           6,
           1,
           4,
           7,
           0,
           2,
           3,
           0,
           9,
           5,
           0,
           9,
           2,
           5,
           3,
           6,
           2,
           6,
           3,
           1,
           7,
           8,
           3,
           1,
           6,
           1,
           6,
           5,
           4,
           6,
           6,
           5,
           0,
           1,
           4,
           0,
           7,
           3,
           3,
           6,
           4,
           8,
           9,
           8,
           6,
           2,
           2,
           3,
           4,
           0,
           9,
           3,
           5,
           3,
           1,
           5,
           5,
           9,
           4,
           4,
           7,
           4,
           3,
           0,
           6,
           0,
           5,
           4,
           5,
           6,
           3,
           9,
           0,
           7,
           5,
           7,
           8,
           1,
           6,
           8,
           5,
           1,
           6,
           1,
           8,
           1,
           8,
           0,
           4,
           5,
           0,
           9,
           7,
           6,
           6,
           4,
           4,
           0,
           2,
           5,
           8,
           0,
           4,
           3,
           3,
           2,
           3,
           7,
           3,
           0,
           4,
           8,
           3,
           7,
           1,
           5,
           4,
           4,
           6,
           6,
           8,
           6,
           1,
           3,
           5,
           6,
           1,
           5,
           5,
           8,
           5,
           3,
           8,
           0,
           5,
           3,
           5,
           0,
           0,
           1,
           6,
           5,
           0,
           8,
           7,
           7,
           0,
           7,
           6,
           1,
           0,
           5,
           3,
           0,
           6,
           0,
           9,
           2,
           1,
           8,
           1,
           5,
           4,
           0,
           3,
           7,
           8,
           8,
           8,
           2,
           8,
           5,
           6,
           3,
           5,
           6,
           8,
           7,
           5,
           3,
           4,
           2,
           3,
           1,
           2,
           4,
           8,
           2,
           9,
           4,
           9,
           8,
           4,
           4,
           1,
           6,
           5,
           7,
           3,
           3,
           2,
           4,
           6,
           5,
           0,
           4,
           3,
           6,
           4,
           0,
           6,
           4,
           5,
           5,
           7,
           4,
           6,
           3,
           0,
           4,
           6,
           4,
           8,
           3,
           7,
           8,
           8,
           6,
           3,
           1,
           1,
           0,
           6,
           2,
           5,
           0,
           0,
           9,
           2,
           3,
           7,
           0,
           1,
           9,
           2,
           8,
           5,
           8,
           9,
           4,
           8,
           0,
           8,
           9,
           3,
           5,
           6,
           6,
           5,
           4,
           2,
           9,
           7,
           1,
           0,
           8,
           5,
           7,
           8,
           8,
           1,
           6,
           7,
           9,
           0,
           1,
           1,
           7,
           4,
           0,
           2,
           0,
           0,
           6,
           6,
           5,
           7,
           8,
           8,
           4,
           2,
           6,
           5,
           6,
           5,
           3,
           8,
           2,
           9,
           6,
           0,
           4,
           2,
           9,
           5,
           4,
           9,
           0,
           1,
           6,
           4,
           9,
           5,
           8,
           0,
           6,
           2,
           0,
           5,
           9,
           0,
           8,
           9,
           5,
           4,
           6,
           8,
           5,
           9,
           1,
           8,
           0,
           4,
           5,
           5,
           0,
           3,
           3,
           6,
           5,
           4,
           7,
           6,
           8,
           1,
           4,
           7,
           2,
           5,
           0,
           6,
           7,
           3,
           1,
           9,
           5,
           2,
           1,
           1,
           9,
           5,
           7,
           2,
           6,
           9,
           1,
           8,
           8,
           3,
           4,
           9,
           0,
           4,
           7,
           5,
           2,
           0,
           1,
           8,
           5,
           6,
           0,
           6,
           5,
           3,
           0,
           5,
           0,
           4,
           3,
           0,
           0,
           0,
           4,
           0,
           0,
           3,
           5,
           6,
           0,
           0,
           9,
           8,
           2,
           2,
           9,
           1,
           1,
           7,
           7,
           5,
           7,
           8,
           3,
           9,
           9,
           4,
           7,
           1,
           6,
           4,
           3,
           0,
           0,
           0,
           0,
           2,
           1,
           7,
           9,
           7,
           6,
           0,
           8,
           7,
           8,
           9,
           5,
           6,
           5,
           6,
           1,
           5,
           6,
           4,
           5,
           7,
           8,
           6,
           9,
           7,
           0,
           8,
           6,
           7,
           3,
           7,
           5,
           6,
           4,
           4,
           0,
           5,
           6,
           5,
           4,
           8,
           8,
           4,
           9,
           5,
           0,
           2,
           4,
           5,
           0,
           6,
           6,
           8,
           8,
           3,
           4,
           3,
           6,
           8,
           9,
           3,
           3,
           2,
           5,
           5,
           6,
           5,
           1,
           1,
           8,
           8,
           5,
           5,
           3,
           2,
           5,
           9,
           6,
           5,
           6,
           4,
           3,
           0,
           6,
           8,
           6,
           5,
           0,
           4,
           5,
           0,
           0,
           5,
           8,
           1,
           6,
           6,
           6,
           0,
           5,
           0,
           9,
           5,
           4,
           2,
           0,
           3,
           5,
           2,
           6,
           6,
           5,
           0,
           9,
           1,
           4,
           6,
           9,
           7,
           7,
           9,
           6,
           5,
           3,
           4,
           8,
           5,
           9,
           7,
           7,
           9,
           5,
           0,
           0,
           3,
           7,
           7,
           0,
           3,
           0,
           2,
           4,
           0,
           7,
           6,
           0,
           5,
           4,
           5,
           2,
           8,
           9,
           7,
           4,
           1,
           7,
           6,
           1,
           9,
           0,
           4,
           0,
           0,
           9,
           6,
           6,
           5,
           3,
           5,
           1,
           4,
           5,
           0,
           6,
           0,
           4,
           9,
           7,
           6,
           0,
           5,
           0,
           8,
           4,
           9,
           3,
           6,
           6,
           5,
           4,
           2,
           5,
           4,
           6,
           5,
           6,
           9,
           8,
           3,
           9,
           4,
           1,
           8,
           7,
           9,
           8,
           0,
           0,
           5,
           1,
           9,
           7,
           5,
           0,
           6,
           8,
           4,
           3,
           2,
           8,
           6,
           4,
           0,
           5,
           8,
           4,
           4,
           6,
           2,
           6,
           6,
           9,
           0,
           5,
           0,
           6,
           1,
           1,
           1,
           5,
           5,
           7,
           5,
           2,
           2,
           6,
           7,
           3,
           4,
           9,
           9,
           5,
           9,
           6,
           1,
           3,
           0,
           4,
           7,
           5,
           4,
           5,
           7,
           8,
           2,
           5,
           3,
           5,
           5,
           9,
           5,
           0,
           9,
           6,
           3,
           4,
           6,
           3,
           3,
           9,
           9,
           7,
           5,
           0,
           1,
           6,
           9,
           0,
           1,
           0,
           2,
           1,
           1,
           3,
           0,
           5,
           2,
           9,
           2,
           6,
           6,
           9,
           4,
           1,
           9,
           0,
           4,
           8,
           5,
           4,
           5,
           5,
           8,
           5,
           2,
           7,
           2,
           7,
           9,
           7,
           3,
           2,
           3,
           0,
           8,
           6,
           8,
           3,
           4,
           7,
           5,
           5,
           8,
           9,
           3,
           4,
           6,
           5,
           1,
           6,
           6,
           1,
           2,
           7,
           7,
           5,
           3,
           3,
           0,
           0,
           6,
           6,
           0,
           0,
           0,
           7,
           6,
           9,
           6,
           7,
           9,
           3,
           4,
           6,
           5,
           3,
           5,
           5,
           6,
           4,
           7,
           9,
           5,
           2,
           6,
           2,
           6,
           4,
           1,
           3,
           0,
           8,
           6,
           6,
           6,
           5,
           8,
           1,
           3,
           1,
           5,
           9,
           5,
           3,
           3,
           6,
           5,
           6,
           3,
           3,
           6,
           1,
           3,
           1,
           7,
           9,
           0,
           9,
           4,
           3,
           0,
           3,
           2,
           0,
           3,
           0,
           3,
           0,
           5,
           0,
           6,
           9,
           8,
           0,
           5,
           1,
           0,
           9,
           5,
           0,
           3,
           9,
           6,
           9,
           0,
           5,
           0,
           8,
           5,
           8,
           2,
           6,
           2,
           2,
           6,
           6,
           8,
           7,
           2,
           6,
           3,
           5,
           4,
           8,
           7,
           1,
           7,
           9,
           0,
           3,
           2,
           6,
           4,
           8,
           9,
           1,
           3,
           7,
           2,
           6,
           8,
           0,
           0,
           7,
           0,
           8,
           9,
           8,
           4,
           6,
           7,
           6
          ],
          "coloraxis": "coloraxis",
          "symbol": "circle"
         },
         "mode": "markers",
         "name": "",
         "showlegend": false,
         "type": "scattergl",
         "x": [
          0.2966662049293518,
          -40.84608840942383,
          -44.03912353515625,
          1.2192593812942505,
          9.492711067199707,
          30.12068748474121,
          -8.064518928527832,
          -31.781904220581055,
          9.97156047821045,
          29.77524185180664,
          32.916160583496094,
          -14.838369369506836,
          -33.44272232055664,
          -34.4323844909668,
          -10.847402572631836,
          -3.665799856185913,
          3.0852103233337402,
          28.89307975769043,
          -39.62626647949219,
          -47.26095962524414,
          29.656394958496094,
          8.461440086364746,
          -0.5696847438812256,
          11.817275047302246,
          -5.759530544281006,
          31.67552375793457,
          9.74838638305664,
          3.429677963256836,
          -8.324156761169434,
          -45.156394958496094,
          41.82423782348633,
          25.651832580566406,
          -37.598731994628906,
          -0.1911565512418747,
          -2.6385834217071533,
          10.299262046813965,
          38.35198974609375,
          9.322054862976074,
          29.588159561157227,
          -15.284936904907227,
          0.24987858533859253,
          30.960994720458984,
          -13.060916900634766,
          41.30426788330078,
          22.49258804321289,
          32.27305603027344,
          -0.05396535247564316,
          -39.68434143066406,
          1.564070224761963,
          -35.063812255859375,
          31.63994026184082,
          14.13768196105957,
          -4.954219341278076,
          25.50116729736328,
          -8.924439430236816,
          2.2526917457580566,
          2.1008875370025635,
          -0.39656975865364075,
          -39.941741943359375,
          26.09214210510254,
          -37.07950973510742,
          -42.73445510864258,
          -44.63518524169922,
          25.565534591674805,
          26.802204132080078,
          43.56753921508789,
          -40.84648895263672,
          -15.210293769836426,
          35.68061065673828,
          -9.363861083984375,
          -9.76669979095459,
          5.000762939453125,
          -45.796409606933594,
          -50.40524673461914,
          32.626773834228516,
          11.140295028686523,
          -44.913204193115234,
          38.35900115966797,
          -0.3005046248435974,
          -34.935279846191406,
          -43.73278045654297,
          8.239432334899902,
          7.929144859313965,
          9.594297409057617,
          -11.787171363830566,
          -46.537269592285156,
          -11.604543685913086,
          -36.196746826171875,
          26.650300979614258,
          6.817811965942383,
          -44.409305572509766,
          25.59712028503418,
          -5.399570465087891,
          39.657005310058594,
          4.054069519042969,
          -0.9166696667671204,
          43.0430793762207,
          11.135014533996582,
          26.60919761657715,
          -41.148780822753906,
          -37.062828063964844,
          7.104175090789795,
          7.194418430328369,
          1.8808271884918213,
          25.888568878173828,
          -12.560554504394531,
          -2.8043713569641113,
          -39.36377716064453,
          25.997760772705078,
          42.602603912353516,
          22.099748611450195,
          33.269046783447266,
          -42.56919479370117,
          9.063905715942383,
          -41.212894439697266,
          0.8613538146018982,
          -35.124454498291016,
          33.390560150146484,
          -4.461660385131836,
          30.91924476623535,
          18.460874557495117,
          -3.27880597114563,
          31.7252197265625,
          29.74110221862793,
          17.181400299072266,
          15.002544403076172,
          -7.424128532409668,
          -47.047142028808594,
          44.58726501464844,
          -14.940503120422363,
          -42.4506721496582,
          -48.891578674316406,
          13.670282363891602,
          15.36513900756836,
          -49.68283462524414,
          -46.740509033203125,
          -37.57304763793945,
          29.287220001220703,
          -4.240137100219727,
          9.378189086914062,
          10.423124313354492,
          -42.718421936035156,
          2.1214137077331543,
          13.793659210205078,
          -44.317935943603516,
          37.26242446899414,
          8.331124305725098,
          36.05794906616211,
          -1.422046422958374,
          -8.438087463378906,
          36.85849380493164,
          -36.636783599853516,
          -13.941736221313477,
          -4.585740089416504,
          27.626651763916016,
          -2.0754871368408203,
          -40.021820068359375,
          -16.252779006958008,
          14.88636302947998,
          17.699153900146484,
          -41.435359954833984,
          -42.8856201171875,
          34.46455383300781,
          41.21236038208008,
          -12.517605781555176,
          -1.5284936428070068,
          41.200927734375,
          -43.54253387451172,
          -1.5807021856307983,
          -40.38637161254883,
          -12.779128074645996,
          35.78536605834961,
          -10.777127265930176,
          1.671791672706604,
          29.54077911376953,
          -39.3647575378418,
          29.479999542236328,
          -0.8929108381271362,
          31.90781593322754,
          16.843963623046875,
          35.0869140625,
          10.454368591308594,
          0.8527780175209045,
          -45.47814178466797,
          -50.018768310546875,
          -13.975425720214844,
          28.0422306060791,
          42.2387809753418,
          -41.13661193847656,
          33.08238983154297,
          42.86587142944336,
          33.76252746582031,
          -51.28092575073242,
          -3.693352222442627,
          -2.0960938930511475,
          35.15517807006836,
          -11.313632011413574,
          15.232341766357422,
          29.885040283203125,
          -0.1453934758901596,
          -41.15860366821289,
          30.713193893432617,
          5.513606071472168,
          -13.741898536682129,
          -40.1953239440918,
          10.803964614868164,
          35.223331451416016,
          -12.374981880187988,
          34.064178466796875,
          11.215642929077148,
          -39.64777374267578,
          -4.269728660583496,
          -2.592278003692627,
          10.258737564086914,
          -46.064453125,
          28.204187393188477,
          -45.87359619140625,
          29.369535446166992,
          -39.32965850830078,
          7.244886875152588,
          25.876798629760742,
          30.763364791870117,
          -40.08238983154297,
          39.69491195678711,
          -49.343528747558594,
          -2.827996015548706,
          38.775535583496094,
          -4.934043884277344,
          15.062795639038086,
          16.819705963134766,
          34.19105911254883,
          5.223992347717285,
          -11.21374225616455,
          -4.747747421264648,
          -12.300810813903809,
          31.035247802734375,
          -13.489896774291992,
          -12.421059608459473,
          6.759466171264648,
          3.8291640281677246,
          29.126502990722656,
          -1.4924957752227783,
          11.558541297912598,
          -48.63983154296875,
          16.173664093017578,
          -17.552438735961914,
          -39.9561882019043,
          -33.56006622314453,
          2.6975066661834717,
          2.6933040618896484,
          9.411046981811523,
          -7.049741744995117,
          5.077464580535889,
          10.386280059814453,
          35.7537841796875,
          30.585298538208008,
          37.244014739990234,
          -34.8558464050293,
          5.582204818725586,
          -45.46586990356445,
          24.49378204345703,
          7.9344282150268555,
          1.3819217681884766,
          40.12502670288086,
          -3.098637819290161,
          -38.44870376586914,
          -6.0842413902282715,
          -9.183551788330078,
          -48.63573455810547,
          33.66622543334961,
          -5.697200298309326,
          -34.959503173828125,
          -50.11753463745117,
          35.41204071044922,
          -47.866275787353516,
          -14.414644241333008,
          -44.35630416870117,
          -6.3170294761657715,
          44.153587341308594,
          5.66408109664917,
          -42.10514831542969,
          40.42285919189453,
          -4.028998851776123,
          -5.351868152618408,
          29.421489715576172,
          19.95604705810547,
          0.4512776732444763,
          8.874248504638672,
          31.363492965698242,
          -17.199464797973633,
          -48.24163818359375,
          -5.377468109130859,
          35.58263397216797,
          4.059206962585449,
          16.870281219482422,
          13.035126686096191,
          -14.579971313476562,
          12.319016456604004,
          1.278691053390503,
          12.845804214477539,
          38.06771469116211,
          6.875177383422852,
          -16.104246139526367,
          7.749527931213379,
          1.2860604524612427,
          -22.572134017944336,
          -45.52883529663086,
          3.545548439025879,
          2.5992238521575928,
          24.868663787841797,
          35.082969665527344,
          -14.349140167236328,
          33.20722198486328,
          -39.183048248291016,
          12.511733055114746,
          -32.65576934814453,
          26.906761169433594,
          -37.71061325073242,
          -44.509613037109375,
          -42.947017669677734,
          -14.68368148803711,
          -38.47110366821289,
          11.739871978759766,
          -10.50187873840332,
          40.0800666809082,
          -38.053348541259766,
          14.01014232635498,
          -41.942691802978516,
          39.94188690185547,
          38.36686325073242,
          -47.8819580078125,
          23.81663703918457,
          -40.8045768737793,
          41.66151428222656,
          -12.486474990844727,
          -2.631052017211914,
          -7.666190147399902,
          44.15705490112305,
          -1.0431517362594604,
          19.149412155151367,
          -36.499229431152344,
          33.71673583984375,
          -32.60673904418945,
          21.07114028930664,
          33.476741790771484,
          29.475492477416992,
          33.67223358154297,
          0.9183781147003174,
          -14.547713279724121,
          -39.86164855957031,
          -4.503544807434082,
          -43.46440887451172,
          -39.650047302246094,
          2.9439196586608887,
          33.870792388916016,
          9.153800010681152,
          0.40288305282592773,
          -12.597591400146484,
          -12.80156421661377,
          -11.292998313903809,
          -17.317325592041016,
          -9.24581527709961,
          -44.7921257019043,
          32.829402923583984,
          7.742040634155273,
          -41.62239074707031,
          29.85860252380371,
          -12.650845527648926,
          -4.7784247398376465,
          -48.67256546020508,
          11.934452056884766,
          -3.3443198204040527,
          -11.436848640441895,
          14.617831230163574,
          -50.385982513427734,
          -15.533693313598633,
          8.516860008239746,
          -11.51920223236084,
          -11.656428337097168,
          0.4622338116168976,
          1.009074330329895,
          3.8520843982696533,
          -8.323149681091309,
          8.656501770019531,
          1.3195233345031738,
          -46.266658782958984,
          26.821725845336914,
          -34.85930633544922,
          -0.841005802154541,
          8.52042293548584,
          15.210428237915039,
          -10.741846084594727,
          2.2637505531311035,
          36.29800796508789,
          -39.79045867919922,
          34.048343658447266,
          1.5432170629501343,
          11.447127342224121,
          21.901826858520508,
          6.971797466278076,
          26.265960693359375,
          18.724966049194336,
          7.693972587585449,
          -42.45975112915039,
          -36.7890739440918,
          -0.28635865449905396,
          3.88425350189209,
          30.452625274658203,
          9.7544527053833,
          39.19188690185547,
          9.374131202697754,
          28.839242935180664,
          -1.4718714952468872,
          -7.518394947052002,
          8.146010398864746,
          -1.9098511934280396,
          -10.976473808288574,
          -2.7069833278656006,
          35.25621032714844,
          0.9382299184799194,
          -40.46937561035156,
          -42.23428726196289,
          43.31967544555664,
          26.99042320251465,
          -10.56839656829834,
          -44.88168716430664,
          35.59944152832031,
          35.73111343383789,
          -3.832000732421875,
          -12.167588233947754,
          11.226234436035156,
          -5.260934352874756,
          35.51089096069336,
          -49.98859786987305,
          1.4046833515167236,
          -13.681513786315918,
          -15.663891792297363,
          -35.6042366027832,
          -20.492185592651367,
          -5.039988994598389,
          4.686498165130615,
          -11.886271476745605,
          36.36928176879883,
          -13.136277198791504,
          4.659876346588135,
          8.622177124023438,
          -45.36739730834961,
          31.382436752319336,
          32.5787467956543,
          -44.169960021972656,
          -1.7376267910003662,
          -11.412969589233398,
          2.2970762252807617,
          -3.230400800704956,
          -37.0622673034668,
          30.55381965637207,
          -11.080872535705566,
          -42.92603302001953,
          -4.210207462310791,
          -11.044933319091797,
          -14.514080047607422,
          -44.70669174194336,
          28.408620834350586,
          -0.3229549825191498,
          -2.2906293869018555,
          36.472511291503906,
          -38.122474670410156,
          -44.49750900268555,
          -1.4639097452163696,
          3.8087825775146484,
          29.790050506591797,
          -9.561949729919434,
          27.601682662963867,
          34.312557220458984,
          31.776573181152344,
          32.85870361328125,
          -45.25944900512695,
          -6.798549652099609,
          -12.678396224975586,
          -17.297521591186523,
          -4.202783584594727,
          -8.291949272155762,
          34.04892349243164,
          -40.10015106201172,
          29.300498962402344,
          -39.366031646728516,
          9.296204566955566,
          -7.326869964599609,
          -11.67847728729248,
          -2.3190646171569824,
          25.166275024414062,
          42.130149841308594,
          10.810373306274414,
          -10.120901107788086,
          -0.5598296523094177,
          -40.47966766357422,
          10.94213581085205,
          3.4990639686584473,
          33.53550720214844,
          -41.189002990722656,
          31.287670135498047,
          7.350813388824463,
          0.8749697804450989,
          -34.90944290161133,
          -2.121931791305542,
          31.877933502197266,
          27.08977508544922,
          -13.003633499145508,
          37.11775588989258,
          -44.61324691772461,
          -0.5724380016326904,
          40.69080352783203,
          -10.0242280960083,
          4.268679618835449,
          -41.41773986816406,
          -3.9128198623657227,
          34.31647872924805,
          -7.279226779937744,
          -47.6865119934082,
          1.7946805953979492,
          -43.65961456298828,
          -14.907796859741211,
          40.99494934082031,
          3.422229766845703,
          -48.514442443847656,
          -36.87451934814453,
          33.49634552001953,
          10.159590721130371,
          13.634145736694336,
          26.829349517822266,
          -35.97718048095703,
          1.4152307510375977,
          -4.470301151275635,
          33.842498779296875,
          -9.829248428344727,
          -36.8364143371582,
          4.795551300048828,
          -0.19167855381965637,
          -12.164505004882812,
          -45.4789924621582,
          32.51451110839844,
          19.953210830688477,
          -2.8877980709075928,
          16.224075317382812,
          -50.818153381347656,
          0.5573564171791077,
          -49.964820861816406,
          -9.716562271118164,
          -43.64425277709961,
          -46.206695556640625,
          1.7223237752914429,
          -32.97636413574219,
          -6.262348651885986,
          -15.744235038757324,
          31.391868591308594,
          -0.35331279039382935,
          -44.913055419921875,
          -8.430992126464844,
          -11.891458511352539,
          12.120590209960938,
          8.363621711730957,
          4.275818347930908,
          28.805513381958008,
          -1.7411442995071411,
          -3.6868162155151367,
          -41.58589553833008,
          -14.002788543701172,
          36.39219665527344,
          -38.483558654785156,
          -12.548216819763184,
          -43.9228630065918,
          19.658588409423828,
          32.61048126220703,
          30.20818328857422,
          -44.97758102416992,
          17.25718879699707,
          41.127017974853516,
          -34.744232177734375,
          43.37997055053711,
          6.525113105773926,
          15.595980644226074,
          27.346803665161133,
          28.15378189086914,
          28.578266143798828,
          5.979129314422607,
          27.957258224487305,
          42.675174713134766,
          10.765005111694336,
          -41.081321716308594,
          32.403839111328125,
          38.63037109375,
          29.259647369384766,
          4.981034278869629,
          -7.1574201583862305,
          -13.217175483703613,
          -8.560517311096191,
          -1.3844677209854126,
          -47.988590240478516,
          -49.26278305053711,
          -3.638996124267578,
          1.8792494535446167,
          -42.66624450683594,
          -5.239290714263916,
          -12.376153945922852,
          8.471936225891113,
          -5.981899261474609,
          -3.5275347232818604,
          7.421086311340332,
          -4.419655799865723,
          -46.74446105957031,
          35.91353988647461,
          4.719930171966553,
          16.90260124206543,
          37.53868103027344,
          42.73313522338867,
          35.545997619628906,
          34.523929595947266,
          -13.599345207214355,
          -39.35481262207031,
          0.19299812614917755,
          3.323296308517456,
          -0.18282027542591095,
          27.243064880371094,
          28.87433433532715,
          -9.994108200073242,
          -2.757025957107544,
          -11.662886619567871,
          3.7558934688568115,
          -40.80881881713867,
          28.73399543762207,
          -45.64567184448242,
          28.106164932250977,
          -44.198211669921875,
          -42.186058044433594,
          23.60330581665039,
          -1.184545636177063,
          -33.738460540771484,
          -7.789002895355225,
          -10.328618049621582,
          32.0822639465332,
          -4.2734856605529785,
          -5.611868858337402,
          37.326778411865234,
          -8.630352973937988,
          34.82941818237305,
          -3.1607635021209717,
          10.651885032653809,
          -6.096052646636963,
          -38.14457321166992,
          20.441560745239258,
          9.45623779296875,
          -1.0970536470413208,
          44.48505783081055,
          -42.4571533203125,
          34.44268035888672,
          -44.905372619628906,
          4.6333112716674805,
          -9.455724716186523,
          -10.110138893127441,
          4.38027811050415,
          -2.4676077365875244,
          -35.557918548583984,
          32.618106842041016,
          -13.65778636932373,
          4.512312412261963,
          -46.619686126708984,
          30.43667221069336,
          31.40174674987793,
          34.6019287109375,
          -16.390666961669922,
          -16.27447509765625,
          8.835213661193848,
          1.9738166332244873,
          10.1712007522583,
          19.301719665527344,
          -10.083141326904297,
          4.788360118865967,
          10.253836631774902,
          7.138038158416748,
          -9.545198440551758,
          -37.04065704345703,
          -35.687957763671875,
          26.90292739868164,
          -46.04288864135742,
          -38.50675964355469,
          -47.11133575439453,
          -11.851949691772461,
          -9.800024032592773,
          -35.725196838378906,
          -45.81575393676758,
          15.320344924926758,
          -11.501224517822266,
          -42.01270294189453,
          3.8510260581970215,
          35.99100875854492,
          -37.85942459106445,
          22.0760440826416,
          5.851071834564209,
          7.4552483558654785,
          36.3056755065918,
          24.35296058654785,
          -9.850523948669434,
          27.23944664001465,
          -42.00288391113281,
          36.60911560058594,
          7.1027655601501465,
          -43.43661880493164,
          39.68254852294922,
          38.66389465332031,
          -50.12321090698242,
          -10.24023151397705,
          -39.72872543334961,
          28.016462326049805,
          19.857601165771484,
          36.69718933105469,
          34.877872467041016,
          -39.11491394042969,
          36.99674987792969,
          0.31553637981414795,
          -34.014381408691406,
          2.6846680641174316,
          -13.587080001831055,
          43.837913513183594,
          9.842387199401855,
          -41.069950103759766,
          -14.094032287597656,
          34.269615173339844,
          36.712257385253906,
          -32.68037414550781,
          31.115032196044922,
          2.884986639022827,
          -39.682552337646484,
          2.634789228439331,
          36.51768493652344,
          -0.16242091357707977,
          -6.417459011077881,
          -8.280418395996094,
          -1.4462430477142334,
          19.60348129272461,
          -37.90242004394531,
          9.0957670211792,
          -3.6197316646575928,
          -5.368011474609375,
          -40.67761993408203,
          -4.0909929275512695,
          0.1745646446943283,
          -6.7097015380859375,
          3.7289419174194336,
          -38.91632843017578,
          43.111385345458984,
          31.09258270263672,
          9.957634925842285,
          -6.562180519104004,
          -0.39209800958633423,
          31.38169288635254,
          12.63735580444336,
          40.77613067626953,
          -13.464816093444824,
          2.1105971336364746,
          41.63350296020508,
          -7.656886577606201,
          19.630714416503906,
          39.15887451171875,
          -42.398868560791016,
          -2.8913469314575195,
          -43.547367095947266,
          -15.22768783569336,
          -10.596694946289062,
          -3.731523036956787,
          -1.404154658317566,
          3.9502997398376465,
          -38.6992073059082,
          -6.667750835418701,
          33.332210540771484,
          -36.248382568359375,
          -1.607290506362915,
          36.22211837768555,
          -3.5004918575286865,
          31.685365676879883,
          37.337005615234375,
          0.896301805973053,
          22.887937545776367,
          30.947214126586914,
          -39.81999588012695,
          13.380706787109375,
          -46.56803894042969,
          -49.559268951416016,
          7.702915668487549,
          -36.415218353271484,
          32.763771057128906,
          34.01301956176758,
          43.65694046020508,
          -0.7996499538421631,
          4.367114067077637,
          -4.26633358001709,
          27.1521053314209,
          32.44267654418945,
          -47.67721176147461,
          29.911876678466797,
          -8.844970703125,
          0.2036692202091217,
          -5.777316570281982,
          22.634580612182617,
          18.283397674560547,
          26.48033905029297,
          -36.95431900024414,
          2.5752744674682617,
          -11.696101188659668,
          -39.851070404052734,
          5.27271842956543,
          23.614076614379883,
          -45.848487854003906,
          36.230220794677734,
          -1.5354431867599487,
          -6.577958106994629,
          6.570148468017578,
          3.4297266006469727,
          5.933051586151123,
          -43.005130767822266,
          -11.451547622680664,
          -1.3280551433563232,
          -1.8413605690002441,
          -8.153837203979492,
          37.28460693359375,
          33.86314392089844,
          -41.405189514160156,
          -39.00440979003906,
          -0.3390393555164337,
          0.18647901713848114,
          -35.406280517578125,
          39.943607330322266,
          34.40102005004883,
          -13.587140083312988,
          11.077333450317383,
          9.934170722961426,
          -8.90181827545166,
          -10.860453605651855,
          30.6860408782959,
          3.2913737297058105,
          34.29774475097656,
          -41.60321044921875,
          -9.761433601379395,
          3.3773529529571533,
          8.689859390258789,
          31.528972625732422,
          -9.444496154785156,
          35.400325775146484,
          25.192859649658203,
          -1.3415659666061401,
          34.482566833496094,
          -35.99852752685547,
          32.06309509277344,
          30.288917541503906,
          -47.61976623535156,
          -34.39232635498047,
          -36.39979934692383,
          -49.985923767089844,
          -38.600955963134766,
          -4.158352851867676,
          -38.49016571044922,
          -10.498475074768066,
          -12.829195022583008,
          29.307992935180664,
          -1.6490890979766846,
          9.360430717468262,
          0.6926454901695251,
          -5.123642921447754,
          3.6887500286102295,
          -33.35598373413086,
          4.357565402984619,
          22.32466697692871,
          -47.37301254272461,
          9.865179061889648,
          38.12596893310547,
          6.367272853851318,
          -0.4885641038417816,
          -36.306434631347656,
          6.988746166229248,
          -43.5391731262207,
          -6.555293083190918,
          -14.250043869018555,
          -13.695535659790039,
          -35.46849060058594,
          16.10145378112793,
          -49.32402038574219,
          -40.546165466308594,
          2.0042617321014404,
          -48.48938751220703,
          36.29927062988281,
          4.697081089019775,
          30.021955490112305,
          11.869705200195312,
          4.182316303253174,
          26.29718780517578,
          12.971177101135254,
          13.61428165435791,
          -1.9658081531524658,
          3.1440865993499756,
          1.2709691524505615,
          -36.319156646728516,
          34.75065994262695,
          -44.35341262817383,
          30.9129638671875,
          -2.30831241607666,
          29.040760040283203,
          -47.872711181640625,
          36.23381423950195,
          -13.201618194580078,
          -37.665897369384766,
          -44.96760940551758,
          8.648865699768066,
          34.77785873413086,
          -39.85689163208008,
          -11.008320808410645,
          0.6026238799095154,
          -10.540083885192871,
          33.47007369995117,
          28.18695640563965,
          -5.598735332489014,
          6.271396636962891,
          -21.162843704223633,
          -5.342230319976807,
          37.155879974365234,
          0.41008785367012024,
          -7.395900726318359,
          -34.50215148925781,
          10.008232116699219,
          -43.42402267456055,
          -47.98288345336914,
          -10.695832252502441,
          -41.84197235107422,
          -8.280890464782715,
          0.17854732275009155,
          -14.094849586486816,
          -0.8060351610183716,
          3.6069467067718506,
          -5.015931606292725,
          11.31751823425293,
          -13.519963264465332,
          17.806663513183594,
          31.23805046081543,
          -9.877412796020508,
          33.214019775390625,
          -12.297659873962402,
          11.973332405090332,
          3.935194492340088,
          1.6760016679763794,
          -35.0196418762207,
          -42.2253303527832,
          -10.97076416015625,
          3.1260197162628174,
          15.043661117553711,
          -2.3531434535980225,
          34.37941360473633,
          -33.685821533203125,
          -43.075679779052734,
          34.137630462646484,
          23.66277313232422,
          -49.71074295043945,
          -11.017049789428711,
          -0.44623029232025146,
          1.7865442037582397,
          -37.705787658691406,
          1.0974962711334229,
          12.300008773803711,
          40.050193786621094,
          40.10128402709961,
          24.471805572509766,
          19.972126007080078,
          40.216007232666016,
          35.56098175048828,
          30.84785270690918,
          -3.9645004272460938,
          25.789987564086914,
          -2.8326382637023926,
          28.925556182861328,
          -5.933509349822998,
          0.26427435874938965,
          10.509963989257812,
          4.145449161529541,
          22.202199935913086,
          -37.50691604614258,
          8.880181312561035,
          -38.215087890625,
          -35.4286003112793,
          19.60272979736328,
          5.955025672912598,
          0.7331738471984863,
          -2.813565969467163,
          -34.880653381347656,
          -13.203822135925293,
          27.974138259887695,
          -14.503348350524902,
          35.21112060546875,
          2.820521354675293,
          -46.31045150756836,
          14.708330154418945,
          39.253604888916016,
          -7.210228443145752,
          37.39497756958008,
          23.40180015563965,
          28.094022750854492,
          -34.91643142700195,
          -6.4676127433776855,
          -43.08838653564453,
          11.678601264953613,
          -47.217750549316406,
          -41.68452835083008,
          -4.953376293182373,
          -31.664216995239258,
          13.442856788635254,
          13.809455871582031,
          33.660545349121094,
          -37.32239532470703,
          35.02526092529297,
          12.93222427368164,
          11.011441230773926,
          33.56378173828125,
          -47.040775299072266,
          14.428504943847656,
          -46.43857192993164,
          -5.680771827697754,
          1.7139742374420166,
          38.1447639465332,
          1.0983449220657349,
          6.1812615394592285,
          16.888044357299805,
          37.71694564819336,
          8.715487480163574,
          -15.483266830444336,
          35.882591247558594,
          8.132153511047363,
          42.40633010864258,
          7.0170183181762695,
          36.970237731933594,
          -42.85197830200195,
          38.38993835449219,
          30.75493621826172,
          -3.293977975845337,
          -3.7402260303497314,
          33.04065704345703,
          -41.57976531982422,
          -43.33364486694336,
          37.98670196533203,
          1.2862080335617065,
          -46.4648323059082,
          31.98105812072754,
          10.175302505493164,
          3.4542951583862305,
          26.83657455444336,
          5.182857990264893,
          36.46775817871094,
          -41.20835494995117,
          34.710121154785156,
          -11.0304536819458,
          -36.36252975463867,
          -13.666427612304688,
          -14.724254608154297,
          30.031917572021484,
          -12.41655445098877,
          -14.485069274902344,
          27.063579559326172,
          33.834129333496094,
          -13.171266555786133,
          -1.2198761701583862,
          -16.76429557800293,
          34.867130279541016,
          16.044086456298828,
          -47.17342758178711,
          3.999263048171997,
          -15.638361930847168,
          -2.4707424640655518,
          -48.280433654785156,
          -1.3324081897735596,
          2.5471036434173584,
          34.89972686767578,
          7.231900215148926,
          -12.421366691589355,
          24.08941650390625,
          3.2482173442840576,
          -13.698817253112793,
          2.6576061248779297,
          -46.228309631347656,
          18.10612678527832,
          -3.1886086463928223,
          -10.563674926757812,
          20.8330020904541,
          -13.259393692016602,
          37.608665466308594,
          35.336265563964844,
          1.8169480562210083,
          41.443389892578125,
          -12.465078353881836,
          -3.589606523513794,
          -5.849077224731445,
          6.214061260223389,
          31.339771270751953,
          -1.3744332790374756,
          26.314821243286133
         ],
         "xaxis": "x",
         "y": [
          -9.848628044128418,
          8.793288230895996,
          -14.822514533996582,
          40.12874221801758,
          8.747270584106445,
          -12.982575416564941,
          -7.3835554122924805,
          2.905310869216919,
          33.97553634643555,
          15.176968574523926,
          -14.152778625488281,
          32.772499084472656,
          0.15240596234798431,
          2.2578344345092773,
          -5.630831718444824,
          -15.241362571716309,
          -13.047087669372559,
          14.037884712219238,
          -10.501503944396973,
          -1.8069159984588623,
          19.479808807373047,
          17.594934463500977,
          39.96469497680664,
          11.307513236999512,
          -49.71937561035156,
          -10.865018844604492,
          11.214776039123535,
          -19.837371826171875,
          -50.36437225341797,
          -8.274388313293457,
          -13.551942825317383,
          19.855072021484375,
          -4.077996253967285,
          35.43673324584961,
          -46.47104263305664,
          6.979188442230225,
          -16.571996688842773,
          39.83420181274414,
          17.146434783935547,
          -8.963054656982422,
          41.007041931152344,
          14.303821563720703,
          -12.30750560760498,
          -9.736319541931152,
          18.816308975219727,
          -17.778287887573242,
          -22.808767318725586,
          1.8192393779754639,
          36.50053405761719,
          -4.045848369598389,
          -6.145777702331543,
          11.17016887664795,
          -11.57093334197998,
          18.84735107421875,
          -6.8029255867004395,
          33.45510482788086,
          -15.075069427490234,
          -12.674552917480469,
          -3.7753753662109375,
          11.603626251220703,
          -0.6425050497055054,
          -11.596932411193848,
          7.982449531555176,
          20.545303344726562,
          -8.326154708862305,
          -11.995651245117188,
          -11.575037002563477,
          -9.977133750915527,
          -18.621618270874023,
          -19.930330276489258,
          37.98188781738281,
          36.37604522705078,
          -1.1786295175552368,
          -9.065045356750488,
          -13.691263198852539,
          34.19615936279297,
          7.795040130615234,
          -11.954829216003418,
          -9.914158821105957,
          10.313790321350098,
          6.275591850280762,
          9.49631404876709,
          36.94445037841797,
          9.38919448852539,
          -9.89007568359375,
          -12.237849235534668,
          -6.657839298248291,
          5.524330139160156,
          -12.92431926727295,
          36.303749084472656,
          -14.207779884338379,
          18.864585876464844,
          -18.06639862060547,
          -13.272896766662598,
          33.00672149658203,
          38.05354309082031,
          -15.641140937805176,
          15.188318252563477,
          11.077312469482422,
          -3.7052509784698486,
          -11.552579879760742,
          14.313881874084473,
          14.111320495605469,
          38.243370056152344,
          19.249134063720703,
          33.32148361206055,
          -48.70159149169922,
          11.949687957763672,
          12.350618362426758,
          -12.55375862121582,
          20.206588745117188,
          -12.36874008178711,
          -13.182016372680664,
          17.19553565979004,
          8.2132568359375,
          -42.078514099121094,
          6.907821178436279,
          -6.495147228240967,
          -14.167284965515137,
          23.609960556030273,
          9.333683013916016,
          -48.152244567871094,
          23.66834259033203,
          24.096351623535156,
          12.546690940856934,
          8.701478004455566,
          -51.6461181640625,
          -10.144956588745117,
          -14.454065322875977,
          33.4925651550293,
          -10.366381645202637,
          -6.847415447235107,
          14.850691795349121,
          2.903477907180786,
          -7.696367263793945,
          1.7784361839294434,
          8.71624755859375,
          15.309768676757812,
          -11.044739723205566,
          17.33221435546875,
          15.553435325622559,
          1.5402424335479736,
          42.542049407958984,
          1.3530609607696533,
          -10.12008285522461,
          -15.093482971191406,
          16.369869232177734,
          -11.041104316711426,
          -18.355663299560547,
          -9.486865997314453,
          17.82946014404297,
          -10.396546363830566,
          -11.380632400512695,
          -21.537952423095703,
          15.927291870117188,
          -46.741554260253906,
          -12.643341064453125,
          37.28744888305664,
          1.4618053436279297,
          13.665395736694336,
          10.082047462463379,
          10.229549407958984,
          -11.25978946685791,
          -14.100165367126465,
          -12.95555305480957,
          -17.946670532226562,
          -11.319612503051758,
          -13.728109359741211,
          -14.507479667663574,
          -3.655641794204712,
          -18.00423812866211,
          18.820768356323242,
          32.819034576416016,
          -17.82056427001953,
          -16.219547271728516,
          11.981646537780762,
          -12.731180191040039,
          -13.102320671081543,
          -7.182096481323242,
          2.36564564704895,
          -9.64149284362793,
          9.509505271911621,
          42.79107666015625,
          -15.910787582397461,
          -1.264785647392273,
          32.98902893066406,
          13.297345161437988,
          -9.918502807617188,
          6.110198974609375,
          11.058135032653809,
          -12.836606979370117,
          13.898809432983398,
          -8.965310096740723,
          35.79084777832031,
          -52.769439697265625,
          -18.08844566345215,
          32.70547103881836,
          4.541289329528809,
          -10.023848533630371,
          -16.263973236083984,
          -0.6770015954971313,
          -17.418106079101562,
          -19.77903175354004,
          30.660011291503906,
          5.096912860870361,
          16.20526695251465,
          16.237648010253906,
          38.07600402832031,
          19.771625518798828,
          1.539972186088562,
          -10.311936378479004,
          -53.03065872192383,
          -9.198942184448242,
          4.123696327209473,
          -13.108152389526367,
          18.759082794189453,
          -9.86671257019043,
          20.873754501342773,
          -4.5173749923706055,
          36.36271667480469,
          21.284523010253906,
          14.689648628234863,
          9.396379470825195,
          -11.165885925292969,
          -6.528580188751221,
          38.5767822265625,
          -13.246557235717773,
          -52.126312255859375,
          10.393022537231445,
          11.005553245544434,
          22.04591178894043,
          37.610626220703125,
          -13.229430198669434,
          -21.52345085144043,
          -17.864614486694336,
          13.892653465270996,
          38.745365142822266,
          36.00178146362305,
          9.204671859741211,
          36.302921295166016,
          -13.745765686035156,
          -23.171804428100586,
          18.17642593383789,
          1.1993482112884521,
          13.45254135131836,
          -10.295950889587402,
          2.8185927867889404,
          1.0260440111160278,
          -12.011256217956543,
          42.3325309753418,
          33.66217041015625,
          -52.29755783081055,
          35.976192474365234,
          8.140128135681152,
          -13.018922805786133,
          21.192806243896484,
          -20.237337112426758,
          5.179743766784668,
          30.39698028564453,
          -0.9522890448570251,
          19.125539779663086,
          11.624815940856934,
          -19.449111938476562,
          -12.991209983825684,
          -51.37319564819336,
          -5.314033508300781,
          -48.82229995727539,
          -14.818964958190918,
          -10.044882774353027,
          17.26382064819336,
          -12.321455001831055,
          1.7192292213439941,
          -10.357739448547363,
          18.131628036499023,
          -6.253599166870117,
          -6.79115629196167,
          -8.917340278625488,
          -7.966845989227295,
          -13.817523002624512,
          30.73961067199707,
          6.800586700439453,
          -17.936452865600586,
          -19.308822631835938,
          -49.24863815307617,
          23.130393981933594,
          16.742151260375977,
          40.104427337646484,
          34.1541633605957,
          -14.525678634643555,
          36.740421295166016,
          -2.570291519165039,
          -11.244277000427246,
          -11.184142112731934,
          33.684165954589844,
          2.507629156112671,
          2.6974737644195557,
          31.9062442779541,
          7.9596757888793945,
          -43.93476486206055,
          2.4050755500793457,
          -19.826581954956055,
          39.319679260253906,
          -11.378077507019043,
          17.5565242767334,
          -43.0302619934082,
          -9.591082572937012,
          4.826232433319092,
          35.07805633544922,
          41.339866638183594,
          19.53731346130371,
          21.51363754272461,
          -6.833035945892334,
          11.373878479003906,
          -10.22341537475586,
          11.582650184631348,
          0.3112252354621887,
          16.712989807128906,
          -11.285467147827148,
          1.950573205947876,
          0.9346848130226135,
          -10.3291654586792,
          3.2454473972320557,
          7.486085414886475,
          -10.208233833312988,
          -18.71148681640625,
          4.928197383880615,
          14.583541870117188,
          -2.7013614177703857,
          -10.990445137023926,
          -17.23891830444336,
          -9.846302032470703,
          19.709598541259766,
          4.395526885986328,
          -12.463704109191895,
          -13.433918952941895,
          -47.80963134765625,
          -52.273014068603516,
          -12.034504890441895,
          -51.53962707519531,
          16.64150047302246,
          -5.849538803100586,
          -19.75005340576172,
          0.3015539348125458,
          21.409849166870117,
          -20.22701644897461,
          16.43572425842285,
          -19.676555633544922,
          -15.929304122924805,
          37.73674392700195,
          -11.759663581848145,
          -11.475120544433594,
          -11.695218086242676,
          2.0204968452453613,
          30.242719650268555,
          -14.291971206665039,
          7.64217472076416,
          -42.89933395385742,
          -9.633378028869629,
          -10.260334014892578,
          -6.356360912322998,
          36.77376174926758,
          -20.066640853881836,
          6.661388874053955,
          22.637462615966797,
          19.479061126708984,
          8.386091232299805,
          14.656373023986816,
          -16.199764251708984,
          -48.50994873046875,
          2.1711905002593994,
          2.8174538612365723,
          37.09505081176758,
          35.11028289794922,
          8.63673210144043,
          -8.298246383666992,
          33.074737548828125,
          36.458526611328125,
          -14.890134811401367,
          36.47036361694336,
          -12.320282936096191,
          42.53133773803711,
          -20.553789138793945,
          -11.11749267578125,
          34.599369049072266,
          36.13728713989258,
          -6.343149185180664,
          18.873167037963867,
          8.662120819091797,
          -51.01973342895508,
          9.995755195617676,
          2.229231119155884,
          35.871856689453125,
          42.04124069213867,
          20.817123413085938,
          3.974447250366211,
          -18.207378387451172,
          41.33598709106445,
          3.2539286613464355,
          13.601777076721191,
          39.75898361206055,
          -12.805708885192871,
          17.388216018676758,
          33.718589782714844,
          7.967840671539307,
          4.169576644897461,
          -43.201351165771484,
          32.594993591308594,
          20.79141616821289,
          4.7637619972229,
          -19.17531967163086,
          34.365421295166016,
          22.63743019104004,
          38.60449981689453,
          -7.188775062561035,
          19.00298500061035,
          -51.92234802246094,
          -7.595129489898682,
          -8.803608894348145,
          14.953414916992188,
          -7.467154502868652,
          -12.072022438049316,
          -8.094473838806152,
          -11.509126663208008,
          17.292579650878906,
          33.57021713256836,
          -1.5347591638565063,
          -20.215648651123047,
          -13.336642265319824,
          -22.77374267578125,
          37.915809631347656,
          7.63025426864624,
          -48.65547561645508,
          -22.01817512512207,
          -9.426787376403809,
          -9.912918090820312,
          40.05723571777344,
          -10.00590991973877,
          9.720162391662598,
          -9.880732536315918,
          -15.16759967803955,
          36.878082275390625,
          -10.834280014038086,
          -17.857664108276367,
          -7.359447956085205,
          -14.668096542358398,
          11.792725563049316,
          0.7044379711151123,
          10.910323143005371,
          17.79492950439453,
          4.670765399932861,
          36.09033203125,
          31.757619857788086,
          -17.38498878479004,
          -46.692386627197266,
          -9.276254653930664,
          -13.531820297241211,
          -8.290581703186035,
          5.272654056549072,
          -49.795875549316406,
          -16.86429786682129,
          -9.382905006408691,
          -9.795714378356934,
          19.750761032104492,
          -51.53099060058594,
          -13.294229507446289,
          -20.5581111907959,
          -10.190155982971191,
          -14.134581565856934,
          -51.3062858581543,
          34.50820541381836,
          -15.648715019226074,
          33.97260665893555,
          -12.855338096618652,
          -15.005111694335938,
          21.66152572631836,
          23.503047943115234,
          -0.6732091307640076,
          -48.76617431640625,
          -13.737161636352539,
          -10.332817077636719,
          37.074119567871094,
          35.61381530761719,
          14.518792152404785,
          9.613077163696289,
          13.802780151367188,
          -3.910780191421509,
          5.503627777099609,
          -15.044973373413086,
          34.07598876953125,
          -15.039578437805176,
          21.780590057373047,
          -8.754779815673828,
          33.66221618652344,
          37.1915283203125,
          -10.742670059204102,
          -0.008105507120490074,
          33.132083892822266,
          -16.43016815185547,
          -6.567725658416748,
          -12.64394474029541,
          22.428287506103516,
          35.337894439697266,
          -13.861495971679688,
          -3.107706069946289,
          -8.460850715637207,
          -10.338289260864258,
          11.432251930236816,
          31.902000427246094,
          -17.7730770111084,
          2.3820412158966064,
          -14.786169052124023,
          -13.418403625488281,
          -14.770219802856445,
          -20.15867042541504,
          -1.7734631299972534,
          35.72708511352539,
          21.121103286743164,
          -16.69864845275879,
          1.5541400909423828,
          -15.381983757019043,
          -12.756092071533203,
          -10.767003059387207,
          -8.274585723876953,
          37.87247085571289,
          0.9175776839256287,
          4.666223526000977,
          -18.64813995361328,
          7.238934516906738,
          8.06257152557373,
          22.001615524291992,
          3.941293478012085,
          41.8881950378418,
          -47.76243209838867,
          23.265655517578125,
          -18.38304328918457,
          -10.15335750579834,
          33.758399963378906,
          -48.66312026977539,
          31.428173065185547,
          2.9129843711853027,
          -15.911155700683594,
          13.571598052978516,
          -50.217376708984375,
          13.463369369506836,
          -8.199987411499023,
          -8.874695777893066,
          -1.2890597581863403,
          37.59443664550781,
          -11.120370864868164,
          -6.386275768280029,
          -14.331215858459473,
          9.762237548828125,
          -51.21057891845703,
          37.07008743286133,
          9.697585105895996,
          -22.871007919311523,
          -15.088869094848633,
          -9.285751342773438,
          -7.716712474822998,
          13.264845848083496,
          38.329978942871094,
          -20.422321319580078,
          -12.598177909851074,
          37.853458404541016,
          -48.189796447753906,
          1.5395312309265137,
          35.84764099121094,
          -8.891547203063965,
          -11.634230613708496,
          -15.61410903930664,
          5.565518379211426,
          17.770034790039062,
          -17.905771255493164,
          16.381383895874023,
          5.607642650604248,
          3.1530609130859375,
          -10.75367259979248,
          2.886652946472168,
          -14.960237503051758,
          34.025726318359375,
          11.421549797058105,
          -16.12071418762207,
          -14.582358360290527,
          -14.46068286895752,
          34.409236907958984,
          -14.22426700592041,
          -11.523704528808594,
          17.872295379638672,
          8.033065795898438,
          19.641605377197266,
          -18.50156593322754,
          -13.154321670532227,
          -13.953725814819336,
          -7.690837860107422,
          36.53151321411133,
          36.29510498046875,
          -21.946943283081055,
          -9.627398490905762,
          -9.031282424926758,
          -51.915733337402344,
          -43.69053649902344,
          8.56855583190918,
          -52.477577209472656,
          -15.243535041809082,
          14.619954109191895,
          -18.156700134277344,
          -22.474477767944336,
          39.75673294067383,
          -52.344112396240234,
          -10.479484558105469,
          18.77496337890625,
          32.004207611083984,
          8.569746971130371,
          -15.34938907623291,
          -10.156718254089355,
          -7.670370578765869,
          -18.509824752807617,
          36.15410614013672,
          -11.18503189086914,
          -43.299705505371094,
          -15.19865608215332,
          -48.14613342285156,
          13.715889930725098,
          -14.042667388916016,
          -15.607177734375,
          -53.41741943359375,
          -9.88382339477539,
          -19.98656463623047,
          6.0948309898376465,
          15.958013534545898,
          -1.708778738975525,
          22.551593780517578,
          -10.552685737609863,
          7.6015496253967285,
          22.718706130981445,
          38.13920593261719,
          4.693333625793457,
          -49.40087127685547,
          -9.950743675231934,
          19.46901512145996,
          -19.3080997467041,
          -47.21481704711914,
          -14.024917602539062,
          -9.66023063659668,
          22.060279846191406,
          -46.37440872192383,
          13.446414947509766,
          -49.304290771484375,
          0.04396277666091919,
          17.382579803466797,
          39.818695068359375,
          38.797454833984375,
          -11.365458488464355,
          8.751922607421875,
          11.124578475952148,
          8.977293014526367,
          38.15793228149414,
          -14.758147239685059,
          -16.621925354003906,
          35.870880126953125,
          -22.970674514770508,
          -3.525818109512329,
          -6.620298862457275,
          33.7895393371582,
          38.39125442504883,
          -0.3942680060863495,
          -11.060195922851562,
          18.574899673461914,
          12.039263725280762,
          -10.283991813659668,
          -9.814763069152832,
          11.464080810546875,
          40.955684661865234,
          4.983105659484863,
          10.506771087646484,
          -18.93987274169922,
          -15.360547065734863,
          11.951241493225098,
          16.56159210205078,
          36.82107162475586,
          -4.134140968322754,
          5.346973419189453,
          14.865689277648926,
          -0.02874884195625782,
          -11.284170150756836,
          -9.57546329498291,
          -18.363622665405273,
          -7.365149974822998,
          -2.97851300239563,
          2.510864019393921,
          5.658928871154785,
          33.22963333129883,
          10.514872550964355,
          -12.926229476928711,
          19.426525115966797,
          -5.136388301849365,
          13.445316314697266,
          31.880027770996094,
          17.84416389465332,
          -9.837180137634277,
          21.35288429260254,
          -13.119309425354004,
          14.988188743591309,
          9.456781387329102,
          -10.196619033813477,
          40.018192291259766,
          9.611357688903809,
          -14.042520523071289,
          -19.180126190185547,
          -1.2369496822357178,
          -7.561253070831299,
          -10.596388816833496,
          13.426191329956055,
          16.681377410888672,
          16.907352447509766,
          -14.742033004760742,
          -4.267411708831787,
          -21.396549224853516,
          -22.65041160583496,
          3.8944106101989746,
          41.07550048828125,
          33.34244918823242,
          -12.780678749084473,
          18.029062271118164,
          4.704049587249756,
          34.99996566772461,
          18.394535064697266,
          19.443023681640625,
          -0.29461461305618286,
          -11.549914360046387,
          -20.40220069885254,
          -7.416526794433594,
          32.81129455566406,
          22.215469360351562,
          -19.028947830200195,
          -52.48814392089844,
          -50.06545639038086,
          -18.388641357421875,
          10.554560661315918,
          -3.6857519149780273,
          16.394609451293945,
          36.27052307128906,
          -7.398220539093018,
          3.7992584705352783,
          -15.700243949890137,
          -49.55373764038086,
          -48.04534912109375,
          -14.582682609558105,
          -3.3552658557891846,
          -13.72580623626709,
          -17.46946144104004,
          8.057258605957031,
          -50.015350341796875,
          -42.87492752075195,
          -12.208192825317383,
          12.242819786071777,
          -14.542166709899902,
          36.55521011352539,
          30.46474266052246,
          -9.90896224975586,
          -50.80201721191406,
          17.77186393737793,
          -17.91956901550293,
          9.97717571258545,
          38.841209411621094,
          2.471499443054199,
          33.17970275878906,
          -13.45296573638916,
          -16.06712532043457,
          -48.604759216308594,
          30.414684295654297,
          -10.21452522277832,
          -46.88832092285156,
          22.20511817932129,
          -7.446685314178467,
          -17.88499641418457,
          -21.291955947875977,
          37.26876449584961,
          -10.961892127990723,
          -13.710996627807617,
          -10.889647483825684,
          13.535408973693848,
          15.379692077636719,
          7.38356351852417,
          11.766157150268555,
          0.45949333906173706,
          -10.801741600036621,
          39.98162078857422,
          2.030271530151367,
          -15.68874454498291,
          11.596217155456543,
          -14.923523902893066,
          40.00800704956055,
          -19.231069564819336,
          -51.34016799926758,
          18.836774826049805,
          -13.462775230407715,
          -2.123950481414795,
          -13.838949203491211,
          -11.68091106414795,
          36.26245880126953,
          -18.449708938598633,
          21.296215057373047,
          16.998615264892578,
          10.848962783813477,
          5.225045680999756,
          42.77248001098633,
          37.540199279785156,
          4.2200822830200195,
          36.55414962768555,
          17.35883331298828,
          0.360775351524353,
          15.757528305053711,
          -9.803159713745117,
          -9.37695598602295,
          12.272612571716309,
          -13.859994888305664,
          38.146568298339844,
          -11.138427734375,
          -5.927083492279053,
          -49.59872817993164,
          -13.446512222290039,
          -9.168537139892578,
          -16.477079391479492,
          -15.877272605895996,
          1.2209720611572266,
          -12.282301902770996,
          -12.151989936828613,
          -42.65519332885742,
          4.819520950317383,
          -7.510996341705322,
          11.077292442321777,
          -12.97981071472168,
          35.12492752075195,
          14.698376655578613,
          38.56769561767578,
          -6.3134870529174805,
          13.544662475585938,
          35.79869842529297,
          -8.175410270690918,
          -1.1325632333755493,
          -15.411670684814453,
          33.85395050048828,
          35.37560272216797,
          21.351154327392578,
          33.59164047241211,
          20.74115562438965,
          16.365840911865234,
          -21.736783981323242,
          -22.136783599853516,
          9.249727249145508,
          -8.511079788208008,
          19.533140182495117,
          -8.153839111328125,
          -5.459406852722168,
          -9.539599418640137,
          -0.14036566019058228,
          -4.532158851623535,
          -50.53457260131836,
          8.656213760375977,
          38.91175842285156,
          38.61178970336914,
          24.84250831604004,
          -50.32317352294922,
          10.575480461120605,
          36.66866683959961,
          -15.67038631439209,
          -15.595571517944336,
          3.44805645942688,
          -17.836593627929688,
          13.451041221618652,
          -15.22519302368164,
          7.701967716217041,
          -9.090157508850098,
          41.04425811767578,
          -44.7136344909668,
          1.8914554119110107,
          35.41880798339844,
          -2.756720781326294,
          -49.16615676879883,
          -8.166946411132812,
          34.82183837890625,
          4.544597148895264,
          11.089914321899414,
          0.31397873163223267,
          2.9091551303863525,
          -19.5512638092041,
          0.5646917223930359,
          -13.134404182434082,
          -14.205039978027344,
          20.81433868408203,
          11.828496932983398,
          34.92483139038086,
          12.824339866638184,
          13.030610084533691,
          13.238580703735352,
          -23.803558349609375,
          -16.414461135864258,
          -44.071529388427734,
          -6.9512619972229,
          -19.9446964263916,
          -8.849204063415527,
          17.95424461364746,
          -23.223302841186523,
          -14.769187927246094,
          -7.574337959289551,
          -9.81477165222168,
          39.264915466308594,
          -6.583413124084473,
          -14.29389476776123,
          15.212968826293945,
          -17.57577896118164,
          -2.9715023040771484,
          35.003944396972656,
          -19.296323776245117,
          37.387691497802734,
          21.509164810180664,
          14.561370849609375,
          -16.482099533081055,
          40.0994873046875,
          -9.805571556091309,
          -18.238330841064453,
          -11.865073204040527,
          40.033485412597656,
          -11.549029350280762,
          0.7647353410720825,
          34.42962646484375,
          0.935187816619873,
          1.6104779243469238,
          -18.71598243713379,
          5.410480499267578,
          36.4412841796875,
          -50.603759765625,
          37.29698181152344,
          -48.51504898071289,
          -13.864930152893066,
          -48.22711944580078,
          17.972286224365234,
          39.88552474975586,
          11.36965274810791,
          -13.505997657775879,
          -15.617783546447754,
          17.851282119750977,
          -9.004325866699219,
          2.6379833221435547,
          34.13034439086914,
          -44.314369201660156,
          -2.119156837463379,
          -0.27691537141799927,
          -11.304156303405762,
          -17.596689224243164,
          8.77535629272461,
          36.38200378417969,
          19.67610740661621,
          2.082021951675415,
          -13.36569881439209,
          15.461688995361328,
          20.552350997924805,
          -7.642969131469727,
          34.1142692565918,
          -49.15567398071289,
          -44.77103805541992,
          5.820930480957031,
          -7.662642478942871,
          9.112594604492188,
          -14.818205833435059,
          -13.169952392578125,
          20.53199005126953,
          14.563118934631348,
          -8.936895370483398,
          -9.056475639343262,
          -6.174228668212891,
          -53.815391540527344,
          17.50519561767578,
          -13.581512451171875,
          20.31588363647461,
          -47.081146240234375,
          -9.059969902038574,
          17.472890853881836,
          37.05060958862305,
          14.351133346557617,
          -0.526780366897583,
          17.968290328979492,
          0.7467073798179626,
          9.487195014953613,
          16.99233055114746,
          32.0112190246582,
          -44.380496978759766,
          -16.766738891601562,
          -2.712394952774048,
          32.642704010009766,
          15.174236297607422,
          37.55375289916992,
          17.182641983032227,
          37.14369583129883,
          -9.31004810333252,
          5.000373363494873,
          -19.210674285888672,
          -10.511382102966309,
          17.017364501953125,
          19.423385620117188,
          22.77098846435547,
          5.554244041442871,
          -8.18930435180664,
          -14.905157089233398,
          12.019744873046875,
          -15.184774398803711,
          0.27189770340919495,
          -14.762975692749023,
          3.0629093647003174,
          9.44499683380127,
          13.868802070617676,
          14.425268173217773,
          2.620406150817871,
          14.871745109558105,
          1.939131498336792,
          15.035421371459961,
          20.674358367919922,
          -6.756955623626709,
          3.047089099884033,
          -15.423219680786133,
          -50.51533126831055,
          -13.958725929260254,
          -10.010793685913086,
          -15.343927383422852,
          42.54330825805664,
          11.897177696228027,
          -18.074880599975586,
          8.487149238586426,
          34.06960678100586,
          -20.608518600463867,
          16.141815185546875,
          -14.071915626525879,
          13.841797828674316,
          -14.827241897583008,
          9.42485523223877,
          -10.25808334350586,
          21.414932250976562,
          -19.396352767944336,
          -9.797700881958008,
          -10.10158634185791,
          6.248147487640381,
          -14.316362380981445,
          -11.470401763916016,
          -11.966448783874512,
          2.515899658203125,
          -6.579399585723877,
          10.342887878417969,
          -17.54300308227539,
          19.555667877197266,
          -16.195932388305664,
          -18.625049591064453,
          -3.209984302520752,
          -15.339863777160645,
          -15.713305473327637,
          -0.5675706267356873,
          -9.020488739013672,
          35.293540954589844,
          23.877456665039062,
          39.206974029541016,
          34.027557373046875,
          12.421878814697266,
          15.525741577148438,
          -6.4135003089904785,
          -47.93900680541992,
          36.74159240722656,
          23.412460327148438,
          8.676583290100098,
          -0.08576452732086182,
          37.379425048828125,
          -7.661635398864746,
          -50.23541259765625,
          -8.310054779052734,
          -47.4671745300293,
          -20.936927795410156,
          -20.7197322845459,
          15.18174934387207,
          33.493892669677734,
          17.17485809326172,
          30.409975051879883,
          -8.738877296447754,
          -9.545608520507812,
          -10.387619972229004,
          10.606807708740234,
          -47.772212982177734,
          35.114505767822266,
          13.197890281677246,
          -6.637451648712158,
          -10.362106323242188,
          -10.100799560546875,
          -44.948856353759766,
          -14.875876426696777,
          -14.797616004943848,
          -15.715770721435547,
          -8.069969177246094,
          37.83620071411133,
          19.20131492614746,
          -49.96279525756836,
          20.77853775024414
         ],
         "yaxis": "y"
        }
       ],
       "layout": {
        "coloraxis": {
         "colorbar": {
          "title": {
           "text": "cluster"
          }
         },
         "colorscale": [
          [
           0,
           "#0d0887"
          ],
          [
           0.1111111111111111,
           "#46039f"
          ],
          [
           0.2222222222222222,
           "#7201a8"
          ],
          [
           0.3333333333333333,
           "#9c179e"
          ],
          [
           0.4444444444444444,
           "#bd3786"
          ],
          [
           0.5555555555555556,
           "#d8576b"
          ],
          [
           0.6666666666666666,
           "#ed7953"
          ],
          [
           0.7777777777777778,
           "#fb9f3a"
          ],
          [
           0.8888888888888888,
           "#fdca26"
          ],
          [
           1,
           "#f0f921"
          ]
         ]
        },
        "legend": {
         "tracegroupgap": 0
        },
        "margin": {
         "t": 60
        },
        "template": {
         "data": {
          "bar": [
           {
            "error_x": {
             "color": "#2a3f5f"
            },
            "error_y": {
             "color": "#2a3f5f"
            },
            "marker": {
             "line": {
              "color": "#E5ECF6",
              "width": 0.5
             },
             "pattern": {
              "fillmode": "overlay",
              "size": 10,
              "solidity": 0.2
             }
            },
            "type": "bar"
           }
          ],
          "barpolar": [
           {
            "marker": {
             "line": {
              "color": "#E5ECF6",
              "width": 0.5
             },
             "pattern": {
              "fillmode": "overlay",
              "size": 10,
              "solidity": 0.2
             }
            },
            "type": "barpolar"
           }
          ],
          "carpet": [
           {
            "aaxis": {
             "endlinecolor": "#2a3f5f",
             "gridcolor": "white",
             "linecolor": "white",
             "minorgridcolor": "white",
             "startlinecolor": "#2a3f5f"
            },
            "baxis": {
             "endlinecolor": "#2a3f5f",
             "gridcolor": "white",
             "linecolor": "white",
             "minorgridcolor": "white",
             "startlinecolor": "#2a3f5f"
            },
            "type": "carpet"
           }
          ],
          "choropleth": [
           {
            "colorbar": {
             "outlinewidth": 0,
             "ticks": ""
            },
            "type": "choropleth"
           }
          ],
          "contour": [
           {
            "colorbar": {
             "outlinewidth": 0,
             "ticks": ""
            },
            "colorscale": [
             [
              0,
              "#0d0887"
             ],
             [
              0.1111111111111111,
              "#46039f"
             ],
             [
              0.2222222222222222,
              "#7201a8"
             ],
             [
              0.3333333333333333,
              "#9c179e"
             ],
             [
              0.4444444444444444,
              "#bd3786"
             ],
             [
              0.5555555555555556,
              "#d8576b"
             ],
             [
              0.6666666666666666,
              "#ed7953"
             ],
             [
              0.7777777777777778,
              "#fb9f3a"
             ],
             [
              0.8888888888888888,
              "#fdca26"
             ],
             [
              1,
              "#f0f921"
             ]
            ],
            "type": "contour"
           }
          ],
          "contourcarpet": [
           {
            "colorbar": {
             "outlinewidth": 0,
             "ticks": ""
            },
            "type": "contourcarpet"
           }
          ],
          "heatmap": [
           {
            "colorbar": {
             "outlinewidth": 0,
             "ticks": ""
            },
            "colorscale": [
             [
              0,
              "#0d0887"
             ],
             [
              0.1111111111111111,
              "#46039f"
             ],
             [
              0.2222222222222222,
              "#7201a8"
             ],
             [
              0.3333333333333333,
              "#9c179e"
             ],
             [
              0.4444444444444444,
              "#bd3786"
             ],
             [
              0.5555555555555556,
              "#d8576b"
             ],
             [
              0.6666666666666666,
              "#ed7953"
             ],
             [
              0.7777777777777778,
              "#fb9f3a"
             ],
             [
              0.8888888888888888,
              "#fdca26"
             ],
             [
              1,
              "#f0f921"
             ]
            ],
            "type": "heatmap"
           }
          ],
          "heatmapgl": [
           {
            "colorbar": {
             "outlinewidth": 0,
             "ticks": ""
            },
            "colorscale": [
             [
              0,
              "#0d0887"
             ],
             [
              0.1111111111111111,
              "#46039f"
             ],
             [
              0.2222222222222222,
              "#7201a8"
             ],
             [
              0.3333333333333333,
              "#9c179e"
             ],
             [
              0.4444444444444444,
              "#bd3786"
             ],
             [
              0.5555555555555556,
              "#d8576b"
             ],
             [
              0.6666666666666666,
              "#ed7953"
             ],
             [
              0.7777777777777778,
              "#fb9f3a"
             ],
             [
              0.8888888888888888,
              "#fdca26"
             ],
             [
              1,
              "#f0f921"
             ]
            ],
            "type": "heatmapgl"
           }
          ],
          "histogram": [
           {
            "marker": {
             "pattern": {
              "fillmode": "overlay",
              "size": 10,
              "solidity": 0.2
             }
            },
            "type": "histogram"
           }
          ],
          "histogram2d": [
           {
            "colorbar": {
             "outlinewidth": 0,
             "ticks": ""
            },
            "colorscale": [
             [
              0,
              "#0d0887"
             ],
             [
              0.1111111111111111,
              "#46039f"
             ],
             [
              0.2222222222222222,
              "#7201a8"
             ],
             [
              0.3333333333333333,
              "#9c179e"
             ],
             [
              0.4444444444444444,
              "#bd3786"
             ],
             [
              0.5555555555555556,
              "#d8576b"
             ],
             [
              0.6666666666666666,
              "#ed7953"
             ],
             [
              0.7777777777777778,
              "#fb9f3a"
             ],
             [
              0.8888888888888888,
              "#fdca26"
             ],
             [
              1,
              "#f0f921"
             ]
            ],
            "type": "histogram2d"
           }
          ],
          "histogram2dcontour": [
           {
            "colorbar": {
             "outlinewidth": 0,
             "ticks": ""
            },
            "colorscale": [
             [
              0,
              "#0d0887"
             ],
             [
              0.1111111111111111,
              "#46039f"
             ],
             [
              0.2222222222222222,
              "#7201a8"
             ],
             [
              0.3333333333333333,
              "#9c179e"
             ],
             [
              0.4444444444444444,
              "#bd3786"
             ],
             [
              0.5555555555555556,
              "#d8576b"
             ],
             [
              0.6666666666666666,
              "#ed7953"
             ],
             [
              0.7777777777777778,
              "#fb9f3a"
             ],
             [
              0.8888888888888888,
              "#fdca26"
             ],
             [
              1,
              "#f0f921"
             ]
            ],
            "type": "histogram2dcontour"
           }
          ],
          "mesh3d": [
           {
            "colorbar": {
             "outlinewidth": 0,
             "ticks": ""
            },
            "type": "mesh3d"
           }
          ],
          "parcoords": [
           {
            "line": {
             "colorbar": {
              "outlinewidth": 0,
              "ticks": ""
             }
            },
            "type": "parcoords"
           }
          ],
          "pie": [
           {
            "automargin": true,
            "type": "pie"
           }
          ],
          "scatter": [
           {
            "marker": {
             "colorbar": {
              "outlinewidth": 0,
              "ticks": ""
             }
            },
            "type": "scatter"
           }
          ],
          "scatter3d": [
           {
            "line": {
             "colorbar": {
              "outlinewidth": 0,
              "ticks": ""
             }
            },
            "marker": {
             "colorbar": {
              "outlinewidth": 0,
              "ticks": ""
             }
            },
            "type": "scatter3d"
           }
          ],
          "scattercarpet": [
           {
            "marker": {
             "colorbar": {
              "outlinewidth": 0,
              "ticks": ""
             }
            },
            "type": "scattercarpet"
           }
          ],
          "scattergeo": [
           {
            "marker": {
             "colorbar": {
              "outlinewidth": 0,
              "ticks": ""
             }
            },
            "type": "scattergeo"
           }
          ],
          "scattergl": [
           {
            "marker": {
             "colorbar": {
              "outlinewidth": 0,
              "ticks": ""
             }
            },
            "type": "scattergl"
           }
          ],
          "scattermapbox": [
           {
            "marker": {
             "colorbar": {
              "outlinewidth": 0,
              "ticks": ""
             }
            },
            "type": "scattermapbox"
           }
          ],
          "scatterpolar": [
           {
            "marker": {
             "colorbar": {
              "outlinewidth": 0,
              "ticks": ""
             }
            },
            "type": "scatterpolar"
           }
          ],
          "scatterpolargl": [
           {
            "marker": {
             "colorbar": {
              "outlinewidth": 0,
              "ticks": ""
             }
            },
            "type": "scatterpolargl"
           }
          ],
          "scatterternary": [
           {
            "marker": {
             "colorbar": {
              "outlinewidth": 0,
              "ticks": ""
             }
            },
            "type": "scatterternary"
           }
          ],
          "surface": [
           {
            "colorbar": {
             "outlinewidth": 0,
             "ticks": ""
            },
            "colorscale": [
             [
              0,
              "#0d0887"
             ],
             [
              0.1111111111111111,
              "#46039f"
             ],
             [
              0.2222222222222222,
              "#7201a8"
             ],
             [
              0.3333333333333333,
              "#9c179e"
             ],
             [
              0.4444444444444444,
              "#bd3786"
             ],
             [
              0.5555555555555556,
              "#d8576b"
             ],
             [
              0.6666666666666666,
              "#ed7953"
             ],
             [
              0.7777777777777778,
              "#fb9f3a"
             ],
             [
              0.8888888888888888,
              "#fdca26"
             ],
             [
              1,
              "#f0f921"
             ]
            ],
            "type": "surface"
           }
          ],
          "table": [
           {
            "cells": {
             "fill": {
              "color": "#EBF0F8"
             },
             "line": {
              "color": "white"
             }
            },
            "header": {
             "fill": {
              "color": "#C8D4E3"
             },
             "line": {
              "color": "white"
             }
            },
            "type": "table"
           }
          ]
         },
         "layout": {
          "annotationdefaults": {
           "arrowcolor": "#2a3f5f",
           "arrowhead": 0,
           "arrowwidth": 1
          },
          "autotypenumbers": "strict",
          "coloraxis": {
           "colorbar": {
            "outlinewidth": 0,
            "ticks": ""
           }
          },
          "colorscale": {
           "diverging": [
            [
             0,
             "#8e0152"
            ],
            [
             0.1,
             "#c51b7d"
            ],
            [
             0.2,
             "#de77ae"
            ],
            [
             0.3,
             "#f1b6da"
            ],
            [
             0.4,
             "#fde0ef"
            ],
            [
             0.5,
             "#f7f7f7"
            ],
            [
             0.6,
             "#e6f5d0"
            ],
            [
             0.7,
             "#b8e186"
            ],
            [
             0.8,
             "#7fbc41"
            ],
            [
             0.9,
             "#4d9221"
            ],
            [
             1,
             "#276419"
            ]
           ],
           "sequential": [
            [
             0,
             "#0d0887"
            ],
            [
             0.1111111111111111,
             "#46039f"
            ],
            [
             0.2222222222222222,
             "#7201a8"
            ],
            [
             0.3333333333333333,
             "#9c179e"
            ],
            [
             0.4444444444444444,
             "#bd3786"
            ],
            [
             0.5555555555555556,
             "#d8576b"
            ],
            [
             0.6666666666666666,
             "#ed7953"
            ],
            [
             0.7777777777777778,
             "#fb9f3a"
            ],
            [
             0.8888888888888888,
             "#fdca26"
            ],
            [
             1,
             "#f0f921"
            ]
           ],
           "sequentialminus": [
            [
             0,
             "#0d0887"
            ],
            [
             0.1111111111111111,
             "#46039f"
            ],
            [
             0.2222222222222222,
             "#7201a8"
            ],
            [
             0.3333333333333333,
             "#9c179e"
            ],
            [
             0.4444444444444444,
             "#bd3786"
            ],
            [
             0.5555555555555556,
             "#d8576b"
            ],
            [
             0.6666666666666666,
             "#ed7953"
            ],
            [
             0.7777777777777778,
             "#fb9f3a"
            ],
            [
             0.8888888888888888,
             "#fdca26"
            ],
            [
             1,
             "#f0f921"
            ]
           ]
          },
          "colorway": [
           "#636efa",
           "#EF553B",
           "#00cc96",
           "#ab63fa",
           "#FFA15A",
           "#19d3f3",
           "#FF6692",
           "#B6E880",
           "#FF97FF",
           "#FECB52"
          ],
          "font": {
           "color": "#2a3f5f"
          },
          "geo": {
           "bgcolor": "white",
           "lakecolor": "white",
           "landcolor": "#E5ECF6",
           "showlakes": true,
           "showland": true,
           "subunitcolor": "white"
          },
          "hoverlabel": {
           "align": "left"
          },
          "hovermode": "closest",
          "mapbox": {
           "style": "light"
          },
          "paper_bgcolor": "white",
          "plot_bgcolor": "#E5ECF6",
          "polar": {
           "angularaxis": {
            "gridcolor": "white",
            "linecolor": "white",
            "ticks": ""
           },
           "bgcolor": "#E5ECF6",
           "radialaxis": {
            "gridcolor": "white",
            "linecolor": "white",
            "ticks": ""
           }
          },
          "scene": {
           "xaxis": {
            "backgroundcolor": "#E5ECF6",
            "gridcolor": "white",
            "gridwidth": 2,
            "linecolor": "white",
            "showbackground": true,
            "ticks": "",
            "zerolinecolor": "white"
           },
           "yaxis": {
            "backgroundcolor": "#E5ECF6",
            "gridcolor": "white",
            "gridwidth": 2,
            "linecolor": "white",
            "showbackground": true,
            "ticks": "",
            "zerolinecolor": "white"
           },
           "zaxis": {
            "backgroundcolor": "#E5ECF6",
            "gridcolor": "white",
            "gridwidth": 2,
            "linecolor": "white",
            "showbackground": true,
            "ticks": "",
            "zerolinecolor": "white"
           }
          },
          "shapedefaults": {
           "line": {
            "color": "#2a3f5f"
           }
          },
          "ternary": {
           "aaxis": {
            "gridcolor": "white",
            "linecolor": "white",
            "ticks": ""
           },
           "baxis": {
            "gridcolor": "white",
            "linecolor": "white",
            "ticks": ""
           },
           "bgcolor": "#E5ECF6",
           "caxis": {
            "gridcolor": "white",
            "linecolor": "white",
            "ticks": ""
           }
          },
          "title": {
           "x": 0.05
          },
          "xaxis": {
           "automargin": true,
           "gridcolor": "white",
           "linecolor": "white",
           "ticks": "",
           "title": {
            "standoff": 15
           },
           "zerolinecolor": "white",
           "zerolinewidth": 2
          },
          "yaxis": {
           "automargin": true,
           "gridcolor": "white",
           "linecolor": "white",
           "ticks": "",
           "title": {
            "standoff": 15
           },
           "zerolinecolor": "white",
           "zerolinewidth": 2
          }
         }
        },
        "xaxis": {
         "anchor": "y",
         "domain": [
          0,
          1
         ],
         "title": {
          "text": "x"
         }
        },
        "yaxis": {
         "anchor": "x",
         "domain": [
          0,
          1
         ],
         "title": {
          "text": "y"
         }
        }
       }
      },
      "text/html": [
       "<div>                            <div id=\"3b21b028-ae98-4f4c-b478-450f51ba6a30\" class=\"plotly-graph-div\" style=\"height:525px; width:100%;\"></div>            <script type=\"text/javascript\">                require([\"plotly\"], function(Plotly) {                    window.PLOTLYENV=window.PLOTLYENV || {};                                    if (document.getElementById(\"3b21b028-ae98-4f4c-b478-450f51ba6a30\")) {                    Plotly.newPlot(                        \"3b21b028-ae98-4f4c-b478-450f51ba6a30\",                        [{\"customdata\":[[\"['classic rock']\"],[\"['grunge']\"],[\"['beatlesque']\"],[\"['baroque pop']\"],[\"['classic rock']\"],[\"['classic soul']\"],[\"['adult standards']\"],[\"['classic soul']\"],[\"['classic soul']\"],[\"['british invasion']\"],[\"['pop']\"],[\"['rock-and-roll']\"],[\"['classic rock']\"],[\"['album rock']\"],[\"['alternative rock']\"],[\"['baroque pop']\"],[\"['classic soul']\"],[\"['atl hip hop']\"],[\"['punk']\"],[\"['dance pop']\"],[\"['classic rock']\"],[\"['british invasion']\"],[\"['beatlesque']\"],[\"['rock-and-roll']\"],[\"['album rock']\"],[\"['bronx hip hop']\"],[\"['adult standards']\"],[\"['album rock']\"],[\"['adult standards']\"],[\"['art rock']\"],[\"['funk']\"],[\"['adult standards']\"],[\"['alternative rock']\"],[\"['british invasion']\"],[\"['adult standards']\"],[\"['album rock']\"],[\"['dance pop']\"],[\"['alternative rock']\"],[\"['alternative rock']\"],[\"['punk']\"],[\"['classic rock']\"],[\"['alternative rock']\"],[\"['acid rock']\"],[\"['classic garage rock']\"],[\"['adult standards']\"],[\"['atl hip hop']\"],[\"['adult standards']\"],[\"['beatlesque']\"],[\"['album rock']\"],[\"['alternative rock']\"],[\"['dance pop']\"],[\"['rock-and-roll']\"],[\"['acid rock']\"],[\"['dance pop']\"],[\"['madchester']\"],[\"['art rock']\"],[\"['adult standards']\"],[\"['art rock']\"],[\"['alternative rock']\"],[\"['adult standards']\"],[\"['album rock']\"],[\"['classic soul']\"],[\"['downtempo']\"],[\"['alternative rock']\"],[\"['conscious hip hop']\"],[\"['art punk']\"],[\"['alternative rock']\"],[\"['album rock']\"],[\"['conscious hip hop']\"],[\"['album rock']\"],[\"['art rock']\"],[\"['album rock']\"],[\"['east coast hip hop']\"],[\"['art pop']\"],[\"['dance pop']\"],[\"['classic soul']\"],[\"['british invasion']\"],[\"['alternative dance']\"],[\"['bubblegum pop']\"],[\"['classic rock']\"],[\"['classic girl group']\"],[\"['rock-and-roll']\"],[\"['art pop']\"],[\"['beatlesque']\"],[\"['acid rock']\"],[\"['lilith']\"],[\"['madchester']\"],[\"['glam metal']\"],[\"['blues rock']\"],[\"['album rock']\"],[\"['chicago rap']\"],[\"['punk']\"],[\"['art pop']\"],[\"['electro']\"],[\"['rock-and-roll']\"],[\"['art rock']\"],[\"['adult standards']\"],[\"['rock-and-roll']\"],[\"['funk']\"],[\"['beatlesque']\"],[\"['alternative rock']\"],[\"['piano rock']\"],[\"['classic rock']\"],[\"['irish rock']\"],[\"['alternative rock']\"],[\"['classic soul']\"],[\"['beatlesque']\"],[\"['europop']\"],[\"['adult standards']\"],[\"['madchester']\"],[\"['rock-and-roll']\"],[\"['disco']\"],[\"['hip hop']\"],[\"['classic soul']\"],[\"['british invasion']\"],[\"['art pop']\"],[\"['british soul']\"],[\"['east coast hip hop']\"],[\"['classic rock']\"],[\"['classic rock']\"],[\"['funk']\"],[\"['classic rock']\"],[\"['reggae']\"],[\"['classic rock']\"],[\"['album rock']\"],[\"['classic rock']\"],[\"['album rock']\"],[\"['french shoegaze']\"],[\"['alternative dance']\"],[\"['honky tonk']\"],[\"['art rock']\"],[\"['alternative dance']\"],[\"['piano rock']\"],[\"['classic soul']\"],[\"['alternative dance']\"],[\"['barbadian pop']\"],[\"['beatlesque']\"],[\"['disco']\"],[\"['classic rock']\"],[\"['mellow gold']\"],[\"['adult standards']\"],[\"['alternative dance']\"],[\"['alternative rock']\"],[\"['rock-and-roll']\"],[\"['album rock']\"],[\"['candy pop']\"],[\"['album rock']\"],[\"['east coast hip hop']\"],[\"['dance pop']\"],[\"['alternative rock']\"],[\"['canadian hip hop']\"],[\"['beatlesque']\"],[\"['alternative dance']\"],[\"['soul']\"],[\"['british invasion']\"],[\"['']\"],[\"['beatlesque']\"],[\"['american folk revival']\"],[\"['adult standards']\"],[\"['rock-and-roll']\"],[\"['east coast hip hop']\"],[\"['garage rock']\"],[\"['dance pop']\"],[\"['dance pop']\"],[\"['australian psych']\"],[\"['afrofuturism']\"],[\"['alternative rock']\"],[\"['funk']\"],[\"['art pop']\"],[\"['classic rock']\"],[\"['alternative dance']\"],[\"['g funk']\"],[\"['adult standards']\"],[\"['acid rock']\"],[\"['funk']\"],[\"['irish rock']\"],[\"['art punk']\"],[\"['new romantic']\"],[\"['funk']\"],[\"['classic rock']\"],[\"['australian dance']\"],[\"['british invasion']\"],[\"['brooklyn indie']\"],[\"['dusseldorf electronic']\"],[\"['alternative rock']\"],[\"['beatlesque']\"],[\"['album rock']\"],[\"['britpop']\"],[\"['beatlesque']\"],[\"['alternative dance']\"],[\"['alternative rock']\"],[\"['disco']\"],[\"['album rock']\"],[\"['beatlesque']\"],[\"['arkansas country']\"],[\"['atl hip hop']\"],[\"['adult standards']\"],[\"['arkansas country']\"],[\"['funk']\"],[\"['art pop']\"],[\"['mod revival']\"],[\"['atl hip hop']\"],[\"['classic rock']\"],[\"['arkansas country']\"],[\"['classic rock']\"],[\"['adult standards']\"],[\"['bronx hip hop']\"],[\"['adult standards']\"],[\"['blues']\"],[\"['classic rock']\"],[\"['alternative rock']\"],[\"['chicago soul']\"],[\"['art rock']\"],[\"['adult standards']\"],[\"['album rock']\"],[\"['album rock']\"],[\"['afrofuturism']\"],[\"['classic rock']\"],[\"['album rock']\"],[\"['beatlesque']\"],[\"['album rock']\"],[\"['dance pop']\"],[\"['boston rock']\"],[\"['art rock']\"],[\"['dance pop']\"],[\"['art rock']\"],[\"['pop']\"],[\"['beatlesque']\"],[\"['rock-and-roll']\"],[\"['classic soul']\"],[\"['british soul']\"],[\"['adult standards']\"],[\"['british blues']\"],[\"['classic soul']\"],[\"['alternative rock']\"],[\"['alternative metal']\"],[\"['bossa nova']\"],[\"['adult standards']\"],[\"['british invasion']\"],[\"['art rock']\"],[\"['classic soul']\"],[\"['adult standards']\"],[\"['funk']\"],[\"['alternative rock']\"],[\"['album rock']\"],[\"['alternative rock']\"],[\"['beatlesque']\"],[\"['alternative rock']\"],[\"['classic rock']\"],[\"['irish rock']\"],[\"['rock-and-roll']\"],[\"['brill building pop']\"],[\"['classic soul']\"],[\"['adult standards']\"],[\"['alternative dance']\"],[\"['art rock']\"],[\"['dusseldorf electronic']\"],[\"['baroque pop']\"],[\"['baroque pop']\"],[\"['alternative rock']\"],[\"['alternative rock']\"],[\"['doo-wop']\"],[\"['art pop']\"],[\"['pop']\"],[\"['album rock']\"],[\"['alternative rock']\"],[\"['acid rock']\"],[\"['electro']\"],[\"['art pop']\"],[\"['alternative dance']\"],[\"['album rock']\"],[\"['album rock']\"],[\"['detroit hip hop']\"],[\"['alternative r&b']\"],[\"['big beat']\"],[\"['classic garage rock']\"],[\"['album rock']\"],[\"['alternative dance']\"],[\"['alternative rock']\"],[\"['adult standards']\"],[\"['alternative pop']\"],[\"['atl hip hop']\"],[\"['hip hop']\"],[\"['reggae']\"],[\"['chicago rap']\"],[\"['ska']\"],[\"['beatlesque']\"],[\"['arkansas country']\"],[\"['classic soul']\"],[\"['acoustic blues']\"],[\"['australian rock']\"],[\"['acid rock']\"],[\"['electro']\"],[\"['classic soul']\"],[\"['album rock']\"],[\"['blues']\"],[\"['blues']\"],[\"['chicago rap']\"],[\"['canadian singer-songwriter']\"],[\"['adult standards']\"],[\"['ambient']\"],[\"['alternative dance']\"],[\"['album rock']\"],[\"['classic girl group']\"],[\"['chanson']\"],[\"['alternative rock']\"],[\"['hard rock']\"],[\"['chanson']\"],[\"['alternative rock']\"],[\"['bubblegum pop']\"],[\"['detroit hip hop']\"],[\"['alternative rock']\"],[\"['conscious hip hop']\"],[\"['album rock']\"],[\"['classic girl group']\"],[\"['alternative rock']\"],[\"['adult standards']\"],[\"['baroque pop']\"],[\"['cosmic american']\"],[\"['blues rock']\"],[\"['art punk']\"],[\"['australian rock']\"],[\"['british invasion']\"],[\"['art rock']\"],[\"['alternative dance']\"],[\"['alternative metal']\"],[\"['adult standards']\"],[\"['new wave']\"],[\"['art rock']\"],[\"['alternative dance']\"],[\"['art pop']\"],[\"['album rock']\"],[\"['album rock']\"],[\"['hip house']\"],[\"['alternative rock']\"],[\"['adult standards']\"],[\"['british invasion']\"],[\"['chicago soul']\"],[\"['afrofuturism']\"],[\"['classic soul']\"],[\"['album rock']\"],[\"['dance pop']\"],[\"['classic rock']\"],[\"['canadian singer-songwriter']\"],[\"['conscious hip hop']\"],[\"['art rock']\"],[\"['conscious hip hop']\"],[\"['classic soul']\"],[\"['hot jazz']\"],[\"['album rock']\"],[\"['baroque pop']\"],[\"['album rock']\"],[\"['beatlesque']\"],[\"['alternative rock']\"],[\"['electro']\"],[\"['album rock']\"],[\"['adult standards']\"],[\"['alternative rock']\"],[\"['acid rock']\"],[\"['alternative rock']\"],[\"['bebop']\"],[\"['album rock']\"],[\"['alternative dance']\"],[\"['alternative rock']\"],[\"['classic dubstep']\"],[\"['beatlesque']\"],[\"['album rock']\"],[\"['alternative rock']\"],[\"['adult standards']\"],[\"['art pop']\"],[\"['rock-and-roll']\"],[\"['baroque pop']\"],[\"['blues']\"],[\"['classic rock']\"],[\"['album rock']\"],[\"['big band']\"],[\"['barbadian pop']\"],[\"['canadian pop']\"],[\"['art rock']\"],[\"['adult standards']\"],[\"['alternative rock']\"],[\"['classic soul']\"],[\"['alternative metal']\"],[\"['alternative rock']\"],[\"['acid rock']\"],[\"['glam metal']\"],[\"['alternative rock']\"],[\"['mod revival']\"],[\"['bebop']\"],[\"['rock-and-roll']\"],[\"['blues']\"],[\"['blues']\"],[\"['beatlesque']\"],[\"['hip house']\"],[\"['album rock']\"],[\"['funk']\"],[\"['dark pop']\"],[\"['adult standards']\"],[\"['funk']\"],[\"['dance pop']\"],[\"['classic country pop']\"],[\"['acoustic punk']\"],[\"['classic rock']\"],[\"['album rock']\"],[\"['early us punk']\"],[\"['british invasion']\"],[\"['beatlesque']\"],[\"['new wave pop']\"],[\"['beatlesque']\"],[\"['disco']\"],[\"['album rock']\"],[\"['album rock']\"],[\"['bebop']\"],[\"['alternative rock']\"],[\"['classic rock']\"],[\"['doo-wop']\"],[\"['irish rock']\"],[\"['bubblegum pop']\"],[\"['detroit hip hop']\"],[\"['adult standards']\"],[\"['alternative dance']\"],[\"['alternative rock']\"],[\"['alternative rock']\"],[\"['classic rock']\"],[\"['classic soul']\"],[\"['australian indie']\"],[\"['conscious hip hop']\"],[\"['classic rock']\"],[\"['acid rock']\"],[\"['blues']\"],[\"['brill building pop']\"],[\"['baroque pop']\"],[\"['alternative hip hop']\"],[\"['indie pop']\"],[\"['adult standards']\"],[\"['art pop']\"],[\"['mod revival']\"],[\"['classic rock']\"],[\"['acid rock']\"],[\"['classic soul']\"],[\"['electronica']\"],[\"['art punk']\"],[\"['atl hip hop']\"],[\"['acid rock']\"],[\"['adult standards']\"],[\"['new romantic']\"],[\"['album rock']\"],[\"['classic rock']\"],[\"['hip hop']\"],[\"['baroque pop']\"],[\"['dance rock']\"],[\"['albuquerque indie']\"],[\"['chicago rap']\"],[\"['baroque pop']\"],[\"['alternative rock']\"],[\"['']\"],[\"['new wave']\"],[\"['british invasion']\"],[\"['doo-wop']\"],[\"['canadian pop']\"],[\"['alternative rock']\"],[\"['grunge']\"],[\"['beatlesque']\"],[\"['eau claire indie']\"],[\"['blues rock']\"],[\"['']\"],[\"['alternative pop']\"],[\"['art pop']\"],[\"['glam rock']\"],[\"['art rock']\"],[\"['afrofuturism']\"],[\"['downtempo']\"],[\"['bubblegum pop']\"],[\"['dance pop']\"],[\"['afrobeat']\"],[\"['alternative rock']\"],[\"['grunge']\"],[\"['alternative rock']\"],[\"['alternative dance']\"],[\"['alternative rock']\"],[\"['adult standards']\"],[\"['funk']\"],[\"['conscious hip hop']\"],[\"['art rock']\"],[\"['alternative hip hop']\"],[\"['alternative pop']\"],[\"['adult standards']\"],[\"['permanent wave']\"],[\"['blues']\"],[\"['hip hop']\"],[\"['mod revival']\"],[\"['glam punk']\"],[\"['classic soul']\"],[\"['art rock']\"],[\"['dance pop']\"],[\"['alternative rock']\"],[\"['alternative rock']\"],[\"['folk rock']\"],[\"['classic rock']\"],[\"['alternative metal']\"],[\"['classic girl group']\"],[\"['art pop']\"],[\"['classic rock']\"],[\"['alternative rock']\"],[\"['classic soul']\"],[\"['dusseldorf electronic']\"],[\"['classic rock']\"],[\"['blues']\"],[\"['alternative hip hop']\"],[\"['alternative metal']\"],[\"['funk']\"],[\"['dance pop']\"],[\"['art rock']\"],[\"['cool jazz']\"],[\"['art pop']\"],[\"['new wave pop']\"],[\"['barbadian pop']\"],[\"['conscious hip hop']\"],[\"['album rock']\"],[\"['adult standards']\"],[\"['alternative rock']\"],[\"['alternative metal']\"],[\"['adult standards']\"],[\"['garage rock']\"],[\"['alternative dance']\"],[\"['beatlesque']\"],[\"['dance pop']\"],[\"['rock-and-roll']\"],[\"['blues']\"],[\"['classic soul']\"],[\"['indie rock']\"],[\"['album rock']\"],[\"['art rock']\"],[\"['dark pop']\"],[\"['permanent wave']\"],[\"['beatlesque']\"],[\"['canadian singer-songwriter']\"],[\"['canadian singer-songwriter']\"],[\"['reggae']\"],[\"['alternative rock']\"],[\"['east coast hip hop']\"],[\"['dub']\"],[\"['belgian singer-songwriter']\"],[\"['adult standards']\"],[\"['big beat']\"],[\"['classic rock']\"],[\"['alternative dance']\"],[\"['mellow gold']\"],[\"['alternative americana']\"],[\"['alternative rock']\"],[\"['classic soul']\"],[\"['acid rock']\"],[\"['album rock']\"],[\"['country']\"],[\"['adult standards']\"],[\"['adult standards']\"],[\"['art rock']\"],[\"['alternative rock']\"],[\"['dance pop']\"],[\"['adult standards']\"],[\"['dance pop']\"],[\"['album rock']\"],[\"['classic soul']\"],[\"['album rock']\"],[\"['eau claire indie']\"],[\"['alternative rock']\"],[\"['american folk revival']\"],[\"['dance pop']\"],[\"['alternative rock']\"],[\"['dance pop']\"],[\"['irish rock']\"],[\"['album rock']\"],[\"['lgbtq+ hip hop']\"],[\"['adult standards']\"],[\"['classic rock']\"],[\"['bubblegum pop']\"],[\"['album rock']\"],[\"['australian rock']\"],[\"['g funk']\"],[\"['classic rock']\"],[\"['reggae']\"],[\"['r&b en espanol']\"],[\"['classic rock']\"],[\"['classic soul']\"],[\"['blues']\"],[\"['atl hip hop']\"],[\"['new romantic']\"],[\"['chamber pop']\"],[\"['classic rock']\"],[\"['alternative dance']\"],[\"['art pop']\"],[\"['bedroom pop']\"],[\"['adult standards']\"],[\"['art rock']\"],[\"['doo-wop']\"],[\"['alternative dance']\"],[\"['celtic punk']\"],[\"['baroque pop']\"],[\"['alternative dance']\"],[\"['adult standards']\"],[\"['adult standards']\"],[\"['album rock']\"],[\"['bebop']\"],[\"['alternative dance']\"],[\"['classic rock']\"],[\"['downtempo']\"],[\"['alternative rock']\"],[\"['dance rock']\"],[\"['alternative pop']\"],[\"['irish rock']\"],[\"['british soul']\"],[\"['beatlesque']\"],[\"['adult standards']\"],[\"['afrofuturism']\"],[\"['bubblegum pop']\"],[\"['dance pop']\"],[\"['art rock']\"],[\"['gospel']\"],[\"['canadian indie']\"],[\"['adult standards']\"],[\"['alternative country']\"],[\"['adult standards']\"],[\"['britpop']\"],[\"['album rock']\"],[\"['alternative dance']\"],[\"['art rock']\"],[\"['australian dance']\"],[\"['electronica']\"],[\"['beatlesque']\"],[\"['alternative dance']\"],[\"['canadian singer-songwriter']\"],[\"['art rock']\"],[\"['britpop']\"],[\"['australian rock']\"],[\"['adult standards']\"],[\"['beatlesque']\"],[\"['british invasion']\"],[\"['adult standards']\"],[\"['alternative rock']\"],[\"['art rock']\"],[\"['folk']\"],[\"['album rock']\"],[\"['art rock']\"],[\"['blues']\"],[\"['afrofuturism']\"],[\"['art rock']\"],[\"['bluegrass']\"],[\"['canadian singer-songwriter']\"],[\"['blues rock']\"],[\"['dub']\"],[\"['canadian hip hop']\"],[\"['album rock']\"],[\"['alternative rock']\"],[\"['baroque pop']\"],[\"['bronx hip hop']\"],[\"['alternative dance']\"],[\"['dance pop']\"],[\"['electro']\"],[\"['early synthpop']\"],[\"['alternative r&b']\"],[\"['album rock']\"],[\"['album rock']\"],[\"['british invasion']\"],[\"['classic rock']\"],[\"['beatlesque']\"],[\"['art rock']\"],[\"['art pop']\"],[\"['art pop']\"],[\"['alternative hip hop']\"],[\"['punk']\"],[\"['alternative rock']\"],[\"['blues']\"],[\"['classic rock']\"],[\"['rock-and-roll']\"],[\"['classic girl group']\"],[\"['dance pop']\"],[\"['classic rock']\"],[\"['album rock']\"],[\"['art rock']\"],[\"['classic soul']\"],[\"['alternative rock']\"],[\"['early us punk']\"],[\"['classic rock']\"],[\"['irish rock']\"],[\"['dreamo']\"],[\"['grunge']\"],[\"['modern alternative rock']\"],[\"['art rock']\"],[\"['alternative rock']\"],[\"['art rock']\"],[\"['space age pop']\"],[\"['classic soul']\"],[\"['album rock']\"],[\"['bebop']\"],[\"['canadian pop']\"],[\"['australian psych']\"],[\"['dance pop']\"],[\"['adult standards']\"],[\"['british invasion']\"],[\"['classic soul']\"],[\"['blues']\"],[\"['alternative rock']\"],[\"['alternative r&b']\"],[\"['glam metal']\"],[\"['alternative rock']\"],[\"['grunge']\"],[\"['alternative rock']\"],[\"['east coast hip hop']\"],[\"['electro']\"],[\"['canadian singer-songwriter']\"],[\"['classic rock']\"],[\"['beatlesque']\"],[\"['dance pop']\"],[\"['funk']\"],[\"['g funk']\"],[\"['alternative dance']\"],[\"['alternative rock']\"],[\"['experimental rock']\"],[\"['album rock']\"],[\"['album rock']\"],[\"['alternative rock']\"],[\"['adult standards']\"],[\"['alternative dance']\"],[\"['classic girl group']\"],[\"['art rock']\"],[\"['adult standards']\"],[\"['contemporary r&b']\"],[\"['conscious hip hop']\"],[\"['classic rock']\"],[\"['conscious hip hop']\"],[\"['album rock']\"],[\"['alternative rock']\"],[\"['beatlesque']\"],[\"['bassline']\"],[\"['permanent wave']\"],[\"['british invasion']\"],[\"['classic soul']\"],[\"['album rock']\"],[\"['pub rock']\"],[\"['album rock']\"],[\"['bubblegum pop']\"],[\"['atl hip hop']\"],[\"['album rock']\"],[\"['album rock']\"],[\"['acid rock']\"],[\"['art rock']\"],[\"['alternative rock']\"],[\"['classic uk pop']\"],[\"['alternative rock']\"],[\"['alternative rock']\"],[\"['dance pop']\"],[\"['baroque pop']\"],[\"['classic rock']\"],[\"['baroque pop']\"],[\"['dub']\"],[\"['conscious hip hop']\"],[\"['pop']\"],[\"['acoustic blues']\"],[\"['african-american classical']\"],[\"['album rock']\"],[\"['folk rock']\"],[\"['art rock']\"],[\"['electronica']\"],[\"['classic soul']\"],[\"['classic rock']\"],[\"['album rock']\"],[\"['canadian singer-songwriter']\"],[\"['adult standards']\"],[\"['hip hop']\"],[\"['adult standards']\"],[\"['baroque pop']\"],[\"['art rock']\"],[\"['alternative rock']\"],[\"['canadian contemporary r&b']\"],[\"['early us punk']\"],[\"['album rock']\"],[\"['dance pop']\"],[\"['glam rock']\"],[\"['dance rock']\"],[\"['hip hop']\"],[\"['classic rock']\"],[\"['boy band']\"],[\"['alternative dance']\"],[\"['art rock']\"],[\"['classic rock']\"],[\"['hard rock']\"],[\"['chicago rap']\"],[\"['art pop']\"],[\"['bubblegum pop']\"],[\"['east coast hip hop']\"],[\"['disco']\"],[\"['alternative rock']\"],[\"['glam rock']\"],[\"['classic rock']\"],[\"['rock-and-roll']\"],[\"['art rock']\"],[\"['dance pop']\"],[\"['irish rock']\"],[\"['pop']\"],[\"['album rock']\"],[\"['new wave']\"],[\"['atl hip hop']\"],[\"['adult standards']\"],[\"['new wave']\"],[\"['dance pop']\"],[\"['alternative rock']\"],[\"['art pop']\"],[\"['canadian singer-songwriter']\"],[\"['art rock']\"],[\"['art pop']\"],[\"['reggae']\"],[\"['classic rock']\"],[\"['detroit hip hop']\"],[\"['baroque pop']\"],[\"['bubblegum pop']\"],[\"['beatlesque']\"],[\"['classic rock']\"],[\"['alternative rock']\"],[\"['british invasion']\"],[\"['permanent wave']\"],[\"['canadian singer-songwriter']\"],[\"['art rock']\"],[\"['candy pop']\"],[\"['adult standards']\"],[\"['alternative hip hop']\"],[\"['alternative rock']\"],[\"['beatlesque']\"],[\"['east coast hip hop']\"],[\"['bebop']\"],[\"['grunge']\"],[\"['disco']\"],[\"['dance pop']\"],[\"['modern rock']\"],[\"['conscious hip hop']\"],[\"['adult standards']\"],[\"['blues']\"],[\"['permanent wave']\"],[\"['classic rock']\"],[\"['alternative rock']\"],[\"['classic soul']\"],[\"['brooklyn indie']\"],[\"['album rock']\"],[\"['australian rock']\"],[\"['canadian indie']\"],[\"['dance pop']\"],[\"['classic rock']\"],[\"['pop']\"],[\"['motown']\"],[\"['classic rock']\"],[\"['east coast hip hop']\"],[\"['rock-and-roll']\"],[\"['funk']\"],[\"['pop rock']\"],[\"['atl hip hop']\"],[\"['alternative rock']\"],[\"['alternative rock']\"],[\"['new romantic']\"],[\"['alternative rock']\"],[\"['country']\"],[\"['beatlesque']\"],[\"['british folk']\"],[\"['harlem renaissance']\"],[\"['classic girl group']\"],[\"['adult standards']\"],[\"['classic uk pop']\"],[\"['classic soul']\"],[\"['alternative rock']\"],[\"['classic rock']\"],[\"['album rock']\"],[\"['classic rock']\"],[\"['dub']\"],[\"['dark pop']\"],[\"['blues']\"],[\"['dirty south rap']\"],[\"['electronica']\"],[\"['disney']\"],[\"['acid rock']\"],[\"['art rock']\"],[\"['indie rock']\"],[\"['adult standards']\"],[\"['alternative rock']\"],[\"['adult standards']\"],[\"['beatlesque']\"],[\"['classic soul']\"],[\"['alternative dance']\"],[\"['album rock']\"],[\"['permanent wave']\"],[\"['big beat']\"],[\"['new wave pop']\"],[\"['country']\"],[\"['classic soul']\"],[\"['jazz blues']\"],[\"['alternative rock']\"],[\"['rock-and-roll']\"],[\"['adult standards']\"],[\"['canadian singer-songwriter']\"],[\"['classic rock']\"],[\"['canadian singer-songwriter']\"],[\"['classic rock']\"],[\"['classic rock']\"],[\"['rap']\"],[\"['art rock']\"],[\"['east coast hip hop']\"],[\"['classic rock']\"],[\"['classic soul']\"],[\"['g funk']\"],[\"['alternative rock']\"],[\"['acoustic blues']\"],[\"['glam metal']\"],[\"['album rock']\"],[\"['british invasion']\"],[\"['dance pop']\"],[\"['alternative dance']\"],[\"['bossa nova']\"],[\"['adult standards']\"],[\"['electronica']\"],[\"['acid house']\"],[\"['british invasion']\"],[\"['alternative rock']\"],[\"['alternative rock']\"],[\"['britpop']\"],[\"['disco']\"],[\"['conscious hip hop']\"],[\"['beatlesque']\"],[\"['album rock']\"],[\"['album rock']\"],[\"['atl hip hop']\"],[\"['edm']\"],[\"['big beat']\"],[\"['ambient pop']\"],[\"['art rock']\"],[\"['classic soul']\"],[\"['alternative metal']\"],[\"['']\"],[\"['rock-and-roll']\"],[\"['adult standards']\"],[\"['adult standards']\"],[\"['alternative rock']\"],[\"['blues']\"],[\"['adult standards']\"],[\"['east coast hip hop']\"],[\"['dance pop']\"],[\"['classic rock']\"],[\"['alternative rock']\"],[\"['anti-folk']\"],[\"['art rock']\"],[\"['adult standards']\"],[\"['mod revival']\"],[\"['album rock']\"],[\"['album rock']\"],[\"['classic soul']\"],[\"['adult standards']\"],[\"['glam rock']\"],[\"['bronx hip hop']\"],[\"['classic rock']\"],[\"['alternative dance']\"],[\"['east coast hip hop']\"],[\"['adult standards']\"],[\"['alternative dance']\"],[\"['classic soul']\"],[\"['art rock']\"],[\"['classic rock']\"],[\"['alternative dance']\"],[\"['baroque pop']\"],[\"['motown']\"],[\"['dance pop']\"],[\"['dance pop']\"],[\"['adult standards']\"],[\"['british invasion']\"],[\"['candy pop']\"],[\"['east coast hip hop']\"],[\"['baroque pop']\"],[\"['beatlesque']\"],[\"['disco']\"],[\"['permanent wave']\"],[\"['lilith']\"],[\"['art rock']\"],[\"['bubblegum pop']\"],[\"['canadian singer-songwriter']\"],[\"['album rock']\"],[\"['disco']\"],[\"['europop']\"],[\"['classic girl group']\"],[\"['album rock']\"],[\"['album rock']\"],[\"['classic soul']\"],[\"['beatlesque']\"],[\"['acoustic blues']\"],[\"['album rock']\"],[\"['beatlesque']\"],[\"['adult standards']\"],[\"['album rock']\"],[\"['french jazz']\"],[\"['contemporary post-bop']\"],[\"['alternative rock']\"],[\"['album rock']\"],[\"['adult standards']\"],[\"['art punk']\"],[\"['bubblegum pop']\"],[\"['funk']\"],[\"['adult standards']\"],[\"['alternative rock']\"],[\"['album rock']\"],[\"['dance pop']\"],[\"['alternative rock']\"],[\"['acoustic blues']\"],[\"['atmospheric dnb']\"],[\"['canadian singer-songwriter']\"],[\"['east coast hip hop']\"],[\"['album rock']\"],[\"['adult standards']\"],[\"['adult standards']\"],[\"['disco']\"],[\"['alternative rock']\"],[\"['gangster rap']\"],[\"['adult standards']\"],[\"['']\"],[\"['alternative rock']\"],[\"['art pop']\"],[\"['']\"],[\"['album rock']\"],[\"['adult standards']\"],[\"['classic rock']\"],[\"['dance pop']\"],[\"['bubblegum pop']\"],[\"['art pop']\"],[\"['rock-and-roll']\"],[\"['dance pop']\"],[\"['adult standards']\"],[\"['honky tonk']\"],[\"['chicago rap']\"],[\"['adult standards']\"],[\"['dance pop']\"],[\"['album rock']\"],[\"['album rock']\"],[\"['british invasion']\"],[\"['alternative hip hop']\"],[\"['afrofuturism']\"],[\"['conscious hip hop']\"],[\"['classic rock']\"],[\"['alternative rock']\"],[\"['album rock']\"],[\"['chamber pop']\"],[\"['alternative rock']\"],[\"['blues rock']\"],[\"['britpop']\"],[\"['chicago soul']\"],[\"['classic rock']\"],[\"['mellow gold']\"],[\"['punk']\"],[\"['birmingham hip hop']\"],[\"['alternative dance']\"],[\"['album rock']\"],[\"['dance pop']\"],[\"['alternative hip hop']\"],[\"['alternative rock']\"],[\"['alternative pop']\"],[\"['big band']\"],[\"['art rock']\"],[\"['beatlesque']\"],[\"['classic country pop']\"],[\"['bassline']\"],[\"['afrobeat']\"],[\"['alternative rock']\"],[\"['african-american classical']\"],[\"['appalachian folk']\"],[\"['ambient house']\"],[\"['rhythm and blues']\"],[\"['chicago rap']\"],[\"['album rock']\"],[\"['acid rock']\"],[\"['acoustic blues']\"],[\"['art pop']\"],[\"['adult standards']\"],[\"['dark pop']\"],[\"['hip hop']\"],[\"['bebop']\"],[\"['chicago soul']\"],[\"['adult standards']\"],[\"['baroque pop']\"],[\"['indie punk']\"],[\"['bakersfield sound']\"],[\"['art pop']\"],[\"['classic soul']\"],[\"['']\"],[\"['bluegrass gospel']\"],[\"['adult standards']\"],[\"['surf music']\"],[\"['alternative pop']\"],[\"['disco']\"],[\"['harlem renaissance']\"],[\"['atl hip hop']\"],[\"['alternative dance']\"],[\"['album rock']\"],[\"['classic rock']\"],[\"['baroque pop']\"],[\"['uk alternative pop']\"],[\"['hot jazz']\"],[\"['ska']\"]],\"hovertemplate\":\"x=%{x}<br>y=%{y}<br>genres=%{customdata[0]}<br>cluster=%{marker.color}<extra></extra>\",\"legendgroup\":\"\",\"marker\":{\"color\":[9,5,1,4,3,0,8,5,4,6,0,2,5,5,8,9,9,6,1,5,6,3,4,3,7,0,3,9,7,1,0,6,5,4,7,3,0,4,6,8,4,6,8,0,6,0,9,5,4,1,0,3,8,6,8,4,9,9,5,6,5,1,5,6,4,0,1,8,0,8,2,4,5,1,0,2,5,0,9,5,5,3,4,3,8,1,8,5,0,4,1,6,9,0,4,4,0,3,6,5,1,3,3,4,6,2,7,5,6,0,3,0,1,3,5,7,5,0,9,6,3,7,6,6,3,3,7,1,0,2,1,1,3,3,1,5,5,6,8,3,3,5,4,3,1,0,3,0,9,8,6,1,8,9,6,7,1,2,3,3,5,5,0,0,8,9,0,1,9,5,8,6,2,9,0,5,0,9,0,3,0,3,4,1,5,2,6,0,5,6,0,6,1,4,7,0,2,3,0,9,5,0,9,2,5,3,6,2,6,3,1,7,8,3,1,6,1,6,5,4,6,6,5,0,1,4,0,7,3,3,6,4,8,9,8,6,2,2,3,4,0,9,3,5,3,1,5,5,9,4,4,7,4,3,0,6,0,5,4,5,6,3,9,0,7,5,7,8,1,6,8,5,1,6,1,8,1,8,0,4,5,0,9,7,6,6,4,4,0,2,5,8,0,4,3,3,2,3,7,3,0,4,8,3,7,1,5,4,4,6,6,8,6,1,3,5,6,1,5,5,8,5,3,8,0,5,3,5,0,0,1,6,5,0,8,7,7,0,7,6,1,0,5,3,0,6,0,9,2,1,8,1,5,4,0,3,7,8,8,8,2,8,5,6,3,5,6,8,7,5,3,4,2,3,1,2,4,8,2,9,4,9,8,4,4,1,6,5,7,3,3,2,4,6,5,0,4,3,6,4,0,6,4,5,5,7,4,6,3,0,4,6,4,8,3,7,8,8,6,3,1,1,0,6,2,5,0,0,9,2,3,7,0,1,9,2,8,5,8,9,4,8,0,8,9,3,5,6,6,5,4,2,9,7,1,0,8,5,7,8,8,1,6,7,9,0,1,1,7,4,0,2,0,0,6,6,5,7,8,8,4,2,6,5,6,5,3,8,2,9,6,0,4,2,9,5,4,9,0,1,6,4,9,5,8,0,6,2,0,5,9,0,8,9,5,4,6,8,5,9,1,8,0,4,5,5,0,3,3,6,5,4,7,6,8,1,4,7,2,5,0,6,7,3,1,9,5,2,1,1,9,5,7,2,6,9,1,8,8,3,4,9,0,4,7,5,2,0,1,8,5,6,0,6,5,3,0,5,0,4,3,0,0,0,4,0,0,3,5,6,0,0,9,8,2,2,9,1,1,7,7,5,7,8,3,9,9,4,7,1,6,4,3,0,0,0,0,2,1,7,9,7,6,0,8,7,8,9,5,6,5,6,1,5,6,4,5,7,8,6,9,7,0,8,6,7,3,7,5,6,4,4,0,5,6,5,4,8,8,4,9,5,0,2,4,5,0,6,6,8,8,3,4,3,6,8,9,3,3,2,5,5,6,5,1,1,8,8,5,5,3,2,5,9,6,5,6,4,3,0,6,8,6,5,0,4,5,0,0,5,8,1,6,6,6,0,5,0,9,5,4,2,0,3,5,2,6,6,5,0,9,1,4,6,9,7,7,9,6,5,3,4,8,5,9,7,7,9,5,0,0,3,7,7,0,3,0,2,4,0,7,6,0,5,4,5,2,8,9,7,4,1,7,6,1,9,0,4,0,0,9,6,6,5,3,5,1,4,5,0,6,0,4,9,7,6,0,5,0,8,4,9,3,6,6,5,4,2,5,4,6,5,6,9,8,3,9,4,1,8,7,9,8,0,0,5,1,9,7,5,0,6,8,4,3,2,8,6,4,0,5,8,4,4,6,2,6,6,9,0,5,0,6,1,1,1,5,5,7,5,2,2,6,7,3,4,9,9,5,9,6,1,3,0,4,7,5,4,5,7,8,2,5,3,5,5,9,5,0,9,6,3,4,6,3,3,9,9,7,5,0,1,6,9,0,1,0,2,1,1,3,0,5,2,9,2,6,6,9,4,1,9,0,4,8,5,4,5,5,8,5,2,7,2,7,9,7,3,2,3,0,8,6,8,3,4,7,5,5,8,9,3,4,6,5,1,6,6,1,2,7,7,5,3,3,0,0,6,6,0,0,0,7,6,9,6,7,9,3,4,6,5,3,5,5,6,4,7,9,5,2,6,2,6,4,1,3,0,8,6,6,6,5,8,1,3,1,5,9,5,3,3,6,5,6,3,3,6,1,3,1,7,9,0,9,4,3,0,3,2,0,3,0,3,0,5,0,6,9,8,0,5,1,0,9,5,0,3,9,6,9,0,5,0,8,5,8,2,6,2,2,6,6,8,7,2,6,3,5,4,8,7,1,7,9,0,3,2,6,4,8,9,1,3,7,2,6,8,0,0,7,0,8,9,8,4,6,7,6],\"coloraxis\":\"coloraxis\",\"symbol\":\"circle\"},\"mode\":\"markers\",\"name\":\"\",\"showlegend\":false,\"x\":[0.2966662049293518,-40.84608840942383,-44.03912353515625,1.2192593812942505,9.492711067199707,30.12068748474121,-8.064518928527832,-31.781904220581055,9.97156047821045,29.77524185180664,32.916160583496094,-14.838369369506836,-33.44272232055664,-34.4323844909668,-10.847402572631836,-3.665799856185913,3.0852103233337402,28.89307975769043,-39.62626647949219,-47.26095962524414,29.656394958496094,8.461440086364746,-0.5696847438812256,11.817275047302246,-5.759530544281006,31.67552375793457,9.74838638305664,3.429677963256836,-8.324156761169434,-45.156394958496094,41.82423782348633,25.651832580566406,-37.598731994628906,-0.1911565512418747,-2.6385834217071533,10.299262046813965,38.35198974609375,9.322054862976074,29.588159561157227,-15.284936904907227,0.24987858533859253,30.960994720458984,-13.060916900634766,41.30426788330078,22.49258804321289,32.27305603027344,-0.05396535247564316,-39.68434143066406,1.564070224761963,-35.063812255859375,31.63994026184082,14.13768196105957,-4.954219341278076,25.50116729736328,-8.924439430236816,2.2526917457580566,2.1008875370025635,-0.39656975865364075,-39.941741943359375,26.09214210510254,-37.07950973510742,-42.73445510864258,-44.63518524169922,25.565534591674805,26.802204132080078,43.56753921508789,-40.84648895263672,-15.210293769836426,35.68061065673828,-9.363861083984375,-9.76669979095459,5.000762939453125,-45.796409606933594,-50.40524673461914,32.626773834228516,11.140295028686523,-44.913204193115234,38.35900115966797,-0.3005046248435974,-34.935279846191406,-43.73278045654297,8.239432334899902,7.929144859313965,9.594297409057617,-11.787171363830566,-46.537269592285156,-11.604543685913086,-36.196746826171875,26.650300979614258,6.817811965942383,-44.409305572509766,25.59712028503418,-5.399570465087891,39.657005310058594,4.054069519042969,-0.9166696667671204,43.0430793762207,11.135014533996582,26.60919761657715,-41.148780822753906,-37.062828063964844,7.104175090789795,7.194418430328369,1.8808271884918213,25.888568878173828,-12.560554504394531,-2.8043713569641113,-39.36377716064453,25.997760772705078,42.602603912353516,22.099748611450195,33.269046783447266,-42.56919479370117,9.063905715942383,-41.212894439697266,0.8613538146018982,-35.124454498291016,33.390560150146484,-4.461660385131836,30.91924476623535,18.460874557495117,-3.27880597114563,31.7252197265625,29.74110221862793,17.181400299072266,15.002544403076172,-7.424128532409668,-47.047142028808594,44.58726501464844,-14.940503120422363,-42.4506721496582,-48.891578674316406,13.670282363891602,15.36513900756836,-49.68283462524414,-46.740509033203125,-37.57304763793945,29.287220001220703,-4.240137100219727,9.378189086914062,10.423124313354492,-42.718421936035156,2.1214137077331543,13.793659210205078,-44.317935943603516,37.26242446899414,8.331124305725098,36.05794906616211,-1.422046422958374,-8.438087463378906,36.85849380493164,-36.636783599853516,-13.941736221313477,-4.585740089416504,27.626651763916016,-2.0754871368408203,-40.021820068359375,-16.252779006958008,14.88636302947998,17.699153900146484,-41.435359954833984,-42.8856201171875,34.46455383300781,41.21236038208008,-12.517605781555176,-1.5284936428070068,41.200927734375,-43.54253387451172,-1.5807021856307983,-40.38637161254883,-12.779128074645996,35.78536605834961,-10.777127265930176,1.671791672706604,29.54077911376953,-39.3647575378418,29.479999542236328,-0.8929108381271362,31.90781593322754,16.843963623046875,35.0869140625,10.454368591308594,0.8527780175209045,-45.47814178466797,-50.018768310546875,-13.975425720214844,28.0422306060791,42.2387809753418,-41.13661193847656,33.08238983154297,42.86587142944336,33.76252746582031,-51.28092575073242,-3.693352222442627,-2.0960938930511475,35.15517807006836,-11.313632011413574,15.232341766357422,29.885040283203125,-0.1453934758901596,-41.15860366821289,30.713193893432617,5.513606071472168,-13.741898536682129,-40.1953239440918,10.803964614868164,35.223331451416016,-12.374981880187988,34.064178466796875,11.215642929077148,-39.64777374267578,-4.269728660583496,-2.592278003692627,10.258737564086914,-46.064453125,28.204187393188477,-45.87359619140625,29.369535446166992,-39.32965850830078,7.244886875152588,25.876798629760742,30.763364791870117,-40.08238983154297,39.69491195678711,-49.343528747558594,-2.827996015548706,38.775535583496094,-4.934043884277344,15.062795639038086,16.819705963134766,34.19105911254883,5.223992347717285,-11.21374225616455,-4.747747421264648,-12.300810813903809,31.035247802734375,-13.489896774291992,-12.421059608459473,6.759466171264648,3.8291640281677246,29.126502990722656,-1.4924957752227783,11.558541297912598,-48.63983154296875,16.173664093017578,-17.552438735961914,-39.9561882019043,-33.56006622314453,2.6975066661834717,2.6933040618896484,9.411046981811523,-7.049741744995117,5.077464580535889,10.386280059814453,35.7537841796875,30.585298538208008,37.244014739990234,-34.8558464050293,5.582204818725586,-45.46586990356445,24.49378204345703,7.9344282150268555,1.3819217681884766,40.12502670288086,-3.098637819290161,-38.44870376586914,-6.0842413902282715,-9.183551788330078,-48.63573455810547,33.66622543334961,-5.697200298309326,-34.959503173828125,-50.11753463745117,35.41204071044922,-47.866275787353516,-14.414644241333008,-44.35630416870117,-6.3170294761657715,44.153587341308594,5.66408109664917,-42.10514831542969,40.42285919189453,-4.028998851776123,-5.351868152618408,29.421489715576172,19.95604705810547,0.4512776732444763,8.874248504638672,31.363492965698242,-17.199464797973633,-48.24163818359375,-5.377468109130859,35.58263397216797,4.059206962585449,16.870281219482422,13.035126686096191,-14.579971313476562,12.319016456604004,1.278691053390503,12.845804214477539,38.06771469116211,6.875177383422852,-16.104246139526367,7.749527931213379,1.2860604524612427,-22.572134017944336,-45.52883529663086,3.545548439025879,2.5992238521575928,24.868663787841797,35.082969665527344,-14.349140167236328,33.20722198486328,-39.183048248291016,12.511733055114746,-32.65576934814453,26.906761169433594,-37.71061325073242,-44.509613037109375,-42.947017669677734,-14.68368148803711,-38.47110366821289,11.739871978759766,-10.50187873840332,40.0800666809082,-38.053348541259766,14.01014232635498,-41.942691802978516,39.94188690185547,38.36686325073242,-47.8819580078125,23.81663703918457,-40.8045768737793,41.66151428222656,-12.486474990844727,-2.631052017211914,-7.666190147399902,44.15705490112305,-1.0431517362594604,19.149412155151367,-36.499229431152344,33.71673583984375,-32.60673904418945,21.07114028930664,33.476741790771484,29.475492477416992,33.67223358154297,0.9183781147003174,-14.547713279724121,-39.86164855957031,-4.503544807434082,-43.46440887451172,-39.650047302246094,2.9439196586608887,33.870792388916016,9.153800010681152,0.40288305282592773,-12.597591400146484,-12.80156421661377,-11.292998313903809,-17.317325592041016,-9.24581527709961,-44.7921257019043,32.829402923583984,7.742040634155273,-41.62239074707031,29.85860252380371,-12.650845527648926,-4.7784247398376465,-48.67256546020508,11.934452056884766,-3.3443198204040527,-11.436848640441895,14.617831230163574,-50.385982513427734,-15.533693313598633,8.516860008239746,-11.51920223236084,-11.656428337097168,0.4622338116168976,1.009074330329895,3.8520843982696533,-8.323149681091309,8.656501770019531,1.3195233345031738,-46.266658782958984,26.821725845336914,-34.85930633544922,-0.841005802154541,8.52042293548584,15.210428237915039,-10.741846084594727,2.2637505531311035,36.29800796508789,-39.79045867919922,34.048343658447266,1.5432170629501343,11.447127342224121,21.901826858520508,6.971797466278076,26.265960693359375,18.724966049194336,7.693972587585449,-42.45975112915039,-36.7890739440918,-0.28635865449905396,3.88425350189209,30.452625274658203,9.7544527053833,39.19188690185547,9.374131202697754,28.839242935180664,-1.4718714952468872,-7.518394947052002,8.146010398864746,-1.9098511934280396,-10.976473808288574,-2.7069833278656006,35.25621032714844,0.9382299184799194,-40.46937561035156,-42.23428726196289,43.31967544555664,26.99042320251465,-10.56839656829834,-44.88168716430664,35.59944152832031,35.73111343383789,-3.832000732421875,-12.167588233947754,11.226234436035156,-5.260934352874756,35.51089096069336,-49.98859786987305,1.4046833515167236,-13.681513786315918,-15.663891792297363,-35.6042366027832,-20.492185592651367,-5.039988994598389,4.686498165130615,-11.886271476745605,36.36928176879883,-13.136277198791504,4.659876346588135,8.622177124023438,-45.36739730834961,31.382436752319336,32.5787467956543,-44.169960021972656,-1.7376267910003662,-11.412969589233398,2.2970762252807617,-3.230400800704956,-37.0622673034668,30.55381965637207,-11.080872535705566,-42.92603302001953,-4.210207462310791,-11.044933319091797,-14.514080047607422,-44.70669174194336,28.408620834350586,-0.3229549825191498,-2.2906293869018555,36.472511291503906,-38.122474670410156,-44.49750900268555,-1.4639097452163696,3.8087825775146484,29.790050506591797,-9.561949729919434,27.601682662963867,34.312557220458984,31.776573181152344,32.85870361328125,-45.25944900512695,-6.798549652099609,-12.678396224975586,-17.297521591186523,-4.202783584594727,-8.291949272155762,34.04892349243164,-40.10015106201172,29.300498962402344,-39.366031646728516,9.296204566955566,-7.326869964599609,-11.67847728729248,-2.3190646171569824,25.166275024414062,42.130149841308594,10.810373306274414,-10.120901107788086,-0.5598296523094177,-40.47966766357422,10.94213581085205,3.4990639686584473,33.53550720214844,-41.189002990722656,31.287670135498047,7.350813388824463,0.8749697804450989,-34.90944290161133,-2.121931791305542,31.877933502197266,27.08977508544922,-13.003633499145508,37.11775588989258,-44.61324691772461,-0.5724380016326904,40.69080352783203,-10.0242280960083,4.268679618835449,-41.41773986816406,-3.9128198623657227,34.31647872924805,-7.279226779937744,-47.6865119934082,1.7946805953979492,-43.65961456298828,-14.907796859741211,40.99494934082031,3.422229766845703,-48.514442443847656,-36.87451934814453,33.49634552001953,10.159590721130371,13.634145736694336,26.829349517822266,-35.97718048095703,1.4152307510375977,-4.470301151275635,33.842498779296875,-9.829248428344727,-36.8364143371582,4.795551300048828,-0.19167855381965637,-12.164505004882812,-45.4789924621582,32.51451110839844,19.953210830688477,-2.8877980709075928,16.224075317382812,-50.818153381347656,0.5573564171791077,-49.964820861816406,-9.716562271118164,-43.64425277709961,-46.206695556640625,1.7223237752914429,-32.97636413574219,-6.262348651885986,-15.744235038757324,31.391868591308594,-0.35331279039382935,-44.913055419921875,-8.430992126464844,-11.891458511352539,12.120590209960938,8.363621711730957,4.275818347930908,28.805513381958008,-1.7411442995071411,-3.6868162155151367,-41.58589553833008,-14.002788543701172,36.39219665527344,-38.483558654785156,-12.548216819763184,-43.9228630065918,19.658588409423828,32.61048126220703,30.20818328857422,-44.97758102416992,17.25718879699707,41.127017974853516,-34.744232177734375,43.37997055053711,6.525113105773926,15.595980644226074,27.346803665161133,28.15378189086914,28.578266143798828,5.979129314422607,27.957258224487305,42.675174713134766,10.765005111694336,-41.081321716308594,32.403839111328125,38.63037109375,29.259647369384766,4.981034278869629,-7.1574201583862305,-13.217175483703613,-8.560517311096191,-1.3844677209854126,-47.988590240478516,-49.26278305053711,-3.638996124267578,1.8792494535446167,-42.66624450683594,-5.239290714263916,-12.376153945922852,8.471936225891113,-5.981899261474609,-3.5275347232818604,7.421086311340332,-4.419655799865723,-46.74446105957031,35.91353988647461,4.719930171966553,16.90260124206543,37.53868103027344,42.73313522338867,35.545997619628906,34.523929595947266,-13.599345207214355,-39.35481262207031,0.19299812614917755,3.323296308517456,-0.18282027542591095,27.243064880371094,28.87433433532715,-9.994108200073242,-2.757025957107544,-11.662886619567871,3.7558934688568115,-40.80881881713867,28.73399543762207,-45.64567184448242,28.106164932250977,-44.198211669921875,-42.186058044433594,23.60330581665039,-1.184545636177063,-33.738460540771484,-7.789002895355225,-10.328618049621582,32.0822639465332,-4.2734856605529785,-5.611868858337402,37.326778411865234,-8.630352973937988,34.82941818237305,-3.1607635021209717,10.651885032653809,-6.096052646636963,-38.14457321166992,20.441560745239258,9.45623779296875,-1.0970536470413208,44.48505783081055,-42.4571533203125,34.44268035888672,-44.905372619628906,4.6333112716674805,-9.455724716186523,-10.110138893127441,4.38027811050415,-2.4676077365875244,-35.557918548583984,32.618106842041016,-13.65778636932373,4.512312412261963,-46.619686126708984,30.43667221069336,31.40174674987793,34.6019287109375,-16.390666961669922,-16.27447509765625,8.835213661193848,1.9738166332244873,10.1712007522583,19.301719665527344,-10.083141326904297,4.788360118865967,10.253836631774902,7.138038158416748,-9.545198440551758,-37.04065704345703,-35.687957763671875,26.90292739868164,-46.04288864135742,-38.50675964355469,-47.11133575439453,-11.851949691772461,-9.800024032592773,-35.725196838378906,-45.81575393676758,15.320344924926758,-11.501224517822266,-42.01270294189453,3.8510260581970215,35.99100875854492,-37.85942459106445,22.0760440826416,5.851071834564209,7.4552483558654785,36.3056755065918,24.35296058654785,-9.850523948669434,27.23944664001465,-42.00288391113281,36.60911560058594,7.1027655601501465,-43.43661880493164,39.68254852294922,38.66389465332031,-50.12321090698242,-10.24023151397705,-39.72872543334961,28.016462326049805,19.857601165771484,36.69718933105469,34.877872467041016,-39.11491394042969,36.99674987792969,0.31553637981414795,-34.014381408691406,2.6846680641174316,-13.587080001831055,43.837913513183594,9.842387199401855,-41.069950103759766,-14.094032287597656,34.269615173339844,36.712257385253906,-32.68037414550781,31.115032196044922,2.884986639022827,-39.682552337646484,2.634789228439331,36.51768493652344,-0.16242091357707977,-6.417459011077881,-8.280418395996094,-1.4462430477142334,19.60348129272461,-37.90242004394531,9.0957670211792,-3.6197316646575928,-5.368011474609375,-40.67761993408203,-4.0909929275512695,0.1745646446943283,-6.7097015380859375,3.7289419174194336,-38.91632843017578,43.111385345458984,31.09258270263672,9.957634925842285,-6.562180519104004,-0.39209800958633423,31.38169288635254,12.63735580444336,40.77613067626953,-13.464816093444824,2.1105971336364746,41.63350296020508,-7.656886577606201,19.630714416503906,39.15887451171875,-42.398868560791016,-2.8913469314575195,-43.547367095947266,-15.22768783569336,-10.596694946289062,-3.731523036956787,-1.404154658317566,3.9502997398376465,-38.6992073059082,-6.667750835418701,33.332210540771484,-36.248382568359375,-1.607290506362915,36.22211837768555,-3.5004918575286865,31.685365676879883,37.337005615234375,0.896301805973053,22.887937545776367,30.947214126586914,-39.81999588012695,13.380706787109375,-46.56803894042969,-49.559268951416016,7.702915668487549,-36.415218353271484,32.763771057128906,34.01301956176758,43.65694046020508,-0.7996499538421631,4.367114067077637,-4.26633358001709,27.1521053314209,32.44267654418945,-47.67721176147461,29.911876678466797,-8.844970703125,0.2036692202091217,-5.777316570281982,22.634580612182617,18.283397674560547,26.48033905029297,-36.95431900024414,2.5752744674682617,-11.696101188659668,-39.851070404052734,5.27271842956543,23.614076614379883,-45.848487854003906,36.230220794677734,-1.5354431867599487,-6.577958106994629,6.570148468017578,3.4297266006469727,5.933051586151123,-43.005130767822266,-11.451547622680664,-1.3280551433563232,-1.8413605690002441,-8.153837203979492,37.28460693359375,33.86314392089844,-41.405189514160156,-39.00440979003906,-0.3390393555164337,0.18647901713848114,-35.406280517578125,39.943607330322266,34.40102005004883,-13.587140083312988,11.077333450317383,9.934170722961426,-8.90181827545166,-10.860453605651855,30.6860408782959,3.2913737297058105,34.29774475097656,-41.60321044921875,-9.761433601379395,3.3773529529571533,8.689859390258789,31.528972625732422,-9.444496154785156,35.400325775146484,25.192859649658203,-1.3415659666061401,34.482566833496094,-35.99852752685547,32.06309509277344,30.288917541503906,-47.61976623535156,-34.39232635498047,-36.39979934692383,-49.985923767089844,-38.600955963134766,-4.158352851867676,-38.49016571044922,-10.498475074768066,-12.829195022583008,29.307992935180664,-1.6490890979766846,9.360430717468262,0.6926454901695251,-5.123642921447754,3.6887500286102295,-33.35598373413086,4.357565402984619,22.32466697692871,-47.37301254272461,9.865179061889648,38.12596893310547,6.367272853851318,-0.4885641038417816,-36.306434631347656,6.988746166229248,-43.5391731262207,-6.555293083190918,-14.250043869018555,-13.695535659790039,-35.46849060058594,16.10145378112793,-49.32402038574219,-40.546165466308594,2.0042617321014404,-48.48938751220703,36.29927062988281,4.697081089019775,30.021955490112305,11.869705200195312,4.182316303253174,26.29718780517578,12.971177101135254,13.61428165435791,-1.9658081531524658,3.1440865993499756,1.2709691524505615,-36.319156646728516,34.75065994262695,-44.35341262817383,30.9129638671875,-2.30831241607666,29.040760040283203,-47.872711181640625,36.23381423950195,-13.201618194580078,-37.665897369384766,-44.96760940551758,8.648865699768066,34.77785873413086,-39.85689163208008,-11.008320808410645,0.6026238799095154,-10.540083885192871,33.47007369995117,28.18695640563965,-5.598735332489014,6.271396636962891,-21.162843704223633,-5.342230319976807,37.155879974365234,0.41008785367012024,-7.395900726318359,-34.50215148925781,10.008232116699219,-43.42402267456055,-47.98288345336914,-10.695832252502441,-41.84197235107422,-8.280890464782715,0.17854732275009155,-14.094849586486816,-0.8060351610183716,3.6069467067718506,-5.015931606292725,11.31751823425293,-13.519963264465332,17.806663513183594,31.23805046081543,-9.877412796020508,33.214019775390625,-12.297659873962402,11.973332405090332,3.935194492340088,1.6760016679763794,-35.0196418762207,-42.2253303527832,-10.97076416015625,3.1260197162628174,15.043661117553711,-2.3531434535980225,34.37941360473633,-33.685821533203125,-43.075679779052734,34.137630462646484,23.66277313232422,-49.71074295043945,-11.017049789428711,-0.44623029232025146,1.7865442037582397,-37.705787658691406,1.0974962711334229,12.300008773803711,40.050193786621094,40.10128402709961,24.471805572509766,19.972126007080078,40.216007232666016,35.56098175048828,30.84785270690918,-3.9645004272460938,25.789987564086914,-2.8326382637023926,28.925556182861328,-5.933509349822998,0.26427435874938965,10.509963989257812,4.145449161529541,22.202199935913086,-37.50691604614258,8.880181312561035,-38.215087890625,-35.4286003112793,19.60272979736328,5.955025672912598,0.7331738471984863,-2.813565969467163,-34.880653381347656,-13.203822135925293,27.974138259887695,-14.503348350524902,35.21112060546875,2.820521354675293,-46.31045150756836,14.708330154418945,39.253604888916016,-7.210228443145752,37.39497756958008,23.40180015563965,28.094022750854492,-34.91643142700195,-6.4676127433776855,-43.08838653564453,11.678601264953613,-47.217750549316406,-41.68452835083008,-4.953376293182373,-31.664216995239258,13.442856788635254,13.809455871582031,33.660545349121094,-37.32239532470703,35.02526092529297,12.93222427368164,11.011441230773926,33.56378173828125,-47.040775299072266,14.428504943847656,-46.43857192993164,-5.680771827697754,1.7139742374420166,38.1447639465332,1.0983449220657349,6.1812615394592285,16.888044357299805,37.71694564819336,8.715487480163574,-15.483266830444336,35.882591247558594,8.132153511047363,42.40633010864258,7.0170183181762695,36.970237731933594,-42.85197830200195,38.38993835449219,30.75493621826172,-3.293977975845337,-3.7402260303497314,33.04065704345703,-41.57976531982422,-43.33364486694336,37.98670196533203,1.2862080335617065,-46.4648323059082,31.98105812072754,10.175302505493164,3.4542951583862305,26.83657455444336,5.182857990264893,36.46775817871094,-41.20835494995117,34.710121154785156,-11.0304536819458,-36.36252975463867,-13.666427612304688,-14.724254608154297,30.031917572021484,-12.41655445098877,-14.485069274902344,27.063579559326172,33.834129333496094,-13.171266555786133,-1.2198761701583862,-16.76429557800293,34.867130279541016,16.044086456298828,-47.17342758178711,3.999263048171997,-15.638361930847168,-2.4707424640655518,-48.280433654785156,-1.3324081897735596,2.5471036434173584,34.89972686767578,7.231900215148926,-12.421366691589355,24.08941650390625,3.2482173442840576,-13.698817253112793,2.6576061248779297,-46.228309631347656,18.10612678527832,-3.1886086463928223,-10.563674926757812,20.8330020904541,-13.259393692016602,37.608665466308594,35.336265563964844,1.8169480562210083,41.443389892578125,-12.465078353881836,-3.589606523513794,-5.849077224731445,6.214061260223389,31.339771270751953,-1.3744332790374756,26.314821243286133],\"xaxis\":\"x\",\"y\":[-9.848628044128418,8.793288230895996,-14.822514533996582,40.12874221801758,8.747270584106445,-12.982575416564941,-7.3835554122924805,2.905310869216919,33.97553634643555,15.176968574523926,-14.152778625488281,32.772499084472656,0.15240596234798431,2.2578344345092773,-5.630831718444824,-15.241362571716309,-13.047087669372559,14.037884712219238,-10.501503944396973,-1.8069159984588623,19.479808807373047,17.594934463500977,39.96469497680664,11.307513236999512,-49.71937561035156,-10.865018844604492,11.214776039123535,-19.837371826171875,-50.36437225341797,-8.274388313293457,-13.551942825317383,19.855072021484375,-4.077996253967285,35.43673324584961,-46.47104263305664,6.979188442230225,-16.571996688842773,39.83420181274414,17.146434783935547,-8.963054656982422,41.007041931152344,14.303821563720703,-12.30750560760498,-9.736319541931152,18.816308975219727,-17.778287887573242,-22.808767318725586,1.8192393779754639,36.50053405761719,-4.045848369598389,-6.145777702331543,11.17016887664795,-11.57093334197998,18.84735107421875,-6.8029255867004395,33.45510482788086,-15.075069427490234,-12.674552917480469,-3.7753753662109375,11.603626251220703,-0.6425050497055054,-11.596932411193848,7.982449531555176,20.545303344726562,-8.326154708862305,-11.995651245117188,-11.575037002563477,-9.977133750915527,-18.621618270874023,-19.930330276489258,37.98188781738281,36.37604522705078,-1.1786295175552368,-9.065045356750488,-13.691263198852539,34.19615936279297,7.795040130615234,-11.954829216003418,-9.914158821105957,10.313790321350098,6.275591850280762,9.49631404876709,36.94445037841797,9.38919448852539,-9.89007568359375,-12.237849235534668,-6.657839298248291,5.524330139160156,-12.92431926727295,36.303749084472656,-14.207779884338379,18.864585876464844,-18.06639862060547,-13.272896766662598,33.00672149658203,38.05354309082031,-15.641140937805176,15.188318252563477,11.077312469482422,-3.7052509784698486,-11.552579879760742,14.313881874084473,14.111320495605469,38.243370056152344,19.249134063720703,33.32148361206055,-48.70159149169922,11.949687957763672,12.350618362426758,-12.55375862121582,20.206588745117188,-12.36874008178711,-13.182016372680664,17.19553565979004,8.2132568359375,-42.078514099121094,6.907821178436279,-6.495147228240967,-14.167284965515137,23.609960556030273,9.333683013916016,-48.152244567871094,23.66834259033203,24.096351623535156,12.546690940856934,8.701478004455566,-51.6461181640625,-10.144956588745117,-14.454065322875977,33.4925651550293,-10.366381645202637,-6.847415447235107,14.850691795349121,2.903477907180786,-7.696367263793945,1.7784361839294434,8.71624755859375,15.309768676757812,-11.044739723205566,17.33221435546875,15.553435325622559,1.5402424335479736,42.542049407958984,1.3530609607696533,-10.12008285522461,-15.093482971191406,16.369869232177734,-11.041104316711426,-18.355663299560547,-9.486865997314453,17.82946014404297,-10.396546363830566,-11.380632400512695,-21.537952423095703,15.927291870117188,-46.741554260253906,-12.643341064453125,37.28744888305664,1.4618053436279297,13.665395736694336,10.082047462463379,10.229549407958984,-11.25978946685791,-14.100165367126465,-12.95555305480957,-17.946670532226562,-11.319612503051758,-13.728109359741211,-14.507479667663574,-3.655641794204712,-18.00423812866211,18.820768356323242,32.819034576416016,-17.82056427001953,-16.219547271728516,11.981646537780762,-12.731180191040039,-13.102320671081543,-7.182096481323242,2.36564564704895,-9.64149284362793,9.509505271911621,42.79107666015625,-15.910787582397461,-1.264785647392273,32.98902893066406,13.297345161437988,-9.918502807617188,6.110198974609375,11.058135032653809,-12.836606979370117,13.898809432983398,-8.965310096740723,35.79084777832031,-52.769439697265625,-18.08844566345215,32.70547103881836,4.541289329528809,-10.023848533630371,-16.263973236083984,-0.6770015954971313,-17.418106079101562,-19.77903175354004,30.660011291503906,5.096912860870361,16.20526695251465,16.237648010253906,38.07600402832031,19.771625518798828,1.539972186088562,-10.311936378479004,-53.03065872192383,-9.198942184448242,4.123696327209473,-13.108152389526367,18.759082794189453,-9.86671257019043,20.873754501342773,-4.5173749923706055,36.36271667480469,21.284523010253906,14.689648628234863,9.396379470825195,-11.165885925292969,-6.528580188751221,38.5767822265625,-13.246557235717773,-52.126312255859375,10.393022537231445,11.005553245544434,22.04591178894043,37.610626220703125,-13.229430198669434,-21.52345085144043,-17.864614486694336,13.892653465270996,38.745365142822266,36.00178146362305,9.204671859741211,36.302921295166016,-13.745765686035156,-23.171804428100586,18.17642593383789,1.1993482112884521,13.45254135131836,-10.295950889587402,2.8185927867889404,1.0260440111160278,-12.011256217956543,42.3325309753418,33.66217041015625,-52.29755783081055,35.976192474365234,8.140128135681152,-13.018922805786133,21.192806243896484,-20.237337112426758,5.179743766784668,30.39698028564453,-0.9522890448570251,19.125539779663086,11.624815940856934,-19.449111938476562,-12.991209983825684,-51.37319564819336,-5.314033508300781,-48.82229995727539,-14.818964958190918,-10.044882774353027,17.26382064819336,-12.321455001831055,1.7192292213439941,-10.357739448547363,18.131628036499023,-6.253599166870117,-6.79115629196167,-8.917340278625488,-7.966845989227295,-13.817523002624512,30.73961067199707,6.800586700439453,-17.936452865600586,-19.308822631835938,-49.24863815307617,23.130393981933594,16.742151260375977,40.104427337646484,34.1541633605957,-14.525678634643555,36.740421295166016,-2.570291519165039,-11.244277000427246,-11.184142112731934,33.684165954589844,2.507629156112671,2.6974737644195557,31.9062442779541,7.9596757888793945,-43.93476486206055,2.4050755500793457,-19.826581954956055,39.319679260253906,-11.378077507019043,17.5565242767334,-43.0302619934082,-9.591082572937012,4.826232433319092,35.07805633544922,41.339866638183594,19.53731346130371,21.51363754272461,-6.833035945892334,11.373878479003906,-10.22341537475586,11.582650184631348,0.3112252354621887,16.712989807128906,-11.285467147827148,1.950573205947876,0.9346848130226135,-10.3291654586792,3.2454473972320557,7.486085414886475,-10.208233833312988,-18.71148681640625,4.928197383880615,14.583541870117188,-2.7013614177703857,-10.990445137023926,-17.23891830444336,-9.846302032470703,19.709598541259766,4.395526885986328,-12.463704109191895,-13.433918952941895,-47.80963134765625,-52.273014068603516,-12.034504890441895,-51.53962707519531,16.64150047302246,-5.849538803100586,-19.75005340576172,0.3015539348125458,21.409849166870117,-20.22701644897461,16.43572425842285,-19.676555633544922,-15.929304122924805,37.73674392700195,-11.759663581848145,-11.475120544433594,-11.695218086242676,2.0204968452453613,30.242719650268555,-14.291971206665039,7.64217472076416,-42.89933395385742,-9.633378028869629,-10.260334014892578,-6.356360912322998,36.77376174926758,-20.066640853881836,6.661388874053955,22.637462615966797,19.479061126708984,8.386091232299805,14.656373023986816,-16.199764251708984,-48.50994873046875,2.1711905002593994,2.8174538612365723,37.09505081176758,35.11028289794922,8.63673210144043,-8.298246383666992,33.074737548828125,36.458526611328125,-14.890134811401367,36.47036361694336,-12.320282936096191,42.53133773803711,-20.553789138793945,-11.11749267578125,34.599369049072266,36.13728713989258,-6.343149185180664,18.873167037963867,8.662120819091797,-51.01973342895508,9.995755195617676,2.229231119155884,35.871856689453125,42.04124069213867,20.817123413085938,3.974447250366211,-18.207378387451172,41.33598709106445,3.2539286613464355,13.601777076721191,39.75898361206055,-12.805708885192871,17.388216018676758,33.718589782714844,7.967840671539307,4.169576644897461,-43.201351165771484,32.594993591308594,20.79141616821289,4.7637619972229,-19.17531967163086,34.365421295166016,22.63743019104004,38.60449981689453,-7.188775062561035,19.00298500061035,-51.92234802246094,-7.595129489898682,-8.803608894348145,14.953414916992188,-7.467154502868652,-12.072022438049316,-8.094473838806152,-11.509126663208008,17.292579650878906,33.57021713256836,-1.5347591638565063,-20.215648651123047,-13.336642265319824,-22.77374267578125,37.915809631347656,7.63025426864624,-48.65547561645508,-22.01817512512207,-9.426787376403809,-9.912918090820312,40.05723571777344,-10.00590991973877,9.720162391662598,-9.880732536315918,-15.16759967803955,36.878082275390625,-10.834280014038086,-17.857664108276367,-7.359447956085205,-14.668096542358398,11.792725563049316,0.7044379711151123,10.910323143005371,17.79492950439453,4.670765399932861,36.09033203125,31.757619857788086,-17.38498878479004,-46.692386627197266,-9.276254653930664,-13.531820297241211,-8.290581703186035,5.272654056549072,-49.795875549316406,-16.86429786682129,-9.382905006408691,-9.795714378356934,19.750761032104492,-51.53099060058594,-13.294229507446289,-20.5581111907959,-10.190155982971191,-14.134581565856934,-51.3062858581543,34.50820541381836,-15.648715019226074,33.97260665893555,-12.855338096618652,-15.005111694335938,21.66152572631836,23.503047943115234,-0.6732091307640076,-48.76617431640625,-13.737161636352539,-10.332817077636719,37.074119567871094,35.61381530761719,14.518792152404785,9.613077163696289,13.802780151367188,-3.910780191421509,5.503627777099609,-15.044973373413086,34.07598876953125,-15.039578437805176,21.780590057373047,-8.754779815673828,33.66221618652344,37.1915283203125,-10.742670059204102,-0.008105507120490074,33.132083892822266,-16.43016815185547,-6.567725658416748,-12.64394474029541,22.428287506103516,35.337894439697266,-13.861495971679688,-3.107706069946289,-8.460850715637207,-10.338289260864258,11.432251930236816,31.902000427246094,-17.7730770111084,2.3820412158966064,-14.786169052124023,-13.418403625488281,-14.770219802856445,-20.15867042541504,-1.7734631299972534,35.72708511352539,21.121103286743164,-16.69864845275879,1.5541400909423828,-15.381983757019043,-12.756092071533203,-10.767003059387207,-8.274585723876953,37.87247085571289,0.9175776839256287,4.666223526000977,-18.64813995361328,7.238934516906738,8.06257152557373,22.001615524291992,3.941293478012085,41.8881950378418,-47.76243209838867,23.265655517578125,-18.38304328918457,-10.15335750579834,33.758399963378906,-48.66312026977539,31.428173065185547,2.9129843711853027,-15.911155700683594,13.571598052978516,-50.217376708984375,13.463369369506836,-8.199987411499023,-8.874695777893066,-1.2890597581863403,37.59443664550781,-11.120370864868164,-6.386275768280029,-14.331215858459473,9.762237548828125,-51.21057891845703,37.07008743286133,9.697585105895996,-22.871007919311523,-15.088869094848633,-9.285751342773438,-7.716712474822998,13.264845848083496,38.329978942871094,-20.422321319580078,-12.598177909851074,37.853458404541016,-48.189796447753906,1.5395312309265137,35.84764099121094,-8.891547203063965,-11.634230613708496,-15.61410903930664,5.565518379211426,17.770034790039062,-17.905771255493164,16.381383895874023,5.607642650604248,3.1530609130859375,-10.75367259979248,2.886652946472168,-14.960237503051758,34.025726318359375,11.421549797058105,-16.12071418762207,-14.582358360290527,-14.46068286895752,34.409236907958984,-14.22426700592041,-11.523704528808594,17.872295379638672,8.033065795898438,19.641605377197266,-18.50156593322754,-13.154321670532227,-13.953725814819336,-7.690837860107422,36.53151321411133,36.29510498046875,-21.946943283081055,-9.627398490905762,-9.031282424926758,-51.915733337402344,-43.69053649902344,8.56855583190918,-52.477577209472656,-15.243535041809082,14.619954109191895,-18.156700134277344,-22.474477767944336,39.75673294067383,-52.344112396240234,-10.479484558105469,18.77496337890625,32.004207611083984,8.569746971130371,-15.34938907623291,-10.156718254089355,-7.670370578765869,-18.509824752807617,36.15410614013672,-11.18503189086914,-43.299705505371094,-15.19865608215332,-48.14613342285156,13.715889930725098,-14.042667388916016,-15.607177734375,-53.41741943359375,-9.88382339477539,-19.98656463623047,6.0948309898376465,15.958013534545898,-1.708778738975525,22.551593780517578,-10.552685737609863,7.6015496253967285,22.718706130981445,38.13920593261719,4.693333625793457,-49.40087127685547,-9.950743675231934,19.46901512145996,-19.3080997467041,-47.21481704711914,-14.024917602539062,-9.66023063659668,22.060279846191406,-46.37440872192383,13.446414947509766,-49.304290771484375,0.04396277666091919,17.382579803466797,39.818695068359375,38.797454833984375,-11.365458488464355,8.751922607421875,11.124578475952148,8.977293014526367,38.15793228149414,-14.758147239685059,-16.621925354003906,35.870880126953125,-22.970674514770508,-3.525818109512329,-6.620298862457275,33.7895393371582,38.39125442504883,-0.3942680060863495,-11.060195922851562,18.574899673461914,12.039263725280762,-10.283991813659668,-9.814763069152832,11.464080810546875,40.955684661865234,4.983105659484863,10.506771087646484,-18.93987274169922,-15.360547065734863,11.951241493225098,16.56159210205078,36.82107162475586,-4.134140968322754,5.346973419189453,14.865689277648926,-0.02874884195625782,-11.284170150756836,-9.57546329498291,-18.363622665405273,-7.365149974822998,-2.97851300239563,2.510864019393921,5.658928871154785,33.22963333129883,10.514872550964355,-12.926229476928711,19.426525115966797,-5.136388301849365,13.445316314697266,31.880027770996094,17.84416389465332,-9.837180137634277,21.35288429260254,-13.119309425354004,14.988188743591309,9.456781387329102,-10.196619033813477,40.018192291259766,9.611357688903809,-14.042520523071289,-19.180126190185547,-1.2369496822357178,-7.561253070831299,-10.596388816833496,13.426191329956055,16.681377410888672,16.907352447509766,-14.742033004760742,-4.267411708831787,-21.396549224853516,-22.65041160583496,3.8944106101989746,41.07550048828125,33.34244918823242,-12.780678749084473,18.029062271118164,4.704049587249756,34.99996566772461,18.394535064697266,19.443023681640625,-0.29461461305618286,-11.549914360046387,-20.40220069885254,-7.416526794433594,32.81129455566406,22.215469360351562,-19.028947830200195,-52.48814392089844,-50.06545639038086,-18.388641357421875,10.554560661315918,-3.6857519149780273,16.394609451293945,36.27052307128906,-7.398220539093018,3.7992584705352783,-15.700243949890137,-49.55373764038086,-48.04534912109375,-14.582682609558105,-3.3552658557891846,-13.72580623626709,-17.46946144104004,8.057258605957031,-50.015350341796875,-42.87492752075195,-12.208192825317383,12.242819786071777,-14.542166709899902,36.55521011352539,30.46474266052246,-9.90896224975586,-50.80201721191406,17.77186393737793,-17.91956901550293,9.97717571258545,38.841209411621094,2.471499443054199,33.17970275878906,-13.45296573638916,-16.06712532043457,-48.604759216308594,30.414684295654297,-10.21452522277832,-46.88832092285156,22.20511817932129,-7.446685314178467,-17.88499641418457,-21.291955947875977,37.26876449584961,-10.961892127990723,-13.710996627807617,-10.889647483825684,13.535408973693848,15.379692077636719,7.38356351852417,11.766157150268555,0.45949333906173706,-10.801741600036621,39.98162078857422,2.030271530151367,-15.68874454498291,11.596217155456543,-14.923523902893066,40.00800704956055,-19.231069564819336,-51.34016799926758,18.836774826049805,-13.462775230407715,-2.123950481414795,-13.838949203491211,-11.68091106414795,36.26245880126953,-18.449708938598633,21.296215057373047,16.998615264892578,10.848962783813477,5.225045680999756,42.77248001098633,37.540199279785156,4.2200822830200195,36.55414962768555,17.35883331298828,0.360775351524353,15.757528305053711,-9.803159713745117,-9.37695598602295,12.272612571716309,-13.859994888305664,38.146568298339844,-11.138427734375,-5.927083492279053,-49.59872817993164,-13.446512222290039,-9.168537139892578,-16.477079391479492,-15.877272605895996,1.2209720611572266,-12.282301902770996,-12.151989936828613,-42.65519332885742,4.819520950317383,-7.510996341705322,11.077292442321777,-12.97981071472168,35.12492752075195,14.698376655578613,38.56769561767578,-6.3134870529174805,13.544662475585938,35.79869842529297,-8.175410270690918,-1.1325632333755493,-15.411670684814453,33.85395050048828,35.37560272216797,21.351154327392578,33.59164047241211,20.74115562438965,16.365840911865234,-21.736783981323242,-22.136783599853516,9.249727249145508,-8.511079788208008,19.533140182495117,-8.153839111328125,-5.459406852722168,-9.539599418640137,-0.14036566019058228,-4.532158851623535,-50.53457260131836,8.656213760375977,38.91175842285156,38.61178970336914,24.84250831604004,-50.32317352294922,10.575480461120605,36.66866683959961,-15.67038631439209,-15.595571517944336,3.44805645942688,-17.836593627929688,13.451041221618652,-15.22519302368164,7.701967716217041,-9.090157508850098,41.04425811767578,-44.7136344909668,1.8914554119110107,35.41880798339844,-2.756720781326294,-49.16615676879883,-8.166946411132812,34.82183837890625,4.544597148895264,11.089914321899414,0.31397873163223267,2.9091551303863525,-19.5512638092041,0.5646917223930359,-13.134404182434082,-14.205039978027344,20.81433868408203,11.828496932983398,34.92483139038086,12.824339866638184,13.030610084533691,13.238580703735352,-23.803558349609375,-16.414461135864258,-44.071529388427734,-6.9512619972229,-19.9446964263916,-8.849204063415527,17.95424461364746,-23.223302841186523,-14.769187927246094,-7.574337959289551,-9.81477165222168,39.264915466308594,-6.583413124084473,-14.29389476776123,15.212968826293945,-17.57577896118164,-2.9715023040771484,35.003944396972656,-19.296323776245117,37.387691497802734,21.509164810180664,14.561370849609375,-16.482099533081055,40.0994873046875,-9.805571556091309,-18.238330841064453,-11.865073204040527,40.033485412597656,-11.549029350280762,0.7647353410720825,34.42962646484375,0.935187816619873,1.6104779243469238,-18.71598243713379,5.410480499267578,36.4412841796875,-50.603759765625,37.29698181152344,-48.51504898071289,-13.864930152893066,-48.22711944580078,17.972286224365234,39.88552474975586,11.36965274810791,-13.505997657775879,-15.617783546447754,17.851282119750977,-9.004325866699219,2.6379833221435547,34.13034439086914,-44.314369201660156,-2.119156837463379,-0.27691537141799927,-11.304156303405762,-17.596689224243164,8.77535629272461,36.38200378417969,19.67610740661621,2.082021951675415,-13.36569881439209,15.461688995361328,20.552350997924805,-7.642969131469727,34.1142692565918,-49.15567398071289,-44.77103805541992,5.820930480957031,-7.662642478942871,9.112594604492188,-14.818205833435059,-13.169952392578125,20.53199005126953,14.563118934631348,-8.936895370483398,-9.056475639343262,-6.174228668212891,-53.815391540527344,17.50519561767578,-13.581512451171875,20.31588363647461,-47.081146240234375,-9.059969902038574,17.472890853881836,37.05060958862305,14.351133346557617,-0.526780366897583,17.968290328979492,0.7467073798179626,9.487195014953613,16.99233055114746,32.0112190246582,-44.380496978759766,-16.766738891601562,-2.712394952774048,32.642704010009766,15.174236297607422,37.55375289916992,17.182641983032227,37.14369583129883,-9.31004810333252,5.000373363494873,-19.210674285888672,-10.511382102966309,17.017364501953125,19.423385620117188,22.77098846435547,5.554244041442871,-8.18930435180664,-14.905157089233398,12.019744873046875,-15.184774398803711,0.27189770340919495,-14.762975692749023,3.0629093647003174,9.44499683380127,13.868802070617676,14.425268173217773,2.620406150817871,14.871745109558105,1.939131498336792,15.035421371459961,20.674358367919922,-6.756955623626709,3.047089099884033,-15.423219680786133,-50.51533126831055,-13.958725929260254,-10.010793685913086,-15.343927383422852,42.54330825805664,11.897177696228027,-18.074880599975586,8.487149238586426,34.06960678100586,-20.608518600463867,16.141815185546875,-14.071915626525879,13.841797828674316,-14.827241897583008,9.42485523223877,-10.25808334350586,21.414932250976562,-19.396352767944336,-9.797700881958008,-10.10158634185791,6.248147487640381,-14.316362380981445,-11.470401763916016,-11.966448783874512,2.515899658203125,-6.579399585723877,10.342887878417969,-17.54300308227539,19.555667877197266,-16.195932388305664,-18.625049591064453,-3.209984302520752,-15.339863777160645,-15.713305473327637,-0.5675706267356873,-9.020488739013672,35.293540954589844,23.877456665039062,39.206974029541016,34.027557373046875,12.421878814697266,15.525741577148438,-6.4135003089904785,-47.93900680541992,36.74159240722656,23.412460327148438,8.676583290100098,-0.08576452732086182,37.379425048828125,-7.661635398864746,-50.23541259765625,-8.310054779052734,-47.4671745300293,-20.936927795410156,-20.7197322845459,15.18174934387207,33.493892669677734,17.17485809326172,30.409975051879883,-8.738877296447754,-9.545608520507812,-10.387619972229004,10.606807708740234,-47.772212982177734,35.114505767822266,13.197890281677246,-6.637451648712158,-10.362106323242188,-10.100799560546875,-44.948856353759766,-14.875876426696777,-14.797616004943848,-15.715770721435547,-8.069969177246094,37.83620071411133,19.20131492614746,-49.96279525756836,20.77853775024414],\"yaxis\":\"y\",\"type\":\"scattergl\"}],                        {\"template\":{\"data\":{\"bar\":[{\"error_x\":{\"color\":\"#2a3f5f\"},\"error_y\":{\"color\":\"#2a3f5f\"},\"marker\":{\"line\":{\"color\":\"#E5ECF6\",\"width\":0.5},\"pattern\":{\"fillmode\":\"overlay\",\"size\":10,\"solidity\":0.2}},\"type\":\"bar\"}],\"barpolar\":[{\"marker\":{\"line\":{\"color\":\"#E5ECF6\",\"width\":0.5},\"pattern\":{\"fillmode\":\"overlay\",\"size\":10,\"solidity\":0.2}},\"type\":\"barpolar\"}],\"carpet\":[{\"aaxis\":{\"endlinecolor\":\"#2a3f5f\",\"gridcolor\":\"white\",\"linecolor\":\"white\",\"minorgridcolor\":\"white\",\"startlinecolor\":\"#2a3f5f\"},\"baxis\":{\"endlinecolor\":\"#2a3f5f\",\"gridcolor\":\"white\",\"linecolor\":\"white\",\"minorgridcolor\":\"white\",\"startlinecolor\":\"#2a3f5f\"},\"type\":\"carpet\"}],\"choropleth\":[{\"colorbar\":{\"outlinewidth\":0,\"ticks\":\"\"},\"type\":\"choropleth\"}],\"contour\":[{\"colorbar\":{\"outlinewidth\":0,\"ticks\":\"\"},\"colorscale\":[[0.0,\"#0d0887\"],[0.1111111111111111,\"#46039f\"],[0.2222222222222222,\"#7201a8\"],[0.3333333333333333,\"#9c179e\"],[0.4444444444444444,\"#bd3786\"],[0.5555555555555556,\"#d8576b\"],[0.6666666666666666,\"#ed7953\"],[0.7777777777777778,\"#fb9f3a\"],[0.8888888888888888,\"#fdca26\"],[1.0,\"#f0f921\"]],\"type\":\"contour\"}],\"contourcarpet\":[{\"colorbar\":{\"outlinewidth\":0,\"ticks\":\"\"},\"type\":\"contourcarpet\"}],\"heatmap\":[{\"colorbar\":{\"outlinewidth\":0,\"ticks\":\"\"},\"colorscale\":[[0.0,\"#0d0887\"],[0.1111111111111111,\"#46039f\"],[0.2222222222222222,\"#7201a8\"],[0.3333333333333333,\"#9c179e\"],[0.4444444444444444,\"#bd3786\"],[0.5555555555555556,\"#d8576b\"],[0.6666666666666666,\"#ed7953\"],[0.7777777777777778,\"#fb9f3a\"],[0.8888888888888888,\"#fdca26\"],[1.0,\"#f0f921\"]],\"type\":\"heatmap\"}],\"heatmapgl\":[{\"colorbar\":{\"outlinewidth\":0,\"ticks\":\"\"},\"colorscale\":[[0.0,\"#0d0887\"],[0.1111111111111111,\"#46039f\"],[0.2222222222222222,\"#7201a8\"],[0.3333333333333333,\"#9c179e\"],[0.4444444444444444,\"#bd3786\"],[0.5555555555555556,\"#d8576b\"],[0.6666666666666666,\"#ed7953\"],[0.7777777777777778,\"#fb9f3a\"],[0.8888888888888888,\"#fdca26\"],[1.0,\"#f0f921\"]],\"type\":\"heatmapgl\"}],\"histogram\":[{\"marker\":{\"pattern\":{\"fillmode\":\"overlay\",\"size\":10,\"solidity\":0.2}},\"type\":\"histogram\"}],\"histogram2d\":[{\"colorbar\":{\"outlinewidth\":0,\"ticks\":\"\"},\"colorscale\":[[0.0,\"#0d0887\"],[0.1111111111111111,\"#46039f\"],[0.2222222222222222,\"#7201a8\"],[0.3333333333333333,\"#9c179e\"],[0.4444444444444444,\"#bd3786\"],[0.5555555555555556,\"#d8576b\"],[0.6666666666666666,\"#ed7953\"],[0.7777777777777778,\"#fb9f3a\"],[0.8888888888888888,\"#fdca26\"],[1.0,\"#f0f921\"]],\"type\":\"histogram2d\"}],\"histogram2dcontour\":[{\"colorbar\":{\"outlinewidth\":0,\"ticks\":\"\"},\"colorscale\":[[0.0,\"#0d0887\"],[0.1111111111111111,\"#46039f\"],[0.2222222222222222,\"#7201a8\"],[0.3333333333333333,\"#9c179e\"],[0.4444444444444444,\"#bd3786\"],[0.5555555555555556,\"#d8576b\"],[0.6666666666666666,\"#ed7953\"],[0.7777777777777778,\"#fb9f3a\"],[0.8888888888888888,\"#fdca26\"],[1.0,\"#f0f921\"]],\"type\":\"histogram2dcontour\"}],\"mesh3d\":[{\"colorbar\":{\"outlinewidth\":0,\"ticks\":\"\"},\"type\":\"mesh3d\"}],\"parcoords\":[{\"line\":{\"colorbar\":{\"outlinewidth\":0,\"ticks\":\"\"}},\"type\":\"parcoords\"}],\"pie\":[{\"automargin\":true,\"type\":\"pie\"}],\"scatter\":[{\"marker\":{\"colorbar\":{\"outlinewidth\":0,\"ticks\":\"\"}},\"type\":\"scatter\"}],\"scatter3d\":[{\"line\":{\"colorbar\":{\"outlinewidth\":0,\"ticks\":\"\"}},\"marker\":{\"colorbar\":{\"outlinewidth\":0,\"ticks\":\"\"}},\"type\":\"scatter3d\"}],\"scattercarpet\":[{\"marker\":{\"colorbar\":{\"outlinewidth\":0,\"ticks\":\"\"}},\"type\":\"scattercarpet\"}],\"scattergeo\":[{\"marker\":{\"colorbar\":{\"outlinewidth\":0,\"ticks\":\"\"}},\"type\":\"scattergeo\"}],\"scattergl\":[{\"marker\":{\"colorbar\":{\"outlinewidth\":0,\"ticks\":\"\"}},\"type\":\"scattergl\"}],\"scattermapbox\":[{\"marker\":{\"colorbar\":{\"outlinewidth\":0,\"ticks\":\"\"}},\"type\":\"scattermapbox\"}],\"scatterpolar\":[{\"marker\":{\"colorbar\":{\"outlinewidth\":0,\"ticks\":\"\"}},\"type\":\"scatterpolar\"}],\"scatterpolargl\":[{\"marker\":{\"colorbar\":{\"outlinewidth\":0,\"ticks\":\"\"}},\"type\":\"scatterpolargl\"}],\"scatterternary\":[{\"marker\":{\"colorbar\":{\"outlinewidth\":0,\"ticks\":\"\"}},\"type\":\"scatterternary\"}],\"surface\":[{\"colorbar\":{\"outlinewidth\":0,\"ticks\":\"\"},\"colorscale\":[[0.0,\"#0d0887\"],[0.1111111111111111,\"#46039f\"],[0.2222222222222222,\"#7201a8\"],[0.3333333333333333,\"#9c179e\"],[0.4444444444444444,\"#bd3786\"],[0.5555555555555556,\"#d8576b\"],[0.6666666666666666,\"#ed7953\"],[0.7777777777777778,\"#fb9f3a\"],[0.8888888888888888,\"#fdca26\"],[1.0,\"#f0f921\"]],\"type\":\"surface\"}],\"table\":[{\"cells\":{\"fill\":{\"color\":\"#EBF0F8\"},\"line\":{\"color\":\"white\"}},\"header\":{\"fill\":{\"color\":\"#C8D4E3\"},\"line\":{\"color\":\"white\"}},\"type\":\"table\"}]},\"layout\":{\"annotationdefaults\":{\"arrowcolor\":\"#2a3f5f\",\"arrowhead\":0,\"arrowwidth\":1},\"autotypenumbers\":\"strict\",\"coloraxis\":{\"colorbar\":{\"outlinewidth\":0,\"ticks\":\"\"}},\"colorscale\":{\"diverging\":[[0,\"#8e0152\"],[0.1,\"#c51b7d\"],[0.2,\"#de77ae\"],[0.3,\"#f1b6da\"],[0.4,\"#fde0ef\"],[0.5,\"#f7f7f7\"],[0.6,\"#e6f5d0\"],[0.7,\"#b8e186\"],[0.8,\"#7fbc41\"],[0.9,\"#4d9221\"],[1,\"#276419\"]],\"sequential\":[[0.0,\"#0d0887\"],[0.1111111111111111,\"#46039f\"],[0.2222222222222222,\"#7201a8\"],[0.3333333333333333,\"#9c179e\"],[0.4444444444444444,\"#bd3786\"],[0.5555555555555556,\"#d8576b\"],[0.6666666666666666,\"#ed7953\"],[0.7777777777777778,\"#fb9f3a\"],[0.8888888888888888,\"#fdca26\"],[1.0,\"#f0f921\"]],\"sequentialminus\":[[0.0,\"#0d0887\"],[0.1111111111111111,\"#46039f\"],[0.2222222222222222,\"#7201a8\"],[0.3333333333333333,\"#9c179e\"],[0.4444444444444444,\"#bd3786\"],[0.5555555555555556,\"#d8576b\"],[0.6666666666666666,\"#ed7953\"],[0.7777777777777778,\"#fb9f3a\"],[0.8888888888888888,\"#fdca26\"],[1.0,\"#f0f921\"]]},\"colorway\":[\"#636efa\",\"#EF553B\",\"#00cc96\",\"#ab63fa\",\"#FFA15A\",\"#19d3f3\",\"#FF6692\",\"#B6E880\",\"#FF97FF\",\"#FECB52\"],\"font\":{\"color\":\"#2a3f5f\"},\"geo\":{\"bgcolor\":\"white\",\"lakecolor\":\"white\",\"landcolor\":\"#E5ECF6\",\"showlakes\":true,\"showland\":true,\"subunitcolor\":\"white\"},\"hoverlabel\":{\"align\":\"left\"},\"hovermode\":\"closest\",\"mapbox\":{\"style\":\"light\"},\"paper_bgcolor\":\"white\",\"plot_bgcolor\":\"#E5ECF6\",\"polar\":{\"angularaxis\":{\"gridcolor\":\"white\",\"linecolor\":\"white\",\"ticks\":\"\"},\"bgcolor\":\"#E5ECF6\",\"radialaxis\":{\"gridcolor\":\"white\",\"linecolor\":\"white\",\"ticks\":\"\"}},\"scene\":{\"xaxis\":{\"backgroundcolor\":\"#E5ECF6\",\"gridcolor\":\"white\",\"gridwidth\":2,\"linecolor\":\"white\",\"showbackground\":true,\"ticks\":\"\",\"zerolinecolor\":\"white\"},\"yaxis\":{\"backgroundcolor\":\"#E5ECF6\",\"gridcolor\":\"white\",\"gridwidth\":2,\"linecolor\":\"white\",\"showbackground\":true,\"ticks\":\"\",\"zerolinecolor\":\"white\"},\"zaxis\":{\"backgroundcolor\":\"#E5ECF6\",\"gridcolor\":\"white\",\"gridwidth\":2,\"linecolor\":\"white\",\"showbackground\":true,\"ticks\":\"\",\"zerolinecolor\":\"white\"}},\"shapedefaults\":{\"line\":{\"color\":\"#2a3f5f\"}},\"ternary\":{\"aaxis\":{\"gridcolor\":\"white\",\"linecolor\":\"white\",\"ticks\":\"\"},\"baxis\":{\"gridcolor\":\"white\",\"linecolor\":\"white\",\"ticks\":\"\"},\"bgcolor\":\"#E5ECF6\",\"caxis\":{\"gridcolor\":\"white\",\"linecolor\":\"white\",\"ticks\":\"\"}},\"title\":{\"x\":0.05},\"xaxis\":{\"automargin\":true,\"gridcolor\":\"white\",\"linecolor\":\"white\",\"ticks\":\"\",\"title\":{\"standoff\":15},\"zerolinecolor\":\"white\",\"zerolinewidth\":2},\"yaxis\":{\"automargin\":true,\"gridcolor\":\"white\",\"linecolor\":\"white\",\"ticks\":\"\",\"title\":{\"standoff\":15},\"zerolinecolor\":\"white\",\"zerolinewidth\":2}}},\"xaxis\":{\"anchor\":\"y\",\"domain\":[0.0,1.0],\"title\":{\"text\":\"x\"}},\"yaxis\":{\"anchor\":\"x\",\"domain\":[0.0,1.0],\"title\":{\"text\":\"y\"}},\"coloraxis\":{\"colorbar\":{\"title\":{\"text\":\"cluster\"}},\"colorscale\":[[0.0,\"#0d0887\"],[0.1111111111111111,\"#46039f\"],[0.2222222222222222,\"#7201a8\"],[0.3333333333333333,\"#9c179e\"],[0.4444444444444444,\"#bd3786\"],[0.5555555555555556,\"#d8576b\"],[0.6666666666666666,\"#ed7953\"],[0.7777777777777778,\"#fb9f3a\"],[0.8888888888888888,\"#fdca26\"],[1.0,\"#f0f921\"]]},\"legend\":{\"tracegroupgap\":0},\"margin\":{\"t\":60}},                        {\"responsive\": true}                    ).then(function(){\n",
       "                            \n",
       "var gd = document.getElementById('3b21b028-ae98-4f4c-b478-450f51ba6a30');\n",
       "var x = new MutationObserver(function (mutations, observer) {{\n",
       "        var display = window.getComputedStyle(gd).display;\n",
       "        if (!display || display === 'none') {{\n",
       "            console.log([gd, 'removed!']);\n",
       "            Plotly.purge(gd);\n",
       "            observer.disconnect();\n",
       "        }}\n",
       "}});\n",
       "\n",
       "// Listen for the removal of the full notebook cells\n",
       "var notebookContainer = gd.closest('#notebook-container');\n",
       "if (notebookContainer) {{\n",
       "    x.observe(notebookContainer, {childList: true});\n",
       "}}\n",
       "\n",
       "// Listen for the clearing of the current output cell\n",
       "var outputEl = gd.closest('.output');\n",
       "if (outputEl) {{\n",
       "    x.observe(outputEl, {childList: true});\n",
       "}}\n",
       "\n",
       "                        })                };                });            </script>        </div>"
      ]
     },
     "metadata": {},
     "output_type": "display_data"
    }
   ],
   "source": [
    "tsne_pipeline = Pipeline([('scaler', StandardScaler()), ('tsne', TSNE(n_components=2, verbose=1))])\n",
    "genre_embedding = tsne_pipeline.fit_transform(X)\n",
    "projection = pd.DataFrame(columns=['x', 'y'], data=genre_embedding)\n",
    "projection['genres'] = genre_df['artist_genres']\n",
    "projection['cluster'] = genre_df['cluster']\n",
    "\n",
    "fig = px.scatter(\n",
    "    projection, x='x', y='y', color='cluster', hover_data=['x', 'y', 'genres'])\n",
    "fig.show()"
   ]
  },
  {
   "cell_type": "code",
   "execution_count": 230,
   "id": "df6f79f5",
   "metadata": {},
   "outputs": [],
   "source": [
    "song_cluster_pipeline = Pipeline([('scaler', StandardScaler()), \n",
    "                                  ('kmeans', KMeans(n_clusters=10, \n",
    "                                   verbose=False, random_state=42))\n",
    "                                 ], verbose=False)\n",
    "\n",
    "X = clean_data.select_dtypes(np.number)\n",
    "number_cols = list(X.columns)\n",
    "song_cluster_pipeline.fit(X)\n",
    "song_cluster_labels = song_cluster_pipeline.predict(X)\n",
    "clean_data['cluster_label'] = song_cluster_labels"
   ]
  },
  {
   "cell_type": "code",
   "execution_count": 231,
   "id": "e09fbdc2",
   "metadata": {},
   "outputs": [
    {
     "data": {
      "application/vnd.plotly.v1+json": {
       "config": {
        "plotlyServerURL": "https://plot.ly"
       },
       "data": [
        {
         "customdata": [
          [
           "Like a Rolling Stone"
          ],
          [
           "Smells Like Teen Spirit"
          ],
          [
           "A Day In The Life - Remastered"
          ],
          [
           "Good Vibrations (Mono)"
          ],
          [
           "Johnny B Goode"
          ],
          [
           "Respect"
          ],
          [
           "Be My Baby"
          ],
          [
           "What's Going On"
          ],
          [
           "I Heard It Through The Grapevine"
          ],
          [
           "(I Can't Get No) Satisfaction - Mono Version / Remastered 2002"
          ],
          [
           "Billie Jean"
          ],
          [
           "Heartbreak Hotel"
          ],
          [
           "Born to Run"
          ],
          [
           "My Generation - Original Mono Version"
          ],
          [
           "Love Will Tear Us Apart"
          ],
          [
           "God Only Knows - Mono / 1997 Remastered"
          ],
          [
           "(Sittin' On) the Dock of the Bay"
          ],
          [
           "Hey Ya! - Radio Mix / Club Mix"
          ],
          [
           "Anarchy In The UK - Remastered 2012"
          ],
          [
           "Paper Planes"
          ],
          [
           "London Calling"
          ],
          [
           "Sympathy For The Devil"
          ],
          [
           "Strawberry Fields Forever - Remastered"
          ],
          [
           "Tutti Frutti"
          ],
          [
           "Stairway To Heaven"
          ],
          [
           "The Message (feat. Melle Mel & Duke Bootee)"
          ],
          [
           "What'd I Say"
          ],
          [
           "Imagine - Remastered 2010"
          ],
          [
           "A Change Is Gonna Come"
          ],
          [
           "Heroes - 1999 Remaster"
          ],
          [
           "When Doves Cry"
          ],
          [
           "Superstition"
          ],
          [
           "Common People"
          ],
          [
           "Gimme Shelter"
          ],
          [
           "Strange Fruit"
          ],
          [
           "You Really Got Me"
          ],
          [
           "Crazy In Love (feat. Jay-Z)"
          ],
          [
           "Seven Nation Army"
          ],
          [
           "Losing My Religion"
          ],
          [
           "God Save The Queen"
          ],
          [
           "Bohemian Rhapsody - Remastered 2011"
          ],
          [
           "Blue Monday"
          ],
          [
           "Purple Haze"
          ],
          [
           "Louie Louie"
          ],
          [
           "I Want You Back"
          ],
          [
           "Crazy"
          ],
          [
           "You've Lost That Lovin' Feelin' - Single Version"
          ],
          [
           "Hey Jude - Remastered"
          ],
          [
           "Waterloo Sunset - Stereo"
          ],
          [
           "Take Me Out"
          ],
          [
           "Get Ur Freak On"
          ],
          [
           "That'll Be the Day"
          ],
          [
           "Light My Fire"
          ],
          [
           "I Feel Love"
          ],
          [
           "There Is a Light That Never Goes Out - 2011 Remaster"
          ],
          [
           "Space Oddity - 2009 Remastered Version"
          ],
          [
           "Stand by Me"
          ],
          [
           "Mr. Tambourine Man"
          ],
          [
           "Bitter Sweet Symphony"
          ],
          [
           "(We're Gonna) Rock Around The Clock"
          ],
          [
           "Layla - 40th Anniversary Version / 2010 Remastered"
          ],
          [
           "River Deep - Mountain High"
          ],
          [
           "Unfinished Sympathy - 2006 Digital Remaster"
          ],
          [
           "Loser"
          ],
          [
           "Fight The Power"
          ],
          [
           "Once in a Lifetime - 2005 Remaster"
          ],
          [
           "Paranoid Android"
          ],
          [
           "Whole Lotta Love - Remaster"
          ],
          [
           "Alright"
          ],
          [
           "House of the Rising Sun"
          ],
          [
           "Walk on the Wild Side"
          ],
          [
           "Hotel California"
          ],
          [
           "99 Problems"
          ],
          [
           "Dancing On My Own"
          ],
          [
           "Formation"
          ],
          [
           "Let's Stay Together"
          ],
          [
           "Jumpin' Jack Flash"
          ],
          [
           "All My Friends"
          ],
          [
           "California Dreamin'"
          ],
          [
           "Blitzkrieg Bop - 2001 Remaster"
          ],
          [
           "Dancing In The Street"
          ],
          [
           "Hound Dog"
          ],
          [
           "Oblivion"
          ],
          [
           "I Want To Hold Your Hand - Remastered"
          ],
          [
           "All Along the Watchtower"
          ],
          [
           "Nothing Compares 2 U"
          ],
          [
           "How Soon Is Now? - 2011 Remaster"
          ],
          [
           "Sweet Child O' Mine"
          ],
          [
           "For What It's Worth"
          ],
          [
           "The Weight - Remastered"
          ],
          [
           "Runaway"
          ],
          [
           "Ghost Town - Extended Version"
          ],
          [
           "Royals"
          ],
          [
           "Get Lucky (feat. Pharrell Williams & Nile Rodgers) - Radio Edit"
          ],
          [
           "Suspicious Minds"
          ],
          [
           "Life On Mars? - 1999 Remastered Version"
          ],
          [
           "Reach Out I'll Be There - Single Version / Mono"
          ],
          [
           "That's All Right Mama"
          ],
          [
           "Get Up (I Feel Like Being A) Sex Machine - Pt. 1 & 2"
          ],
          [
           "Wonderwall"
          ],
          [
           "Heroin"
          ],
          [
           "Whole Lotta Shakin' Goin' On"
          ],
          [
           "Thunder Road"
          ],
          [
           "One"
          ],
          [
           "I'm Waiting For The Man - Album Version (Stereo)"
          ],
          [
           "The Tracks Of My Tears - Single Version / Mono"
          ],
          [
           "Yesterday - Remastered"
          ],
          [
           "Dancing Queen"
          ],
          [
           "Summertime Blues"
          ],
          [
           "This Charming Man - 2011 Remaster"
          ],
          [
           "Blue Suede Shoes"
          ],
          [
           "Good Times"
          ],
          [
           "Pyramids"
          ],
          [
           "My Girl - Single Version/Mono"
          ],
          [
           "Paint It Black"
          ],
          [
           "Video Games"
          ],
          [
           "Rehab"
          ],
          [
           "Rapper's Delight - Long Version"
          ],
          [
           "The Sound of Silence - Electric Version"
          ],
          [
           "Fortunate Son"
          ],
          [
           "Papa's Got A Brand New Bag - Pt. 1"
          ],
          [
           "Bridge over Troubled Water"
          ],
          [
           "No Woman, No Cry - Live At The Lyceum, London/1975"
          ],
          [
           "Proud Mary"
          ],
          [
           "Every Breath You Take - Remastered 2003"
          ],
          [
           "Maybellene - Single Version"
          ],
          [
           "A Whiter Shade Of Pale"
          ],
          [
           "Midnight City"
          ],
          [
           "Losing My Edge"
          ],
          [
           "I'm So Lonesome I Could Cry - Single Version"
          ],
          [
           "Eight Miles High"
          ],
          [
           "Born Slippy (Nuxx)"
          ],
          [
           "Great Balls Of Fire"
          ],
          [
           "Green Onions"
          ],
          [
           "Maps"
          ],
          [
           "Umbrella"
          ],
          [
           "She Loves You - Remastered"
          ],
          [
           "Stayin' Alive - 2007 Remastered Version Saturday Night Fever"
          ],
          [
           "Tangled up in Blue"
          ],
          [
           "Maggie May"
          ],
          [
           "Will You Still Love Me Tomorrow"
          ],
          [
           "Seasons (Waiting On You)"
          ],
          [
           "Creep"
          ],
          [
           "Be-Bop-A-Lula"
          ],
          [
           "Paranoid"
          ],
          [
           "Heart Of Glass [24-Bit Digitally Remastered 01]"
          ],
          [
           "Kashmir - 1990 Remaster"
          ],
          [
           "Walk This Way (feat. Aerosmith)"
          ],
          [
           "Like a Prayer"
          ],
          [
           "Marquee Moon - 2003 Remaster"
          ],
          [
           "Hotline Bling"
          ],
          [
           "Live Forever"
          ],
          [
           "Time to Pretend"
          ],
          [
           "When a Man Loves a Woman"
          ],
          [
           "Brown Sugar"
          ],
          [
           "Over the Rainbow (From \"The Wizard of Oz\")"
          ],
          [
           "Tomorrow Never Knows - Remastered"
          ],
          [
           "This Land is Your Land"
          ],
          [
           "Oh, Pretty Woman"
          ],
          [
           "Jailhouse Rock"
          ],
          [
           "Empire State Of Mind [Jay-Z + Alicia Keys]"
          ],
          [
           "I Bet You Look Good On The Dancefloor"
          ],
          [
           "Like a Virgin"
          ],
          [
           "Into the Groove"
          ],
          [
           "Let It Happen"
          ],
          [
           "Cranes in the Sky"
          ],
          [
           "Song 2 - 2012 Remaster"
          ],
          [
           "Purple Rain"
          ],
          [
           "Wuthering Heights"
          ],
          [
           "Born In The U.S.A."
          ],
          [
           "Kids"
          ],
          [
           "Nuthin' But A \"G\" Thang"
          ],
          [
           "Peggy Sue - Single Version"
          ],
          [
           "White Rabbit"
          ],
          [
           "Kiss"
          ],
          [
           "Sunday Bloody Sunday"
          ],
          [
           "Psycho Killer - 2005 Remaster"
          ],
          [
           "Tainted Love"
          ],
          [
           "Little Red Corvette"
          ],
          [
           "Family Affair - Single Version"
          ],
          [
           "Can't Get You out of My Head"
          ],
          [
           "Honky Tonk Women - Mono Version"
          ],
          [
           "Your Best American Girl"
          ],
          [
           "Autobahn - 2009 Remaster"
          ],
          [
           "My Girls"
          ],
          [
           "Eleanor Rigby - Remastered"
          ],
          [
           "Get It On"
          ],
          [
           "There She Goes"
          ],
          [
           "Help! - Remastered"
          ],
          [
           "House Of Jealous Lovers"
          ],
          [
           "Last Nite"
          ],
          [
           "Le Freak"
          ],
          [
           "Won't Get Fooled Again - Original Album Version"
          ],
          [
           "In My Life - Remastered"
          ],
          [
           "Hurt"
          ],
          [
           "Ms. Jackson"
          ],
          [
           "Walk on By"
          ],
          [
           "Folsom Prison Blues"
          ],
          [
           "Sign 'O' the Times - Single Version"
          ],
          [
           "bad guy"
          ],
          [
           "Teenage Kicks"
          ],
          [
           "This Is America"
          ],
          [
           "Blowin' in the Wind"
          ],
          [
           "I Walk The Line - Single Version"
          ],
          [
           "Brown Eyed Girl"
          ],
          [
           "Blueberry Hill"
          ],
          [
           "Planet Rock"
          ],
          [
           "Crazy"
          ],
          [
           "Bo Diddley"
          ],
          [
           "Subterranean Homesick Blues"
          ],
          [
           "Mr. Brightside"
          ],
          [
           "People Get Ready - Single Version"
          ],
          [
           "Virginia Plain"
          ],
          [
           "Runaway"
          ],
          [
           "Baba O'Riley"
          ],
          [
           "Go Your Own Way"
          ],
          [
           "Two Weeks"
          ],
          [
           "(White Man) In Hammersmith Palais"
          ],
          [
           "(Don't Fear) The Reaper"
          ],
          [
           "Penny Lane - Remastered"
          ],
          [
           "Smoke On the Water"
          ],
          [
           "Toxic"
          ],
          [
           "Roadrunner (Twice)"
          ],
          [
           "Don't You Want Me"
          ],
          [
           "Bad Girls"
          ],
          [
           "Changes - 1999 Remastered Version"
          ],
          [
           "Don't Stop 'Til You Get Enough"
          ],
          [
           "Let It Be - Remastered"
          ],
          [
           "Don't Be Cruel"
          ],
          [
           "Papa Was A Rollin' Stone - Single Version"
          ],
          [
           "Rolling in the Deep"
          ],
          [
           "Living For The City"
          ],
          [
           "Gloria (feat. Van Morrison) - Mono Version"
          ],
          [
           "Try A Little Tenderness"
          ],
          [
           "I Wanna Be Your Dog"
          ],
          [
           "1979"
          ],
          [
           "The Girl From Ipanema"
          ],
          [
           "You Send Me"
          ],
          [
           "Wild Thing"
          ],
          [
           "Ziggy Stardust - 2012 Remastered Version"
          ],
          [
           "In the Midnight Hour"
          ],
          [
           "Wichita Lineman - Remastered 2001"
          ],
          [
           "I Got You (I Feel Good)"
          ],
          [
           "Idioteque"
          ],
          [
           "Sunshine Of Your Love"
          ],
          [
           "Search and Destroy - Iggy Pop Mix"
          ],
          [
           "While My Guitar Gently Weeps - Remastered"
          ],
          [
           "Ever Fallen in Love (With Someone You Shouldn't've?) - 1996 Remastered Version"
          ],
          [
           "The Times They Are A-Changin'"
          ],
          [
           "With Or Without You - Remastered"
          ],
          [
           "Mystery Train"
          ],
          [
           "Leader Of The Pack"
          ],
          [
           "Let's Get It On"
          ],
          [
           "La Bamba"
          ],
          [
           "Dance Yrself Clean"
          ],
          [
           "Relax"
          ],
          [
           "The Model - 2009 Remaster"
          ],
          [
           "Rebellion (Lies)"
          ],
          [
           "Don't Worry Baby (Mono) - Remastered"
          ],
          [
           "Debaser"
          ],
          [
           "Sweet Jane"
          ],
          [
           "Why Do Fools Fall In Love"
          ],
          [
           "Running Up That Hill (A Deal With God)"
          ],
          [
           "Beat It"
          ],
          [
           "Wish You Were Here - 2011 Remastered Version"
          ],
          [
           "Sabotage - 2009 Digital Remaster"
          ],
          [
           "Alone Again Or"
          ],
          [
           "One More Time"
          ],
          [
           "Green Light"
          ],
          [
           "Over And Over"
          ],
          [
           "All the Young Dudes"
          ],
          [
           "The Boys Are Back In Town"
          ],
          [
           "Lose Yourself - Soundtrack Version"
          ],
          [
           "212"
          ],
          [
           "Firestarter"
          ],
          [
           "Kick Out the Jams"
          ],
          [
           "See Emily Play - 2001 Remastered Version"
          ],
          [
           "Two Weeks"
          ],
          [
           "Girls & Boys - 2012 Remaster"
          ],
          [
           "Son Of A Preacher Man"
          ],
          [
           "Cannonball"
          ],
          [
           "B.O.B. - Bombs Over Baghdad"
          ],
          [
           "Thinkin Bout You"
          ],
          [
           "Many Rivers To Cross"
          ],
          [
           "Gold Digger"
          ],
          [
           "Israelites"
          ],
          [
           "Something - Remastered"
          ],
          [
           "Ring Of Fire - Single Version"
          ],
          [
           "Sexual Healing"
          ],
          [
           "Cross Road Blues"
          ],
          [
           "Highway To Hell"
          ],
          [
           "Born To Be Wild"
          ],
          [
           "Da Funk"
          ],
          [
           "Theme From Shaft"
          ],
          [
           "Brass in Pocket"
          ],
          [
           "Shake, Rattle and Roll"
          ],
          [
           "(I'm Your) Hoochie Coochie Man"
          ],
          [
           "Jesus Walks"
          ],
          [
           "Suzanne"
          ],
          [
           "Bye Bye Love"
          ],
          [
           "Windowlicker"
          ],
          [
           "Heartbeats"
          ],
          [
           "School's Out"
          ],
          [
           "Stop! In The Name Of Love"
          ],
          [
           "La Vie en rose"
          ],
          [
           "Fell In Love With a Girl"
          ],
          [
           "Enter Sandman"
          ],
          [
           "Je t'aime moi non plus"
          ],
          [
           "Where Is My Mind?"
          ],
          [
           "96 Tears"
          ],
          [
           "Stan"
          ],
          [
           "Radio Free Europe"
          ],
          [
           "Bring The Noise"
          ],
          [
           "Ace Of Spades"
          ],
          [
           "Where Did Our Love Go - Stereo Version"
          ],
          [
           "Teen Age Riot"
          ],
          [
           "(Your Love Keeps Lifting Me) Higher and Higher"
          ],
          [
           "Wake Up"
          ],
          [
           "Rumble"
          ],
          [
           "Gimme Some Lovin' - Single Mix"
          ],
          [
           "Gloria: In Excelsis Deo"
          ],
          [
           "Back In Black"
          ],
          [
           "Tumbling Dice"
          ],
          [
           "Summer in the City - Remastered"
          ],
          [
           "Blind"
          ],
          [
           "Killing In The Name"
          ],
          [
           "Only the Lonely (Know the Way I Feel)"
          ],
          [
           "Just Like Heaven"
          ],
          [
           "Sweet Dreams (Are Made of This) - Remastered"
          ],
          [
           "Young Folks"
          ],
          [
           "Seventeen"
          ],
          [
           "Sweet Home Alabama"
          ],
          [
           "I Can't Explain - Original Mono Version"
          ],
          [
           "Groove Is in the Heart"
          ],
          [
           "Float On"
          ],
          [
           "White Christmas"
          ],
          [
           "You Can't Always Get What You Want"
          ],
          [
           "Move on Up - Extended Version"
          ],
          [
           "cellophane"
          ],
          [
           "I Can't Stand The Rain"
          ],
          [
           "Free Bird"
          ],
          [
           "Bodak Yellow"
          ],
          [
           "Lust For Life"
          ],
          [
           "Heart of Gold"
          ],
          [
           "HUMBLE."
          ],
          [
           "Ashes to Ashes"
          ],
          [
           "King Kunta"
          ],
          [
           "I Say a Little Prayer"
          ],
          [
           "West End Blues"
          ],
          [
           "I Can See For Miles - Mono Version"
          ],
          [
           "I Get Around (Mono)"
          ],
          [
           "More Than a Feeling"
          ],
          [
           "I Am The Walrus - Remastered"
          ],
          [
           "Under the Bridge"
          ],
          [
           "Around the World"
          ],
          [
           "Lola"
          ],
          [
           "Georgia On My Mind"
          ],
          [
           "Do You Realize??"
          ],
          [
           "Hey Joe"
          ],
          [
           "It's The End Of The World As We Know It (And I Feel Fine)"
          ],
          [
           "Body and Soul"
          ],
          [
           "Dazed and Confused - 1990 Remaster"
          ],
          [
           "1901"
          ],
          [
           "Fight For Your Right"
          ],
          [
           "Archangel"
          ],
          [
           "Ticket To Ride - Remastered"
          ],
          [
           "Sultans Of Swing"
          ],
          [
           "Fools Gold - Remastered"
          ],
          [
           "Crying"
          ],
          [
           "West End Girls - 2001 Remaster"
          ],
          [
           "Rocket 88 - Single Version"
          ],
          [
           "Chicago"
          ],
          [
           "Mannish Boy"
          ],
          [
           "Roll Over Beethoven"
          ],
          [
           "Instant Karma! (We All Shine On) - Remastered 2010"
          ],
          [
           "Minnie The Moocher (03-03-31)"
          ],
          [
           "Work"
          ],
          [
           "You Oughta Know"
          ],
          [
           "Pink Moon"
          ],
          [
           "American Pie"
          ],
          [
           "Fake Plastic Trees"
          ],
          [
           "I've Been Loving You Too Long"
          ],
          [
           "No One Knows"
          ],
          [
           "Monkey Gone to Heaven"
          ],
          [
           "Somebody to Love"
          ],
          [
           "Welcome To The Jungle"
          ],
          [
           "Loaded"
          ],
          [
           "Going Underground"
          ],
          [
           "Round Midnight"
          ],
          [
           "Long Tall Sally"
          ],
          [
           "I Put a Spell on You"
          ],
          [
           "Boogie Chillen"
          ],
          [
           "Come Together - Remastered"
          ],
          [
           "Pump Up The Volume (UK 12\" Remix)"
          ],
          [
           "Ohio"
          ],
          [
           "1999"
          ],
          [
           "Glory Box"
          ],
          [
           "Mack the Knife - Edit; 2006 Remaster"
          ],
          [
           "One Nation Under A Groove"
          ],
          [
           "Since U Been Gone"
          ],
          [
           "Jolene"
          ],
          [
           "Blister in the Sun - 2002 Remastered Version"
          ],
          [
           "Moondance"
          ],
          [
           "Jump"
          ],
          [
           "Blank Generation"
          ],
          [
           "Wild Horses"
          ],
          [
           "Norwegian Wood (This Bird Has Flown) - Remastered"
          ],
          [
           "Girls Just Want to Have Fun"
          ],
          [
           "I'm a Believer"
          ],
          [
           "I Will Survive - Single Version"
          ],
          [
           "Another Brick In The Wall, Pt. 2 - 2011 Remastered Version"
          ],
          [
           "Roxanne - Remastered 2003"
          ],
          [
           "A Love Supreme Part I: Acknowledgement"
          ],
          [
           "The Killing Moon"
          ],
          [
           "Under Pressure"
          ],
          [
           "In The Still Of The Nite"
          ],
          [
           "Pride (In The Name Of Love) - Remastered 2009"
          ],
          [
           "Da Doo Ron Ron (When He Walked Me Home)"
          ],
          [
           "My Name Is"
          ],
          [
           "There Goes My Baby - Single Version; 2019 Remaster"
          ],
          [
           "Wolf Like Me"
          ],
          [
           "Just Like Honey"
          ],
          [
           "Bizarre Love Triangle"
          ],
          [
           "Bad Moon Rising"
          ],
          [
           "You Really Got A Hold On Me"
          ],
          [
           "Pedestrian at Best"
          ],
          [
           "Straight Outta Compton"
          ],
          [
           "Dance to the Music"
          ],
          [
           "The End"
          ],
          [
           "St Louis Blues"
          ],
          [
           "The Loco-Motion"
          ],
          [
           "Hannah Hunt"
          ],
          [
           "Paid In Full"
          ],
          [
           "Such Great Heights"
          ],
          [
           "I've Got a Woman"
          ],
          [
           "O Superman"
          ],
          [
           "Another Girl, Another Planet - 2008 re-mastered version"
          ],
          [
           "Sheena Is a Punk Rocker - 2009 Remaster"
          ],
          [
           "Voodoo Child (Slight Return)"
          ],
          [
           "Midnight Train to Georgia"
          ],
          [
           "I Know There's Gonna Be (Good Times)"
          ],
          [
           "Because the Night"
          ],
          [
           "No Scrubs"
          ],
          [
           "You're Gonna Miss Me (2008 Remastered Original Mono LP Version)"
          ],
          [
           "All I Have to Do Is Dream - Single Version; 2006 Remaster"
          ],
          [
           "Come On Eileen"
          ],
          [
           "My Sweet Lord - 2001 Digital Remaster"
          ],
          [
           "Should I Stay or Should I Go"
          ],
          [
           "Yonkers"
          ],
          [
           "Reflektor"
          ],
          [
           "Enjoy the Silence"
          ],
          [
           "New Slang"
          ],
          [
           "Ultralight Beam"
          ],
          [
           "Hope There's Someone"
          ],
          [
           "New Rose"
          ],
          [
           "Ignition - Remix"
          ],
          [
           "Boys Don't Cry"
          ],
          [
           "Street Fighting Man"
          ],
          [
           "I Only Have Eyes For You"
          ],
          [
           "Run Away With Me"
          ],
          [
           "Transmission"
          ],
          [
           "All Apologies"
          ],
          [
           "A Hard Day's Night - Remastered"
          ],
          [
           "Skinny Love"
          ],
          [
           "Me and Bobby McGee"
          ],
          [
           "Music Sounds Better With You - Radio Edit"
          ],
          [
           "Freak Scene"
          ],
          [
           "Queen"
          ],
          [
           "Your Song"
          ],
          [
           "Starman - 2012 Remastered Version"
          ],
          [
           "Make Me Feel"
          ],
          [
           "Crystalised"
          ],
          [
           "The Letter"
          ],
          [
           "Milkshake"
          ],
          [
           "Zombie"
          ],
          [
           "Where It's At"
          ],
          [
           "Come As You Are"
          ],
          [
           "Everybody Hurts"
          ],
          [
           "We Are Your Friends - Justice Vs Simian"
          ],
          [
           "The Rat"
          ],
          [
           "Fire and Rain"
          ],
          [
           "It's A Man's Man's Man's World"
          ],
          [
           "Fuck Tha Police"
          ],
          [
           "Young Americans - 2007 Remaster"
          ],
          [
           "The Seed (2.0)"
          ],
          [
           "September Gurls"
          ],
          [
           "Cathy's Clown - Single Version; 2006 Remaster"
          ],
          [
           "Viva La Vida"
          ],
          [
           "Smokestack Lightnin'"
          ],
          [
           "Nights"
          ],
          [
           "That's Entertainment"
          ],
          [
           "I Love Rock 'N Roll"
          ],
          [
           "Tired Of Being Alone"
          ],
          [
           "Alison"
          ],
          [
           "Cry Me a River"
          ],
          [
           "Rock & Roll"
          ],
          [
           "Rid Of Me"
          ],
          [
           "These Boots Are Made for Walkin'"
          ],
          [
           "Thank You (Falettinme Be Mice Elf Agin) - Single Version"
          ],
          [
           "Black Hole Sun"
          ],
          [
           "You Can't Hurry Love"
          ],
          [
           "Round And Round"
          ],
          [
           "Visions of Johanna"
          ],
          [
           "Venus In Furs"
          ],
          [
           "Shout, Pts. 1 & 2"
          ],
          [
           "Trans-Europe Express - 2009 Remaster"
          ],
          [
           "Rock the Casbah"
          ],
          [
           "Hound Dog"
          ],
          [
           "Clint Eastwood"
          ],
          [
           "Closer"
          ],
          [
           "Ain't No Sunshine"
          ],
          [
           "Juice"
          ],
          [
           "Lazarus"
          ],
          [
           "So What (feat. John Coltrane, Cannonball Adderley & Bill Evans)"
          ],
          [
           "Not"
          ],
          [
           "Time After Time"
          ],
          [
           "We Found Love"
          ],
          [
           "DNA."
          ],
          [
           "Immigrant Song"
          ],
          [
           "I've Got You Under My Skin - Remastered 1998"
          ],
          [
           "Karma Police"
          ],
          [
           "Everlong"
          ],
          [
           "The Twist"
          ],
          [
           "Do I Wanna Know?"
          ],
          [
           "D.A.N.C.E."
          ],
          [
           "Revolution - Remastered"
          ],
          [
           "Work It"
          ],
          [
           "Good Golly Miss Molly"
          ],
          [
           "Who Do You Love - Single Version"
          ],
          [
           "War"
          ],
          [
           "Bloodbuzz Ohio"
          ],
          [
           "Comfortably Numb - 2011 Remastered Version"
          ],
          [
           "Perfect Day"
          ],
          [
           "Sour Times"
          ],
          [
           "Yellow"
          ],
          [
           "Helter Skelter - Remastered"
          ],
          [
           "Cortez The Killer"
          ],
          [
           "Famous Blue Raincoat"
          ],
          [
           "Redemption Song"
          ],
          [
           "Waiting Room"
          ],
          [
           "Juicy - 2005 Remaster"
          ],
          [
           "Get Up, Stand Up"
          ],
          [
           "Ne me quitte pas"
          ],
          [
           "It's Too Late"
          ],
          [
           "The Rockafeller Skank - Full Version"
          ],
          [
           "Desolation Row"
          ],
          [
           "Since I Left You"
          ],
          [
           "In The Air Tonight"
          ],
          [
           "Shut Up Kiss Me"
          ],
          [
           "Hate To Say I Told You So"
          ],
          [
           "I Never Loved a Man (The Way I Love You)"
          ],
          [
           "Riders on the Storm"
          ],
          [
           "I'm Not In Love"
          ],
          [
           "Stand By Your Man"
          ],
          [
           "Wake up Little Susie - Single Version; 2006 Remaster"
          ],
          [
           "Unchained Melody"
          ],
          [
           "Blackstar"
          ],
          [
           "The One I Love"
          ],
          [
           "Ray of Light"
          ],
          [
           "Ain't That A Shame"
          ],
          [
           "thank u, next"
          ],
          [
           "Working Class Hero - Remastered 2010"
          ],
          [
           "Chain of Fools"
          ],
          [
           "The Night They Drove Old Dixie Down - Remastered 2000"
          ],
          [
           "Holocene"
          ],
          [
           "Cut Your Hair"
          ],
          [
           "Blue Yodel #1 (t For Texas)"
          ],
          [
           "...Baby One More Time"
          ],
          [
           "Jeremy"
          ],
          [
           "Vogue"
          ],
          [
           "I Still Haven't Found What I'm Looking For - Remastered 2007"
          ],
          [
           "Dreams"
          ],
          [
           "Old Town Road - Remix"
          ],
          [
           "Higher Ground"
          ],
          [
           "Who'll Stop The Rain"
          ],
          [
           "He's a Rebel"
          ],
          [
           "Walk This Way"
          ],
          [
           "Friday On My Mind"
          ],
          [
           "California Love"
          ],
          [
           "The River"
          ],
          [
           "The Harder They Come - From \"The Harder They Come\" Soundtrack"
          ],
          [
           "MALAMENTE - Cap.1: Augurio"
          ],
          [
           "Everyday People"
          ],
          [
           "Soul Man"
          ],
          [
           "The Thrill Is Gone"
          ],
          [
           "Waterfalls"
          ],
          [
           "Take on Me"
          ],
          [
           "White Winter Hymnal"
          ],
          [
           "The Passenger"
          ],
          [
           "Odessa"
          ],
          [
           "Everything Is Embarrassing"
          ],
          [
           "Bags"
          ],
          [
           "In the Mood"
          ],
          [
           "Do You Believe in Magic?"
          ],
          [
           "Earth Angel (Will You Be Mine)"
          ],
          [
           "Can't Do Without You"
          ],
          [
           "Fairytale of New York (feat. Kirsty MacColl)"
          ],
          [
           "Sprawl II (Mountains Beyond Mountains)"
          ],
          [
           "Lisztomania"
          ],
          [
           "Killing Me Softly With His Song"
          ],
          [
           "My Funny Valentine"
          ],
          [
           "Message In A Bottle"
          ],
          [
           "Koko"
          ],
          [
           "Someone Great"
          ],
          [
           "The Boxer"
          ],
          [
           "Teardrop"
          ],
          [
           "Fade Into You"
          ],
          [
           "Personal Jesus"
          ],
          [
           "Thirteen"
          ],
          [
           "Where The Streets Have No Name - Remastered 2007"
          ],
          [
           "Back To Life (However Do You Want Me) [feat. Caron Wheeler] - 2003 Remastered Version"
          ],
          [
           "All You Need Is Love - Remastered"
          ],
          [
           "Yakety Yak"
          ],
          [
           "Tightrope (feat. Big Boi) - Big Boi Vocal Edit"
          ],
          [
           "I Fought the Law - Single Version"
          ],
          [
           "Push It"
          ],
          [
           "Love Is The Drug"
          ],
          [
           "I Will Move On Up A Little Higher - Part 1"
          ],
          [
           "The House That Heaven Built"
          ],
          [
           "What A Wonderful World"
          ],
          [
           "Jesus, Etc."
          ],
          [
           "Cry Me A River"
          ],
          [
           "Brimful of Asha (Norman Cook Remix) (Single Version)"
          ],
          [
           "All Right Now"
          ],
          [
           "Daniel"
          ],
          [
           "Shipbuilding - Remastered in 1998"
          ],
          [
           "Chandelier"
          ],
          [
           "Retrograde"
          ],
          [
           "Paperback Writer - Remastered"
          ],
          [
           "Standing In The Way Of Control"
          ],
          [
           "Rockin' in the Free World"
          ],
          [
           "Let's Dance - 1999 Remaster"
          ],
          [
           "One Day Like This"
          ],
          [
           "You Shook Me All Night Long"
          ],
          [
           "Apache"
          ],
          [
           "Happiness Is A Warm Gun - Remastered"
          ],
          [
           "Telstar - Remastered"
          ],
          [
           "At Last - Single Version"
          ],
          [
           "Hard To Explain"
          ],
          [
           "Rebel Rebel - 1999 Remaster"
          ],
          [
           "Fast Car"
          ],
          [
           "Shine On You Crazy Diamond, Pts. 1-5 - 2011 Remastered Version"
          ],
          [
           "More Than This"
          ],
          [
           "Dust My Broom"
          ],
          [
           "Losing You"
          ],
          [
           "Hallelujah"
          ],
          [
           "Blue Moon Of Kentucky - Original"
          ],
          [
           "Hallelujah"
          ],
          [
           "Piece of My Heart"
          ],
          [
           "Police & Thieves"
          ],
          [
           "Hold On, We're Going Home"
          ],
          [
           "Maybe I’m Amazed - Remastered 2011"
          ],
          [
           "True Faith - 2015 Remaster"
          ],
          [
           "A-Punk"
          ],
          [
           "White Lines (Don't Don't Do It) - Long Version"
          ],
          [
           "Block Rockin' Beats"
          ],
          [
           "Love To Love You Baby"
          ],
          [
           "Digital Love"
          ],
          [
           "Video Killed The Radio Star"
          ],
          [
           "Doo Wop (That Thing)"
          ],
          [
           "Dream On"
          ],
          [
           "21st Century Schizoid Man"
          ],
          [
           "Miss You - Remastered"
          ],
          [
           "Positively 4th Street - Single Version"
          ],
          [
           "Here Comes The Sun - Remastered"
          ],
          [
           "Last Goodbye"
          ],
          [
           "Gone"
          ],
          [
           "Bad Romance"
          ],
          [
           "Me Myself And I"
          ],
          [
           "Pretty Vacant"
          ],
          [
           "Shot By Both Sides - Remastered"
          ],
          [
           "Boom Boom"
          ],
          [
           "Knockin' On Heaven's Door"
          ],
          [
           "Move It - 2000 Remaster"
          ],
          [
           "Please Mr. Postman - Single Version / Mono"
          ],
          [
           "Single Ladies (Put a Ring on It)"
          ],
          [
           "Just Like a Woman"
          ],
          [
           "The Boys Of Summer"
          ],
          [
           "This Town Ain't Big Enough For Both Of Us"
          ],
          [
           "The Dark End of the Street"
          ],
          [
           "Alive"
          ],
          [
           "Personality Crisis"
          ],
          [
           "I Wanna Be Sedated - Remastered"
          ],
          [
           "New Year's Day"
          ],
          [
           "Archie, Marry Me"
          ],
          [
           "Heart-Shaped Box"
          ],
          [
           "Love It If We Made It"
          ],
          [
           "Turn! Turn! Turn! (To Everything There Is a Season)"
          ],
          [
           "Public Image"
          ],
          [
           "Rock Lobster"
          ],
          [
           "How High The Moon"
          ],
          [
           "Inner City Blues (Make Me Wanna Holler)"
          ],
          [
           "Surrender"
          ],
          [
           "Take Five"
          ],
          [
           "Call Me Maybe"
          ],
          [
           "Feels Like We Only Go Backwards"
          ],
          [
           "My Love - Single Version"
          ],
          [
           "Runaround Sue"
          ],
          [
           "Let's Spend The Night Together - Stereo Version"
          ],
          [
           "Band Of Gold (Single Mix)"
          ],
          [
           "I'm A Man - Single Version"
          ],
          [
           "Everyday Is Like Sunday"
          ],
          [
           "1 Thing"
          ],
          [
           "Livin' On A Prayer"
          ],
          [
           "Damaged Goods"
          ],
          [
           "Lithium"
          ],
          [
           "Buddy Holly"
          ],
          [
           "Ni**as In Paris"
          ],
          [
           "It Takes Two"
          ],
          [
           "Hey Hey, My My (Into The Black)"
          ],
          [
           "Hurricane"
          ],
          [
           "Don't Look Back In Anger"
          ],
          [
           "I Wanna Dance with Somebody (Who Loves Me)"
          ],
          [
           "Say It Loud - I'm Black And I'm Proud"
          ],
          [
           "Drop It Like It's Hot"
          ],
          [
           "L.E.S Artistes"
          ],
          [
           "Can't Stand Me Now"
          ],
          [
           "Atlas"
          ],
          [
           "Suite: Judy Blue Eyes - 2005 Remaster"
          ],
          [
           "Substitute - Single Version"
          ],
          [
           "Birthday"
          ],
          [
           "One O'clock Jump"
          ],
          [
           "Banquet"
          ],
          [
           "(Love Is Like A) Heat Wave - Single Version"
          ],
          [
           "Cars - Remastered 2009"
          ],
          [
           "I Fall To Pieces - Single Version"
          ],
          [
           "Try Again"
          ],
          [
           "Rebel Without A Pause"
          ],
          [
           "Complete Control"
          ],
          [
           "Don't Believe The Hype"
          ],
          [
           "Jealous Guy - Remastered 2010"
          ],
          [
           "Race For The Prize"
          ],
          [
           "Lucy In The Sky With Diamonds - Remastered"
          ],
          [
           "Fix Up, Look Sharp"
          ],
          [
           "Clocks"
          ],
          [
           "Angie - Remastered 2009"
          ],
          [
           "Just My Imagination (Running Away With Me)"
          ],
          [
           "Night Moves"
          ],
          [
           "Sex & Drugs & Rock & Roll"
          ],
          [
           "Iron Man"
          ],
          [
           "Wooly Bully"
          ],
          [
           "Climax"
          ],
          [
           "American Girl"
          ],
          [
           "Money - 2011 Remastered Version"
          ],
          [
           "Little Wing"
          ],
          [
           "River Man"
          ],
          [
           "Everything in Its Right Place"
          ],
          [
           "Ode To Billie Joe"
          ],
          [
           "Summer Babe (Winter Version)"
          ],
          [
           "Making Plans For Nigel"
          ],
          [
           "Faith - Remastered"
          ],
          [
           "Surfin' Usa"
          ],
          [
           "America - Single Mix"
          ],
          [
           "Surf's Up - Remastered 2009"
          ],
          [
           "Uptown Top Ranking - Remastered 2001"
          ],
          [
           "The Revolution Will Not Be Televised"
          ],
          [
           "Thriller"
          ],
          [
           "Hellhound On My Trail"
          ],
          [
           "Take the \"A\" Train"
          ],
          [
           "My Sharona"
          ],
          [
           "Some Velvet Morning"
          ],
          [
           "Watching The Detectives"
          ],
          [
           "Missing - Todd Terry Remix / Radio Edit"
          ],
          [
           "The Tears Of A Clown - Single Version / Mono"
          ],
          [
           "Atlantic City"
          ],
          [
           "Free Fallin'"
          ],
          [
           "A Case of You"
          ],
          [
           "I Got You Babe"
          ],
          [
           "EARFQUAKE"
          ],
          [
           "God Bless The Child"
          ],
          [
           "Walk Away Renee"
          ],
          [
           "The Mercy Seat - 2010 Digital Remaster"
          ],
          [
           "Pyramid Song"
          ],
          [
           "Can't Feel My Face"
          ],
          [
           "Holiday In Cambodia"
          ],
          [
           "Solsbury Hill"
          ],
          [
           "Borderline"
          ],
          [
           "Goodbye Yellow Brick Road"
          ],
          [
           "Genius Of Love"
          ],
          [
           "A Milli"
          ],
          [
           "Ballad of a Thin Man"
          ],
          [
           "No Diggity"
          ],
          [
           "Me and Guiliani Down by the School Yard - A True Story"
          ],
          [
           "Oliver's Army"
          ],
          [
           "Mrs. Robinson"
          ],
          [
           "Master Of Puppets"
          ],
          [
           "Monster"
          ],
          [
           "Bipp"
          ],
          [
           "Psychotic Reaction"
          ],
          [
           "In Da Club"
          ],
          [
           "Super Freak"
          ],
          [
           "Give It Away"
          ],
          [
           "Tiny Dancer"
          ],
          [
           "A Hard Rain's A-Gonna Fall"
          ],
          [
           "In the Ghetto"
          ],
          [
           "Sound and Vision - 1999 Remaster"
          ],
          [
           "Uptown Funk (feat. Bruno Mars)"
          ],
          [
           "Beautiful Day"
          ],
          [
           "Rock with You - Single Version"
          ],
          [
           "La Grange - 2005 Remaster"
          ],
          [
           "A Forest"
          ],
          [
           "Mask Off (feat. Kendrick Lamar) - Remix"
          ],
          [
           "Spanish Harlem"
          ],
          [
           "Close To Me"
          ],
          [
           "Galang"
          ],
          [
           "Soon"
          ],
          [
           "Hyperballad"
          ],
          [
           "The Needle and the Damage Done - 2009 Remaster"
          ],
          [
           "She's Not There"
          ],
          [
           "Stillness Is The Move"
          ],
          [
           "Pressure Drop - Single Version"
          ],
          [
           "Dancing In The Dark"
          ],
          [
           "The Real Slim Shady"
          ],
          [
           "California Girls - Remix/Remastered 2001"
          ],
          [
           "Crimson & Clover"
          ],
          [
           "Across The Universe - Remastered"
          ],
          [
           "Masters of War"
          ],
          [
           "Say It Ain't So"
          ],
          [
           "The Sun Ain't Gonna Shine Anymore - Mono Version"
          ],
          [
           "American Idiot"
          ],
          [
           "After the Gold Rush"
          ],
          [
           "Everybody's Talkin' - From \"Midnight Cowboy\""
          ],
          [
           "Call Me"
          ],
          [
           "You're so Vain"
          ],
          [
           "Feel Good Inc."
          ],
          [
           "Bela Lugosi’s Dead"
          ],
          [
           "Champagne Supernova"
          ],
          [
           "C.R.E.A.M. (Cash Rules Everything Around Me) (feat. Method Man, Raekwon, Inspectah Deck & Buddha Monk)"
          ],
          [
           "My Favorite Things"
          ],
          [
           "About A Girl - Remastered"
          ],
          [
           "Lady Marmalade - Single Version"
          ],
          [
           "Caught Out There"
          ],
          [
           "Sex on Fire"
          ],
          [
           "Mind Playing Tricks On Me"
          ],
          [
           "In Dreams"
          ],
          [
           "Call It Stormy Monday (But Tuesday Is Just As Bad)"
          ],
          [
           "Basket Case"
          ],
          [
           "Train in Vain"
          ],
          [
           "Gold Soundz"
          ],
          [
           "Back Stabbers"
          ],
          [
           "Nobody"
          ],
          [
           "Sledgehammer"
          ],
          [
           "Don't Dream It's Over"
          ],
          [
           "1234"
          ],
          [
           "Super Bass"
          ],
          [
           "We Will Rock You"
          ],
          [
           "Blank Space"
          ],
          [
           "Money (That's What I Want) - Single Version / Mono"
          ],
          [
           "Piano Man"
          ],
          [
           "It's Like That"
          ],
          [
           "Walk, Don't Run"
          ],
          [
           "Atomic Dog"
          ],
          [
           "You Get What You Give"
          ],
          [
           "What You Know"
          ],
          [
           "Only Shallow"
          ],
          [
           "You Made Me Realise - Remastered Version"
          ],
          [
           "Everybody Wants To Rule The World"
          ],
          [
           "Touch Me I'm Sick"
          ],
          [
           "He Stopped Loving Her Today - Single Version"
          ],
          [
           "I Saw Her Standing There - Remastered"
          ],
          [
           "Who Knows Where The Time Goes?"
          ],
          [
           "Mood Indigo"
          ],
          [
           "You Keep Me Hangin' On - Album Version / Stereo"
          ],
          [
           "Only You - And You Alone"
          ],
          [
           "Rock Island Line - Mono Version"
          ],
          [
           "Mercy Mercy Me (The Ecology)"
          ],
          [
           "Atmosphere"
          ],
          [
           "It's Alright, Ma (I'm Only Bleeding)"
          ],
          [
           "Rock And Roll"
          ],
          [
           "Don't Think Twice, It's All Right"
          ],
          [
           "I Shot The Sheriff"
          ],
          [
           "Machine Gun"
          ],
          [
           "Got My Mojo Working"
          ],
          [
           "Int'l Players Anthem (I Choose You)"
          ],
          [
           "Loud Places"
          ],
          [
           "Sail Away - 2002 Remaster"
          ],
          [
           "L.A. Woman - Remaster"
          ],
          [
           "Fame - 2007 Remaster"
          ],
          [
           "Red Eyes"
          ],
          [
           "My Way"
          ],
          [
           "Lonely Boy"
          ],
          [
           "Ain't Misbehavin"
          ],
          [
           "Supersonic"
          ],
          [
           "My Guy - Single Version"
          ],
          [
           "Boy From School"
          ],
          [
           "Band On The Run - Remastered 2010"
          ],
          [
           "The Scientist"
          ],
          [
           "Praise You"
          ],
          [
           "Buffalo Stance"
          ],
          [
           "Coal Miner's Daughter - Single Version"
          ],
          [
           "Ain't No Mountain High Enough - Stereo Version"
          ],
          [
           "Caldonia"
          ],
          [
           "Sunday Morning"
          ],
          [
           "Lucille"
          ],
          [
           "Hit the Road Jack"
          ],
          [
           "Big Yellow Taxi"
          ],
          [
           "Jungleland"
          ],
          [
           "You Want It Darker"
          ],
          [
           "Dark Star - Single Version"
          ],
          [
           "White Riot"
          ],
          [
           "SICKO MODE"
          ],
          [
           "Are 'Friends' Electric?"
          ],
          [
           "Izzo (H.O.V.A.)"
          ],
          [
           "We Are The Champions - Remastered 2011"
          ],
          [
           "Hold On, I'm Comin'"
          ],
          [
           "Gin And Juice (feat. Dat Nigga Daz)"
          ],
          [
           "Whip It"
          ],
          [
           "Love In Vain"
          ],
          [
           "Paradise City"
          ],
          [
           "Astronomy Domine - 2011 Remastered Version"
          ],
          [
           "Ruby Tuesday - Stereo Version"
          ],
          [
           "I Like It"
          ],
          [
           "Bro's"
          ],
          [
           "Águas De Março"
          ],
          [
           "Sing, Sing, Sing"
          ],
          [
           "The Wilhelm Scream"
          ],
          [
           "Strings Of Life"
          ],
          [
           "Start Me Up - Remastered"
          ],
          [
           "Out of Time"
          ],
          [
           "Down By The Water"
          ],
          [
           "Animal Nitrate (Remastered)"
          ],
          [
           "Do You Really Want To Hurt Me"
          ],
          [
           "It Was A Good Day"
          ],
          [
           "You've Got To Hide Your Love Away - Remastered"
          ],
          [
           "Aqualung"
          ],
          [
           "When The Levee Breaks"
          ],
          [
           "Redbone"
          ],
          [
           "Latch"
          ],
          [
           "Step On"
          ],
          [
           "Sexy Boy"
          ],
          [
           "Time of the Season"
          ],
          [
           "If You Don't Know Me by Now (feat. Teddy Pendergrass)"
          ],
          [
           "Hurt"
          ],
          [
           "Wildwood Flower"
          ],
          [
           "Love Me Tender - From the 20th Century-Fox CinemaScope Production \"Love Me Tender\""
          ],
          [
           "A Teenager In Love"
          ],
          [
           "Superstar"
          ],
          [
           "Waltz #2 (XO)"
          ],
          [
           "Rollin' Stone"
          ],
          [
           "Wonderful World"
          ],
          [
           "Protect Ya Neck (feat. RZA, Method Man, Inspectah Deck, Raekwon, U-God, Ol' Dirty Bastard, Ghostface Killah & GZA)"
          ],
          [
           "Hung Up"
          ],
          [
           "Have You Ever Seen The Rain?"
          ],
          [
           "I Wanna Be Adored - Remastered"
          ],
          [
           "A New England"
          ],
          [
           "The Man Who Sold The World - 1999 Remastered Version"
          ],
          [
           "Cry"
          ],
          [
           "Down In The Tube Station At Midnight - Full Version"
          ],
          [
           "War Pigs"
          ],
          [
           "Don't Stop Believin'"
          ],
          [
           "(You Make Me Feel Like) A Natural Woman"
          ],
          [
           "Flying Home"
          ],
          [
           "Rocket Man (I Think It's Going To Be A Long Long Time)"
          ],
          [
           "The Adventures Of Grandmaster Flash On The Wheels Of Steel"
          ],
          [
           "Rosalita (Come out Tonight)"
          ],
          [
           "Staring At The Sun"
          ],
          [
           "O.P.P"
          ],
          [
           "C'mon Everybody"
          ],
          [
           "Zero"
          ],
          [
           "Fever"
          ],
          [
           "Into My Arms - 2011 - Remaster"
          ],
          [
           "Blind Willie McTell - Studio Outtake - 1983"
          ],
          [
           "Golden Skans"
          ],
          [
           "Wouldn't It Be Nice - Mono / Remastered"
          ],
          [
           "Do You Love Me - Mono Single"
          ],
          [
           "We Are Family - 1995 Remaster"
          ],
          [
           "Wannabe"
          ],
          [
           "Uptight (Everything's Alright) - Single Version"
          ],
          [
           "Under My Thumb"
          ],
          [
           "Atomic - Remastered/2001"
          ],
          [
           "The Breaks"
          ],
          [
           "Harmony Hall"
          ],
          [
           "Golden Slumbers - Remastered"
          ],
          [
           "You Make Me Feel (Mighty Real)"
          ],
          [
           "Good Riddance (Time of Your Life)"
          ],
          [
           "Luka"
          ],
          [
           "Sea Song"
          ],
          [
           "Then He Kissed Me"
          ],
          [
           "Help Me"
          ],
          [
           "White Room"
          ],
          [
           "What's Love Got To Do WIth It - 1997 Digital Remaster"
          ],
          [
           "The Winner Takes It All"
          ],
          [
           "Baby Love - Mono"
          ],
          [
           "For Your Love"
          ],
          [
           "Stay with Me - 2008 Remaster"
          ],
          [
           "Take Me To The River"
          ],
          [
           "Please Please Me - Remastered"
          ],
          [
           "Dark Was the Night, Cold Was the Ground"
          ],
          [
           "She's Gone"
          ],
          [
           "Rain - Remastered"
          ],
          [
           "The Great Pretender"
          ],
          [
           "Rock And Roll All Nite"
          ],
          [
           "Nuages - avec le Quintette Hot Club de France"
          ],
          [
           "Rockit"
          ],
          [
           "Drunk Drivers/Killer Whales"
          ],
          [
           "Pinball Wizard - Original Album Version"
          ],
          [
           "Up on the Roof - Single Version; 2017 Remaster"
          ],
          [
           "Burning Down the House - 2005 Remaster"
          ],
          [
           "Good Lovin' - Single Version"
          ],
          [
           "Cold Sweat"
          ],
          [
           "Sir Duke"
          ],
          [
           "Hong Kong Garden"
          ],
          [
           "20th Century Boy"
          ],
          [
           "Say My Name"
          ],
          [
           "No Surprises"
          ],
          [
           "Midnight Special"
          ],
          [
           "Timeless"
          ],
          [
           "Like a Hurricane"
          ],
          [
           "Ready or Not"
          ],
          [
           "Ramblin' Man"
          ],
          [
           "Lawdy Miss Clawdy - Single Version"
          ],
          [
           "Lonely Teardrops"
          ],
          [
           "Word Up"
          ],
          [
           "Gigantic"
          ],
          [
           "Jump Around"
          ],
          [
           "Save the Last Dance for Me - 2009 Remaster"
          ],
          [
           "Itchycoo Park"
          ],
          [
           "Temptation [7\" Version]"
          ],
          [
           "With Every Heartbeat - with Kleerup"
          ],
          [
           "Sh-Boom"
          ],
          [
           "Live and Let Die"
          ],
          [
           "I Can't Stop Loving You"
          ],
          [
           "All Along the Watchtower"
          ],
          [
           "Music"
          ],
          [
           "Happy Together"
          ],
          [
           "Honey"
          ],
          [
           "Not Fade Away"
          ],
          [
           "Teenage Dream"
          ],
          [
           "At The Hop"
          ],
          [
           "Your Cheatin' Heart - Single Version"
          ],
          [
           "Black Skinhead"
          ],
          [
           "Bring It On Home To Me"
          ],
          [
           "I Feel for You"
          ],
          [
           "Whipping Post"
          ],
          [
           "Just What I Needed"
          ],
          [
           "Get Off Of My Cloud - Mono Version / Remastered 2002"
          ],
          [
           "We The People...."
          ],
          [
           "Flash Light"
          ],
          [
           "Norf Norf"
          ],
          [
           "Killer Queen - Remastered 2011"
          ],
          [
           "She's Lost Control - 12\" Single Version"
          ],
          [
           "Reelin' In The Years"
          ],
          [
           "Helplessness Blues"
          ],
          [
           "Devils Haircut"
          ],
          [
           "Black Magic Woman / Gypsy Queen"
          ],
          [
           "A Girl Like You"
          ],
          [
           "Superfly"
          ],
          [
           "Sweet Little Sixteen"
          ],
          [
           "Wicked Game"
          ],
          [
           "Gangsters - 2015 Remaster"
          ],
          [
           "Dry Your Eyes"
          ],
          [
           "Electric Feel"
          ],
          [
           "Runnin' With The Devil"
          ],
          [
           "Holiday"
          ],
          [
           "Grindin'"
          ],
          [
           "Sister Ray"
          ],
          [
           "I Will Dare"
          ],
          [
           "Swanee"
          ],
          [
           "Don't You (Forget About Me)"
          ],
          [
           "Blackbird - Remastered"
          ],
          [
           "It Wasn't God Who Made Honky Tonk Angels"
          ],
          [
           "I Luv U"
          ],
          [
           "Soul Makossa"
          ],
          [
           "Regret"
          ],
          [
           "Black (First Movement Of Black, Brown And Beige) - Live"
          ],
          [
           "Can the Circle Be Unbroken"
          ],
          [
           "Little Fluffy Clouds"
          ],
          [
           "Kansas City"
          ],
          [
           "POWER"
          ],
          [
           "Sunny Afternoon"
          ],
          [
           "Crosstown Traffic"
          ],
          [
           "Pony Blues"
          ],
          [
           "It's a Sin - 2001 Remaster"
          ],
          [
           "One for My Baby - and One More for the Road"
          ],
          [
           "The Rip"
          ],
          [
           "Black Beatles"
          ],
          [
           "Manteca"
          ],
          [
           "Duke Of Earl"
          ],
          [
           "I Can’t Help Myself (Sugar Pie, Honey Bunch)"
          ],
          [
           "In My Room - Remastered"
          ],
          [
           "Rebel Girl"
          ],
          [
           "Mama Tried - Remastered 2001"
          ],
          [
           "Pristine"
          ],
          [
           "Ain't Too Proud To Beg"
          ],
          [
           "Rhapsody In Blue"
          ],
          [
           "Sixteen Tons"
          ],
          [
           "On Broadway - 2018 Remaster"
          ],
          [
           "Wipe Out"
          ],
          [
           "Connection"
          ],
          [
           "Disco Inferno"
          ],
          [
           "Crazy Blues"
          ],
          [
           "Fuck You"
          ],
          [
           "Hey Boy Hey Girl"
          ],
          [
           "I Want to Know What Love Is - 1999 Remaster"
          ],
          [
           "I Want You"
          ],
          [
           "The Suburbs"
          ],
          [
           "Dum Surfer"
          ],
          [
           "Black and Tan Fantasy"
          ],
          [
           "Our House (Remastered)"
          ]
         ],
         "hovertemplate": "x=%{x}<br>y=%{y}<br>title=%{customdata[0]}<br>cluster=%{marker.color}<extra></extra>",
         "legendgroup": "",
         "marker": {
          "color": [
           8,
           1,
           4,
           4,
           1,
           8,
           8,
           5,
           6,
           1,
           6,
           4,
           5,
           6,
           0,
           6,
           4,
           1,
           5,
           1,
           1,
           2,
           4,
           1,
           4,
           2,
           1,
           4,
           3,
           0,
           6,
           1,
           5,
           6,
           3,
           1,
           2,
           6,
           6,
           5,
           4,
           0,
           0,
           6,
           1,
           8,
           4,
           5,
           6,
           5,
           2,
           1,
           6,
           0,
           8,
           4,
           9,
           8,
           5,
           1,
           5,
           4,
           5,
           6,
           2,
           8,
           5,
           2,
           2,
           3,
           9,
           5,
           2,
           5,
           2,
           9,
           1,
           0,
           6,
           1,
           6,
           1,
           0,
           1,
           8,
           5,
           5,
           5,
           8,
           1,
           7,
           0,
           8,
           6,
           4,
           4,
           6,
           1,
           6,
           5,
           0,
           1,
           4,
           4,
           0,
           1,
           4,
           1,
           6,
           8,
           1,
           8,
           7,
           1,
           6,
           4,
           1,
           2,
           4,
           1,
           1,
           4,
           1,
           1,
           1,
           1,
           4,
           6,
           0,
           3,
           5,
           0,
           1,
           0,
           5,
           5,
           1,
           6,
           4,
           4,
           1,
           0,
           4,
           3,
           5,
           8,
           3,
           8,
           4,
           7,
           1,
           5,
           5,
           3,
           1,
           9,
           5,
           9,
           6,
           6,
           2,
           6,
           6,
           6,
           6,
           8,
           8,
           7,
           4,
           5,
           5,
           2,
           1,
           4,
           8,
           1,
           8,
           6,
           8,
           6,
           6,
           1,
           4,
           7,
           5,
           4,
           0,
           0,
           6,
           0,
           8,
           1,
           5,
           4,
           4,
           2,
           1,
           1,
           6,
           2,
           5,
           8,
           9,
           9,
           1,
           3,
           6,
           3,
           1,
           6,
           5,
           3,
           8,
           1,
           5,
           1,
           5,
           1,
           5,
           1,
           1,
           6,
           1,
           6,
           5,
           4,
           8,
           4,
           1,
           6,
           1,
           5,
           8,
           4,
           5,
           0,
           9,
           9,
           5,
           4,
           8,
           4,
           3,
           2,
           1,
           5,
           6,
           5,
           3,
           4,
           4,
           9,
           5,
           1,
           0,
           6,
           0,
           0,
           1,
           5,
           1,
           6,
           4,
           6,
           4,
           5,
           9,
           8,
           5,
           6,
           6,
           1,
           2,
           2,
           5,
           5,
           5,
           8,
           6,
           1,
           0,
           8,
           4,
           4,
           2,
           1,
           4,
           1,
           6,
           9,
           6,
           0,
           0,
           9,
           8,
           1,
           9,
           2,
           9,
           1,
           8,
           1,
           5,
           1,
           9,
           5,
           6,
           1,
           4,
           1,
           2,
           5,
           2,
           5,
           1,
           5,
           1,
           5,
           1,
           5,
           5,
           1,
           0,
           8,
           6,
           2,
           1,
           5,
           6,
           8,
           5,
           1,
           1,
           6,
           8,
           4,
           4,
           0,
           4,
           1,
           5,
           6,
           5,
           1,
           6,
           1,
           6,
           4,
           9,
           5,
           6,
           5,
           1,
           4,
           0,
           1,
           4,
           5,
           5,
           5,
           9,
           3,
           1,
           1,
           0,
           5,
           1,
           7,
           4,
           6,
           9,
           4,
           3,
           2,
           6,
           9,
           6,
           8,
           9,
           4,
           4,
           3,
           8,
           6,
           1,
           5,
           0,
           5,
           9,
           1,
           3,
           1,
           4,
           0,
           1,
           8,
           0,
           1,
           6,
           6,
           6,
           9,
           6,
           1,
           5,
           4,
           3,
           1,
           1,
           6,
           1,
           2,
           4,
           8,
           1,
           9,
           8,
           8,
           2,
           6,
           5,
           0,
           0,
           1,
           3,
           5,
           8,
           8,
           7,
           9,
           1,
           4,
           2,
           5,
           2,
           9,
           5,
           1,
           2,
           6,
           6,
           6,
           6,
           0,
           9,
           1,
           6,
           1,
           2,
           6,
           4,
           1,
           2,
           3,
           5,
           8,
           6,
           1,
           3,
           8,
           5,
           4,
           1,
           4,
           4,
           2,
           5,
           5,
           4,
           4,
           8,
           9,
           6,
           8,
           7,
           1,
           6,
           3,
           6,
           5,
           4,
           3,
           2,
           5,
           1,
           5,
           1,
           6,
           9,
           6,
           1,
           8,
           9,
           9,
           6,
           5,
           9,
           9,
           8,
           5,
           6,
           0,
           4,
           0,
           5,
           0,
           6,
           9,
           6,
           0,
           6,
           8,
           6,
           4,
           5,
           4,
           1,
           2,
           0,
           4,
           4,
           6,
           1,
           4,
           2,
           5,
           2,
           1,
           1,
           1,
           5,
           4,
           3,
           6,
           5,
           0,
           4,
           3,
           4,
           0,
           2,
           2,
           9,
           9,
           2,
           7,
           5,
           4,
           5,
           5,
           8,
           6,
           4,
           9,
           1,
           3,
           7,
           8,
           0,
           1,
           1,
           3,
           8,
           1,
           4,
           6,
           9,
           6,
           5,
           8,
           1,
           1,
           8,
           1,
           1,
           1,
           8,
           1,
           8,
           4,
           1,
           6,
           8,
           8,
           6,
           8,
           6,
           6,
           1,
           1,
           8,
           8,
           9,
           8,
           9,
           0,
           4,
           5,
           1,
           4,
           9,
           6,
           9,
           8,
           4,
           6,
           3,
           5,
           9,
           5,
           1,
           4,
           1,
           6,
           8,
           6,
           8,
           9,
           5,
           3,
           9,
           3,
           1,
           8,
           6,
           9,
           8,
           9,
           1,
           1,
           5,
           6,
           5,
           1,
           0,
           4,
           0,
           3,
           0,
           5,
           4,
           7,
           8,
           8,
           1,
           4,
           3,
           3,
           5,
           6,
           6,
           4,
           8,
           1,
           8,
           0,
           4,
           0,
           8,
           2,
           4,
           0,
           6,
           9,
           5,
           6,
           8,
           1,
           8,
           5,
           5,
           1,
           4,
           1,
           1,
           2,
           4,
           1,
           1,
           9,
           5,
           5,
           1,
           6,
           5,
           5,
           5,
           8,
           0,
           5,
           9,
           9,
           1,
           9,
           1,
           0,
           2,
           1,
           1,
           6,
           1,
           0,
           2,
           1,
           8,
           1,
           1,
           2,
           8,
           5,
           8,
           5,
           1,
           1,
           2,
           8,
           5,
           5,
           4,
           5,
           4,
           3,
           6,
           6,
           1,
           9,
           2,
           2,
           5,
           2,
           4,
           5,
           3,
           2,
           6,
           4,
           4,
           8,
           1,
           5,
           9,
           4,
           8,
           3,
           8,
           9,
           4,
           9,
           0,
           8,
           8,
           1,
           3,
           4,
           8,
           9,
           8,
           9,
           4,
           8,
           4,
           6,
           6,
           1,
           4,
           5,
           9,
           8,
           8,
           3,
           9,
           5,
           4,
           6,
           5,
           3,
           8,
           4,
           8,
           2,
           4,
           2,
           0,
           1,
           9,
           0,
           2,
           6,
           5,
           2,
           6,
           8,
           4,
           4,
           4,
           1,
           8,
           5,
           8,
           2,
           0,
           2,
           1,
           0,
           1,
           0,
           4,
           3,
           6,
           1,
           1,
           5,
           6,
           8,
           8,
           1,
           3,
           1,
           5,
           5,
           9,
           4,
           8,
           8,
           8,
           7,
           5,
           2,
           7,
           6,
           1,
           8,
           8,
           2,
           1,
           9,
           8,
           1,
           5,
           8,
           1,
           8,
           4,
           1,
           2,
           6,
           1,
           1,
           3,
           8,
           1,
           2,
           1,
           5,
           0,
           0,
           1,
           0,
           9,
           1,
           9,
           9,
           6,
           3,
           1,
           0,
           4,
           4,
           5,
           9,
           2,
           5,
           1,
           2,
           5,
           4,
           5,
           5,
           5,
           4,
           5,
           9,
           5,
           1,
           6,
           1,
           4,
           0,
           8,
           9,
           1,
           1,
           4,
           1,
           2,
           1,
           7,
           9,
           9,
           0,
           2,
           5,
           2,
           4,
           8,
           5,
           8,
           9,
           5,
           4,
           4,
           6,
           7,
           9,
           7,
           0,
           0,
           1,
           5,
           1,
           5,
           6,
           6,
           3,
           6,
           0,
           1,
           1,
           0,
           0,
           6,
           3,
           9,
           9,
           4,
           9,
           4,
           3,
           9,
           1,
           2,
           6,
           1,
           6,
           1,
           4,
           9,
           5,
           5,
           8,
           3,
           1,
           4,
           2,
           5,
           5,
           6,
           1,
           5,
           9,
           9,
           4,
           6,
           1,
           1,
           6,
           8,
           6,
           6,
           6,
           6,
           8,
           4,
           0,
           8,
           1,
           9,
           1,
           9,
           1,
           1,
           5,
           1,
           1,
           1,
           1,
           1,
           3,
           4,
           0,
           3,
           1,
           9,
           0,
           4,
           6,
           1,
           6,
           1,
           1,
           1,
           1,
           5,
           6,
           4,
           3,
           7,
           5,
           2,
           1,
           1,
           1,
           6,
           0,
           6,
           1,
           9,
           0,
           5,
           1,
           5,
           4,
           4,
           8,
           9,
           6,
           9,
           8,
           1,
           9,
           2,
           1,
           8,
           3,
           8,
           0,
           8,
           6,
           8,
           8,
           0,
           1,
           3,
           8,
           4,
           6,
           8,
           1,
           9,
           6,
           2,
           8,
           6,
           8,
           2,
           7,
           5,
           9,
           1,
           4,
           9,
           2,
           1,
           5,
           7,
           9,
           6,
           1,
           5,
           1,
           6,
           9,
           5,
           4,
           9,
           8,
           0,
           9,
           1,
           3,
           6,
           8,
           5,
           1,
           7,
           9,
           1,
           0,
           0,
           7,
           9,
           8,
           0,
           4,
           8,
           6,
           1,
           9,
           1
          ],
          "coloraxis": "coloraxis",
          "symbol": "circle"
         },
         "mode": "markers",
         "name": "",
         "showlegend": false,
         "type": "scattergl",
         "x": [
          0.04152126436715489,
          -1.005614937209604,
          1.5580546952778713,
          1.17329615564962,
          -0.3169466371174334,
          -1.7829439334894974,
          -1.3312802957283527,
          0.3901940850336179,
          -0.1289317477414577,
          -1.6296348530733662,
          -3.1550960754970547,
          1.462065878756383,
          0.20651192899725934,
          -0.9308436751244505,
          -0.7950560996234007,
          -0.6858054392951655,
          1.5779024177984415,
          -2.487843651455273,
          0.4005888054469041,
          -1.2729554370013723,
          -1.1880169206070217,
          -0.9314150736159417,
          1.0618318331531493,
          -0.5601530900648777,
          2.5878981653529882,
          -2.063872224327255,
          0.5397037084613366,
          2.4586661216226138,
          2.7077413184825825,
          0.4588869577682137,
          -3.1648627505615092,
          -0.7193097583198472,
          0.40904956297571865,
          -0.0958238854646659,
          4.546455962303566,
          -1.1583368142717503,
          -2.942934476414259,
          -0.7268263215611718,
          -2.060333143749664,
          -0.14369321912642904,
          1.3048336741242017,
          -0.3575131398746854,
          -0.6420621629791184,
          -1.2849040864013541,
          -0.01757597120212155,
          -2.016695420220596,
          1.898085451085975,
          0.6854313358208379,
          -0.20600663796622362,
          0.8918926607300833,
          -1.6070746175413053,
          0.44042451973762087,
          -0.8131862488931922,
          0.6022165621456618,
          -1.690358816631735,
          1.7655633527068415,
          1.0466543960966748,
          0.5449982738082154,
          -0.06780804217160791,
          -1.2725858431818895,
          0.5757212602415805,
          1.4489962602409536,
          -0.6189192668524863,
          -1.2831436905615858,
          -1.1421632972898514,
          -1.9195922102059593,
          0.8191353367623136,
          -2.0679985121462154,
          -2.9650688081033096,
          1.248570529410537,
          2.842079945812819,
          0.33121220500493276,
          -3.164293623798291,
          -0.07001496654104537,
          -3.3548317881835445,
          1.8860137757355937,
          -1.178486671250104,
          -0.5512679980837577,
          0.029440395723654325,
          -1.7866255170036474,
          -1.5239905485523877,
          -0.09519352762333358,
          0.9651559057305392,
          -0.6810714159036341,
          -1.5755667278028802,
          1.0869430269240654,
          -0.9170325606133979,
          -0.2144309675841455,
          -0.340344495287764,
          0.34406558727777714,
          0.5105656882948919,
          0.16256725065156732,
          -0.7599008592240694,
          -2.5310653575987327,
          0.6185630784829639,
          0.9701379612035147,
          -2.1913311946652008,
          0.3230054565319419,
          -2.372623308902284,
          -0.16546131545849832,
          1.8988104268787818,
          1.424028687612538,
          1.2020745805904403,
          0.8388070398650757,
          0.288768976193845,
          0.8999351317086701,
          2.895517896595562,
          -1.0653493229166815,
          -1.0590921120982915,
          -2.279058000034341,
          -0.44427515595315636,
          -1.535472377544376,
          0.5164191830997047,
          -0.05883853559077354,
          -1.8809347662253202,
          1.5966311488683929,
          -1.6117157943539184,
          -2.3895897652553533,
          0.6102245575588754,
          -0.7272948868981518,
          -1.3573828550014428,
          3.4371399307968438,
          -0.3652759389501842,
          -0.8619712284186531,
          0.06370039388556721,
          -0.519923965027092,
          1.983457309563727,
          -0.9355823350969077,
          -1.1885179648671063,
          2.759442224808099,
          1.100560589455043,
          0.4177865518383867,
          0.6401323783409577,
          1.522750937919834,
          0.0054058910244620915,
          -1.1461978107734772,
          -1.1756633749315508,
          -2.216830929929506,
          0.8652341734807255,
          0.9927229931803411,
          0.7591025999485602,
          0.4075289041288309,
          1.5950998530142546,
          0.899406277962422,
          0.553196238048737,
          -1.3542848684125846,
          1.8077431884169544,
          -2.1497571794531805,
          0.6822725977862701,
          0.486303899634343,
          -1.395984733100324,
          0.6233828799873818,
          -0.2703765557387405,
          3.4086132562962215,
          -1.5679246808518983,
          5.324721809378441,
          0.4528612254485089,
          2.9087497036603005,
          -0.1488635729517924,
          -1.3998091432877782,
          -3.5948626332501585,
          -2.4577627658861925,
          -1.881993279295952,
          -2.7811797348299487,
          -2.1875014913093325,
          -0.556448068985184,
          -2.115562268236897,
          1.4526806517983897,
          1.0556735789750116,
          0.45412050841595764,
          -0.6946430706875669,
          -2.658744366170959,
          0.6117338257186049,
          1.7501309568433623,
          -1.0416925055830941,
          -0.7652409183008274,
          -1.3823399016474285,
          -0.1506907400080308,
          -1.2464736162762924,
          -0.722734499670468,
          -1.7560819353683592,
          -0.7226885122687379,
          1.7230382586867843,
          3.3378362381923385,
          -0.36120800847550216,
          0.7044472654280529,
          -0.4947797263727629,
          0.028621416577740474,
          -1.3126976357925704,
          -0.6978746430216478,
          -1.9547413813834855,
          -1.6166309912068104,
          0.2658634767146662,
          0.9804621345127542,
          1.5432879240825865,
          -3.2404321782917145,
          0.644291918974888,
          0.34233528835270155,
          -1.0149539723747443,
          -1.786456799938055,
          0.5124898641789193,
          -1.917910483448499,
          3.4255476444775184,
          1.1165745889324017,
          -0.2255493530164776,
          1.6559678754947478,
          -2.0147313469506316,
          3.806350343519103,
          -1.2753902195013243,
          -0.5246147851723192,
          -0.21404962285720633,
          3.3991341638679384,
          -0.3774025465602631,
          -0.9725613754635036,
          1.2974328123335128,
          -0.8290156594587571,
          -0.14978744388867168,
          -1.0774820080467915,
          -0.13802810463661797,
          -0.0867202438490786,
          -0.3553465746214832,
          -3.146041706052436,
          -0.7495306699459845,
          -2.129393408727062,
          -0.9737528523882907,
          1.459179637555196,
          -2.5800849041896297,
          1.4519755167023691,
          -0.07329514763639183,
          -0.7869833301589981,
          -1.2175753370519713,
          0.5331140529956118,
          -1.3130176433484195,
          2.025133722860588,
          0.4681101471229761,
          -0.17428605006403952,
          2.8978870370732666,
          1.8333396838986598,
          -0.20333420342155115,
          0.38235336537323356,
          -0.8025651705199264,
          1.7522671681072903,
          0.6494923188103711,
          -1.6304947540817023,
          0.5377946288803449,
          -0.7622133685606828,
          -0.9759513428226955,
          0.3424258838612068,
          1.8685168082386157,
          1.50630541100459,
          1.131305466599635,
          1.2083588194835266,
          0.5401349098235378,
          -0.6234840617600989,
          0.010732298162519862,
          -1.3149025906263039,
          -0.024349089861136153,
          -0.2315189766911201,
          -0.40668003862266977,
          0.41088703582946734,
          -0.6779703838754011,
          -0.4268751492111235,
          1.1207089635409562,
          -3.328438651418576,
          2.5692654883490733,
          -0.5500665656339915,
          2.53839522961477,
          -1.6516533198536067,
          0.15411617345065837,
          -2.0588808870441904,
          -0.4972852164918443,
          0.11415361848113097,
          -2.0664157015399276,
          -2.879070995824268,
          -0.3086724983565748,
          -0.6614976788788798,
          0.3343327096351147,
          -0.8693500079828074,
          -2.642725917877873,
          0.4326313591485409,
          0.6083731150167621,
          -2.7607482692212195,
          0.8898651713979344,
          2.367142054050187,
          -2.8720524585526066,
          -0.11610418332129863,
          1.4559158175197748,
          0.34223209466872295,
          -1.6828836710332014,
          1.7075934480888715,
          -2.1891673025078817,
          0.8808507025399013,
          -1.3869574990776545,
          1.6888525601432822,
          -0.7292707224956533,
          -0.10672669662777785,
          1.7151218680172147,
          -2.592360709228714,
          3.688382434133162,
          0.061900955913311996,
          -2.1142035321869552,
          -0.725864584535839,
          0.6123412412167881,
          0.02924168560473559,
          2.086162510093404,
          0.05444721347380141,
          -1.4555323508575864,
          0.46562028909965986,
          1.5029472892155802,
          -0.7140233970278489,
          -2.856671732175223,
          -0.46857645014283666,
          -2.0585696175085686,
          -0.4972391494760922,
          0.4602621612175916,
          -0.16069877830072005,
          -1.2781704659294462,
          0.7632573239571613,
          -0.24419753875168326,
          0.5593181607447869,
          -0.31493601855529074,
          -0.8951680128421869,
          -0.35670126283565157,
          -0.2334113866395672,
          -2.0230365520842652,
          -2.033850797790887,
          0.11209470545910143,
          0.5182373038183061,
          -1.9380425577552636,
          -1.633938521474408,
          0.6071293281594952,
          -0.30143975915525895,
          -0.37549816014135123,
          -2.8423858999597513,
          -1.6876453606473454,
          3.3893835602130276,
          1.3642681200109594,
          -1.0828339726588965,
          2.5778059255057393,
          0.06960600764172678,
          0.8287238267954646,
          -2.6004955528933618,
          -0.03368490038221205,
          0.06083494561982763,
          -2.476793503876394,
          -1.0656631362338143,
          -2.7051478448574673,
          1.2760729986358201,
          3.0355798373830845,
          0.3981082128136803,
          -0.7286517256459785,
          0.970519212416432,
          0.07821235063176321,
          0.9305911663461833,
          -2.9118309393484996,
          -0.9149583610474594,
          2.244844387180766,
          -0.3635948328755466,
          -0.10609547171757922,
          -0.6398970625626133,
          2.696471396775991,
          1.2508683342909699,
          -1.2827682838617385,
          -0.49855409641896276,
          0.56020558228527,
          -0.7442629926087732,
          -1.2963198967031513,
          0.07665971775777694,
          2.6923359156016238,
          -1.8361488002579105,
          0.7573087037937052,
          1.2738849278896167,
          2.4289191520195215,
          -0.8455169602068121,
          -1.297127616969211,
          2.0810798678600646,
          -1.4009960145323315,
          -0.948281075564561,
          2.631594556011627,
          1.031699493409867,
          2.2232433411686214,
          2.8715411566641755,
          -1.21911266654358,
          -0.2842898849820248,
          0.18923150659795104,
          0.08180734654910585,
          0.02011044361667491,
          -0.7080494039502154,
          3.3952367439409312,
          0.10067625010367613,
          0.6639919218837217,
          0.9903118444659854,
          1.1193075718503451,
          1.4565669936714258,
          0.6193261134897651,
          -1.832737961691526,
          2.072852633489647,
          0.0735068035190313,
          -0.7117220932137551,
          -1.5710357156707495,
          -0.38751330793104066,
          1.4709182311562727,
          -0.3156179439234835,
          -1.0017465989892933,
          -0.2591713277388749,
          1.9635311656708898,
          1.5331325943718774,
          -1.3460522611425316,
          -0.6894357404247278,
          -2.2309049581892055,
          0.45865189779442966,
          -2.325382261304166,
          1.9334983855573915,
          -1.0803373854087568,
          -0.3472115392756028,
          2.4431916185277363,
          -1.43928334825563,
          -0.504134758627795,
          -3.0923545375044927,
          -0.8865235186324116,
          0.5522809556641546,
          1.5358948380193909,
          -0.7986402275786586,
          -1.5169910805552143,
          2.0031415379076476,
          -0.14329197378660577,
          -2.114147611850857,
          -0.9954287958803665,
          2.180968893388897,
          2.3722791574314814,
          -0.7292228192144454,
          2.397145264534895,
          -1.8194268399501485,
          0.4183427636305886,
          -1.3530038084051876,
          3.6871529190199572,
          -0.2715982308238549,
          -1.7961041309554227,
          -1.7986738742859825,
          -0.6036344868081367,
          -0.8801811443383019,
          -1.1790594557918415,
          -2.4002472282704517,
          -0.9410976747380548,
          1.3943553867233056,
          0.1543495190454944,
          -0.928433649572579,
          -1.0098224478188973,
          -3.004290758972885,
          -1.1183291355271439,
          1.1002190087084247,
          1.055057474882578,
          -1.499991784708974,
          5.33909594594398,
          1.1510202345604843,
          -1.4237542047049407,
          -2.2751629261480173,
          -0.4813328699551483,
          3.3055981806854655,
          -0.771642146243003,
          -0.3137099121726285,
          0.2418490020306449,
          -1.292410280958476,
          2.636244248443841,
          0.7788424572040407,
          -2.417219439864657,
          0.17166257322047423,
          1.38424502413257,
          2.3997340660102866,
          0.7876090479173494,
          -1.8330776389072618,
          1.4907013482120137,
          -0.7783106962266447,
          -2.0495470515800407,
          -0.6662375627777429,
          -0.48202949535479,
          -1.512576802867819,
          2.7716044821144235,
          -3.0185788353879746,
          0.015850815603207585,
          2.0129516572511017,
          1.7614228669739245,
          -3.4207225113186195,
          -0.6811546983789747,
          -2.394547841340111,
          0.011107027677345243,
          -0.5666553843425276,
          -1.2343456009838116,
          2.0748138953892448,
          -0.7605684505777821,
          -0.1837212732993413,
          -1.3525225137694257,
          1.8922646358979385,
          1.8153759414200101,
          -1.563757029646901,
          0.01019562749072872,
          1.912335029341625,
          1.5490635983621146,
          -1.2079473441670598,
          1.1212031852106399,
          -1.1424967305463625,
          0.7743261665109169,
          0.521903275795562,
          0.8717533398933693,
          0.23454640691552048,
          0.21495684233693754,
          -2.168811809865802,
          0.5312475503209328,
          -2.184580967165496,
          0.39853574517157203,
          -0.22669385778540782,
          -3.342338583195506,
          -1.5224610589874228,
          3.1077378564657216,
          0.17366694803328225,
          1.0894841918941691,
          -1.6192098533721204,
          -2.484317478702737,
          -0.10500671880427942,
          1.0651865154522169,
          1.042171389803775,
          -1.6224437996868066,
          -0.9045091351618286,
          0.38983745739277065,
          -2.979789316270615,
          -0.5525857615871536,
          -2.8659693033222373,
          -0.7575551245432837,
          -0.21169557501585903,
          -0.401795420881623,
          -0.04571040858291647,
          1.69780114407269,
          3.945655415722544,
          -1.0529227258673204,
          -0.039983537786246436,
          0.9111086864256825,
          1.668055392169713,
          4.658933787693033,
          1.2097339791259527,
          0.40649784375185233,
          -3.096704936919844,
          -2.1941578966636763,
          2.491999715180009,
          0.7553722522543197,
          -1.8063746441824324,
          1.0641530060530822,
          0.0715567320962961,
          1.7342222092351025,
          0.7280924985969314,
          -0.013465758762134855,
          -0.05369465275145025,
          -0.6934716981684678,
          2.667797911601146,
          2.3995838521847186,
          -1.2091229978510338,
          2.5321168350544236,
          1.6553820870469516,
          -0.4910907569650156,
          -0.5984221602503882,
          0.5587436051459739,
          -0.9286535310011004,
          3.5607267383297523,
          -1.0806180722257466,
          0.8067091498082963,
          3.4080746959359365,
          -0.38917256933200617,
          3.3823568715476435,
          -2.4462019246368722,
          1.048265397693756,
          -1.8808087875305264,
          -0.6803597201670286,
          0.24390543645555204,
          -2.4848489561977196,
          -1.3607788335902562,
          -1.1574869883844126,
          -1.0006429300527309,
          -1.4079710561802676,
          -0.04277780891046185,
          -2.7870006006748156,
          1.3636793256944566,
          -0.03633401095196987,
          -1.6130443893820638,
          -0.4345798744357295,
          -0.07266858430467169,
          -0.3485570172053155,
          -1.0822108756002844,
          -2.4292912271462073,
          0.06489855602824045,
          -0.805969047478961,
          -1.3814150117636341,
          -1.2044185114520547,
          -1.0300202341500344,
          1.280201721054966,
          -0.9434534226143709,
          2.7712406758523658,
          2.4081803462134928,
          1.0583511984798997,
          0.4363534861443598,
          -0.6545446886881088,
          1.9289773752209929,
          4.395984109597249,
          -1.297776941397347,
          1.658645858470567,
          -1.643288437423546,
          1.8664166588843825,
          -0.11313573144610993,
          2.417232589464854,
          0.1896646637385918,
          1.969790564392524,
          0.786548284121498,
          -1.3878104533541464,
          0.6604376375171999,
          -0.5648671506780553,
          -1.4725949248108152,
          -1.5755199782268394,
          -2.2776301925993834,
          -1.844085890671182,
          2.643228565657809,
          0.15890147259532253,
          3.517754214305722,
          1.2848677649248286,
          5.004177085568832,
          -1.8143947417699817,
          -0.4609036394404482,
          -0.8654929714015985,
          2.7140977652442526,
          -2.2052979618473554,
          2.2052771925045773,
          -0.976187801568352,
          -1.288436002714622,
          -0.5110316925980415,
          -1.2577248309281068,
          0.8155732834518848,
          -1.5115858240547133,
          1.264927091750727,
          0.7949760655691306,
          0.13680582602502062,
          3.1405923261254824,
          0.14502152555542766,
          -0.751064742895768,
          1.4325441424377563,
          3.9998574211588447,
          -1.1132311651410642,
          -0.6663921427081769,
          -1.199071472344021,
          3.7748644407585887,
          2.758789947738595,
          3.3801040082254166,
          0.7273798463580355,
          -0.9079097846591209,
          -1.108642619289697,
          1.2788108485809804,
          -1.7202330661615335,
          -1.5932696554910255,
          -1.262744845083492,
          -1.1785607220283174,
          1.1216317200313815,
          0.10094538253254379,
          -0.19089586992068264,
          -1.1437640618776708,
          1.347664109901093,
          1.0498798393256359,
          -2.11356142296034,
          2.6823497795843676,
          0.7731864789928685,
          -1.3829173893147084,
          -1.6320726302882946,
          -2.0365059855102596,
          -2.0541802457247256,
          0.3025758730349872,
          -0.08648795368801607,
          -0.13413153410806822,
          1.4805486501966179,
          -0.6323548494701057,
          -0.8147075278808579,
          -1.888922699346595,
          1.2228950745614384,
          0.6097926964635351,
          0.3961933301928208,
          2.087383321282191,
          0.4047021927253081,
          0.1140215977908582,
          -1.9706403816641347,
          -1.9376973948602019,
          0.6582394749956538,
          0.340992893121247,
          -0.009674288524134347,
          -0.8590059897618978,
          1.266282257733201,
          0.7270003424492094,
          1.0211501617977312,
          1.6256092752136717,
          -1.4709027019582988,
          1.1291689018584572,
          -1.123782358230674,
          -0.3871671417949511,
          -2.498421648173441,
          1.015738559782524,
          -0.17707586455773647,
          -1.8731938642282704,
          -0.6056833626293032,
          0.43294493559658226,
          -4.139477127992139,
          -1.6862233588243227,
          -1.8292497516592696,
          -0.8492678111402756,
          -1.7017066998951087,
          -3.6867625391100636,
          -1.7534268813515297,
          0.3407394760117819,
          -1.3561537012982705,
          -0.12154943432665269,
          -1.1963952818257313,
          -0.651147397201232,
          -2.512748868814118,
          -2.3545022145490178,
          -0.4688305156342177,
          -0.09830813588661694,
          1.9504695456632262,
          -0.20570346640248058,
          1.5776363548627235,
          2.3930896095090817,
          -2.688646979077679,
          -0.17753201815163205,
          -0.4084232369808104,
          2.2100382103546843,
          -2.6440246233746154,
          -1.813539232220963,
          -0.30304629268926037,
          -1.9837794284989616,
          1.936153417799254,
          -0.22417290254352223,
          2.7151889252850845,
          -2.579607152123115,
          -0.7680989296627029,
          0.8275796854288475,
          2.503945207732934,
          -0.5766036291200137,
          -0.35738677055156376,
          0.22651990817609427,
          1.1407063452235395,
          0.8090810632044352,
          -1.1089897289373902,
          1.500035185512742,
          -0.5868477314996663,
          3.72556575377456,
          1.732935459713466,
          1.5642575951717983,
          0.5615119399589943,
          -1.7270036682603158,
          -1.4182391785466244,
          -0.9181234791878308,
          3.565433868008105,
          2.7853040379433183,
          -1.9768752068658286,
          0.5060338495163234,
          -2.826465478337641,
          2.9406673563072463,
          1.5211694643033518,
          -1.0236832201900865,
          1.8782450463133347,
          -0.7288192074909732,
          -2.167349348941054,
          -1.6528445976859574,
          2.176587031500902,
          0.12910063893726595,
          1.8810444442995418,
          -0.40777623304713395,
          -0.7249958403160858,
          4.92307686497868,
          0.931205755517537,
          0.2398916326027316,
          2.8930818623989847,
          -1.996063263892834,
          0.1767831351263006,
          1.751164390765086,
          -1.4231873542573237,
          1.0672566284458302,
          -0.9397606947287149,
          -2.9363778162077114,
          0.6734590025557348,
          -2.2186954511524393,
          -0.5011836953379899,
          -0.5572870745782311,
          1.101489719887197,
          -0.17706096108189126,
          -2.4391242862578064,
          -2.1971684194611005,
          0.029446664214093587,
          -4.0830341505023675,
          -2.335053585010191,
          -1.9355419979057253,
          1.6722983708004078,
          3.165073491712582,
          2.645506209056696,
          -0.8138881970343883,
          -2.097993309475157,
          -0.393665105388285,
          -0.8824551351142095,
          -1.8289786918104,
          1.4125525446046523,
          -1.6694511569833277,
          -0.12702765875847116,
          0.9026954546097056,
          -1.8998820063145268,
          0.7515255761513951,
          1.4851569395477935,
          3.6167992788582617,
          -0.19119045572832602,
          -0.29827292021636104,
          -0.628733305768008,
          0.20661544191422987,
          -2.6378249259659725,
          -0.5555212968835666,
          -0.22910980668435663,
          0.894561359239501,
          2.3021570290641473,
          -0.39131002689189676,
          1.3347846065945745,
          -1.776848036890218,
          3.1544495710873273,
          1.4490674872716625,
          -0.3230823385116037,
          -0.8458841257248787,
          -2.980249317433813,
          1.2236069888276915,
          0.4443662929717844,
          -1.4197994457625662,
          4.309191407519019,
          -1.704020023468401,
          0.02101898696520882,
          -2.373446321824156,
          -1.8765467048349864,
          -0.16480246165154647,
          1.0135133407294825,
          1.8079916757055137,
          -2.194792746198542,
          -1.3695369977005236,
          0.9079455374573524,
          -0.9892786367749603,
          -0.4914930661482113,
          -0.9736452301537795,
          1.6662218249950143,
          -0.2483554607483879,
          -2.5464309233761306,
          -0.46697868582566937,
          -1.4600204479455212,
          -0.8615257234866238,
          1.3681168826265888,
          -2.886875709473313,
          -1.0122620042458623,
          -2.4203143977679895,
          -1.044661847296776,
          -0.4205289807660679,
          2.461381245158927,
          1.3811388274634606,
          -1.073718350316987,
          0.3392373328030453,
          3.0310482358773223,
          -0.8382665691552682,
          3.6223873640050943,
          5.193236150103687,
          -0.9934265817908002,
          3.4346239187746384,
          0.08346040006991237,
          1.503967654865332,
          1.1228177972423745,
          1.6344590915134274,
          -0.487176192893597,
          2.422527455266782,
          -1.2363972488999135,
          0.7103317699417921,
          -0.5492745156813004,
          -2.8781167677981636,
          0.9259664439223139,
          3.390729340388269,
          0.48740253443670756,
          0.19211000802384706,
          0.1655048472091422,
          1.9464335620423765,
          -0.3679924276939192,
          2.820620389318931,
          -0.480170474101865,
          -0.09254179430424514,
          -1.5070632281150376,
          -0.21829029443113857,
          0.9297574936182316,
          0.14022397203356907,
          -0.7401966436845931,
          1.7270763616862008,
          -1.1580526738296422,
          0.6307809414811052,
          0.7721702517161336,
          -1.0086950837223359,
          -0.8592429254416878,
          0.16928019220227922,
          1.3822854560504938,
          1.68824256141882,
          3.6013914937744547,
          0.08083364004767503,
          -3.162636715167171,
          1.067351083643854,
          -4.027921434210096,
          1.1043730708791468,
          -0.08991527332833459,
          -1.014252434362676,
          -1.1316011242220672,
          2.8010301457742237,
          0.2177946908043266,
          2.208615159290759,
          1.4171050410102264,
          -2.9988208929367213,
          0.5354577157956638,
          1.864855709338357,
          2.0334541597833087,
          2.3381034580850497,
          0.3510869614654952,
          -1.3539508921596792,
          0.8271424371552568,
          0.39609909126341525,
          0.8854098749046353,
          0.012567293419018905,
          -2.562154850360742,
          1.6295617057412342,
          -0.3435160150496139,
          0.7258185604478014,
          -0.1276761849053973,
          -1.1910707689312638,
          0.044057009032880394,
          0.8928070543556407,
          -0.7532876400617425,
          2.657828957735312,
          3.3801729873874145,
          3.017143555812377,
          3.936403331031487,
          1.8317360866982624,
          2.837335215861685,
          1.0264296917462299,
          3.191895444660098,
          -0.3338556464473863,
          -2.9745795691250008,
          -1.291936238829486,
          -1.243629970814606,
          -1.2675347788755198,
          0.5528820088943925,
          0.8008502497182459,
          3.3169272790641893,
          0.7365162298455744,
          0.645821224607681,
          -0.7189992373897353,
          2.0207124854814573,
          -0.10441430641020721,
          0.7934377873750618,
          -1.9615184947304747,
          -0.09697392299405745,
          1.39705652884303,
          -1.6481195399317485,
          -0.21725145043042454,
          -0.2546048031300928,
          1.345225314297749,
          3.9341146963559273,
          2.8843140064132387,
          -1.472128041011135,
          -0.208036076950499,
          0.06210301607273991,
          -2.6816351534647276,
          -2.5749510659218213,
          -1.1757796049507612,
          -0.43945679642004554,
          -1.7543757233326023,
          -1.2591004452424637,
          -1.1465403631996298,
          2.30325428888902,
          0.8585850729399789,
          -0.28785898128377596,
          -0.727187102478138,
          3.768378084112497,
          0.17393967691638773,
          0.7461282127972786,
          0.8199562385839527,
          -1.078924800248845,
          0.6264691514576389,
          -0.3180707033155688,
          0.676536425687606,
          -0.9005962280884657,
          -0.3360310061118461,
          0.1578606089718752,
          6.556803419574049,
          1.4601577528819156,
          0.9065789522729696,
          1.716818478054236,
          -2.0970083203991083,
          2.8835226351648737,
          -0.05809278023494242,
          0.9311806375329037,
          -0.6779744517402126,
          0.5139327396004507,
          -1.782236741430896,
          0.43313323786839425,
          -0.49804762050599155,
          -0.6922478524077166,
          -0.4185095250901468,
          -0.8838426222915113,
          -2.110692485282473,
          1.7966302933838636,
          1.6667628334621232,
          1.4481697156846693,
          0.8528318123354653,
          -2.084996332506733,
          -0.18625251326801381,
          0.16961290950504745,
          -0.08151761931391151,
          -1.600470906867541,
          0.733991269998713,
          -2.2027309649122873,
          -0.10993821883809303,
          1.6446746436363144,
          -0.22261574782652996,
          0.18808610137630802,
          0.22684972670720704,
          0.5976518514443369,
          2.2898399898237636,
          0.7156784651944381,
          -1.8311311754920838,
          0.706911611775638,
          -0.7003908528122571,
          1.1296946891122612,
          -2.3493998870500183,
          -0.22908594325521714,
          2.872368511513093,
          -2.910675922353405,
          0.30800745898660276,
          -2.1176239939318617,
          2.2029810630824422,
          -0.7983719366519375,
          -0.4061529510560348,
          -2.0610125359681946,
          -1.0101442045212365,
          -0.7692750774018393,
          -1.2137664685123433,
          -0.44358055771866844,
          -0.38943304275319063,
          1.8203424726579491,
          -1.5093137986020184,
          1.6711634342523884,
          -1.2850115262568105,
          -0.9630195568423932,
          -0.33727533524588404,
          2.400605113867381,
          -1.1852172497713371,
          -0.696902496920814,
          -1.236174377984603,
          -1.459167058164371,
          -1.9136415942487859,
          -2.3979296358458955,
          1.5109219444824185,
          -0.5604529833772581,
          2.489941209269592,
          0.0339286431612082,
          2.3860718644820174,
          2.0896396006394866,
          -3.0591935068997325,
          -1.9797898976552637,
          -1.2259616349547835,
          4.694378257138596,
          1.7807149411891738,
          -0.6178174584314926,
          -0.5305450064231272,
          -1.4370301743894813,
          0.13431860081350233,
          -1.9781758439924468,
          3.7879844525815822,
          0.10132680617911194,
          3.5680457887006427,
          2.04449884658107,
          -1.141043849615498,
          0.5215632036446811,
          1.9529447643375586,
          -0.9483328931350085,
          1.4844981117161364,
          -2.1513755342473666,
          -0.3492417003496876,
          0.6249105645588535,
          -0.775830127167015,
          4.399066831431449,
          1.6988704498501266,
          -0.9357140148134964,
          -0.4034123297568291,
          -0.4781056293687845,
          -0.016040140359899636,
          3.6477266533921244,
          -1.9782781124381705,
          -0.4049978222128192,
          0.7103275517880866,
          -0.5745602737715069,
          -1.1249362677619543,
          -1.327151877827479,
          3.499416176780478,
          -0.9728812476706874
         ],
         "xaxis": "x",
         "y": [
          -0.18516781606542496,
          0.8832556053589317,
          1.117348495312841,
          0.5766726895142679,
          -0.365099365507736,
          -1.141164271853196,
          -0.0490106052677896,
          1.743369277935453,
          -2.3112223218723926,
          0.5269674927542721,
          -1.654781191602391,
          -1.956326588147452,
          2.3368168201704793,
          0.3035172123763163,
          2.9697898514541716,
          -1.4500098615633426,
          -0.5100938103065518,
          0.41524374519249524,
          2.44380878605502,
          0.7580912390144043,
          0.38975338571594526,
          -1.250532444754088,
          -0.20897134279073906,
          -0.37663634196873713,
          0.141954772735149,
          -2.288447159674671,
          -0.576392751409022,
          -1.4681266612966342,
          0.45084559642036626,
          2.7868841142646747,
          -0.16916732090454717,
          -0.3523295798418356,
          2.6098572018344663,
          -0.47369059218975124,
          -1.9917269412465455,
          -0.001650879808535588,
          -1.3406757174000448,
          -0.49366367865514216,
          -0.4563495504695023,
          1.912026741837942,
          0.05609285800992857,
          2.5193468897982414,
          2.083427034751576,
          -1.0548695214252362,
          -1.1280926414008707,
          -1.4237323819639873,
          -0.25942626239576927,
          1.7746194939327427,
          -0.12223950396046426,
          1.558369759739843,
          -0.1078757583464667,
          -1.234568336260315,
          -0.09474091042483661,
          0.6489613985400505,
          0.34804841904432343,
          0.6881352053906236,
          -1.4856315647974299,
          -0.6410512753431618,
          2.913783848390638,
          -1.3251839288684633,
          2.635423728236239,
          0.5925790442522575,
          2.0455917687980536,
          -1.3029363713109954,
          -1.3120854667920867,
          0.6298875187061902,
          2.3687523437074383,
          -0.5777625544195728,
          -1.3252916686971512,
          0.09783084790855588,
          -1.5187867092676486,
          1.7810335369114196,
          -0.6054317545353142,
          1.9318584111455408,
          -2.068146698566482,
          -1.8721336658029042,
          1.0392157812223815,
          2.272409101027947,
          -1.353991256064025,
          0.7969801196318861,
          -0.28552422526520477,
          0.8400357931580018,
          2.225899974271502,
          -0.0037166562739245766,
          -0.05385374334972985,
          1.467105083464213,
          2.606398923971529,
          2.113790789087864,
          -1.5714741423836895,
          -0.33753766696841286,
          2.052537589626003,
          1.0282212592876352,
          -1.8842351383471168,
          -1.5186356825233207,
          0.3625835597733271,
          0.4039243748367423,
          -0.39945579206473264,
          -1.2024146684370032,
          -1.1408518367234148,
          2.6932328385514515,
          3.6675068026396227,
          0.08473626865700173,
          0.5572533775010448,
          0.3384296604955744,
          1.8860936465831983,
          -1.078910928430722,
          -1.0325249749504863,
          0.6061928010481129,
          -0.970322382221892,
          -0.7391642432117383,
          0.2975890978298865,
          -0.5700727159826507,
          2.610511024864235,
          -0.1915286642472352,
          0.3533950068528105,
          -0.9541897117399593,
          1.0921786532078015,
          -0.4207473183957846,
          -0.0996470523666022,
          -0.0048535461337184714,
          -0.5711939212802003,
          -0.7778352273063395,
          0.3606151940795587,
          -0.24923345151903134,
          -1.3117997851878807,
          -1.2392705954096497,
          0.2694584277652685,
          -0.23689322869004445,
          1.8089530946724768,
          -1.9224800611297004,
          1.8700765871370348,
          3.1818005827838873,
          -1.549022009407732,
          -0.8855985814028058,
          2.5871160566816926,
          2.1348367474842442,
          0.1869840792309009,
          -0.8159136735945256,
          -0.1436561508882641,
          0.27996154069127754,
          -0.5252937848822462,
          2.521979052151274,
          -0.17307143398397834,
          -0.7513118523740486,
          1.1676266157699593,
          -0.6446130137690719,
          0.10077889506079718,
          -1.2350847920225143,
          -0.3093355050274677,
          2.3025693163349454,
          -0.2948172392154224,
          2.215143564662519,
          2.0091063539032348,
          -1.5536052696134286,
          0.36085306733150724,
          -1.9708380967969197,
          2.416829289349369,
          -1.2952351764872168,
          -2.110403454845575,
          -1.4053496228393294,
          0.7826072962813757,
          0.13746688264389098,
          -1.9704783868786788,
          -0.8671572256447915,
          0.18054869561968084,
          -0.8056923552781702,
          -0.5448182847110374,
          2.334625137337645,
          -0.21275704753593877,
          1.8818020139438032,
          2.1979934327060304,
          -1.8180235091627122,
          -0.9429866980979059,
          -1.1909956563327784,
          -2.6480946591699506,
          0.1089261235668315,
          -0.8585782661470391,
          -0.8801560114620688,
          -0.19910139504946867,
          -2.9033412365720794,
          -0.6297562514450709,
          -0.4738912456103747,
          0.22179657583970433,
          4.009491660088503,
          2.106254164181605,
          -1.798963609360238,
          2.176367617054273,
          1.7122233531190088,
          -1.0342278763363257,
          1.9423358537476725,
          0.11974200565658977,
          -0.3327510044259651,
          2.4449058782194846,
          -0.9680317012072005,
          -0.864721701718867,
          -1.9111321418536504,
          -1.4675434395567115,
          -2.006725912359857,
          -2.4510551388218693,
          -2.1969332954792677,
          1.6906039473027175,
          -1.4504917288739818,
          -1.5963983876283445,
          -2.1807975075616577,
          0.03247588281281815,
          -0.6640843777246545,
          -1.185178406207804,
          -2.4635814171280805,
          0.02464397927545316,
          -0.7927212513828787,
          2.8582443604324346,
          -0.6157645007537775,
          -0.297795333820664,
          -0.027735864980492447,
          1.8277823219983262,
          0.15424967510010598,
          1.2927036129162133,
          -0.06690038131500678,
          1.9970011435034003,
          -0.5574328781688719,
          0.519560185199787,
          -0.454776725208966,
          0.41680492992723156,
          -1.6267784100400722,
          2.2101272016996387,
          -0.18770754082865346,
          -1.2697627153250328,
          0.3721048847108886,
          -2.157011923176522,
          -1.5914894031617053,
          -0.01414924273661485,
          0.9658993113754614,
          0.0813803466766641,
          -1.4155510699311153,
          1.824834727228113,
          1.41425275451184,
          -2.650992751169299,
          -1.5738214404573592,
          1.7497769998861032,
          0.055838650082729126,
          -1.3827663227135967,
          0.754470778932633,
          -0.8751509248918308,
          0.07660119040190377,
          -1.166490717610484,
          3.13627618220391,
          -0.27504477540961664,
          2.2306659111469123,
          -0.4079543406614813,
          0.9456213094659383,
          -1.1825790828357234,
          -0.04872151643484047,
          1.3820858629760218,
          -0.4418980172223338,
          1.2821037693498152,
          -1.1275873279198116,
          1.1706383059682077,
          3.13232142134942,
          -0.440355003512636,
          1.906601819156104,
          -0.15152935931682301,
          -0.1766324096824484,
          -1.5353428193238314,
          -0.6554041460681624,
          -0.22343804132280756,
          2.4015812566509593,
          -0.07025278747627259,
          -0.30613452017031484,
          1.399507554545406,
          -0.39857329826201554,
          -0.7540279701584445,
          0.16395158685478525,
          0.8246440576246453,
          -1.3767890459178451,
          2.7687306441288255,
          2.4243298402946847,
          1.9051981549908206,
          0.25654887287415523,
          -0.6743650992898236,
          -1.3091076942365754,
          2.3945330403252134,
          -0.02585161637333065,
          -0.9220493163514346,
          0.15937582049369908,
          -1.2444375102635261,
          -0.7885021921855206,
          0.4353784066835652,
          -1.0042239215249333,
          -2.072480002709009,
          -2.2152264315470456,
          -0.08137782753641978,
          1.5650008056847793,
          1.555047707178968,
          -0.8860977867670614,
          -1.4904314785932178,
          -0.8752539836040077,
          -2.5527693330560504,
          -1.4759064926075967,
          -2.2436627400621942,
          -1.0017236065688915,
          -0.14388765393724837,
          0.15968315312583659,
          2.196214794526594,
          -0.11157892493596454,
          -1.4895636302496231,
          2.350293424586337,
          -0.15561146025845268,
          0.12180520571292926,
          -0.22643240217929136,
          -0.3171389226996667,
          -0.6016214867373613,
          2.0001553659675104,
          -1.5001757635744137,
          2.477858821767507,
          -0.7433359117769084,
          3.2842641974824067,
          -0.1937446769462336,
          2.902096300961502,
          -0.20464823345120578,
          1.997707712190797,
          1.589422180876401,
          0.45034627789050835,
          1.7814215339131847,
          -0.26624163010349206,
          -0.421890202056381,
          -0.33524753982499295,
          -0.8258967425589802,
          1.5995202412985965,
          -1.3761439570222427,
          0.28795955974924564,
          1.9720057167279352,
          -0.3949292678792461,
          -0.30866866185151876,
          -0.68644649828489,
          0.07456978384824947,
          -1.063929307592698,
          0.7966771678071664,
          2.0153429097359497,
          -1.0343720945126171,
          -1.0327322565805908,
          3.355856986879123,
          -1.6694965772536992,
          3.1369213979399024,
          -0.04003969012311057,
          -1.4730915259632138,
          -0.015788998062037922,
          -1.5378858730674052,
          -1.2063502623020836,
          -1.4142478285134785,
          2.129656981969281,
          -0.9787883788532383,
          1.673481820715421,
          0.3657030926374443,
          -0.6709729585003461,
          0.33276407832150373,
          1.1319918080024127,
          -0.4966607871408496,
          1.871992386081083,
          2.4376188478026184,
          2.1068336220132102,
          -2.02340092505425,
          0.6894259004974724,
          0.9221938678499138,
          -0.08650352030757913,
          1.5118528347014062,
          1.434208665364552,
          0.4537689381479695,
          3.1270351248686947,
          -0.347001074863714,
          -0.08889400112275199,
          -1.5038210780696586,
          0.011107313389653524,
          -1.5519844650432668,
          -1.5960995494584587,
          -0.4718057454968779,
          -2.584519073023789,
          -1.1576003146835467,
          0.29043893283633343,
          -1.879804688074753,
          0.08325472404117262,
          -0.04130565465483902,
          -1.0894316310804866,
          0.891165269848337,
          -1.5172424881040794,
          0.2007573642996063,
          2.6863759251466366,
          2.336298667182228,
          1.7536793103120485,
          -0.3959737199153658,
          0.09214772461545362,
          -1.6472498026380866,
          -0.8281541671364245,
          0.5333373492005965,
          0.9379099788790459,
          -0.5197736790257835,
          -0.9987176056276168,
          1.6586424474847692,
          -0.29802750880223483,
          -1.2213811170075524,
          -0.27844272151147076,
          -1.9755588082462558,
          -1.9711304209937246,
          -1.1825782884175522,
          0.7081717851764675,
          1.4217244552937094,
          -0.06077749751068431,
          0.21097626162406666,
          0.3166864599552275,
          -0.5244537009097914,
          -1.0739802327429382,
          -1.1129052443151228,
          -0.6924186739282964,
          -0.19713070241176064,
          0.21818266167845715,
          -0.2551348671419478,
          -1.0851025601102913,
          0.8779150587250283,
          -0.06878456732047401,
          -1.439792597114962,
          -0.8782875708697098,
          2.809582408283721,
          1.8842724169316658,
          1.8058663022748995,
          -0.2077366996034601,
          -0.7660963422656302,
          2.005942500049902,
          -1.0379260036182973,
          -0.5086308809813437,
          1.0798581929250004,
          -1.4240790430683352,
          -0.2402534480678156,
          0.7495110450946956,
          -1.7992234031304557,
          2.2407517436413746,
          -0.8685328272973015,
          -2.013529716378268,
          1.5647818323723295,
          1.3359109822607231,
          0.38612759836839033,
          -1.6596626376193353,
          -1.2052519383667908,
          -0.6655513936236376,
          -1.5808827846846176,
          2.0274891201406526,
          -1.7102369704115838,
          0.0454572430882302,
          0.44287083586859227,
          -0.17089809583534474,
          -0.9853794380180015,
          -0.14287070060636536,
          0.021534229019348865,
          -0.8961561892857508,
          -2.112390825152893,
          -0.6316286125360431,
          2.0687709579022653,
          -0.8851286395083878,
          -0.13942367188854868,
          0.3820425992228603,
          -0.05372330204372807,
          0.5241073145297245,
          2.042234382850139,
          0.41087498449004756,
          0.4834935543175015,
          -1.8463505707946783,
          -0.3550902776429636,
          -1.0853125778497046,
          3.1293952490737547,
          1.8562906626870748,
          -0.8081703940279888,
          0.5104597104832233,
          -1.8337390843430834,
          -1.1085046662335956,
          -2.4268331145247592,
          -0.5298329498185868,
          2.245107409976194,
          0.005926171946763583,
          0.06996254387830458,
          1.3619633092772412,
          0.7453815920533182,
          2.776327884735717,
          -1.305749245106011,
          -0.566054821192226,
          -1.4574112909078256,
          1.9871567624772355,
          0.4869755249543315,
          2.1167232580096615,
          -0.22646481422259324,
          -0.5990391887081415,
          -1.8079710086857974,
          -1.6801625308157095,
          -0.47171622788242523,
          -0.16703858540456215,
          -2.008060317924026,
          -0.484296892622087,
          -2.16690029099738,
          2.076478923984405,
          -1.884919254209199,
          -2.230560718293069,
          -1.4730546683974948,
          1.8897975967272351,
          -1.238795254790175,
          1.5312396311396934,
          -0.35890193620058447,
          2.5059781426960344,
          1.5907360390554957,
          1.0037859431511358,
          -1.1368905072819249,
          -1.674977939831268,
          -0.8493785424725957,
          1.644611586831034,
          -2.7048344685570664,
          -0.36190930479470945,
          -0.3931198487236119,
          -0.6756460647269642,
          2.0284659635218247,
          -0.2067176626616695,
          0.4797568642313637,
          -1.1396339805173235,
          1.8425038295954295,
          -1.0531179303962017,
          0.5839894078897125,
          0.3983959084414644,
          -0.12329968998759759,
          0.34586669622512134,
          -0.010773918069351235,
          1.2892241945571992,
          -1.564292383826968,
          0.2474430867854632,
          -0.439748846472408,
          -0.47925599222911214,
          2.416131663360586,
          0.431765510849133,
          -0.7543075052299556,
          -0.6624151354667245,
          1.7449499212022044,
          4.5715776795145935,
          -0.4064871768999499,
          -2.2770753367419228,
          -1.1973989423219498,
          1.7122051172441006,
          -1.8185775352030242,
          -2.888622173495989,
          -1.1874657706842333,
          -1.510703226581091,
          0.9242106498561635,
          1.3394455054308976,
          1.8785069737594577,
          -1.0672925280919177,
          1.619782047465725,
          2.3255195382777933,
          -1.127952809818086,
          -0.9952220382048557,
          0.3070521300655371,
          -1.6545670707047546,
          -0.8577980439992898,
          -0.10502055946940378,
          1.9998611134207658,
          -0.2021545440605875,
          2.144116176886133,
          -1.247634577374496,
          -0.33168905305307483,
          -1.4362246259288618,
          -1.0878831139111294,
          -0.07318912525656024,
          0.3856081694608368,
          -0.01813925143930438,
          -0.23226486286103867,
          -1.0413826739700334,
          2.141224831128822,
          0.10561809395498714,
          0.29409785548651696,
          -1.2139358307027996,
          -1.3554322095188762,
          -0.03949934194700909,
          0.2576737292579048,
          -0.7037342994698442,
          -0.7306468045992588,
          0.27633484726195706,
          0.313287566422551,
          -0.34060941703337655,
          -0.9927335929334085,
          -2.544561710472888,
          -1.7881414686109487,
          -1.8578469776939235,
          -0.7644801766231994,
          -0.6251509675583136,
          -1.1577910289752982,
          -0.9825767830667305,
          1.017732059717174,
          1.0232543365492954,
          0.14075870878313368,
          -0.4271994564480205,
          -1.6507538542341789,
          -0.012015518859064787,
          -1.677177607736011,
          1.9278538101199156,
          0.2032315680309242,
          1.7147212299552121,
          0.8096295353131664,
          -0.6387040464177275,
          -2.965115645167589,
          0.49781630962628576,
          -1.1676853507392626,
          0.028974889868349823,
          -0.8117244999005937,
          -0.9404859864972142,
          -0.22634944886530003,
          1.3023401268957568,
          -0.6860660819153266,
          1.8147030856735267,
          -0.6474247526290894,
          0.27178445903022524,
          -1.6960248910704112,
          -0.747241709669839,
          -0.015164820923438583,
          -1.9256422857240671,
          -0.3570344811714991,
          -1.4900209665896877,
          3.239386291378773,
          -1.4954602757611313,
          -1.70343703844101,
          -3.087998481756924,
          0.22645942774241964,
          -1.429087171827176,
          -0.7153982251388777,
          -0.36740674110570515,
          0.9866263597678961,
          -1.8551546127948155,
          0.730865834167083,
          0.2172653131535012,
          1.9646146017520738,
          -0.16987006045331268,
          2.179431824714621,
          0.777643616196066,
          1.0501088330898836,
          -0.1799450958017041,
          3.6287981637530504,
          0.7173048615231639,
          2.086101205620265,
          1.4567649624533516,
          -1.709243016541911,
          1.759679040420435,
          -0.17883672636149275,
          0.7407443666742306,
          0.44474169738939695,
          -0.3460894874389731,
          -1.2812425086570605,
          0.4354139920320009,
          1.4540799671070488,
          -2.668932391999291,
          -1.5423379972232727,
          0.2994392921174933,
          0.3875750893620632,
          1.1545961312643782,
          -0.18448388379925293,
          2.0722290199708175,
          -0.6199992784976701,
          2.104850418897739,
          -0.27722914641925966,
          -1.101253439875896,
          0.8257591867052062,
          2.2468354259032686,
          -1.4181534973828203,
          -1.7317442759096795,
          0.8080038055384949,
          -0.13366769885558644,
          -1.7519287087824071,
          0.9416999507507694,
          -0.5353249587523758,
          2.1484964509407267,
          2.4965974197981673,
          -0.04549084619051637,
          0.3588383337449555,
          0.1851381259352177,
          -0.7889201731781051,
          0.35362450661988604,
          -0.520424489087673,
          -0.23071451175891552,
          0.04292269534039044,
          -0.9450249547601564,
          2.1690466364692846,
          2.1188304693720044,
          0.7402624422442277,
          0.6505593154227841,
          2.9758408617091225,
          1.6580154094186492,
          2.2228518744962034,
          0.2666852742786766,
          3.666166665052187,
          0.8585691004373177,
          -1.8948739928535394,
          -1.220832212463876,
          1.481055326060186,
          -0.5224795754878983,
          -0.33336637391441143,
          3.3540113663907505,
          -1.1061101935437105,
          -0.8058120630888932,
          0.04937955728027159,
          -1.7522009120746491,
          0.06799688000057902,
          1.4881641876361127,
          -0.5354609101507294,
          1.2665567725523847,
          -0.08172460678472648,
          0.3522322454774449,
          0.7043721797621219,
          -0.8209174798655026,
          -0.7015959162128668,
          1.8456476443596315,
          1.0045016153000572,
          3.1383482515030288,
          0.0038019709265024607,
          -1.5020694904970802,
          -1.227920163380371,
          -0.2050135097424624,
          2.72585141825771,
          1.5168855881621872,
          0.2226464070628347,
          2.0986230984066876,
          0.251413163720627,
          -1.099038357265329,
          -0.2960435842950085,
          -1.2597542841541998,
          0.16045007046617554,
          -1.4084497337716402,
          -1.5452285953172953,
          -1.362429892414793,
          3.6774825631036205,
          -2.7168182660993723,
          -0.6338235274291666,
          2.8526414630353,
          -0.3709118443066636,
          -0.8793972155125152,
          -0.8380595296810445,
          0.16684263743961075,
          0.7817147989496703,
          -0.21237073195387024,
          -1.5741211882435941,
          2.1977560196056842,
          -0.9766757305319493,
          -0.20379167738697937,
          0.005059504135642023,
          0.1109475159826381,
          -1.493927802283259,
          -0.6915847733736051,
          0.20566432109215393,
          -1.610228735864174,
          3.0859501733818417,
          0.45042474130196664,
          -2.51128283473554,
          0.16393858328066777,
          0.10027762813713453,
          -1.3356144532740692,
          -2.1763078754723546,
          -1.7591118463272697,
          0.109277211714922,
          -1.8163440435746108,
          0.2817420250178513,
          -0.010978977046176775,
          0.056896920675361846,
          -1.9759647329345909,
          -0.9978153264561398,
          0.7778472711080726,
          -0.4805593692234472,
          1.715504209272841,
          -1.4972673192380497,
          -0.2360007751166998,
          -1.0968129546567746,
          -2.5983779198147623,
          -0.7511340162997956,
          3.256900024039725,
          0.4305930999918222,
          -0.8218842673575754,
          3.3680041592186436,
          -0.8356798299593169,
          -0.03147631730373108,
          -0.09425173675690698,
          -1.4112356071582939,
          -1.3390827686499394,
          -0.5571213218329686,
          -1.7039853514520948,
          2.5463296611345156,
          0.29558838403856114,
          -1.7142271728127414,
          2.4859186016807193,
          0.22338279178278703,
          -0.7354444040009767,
          1.985359551756617,
          -2.572445646783137,
          -1.3184175142813226,
          -0.4214056733376401,
          0.8984887857124122,
          -1.7869021171548094,
          -0.9791387345613956,
          0.38807173418550245,
          -1.0240404649451875,
          2.194344346054439,
          -1.4753184272616426,
          -1.6637528013164886,
          2.182721931331018,
          -1.2350088892171112,
          -0.5441713343728888,
          0.15314268936423678,
          -0.47594468529125306,
          2.550510148464376,
          0.39647946866100686,
          -1.7524046866365033,
          -0.4668669093512127,
          -0.0970339819458963,
          -0.44534210436089305,
          1.4500937019174163,
          -1.3330766434948587,
          -0.5989631152715342,
          -0.5306891450513802,
          0.15032636224195245,
          -1.0635891279527774,
          0.44696292859196324,
          1.531226905240962,
          2.7970664492464925,
          -1.426152358789651,
          -0.7058794472397871,
          -0.35613646979301516,
          -0.4935444807439327,
          -0.8030655406996181,
          3.502966115400063,
          3.573824914139378,
          -1.7627900399484668,
          1.3217200133751563,
          0.3007222474049367,
          -0.6507482651416293,
          -1.1991828565150255,
          0.35014151758189443,
          -3.281272525744168,
          -0.9273800003207896,
          -1.4139823111767882,
          0.43925924327322885,
          -0.38522426025362744,
          0.9801960222796513,
          -0.9240196975310018,
          0.9435982027195612,
          0.02549369676386353,
          -0.5653292795372571,
          -0.6685938222055242,
          -0.27217851882691907,
          -2.3395796097009716,
          -0.2078672623287529,
          -0.3675849605850485,
          1.0334898597865851,
          -0.9254466690471725,
          0.7925786480568806,
          -2.007011786731743,
          0.6419470002756615,
          1.8246533140506127,
          3.3924063991563727,
          3.672125198122368,
          0.3802608395388877,
          3.2761519045602103,
          -0.6029911561168438,
          0.3418723707300417,
          -1.075616456092539,
          -3.1950617024002135,
          -1.539081155645736,
          -1.537159947906358,
          -0.37357058630269724,
          0.8816715466191922,
          0.7028343165051701,
          -1.2164860848166572,
          2.315420140455413,
          -1.9268387046271342,
          -1.7068409978612582,
          1.0159221047885958,
          0.011059625529611827,
          -0.7435233256521582,
          0.8020562609793852,
          -0.7906815552632392,
          2.5210876699131877,
          0.8400014096108498,
          2.529158511567082,
          0.9109197727497945,
          2.0530566232498675,
          -0.7519543399553057,
          2.0019557666552026,
          -1.0318754953245262,
          -0.01468736231817217,
          0.37405089671796915,
          -0.12339024791448908,
          1.9964579186224165,
          -0.41920437858693665,
          -1.5923783370761453,
          0.0363966760795482,
          -0.6279093029326873,
          -0.4295686540032256,
          -0.2618100649591706,
          -2.174329659916474,
          -1.1899996461405782,
          2.333760602506938,
          -1.835808280949463,
          -1.8525838370095693,
          4.93418039263794,
          -0.5363017817418665,
          1.802985038077041,
          -0.13606563638469843,
          -0.15562674775669097,
          -2.270747515139829,
          1.7072865529589114,
          -0.8447374844579545,
          -1.7164412839980654,
          2.3586312279394317,
          2.219005979412387,
          -0.42753910619104396,
          -0.9927836615027682,
          4.408008567788676,
          -1.4720427054478442,
          1.2504111928562376,
          0.7890227714362985,
          2.721056814516815,
          0.13711837659172596,
          1.157712248171571,
          0.3235696348888163,
          1.6076148473069036,
          -2.4011988950765764,
          -1.6163786959419102,
          0.6639279014366142,
          -1.0805276168801332,
          3.371507125366425,
          -0.408891021999127,
          0.6693949726574993,
          1.948461596598391,
          2.4999375648072943,
          0.02861738700581676,
          -0.6286690316101425,
          -1.8892762447807752,
          -1.6795583155412532,
          -2.3773459685238514,
          -1.7246261845535316,
          -0.5326553296330894,
          -0.2189109627778825,
          -2.8725318880593447,
          -1.39006922843621,
          -2.1856624047985376,
          -0.5113652035443883,
          -0.16219658332072265,
          -0.004613881122925408,
          -1.4840063808853918,
          -0.126714931816844,
          -1.6549620163109073,
          2.055794713012302,
          1.4414649702910063,
          0.28532862639113826,
          -1.488975526417965,
          -0.07279708144306232,
          0.18807416463963428,
          -0.8363606660187946,
          2.702230483421328,
          1.6146681212322072,
          -1.4776785625515978,
          -0.32574340619829706,
          2.793057379612282,
          -1.9222361055218664,
          -1.3860697070692514,
          -0.8043818700652856,
          0.9586949016383789,
          -0.259190258273068,
          -0.4367741063302577,
          -1.301572485083052,
          -1.1183765445947194,
          -0.40878696013662935,
          -1.7098805700930337,
          -0.3571829831529168,
          -1.7599617001972874,
          -1.0629787258158956,
          -0.7683431779190637,
          1.2268028961801913,
          -0.903754798437353,
          0.028082968626535296,
          -0.2013159662982025,
          -0.26379187135367504,
          -1.1786131050041282,
          -0.22377976895880566,
          -0.8087021618531435,
          1.3787827889483701,
          -0.12835452793053817,
          -0.06893490161313283,
          0.5288033666433392,
          -1.4487999245385663,
          -0.47587170001911944,
          -2.8012455868439177,
          -0.5383448156925479,
          3.302954493533347,
          -1.1396159698579547,
          0.5373398199341333,
          -0.44961010305620125,
          1.005460086192382,
          0.5233508554249913,
          -0.5581954352454988,
          -1.1903617136846618,
          -1.3605300276059054,
          0.6425388528324781,
          -0.5670812931174157,
          -0.620654134871498,
          0.2776486765062847,
          2.3017875559857357,
          -1.3681092893966127,
          0.6195726924797749,
          -0.6245211809338266,
          3.306639497409122,
          1.2405896794232176,
          -2.455237813652156,
          1.2988138552303439,
          -0.8307225025560202,
          -0.9084269300739913,
          -1.6017211212231304,
          1.7173935584665863,
          -1.2945072781603342,
          -0.5706955444564921,
          -1.4737116665718266,
          2.215012803877935,
          1.668108237615215,
          -1.5824312146151986,
          1.3693674746164772,
          -0.1352472815991952,
          -1.322442492441377,
          -0.2531332589146664,
          -1.479287037839479,
          -1.018278531570732,
          -2.120001442354449,
          -0.4876861866072035,
          0.5030818151499395,
          -1.9786850110016356,
          -0.6995871448719013,
          -0.5070099010048233,
          -0.3097494903278114,
          0.5926029754111661,
          -0.49116576819039726,
          2.1260842685932975,
          -0.37670871773270226,
          -0.7105081698739161,
          -1.8983157601831888,
          -1.0135551245606518,
          1.049325095744971,
          0.4594322467464991,
          1.0407810504237887,
          -0.25455153428961236,
          -0.14527821275367914,
          -0.047121459979213284,
          -1.1270049356457585,
          0.22574120901597478,
          -1.8366871973666656,
          -0.16215486616648506,
          -2.027405592431915,
          0.3138930508018422,
          0.16573373469970887,
          -1.2227416400128501,
          0.3484360573299344,
          4.172500760597744,
          2.0673441395266545,
          -2.154198081058672,
          -0.34598080264950726,
          -2.091376410995875,
          -1.2054432774542916,
          -0.6182028166483168,
          -0.0358629963623723,
          2.1784005804741176,
          1.2142712666992954,
          -1.5417223561030553,
          -0.8606605787265373,
          -0.6304209823968903,
          2.4384738184820676,
          0.11215522518444454,
          -0.21037136761287745,
          -0.04964151645118749,
          1.624595856111981,
          -1.6150801543133242,
          -0.5892484516870317,
          -0.11828056213683007,
          1.4468250886545175,
          -1.2324728662264588,
          -0.33591552576615713,
          -1.093550893990085,
          -0.035757253354978584,
          -1.5611293105594959,
          2.004021492323299,
          -0.8695703264105575,
          0.4699547773791283,
          -1.4509910919218072,
          -0.7426870513892941,
          2.988354219853188,
          1.4310910431237578,
          1.020521771681626,
          -0.14580310157711698,
          0.18400538607896116,
          2.260602707638382,
          -0.30679479319055214,
          -0.667550920795237,
          -0.14543526102408952,
          0.945942153791509,
          -1.5688701971859766,
          0.24879165753708896
         ],
         "yaxis": "y"
        }
       ],
       "layout": {
        "coloraxis": {
         "colorbar": {
          "title": {
           "text": "cluster"
          }
         },
         "colorscale": [
          [
           0,
           "#0d0887"
          ],
          [
           0.1111111111111111,
           "#46039f"
          ],
          [
           0.2222222222222222,
           "#7201a8"
          ],
          [
           0.3333333333333333,
           "#9c179e"
          ],
          [
           0.4444444444444444,
           "#bd3786"
          ],
          [
           0.5555555555555556,
           "#d8576b"
          ],
          [
           0.6666666666666666,
           "#ed7953"
          ],
          [
           0.7777777777777778,
           "#fb9f3a"
          ],
          [
           0.8888888888888888,
           "#fdca26"
          ],
          [
           1,
           "#f0f921"
          ]
         ]
        },
        "legend": {
         "tracegroupgap": 0
        },
        "margin": {
         "t": 60
        },
        "template": {
         "data": {
          "bar": [
           {
            "error_x": {
             "color": "#2a3f5f"
            },
            "error_y": {
             "color": "#2a3f5f"
            },
            "marker": {
             "line": {
              "color": "#E5ECF6",
              "width": 0.5
             },
             "pattern": {
              "fillmode": "overlay",
              "size": 10,
              "solidity": 0.2
             }
            },
            "type": "bar"
           }
          ],
          "barpolar": [
           {
            "marker": {
             "line": {
              "color": "#E5ECF6",
              "width": 0.5
             },
             "pattern": {
              "fillmode": "overlay",
              "size": 10,
              "solidity": 0.2
             }
            },
            "type": "barpolar"
           }
          ],
          "carpet": [
           {
            "aaxis": {
             "endlinecolor": "#2a3f5f",
             "gridcolor": "white",
             "linecolor": "white",
             "minorgridcolor": "white",
             "startlinecolor": "#2a3f5f"
            },
            "baxis": {
             "endlinecolor": "#2a3f5f",
             "gridcolor": "white",
             "linecolor": "white",
             "minorgridcolor": "white",
             "startlinecolor": "#2a3f5f"
            },
            "type": "carpet"
           }
          ],
          "choropleth": [
           {
            "colorbar": {
             "outlinewidth": 0,
             "ticks": ""
            },
            "type": "choropleth"
           }
          ],
          "contour": [
           {
            "colorbar": {
             "outlinewidth": 0,
             "ticks": ""
            },
            "colorscale": [
             [
              0,
              "#0d0887"
             ],
             [
              0.1111111111111111,
              "#46039f"
             ],
             [
              0.2222222222222222,
              "#7201a8"
             ],
             [
              0.3333333333333333,
              "#9c179e"
             ],
             [
              0.4444444444444444,
              "#bd3786"
             ],
             [
              0.5555555555555556,
              "#d8576b"
             ],
             [
              0.6666666666666666,
              "#ed7953"
             ],
             [
              0.7777777777777778,
              "#fb9f3a"
             ],
             [
              0.8888888888888888,
              "#fdca26"
             ],
             [
              1,
              "#f0f921"
             ]
            ],
            "type": "contour"
           }
          ],
          "contourcarpet": [
           {
            "colorbar": {
             "outlinewidth": 0,
             "ticks": ""
            },
            "type": "contourcarpet"
           }
          ],
          "heatmap": [
           {
            "colorbar": {
             "outlinewidth": 0,
             "ticks": ""
            },
            "colorscale": [
             [
              0,
              "#0d0887"
             ],
             [
              0.1111111111111111,
              "#46039f"
             ],
             [
              0.2222222222222222,
              "#7201a8"
             ],
             [
              0.3333333333333333,
              "#9c179e"
             ],
             [
              0.4444444444444444,
              "#bd3786"
             ],
             [
              0.5555555555555556,
              "#d8576b"
             ],
             [
              0.6666666666666666,
              "#ed7953"
             ],
             [
              0.7777777777777778,
              "#fb9f3a"
             ],
             [
              0.8888888888888888,
              "#fdca26"
             ],
             [
              1,
              "#f0f921"
             ]
            ],
            "type": "heatmap"
           }
          ],
          "heatmapgl": [
           {
            "colorbar": {
             "outlinewidth": 0,
             "ticks": ""
            },
            "colorscale": [
             [
              0,
              "#0d0887"
             ],
             [
              0.1111111111111111,
              "#46039f"
             ],
             [
              0.2222222222222222,
              "#7201a8"
             ],
             [
              0.3333333333333333,
              "#9c179e"
             ],
             [
              0.4444444444444444,
              "#bd3786"
             ],
             [
              0.5555555555555556,
              "#d8576b"
             ],
             [
              0.6666666666666666,
              "#ed7953"
             ],
             [
              0.7777777777777778,
              "#fb9f3a"
             ],
             [
              0.8888888888888888,
              "#fdca26"
             ],
             [
              1,
              "#f0f921"
             ]
            ],
            "type": "heatmapgl"
           }
          ],
          "histogram": [
           {
            "marker": {
             "pattern": {
              "fillmode": "overlay",
              "size": 10,
              "solidity": 0.2
             }
            },
            "type": "histogram"
           }
          ],
          "histogram2d": [
           {
            "colorbar": {
             "outlinewidth": 0,
             "ticks": ""
            },
            "colorscale": [
             [
              0,
              "#0d0887"
             ],
             [
              0.1111111111111111,
              "#46039f"
             ],
             [
              0.2222222222222222,
              "#7201a8"
             ],
             [
              0.3333333333333333,
              "#9c179e"
             ],
             [
              0.4444444444444444,
              "#bd3786"
             ],
             [
              0.5555555555555556,
              "#d8576b"
             ],
             [
              0.6666666666666666,
              "#ed7953"
             ],
             [
              0.7777777777777778,
              "#fb9f3a"
             ],
             [
              0.8888888888888888,
              "#fdca26"
             ],
             [
              1,
              "#f0f921"
             ]
            ],
            "type": "histogram2d"
           }
          ],
          "histogram2dcontour": [
           {
            "colorbar": {
             "outlinewidth": 0,
             "ticks": ""
            },
            "colorscale": [
             [
              0,
              "#0d0887"
             ],
             [
              0.1111111111111111,
              "#46039f"
             ],
             [
              0.2222222222222222,
              "#7201a8"
             ],
             [
              0.3333333333333333,
              "#9c179e"
             ],
             [
              0.4444444444444444,
              "#bd3786"
             ],
             [
              0.5555555555555556,
              "#d8576b"
             ],
             [
              0.6666666666666666,
              "#ed7953"
             ],
             [
              0.7777777777777778,
              "#fb9f3a"
             ],
             [
              0.8888888888888888,
              "#fdca26"
             ],
             [
              1,
              "#f0f921"
             ]
            ],
            "type": "histogram2dcontour"
           }
          ],
          "mesh3d": [
           {
            "colorbar": {
             "outlinewidth": 0,
             "ticks": ""
            },
            "type": "mesh3d"
           }
          ],
          "parcoords": [
           {
            "line": {
             "colorbar": {
              "outlinewidth": 0,
              "ticks": ""
             }
            },
            "type": "parcoords"
           }
          ],
          "pie": [
           {
            "automargin": true,
            "type": "pie"
           }
          ],
          "scatter": [
           {
            "marker": {
             "colorbar": {
              "outlinewidth": 0,
              "ticks": ""
             }
            },
            "type": "scatter"
           }
          ],
          "scatter3d": [
           {
            "line": {
             "colorbar": {
              "outlinewidth": 0,
              "ticks": ""
             }
            },
            "marker": {
             "colorbar": {
              "outlinewidth": 0,
              "ticks": ""
             }
            },
            "type": "scatter3d"
           }
          ],
          "scattercarpet": [
           {
            "marker": {
             "colorbar": {
              "outlinewidth": 0,
              "ticks": ""
             }
            },
            "type": "scattercarpet"
           }
          ],
          "scattergeo": [
           {
            "marker": {
             "colorbar": {
              "outlinewidth": 0,
              "ticks": ""
             }
            },
            "type": "scattergeo"
           }
          ],
          "scattergl": [
           {
            "marker": {
             "colorbar": {
              "outlinewidth": 0,
              "ticks": ""
             }
            },
            "type": "scattergl"
           }
          ],
          "scattermapbox": [
           {
            "marker": {
             "colorbar": {
              "outlinewidth": 0,
              "ticks": ""
             }
            },
            "type": "scattermapbox"
           }
          ],
          "scatterpolar": [
           {
            "marker": {
             "colorbar": {
              "outlinewidth": 0,
              "ticks": ""
             }
            },
            "type": "scatterpolar"
           }
          ],
          "scatterpolargl": [
           {
            "marker": {
             "colorbar": {
              "outlinewidth": 0,
              "ticks": ""
             }
            },
            "type": "scatterpolargl"
           }
          ],
          "scatterternary": [
           {
            "marker": {
             "colorbar": {
              "outlinewidth": 0,
              "ticks": ""
             }
            },
            "type": "scatterternary"
           }
          ],
          "surface": [
           {
            "colorbar": {
             "outlinewidth": 0,
             "ticks": ""
            },
            "colorscale": [
             [
              0,
              "#0d0887"
             ],
             [
              0.1111111111111111,
              "#46039f"
             ],
             [
              0.2222222222222222,
              "#7201a8"
             ],
             [
              0.3333333333333333,
              "#9c179e"
             ],
             [
              0.4444444444444444,
              "#bd3786"
             ],
             [
              0.5555555555555556,
              "#d8576b"
             ],
             [
              0.6666666666666666,
              "#ed7953"
             ],
             [
              0.7777777777777778,
              "#fb9f3a"
             ],
             [
              0.8888888888888888,
              "#fdca26"
             ],
             [
              1,
              "#f0f921"
             ]
            ],
            "type": "surface"
           }
          ],
          "table": [
           {
            "cells": {
             "fill": {
              "color": "#EBF0F8"
             },
             "line": {
              "color": "white"
             }
            },
            "header": {
             "fill": {
              "color": "#C8D4E3"
             },
             "line": {
              "color": "white"
             }
            },
            "type": "table"
           }
          ]
         },
         "layout": {
          "annotationdefaults": {
           "arrowcolor": "#2a3f5f",
           "arrowhead": 0,
           "arrowwidth": 1
          },
          "autotypenumbers": "strict",
          "coloraxis": {
           "colorbar": {
            "outlinewidth": 0,
            "ticks": ""
           }
          },
          "colorscale": {
           "diverging": [
            [
             0,
             "#8e0152"
            ],
            [
             0.1,
             "#c51b7d"
            ],
            [
             0.2,
             "#de77ae"
            ],
            [
             0.3,
             "#f1b6da"
            ],
            [
             0.4,
             "#fde0ef"
            ],
            [
             0.5,
             "#f7f7f7"
            ],
            [
             0.6,
             "#e6f5d0"
            ],
            [
             0.7,
             "#b8e186"
            ],
            [
             0.8,
             "#7fbc41"
            ],
            [
             0.9,
             "#4d9221"
            ],
            [
             1,
             "#276419"
            ]
           ],
           "sequential": [
            [
             0,
             "#0d0887"
            ],
            [
             0.1111111111111111,
             "#46039f"
            ],
            [
             0.2222222222222222,
             "#7201a8"
            ],
            [
             0.3333333333333333,
             "#9c179e"
            ],
            [
             0.4444444444444444,
             "#bd3786"
            ],
            [
             0.5555555555555556,
             "#d8576b"
            ],
            [
             0.6666666666666666,
             "#ed7953"
            ],
            [
             0.7777777777777778,
             "#fb9f3a"
            ],
            [
             0.8888888888888888,
             "#fdca26"
            ],
            [
             1,
             "#f0f921"
            ]
           ],
           "sequentialminus": [
            [
             0,
             "#0d0887"
            ],
            [
             0.1111111111111111,
             "#46039f"
            ],
            [
             0.2222222222222222,
             "#7201a8"
            ],
            [
             0.3333333333333333,
             "#9c179e"
            ],
            [
             0.4444444444444444,
             "#bd3786"
            ],
            [
             0.5555555555555556,
             "#d8576b"
            ],
            [
             0.6666666666666666,
             "#ed7953"
            ],
            [
             0.7777777777777778,
             "#fb9f3a"
            ],
            [
             0.8888888888888888,
             "#fdca26"
            ],
            [
             1,
             "#f0f921"
            ]
           ]
          },
          "colorway": [
           "#636efa",
           "#EF553B",
           "#00cc96",
           "#ab63fa",
           "#FFA15A",
           "#19d3f3",
           "#FF6692",
           "#B6E880",
           "#FF97FF",
           "#FECB52"
          ],
          "font": {
           "color": "#2a3f5f"
          },
          "geo": {
           "bgcolor": "white",
           "lakecolor": "white",
           "landcolor": "#E5ECF6",
           "showlakes": true,
           "showland": true,
           "subunitcolor": "white"
          },
          "hoverlabel": {
           "align": "left"
          },
          "hovermode": "closest",
          "mapbox": {
           "style": "light"
          },
          "paper_bgcolor": "white",
          "plot_bgcolor": "#E5ECF6",
          "polar": {
           "angularaxis": {
            "gridcolor": "white",
            "linecolor": "white",
            "ticks": ""
           },
           "bgcolor": "#E5ECF6",
           "radialaxis": {
            "gridcolor": "white",
            "linecolor": "white",
            "ticks": ""
           }
          },
          "scene": {
           "xaxis": {
            "backgroundcolor": "#E5ECF6",
            "gridcolor": "white",
            "gridwidth": 2,
            "linecolor": "white",
            "showbackground": true,
            "ticks": "",
            "zerolinecolor": "white"
           },
           "yaxis": {
            "backgroundcolor": "#E5ECF6",
            "gridcolor": "white",
            "gridwidth": 2,
            "linecolor": "white",
            "showbackground": true,
            "ticks": "",
            "zerolinecolor": "white"
           },
           "zaxis": {
            "backgroundcolor": "#E5ECF6",
            "gridcolor": "white",
            "gridwidth": 2,
            "linecolor": "white",
            "showbackground": true,
            "ticks": "",
            "zerolinecolor": "white"
           }
          },
          "shapedefaults": {
           "line": {
            "color": "#2a3f5f"
           }
          },
          "ternary": {
           "aaxis": {
            "gridcolor": "white",
            "linecolor": "white",
            "ticks": ""
           },
           "baxis": {
            "gridcolor": "white",
            "linecolor": "white",
            "ticks": ""
           },
           "bgcolor": "#E5ECF6",
           "caxis": {
            "gridcolor": "white",
            "linecolor": "white",
            "ticks": ""
           }
          },
          "title": {
           "x": 0.05
          },
          "xaxis": {
           "automargin": true,
           "gridcolor": "white",
           "linecolor": "white",
           "ticks": "",
           "title": {
            "standoff": 15
           },
           "zerolinecolor": "white",
           "zerolinewidth": 2
          },
          "yaxis": {
           "automargin": true,
           "gridcolor": "white",
           "linecolor": "white",
           "ticks": "",
           "title": {
            "standoff": 15
           },
           "zerolinecolor": "white",
           "zerolinewidth": 2
          }
         }
        },
        "xaxis": {
         "anchor": "y",
         "domain": [
          0,
          1
         ],
         "title": {
          "text": "x"
         }
        },
        "yaxis": {
         "anchor": "x",
         "domain": [
          0,
          1
         ],
         "title": {
          "text": "y"
         }
        }
       }
      },
      "text/html": [
       "<div>                            <div id=\"d37078c3-2097-429e-b4ed-2c28d6dc841a\" class=\"plotly-graph-div\" style=\"height:525px; width:100%;\"></div>            <script type=\"text/javascript\">                require([\"plotly\"], function(Plotly) {                    window.PLOTLYENV=window.PLOTLYENV || {};                                    if (document.getElementById(\"d37078c3-2097-429e-b4ed-2c28d6dc841a\")) {                    Plotly.newPlot(                        \"d37078c3-2097-429e-b4ed-2c28d6dc841a\",                        [{\"customdata\":[[\"Like a Rolling Stone\"],[\"Smells Like Teen Spirit\"],[\"A Day In The Life - Remastered\"],[\"Good Vibrations (Mono)\"],[\"Johnny B Goode\"],[\"Respect\"],[\"Be My Baby\"],[\"What's Going On\"],[\"I Heard It Through The Grapevine\"],[\"(I Can't Get No) Satisfaction - Mono Version / Remastered 2002\"],[\"Billie Jean\"],[\"Heartbreak Hotel\"],[\"Born to Run\"],[\"My Generation - Original Mono Version\"],[\"Love Will Tear Us Apart\"],[\"God Only Knows - Mono / 1997 Remastered\"],[\"(Sittin' On) the Dock of the Bay\"],[\"Hey Ya! - Radio Mix / Club Mix\"],[\"Anarchy In The UK - Remastered 2012\"],[\"Paper Planes\"],[\"London Calling\"],[\"Sympathy For The Devil\"],[\"Strawberry Fields Forever - Remastered\"],[\"Tutti Frutti\"],[\"Stairway To Heaven\"],[\"The Message (feat. Melle Mel & Duke Bootee)\"],[\"What'd I Say\"],[\"Imagine - Remastered 2010\"],[\"A Change Is Gonna Come\"],[\"Heroes - 1999 Remaster\"],[\"When Doves Cry\"],[\"Superstition\"],[\"Common People\"],[\"Gimme Shelter\"],[\"Strange Fruit\"],[\"You Really Got Me\"],[\"Crazy In Love (feat. Jay-Z)\"],[\"Seven Nation Army\"],[\"Losing My Religion\"],[\"God Save The Queen\"],[\"Bohemian Rhapsody - Remastered 2011\"],[\"Blue Monday\"],[\"Purple Haze\"],[\"Louie Louie\"],[\"I Want You Back\"],[\"Crazy\"],[\"You've Lost That Lovin' Feelin' - Single Version\"],[\"Hey Jude - Remastered\"],[\"Waterloo Sunset - Stereo\"],[\"Take Me Out\"],[\"Get Ur Freak On\"],[\"That'll Be the Day\"],[\"Light My Fire\"],[\"I Feel Love\"],[\"There Is a Light That Never Goes Out - 2011 Remaster\"],[\"Space Oddity - 2009 Remastered Version\"],[\"Stand by Me\"],[\"Mr. Tambourine Man\"],[\"Bitter Sweet Symphony\"],[\"(We're Gonna) Rock Around The Clock\"],[\"Layla - 40th Anniversary Version / 2010 Remastered\"],[\"River Deep - Mountain High\"],[\"Unfinished Sympathy - 2006 Digital Remaster\"],[\"Loser\"],[\"Fight The Power\"],[\"Once in a Lifetime - 2005 Remaster\"],[\"Paranoid Android\"],[\"Whole Lotta Love - Remaster\"],[\"Alright\"],[\"House of the Rising Sun\"],[\"Walk on the Wild Side\"],[\"Hotel California\"],[\"99 Problems\"],[\"Dancing On My Own\"],[\"Formation\"],[\"Let's Stay Together\"],[\"Jumpin' Jack Flash\"],[\"All My Friends\"],[\"California Dreamin'\"],[\"Blitzkrieg Bop - 2001 Remaster\"],[\"Dancing In The Street\"],[\"Hound Dog\"],[\"Oblivion\"],[\"I Want To Hold Your Hand - Remastered\"],[\"All Along the Watchtower\"],[\"Nothing Compares 2 U\"],[\"How Soon Is Now? - 2011 Remaster\"],[\"Sweet Child O' Mine\"],[\"For What It's Worth\"],[\"The Weight - Remastered\"],[\"Runaway\"],[\"Ghost Town - Extended Version\"],[\"Royals\"],[\"Get Lucky (feat. Pharrell Williams & Nile Rodgers) - Radio Edit\"],[\"Suspicious Minds\"],[\"Life On Mars? - 1999 Remastered Version\"],[\"Reach Out I'll Be There - Single Version / Mono\"],[\"That's All Right Mama\"],[\"Get Up (I Feel Like Being A) Sex Machine - Pt. 1 & 2\"],[\"Wonderwall\"],[\"Heroin\"],[\"Whole Lotta Shakin' Goin' On\"],[\"Thunder Road\"],[\"One\"],[\"I'm Waiting For The Man - Album Version (Stereo)\"],[\"The Tracks Of My Tears - Single Version / Mono\"],[\"Yesterday - Remastered\"],[\"Dancing Queen\"],[\"Summertime Blues\"],[\"This Charming Man - 2011 Remaster\"],[\"Blue Suede Shoes\"],[\"Good Times\"],[\"Pyramids\"],[\"My Girl - Single Version/Mono\"],[\"Paint It Black\"],[\"Video Games\"],[\"Rehab\"],[\"Rapper's Delight - Long Version\"],[\"The Sound of Silence - Electric Version\"],[\"Fortunate Son\"],[\"Papa's Got A Brand New Bag - Pt. 1\"],[\"Bridge over Troubled Water\"],[\"No Woman, No Cry - Live At The Lyceum, London/1975\"],[\"Proud Mary\"],[\"Every Breath You Take - Remastered 2003\"],[\"Maybellene - Single Version\"],[\"A Whiter Shade Of Pale\"],[\"Midnight City\"],[\"Losing My Edge\"],[\"I'm So Lonesome I Could Cry - Single Version\"],[\"Eight Miles High\"],[\"Born Slippy (Nuxx)\"],[\"Great Balls Of Fire\"],[\"Green Onions\"],[\"Maps\"],[\"Umbrella\"],[\"She Loves You - Remastered\"],[\"Stayin' Alive - 2007 Remastered Version Saturday Night Fever\"],[\"Tangled up in Blue\"],[\"Maggie May\"],[\"Will You Still Love Me Tomorrow\"],[\"Seasons (Waiting On You)\"],[\"Creep\"],[\"Be-Bop-A-Lula\"],[\"Paranoid\"],[\"Heart Of Glass [24-Bit Digitally Remastered 01]\"],[\"Kashmir - 1990 Remaster\"],[\"Walk This Way (feat. Aerosmith)\"],[\"Like a Prayer\"],[\"Marquee Moon - 2003 Remaster\"],[\"Hotline Bling\"],[\"Live Forever\"],[\"Time to Pretend\"],[\"When a Man Loves a Woman\"],[\"Brown Sugar\"],[\"Over the Rainbow (From \\\"The Wizard of Oz\\\")\"],[\"Tomorrow Never Knows - Remastered\"],[\"This Land is Your Land\"],[\"Oh, Pretty Woman\"],[\"Jailhouse Rock\"],[\"Empire State Of Mind [Jay-Z + Alicia Keys]\"],[\"I Bet You Look Good On The Dancefloor\"],[\"Like a Virgin\"],[\"Into the Groove\"],[\"Let It Happen\"],[\"Cranes in the Sky\"],[\"Song 2 - 2012 Remaster\"],[\"Purple Rain\"],[\"Wuthering Heights\"],[\"Born In The U.S.A.\"],[\"Kids\"],[\"Nuthin' But A \\\"G\\\" Thang\"],[\"Peggy Sue - Single Version\"],[\"White Rabbit\"],[\"Kiss\"],[\"Sunday Bloody Sunday\"],[\"Psycho Killer - 2005 Remaster\"],[\"Tainted Love\"],[\"Little Red Corvette\"],[\"Family Affair - Single Version\"],[\"Can't Get You out of My Head\"],[\"Honky Tonk Women - Mono Version\"],[\"Your Best American Girl\"],[\"Autobahn - 2009 Remaster\"],[\"My Girls\"],[\"Eleanor Rigby - Remastered\"],[\"Get It On\"],[\"There She Goes\"],[\"Help! - Remastered\"],[\"House Of Jealous Lovers\"],[\"Last Nite\"],[\"Le Freak\"],[\"Won't Get Fooled Again - Original Album Version\"],[\"In My Life - Remastered\"],[\"Hurt\"],[\"Ms. Jackson\"],[\"Walk on By\"],[\"Folsom Prison Blues\"],[\"Sign 'O' the Times - Single Version\"],[\"bad guy\"],[\"Teenage Kicks\"],[\"This Is America\"],[\"Blowin' in the Wind\"],[\"I Walk The Line - Single Version\"],[\"Brown Eyed Girl\"],[\"Blueberry Hill\"],[\"Planet Rock\"],[\"Crazy\"],[\"Bo Diddley\"],[\"Subterranean Homesick Blues\"],[\"Mr. Brightside\"],[\"People Get Ready - Single Version\"],[\"Virginia Plain\"],[\"Runaway\"],[\"Baba O'Riley\"],[\"Go Your Own Way\"],[\"Two Weeks\"],[\"(White Man) In Hammersmith Palais\"],[\"(Don't Fear) The Reaper\"],[\"Penny Lane - Remastered\"],[\"Smoke On the Water\"],[\"Toxic\"],[\"Roadrunner (Twice)\"],[\"Don't You Want Me\"],[\"Bad Girls\"],[\"Changes - 1999 Remastered Version\"],[\"Don't Stop 'Til You Get Enough\"],[\"Let It Be - Remastered\"],[\"Don't Be Cruel\"],[\"Papa Was A Rollin' Stone - Single Version\"],[\"Rolling in the Deep\"],[\"Living For The City\"],[\"Gloria (feat. Van Morrison) - Mono Version\"],[\"Try A Little Tenderness\"],[\"I Wanna Be Your Dog\"],[\"1979\"],[\"The Girl From Ipanema\"],[\"You Send Me\"],[\"Wild Thing\"],[\"Ziggy Stardust - 2012 Remastered Version\"],[\"In the Midnight Hour\"],[\"Wichita Lineman - Remastered 2001\"],[\"I Got You (I Feel Good)\"],[\"Idioteque\"],[\"Sunshine Of Your Love\"],[\"Search and Destroy - Iggy Pop Mix\"],[\"While My Guitar Gently Weeps - Remastered\"],[\"Ever Fallen in Love (With Someone You Shouldn't've?) - 1996 Remastered Version\"],[\"The Times They Are A-Changin'\"],[\"With Or Without You - Remastered\"],[\"Mystery Train\"],[\"Leader Of The Pack\"],[\"Let's Get It On\"],[\"La Bamba\"],[\"Dance Yrself Clean\"],[\"Relax\"],[\"The Model - 2009 Remaster\"],[\"Rebellion (Lies)\"],[\"Don't Worry Baby (Mono) - Remastered\"],[\"Debaser\"],[\"Sweet Jane\"],[\"Why Do Fools Fall In Love\"],[\"Running Up That Hill (A Deal With God)\"],[\"Beat It\"],[\"Wish You Were Here - 2011 Remastered Version\"],[\"Sabotage - 2009 Digital Remaster\"],[\"Alone Again Or\"],[\"One More Time\"],[\"Green Light\"],[\"Over And Over\"],[\"All the Young Dudes\"],[\"The Boys Are Back In Town\"],[\"Lose Yourself - Soundtrack Version\"],[\"212\"],[\"Firestarter\"],[\"Kick Out the Jams\"],[\"See Emily Play - 2001 Remastered Version\"],[\"Two Weeks\"],[\"Girls & Boys - 2012 Remaster\"],[\"Son Of A Preacher Man\"],[\"Cannonball\"],[\"B.O.B. - Bombs Over Baghdad\"],[\"Thinkin Bout You\"],[\"Many Rivers To Cross\"],[\"Gold Digger\"],[\"Israelites\"],[\"Something - Remastered\"],[\"Ring Of Fire - Single Version\"],[\"Sexual Healing\"],[\"Cross Road Blues\"],[\"Highway To Hell\"],[\"Born To Be Wild\"],[\"Da Funk\"],[\"Theme From Shaft\"],[\"Brass in Pocket\"],[\"Shake, Rattle and Roll\"],[\"(I'm Your) Hoochie Coochie Man\"],[\"Jesus Walks\"],[\"Suzanne\"],[\"Bye Bye Love\"],[\"Windowlicker\"],[\"Heartbeats\"],[\"School's Out\"],[\"Stop! In The Name Of Love\"],[\"La Vie en rose\"],[\"Fell In Love With a Girl\"],[\"Enter Sandman\"],[\"Je t'aime moi non plus\"],[\"Where Is My Mind?\"],[\"96 Tears\"],[\"Stan\"],[\"Radio Free Europe\"],[\"Bring The Noise\"],[\"Ace Of Spades\"],[\"Where Did Our Love Go - Stereo Version\"],[\"Teen Age Riot\"],[\"(Your Love Keeps Lifting Me) Higher and Higher\"],[\"Wake Up\"],[\"Rumble\"],[\"Gimme Some Lovin' - Single Mix\"],[\"Gloria: In Excelsis Deo\"],[\"Back In Black\"],[\"Tumbling Dice\"],[\"Summer in the City - Remastered\"],[\"Blind\"],[\"Killing In The Name\"],[\"Only the Lonely (Know the Way I Feel)\"],[\"Just Like Heaven\"],[\"Sweet Dreams (Are Made of This) - Remastered\"],[\"Young Folks\"],[\"Seventeen\"],[\"Sweet Home Alabama\"],[\"I Can't Explain - Original Mono Version\"],[\"Groove Is in the Heart\"],[\"Float On\"],[\"White Christmas\"],[\"You Can't Always Get What You Want\"],[\"Move on Up - Extended Version\"],[\"cellophane\"],[\"I Can't Stand The Rain\"],[\"Free Bird\"],[\"Bodak Yellow\"],[\"Lust For Life\"],[\"Heart of Gold\"],[\"HUMBLE.\"],[\"Ashes to Ashes\"],[\"King Kunta\"],[\"I Say a Little Prayer\"],[\"West End Blues\"],[\"I Can See For Miles - Mono Version\"],[\"I Get Around (Mono)\"],[\"More Than a Feeling\"],[\"I Am The Walrus - Remastered\"],[\"Under the Bridge\"],[\"Around the World\"],[\"Lola\"],[\"Georgia On My Mind\"],[\"Do You Realize??\"],[\"Hey Joe\"],[\"It's The End Of The World As We Know It (And I Feel Fine)\"],[\"Body and Soul\"],[\"Dazed and Confused - 1990 Remaster\"],[\"1901\"],[\"Fight For Your Right\"],[\"Archangel\"],[\"Ticket To Ride - Remastered\"],[\"Sultans Of Swing\"],[\"Fools Gold - Remastered\"],[\"Crying\"],[\"West End Girls - 2001 Remaster\"],[\"Rocket 88 - Single Version\"],[\"Chicago\"],[\"Mannish Boy\"],[\"Roll Over Beethoven\"],[\"Instant Karma! (We All Shine On) - Remastered 2010\"],[\"Minnie The Moocher (03-03-31)\"],[\"Work\"],[\"You Oughta Know\"],[\"Pink Moon\"],[\"American Pie\"],[\"Fake Plastic Trees\"],[\"I've Been Loving You Too Long\"],[\"No One Knows\"],[\"Monkey Gone to Heaven\"],[\"Somebody to Love\"],[\"Welcome To The Jungle\"],[\"Loaded\"],[\"Going Underground\"],[\"Round Midnight\"],[\"Long Tall Sally\"],[\"I Put a Spell on You\"],[\"Boogie Chillen\"],[\"Come Together - Remastered\"],[\"Pump Up The Volume (UK 12\\\" Remix)\"],[\"Ohio\"],[\"1999\"],[\"Glory Box\"],[\"Mack the Knife - Edit; 2006 Remaster\"],[\"One Nation Under A Groove\"],[\"Since U Been Gone\"],[\"Jolene\"],[\"Blister in the Sun - 2002 Remastered Version\"],[\"Moondance\"],[\"Jump\"],[\"Blank Generation\"],[\"Wild Horses\"],[\"Norwegian Wood (This Bird Has Flown) - Remastered\"],[\"Girls Just Want to Have Fun\"],[\"I'm a Believer\"],[\"I Will Survive - Single Version\"],[\"Another Brick In The Wall, Pt. 2 - 2011 Remastered Version\"],[\"Roxanne - Remastered 2003\"],[\"A Love Supreme Part I: Acknowledgement\"],[\"The Killing Moon\"],[\"Under Pressure\"],[\"In The Still Of The Nite\"],[\"Pride (In The Name Of Love) - Remastered 2009\"],[\"Da Doo Ron Ron (When He Walked Me Home)\"],[\"My Name Is\"],[\"There Goes My Baby - Single Version; 2019 Remaster\"],[\"Wolf Like Me\"],[\"Just Like Honey\"],[\"Bizarre Love Triangle\"],[\"Bad Moon Rising\"],[\"You Really Got A Hold On Me\"],[\"Pedestrian at Best\"],[\"Straight Outta Compton\"],[\"Dance to the Music\"],[\"The End\"],[\"St Louis Blues\"],[\"The Loco-Motion\"],[\"Hannah Hunt\"],[\"Paid In Full\"],[\"Such Great Heights\"],[\"I've Got a Woman\"],[\"O Superman\"],[\"Another Girl, Another Planet - 2008 re-mastered version\"],[\"Sheena Is a Punk Rocker - 2009 Remaster\"],[\"Voodoo Child (Slight Return)\"],[\"Midnight Train to Georgia\"],[\"I Know There's Gonna Be (Good Times)\"],[\"Because the Night\"],[\"No Scrubs\"],[\"You're Gonna Miss Me (2008 Remastered Original Mono LP Version)\"],[\"All I Have to Do Is Dream - Single Version; 2006 Remaster\"],[\"Come On Eileen\"],[\"My Sweet Lord - 2001 Digital Remaster\"],[\"Should I Stay or Should I Go\"],[\"Yonkers\"],[\"Reflektor\"],[\"Enjoy the Silence\"],[\"New Slang\"],[\"Ultralight Beam\"],[\"Hope There's Someone\"],[\"New Rose\"],[\"Ignition - Remix\"],[\"Boys Don't Cry\"],[\"Street Fighting Man\"],[\"I Only Have Eyes For You\"],[\"Run Away With Me\"],[\"Transmission\"],[\"All Apologies\"],[\"A Hard Day's Night - Remastered\"],[\"Skinny Love\"],[\"Me and Bobby McGee\"],[\"Music Sounds Better With You - Radio Edit\"],[\"Freak Scene\"],[\"Queen\"],[\"Your Song\"],[\"Starman - 2012 Remastered Version\"],[\"Make Me Feel\"],[\"Crystalised\"],[\"The Letter\"],[\"Milkshake\"],[\"Zombie\"],[\"Where It's At\"],[\"Come As You Are\"],[\"Everybody Hurts\"],[\"We Are Your Friends - Justice Vs Simian\"],[\"The Rat\"],[\"Fire and Rain\"],[\"It's A Man's Man's Man's World\"],[\"Fuck Tha Police\"],[\"Young Americans - 2007 Remaster\"],[\"The Seed (2.0)\"],[\"September Gurls\"],[\"Cathy's Clown - Single Version; 2006 Remaster\"],[\"Viva La Vida\"],[\"Smokestack Lightnin'\"],[\"Nights\"],[\"That's Entertainment\"],[\"I Love Rock 'N Roll\"],[\"Tired Of Being Alone\"],[\"Alison\"],[\"Cry Me a River\"],[\"Rock & Roll\"],[\"Rid Of Me\"],[\"These Boots Are Made for Walkin'\"],[\"Thank You (Falettinme Be Mice Elf Agin) - Single Version\"],[\"Black Hole Sun\"],[\"You Can't Hurry Love\"],[\"Round And Round\"],[\"Visions of Johanna\"],[\"Venus In Furs\"],[\"Shout, Pts. 1 & 2\"],[\"Trans-Europe Express - 2009 Remaster\"],[\"Rock the Casbah\"],[\"Hound Dog\"],[\"Clint Eastwood\"],[\"Closer\"],[\"Ain't No Sunshine\"],[\"Juice\"],[\"Lazarus\"],[\"So What (feat. John Coltrane, Cannonball Adderley & Bill Evans)\"],[\"Not\"],[\"Time After Time\"],[\"We Found Love\"],[\"DNA.\"],[\"Immigrant Song\"],[\"I've Got You Under My Skin - Remastered 1998\"],[\"Karma Police\"],[\"Everlong\"],[\"The Twist\"],[\"Do I Wanna Know?\"],[\"D.A.N.C.E.\"],[\"Revolution - Remastered\"],[\"Work It\"],[\"Good Golly Miss Molly\"],[\"Who Do You Love - Single Version\"],[\"War\"],[\"Bloodbuzz Ohio\"],[\"Comfortably Numb - 2011 Remastered Version\"],[\"Perfect Day\"],[\"Sour Times\"],[\"Yellow\"],[\"Helter Skelter - Remastered\"],[\"Cortez The Killer\"],[\"Famous Blue Raincoat\"],[\"Redemption Song\"],[\"Waiting Room\"],[\"Juicy - 2005 Remaster\"],[\"Get Up, Stand Up\"],[\"Ne me quitte pas\"],[\"It's Too Late\"],[\"The Rockafeller Skank - Full Version\"],[\"Desolation Row\"],[\"Since I Left You\"],[\"In The Air Tonight\"],[\"Shut Up Kiss Me\"],[\"Hate To Say I Told You So\"],[\"I Never Loved a Man (The Way I Love You)\"],[\"Riders on the Storm\"],[\"I'm Not In Love\"],[\"Stand By Your Man\"],[\"Wake up Little Susie - Single Version; 2006 Remaster\"],[\"Unchained Melody\"],[\"Blackstar\"],[\"The One I Love\"],[\"Ray of Light\"],[\"Ain't That A Shame\"],[\"thank u, next\"],[\"Working Class Hero - Remastered 2010\"],[\"Chain of Fools\"],[\"The Night They Drove Old Dixie Down - Remastered 2000\"],[\"Holocene\"],[\"Cut Your Hair\"],[\"Blue Yodel #1 (t For Texas)\"],[\"...Baby One More Time\"],[\"Jeremy\"],[\"Vogue\"],[\"I Still Haven't Found What I'm Looking For - Remastered 2007\"],[\"Dreams\"],[\"Old Town Road - Remix\"],[\"Higher Ground\"],[\"Who'll Stop The Rain\"],[\"He's a Rebel\"],[\"Walk This Way\"],[\"Friday On My Mind\"],[\"California Love\"],[\"The River\"],[\"The Harder They Come - From \\\"The Harder They Come\\\" Soundtrack\"],[\"MALAMENTE - Cap.1: Augurio\"],[\"Everyday People\"],[\"Soul Man\"],[\"The Thrill Is Gone\"],[\"Waterfalls\"],[\"Take on Me\"],[\"White Winter Hymnal\"],[\"The Passenger\"],[\"Odessa\"],[\"Everything Is Embarrassing\"],[\"Bags\"],[\"In the Mood\"],[\"Do You Believe in Magic?\"],[\"Earth Angel (Will You Be Mine)\"],[\"Can't Do Without You\"],[\"Fairytale of New York (feat. Kirsty MacColl)\"],[\"Sprawl II (Mountains Beyond Mountains)\"],[\"Lisztomania\"],[\"Killing Me Softly With His Song\"],[\"My Funny Valentine\"],[\"Message In A Bottle\"],[\"Koko\"],[\"Someone Great\"],[\"The Boxer\"],[\"Teardrop\"],[\"Fade Into You\"],[\"Personal Jesus\"],[\"Thirteen\"],[\"Where The Streets Have No Name - Remastered 2007\"],[\"Back To Life (However Do You Want Me) [feat. Caron Wheeler] - 2003 Remastered Version\"],[\"All You Need Is Love - Remastered\"],[\"Yakety Yak\"],[\"Tightrope (feat. Big Boi) - Big Boi Vocal Edit\"],[\"I Fought the Law - Single Version\"],[\"Push It\"],[\"Love Is The Drug\"],[\"I Will Move On Up A Little Higher - Part 1\"],[\"The House That Heaven Built\"],[\"What A Wonderful World\"],[\"Jesus, Etc.\"],[\"Cry Me A River\"],[\"Brimful of Asha (Norman Cook Remix) (Single Version)\"],[\"All Right Now\"],[\"Daniel\"],[\"Shipbuilding - Remastered in 1998\"],[\"Chandelier\"],[\"Retrograde\"],[\"Paperback Writer - Remastered\"],[\"Standing In The Way Of Control\"],[\"Rockin' in the Free World\"],[\"Let's Dance - 1999 Remaster\"],[\"One Day Like This\"],[\"You Shook Me All Night Long\"],[\"Apache\"],[\"Happiness Is A Warm Gun - Remastered\"],[\"Telstar - Remastered\"],[\"At Last - Single Version\"],[\"Hard To Explain\"],[\"Rebel Rebel - 1999 Remaster\"],[\"Fast Car\"],[\"Shine On You Crazy Diamond, Pts. 1-5 - 2011 Remastered Version\"],[\"More Than This\"],[\"Dust My Broom\"],[\"Losing You\"],[\"Hallelujah\"],[\"Blue Moon Of Kentucky - Original\"],[\"Hallelujah\"],[\"Piece of My Heart\"],[\"Police & Thieves\"],[\"Hold On, We're Going Home\"],[\"Maybe I\\u2019m Amazed - Remastered 2011\"],[\"True Faith - 2015 Remaster\"],[\"A-Punk\"],[\"White Lines (Don't Don't Do It) - Long Version\"],[\"Block Rockin' Beats\"],[\"Love To Love You Baby\"],[\"Digital Love\"],[\"Video Killed The Radio Star\"],[\"Doo Wop (That Thing)\"],[\"Dream On\"],[\"21st Century Schizoid Man\"],[\"Miss You - Remastered\"],[\"Positively 4th Street - Single Version\"],[\"Here Comes The Sun - Remastered\"],[\"Last Goodbye\"],[\"Gone\"],[\"Bad Romance\"],[\"Me Myself And I\"],[\"Pretty Vacant\"],[\"Shot By Both Sides - Remastered\"],[\"Boom Boom\"],[\"Knockin' On Heaven's Door\"],[\"Move It - 2000 Remaster\"],[\"Please Mr. Postman - Single Version / Mono\"],[\"Single Ladies (Put a Ring on It)\"],[\"Just Like a Woman\"],[\"The Boys Of Summer\"],[\"This Town Ain't Big Enough For Both Of Us\"],[\"The Dark End of the Street\"],[\"Alive\"],[\"Personality Crisis\"],[\"I Wanna Be Sedated - Remastered\"],[\"New Year's Day\"],[\"Archie, Marry Me\"],[\"Heart-Shaped Box\"],[\"Love It If We Made It\"],[\"Turn! Turn! Turn! (To Everything There Is a Season)\"],[\"Public Image\"],[\"Rock Lobster\"],[\"How High The Moon\"],[\"Inner City Blues (Make Me Wanna Holler)\"],[\"Surrender\"],[\"Take Five\"],[\"Call Me Maybe\"],[\"Feels Like We Only Go Backwards\"],[\"My Love - Single Version\"],[\"Runaround Sue\"],[\"Let's Spend The Night Together - Stereo Version\"],[\"Band Of Gold (Single Mix)\"],[\"I'm A Man - Single Version\"],[\"Everyday Is Like Sunday\"],[\"1 Thing\"],[\"Livin' On A Prayer\"],[\"Damaged Goods\"],[\"Lithium\"],[\"Buddy Holly\"],[\"Ni**as In Paris\"],[\"It Takes Two\"],[\"Hey Hey, My My (Into The Black)\"],[\"Hurricane\"],[\"Don't Look Back In Anger\"],[\"I Wanna Dance with Somebody (Who Loves Me)\"],[\"Say It Loud - I'm Black And I'm Proud\"],[\"Drop It Like It's Hot\"],[\"L.E.S Artistes\"],[\"Can't Stand Me Now\"],[\"Atlas\"],[\"Suite: Judy Blue Eyes - 2005 Remaster\"],[\"Substitute - Single Version\"],[\"Birthday\"],[\"One O'clock Jump\"],[\"Banquet\"],[\"(Love Is Like A) Heat Wave - Single Version\"],[\"Cars - Remastered 2009\"],[\"I Fall To Pieces - Single Version\"],[\"Try Again\"],[\"Rebel Without A Pause\"],[\"Complete Control\"],[\"Don't Believe The Hype\"],[\"Jealous Guy - Remastered 2010\"],[\"Race For The Prize\"],[\"Lucy In The Sky With Diamonds - Remastered\"],[\"Fix Up, Look Sharp\"],[\"Clocks\"],[\"Angie - Remastered 2009\"],[\"Just My Imagination (Running Away With Me)\"],[\"Night Moves\"],[\"Sex & Drugs & Rock & Roll\"],[\"Iron Man\"],[\"Wooly Bully\"],[\"Climax\"],[\"American Girl\"],[\"Money - 2011 Remastered Version\"],[\"Little Wing\"],[\"River Man\"],[\"Everything in Its Right Place\"],[\"Ode To Billie Joe\"],[\"Summer Babe (Winter Version)\"],[\"Making Plans For Nigel\"],[\"Faith - Remastered\"],[\"Surfin' Usa\"],[\"America - Single Mix\"],[\"Surf's Up - Remastered 2009\"],[\"Uptown Top Ranking - Remastered 2001\"],[\"The Revolution Will Not Be Televised\"],[\"Thriller\"],[\"Hellhound On My Trail\"],[\"Take the \\\"A\\\" Train\"],[\"My Sharona\"],[\"Some Velvet Morning\"],[\"Watching The Detectives\"],[\"Missing - Todd Terry Remix / Radio Edit\"],[\"The Tears Of A Clown - Single Version / Mono\"],[\"Atlantic City\"],[\"Free Fallin'\"],[\"A Case of You\"],[\"I Got You Babe\"],[\"EARFQUAKE\"],[\"God Bless The Child\"],[\"Walk Away Renee\"],[\"The Mercy Seat - 2010 Digital Remaster\"],[\"Pyramid Song\"],[\"Can't Feel My Face\"],[\"Holiday In Cambodia\"],[\"Solsbury Hill\"],[\"Borderline\"],[\"Goodbye Yellow Brick Road\"],[\"Genius Of Love\"],[\"A Milli\"],[\"Ballad of a Thin Man\"],[\"No Diggity\"],[\"Me and Guiliani Down by the School Yard - A True Story\"],[\"Oliver's Army\"],[\"Mrs. Robinson\"],[\"Master Of Puppets\"],[\"Monster\"],[\"Bipp\"],[\"Psychotic Reaction\"],[\"In Da Club\"],[\"Super Freak\"],[\"Give It Away\"],[\"Tiny Dancer\"],[\"A Hard Rain's A-Gonna Fall\"],[\"In the Ghetto\"],[\"Sound and Vision - 1999 Remaster\"],[\"Uptown Funk (feat. Bruno Mars)\"],[\"Beautiful Day\"],[\"Rock with You - Single Version\"],[\"La Grange - 2005 Remaster\"],[\"A Forest\"],[\"Mask Off (feat. Kendrick Lamar) - Remix\"],[\"Spanish Harlem\"],[\"Close To Me\"],[\"Galang\"],[\"Soon\"],[\"Hyperballad\"],[\"The Needle and the Damage Done - 2009 Remaster\"],[\"She's Not There\"],[\"Stillness Is The Move\"],[\"Pressure Drop - Single Version\"],[\"Dancing In The Dark\"],[\"The Real Slim Shady\"],[\"California Girls - Remix/Remastered 2001\"],[\"Crimson & Clover\"],[\"Across The Universe - Remastered\"],[\"Masters of War\"],[\"Say It Ain't So\"],[\"The Sun Ain't Gonna Shine Anymore - Mono Version\"],[\"American Idiot\"],[\"After the Gold Rush\"],[\"Everybody's Talkin' - From \\\"Midnight Cowboy\\\"\"],[\"Call Me\"],[\"You're so Vain\"],[\"Feel Good Inc.\"],[\"Bela Lugosi\\u2019s Dead\"],[\"Champagne Supernova\"],[\"C.R.E.A.M. (Cash Rules Everything Around Me) (feat. Method Man, Raekwon, Inspectah Deck & Buddha Monk)\"],[\"My Favorite Things\"],[\"About A Girl - Remastered\"],[\"Lady Marmalade - Single Version\"],[\"Caught Out There\"],[\"Sex on Fire\"],[\"Mind Playing Tricks On Me\"],[\"In Dreams\"],[\"Call It Stormy Monday (But Tuesday Is Just As Bad)\"],[\"Basket Case\"],[\"Train in Vain\"],[\"Gold Soundz\"],[\"Back Stabbers\"],[\"Nobody\"],[\"Sledgehammer\"],[\"Don't Dream It's Over\"],[\"1234\"],[\"Super Bass\"],[\"We Will Rock You\"],[\"Blank Space\"],[\"Money (That's What I Want) - Single Version / Mono\"],[\"Piano Man\"],[\"It's Like That\"],[\"Walk, Don't Run\"],[\"Atomic Dog\"],[\"You Get What You Give\"],[\"What You Know\"],[\"Only Shallow\"],[\"You Made Me Realise - Remastered Version\"],[\"Everybody Wants To Rule The World\"],[\"Touch Me I'm Sick\"],[\"He Stopped Loving Her Today - Single Version\"],[\"I Saw Her Standing There - Remastered\"],[\"Who Knows Where The Time Goes?\"],[\"Mood Indigo\"],[\"You Keep Me Hangin' On - Album Version / Stereo\"],[\"Only You - And You Alone\"],[\"Rock Island Line - Mono Version\"],[\"Mercy Mercy Me (The Ecology)\"],[\"Atmosphere\"],[\"It's Alright, Ma (I'm Only Bleeding)\"],[\"Rock And Roll\"],[\"Don't Think Twice, It's All Right\"],[\"I Shot The Sheriff\"],[\"Machine Gun\"],[\"Got My Mojo Working\"],[\"Int'l Players Anthem (I Choose You)\"],[\"Loud Places\"],[\"Sail Away - 2002 Remaster\"],[\"L.A. Woman - Remaster\"],[\"Fame - 2007 Remaster\"],[\"Red Eyes\"],[\"My Way\"],[\"Lonely Boy\"],[\"Ain't Misbehavin\"],[\"Supersonic\"],[\"My Guy - Single Version\"],[\"Boy From School\"],[\"Band On The Run - Remastered 2010\"],[\"The Scientist\"],[\"Praise You\"],[\"Buffalo Stance\"],[\"Coal Miner's Daughter - Single Version\"],[\"Ain't No Mountain High Enough - Stereo Version\"],[\"Caldonia\"],[\"Sunday Morning\"],[\"Lucille\"],[\"Hit the Road Jack\"],[\"Big Yellow Taxi\"],[\"Jungleland\"],[\"You Want It Darker\"],[\"Dark Star - Single Version\"],[\"White Riot\"],[\"SICKO MODE\"],[\"Are 'Friends' Electric?\"],[\"Izzo (H.O.V.A.)\"],[\"We Are The Champions - Remastered 2011\"],[\"Hold On, I'm Comin'\"],[\"Gin And Juice (feat. Dat Nigga Daz)\"],[\"Whip It\"],[\"Love In Vain\"],[\"Paradise City\"],[\"Astronomy Domine - 2011 Remastered Version\"],[\"Ruby Tuesday - Stereo Version\"],[\"I Like It\"],[\"Bro's\"],[\"\\u00c1guas De Mar\\u00e7o\"],[\"Sing, Sing, Sing\"],[\"The Wilhelm Scream\"],[\"Strings Of Life\"],[\"Start Me Up - Remastered\"],[\"Out of Time\"],[\"Down By The Water\"],[\"Animal Nitrate (Remastered)\"],[\"Do You Really Want To Hurt Me\"],[\"It Was A Good Day\"],[\"You've Got To Hide Your Love Away - Remastered\"],[\"Aqualung\"],[\"When The Levee Breaks\"],[\"Redbone\"],[\"Latch\"],[\"Step On\"],[\"Sexy Boy\"],[\"Time of the Season\"],[\"If You Don't Know Me by Now (feat. Teddy Pendergrass)\"],[\"Hurt\"],[\"Wildwood Flower\"],[\"Love Me Tender - From the 20th Century-Fox CinemaScope Production \\\"Love Me Tender\\\"\"],[\"A Teenager In Love\"],[\"Superstar\"],[\"Waltz #2 (XO)\"],[\"Rollin' Stone\"],[\"Wonderful World\"],[\"Protect Ya Neck (feat. RZA, Method Man, Inspectah Deck, Raekwon, U-God, Ol' Dirty Bastard, Ghostface Killah & GZA)\"],[\"Hung Up\"],[\"Have You Ever Seen The Rain?\"],[\"I Wanna Be Adored - Remastered\"],[\"A New England\"],[\"The Man Who Sold The World - 1999 Remastered Version\"],[\"Cry\"],[\"Down In The Tube Station At Midnight - Full Version\"],[\"War Pigs\"],[\"Don't Stop Believin'\"],[\"(You Make Me Feel Like) A Natural Woman\"],[\"Flying Home\"],[\"Rocket Man (I Think It's Going To Be A Long Long Time)\"],[\"The Adventures Of Grandmaster Flash On The Wheels Of Steel\"],[\"Rosalita (Come out Tonight)\"],[\"Staring At The Sun\"],[\"O.P.P\"],[\"C'mon Everybody\"],[\"Zero\"],[\"Fever\"],[\"Into My Arms - 2011 - Remaster\"],[\"Blind Willie McTell - Studio Outtake - 1983\"],[\"Golden Skans\"],[\"Wouldn't It Be Nice - Mono / Remastered\"],[\"Do You Love Me - Mono Single\"],[\"We Are Family - 1995 Remaster\"],[\"Wannabe\"],[\"Uptight (Everything's Alright) - Single Version\"],[\"Under My Thumb\"],[\"Atomic - Remastered/2001\"],[\"The Breaks\"],[\"Harmony Hall\"],[\"Golden Slumbers - Remastered\"],[\"You Make Me Feel (Mighty Real)\"],[\"Good Riddance (Time of Your Life)\"],[\"Luka\"],[\"Sea Song\"],[\"Then He Kissed Me\"],[\"Help Me\"],[\"White Room\"],[\"What's Love Got To Do WIth It - 1997 Digital Remaster\"],[\"The Winner Takes It All\"],[\"Baby Love - Mono\"],[\"For Your Love\"],[\"Stay with Me - 2008 Remaster\"],[\"Take Me To The River\"],[\"Please Please Me - Remastered\"],[\"Dark Was the Night, Cold Was the Ground\"],[\"She's Gone\"],[\"Rain - Remastered\"],[\"The Great Pretender\"],[\"Rock And Roll All Nite\"],[\"Nuages - avec le Quintette Hot Club de France\"],[\"Rockit\"],[\"Drunk Drivers/Killer Whales\"],[\"Pinball Wizard - Original Album Version\"],[\"Up on the Roof - Single Version; 2017 Remaster\"],[\"Burning Down the House - 2005 Remaster\"],[\"Good Lovin' - Single Version\"],[\"Cold Sweat\"],[\"Sir Duke\"],[\"Hong Kong Garden\"],[\"20th Century Boy\"],[\"Say My Name\"],[\"No Surprises\"],[\"Midnight Special\"],[\"Timeless\"],[\"Like a Hurricane\"],[\"Ready or Not\"],[\"Ramblin' Man\"],[\"Lawdy Miss Clawdy - Single Version\"],[\"Lonely Teardrops\"],[\"Word Up\"],[\"Gigantic\"],[\"Jump Around\"],[\"Save the Last Dance for Me - 2009 Remaster\"],[\"Itchycoo Park\"],[\"Temptation [7\\\" Version]\"],[\"With Every Heartbeat - with Kleerup\"],[\"Sh-Boom\"],[\"Live and Let Die\"],[\"I Can't Stop Loving You\"],[\"All Along the Watchtower\"],[\"Music\"],[\"Happy Together\"],[\"Honey\"],[\"Not Fade Away\"],[\"Teenage Dream\"],[\"At The Hop\"],[\"Your Cheatin' Heart - Single Version\"],[\"Black Skinhead\"],[\"Bring It On Home To Me\"],[\"I Feel for You\"],[\"Whipping Post\"],[\"Just What I Needed\"],[\"Get Off Of My Cloud - Mono Version / Remastered 2002\"],[\"We The People....\"],[\"Flash Light\"],[\"Norf Norf\"],[\"Killer Queen - Remastered 2011\"],[\"She's Lost Control - 12\\\" Single Version\"],[\"Reelin' In The Years\"],[\"Helplessness Blues\"],[\"Devils Haircut\"],[\"Black Magic Woman / Gypsy Queen\"],[\"A Girl Like You\"],[\"Superfly\"],[\"Sweet Little Sixteen\"],[\"Wicked Game\"],[\"Gangsters - 2015 Remaster\"],[\"Dry Your Eyes\"],[\"Electric Feel\"],[\"Runnin' With The Devil\"],[\"Holiday\"],[\"Grindin'\"],[\"Sister Ray\"],[\"I Will Dare\"],[\"Swanee\"],[\"Don't You (Forget About Me)\"],[\"Blackbird - Remastered\"],[\"It Wasn't God Who Made Honky Tonk Angels\"],[\"I Luv U\"],[\"Soul Makossa\"],[\"Regret\"],[\"Black (First Movement Of Black, Brown And Beige) - Live\"],[\"Can the Circle Be Unbroken\"],[\"Little Fluffy Clouds\"],[\"Kansas City\"],[\"POWER\"],[\"Sunny Afternoon\"],[\"Crosstown Traffic\"],[\"Pony Blues\"],[\"It's a Sin - 2001 Remaster\"],[\"One for My Baby - and One More for the Road\"],[\"The Rip\"],[\"Black Beatles\"],[\"Manteca\"],[\"Duke Of Earl\"],[\"I Can\\u2019t Help Myself (Sugar Pie, Honey Bunch)\"],[\"In My Room - Remastered\"],[\"Rebel Girl\"],[\"Mama Tried - Remastered 2001\"],[\"Pristine\"],[\"Ain't Too Proud To Beg\"],[\"Rhapsody In Blue\"],[\"Sixteen Tons\"],[\"On Broadway - 2018 Remaster\"],[\"Wipe Out\"],[\"Connection\"],[\"Disco Inferno\"],[\"Crazy Blues\"],[\"Fuck You\"],[\"Hey Boy Hey Girl\"],[\"I Want to Know What Love Is - 1999 Remaster\"],[\"I Want You\"],[\"The Suburbs\"],[\"Dum Surfer\"],[\"Black and Tan Fantasy\"],[\"Our House (Remastered)\"]],\"hovertemplate\":\"x=%{x}<br>y=%{y}<br>title=%{customdata[0]}<br>cluster=%{marker.color}<extra></extra>\",\"legendgroup\":\"\",\"marker\":{\"color\":[8,1,4,4,1,8,8,5,6,1,6,4,5,6,0,6,4,1,5,1,1,2,4,1,4,2,1,4,3,0,6,1,5,6,3,1,2,6,6,5,4,0,0,6,1,8,4,5,6,5,2,1,6,0,8,4,9,8,5,1,5,4,5,6,2,8,5,2,2,3,9,5,2,5,2,9,1,0,6,1,6,1,0,1,8,5,5,5,8,1,7,0,8,6,4,4,6,1,6,5,0,1,4,4,0,1,4,1,6,8,1,8,7,1,6,4,1,2,4,1,1,4,1,1,1,1,4,6,0,3,5,0,1,0,5,5,1,6,4,4,1,0,4,3,5,8,3,8,4,7,1,5,5,3,1,9,5,9,6,6,2,6,6,6,6,8,8,7,4,5,5,2,1,4,8,1,8,6,8,6,6,1,4,7,5,4,0,0,6,0,8,1,5,4,4,2,1,1,6,2,5,8,9,9,1,3,6,3,1,6,5,3,8,1,5,1,5,1,5,1,1,6,1,6,5,4,8,4,1,6,1,5,8,4,5,0,9,9,5,4,8,4,3,2,1,5,6,5,3,4,4,9,5,1,0,6,0,0,1,5,1,6,4,6,4,5,9,8,5,6,6,1,2,2,5,5,5,8,6,1,0,8,4,4,2,1,4,1,6,9,6,0,0,9,8,1,9,2,9,1,8,1,5,1,9,5,6,1,4,1,2,5,2,5,1,5,1,5,1,5,5,1,0,8,6,2,1,5,6,8,5,1,1,6,8,4,4,0,4,1,5,6,5,1,6,1,6,4,9,5,6,5,1,4,0,1,4,5,5,5,9,3,1,1,0,5,1,7,4,6,9,4,3,2,6,9,6,8,9,4,4,3,8,6,1,5,0,5,9,1,3,1,4,0,1,8,0,1,6,6,6,9,6,1,5,4,3,1,1,6,1,2,4,8,1,9,8,8,2,6,5,0,0,1,3,5,8,8,7,9,1,4,2,5,2,9,5,1,2,6,6,6,6,0,9,1,6,1,2,6,4,1,2,3,5,8,6,1,3,8,5,4,1,4,4,2,5,5,4,4,8,9,6,8,7,1,6,3,6,5,4,3,2,5,1,5,1,6,9,6,1,8,9,9,6,5,9,9,8,5,6,0,4,0,5,0,6,9,6,0,6,8,6,4,5,4,1,2,0,4,4,6,1,4,2,5,2,1,1,1,5,4,3,6,5,0,4,3,4,0,2,2,9,9,2,7,5,4,5,5,8,6,4,9,1,3,7,8,0,1,1,3,8,1,4,6,9,6,5,8,1,1,8,1,1,1,8,1,8,4,1,6,8,8,6,8,6,6,1,1,8,8,9,8,9,0,4,5,1,4,9,6,9,8,4,6,3,5,9,5,1,4,1,6,8,6,8,9,5,3,9,3,1,8,6,9,8,9,1,1,5,6,5,1,0,4,0,3,0,5,4,7,8,8,1,4,3,3,5,6,6,4,8,1,8,0,4,0,8,2,4,0,6,9,5,6,8,1,8,5,5,1,4,1,1,2,4,1,1,9,5,5,1,6,5,5,5,8,0,5,9,9,1,9,1,0,2,1,1,6,1,0,2,1,8,1,1,2,8,5,8,5,1,1,2,8,5,5,4,5,4,3,6,6,1,9,2,2,5,2,4,5,3,2,6,4,4,8,1,5,9,4,8,3,8,9,4,9,0,8,8,1,3,4,8,9,8,9,4,8,4,6,6,1,4,5,9,8,8,3,9,5,4,6,5,3,8,4,8,2,4,2,0,1,9,0,2,6,5,2,6,8,4,4,4,1,8,5,8,2,0,2,1,0,1,0,4,3,6,1,1,5,6,8,8,1,3,1,5,5,9,4,8,8,8,7,5,2,7,6,1,8,8,2,1,9,8,1,5,8,1,8,4,1,2,6,1,1,3,8,1,2,1,5,0,0,1,0,9,1,9,9,6,3,1,0,4,4,5,9,2,5,1,2,5,4,5,5,5,4,5,9,5,1,6,1,4,0,8,9,1,1,4,1,2,1,7,9,9,0,2,5,2,4,8,5,8,9,5,4,4,6,7,9,7,0,0,1,5,1,5,6,6,3,6,0,1,1,0,0,6,3,9,9,4,9,4,3,9,1,2,6,1,6,1,4,9,5,5,8,3,1,4,2,5,5,6,1,5,9,9,4,6,1,1,6,8,6,6,6,6,8,4,0,8,1,9,1,9,1,1,5,1,1,1,1,1,3,4,0,3,1,9,0,4,6,1,6,1,1,1,1,5,6,4,3,7,5,2,1,1,1,6,0,6,1,9,0,5,1,5,4,4,8,9,6,9,8,1,9,2,1,8,3,8,0,8,6,8,8,0,1,3,8,4,6,8,1,9,6,2,8,6,8,2,7,5,9,1,4,9,2,1,5,7,9,6,1,5,1,6,9,5,4,9,8,0,9,1,3,6,8,5,1,7,9,1,0,0,7,9,8,0,4,8,6,1,9,1],\"coloraxis\":\"coloraxis\",\"symbol\":\"circle\"},\"mode\":\"markers\",\"name\":\"\",\"showlegend\":false,\"x\":[0.04152126436715489,-1.005614937209604,1.5580546952778713,1.17329615564962,-0.3169466371174334,-1.7829439334894974,-1.3312802957283527,0.3901940850336179,-0.1289317477414577,-1.6296348530733662,-3.1550960754970547,1.462065878756383,0.20651192899725934,-0.9308436751244505,-0.7950560996234007,-0.6858054392951655,1.5779024177984415,-2.487843651455273,0.4005888054469041,-1.2729554370013723,-1.1880169206070217,-0.9314150736159417,1.0618318331531493,-0.5601530900648777,2.5878981653529882,-2.063872224327255,0.5397037084613366,2.4586661216226138,2.7077413184825825,0.4588869577682137,-3.1648627505615092,-0.7193097583198472,0.40904956297571865,-0.0958238854646659,4.546455962303566,-1.1583368142717503,-2.942934476414259,-0.7268263215611718,-2.060333143749664,-0.14369321912642904,1.3048336741242017,-0.3575131398746854,-0.6420621629791184,-1.2849040864013541,-0.01757597120212155,-2.016695420220596,1.898085451085975,0.6854313358208379,-0.20600663796622362,0.8918926607300833,-1.6070746175413053,0.44042451973762087,-0.8131862488931922,0.6022165621456618,-1.690358816631735,1.7655633527068415,1.0466543960966748,0.5449982738082154,-0.06780804217160791,-1.2725858431818895,0.5757212602415805,1.4489962602409536,-0.6189192668524863,-1.2831436905615858,-1.1421632972898514,-1.9195922102059593,0.8191353367623136,-2.0679985121462154,-2.9650688081033096,1.248570529410537,2.842079945812819,0.33121220500493276,-3.164293623798291,-0.07001496654104537,-3.3548317881835445,1.8860137757355937,-1.178486671250104,-0.5512679980837577,0.029440395723654325,-1.7866255170036474,-1.5239905485523877,-0.09519352762333358,0.9651559057305392,-0.6810714159036341,-1.5755667278028802,1.0869430269240654,-0.9170325606133979,-0.2144309675841455,-0.340344495287764,0.34406558727777714,0.5105656882948919,0.16256725065156732,-0.7599008592240694,-2.5310653575987327,0.6185630784829639,0.9701379612035147,-2.1913311946652008,0.3230054565319419,-2.372623308902284,-0.16546131545849832,1.8988104268787818,1.424028687612538,1.2020745805904403,0.8388070398650757,0.288768976193845,0.8999351317086701,2.895517896595562,-1.0653493229166815,-1.0590921120982915,-2.279058000034341,-0.44427515595315636,-1.535472377544376,0.5164191830997047,-0.05883853559077354,-1.8809347662253202,1.5966311488683929,-1.6117157943539184,-2.3895897652553533,0.6102245575588754,-0.7272948868981518,-1.3573828550014428,3.4371399307968438,-0.3652759389501842,-0.8619712284186531,0.06370039388556721,-0.519923965027092,1.983457309563727,-0.9355823350969077,-1.1885179648671063,2.759442224808099,1.100560589455043,0.4177865518383867,0.6401323783409577,1.522750937919834,0.0054058910244620915,-1.1461978107734772,-1.1756633749315508,-2.216830929929506,0.8652341734807255,0.9927229931803411,0.7591025999485602,0.4075289041288309,1.5950998530142546,0.899406277962422,0.553196238048737,-1.3542848684125846,1.8077431884169544,-2.1497571794531805,0.6822725977862701,0.486303899634343,-1.395984733100324,0.6233828799873818,-0.2703765557387405,3.4086132562962215,-1.5679246808518983,5.324721809378441,0.4528612254485089,2.9087497036603005,-0.1488635729517924,-1.3998091432877782,-3.5948626332501585,-2.4577627658861925,-1.881993279295952,-2.7811797348299487,-2.1875014913093325,-0.556448068985184,-2.115562268236897,1.4526806517983897,1.0556735789750116,0.45412050841595764,-0.6946430706875669,-2.658744366170959,0.6117338257186049,1.7501309568433623,-1.0416925055830941,-0.7652409183008274,-1.3823399016474285,-0.1506907400080308,-1.2464736162762924,-0.722734499670468,-1.7560819353683592,-0.7226885122687379,1.7230382586867843,3.3378362381923385,-0.36120800847550216,0.7044472654280529,-0.4947797263727629,0.028621416577740474,-1.3126976357925704,-0.6978746430216478,-1.9547413813834855,-1.6166309912068104,0.2658634767146662,0.9804621345127542,1.5432879240825865,-3.2404321782917145,0.644291918974888,0.34233528835270155,-1.0149539723747443,-1.786456799938055,0.5124898641789193,-1.917910483448499,3.4255476444775184,1.1165745889324017,-0.2255493530164776,1.6559678754947478,-2.0147313469506316,3.806350343519103,-1.2753902195013243,-0.5246147851723192,-0.21404962285720633,3.3991341638679384,-0.3774025465602631,-0.9725613754635036,1.2974328123335128,-0.8290156594587571,-0.14978744388867168,-1.0774820080467915,-0.13802810463661797,-0.0867202438490786,-0.3553465746214832,-3.146041706052436,-0.7495306699459845,-2.129393408727062,-0.9737528523882907,1.459179637555196,-2.5800849041896297,1.4519755167023691,-0.07329514763639183,-0.7869833301589981,-1.2175753370519713,0.5331140529956118,-1.3130176433484195,2.025133722860588,0.4681101471229761,-0.17428605006403952,2.8978870370732666,1.8333396838986598,-0.20333420342155115,0.38235336537323356,-0.8025651705199264,1.7522671681072903,0.6494923188103711,-1.6304947540817023,0.5377946288803449,-0.7622133685606828,-0.9759513428226955,0.3424258838612068,1.8685168082386157,1.50630541100459,1.131305466599635,1.2083588194835266,0.5401349098235378,-0.6234840617600989,0.010732298162519862,-1.3149025906263039,-0.024349089861136153,-0.2315189766911201,-0.40668003862266977,0.41088703582946734,-0.6779703838754011,-0.4268751492111235,1.1207089635409562,-3.328438651418576,2.5692654883490733,-0.5500665656339915,2.53839522961477,-1.6516533198536067,0.15411617345065837,-2.0588808870441904,-0.4972852164918443,0.11415361848113097,-2.0664157015399276,-2.879070995824268,-0.3086724983565748,-0.6614976788788798,0.3343327096351147,-0.8693500079828074,-2.642725917877873,0.4326313591485409,0.6083731150167621,-2.7607482692212195,0.8898651713979344,2.367142054050187,-2.8720524585526066,-0.11610418332129863,1.4559158175197748,0.34223209466872295,-1.6828836710332014,1.7075934480888715,-2.1891673025078817,0.8808507025399013,-1.3869574990776545,1.6888525601432822,-0.7292707224956533,-0.10672669662777785,1.7151218680172147,-2.592360709228714,3.688382434133162,0.061900955913311996,-2.1142035321869552,-0.725864584535839,0.6123412412167881,0.02924168560473559,2.086162510093404,0.05444721347380141,-1.4555323508575864,0.46562028909965986,1.5029472892155802,-0.7140233970278489,-2.856671732175223,-0.46857645014283666,-2.0585696175085686,-0.4972391494760922,0.4602621612175916,-0.16069877830072005,-1.2781704659294462,0.7632573239571613,-0.24419753875168326,0.5593181607447869,-0.31493601855529074,-0.8951680128421869,-0.35670126283565157,-0.2334113866395672,-2.0230365520842652,-2.033850797790887,0.11209470545910143,0.5182373038183061,-1.9380425577552636,-1.633938521474408,0.6071293281594952,-0.30143975915525895,-0.37549816014135123,-2.8423858999597513,-1.6876453606473454,3.3893835602130276,1.3642681200109594,-1.0828339726588965,2.5778059255057393,0.06960600764172678,0.8287238267954646,-2.6004955528933618,-0.03368490038221205,0.06083494561982763,-2.476793503876394,-1.0656631362338143,-2.7051478448574673,1.2760729986358201,3.0355798373830845,0.3981082128136803,-0.7286517256459785,0.970519212416432,0.07821235063176321,0.9305911663461833,-2.9118309393484996,-0.9149583610474594,2.244844387180766,-0.3635948328755466,-0.10609547171757922,-0.6398970625626133,2.696471396775991,1.2508683342909699,-1.2827682838617385,-0.49855409641896276,0.56020558228527,-0.7442629926087732,-1.2963198967031513,0.07665971775777694,2.6923359156016238,-1.8361488002579105,0.7573087037937052,1.2738849278896167,2.4289191520195215,-0.8455169602068121,-1.297127616969211,2.0810798678600646,-1.4009960145323315,-0.948281075564561,2.631594556011627,1.031699493409867,2.2232433411686214,2.8715411566641755,-1.21911266654358,-0.2842898849820248,0.18923150659795104,0.08180734654910585,0.02011044361667491,-0.7080494039502154,3.3952367439409312,0.10067625010367613,0.6639919218837217,0.9903118444659854,1.1193075718503451,1.4565669936714258,0.6193261134897651,-1.832737961691526,2.072852633489647,0.0735068035190313,-0.7117220932137551,-1.5710357156707495,-0.38751330793104066,1.4709182311562727,-0.3156179439234835,-1.0017465989892933,-0.2591713277388749,1.9635311656708898,1.5331325943718774,-1.3460522611425316,-0.6894357404247278,-2.2309049581892055,0.45865189779442966,-2.325382261304166,1.9334983855573915,-1.0803373854087568,-0.3472115392756028,2.4431916185277363,-1.43928334825563,-0.504134758627795,-3.0923545375044927,-0.8865235186324116,0.5522809556641546,1.5358948380193909,-0.7986402275786586,-1.5169910805552143,2.0031415379076476,-0.14329197378660577,-2.114147611850857,-0.9954287958803665,2.180968893388897,2.3722791574314814,-0.7292228192144454,2.397145264534895,-1.8194268399501485,0.4183427636305886,-1.3530038084051876,3.6871529190199572,-0.2715982308238549,-1.7961041309554227,-1.7986738742859825,-0.6036344868081367,-0.8801811443383019,-1.1790594557918415,-2.4002472282704517,-0.9410976747380548,1.3943553867233056,0.1543495190454944,-0.928433649572579,-1.0098224478188973,-3.004290758972885,-1.1183291355271439,1.1002190087084247,1.055057474882578,-1.499991784708974,5.33909594594398,1.1510202345604843,-1.4237542047049407,-2.2751629261480173,-0.4813328699551483,3.3055981806854655,-0.771642146243003,-0.3137099121726285,0.2418490020306449,-1.292410280958476,2.636244248443841,0.7788424572040407,-2.417219439864657,0.17166257322047423,1.38424502413257,2.3997340660102866,0.7876090479173494,-1.8330776389072618,1.4907013482120137,-0.7783106962266447,-2.0495470515800407,-0.6662375627777429,-0.48202949535479,-1.512576802867819,2.7716044821144235,-3.0185788353879746,0.015850815603207585,2.0129516572511017,1.7614228669739245,-3.4207225113186195,-0.6811546983789747,-2.394547841340111,0.011107027677345243,-0.5666553843425276,-1.2343456009838116,2.0748138953892448,-0.7605684505777821,-0.1837212732993413,-1.3525225137694257,1.8922646358979385,1.8153759414200101,-1.563757029646901,0.01019562749072872,1.912335029341625,1.5490635983621146,-1.2079473441670598,1.1212031852106399,-1.1424967305463625,0.7743261665109169,0.521903275795562,0.8717533398933693,0.23454640691552048,0.21495684233693754,-2.168811809865802,0.5312475503209328,-2.184580967165496,0.39853574517157203,-0.22669385778540782,-3.342338583195506,-1.5224610589874228,3.1077378564657216,0.17366694803328225,1.0894841918941691,-1.6192098533721204,-2.484317478702737,-0.10500671880427942,1.0651865154522169,1.042171389803775,-1.6224437996868066,-0.9045091351618286,0.38983745739277065,-2.979789316270615,-0.5525857615871536,-2.8659693033222373,-0.7575551245432837,-0.21169557501585903,-0.401795420881623,-0.04571040858291647,1.69780114407269,3.945655415722544,-1.0529227258673204,-0.039983537786246436,0.9111086864256825,1.668055392169713,4.658933787693033,1.2097339791259527,0.40649784375185233,-3.096704936919844,-2.1941578966636763,2.491999715180009,0.7553722522543197,-1.8063746441824324,1.0641530060530822,0.0715567320962961,1.7342222092351025,0.7280924985969314,-0.013465758762134855,-0.05369465275145025,-0.6934716981684678,2.667797911601146,2.3995838521847186,-1.2091229978510338,2.5321168350544236,1.6553820870469516,-0.4910907569650156,-0.5984221602503882,0.5587436051459739,-0.9286535310011004,3.5607267383297523,-1.0806180722257466,0.8067091498082963,3.4080746959359365,-0.38917256933200617,3.3823568715476435,-2.4462019246368722,1.048265397693756,-1.8808087875305264,-0.6803597201670286,0.24390543645555204,-2.4848489561977196,-1.3607788335902562,-1.1574869883844126,-1.0006429300527309,-1.4079710561802676,-0.04277780891046185,-2.7870006006748156,1.3636793256944566,-0.03633401095196987,-1.6130443893820638,-0.4345798744357295,-0.07266858430467169,-0.3485570172053155,-1.0822108756002844,-2.4292912271462073,0.06489855602824045,-0.805969047478961,-1.3814150117636341,-1.2044185114520547,-1.0300202341500344,1.280201721054966,-0.9434534226143709,2.7712406758523658,2.4081803462134928,1.0583511984798997,0.4363534861443598,-0.6545446886881088,1.9289773752209929,4.395984109597249,-1.297776941397347,1.658645858470567,-1.643288437423546,1.8664166588843825,-0.11313573144610993,2.417232589464854,0.1896646637385918,1.969790564392524,0.786548284121498,-1.3878104533541464,0.6604376375171999,-0.5648671506780553,-1.4725949248108152,-1.5755199782268394,-2.2776301925993834,-1.844085890671182,2.643228565657809,0.15890147259532253,3.517754214305722,1.2848677649248286,5.004177085568832,-1.8143947417699817,-0.4609036394404482,-0.8654929714015985,2.7140977652442526,-2.2052979618473554,2.2052771925045773,-0.976187801568352,-1.288436002714622,-0.5110316925980415,-1.2577248309281068,0.8155732834518848,-1.5115858240547133,1.264927091750727,0.7949760655691306,0.13680582602502062,3.1405923261254824,0.14502152555542766,-0.751064742895768,1.4325441424377563,3.9998574211588447,-1.1132311651410642,-0.6663921427081769,-1.199071472344021,3.7748644407585887,2.758789947738595,3.3801040082254166,0.7273798463580355,-0.9079097846591209,-1.108642619289697,1.2788108485809804,-1.7202330661615335,-1.5932696554910255,-1.262744845083492,-1.1785607220283174,1.1216317200313815,0.10094538253254379,-0.19089586992068264,-1.1437640618776708,1.347664109901093,1.0498798393256359,-2.11356142296034,2.6823497795843676,0.7731864789928685,-1.3829173893147084,-1.6320726302882946,-2.0365059855102596,-2.0541802457247256,0.3025758730349872,-0.08648795368801607,-0.13413153410806822,1.4805486501966179,-0.6323548494701057,-0.8147075278808579,-1.888922699346595,1.2228950745614384,0.6097926964635351,0.3961933301928208,2.087383321282191,0.4047021927253081,0.1140215977908582,-1.9706403816641347,-1.9376973948602019,0.6582394749956538,0.340992893121247,-0.009674288524134347,-0.8590059897618978,1.266282257733201,0.7270003424492094,1.0211501617977312,1.6256092752136717,-1.4709027019582988,1.1291689018584572,-1.123782358230674,-0.3871671417949511,-2.498421648173441,1.015738559782524,-0.17707586455773647,-1.8731938642282704,-0.6056833626293032,0.43294493559658226,-4.139477127992139,-1.6862233588243227,-1.8292497516592696,-0.8492678111402756,-1.7017066998951087,-3.6867625391100636,-1.7534268813515297,0.3407394760117819,-1.3561537012982705,-0.12154943432665269,-1.1963952818257313,-0.651147397201232,-2.512748868814118,-2.3545022145490178,-0.4688305156342177,-0.09830813588661694,1.9504695456632262,-0.20570346640248058,1.5776363548627235,2.3930896095090817,-2.688646979077679,-0.17753201815163205,-0.4084232369808104,2.2100382103546843,-2.6440246233746154,-1.813539232220963,-0.30304629268926037,-1.9837794284989616,1.936153417799254,-0.22417290254352223,2.7151889252850845,-2.579607152123115,-0.7680989296627029,0.8275796854288475,2.503945207732934,-0.5766036291200137,-0.35738677055156376,0.22651990817609427,1.1407063452235395,0.8090810632044352,-1.1089897289373902,1.500035185512742,-0.5868477314996663,3.72556575377456,1.732935459713466,1.5642575951717983,0.5615119399589943,-1.7270036682603158,-1.4182391785466244,-0.9181234791878308,3.565433868008105,2.7853040379433183,-1.9768752068658286,0.5060338495163234,-2.826465478337641,2.9406673563072463,1.5211694643033518,-1.0236832201900865,1.8782450463133347,-0.7288192074909732,-2.167349348941054,-1.6528445976859574,2.176587031500902,0.12910063893726595,1.8810444442995418,-0.40777623304713395,-0.7249958403160858,4.92307686497868,0.931205755517537,0.2398916326027316,2.8930818623989847,-1.996063263892834,0.1767831351263006,1.751164390765086,-1.4231873542573237,1.0672566284458302,-0.9397606947287149,-2.9363778162077114,0.6734590025557348,-2.2186954511524393,-0.5011836953379899,-0.5572870745782311,1.101489719887197,-0.17706096108189126,-2.4391242862578064,-2.1971684194611005,0.029446664214093587,-4.0830341505023675,-2.335053585010191,-1.9355419979057253,1.6722983708004078,3.165073491712582,2.645506209056696,-0.8138881970343883,-2.097993309475157,-0.393665105388285,-0.8824551351142095,-1.8289786918104,1.4125525446046523,-1.6694511569833277,-0.12702765875847116,0.9026954546097056,-1.8998820063145268,0.7515255761513951,1.4851569395477935,3.6167992788582617,-0.19119045572832602,-0.29827292021636104,-0.628733305768008,0.20661544191422987,-2.6378249259659725,-0.5555212968835666,-0.22910980668435663,0.894561359239501,2.3021570290641473,-0.39131002689189676,1.3347846065945745,-1.776848036890218,3.1544495710873273,1.4490674872716625,-0.3230823385116037,-0.8458841257248787,-2.980249317433813,1.2236069888276915,0.4443662929717844,-1.4197994457625662,4.309191407519019,-1.704020023468401,0.02101898696520882,-2.373446321824156,-1.8765467048349864,-0.16480246165154647,1.0135133407294825,1.8079916757055137,-2.194792746198542,-1.3695369977005236,0.9079455374573524,-0.9892786367749603,-0.4914930661482113,-0.9736452301537795,1.6662218249950143,-0.2483554607483879,-2.5464309233761306,-0.46697868582566937,-1.4600204479455212,-0.8615257234866238,1.3681168826265888,-2.886875709473313,-1.0122620042458623,-2.4203143977679895,-1.044661847296776,-0.4205289807660679,2.461381245158927,1.3811388274634606,-1.073718350316987,0.3392373328030453,3.0310482358773223,-0.8382665691552682,3.6223873640050943,5.193236150103687,-0.9934265817908002,3.4346239187746384,0.08346040006991237,1.503967654865332,1.1228177972423745,1.6344590915134274,-0.487176192893597,2.422527455266782,-1.2363972488999135,0.7103317699417921,-0.5492745156813004,-2.8781167677981636,0.9259664439223139,3.390729340388269,0.48740253443670756,0.19211000802384706,0.1655048472091422,1.9464335620423765,-0.3679924276939192,2.820620389318931,-0.480170474101865,-0.09254179430424514,-1.5070632281150376,-0.21829029443113857,0.9297574936182316,0.14022397203356907,-0.7401966436845931,1.7270763616862008,-1.1580526738296422,0.6307809414811052,0.7721702517161336,-1.0086950837223359,-0.8592429254416878,0.16928019220227922,1.3822854560504938,1.68824256141882,3.6013914937744547,0.08083364004767503,-3.162636715167171,1.067351083643854,-4.027921434210096,1.1043730708791468,-0.08991527332833459,-1.014252434362676,-1.1316011242220672,2.8010301457742237,0.2177946908043266,2.208615159290759,1.4171050410102264,-2.9988208929367213,0.5354577157956638,1.864855709338357,2.0334541597833087,2.3381034580850497,0.3510869614654952,-1.3539508921596792,0.8271424371552568,0.39609909126341525,0.8854098749046353,0.012567293419018905,-2.562154850360742,1.6295617057412342,-0.3435160150496139,0.7258185604478014,-0.1276761849053973,-1.1910707689312638,0.044057009032880394,0.8928070543556407,-0.7532876400617425,2.657828957735312,3.3801729873874145,3.017143555812377,3.936403331031487,1.8317360866982624,2.837335215861685,1.0264296917462299,3.191895444660098,-0.3338556464473863,-2.9745795691250008,-1.291936238829486,-1.243629970814606,-1.2675347788755198,0.5528820088943925,0.8008502497182459,3.3169272790641893,0.7365162298455744,0.645821224607681,-0.7189992373897353,2.0207124854814573,-0.10441430641020721,0.7934377873750618,-1.9615184947304747,-0.09697392299405745,1.39705652884303,-1.6481195399317485,-0.21725145043042454,-0.2546048031300928,1.345225314297749,3.9341146963559273,2.8843140064132387,-1.472128041011135,-0.208036076950499,0.06210301607273991,-2.6816351534647276,-2.5749510659218213,-1.1757796049507612,-0.43945679642004554,-1.7543757233326023,-1.2591004452424637,-1.1465403631996298,2.30325428888902,0.8585850729399789,-0.28785898128377596,-0.727187102478138,3.768378084112497,0.17393967691638773,0.7461282127972786,0.8199562385839527,-1.078924800248845,0.6264691514576389,-0.3180707033155688,0.676536425687606,-0.9005962280884657,-0.3360310061118461,0.1578606089718752,6.556803419574049,1.4601577528819156,0.9065789522729696,1.716818478054236,-2.0970083203991083,2.8835226351648737,-0.05809278023494242,0.9311806375329037,-0.6779744517402126,0.5139327396004507,-1.782236741430896,0.43313323786839425,-0.49804762050599155,-0.6922478524077166,-0.4185095250901468,-0.8838426222915113,-2.110692485282473,1.7966302933838636,1.6667628334621232,1.4481697156846693,0.8528318123354653,-2.084996332506733,-0.18625251326801381,0.16961290950504745,-0.08151761931391151,-1.600470906867541,0.733991269998713,-2.2027309649122873,-0.10993821883809303,1.6446746436363144,-0.22261574782652996,0.18808610137630802,0.22684972670720704,0.5976518514443369,2.2898399898237636,0.7156784651944381,-1.8311311754920838,0.706911611775638,-0.7003908528122571,1.1296946891122612,-2.3493998870500183,-0.22908594325521714,2.872368511513093,-2.910675922353405,0.30800745898660276,-2.1176239939318617,2.2029810630824422,-0.7983719366519375,-0.4061529510560348,-2.0610125359681946,-1.0101442045212365,-0.7692750774018393,-1.2137664685123433,-0.44358055771866844,-0.38943304275319063,1.8203424726579491,-1.5093137986020184,1.6711634342523884,-1.2850115262568105,-0.9630195568423932,-0.33727533524588404,2.400605113867381,-1.1852172497713371,-0.696902496920814,-1.236174377984603,-1.459167058164371,-1.9136415942487859,-2.3979296358458955,1.5109219444824185,-0.5604529833772581,2.489941209269592,0.0339286431612082,2.3860718644820174,2.0896396006394866,-3.0591935068997325,-1.9797898976552637,-1.2259616349547835,4.694378257138596,1.7807149411891738,-0.6178174584314926,-0.5305450064231272,-1.4370301743894813,0.13431860081350233,-1.9781758439924468,3.7879844525815822,0.10132680617911194,3.5680457887006427,2.04449884658107,-1.141043849615498,0.5215632036446811,1.9529447643375586,-0.9483328931350085,1.4844981117161364,-2.1513755342473666,-0.3492417003496876,0.6249105645588535,-0.775830127167015,4.399066831431449,1.6988704498501266,-0.9357140148134964,-0.4034123297568291,-0.4781056293687845,-0.016040140359899636,3.6477266533921244,-1.9782781124381705,-0.4049978222128192,0.7103275517880866,-0.5745602737715069,-1.1249362677619543,-1.327151877827479,3.499416176780478,-0.9728812476706874],\"xaxis\":\"x\",\"y\":[-0.18516781606542496,0.8832556053589317,1.117348495312841,0.5766726895142679,-0.365099365507736,-1.141164271853196,-0.0490106052677896,1.743369277935453,-2.3112223218723926,0.5269674927542721,-1.654781191602391,-1.956326588147452,2.3368168201704793,0.3035172123763163,2.9697898514541716,-1.4500098615633426,-0.5100938103065518,0.41524374519249524,2.44380878605502,0.7580912390144043,0.38975338571594526,-1.250532444754088,-0.20897134279073906,-0.37663634196873713,0.141954772735149,-2.288447159674671,-0.576392751409022,-1.4681266612966342,0.45084559642036626,2.7868841142646747,-0.16916732090454717,-0.3523295798418356,2.6098572018344663,-0.47369059218975124,-1.9917269412465455,-0.001650879808535588,-1.3406757174000448,-0.49366367865514216,-0.4563495504695023,1.912026741837942,0.05609285800992857,2.5193468897982414,2.083427034751576,-1.0548695214252362,-1.1280926414008707,-1.4237323819639873,-0.25942626239576927,1.7746194939327427,-0.12223950396046426,1.558369759739843,-0.1078757583464667,-1.234568336260315,-0.09474091042483661,0.6489613985400505,0.34804841904432343,0.6881352053906236,-1.4856315647974299,-0.6410512753431618,2.913783848390638,-1.3251839288684633,2.635423728236239,0.5925790442522575,2.0455917687980536,-1.3029363713109954,-1.3120854667920867,0.6298875187061902,2.3687523437074383,-0.5777625544195728,-1.3252916686971512,0.09783084790855588,-1.5187867092676486,1.7810335369114196,-0.6054317545353142,1.9318584111455408,-2.068146698566482,-1.8721336658029042,1.0392157812223815,2.272409101027947,-1.353991256064025,0.7969801196318861,-0.28552422526520477,0.8400357931580018,2.225899974271502,-0.0037166562739245766,-0.05385374334972985,1.467105083464213,2.606398923971529,2.113790789087864,-1.5714741423836895,-0.33753766696841286,2.052537589626003,1.0282212592876352,-1.8842351383471168,-1.5186356825233207,0.3625835597733271,0.4039243748367423,-0.39945579206473264,-1.2024146684370032,-1.1408518367234148,2.6932328385514515,3.6675068026396227,0.08473626865700173,0.5572533775010448,0.3384296604955744,1.8860936465831983,-1.078910928430722,-1.0325249749504863,0.6061928010481129,-0.970322382221892,-0.7391642432117383,0.2975890978298865,-0.5700727159826507,2.610511024864235,-0.1915286642472352,0.3533950068528105,-0.9541897117399593,1.0921786532078015,-0.4207473183957846,-0.0996470523666022,-0.0048535461337184714,-0.5711939212802003,-0.7778352273063395,0.3606151940795587,-0.24923345151903134,-1.3117997851878807,-1.2392705954096497,0.2694584277652685,-0.23689322869004445,1.8089530946724768,-1.9224800611297004,1.8700765871370348,3.1818005827838873,-1.549022009407732,-0.8855985814028058,2.5871160566816926,2.1348367474842442,0.1869840792309009,-0.8159136735945256,-0.1436561508882641,0.27996154069127754,-0.5252937848822462,2.521979052151274,-0.17307143398397834,-0.7513118523740486,1.1676266157699593,-0.6446130137690719,0.10077889506079718,-1.2350847920225143,-0.3093355050274677,2.3025693163349454,-0.2948172392154224,2.215143564662519,2.0091063539032348,-1.5536052696134286,0.36085306733150724,-1.9708380967969197,2.416829289349369,-1.2952351764872168,-2.110403454845575,-1.4053496228393294,0.7826072962813757,0.13746688264389098,-1.9704783868786788,-0.8671572256447915,0.18054869561968084,-0.8056923552781702,-0.5448182847110374,2.334625137337645,-0.21275704753593877,1.8818020139438032,2.1979934327060304,-1.8180235091627122,-0.9429866980979059,-1.1909956563327784,-2.6480946591699506,0.1089261235668315,-0.8585782661470391,-0.8801560114620688,-0.19910139504946867,-2.9033412365720794,-0.6297562514450709,-0.4738912456103747,0.22179657583970433,4.009491660088503,2.106254164181605,-1.798963609360238,2.176367617054273,1.7122233531190088,-1.0342278763363257,1.9423358537476725,0.11974200565658977,-0.3327510044259651,2.4449058782194846,-0.9680317012072005,-0.864721701718867,-1.9111321418536504,-1.4675434395567115,-2.006725912359857,-2.4510551388218693,-2.1969332954792677,1.6906039473027175,-1.4504917288739818,-1.5963983876283445,-2.1807975075616577,0.03247588281281815,-0.6640843777246545,-1.185178406207804,-2.4635814171280805,0.02464397927545316,-0.7927212513828787,2.8582443604324346,-0.6157645007537775,-0.297795333820664,-0.027735864980492447,1.8277823219983262,0.15424967510010598,1.2927036129162133,-0.06690038131500678,1.9970011435034003,-0.5574328781688719,0.519560185199787,-0.454776725208966,0.41680492992723156,-1.6267784100400722,2.2101272016996387,-0.18770754082865346,-1.2697627153250328,0.3721048847108886,-2.157011923176522,-1.5914894031617053,-0.01414924273661485,0.9658993113754614,0.0813803466766641,-1.4155510699311153,1.824834727228113,1.41425275451184,-2.650992751169299,-1.5738214404573592,1.7497769998861032,0.055838650082729126,-1.3827663227135967,0.754470778932633,-0.8751509248918308,0.07660119040190377,-1.166490717610484,3.13627618220391,-0.27504477540961664,2.2306659111469123,-0.4079543406614813,0.9456213094659383,-1.1825790828357234,-0.04872151643484047,1.3820858629760218,-0.4418980172223338,1.2821037693498152,-1.1275873279198116,1.1706383059682077,3.13232142134942,-0.440355003512636,1.906601819156104,-0.15152935931682301,-0.1766324096824484,-1.5353428193238314,-0.6554041460681624,-0.22343804132280756,2.4015812566509593,-0.07025278747627259,-0.30613452017031484,1.399507554545406,-0.39857329826201554,-0.7540279701584445,0.16395158685478525,0.8246440576246453,-1.3767890459178451,2.7687306441288255,2.4243298402946847,1.9051981549908206,0.25654887287415523,-0.6743650992898236,-1.3091076942365754,2.3945330403252134,-0.02585161637333065,-0.9220493163514346,0.15937582049369908,-1.2444375102635261,-0.7885021921855206,0.4353784066835652,-1.0042239215249333,-2.072480002709009,-2.2152264315470456,-0.08137782753641978,1.5650008056847793,1.555047707178968,-0.8860977867670614,-1.4904314785932178,-0.8752539836040077,-2.5527693330560504,-1.4759064926075967,-2.2436627400621942,-1.0017236065688915,-0.14388765393724837,0.15968315312583659,2.196214794526594,-0.11157892493596454,-1.4895636302496231,2.350293424586337,-0.15561146025845268,0.12180520571292926,-0.22643240217929136,-0.3171389226996667,-0.6016214867373613,2.0001553659675104,-1.5001757635744137,2.477858821767507,-0.7433359117769084,3.2842641974824067,-0.1937446769462336,2.902096300961502,-0.20464823345120578,1.997707712190797,1.589422180876401,0.45034627789050835,1.7814215339131847,-0.26624163010349206,-0.421890202056381,-0.33524753982499295,-0.8258967425589802,1.5995202412985965,-1.3761439570222427,0.28795955974924564,1.9720057167279352,-0.3949292678792461,-0.30866866185151876,-0.68644649828489,0.07456978384824947,-1.063929307592698,0.7966771678071664,2.0153429097359497,-1.0343720945126171,-1.0327322565805908,3.355856986879123,-1.6694965772536992,3.1369213979399024,-0.04003969012311057,-1.4730915259632138,-0.015788998062037922,-1.5378858730674052,-1.2063502623020836,-1.4142478285134785,2.129656981969281,-0.9787883788532383,1.673481820715421,0.3657030926374443,-0.6709729585003461,0.33276407832150373,1.1319918080024127,-0.4966607871408496,1.871992386081083,2.4376188478026184,2.1068336220132102,-2.02340092505425,0.6894259004974724,0.9221938678499138,-0.08650352030757913,1.5118528347014062,1.434208665364552,0.4537689381479695,3.1270351248686947,-0.347001074863714,-0.08889400112275199,-1.5038210780696586,0.011107313389653524,-1.5519844650432668,-1.5960995494584587,-0.4718057454968779,-2.584519073023789,-1.1576003146835467,0.29043893283633343,-1.879804688074753,0.08325472404117262,-0.04130565465483902,-1.0894316310804866,0.891165269848337,-1.5172424881040794,0.2007573642996063,2.6863759251466366,2.336298667182228,1.7536793103120485,-0.3959737199153658,0.09214772461545362,-1.6472498026380866,-0.8281541671364245,0.5333373492005965,0.9379099788790459,-0.5197736790257835,-0.9987176056276168,1.6586424474847692,-0.29802750880223483,-1.2213811170075524,-0.27844272151147076,-1.9755588082462558,-1.9711304209937246,-1.1825782884175522,0.7081717851764675,1.4217244552937094,-0.06077749751068431,0.21097626162406666,0.3166864599552275,-0.5244537009097914,-1.0739802327429382,-1.1129052443151228,-0.6924186739282964,-0.19713070241176064,0.21818266167845715,-0.2551348671419478,-1.0851025601102913,0.8779150587250283,-0.06878456732047401,-1.439792597114962,-0.8782875708697098,2.809582408283721,1.8842724169316658,1.8058663022748995,-0.2077366996034601,-0.7660963422656302,2.005942500049902,-1.0379260036182973,-0.5086308809813437,1.0798581929250004,-1.4240790430683352,-0.2402534480678156,0.7495110450946956,-1.7992234031304557,2.2407517436413746,-0.8685328272973015,-2.013529716378268,1.5647818323723295,1.3359109822607231,0.38612759836839033,-1.6596626376193353,-1.2052519383667908,-0.6655513936236376,-1.5808827846846176,2.0274891201406526,-1.7102369704115838,0.0454572430882302,0.44287083586859227,-0.17089809583534474,-0.9853794380180015,-0.14287070060636536,0.021534229019348865,-0.8961561892857508,-2.112390825152893,-0.6316286125360431,2.0687709579022653,-0.8851286395083878,-0.13942367188854868,0.3820425992228603,-0.05372330204372807,0.5241073145297245,2.042234382850139,0.41087498449004756,0.4834935543175015,-1.8463505707946783,-0.3550902776429636,-1.0853125778497046,3.1293952490737547,1.8562906626870748,-0.8081703940279888,0.5104597104832233,-1.8337390843430834,-1.1085046662335956,-2.4268331145247592,-0.5298329498185868,2.245107409976194,0.005926171946763583,0.06996254387830458,1.3619633092772412,0.7453815920533182,2.776327884735717,-1.305749245106011,-0.566054821192226,-1.4574112909078256,1.9871567624772355,0.4869755249543315,2.1167232580096615,-0.22646481422259324,-0.5990391887081415,-1.8079710086857974,-1.6801625308157095,-0.47171622788242523,-0.16703858540456215,-2.008060317924026,-0.484296892622087,-2.16690029099738,2.076478923984405,-1.884919254209199,-2.230560718293069,-1.4730546683974948,1.8897975967272351,-1.238795254790175,1.5312396311396934,-0.35890193620058447,2.5059781426960344,1.5907360390554957,1.0037859431511358,-1.1368905072819249,-1.674977939831268,-0.8493785424725957,1.644611586831034,-2.7048344685570664,-0.36190930479470945,-0.3931198487236119,-0.6756460647269642,2.0284659635218247,-0.2067176626616695,0.4797568642313637,-1.1396339805173235,1.8425038295954295,-1.0531179303962017,0.5839894078897125,0.3983959084414644,-0.12329968998759759,0.34586669622512134,-0.010773918069351235,1.2892241945571992,-1.564292383826968,0.2474430867854632,-0.439748846472408,-0.47925599222911214,2.416131663360586,0.431765510849133,-0.7543075052299556,-0.6624151354667245,1.7449499212022044,4.5715776795145935,-0.4064871768999499,-2.2770753367419228,-1.1973989423219498,1.7122051172441006,-1.8185775352030242,-2.888622173495989,-1.1874657706842333,-1.510703226581091,0.9242106498561635,1.3394455054308976,1.8785069737594577,-1.0672925280919177,1.619782047465725,2.3255195382777933,-1.127952809818086,-0.9952220382048557,0.3070521300655371,-1.6545670707047546,-0.8577980439992898,-0.10502055946940378,1.9998611134207658,-0.2021545440605875,2.144116176886133,-1.247634577374496,-0.33168905305307483,-1.4362246259288618,-1.0878831139111294,-0.07318912525656024,0.3856081694608368,-0.01813925143930438,-0.23226486286103867,-1.0413826739700334,2.141224831128822,0.10561809395498714,0.29409785548651696,-1.2139358307027996,-1.3554322095188762,-0.03949934194700909,0.2576737292579048,-0.7037342994698442,-0.7306468045992588,0.27633484726195706,0.313287566422551,-0.34060941703337655,-0.9927335929334085,-2.544561710472888,-1.7881414686109487,-1.8578469776939235,-0.7644801766231994,-0.6251509675583136,-1.1577910289752982,-0.9825767830667305,1.017732059717174,1.0232543365492954,0.14075870878313368,-0.4271994564480205,-1.6507538542341789,-0.012015518859064787,-1.677177607736011,1.9278538101199156,0.2032315680309242,1.7147212299552121,0.8096295353131664,-0.6387040464177275,-2.965115645167589,0.49781630962628576,-1.1676853507392626,0.028974889868349823,-0.8117244999005937,-0.9404859864972142,-0.22634944886530003,1.3023401268957568,-0.6860660819153266,1.8147030856735267,-0.6474247526290894,0.27178445903022524,-1.6960248910704112,-0.747241709669839,-0.015164820923438583,-1.9256422857240671,-0.3570344811714991,-1.4900209665896877,3.239386291378773,-1.4954602757611313,-1.70343703844101,-3.087998481756924,0.22645942774241964,-1.429087171827176,-0.7153982251388777,-0.36740674110570515,0.9866263597678961,-1.8551546127948155,0.730865834167083,0.2172653131535012,1.9646146017520738,-0.16987006045331268,2.179431824714621,0.777643616196066,1.0501088330898836,-0.1799450958017041,3.6287981637530504,0.7173048615231639,2.086101205620265,1.4567649624533516,-1.709243016541911,1.759679040420435,-0.17883672636149275,0.7407443666742306,0.44474169738939695,-0.3460894874389731,-1.2812425086570605,0.4354139920320009,1.4540799671070488,-2.668932391999291,-1.5423379972232727,0.2994392921174933,0.3875750893620632,1.1545961312643782,-0.18448388379925293,2.0722290199708175,-0.6199992784976701,2.104850418897739,-0.27722914641925966,-1.101253439875896,0.8257591867052062,2.2468354259032686,-1.4181534973828203,-1.7317442759096795,0.8080038055384949,-0.13366769885558644,-1.7519287087824071,0.9416999507507694,-0.5353249587523758,2.1484964509407267,2.4965974197981673,-0.04549084619051637,0.3588383337449555,0.1851381259352177,-0.7889201731781051,0.35362450661988604,-0.520424489087673,-0.23071451175891552,0.04292269534039044,-0.9450249547601564,2.1690466364692846,2.1188304693720044,0.7402624422442277,0.6505593154227841,2.9758408617091225,1.6580154094186492,2.2228518744962034,0.2666852742786766,3.666166665052187,0.8585691004373177,-1.8948739928535394,-1.220832212463876,1.481055326060186,-0.5224795754878983,-0.33336637391441143,3.3540113663907505,-1.1061101935437105,-0.8058120630888932,0.04937955728027159,-1.7522009120746491,0.06799688000057902,1.4881641876361127,-0.5354609101507294,1.2665567725523847,-0.08172460678472648,0.3522322454774449,0.7043721797621219,-0.8209174798655026,-0.7015959162128668,1.8456476443596315,1.0045016153000572,3.1383482515030288,0.0038019709265024607,-1.5020694904970802,-1.227920163380371,-0.2050135097424624,2.72585141825771,1.5168855881621872,0.2226464070628347,2.0986230984066876,0.251413163720627,-1.099038357265329,-0.2960435842950085,-1.2597542841541998,0.16045007046617554,-1.4084497337716402,-1.5452285953172953,-1.362429892414793,3.6774825631036205,-2.7168182660993723,-0.6338235274291666,2.8526414630353,-0.3709118443066636,-0.8793972155125152,-0.8380595296810445,0.16684263743961075,0.7817147989496703,-0.21237073195387024,-1.5741211882435941,2.1977560196056842,-0.9766757305319493,-0.20379167738697937,0.005059504135642023,0.1109475159826381,-1.493927802283259,-0.6915847733736051,0.20566432109215393,-1.610228735864174,3.0859501733818417,0.45042474130196664,-2.51128283473554,0.16393858328066777,0.10027762813713453,-1.3356144532740692,-2.1763078754723546,-1.7591118463272697,0.109277211714922,-1.8163440435746108,0.2817420250178513,-0.010978977046176775,0.056896920675361846,-1.9759647329345909,-0.9978153264561398,0.7778472711080726,-0.4805593692234472,1.715504209272841,-1.4972673192380497,-0.2360007751166998,-1.0968129546567746,-2.5983779198147623,-0.7511340162997956,3.256900024039725,0.4305930999918222,-0.8218842673575754,3.3680041592186436,-0.8356798299593169,-0.03147631730373108,-0.09425173675690698,-1.4112356071582939,-1.3390827686499394,-0.5571213218329686,-1.7039853514520948,2.5463296611345156,0.29558838403856114,-1.7142271728127414,2.4859186016807193,0.22338279178278703,-0.7354444040009767,1.985359551756617,-2.572445646783137,-1.3184175142813226,-0.4214056733376401,0.8984887857124122,-1.7869021171548094,-0.9791387345613956,0.38807173418550245,-1.0240404649451875,2.194344346054439,-1.4753184272616426,-1.6637528013164886,2.182721931331018,-1.2350088892171112,-0.5441713343728888,0.15314268936423678,-0.47594468529125306,2.550510148464376,0.39647946866100686,-1.7524046866365033,-0.4668669093512127,-0.0970339819458963,-0.44534210436089305,1.4500937019174163,-1.3330766434948587,-0.5989631152715342,-0.5306891450513802,0.15032636224195245,-1.0635891279527774,0.44696292859196324,1.531226905240962,2.7970664492464925,-1.426152358789651,-0.7058794472397871,-0.35613646979301516,-0.4935444807439327,-0.8030655406996181,3.502966115400063,3.573824914139378,-1.7627900399484668,1.3217200133751563,0.3007222474049367,-0.6507482651416293,-1.1991828565150255,0.35014151758189443,-3.281272525744168,-0.9273800003207896,-1.4139823111767882,0.43925924327322885,-0.38522426025362744,0.9801960222796513,-0.9240196975310018,0.9435982027195612,0.02549369676386353,-0.5653292795372571,-0.6685938222055242,-0.27217851882691907,-2.3395796097009716,-0.2078672623287529,-0.3675849605850485,1.0334898597865851,-0.9254466690471725,0.7925786480568806,-2.007011786731743,0.6419470002756615,1.8246533140506127,3.3924063991563727,3.672125198122368,0.3802608395388877,3.2761519045602103,-0.6029911561168438,0.3418723707300417,-1.075616456092539,-3.1950617024002135,-1.539081155645736,-1.537159947906358,-0.37357058630269724,0.8816715466191922,0.7028343165051701,-1.2164860848166572,2.315420140455413,-1.9268387046271342,-1.7068409978612582,1.0159221047885958,0.011059625529611827,-0.7435233256521582,0.8020562609793852,-0.7906815552632392,2.5210876699131877,0.8400014096108498,2.529158511567082,0.9109197727497945,2.0530566232498675,-0.7519543399553057,2.0019557666552026,-1.0318754953245262,-0.01468736231817217,0.37405089671796915,-0.12339024791448908,1.9964579186224165,-0.41920437858693665,-1.5923783370761453,0.0363966760795482,-0.6279093029326873,-0.4295686540032256,-0.2618100649591706,-2.174329659916474,-1.1899996461405782,2.333760602506938,-1.835808280949463,-1.8525838370095693,4.93418039263794,-0.5363017817418665,1.802985038077041,-0.13606563638469843,-0.15562674775669097,-2.270747515139829,1.7072865529589114,-0.8447374844579545,-1.7164412839980654,2.3586312279394317,2.219005979412387,-0.42753910619104396,-0.9927836615027682,4.408008567788676,-1.4720427054478442,1.2504111928562376,0.7890227714362985,2.721056814516815,0.13711837659172596,1.157712248171571,0.3235696348888163,1.6076148473069036,-2.4011988950765764,-1.6163786959419102,0.6639279014366142,-1.0805276168801332,3.371507125366425,-0.408891021999127,0.6693949726574993,1.948461596598391,2.4999375648072943,0.02861738700581676,-0.6286690316101425,-1.8892762447807752,-1.6795583155412532,-2.3773459685238514,-1.7246261845535316,-0.5326553296330894,-0.2189109627778825,-2.8725318880593447,-1.39006922843621,-2.1856624047985376,-0.5113652035443883,-0.16219658332072265,-0.004613881122925408,-1.4840063808853918,-0.126714931816844,-1.6549620163109073,2.055794713012302,1.4414649702910063,0.28532862639113826,-1.488975526417965,-0.07279708144306232,0.18807416463963428,-0.8363606660187946,2.702230483421328,1.6146681212322072,-1.4776785625515978,-0.32574340619829706,2.793057379612282,-1.9222361055218664,-1.3860697070692514,-0.8043818700652856,0.9586949016383789,-0.259190258273068,-0.4367741063302577,-1.301572485083052,-1.1183765445947194,-0.40878696013662935,-1.7098805700930337,-0.3571829831529168,-1.7599617001972874,-1.0629787258158956,-0.7683431779190637,1.2268028961801913,-0.903754798437353,0.028082968626535296,-0.2013159662982025,-0.26379187135367504,-1.1786131050041282,-0.22377976895880566,-0.8087021618531435,1.3787827889483701,-0.12835452793053817,-0.06893490161313283,0.5288033666433392,-1.4487999245385663,-0.47587170001911944,-2.8012455868439177,-0.5383448156925479,3.302954493533347,-1.1396159698579547,0.5373398199341333,-0.44961010305620125,1.005460086192382,0.5233508554249913,-0.5581954352454988,-1.1903617136846618,-1.3605300276059054,0.6425388528324781,-0.5670812931174157,-0.620654134871498,0.2776486765062847,2.3017875559857357,-1.3681092893966127,0.6195726924797749,-0.6245211809338266,3.306639497409122,1.2405896794232176,-2.455237813652156,1.2988138552303439,-0.8307225025560202,-0.9084269300739913,-1.6017211212231304,1.7173935584665863,-1.2945072781603342,-0.5706955444564921,-1.4737116665718266,2.215012803877935,1.668108237615215,-1.5824312146151986,1.3693674746164772,-0.1352472815991952,-1.322442492441377,-0.2531332589146664,-1.479287037839479,-1.018278531570732,-2.120001442354449,-0.4876861866072035,0.5030818151499395,-1.9786850110016356,-0.6995871448719013,-0.5070099010048233,-0.3097494903278114,0.5926029754111661,-0.49116576819039726,2.1260842685932975,-0.37670871773270226,-0.7105081698739161,-1.8983157601831888,-1.0135551245606518,1.049325095744971,0.4594322467464991,1.0407810504237887,-0.25455153428961236,-0.14527821275367914,-0.047121459979213284,-1.1270049356457585,0.22574120901597478,-1.8366871973666656,-0.16215486616648506,-2.027405592431915,0.3138930508018422,0.16573373469970887,-1.2227416400128501,0.3484360573299344,4.172500760597744,2.0673441395266545,-2.154198081058672,-0.34598080264950726,-2.091376410995875,-1.2054432774542916,-0.6182028166483168,-0.0358629963623723,2.1784005804741176,1.2142712666992954,-1.5417223561030553,-0.8606605787265373,-0.6304209823968903,2.4384738184820676,0.11215522518444454,-0.21037136761287745,-0.04964151645118749,1.624595856111981,-1.6150801543133242,-0.5892484516870317,-0.11828056213683007,1.4468250886545175,-1.2324728662264588,-0.33591552576615713,-1.093550893990085,-0.035757253354978584,-1.5611293105594959,2.004021492323299,-0.8695703264105575,0.4699547773791283,-1.4509910919218072,-0.7426870513892941,2.988354219853188,1.4310910431237578,1.020521771681626,-0.14580310157711698,0.18400538607896116,2.260602707638382,-0.30679479319055214,-0.667550920795237,-0.14543526102408952,0.945942153791509,-1.5688701971859766,0.24879165753708896],\"yaxis\":\"y\",\"type\":\"scattergl\"}],                        {\"template\":{\"data\":{\"bar\":[{\"error_x\":{\"color\":\"#2a3f5f\"},\"error_y\":{\"color\":\"#2a3f5f\"},\"marker\":{\"line\":{\"color\":\"#E5ECF6\",\"width\":0.5},\"pattern\":{\"fillmode\":\"overlay\",\"size\":10,\"solidity\":0.2}},\"type\":\"bar\"}],\"barpolar\":[{\"marker\":{\"line\":{\"color\":\"#E5ECF6\",\"width\":0.5},\"pattern\":{\"fillmode\":\"overlay\",\"size\":10,\"solidity\":0.2}},\"type\":\"barpolar\"}],\"carpet\":[{\"aaxis\":{\"endlinecolor\":\"#2a3f5f\",\"gridcolor\":\"white\",\"linecolor\":\"white\",\"minorgridcolor\":\"white\",\"startlinecolor\":\"#2a3f5f\"},\"baxis\":{\"endlinecolor\":\"#2a3f5f\",\"gridcolor\":\"white\",\"linecolor\":\"white\",\"minorgridcolor\":\"white\",\"startlinecolor\":\"#2a3f5f\"},\"type\":\"carpet\"}],\"choropleth\":[{\"colorbar\":{\"outlinewidth\":0,\"ticks\":\"\"},\"type\":\"choropleth\"}],\"contour\":[{\"colorbar\":{\"outlinewidth\":0,\"ticks\":\"\"},\"colorscale\":[[0.0,\"#0d0887\"],[0.1111111111111111,\"#46039f\"],[0.2222222222222222,\"#7201a8\"],[0.3333333333333333,\"#9c179e\"],[0.4444444444444444,\"#bd3786\"],[0.5555555555555556,\"#d8576b\"],[0.6666666666666666,\"#ed7953\"],[0.7777777777777778,\"#fb9f3a\"],[0.8888888888888888,\"#fdca26\"],[1.0,\"#f0f921\"]],\"type\":\"contour\"}],\"contourcarpet\":[{\"colorbar\":{\"outlinewidth\":0,\"ticks\":\"\"},\"type\":\"contourcarpet\"}],\"heatmap\":[{\"colorbar\":{\"outlinewidth\":0,\"ticks\":\"\"},\"colorscale\":[[0.0,\"#0d0887\"],[0.1111111111111111,\"#46039f\"],[0.2222222222222222,\"#7201a8\"],[0.3333333333333333,\"#9c179e\"],[0.4444444444444444,\"#bd3786\"],[0.5555555555555556,\"#d8576b\"],[0.6666666666666666,\"#ed7953\"],[0.7777777777777778,\"#fb9f3a\"],[0.8888888888888888,\"#fdca26\"],[1.0,\"#f0f921\"]],\"type\":\"heatmap\"}],\"heatmapgl\":[{\"colorbar\":{\"outlinewidth\":0,\"ticks\":\"\"},\"colorscale\":[[0.0,\"#0d0887\"],[0.1111111111111111,\"#46039f\"],[0.2222222222222222,\"#7201a8\"],[0.3333333333333333,\"#9c179e\"],[0.4444444444444444,\"#bd3786\"],[0.5555555555555556,\"#d8576b\"],[0.6666666666666666,\"#ed7953\"],[0.7777777777777778,\"#fb9f3a\"],[0.8888888888888888,\"#fdca26\"],[1.0,\"#f0f921\"]],\"type\":\"heatmapgl\"}],\"histogram\":[{\"marker\":{\"pattern\":{\"fillmode\":\"overlay\",\"size\":10,\"solidity\":0.2}},\"type\":\"histogram\"}],\"histogram2d\":[{\"colorbar\":{\"outlinewidth\":0,\"ticks\":\"\"},\"colorscale\":[[0.0,\"#0d0887\"],[0.1111111111111111,\"#46039f\"],[0.2222222222222222,\"#7201a8\"],[0.3333333333333333,\"#9c179e\"],[0.4444444444444444,\"#bd3786\"],[0.5555555555555556,\"#d8576b\"],[0.6666666666666666,\"#ed7953\"],[0.7777777777777778,\"#fb9f3a\"],[0.8888888888888888,\"#fdca26\"],[1.0,\"#f0f921\"]],\"type\":\"histogram2d\"}],\"histogram2dcontour\":[{\"colorbar\":{\"outlinewidth\":0,\"ticks\":\"\"},\"colorscale\":[[0.0,\"#0d0887\"],[0.1111111111111111,\"#46039f\"],[0.2222222222222222,\"#7201a8\"],[0.3333333333333333,\"#9c179e\"],[0.4444444444444444,\"#bd3786\"],[0.5555555555555556,\"#d8576b\"],[0.6666666666666666,\"#ed7953\"],[0.7777777777777778,\"#fb9f3a\"],[0.8888888888888888,\"#fdca26\"],[1.0,\"#f0f921\"]],\"type\":\"histogram2dcontour\"}],\"mesh3d\":[{\"colorbar\":{\"outlinewidth\":0,\"ticks\":\"\"},\"type\":\"mesh3d\"}],\"parcoords\":[{\"line\":{\"colorbar\":{\"outlinewidth\":0,\"ticks\":\"\"}},\"type\":\"parcoords\"}],\"pie\":[{\"automargin\":true,\"type\":\"pie\"}],\"scatter\":[{\"marker\":{\"colorbar\":{\"outlinewidth\":0,\"ticks\":\"\"}},\"type\":\"scatter\"}],\"scatter3d\":[{\"line\":{\"colorbar\":{\"outlinewidth\":0,\"ticks\":\"\"}},\"marker\":{\"colorbar\":{\"outlinewidth\":0,\"ticks\":\"\"}},\"type\":\"scatter3d\"}],\"scattercarpet\":[{\"marker\":{\"colorbar\":{\"outlinewidth\":0,\"ticks\":\"\"}},\"type\":\"scattercarpet\"}],\"scattergeo\":[{\"marker\":{\"colorbar\":{\"outlinewidth\":0,\"ticks\":\"\"}},\"type\":\"scattergeo\"}],\"scattergl\":[{\"marker\":{\"colorbar\":{\"outlinewidth\":0,\"ticks\":\"\"}},\"type\":\"scattergl\"}],\"scattermapbox\":[{\"marker\":{\"colorbar\":{\"outlinewidth\":0,\"ticks\":\"\"}},\"type\":\"scattermapbox\"}],\"scatterpolar\":[{\"marker\":{\"colorbar\":{\"outlinewidth\":0,\"ticks\":\"\"}},\"type\":\"scatterpolar\"}],\"scatterpolargl\":[{\"marker\":{\"colorbar\":{\"outlinewidth\":0,\"ticks\":\"\"}},\"type\":\"scatterpolargl\"}],\"scatterternary\":[{\"marker\":{\"colorbar\":{\"outlinewidth\":0,\"ticks\":\"\"}},\"type\":\"scatterternary\"}],\"surface\":[{\"colorbar\":{\"outlinewidth\":0,\"ticks\":\"\"},\"colorscale\":[[0.0,\"#0d0887\"],[0.1111111111111111,\"#46039f\"],[0.2222222222222222,\"#7201a8\"],[0.3333333333333333,\"#9c179e\"],[0.4444444444444444,\"#bd3786\"],[0.5555555555555556,\"#d8576b\"],[0.6666666666666666,\"#ed7953\"],[0.7777777777777778,\"#fb9f3a\"],[0.8888888888888888,\"#fdca26\"],[1.0,\"#f0f921\"]],\"type\":\"surface\"}],\"table\":[{\"cells\":{\"fill\":{\"color\":\"#EBF0F8\"},\"line\":{\"color\":\"white\"}},\"header\":{\"fill\":{\"color\":\"#C8D4E3\"},\"line\":{\"color\":\"white\"}},\"type\":\"table\"}]},\"layout\":{\"annotationdefaults\":{\"arrowcolor\":\"#2a3f5f\",\"arrowhead\":0,\"arrowwidth\":1},\"autotypenumbers\":\"strict\",\"coloraxis\":{\"colorbar\":{\"outlinewidth\":0,\"ticks\":\"\"}},\"colorscale\":{\"diverging\":[[0,\"#8e0152\"],[0.1,\"#c51b7d\"],[0.2,\"#de77ae\"],[0.3,\"#f1b6da\"],[0.4,\"#fde0ef\"],[0.5,\"#f7f7f7\"],[0.6,\"#e6f5d0\"],[0.7,\"#b8e186\"],[0.8,\"#7fbc41\"],[0.9,\"#4d9221\"],[1,\"#276419\"]],\"sequential\":[[0.0,\"#0d0887\"],[0.1111111111111111,\"#46039f\"],[0.2222222222222222,\"#7201a8\"],[0.3333333333333333,\"#9c179e\"],[0.4444444444444444,\"#bd3786\"],[0.5555555555555556,\"#d8576b\"],[0.6666666666666666,\"#ed7953\"],[0.7777777777777778,\"#fb9f3a\"],[0.8888888888888888,\"#fdca26\"],[1.0,\"#f0f921\"]],\"sequentialminus\":[[0.0,\"#0d0887\"],[0.1111111111111111,\"#46039f\"],[0.2222222222222222,\"#7201a8\"],[0.3333333333333333,\"#9c179e\"],[0.4444444444444444,\"#bd3786\"],[0.5555555555555556,\"#d8576b\"],[0.6666666666666666,\"#ed7953\"],[0.7777777777777778,\"#fb9f3a\"],[0.8888888888888888,\"#fdca26\"],[1.0,\"#f0f921\"]]},\"colorway\":[\"#636efa\",\"#EF553B\",\"#00cc96\",\"#ab63fa\",\"#FFA15A\",\"#19d3f3\",\"#FF6692\",\"#B6E880\",\"#FF97FF\",\"#FECB52\"],\"font\":{\"color\":\"#2a3f5f\"},\"geo\":{\"bgcolor\":\"white\",\"lakecolor\":\"white\",\"landcolor\":\"#E5ECF6\",\"showlakes\":true,\"showland\":true,\"subunitcolor\":\"white\"},\"hoverlabel\":{\"align\":\"left\"},\"hovermode\":\"closest\",\"mapbox\":{\"style\":\"light\"},\"paper_bgcolor\":\"white\",\"plot_bgcolor\":\"#E5ECF6\",\"polar\":{\"angularaxis\":{\"gridcolor\":\"white\",\"linecolor\":\"white\",\"ticks\":\"\"},\"bgcolor\":\"#E5ECF6\",\"radialaxis\":{\"gridcolor\":\"white\",\"linecolor\":\"white\",\"ticks\":\"\"}},\"scene\":{\"xaxis\":{\"backgroundcolor\":\"#E5ECF6\",\"gridcolor\":\"white\",\"gridwidth\":2,\"linecolor\":\"white\",\"showbackground\":true,\"ticks\":\"\",\"zerolinecolor\":\"white\"},\"yaxis\":{\"backgroundcolor\":\"#E5ECF6\",\"gridcolor\":\"white\",\"gridwidth\":2,\"linecolor\":\"white\",\"showbackground\":true,\"ticks\":\"\",\"zerolinecolor\":\"white\"},\"zaxis\":{\"backgroundcolor\":\"#E5ECF6\",\"gridcolor\":\"white\",\"gridwidth\":2,\"linecolor\":\"white\",\"showbackground\":true,\"ticks\":\"\",\"zerolinecolor\":\"white\"}},\"shapedefaults\":{\"line\":{\"color\":\"#2a3f5f\"}},\"ternary\":{\"aaxis\":{\"gridcolor\":\"white\",\"linecolor\":\"white\",\"ticks\":\"\"},\"baxis\":{\"gridcolor\":\"white\",\"linecolor\":\"white\",\"ticks\":\"\"},\"bgcolor\":\"#E5ECF6\",\"caxis\":{\"gridcolor\":\"white\",\"linecolor\":\"white\",\"ticks\":\"\"}},\"title\":{\"x\":0.05},\"xaxis\":{\"automargin\":true,\"gridcolor\":\"white\",\"linecolor\":\"white\",\"ticks\":\"\",\"title\":{\"standoff\":15},\"zerolinecolor\":\"white\",\"zerolinewidth\":2},\"yaxis\":{\"automargin\":true,\"gridcolor\":\"white\",\"linecolor\":\"white\",\"ticks\":\"\",\"title\":{\"standoff\":15},\"zerolinecolor\":\"white\",\"zerolinewidth\":2}}},\"xaxis\":{\"anchor\":\"y\",\"domain\":[0.0,1.0],\"title\":{\"text\":\"x\"}},\"yaxis\":{\"anchor\":\"x\",\"domain\":[0.0,1.0],\"title\":{\"text\":\"y\"}},\"coloraxis\":{\"colorbar\":{\"title\":{\"text\":\"cluster\"}},\"colorscale\":[[0.0,\"#0d0887\"],[0.1111111111111111,\"#46039f\"],[0.2222222222222222,\"#7201a8\"],[0.3333333333333333,\"#9c179e\"],[0.4444444444444444,\"#bd3786\"],[0.5555555555555556,\"#d8576b\"],[0.6666666666666666,\"#ed7953\"],[0.7777777777777778,\"#fb9f3a\"],[0.8888888888888888,\"#fdca26\"],[1.0,\"#f0f921\"]]},\"legend\":{\"tracegroupgap\":0},\"margin\":{\"t\":60}},                        {\"responsive\": true}                    ).then(function(){\n",
       "                            \n",
       "var gd = document.getElementById('d37078c3-2097-429e-b4ed-2c28d6dc841a');\n",
       "var x = new MutationObserver(function (mutations, observer) {{\n",
       "        var display = window.getComputedStyle(gd).display;\n",
       "        if (!display || display === 'none') {{\n",
       "            console.log([gd, 'removed!']);\n",
       "            Plotly.purge(gd);\n",
       "            observer.disconnect();\n",
       "        }}\n",
       "}});\n",
       "\n",
       "// Listen for the removal of the full notebook cells\n",
       "var notebookContainer = gd.closest('#notebook-container');\n",
       "if (notebookContainer) {{\n",
       "    x.observe(notebookContainer, {childList: true});\n",
       "}}\n",
       "\n",
       "// Listen for the clearing of the current output cell\n",
       "var outputEl = gd.closest('.output');\n",
       "if (outputEl) {{\n",
       "    x.observe(outputEl, {childList: true});\n",
       "}}\n",
       "\n",
       "                        })                };                });            </script>        </div>"
      ]
     },
     "metadata": {},
     "output_type": "display_data"
    }
   ],
   "source": [
    "pca_pipeline = Pipeline([('scaler', StandardScaler()), ('PCA', PCA(n_components=2))])\n",
    "song_embedding = pca_pipeline.fit_transform(X)\n",
    "projection = pd.DataFrame(columns=['x', 'y'], data=song_embedding)\n",
    "projection['title'] = clean_data['song_name']\n",
    "projection['cluster'] = clean_data['cluster_label']\n",
    "\n",
    "fig = px.scatter(\n",
    "    projection, x='x', y='y', color='cluster', hover_data=['x', 'y', 'title'])\n",
    "fig.show()"
   ]
  },
  {
   "cell_type": "code",
   "execution_count": 253,
   "id": "25858456",
   "metadata": {},
   "outputs": [],
   "source": [
    "import spotipy\n",
    "from spotipy.oauth2 import SpotifyClientCredentials\n",
    "cid = 'd94b094580d74927972cca8096281e2d'\n",
    "secret = '727603b3837c44b98b1cbb1e876c4c08'\n",
    "client_credentials_manager = SpotifyClientCredentials(client_id=cid, client_secret=secret)\n",
    "sp = spotipy.Spotify(client_credentials_manager\n",
    "=\n",
    "client_credentials_manager)"
   ]
  },
  {
   "cell_type": "code",
   "execution_count": 263,
   "id": "347a6832",
   "metadata": {},
   "outputs": [],
   "source": [
    "def find_song(name, year):\n",
    "    song_data = defaultdict()\n",
    "    results = sp.search(q= 'track: {} year: {}'.format(name,year), limit=1)\n",
    "    if results['tracks']['items'] == []:\n",
    "        return None\n",
    "\n",
    "    results = results['tracks']['items'][0]\n",
    "    track_id = results['id']\n",
    "    audio_features = sp.audio_features(track_id)[0]\n",
    "\n",
    "    song_data['name'] = [name]\n",
    "    song_data['year'] = [year]\n",
    "    song_data['explicit'] = [int(results['explicit'])]\n",
    "    song_data['duration_ms'] = [results['duration_ms']]\n",
    "    song_data['popularity'] = [results['popularity']]\n",
    "\n",
    "    for key, value in audio_features.items():\n",
    "        song_data[key] = value\n",
    "\n",
    "    return pd.DataFrame(song_data)\n"
   ]
  },
  {
   "cell_type": "code",
   "execution_count": 265,
   "id": "a7f44196",
   "metadata": {},
   "outputs": [],
   "source": [
    "from collections import defaultdict\n",
    "from sklearn.metrics import euclidean_distances\n",
    "from scipy.spatial.distance import cdist\n",
    "import difflib\n",
    "\n",
    "number_cols = ['valence', 'year', 'acousticness', 'danceability', 'duration_ms', 'energy', 'explicit',\n",
    " 'instrumentalness', 'key', 'liveness', 'loudness', 'mode', 'popularity', 'speechiness', 'tempo']\n",
    "\n",
    "\n",
    "def get_song_data(song, spotify_data):\n",
    "    \n",
    "    try:\n",
    "        song_data = spotify_data[(spotify_data['name'] == song['name']) \n",
    "                                & (spotify_data['year'] == song['year'])].iloc[0]\n",
    "        return song_data\n",
    "    \n",
    "    except IndexError:\n",
    "        return find_song(song['name'], song['year'])\n",
    "        \n",
    "\n",
    "def get_mean_vector(song_list, spotify_data):\n",
    "    \n",
    "    song_vectors = []\n",
    "    \n",
    "    for song in song_list:\n",
    "        song_data = get_song_data(song, spotify_data)\n",
    "        if song_data is None:\n",
    "            print('Warning: {} does not exist in Spotify or in database'.format(song['name']))\n",
    "            continue\n",
    "        song_vector = song_data[number_cols].values\n",
    "        song_vectors.append(song_vector)  \n",
    "    \n",
    "    song_matrix = np.array(list(song_vectors))\n",
    "    return np.mean(song_matrix, axis=0)\n",
    "\n",
    "\n",
    "def flatten_dict_list(dict_list):\n",
    "    \n",
    "    flattened_dict = defaultdict()\n",
    "    for key in dict_list[0].keys():\n",
    "        flattened_dict[key] = []\n",
    "    \n",
    "    for dictionary in dict_list:\n",
    "        for key, value in dictionary.items():\n",
    "            flattened_dict[key].append(value)\n",
    "            \n",
    "    return flattened_dict"
   ]
  },
  {
   "cell_type": "code",
   "execution_count": 266,
   "id": "e8f1adf8",
   "metadata": {},
   "outputs": [],
   "source": [
    "def recommend_songs( song_list, spotify_data, n_songs=10):\n",
    "    \n",
    "    metadata_cols = ['name', 'year', 'artists']\n",
    "    song_dict = flatten_dict_list(song_list)\n",
    "    \n",
    "    song_center = get_mean_vector(song_list, spotify_data)\n",
    "    scaler = song_cluster_pipeline.steps[0][1]\n",
    "    scaled_data = scaler.transform(spotify_data[number_cols])\n",
    "    scaled_song_center = scaler.transform(song_center.reshape(1, -1))\n",
    "    distances = cdist(scaled_song_center, scaled_data, 'cosine')\n",
    "    index = list(np.argsort(distances)[:, :n_songs][0])\n",
    "    \n",
    "    rec_songs = spotify_data.iloc[index]\n",
    "    rec_songs = rec_songs[~rec_songs['name'].isin(song_dict['name'])]\n",
    "    return rec_songs[metadata_cols].to_dict(orient='records')"
   ]
  },
  {
   "cell_type": "code",
   "execution_count": 269,
   "id": "e9b24778",
   "metadata": {},
   "outputs": [
    {
     "ename": "NameError",
     "evalue": "name 'song_list' is not defined",
     "output_type": "error",
     "traceback": [
      "\u001b[1;31m---------------------------------------------------------------------------\u001b[0m",
      "\u001b[1;31mNameError\u001b[0m                                 Traceback (most recent call last)",
      "Input \u001b[1;32mIn [269]\u001b[0m, in \u001b[0;36m<cell line: 1>\u001b[1;34m()\u001b[0m\n\u001b[1;32m----> 1\u001b[0m song_dict \u001b[38;5;241m=\u001b[39m flatten_dict_list(\u001b[43msong_list\u001b[49m)\n",
      "\u001b[1;31mNameError\u001b[0m: name 'song_list' is not defined"
     ]
    }
   ],
   "source": [
    " song_dict = flatten_dict_list(song_list)"
   ]
  },
  {
   "cell_type": "code",
   "execution_count": 267,
   "id": "44d91526",
   "metadata": {},
   "outputs": [
    {
     "ename": "KeyError",
     "evalue": "'name'",
     "output_type": "error",
     "traceback": [
      "\u001b[1;31m---------------------------------------------------------------------------\u001b[0m",
      "\u001b[1;31mKeyError\u001b[0m                                  Traceback (most recent call last)",
      "File \u001b[1;32m~\\anaconda3\\lib\\site-packages\\pandas\\core\\indexes\\base.py:3621\u001b[0m, in \u001b[0;36mIndex.get_loc\u001b[1;34m(self, key, method, tolerance)\u001b[0m\n\u001b[0;32m   3620\u001b[0m \u001b[38;5;28;01mtry\u001b[39;00m:\n\u001b[1;32m-> 3621\u001b[0m     \u001b[38;5;28;01mreturn\u001b[39;00m \u001b[38;5;28;43mself\u001b[39;49m\u001b[38;5;241;43m.\u001b[39;49m\u001b[43m_engine\u001b[49m\u001b[38;5;241;43m.\u001b[39;49m\u001b[43mget_loc\u001b[49m\u001b[43m(\u001b[49m\u001b[43mcasted_key\u001b[49m\u001b[43m)\u001b[49m\n\u001b[0;32m   3622\u001b[0m \u001b[38;5;28;01mexcept\u001b[39;00m \u001b[38;5;167;01mKeyError\u001b[39;00m \u001b[38;5;28;01mas\u001b[39;00m err:\n",
      "File \u001b[1;32m~\\anaconda3\\lib\\site-packages\\pandas\\_libs\\index.pyx:136\u001b[0m, in \u001b[0;36mpandas._libs.index.IndexEngine.get_loc\u001b[1;34m()\u001b[0m\n",
      "File \u001b[1;32m~\\anaconda3\\lib\\site-packages\\pandas\\_libs\\index.pyx:163\u001b[0m, in \u001b[0;36mpandas._libs.index.IndexEngine.get_loc\u001b[1;34m()\u001b[0m\n",
      "File \u001b[1;32mpandas\\_libs\\hashtable_class_helper.pxi:5198\u001b[0m, in \u001b[0;36mpandas._libs.hashtable.PyObjectHashTable.get_item\u001b[1;34m()\u001b[0m\n",
      "File \u001b[1;32mpandas\\_libs\\hashtable_class_helper.pxi:5206\u001b[0m, in \u001b[0;36mpandas._libs.hashtable.PyObjectHashTable.get_item\u001b[1;34m()\u001b[0m\n",
      "\u001b[1;31mKeyError\u001b[0m: 'name'",
      "\nThe above exception was the direct cause of the following exception:\n",
      "\u001b[1;31mKeyError\u001b[0m                                  Traceback (most recent call last)",
      "Input \u001b[1;32mIn [267]\u001b[0m, in \u001b[0;36m<cell line: 1>\u001b[1;34m()\u001b[0m\n\u001b[1;32m----> 1\u001b[0m \u001b[43mrecommend_songs\u001b[49m\u001b[43m(\u001b[49m\u001b[43m[\u001b[49m\u001b[43m{\u001b[49m\u001b[38;5;124;43m'\u001b[39;49m\u001b[38;5;124;43msong_name\u001b[39;49m\u001b[38;5;124;43m'\u001b[39;49m\u001b[43m:\u001b[49m\u001b[43m \u001b[49m\u001b[38;5;124;43m'\u001b[39;49m\u001b[38;5;124;43mCome As You Are\u001b[39;49m\u001b[38;5;124;43m'\u001b[39;49m\u001b[43m,\u001b[49m\u001b[43m \u001b[49m\u001b[38;5;124;43m'\u001b[39;49m\u001b[38;5;124;43myear\u001b[39;49m\u001b[38;5;124;43m'\u001b[39;49m\u001b[43m:\u001b[49m\u001b[38;5;241;43m1991\u001b[39;49m\u001b[43m}\u001b[49m\u001b[43m,\u001b[49m\n\u001b[0;32m      2\u001b[0m \u001b[43m                \u001b[49m\u001b[43m{\u001b[49m\u001b[38;5;124;43m'\u001b[39;49m\u001b[38;5;124;43msong_name\u001b[39;49m\u001b[38;5;124;43m'\u001b[39;49m\u001b[43m:\u001b[49m\u001b[43m \u001b[49m\u001b[38;5;124;43m'\u001b[39;49m\u001b[38;5;124;43mSmells Like Teen Spirit\u001b[39;49m\u001b[38;5;124;43m'\u001b[39;49m\u001b[43m,\u001b[49m\u001b[43m \u001b[49m\u001b[38;5;124;43m'\u001b[39;49m\u001b[38;5;124;43myear\u001b[39;49m\u001b[38;5;124;43m'\u001b[39;49m\u001b[43m:\u001b[49m\u001b[43m \u001b[49m\u001b[38;5;241;43m1991\u001b[39;49m\u001b[43m}\u001b[49m\u001b[43m,\u001b[49m\n\u001b[0;32m      3\u001b[0m \u001b[43m                \u001b[49m\u001b[43m{\u001b[49m\u001b[38;5;124;43m'\u001b[39;49m\u001b[38;5;124;43msong_name\u001b[39;49m\u001b[38;5;124;43m'\u001b[39;49m\u001b[43m:\u001b[49m\u001b[43m \u001b[49m\u001b[38;5;124;43m'\u001b[39;49m\u001b[38;5;124;43mLithium\u001b[39;49m\u001b[38;5;124;43m'\u001b[39;49m\u001b[43m,\u001b[49m\u001b[43m \u001b[49m\u001b[38;5;124;43m'\u001b[39;49m\u001b[38;5;124;43myear\u001b[39;49m\u001b[38;5;124;43m'\u001b[39;49m\u001b[43m:\u001b[49m\u001b[43m \u001b[49m\u001b[38;5;241;43m1992\u001b[39;49m\u001b[43m}\u001b[49m\u001b[43m,\u001b[49m\n\u001b[0;32m      4\u001b[0m \u001b[43m                \u001b[49m\u001b[43m{\u001b[49m\u001b[38;5;124;43m'\u001b[39;49m\u001b[38;5;124;43msong_name\u001b[39;49m\u001b[38;5;124;43m'\u001b[39;49m\u001b[43m:\u001b[49m\u001b[43m \u001b[49m\u001b[38;5;124;43m'\u001b[39;49m\u001b[38;5;124;43mAll Apologies\u001b[39;49m\u001b[38;5;124;43m'\u001b[39;49m\u001b[43m,\u001b[49m\u001b[43m \u001b[49m\u001b[38;5;124;43m'\u001b[39;49m\u001b[38;5;124;43myear\u001b[39;49m\u001b[38;5;124;43m'\u001b[39;49m\u001b[43m:\u001b[49m\u001b[43m \u001b[49m\u001b[38;5;241;43m1993\u001b[39;49m\u001b[43m}\u001b[49m\u001b[43m,\u001b[49m\n\u001b[0;32m      5\u001b[0m \u001b[43m                \u001b[49m\u001b[43m{\u001b[49m\u001b[38;5;124;43m'\u001b[39;49m\u001b[38;5;124;43msong_name\u001b[39;49m\u001b[38;5;124;43m'\u001b[39;49m\u001b[43m:\u001b[49m\u001b[43m \u001b[49m\u001b[38;5;124;43m'\u001b[39;49m\u001b[38;5;124;43mStay Away\u001b[39;49m\u001b[38;5;124;43m'\u001b[39;49m\u001b[43m,\u001b[49m\u001b[43m \u001b[49m\u001b[38;5;124;43m'\u001b[39;49m\u001b[38;5;124;43myear\u001b[39;49m\u001b[38;5;124;43m'\u001b[39;49m\u001b[43m:\u001b[49m\u001b[43m \u001b[49m\u001b[38;5;241;43m1993\u001b[39;49m\u001b[43m}\u001b[49m\u001b[43m]\u001b[49m\u001b[43m,\u001b[49m\u001b[43m \u001b[49m\u001b[43msample_p\u001b[49m\u001b[43m)\u001b[49m\n",
      "Input \u001b[1;32mIn [266]\u001b[0m, in \u001b[0;36mrecommend_songs\u001b[1;34m(song_list, spotify_data, n_songs)\u001b[0m\n\u001b[0;32m      3\u001b[0m metadata_cols \u001b[38;5;241m=\u001b[39m [\u001b[38;5;124m'\u001b[39m\u001b[38;5;124mname\u001b[39m\u001b[38;5;124m'\u001b[39m, \u001b[38;5;124m'\u001b[39m\u001b[38;5;124myear\u001b[39m\u001b[38;5;124m'\u001b[39m, \u001b[38;5;124m'\u001b[39m\u001b[38;5;124martists\u001b[39m\u001b[38;5;124m'\u001b[39m]\n\u001b[0;32m      4\u001b[0m song_dict \u001b[38;5;241m=\u001b[39m flatten_dict_list(song_list)\n\u001b[1;32m----> 6\u001b[0m song_center \u001b[38;5;241m=\u001b[39m \u001b[43mget_mean_vector\u001b[49m\u001b[43m(\u001b[49m\u001b[43msong_list\u001b[49m\u001b[43m,\u001b[49m\u001b[43m \u001b[49m\u001b[43mspotify_data\u001b[49m\u001b[43m)\u001b[49m\n\u001b[0;32m      7\u001b[0m scaler \u001b[38;5;241m=\u001b[39m song_cluster_pipeline\u001b[38;5;241m.\u001b[39msteps[\u001b[38;5;241m0\u001b[39m][\u001b[38;5;241m1\u001b[39m]\n\u001b[0;32m      8\u001b[0m scaled_data \u001b[38;5;241m=\u001b[39m scaler\u001b[38;5;241m.\u001b[39mtransform(spotify_data[number_cols])\n",
      "Input \u001b[1;32mIn [265]\u001b[0m, in \u001b[0;36mget_mean_vector\u001b[1;34m(song_list, spotify_data)\u001b[0m\n\u001b[0;32m     23\u001b[0m song_vectors \u001b[38;5;241m=\u001b[39m []\n\u001b[0;32m     25\u001b[0m \u001b[38;5;28;01mfor\u001b[39;00m song \u001b[38;5;129;01min\u001b[39;00m song_list:\n\u001b[1;32m---> 26\u001b[0m     song_data \u001b[38;5;241m=\u001b[39m \u001b[43mget_song_data\u001b[49m\u001b[43m(\u001b[49m\u001b[43msong\u001b[49m\u001b[43m,\u001b[49m\u001b[43m \u001b[49m\u001b[43mspotify_data\u001b[49m\u001b[43m)\u001b[49m\n\u001b[0;32m     27\u001b[0m     \u001b[38;5;28;01mif\u001b[39;00m song_data \u001b[38;5;129;01mis\u001b[39;00m \u001b[38;5;28;01mNone\u001b[39;00m:\n\u001b[0;32m     28\u001b[0m         \u001b[38;5;28mprint\u001b[39m(\u001b[38;5;124m'\u001b[39m\u001b[38;5;124mWarning: \u001b[39m\u001b[38;5;132;01m{}\u001b[39;00m\u001b[38;5;124m does not exist in Spotify or in database\u001b[39m\u001b[38;5;124m'\u001b[39m\u001b[38;5;241m.\u001b[39mformat(song[\u001b[38;5;124m'\u001b[39m\u001b[38;5;124mname\u001b[39m\u001b[38;5;124m'\u001b[39m]))\n",
      "Input \u001b[1;32mIn [265]\u001b[0m, in \u001b[0;36mget_song_data\u001b[1;34m(song, spotify_data)\u001b[0m\n\u001b[0;32m     10\u001b[0m \u001b[38;5;28;01mdef\u001b[39;00m \u001b[38;5;21mget_song_data\u001b[39m(song, spotify_data):\n\u001b[0;32m     12\u001b[0m     \u001b[38;5;28;01mtry\u001b[39;00m:\n\u001b[1;32m---> 13\u001b[0m         song_data \u001b[38;5;241m=\u001b[39m spotify_data[(\u001b[43mspotify_data\u001b[49m\u001b[43m[\u001b[49m\u001b[38;5;124;43m'\u001b[39;49m\u001b[38;5;124;43mname\u001b[39;49m\u001b[38;5;124;43m'\u001b[39;49m\u001b[43m]\u001b[49m \u001b[38;5;241m==\u001b[39m song[\u001b[38;5;124m'\u001b[39m\u001b[38;5;124mname\u001b[39m\u001b[38;5;124m'\u001b[39m]) \n\u001b[0;32m     14\u001b[0m                                 \u001b[38;5;241m&\u001b[39m (spotify_data[\u001b[38;5;124m'\u001b[39m\u001b[38;5;124myear\u001b[39m\u001b[38;5;124m'\u001b[39m] \u001b[38;5;241m==\u001b[39m song[\u001b[38;5;124m'\u001b[39m\u001b[38;5;124myear\u001b[39m\u001b[38;5;124m'\u001b[39m])]\u001b[38;5;241m.\u001b[39miloc[\u001b[38;5;241m0\u001b[39m]\n\u001b[0;32m     15\u001b[0m         \u001b[38;5;28;01mreturn\u001b[39;00m song_data\n\u001b[0;32m     17\u001b[0m     \u001b[38;5;28;01mexcept\u001b[39;00m \u001b[38;5;167;01mIndexError\u001b[39;00m:\n",
      "File \u001b[1;32m~\\anaconda3\\lib\\site-packages\\pandas\\core\\frame.py:3505\u001b[0m, in \u001b[0;36mDataFrame.__getitem__\u001b[1;34m(self, key)\u001b[0m\n\u001b[0;32m   3503\u001b[0m \u001b[38;5;28;01mif\u001b[39;00m \u001b[38;5;28mself\u001b[39m\u001b[38;5;241m.\u001b[39mcolumns\u001b[38;5;241m.\u001b[39mnlevels \u001b[38;5;241m>\u001b[39m \u001b[38;5;241m1\u001b[39m:\n\u001b[0;32m   3504\u001b[0m     \u001b[38;5;28;01mreturn\u001b[39;00m \u001b[38;5;28mself\u001b[39m\u001b[38;5;241m.\u001b[39m_getitem_multilevel(key)\n\u001b[1;32m-> 3505\u001b[0m indexer \u001b[38;5;241m=\u001b[39m \u001b[38;5;28;43mself\u001b[39;49m\u001b[38;5;241;43m.\u001b[39;49m\u001b[43mcolumns\u001b[49m\u001b[38;5;241;43m.\u001b[39;49m\u001b[43mget_loc\u001b[49m\u001b[43m(\u001b[49m\u001b[43mkey\u001b[49m\u001b[43m)\u001b[49m\n\u001b[0;32m   3506\u001b[0m \u001b[38;5;28;01mif\u001b[39;00m is_integer(indexer):\n\u001b[0;32m   3507\u001b[0m     indexer \u001b[38;5;241m=\u001b[39m [indexer]\n",
      "File \u001b[1;32m~\\anaconda3\\lib\\site-packages\\pandas\\core\\indexes\\base.py:3623\u001b[0m, in \u001b[0;36mIndex.get_loc\u001b[1;34m(self, key, method, tolerance)\u001b[0m\n\u001b[0;32m   3621\u001b[0m     \u001b[38;5;28;01mreturn\u001b[39;00m \u001b[38;5;28mself\u001b[39m\u001b[38;5;241m.\u001b[39m_engine\u001b[38;5;241m.\u001b[39mget_loc(casted_key)\n\u001b[0;32m   3622\u001b[0m \u001b[38;5;28;01mexcept\u001b[39;00m \u001b[38;5;167;01mKeyError\u001b[39;00m \u001b[38;5;28;01mas\u001b[39;00m err:\n\u001b[1;32m-> 3623\u001b[0m     \u001b[38;5;28;01mraise\u001b[39;00m \u001b[38;5;167;01mKeyError\u001b[39;00m(key) \u001b[38;5;28;01mfrom\u001b[39;00m \u001b[38;5;21;01merr\u001b[39;00m\n\u001b[0;32m   3624\u001b[0m \u001b[38;5;28;01mexcept\u001b[39;00m \u001b[38;5;167;01mTypeError\u001b[39;00m:\n\u001b[0;32m   3625\u001b[0m     \u001b[38;5;66;03m# If we have a listlike key, _check_indexing_error will raise\u001b[39;00m\n\u001b[0;32m   3626\u001b[0m     \u001b[38;5;66;03m#  InvalidIndexError. Otherwise we fall through and re-raise\u001b[39;00m\n\u001b[0;32m   3627\u001b[0m     \u001b[38;5;66;03m#  the TypeError.\u001b[39;00m\n\u001b[0;32m   3628\u001b[0m     \u001b[38;5;28mself\u001b[39m\u001b[38;5;241m.\u001b[39m_check_indexing_error(key)\n",
      "\u001b[1;31mKeyError\u001b[0m: 'name'"
     ]
    }
   ],
   "source": [
    "recommend_songs([{'song_name': 'Come As You Are', 'year':1991},\n",
    "                {'song_name': 'Smells Like Teen Spirit', 'year': 1991},\n",
    "                {'song_name': 'Lithium', 'year': 1992},\n",
    "                {'song_name': 'All Apologies', 'year': 1993},\n",
    "                {'song_name': 'Stay Away', 'year': 1993}], sample_p)"
   ]
  },
  {
   "cell_type": "code",
   "execution_count": null,
   "id": "61db24a7",
   "metadata": {},
   "outputs": [],
   "source": []
  },
  {
   "cell_type": "code",
   "execution_count": null,
   "id": "c96977a9",
   "metadata": {},
   "outputs": [],
   "source": []
  },
  {
   "cell_type": "code",
   "execution_count": null,
   "id": "45d92e83",
   "metadata": {},
   "outputs": [],
   "source": []
  },
  {
   "cell_type": "code",
   "execution_count": null,
   "id": "cc79059d",
   "metadata": {},
   "outputs": [],
   "source": []
  }
 ],
 "metadata": {
  "kernelspec": {
   "display_name": "Python 3 (ipykernel)",
   "language": "python",
   "name": "python3"
  },
  "language_info": {
   "codemirror_mode": {
    "name": "ipython",
    "version": 3
   },
   "file_extension": ".py",
   "mimetype": "text/x-python",
   "name": "python",
   "nbconvert_exporter": "python",
   "pygments_lexer": "ipython3",
   "version": "3.9.12"
  }
 },
 "nbformat": 4,
 "nbformat_minor": 5
}
