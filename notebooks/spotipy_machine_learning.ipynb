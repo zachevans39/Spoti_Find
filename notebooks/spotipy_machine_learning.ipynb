{
 "cells": [
  {
   "cell_type": "code",
   "execution_count": 1,
   "metadata": {},
   "outputs": [],
   "source": [
    "import os\n",
    "import numpy as np\n",
    "import pandas as pd\n",
    "\n",
    "import seaborn as sns\n",
    "import plotly.express as px \n",
    "import matplotlib.pyplot as plt\n",
    "\n",
    "from sklearn.cluster import KMeans\n",
    "from sklearn.preprocessing import StandardScaler\n",
    "from sklearn.pipeline import Pipeline\n",
    "from sklearn.manifold import TSNE\n",
    "from sklearn.decomposition import PCA\n",
    "from sklearn.metrics import euclidean_distances\n",
    "from scipy.spatial.distance import cdist\n",
    "\n",
    "import warnings\n",
    "warnings.filterwarnings(\"ignore\")"
   ]
  },
  {
   "cell_type": "code",
   "execution_count": 5,
   "metadata": {},
   "outputs": [],
   "source": [
    "data = pd.read_csv('../data/updated_music.csv')\n",
    "data.drop(columns='Unnamed: 0',inplace=True)"
   ]
  },
  {
   "cell_type": "code",
   "execution_count": 6,
   "metadata": {},
   "outputs": [
    {
     "data": {
      "text/html": [
       "<div>\n",
       "<style scoped>\n",
       "    .dataframe tbody tr th:only-of-type {\n",
       "        vertical-align: middle;\n",
       "    }\n",
       "\n",
       "    .dataframe tbody tr th {\n",
       "        vertical-align: top;\n",
       "    }\n",
       "\n",
       "    .dataframe thead th {\n",
       "        text-align: right;\n",
       "    }\n",
       "</style>\n",
       "<table border=\"1\" class=\"dataframe\">\n",
       "  <thead>\n",
       "    <tr style=\"text-align: right;\">\n",
       "      <th></th>\n",
       "      <th>danceability</th>\n",
       "      <th>energy</th>\n",
       "      <th>key</th>\n",
       "      <th>loudness</th>\n",
       "      <th>mode</th>\n",
       "      <th>speechiness</th>\n",
       "      <th>acousticness</th>\n",
       "      <th>instrumentalness</th>\n",
       "      <th>liveness</th>\n",
       "      <th>valence</th>\n",
       "      <th>...</th>\n",
       "      <th>uri</th>\n",
       "      <th>track_href</th>\n",
       "      <th>analysis_url</th>\n",
       "      <th>duration_ms</th>\n",
       "      <th>time_signature</th>\n",
       "      <th>song_name</th>\n",
       "      <th>artist_name</th>\n",
       "      <th>artist_genres</th>\n",
       "      <th>artist_pop</th>\n",
       "      <th>song_genre</th>\n",
       "    </tr>\n",
       "  </thead>\n",
       "  <tbody>\n",
       "    <tr>\n",
       "      <th>0</th>\n",
       "      <td>0.482</td>\n",
       "      <td>0.721</td>\n",
       "      <td>0</td>\n",
       "      <td>-6.839</td>\n",
       "      <td>1</td>\n",
       "      <td>0.0321</td>\n",
       "      <td>0.731000</td>\n",
       "      <td>0.000000</td>\n",
       "      <td>0.1890</td>\n",
       "      <td>0.557</td>\n",
       "      <td>...</td>\n",
       "      <td>spotify:track:3AhXZa8sUQht0UEdBJgpGc</td>\n",
       "      <td>https://api.spotify.com/v1/tracks/3AhXZa8sUQht...</td>\n",
       "      <td>https://api.spotify.com/v1/audio-analysis/3AhX...</td>\n",
       "      <td>369600</td>\n",
       "      <td>4</td>\n",
       "      <td>Like a Rolling Stone</td>\n",
       "      <td>Bob Dylan</td>\n",
       "      <td>['classic rock', 'country rock', 'folk', 'folk...</td>\n",
       "      <td>72</td>\n",
       "      <td>folk</td>\n",
       "    </tr>\n",
       "    <tr>\n",
       "      <th>1</th>\n",
       "      <td>0.485</td>\n",
       "      <td>0.863</td>\n",
       "      <td>1</td>\n",
       "      <td>-9.027</td>\n",
       "      <td>1</td>\n",
       "      <td>0.0495</td>\n",
       "      <td>0.000012</td>\n",
       "      <td>0.016200</td>\n",
       "      <td>0.1380</td>\n",
       "      <td>0.767</td>\n",
       "      <td>...</td>\n",
       "      <td>spotify:track:3oTlkzk1OtrhH8wBAduVEi</td>\n",
       "      <td>https://api.spotify.com/v1/tracks/3oTlkzk1Otrh...</td>\n",
       "      <td>https://api.spotify.com/v1/audio-analysis/3oTl...</td>\n",
       "      <td>300977</td>\n",
       "      <td>4</td>\n",
       "      <td>Smells Like Teen Spirit</td>\n",
       "      <td>Nirvana</td>\n",
       "      <td>['grunge', 'permanent wave', 'rock']</td>\n",
       "      <td>82</td>\n",
       "      <td>grunge</td>\n",
       "    </tr>\n",
       "    <tr>\n",
       "      <th>2</th>\n",
       "      <td>0.364</td>\n",
       "      <td>0.457</td>\n",
       "      <td>4</td>\n",
       "      <td>-14.162</td>\n",
       "      <td>0</td>\n",
       "      <td>0.0675</td>\n",
       "      <td>0.290000</td>\n",
       "      <td>0.000106</td>\n",
       "      <td>0.9220</td>\n",
       "      <td>0.175</td>\n",
       "      <td>...</td>\n",
       "      <td>spotify:track:3ZFBeIyP41HhnALjxWy1pR</td>\n",
       "      <td>https://api.spotify.com/v1/tracks/3ZFBeIyP41Hh...</td>\n",
       "      <td>https://api.spotify.com/v1/audio-analysis/3ZFB...</td>\n",
       "      <td>337413</td>\n",
       "      <td>4</td>\n",
       "      <td>A Day In The Life - Remastered</td>\n",
       "      <td>The Beatles</td>\n",
       "      <td>['beatlesque', 'british invasion', 'classic ro...</td>\n",
       "      <td>84</td>\n",
       "      <td>rock</td>\n",
       "    </tr>\n",
       "    <tr>\n",
       "      <th>3</th>\n",
       "      <td>0.398</td>\n",
       "      <td>0.413</td>\n",
       "      <td>1</td>\n",
       "      <td>-10.934</td>\n",
       "      <td>1</td>\n",
       "      <td>0.0388</td>\n",
       "      <td>0.082200</td>\n",
       "      <td>0.000025</td>\n",
       "      <td>0.0891</td>\n",
       "      <td>0.331</td>\n",
       "      <td>...</td>\n",
       "      <td>spotify:track:5Qt4Cc66g24QWwGP3YYV9y</td>\n",
       "      <td>https://api.spotify.com/v1/tracks/5Qt4Cc66g24Q...</td>\n",
       "      <td>https://api.spotify.com/v1/audio-analysis/5Qt4...</td>\n",
       "      <td>219147</td>\n",
       "      <td>4</td>\n",
       "      <td>Good Vibrations (Mono)</td>\n",
       "      <td>The Beach Boys</td>\n",
       "      <td>['adult standards', 'baroque pop', 'classic ro...</td>\n",
       "      <td>77</td>\n",
       "      <td>rock</td>\n",
       "    </tr>\n",
       "    <tr>\n",
       "      <th>4</th>\n",
       "      <td>0.518</td>\n",
       "      <td>0.756</td>\n",
       "      <td>10</td>\n",
       "      <td>-10.851</td>\n",
       "      <td>1</td>\n",
       "      <td>0.0915</td>\n",
       "      <td>0.735000</td>\n",
       "      <td>0.000062</td>\n",
       "      <td>0.3170</td>\n",
       "      <td>0.968</td>\n",
       "      <td>...</td>\n",
       "      <td>spotify:track:7MH2ZclofPlTrZOkPzZKhK</td>\n",
       "      <td>https://api.spotify.com/v1/tracks/7MH2ZclofPlT...</td>\n",
       "      <td>https://api.spotify.com/v1/audio-analysis/7MH2...</td>\n",
       "      <td>160893</td>\n",
       "      <td>4</td>\n",
       "      <td>Johnny B Goode</td>\n",
       "      <td>Chuck Berry</td>\n",
       "      <td>['classic rock', 'rock', 'rock-and-roll', 'roc...</td>\n",
       "      <td>74</td>\n",
       "      <td>rock and roll</td>\n",
       "    </tr>\n",
       "  </tbody>\n",
       "</table>\n",
       "<p>5 rows × 23 columns</p>\n",
       "</div>"
      ],
      "text/plain": [
       "   danceability  energy  key  loudness  mode  speechiness  acousticness  \\\n",
       "0         0.482   0.721    0    -6.839     1       0.0321      0.731000   \n",
       "1         0.485   0.863    1    -9.027     1       0.0495      0.000012   \n",
       "2         0.364   0.457    4   -14.162     0       0.0675      0.290000   \n",
       "3         0.398   0.413    1   -10.934     1       0.0388      0.082200   \n",
       "4         0.518   0.756   10   -10.851     1       0.0915      0.735000   \n",
       "\n",
       "   instrumentalness  liveness  valence  ...  \\\n",
       "0          0.000000    0.1890    0.557  ...   \n",
       "1          0.016200    0.1380    0.767  ...   \n",
       "2          0.000106    0.9220    0.175  ...   \n",
       "3          0.000025    0.0891    0.331  ...   \n",
       "4          0.000062    0.3170    0.968  ...   \n",
       "\n",
       "                                    uri  \\\n",
       "0  spotify:track:3AhXZa8sUQht0UEdBJgpGc   \n",
       "1  spotify:track:3oTlkzk1OtrhH8wBAduVEi   \n",
       "2  spotify:track:3ZFBeIyP41HhnALjxWy1pR   \n",
       "3  spotify:track:5Qt4Cc66g24QWwGP3YYV9y   \n",
       "4  spotify:track:7MH2ZclofPlTrZOkPzZKhK   \n",
       "\n",
       "                                          track_href  \\\n",
       "0  https://api.spotify.com/v1/tracks/3AhXZa8sUQht...   \n",
       "1  https://api.spotify.com/v1/tracks/3oTlkzk1Otrh...   \n",
       "2  https://api.spotify.com/v1/tracks/3ZFBeIyP41Hh...   \n",
       "3  https://api.spotify.com/v1/tracks/5Qt4Cc66g24Q...   \n",
       "4  https://api.spotify.com/v1/tracks/7MH2ZclofPlT...   \n",
       "\n",
       "                                        analysis_url duration_ms  \\\n",
       "0  https://api.spotify.com/v1/audio-analysis/3AhX...      369600   \n",
       "1  https://api.spotify.com/v1/audio-analysis/3oTl...      300977   \n",
       "2  https://api.spotify.com/v1/audio-analysis/3ZFB...      337413   \n",
       "3  https://api.spotify.com/v1/audio-analysis/5Qt4...      219147   \n",
       "4  https://api.spotify.com/v1/audio-analysis/7MH2...      160893   \n",
       "\n",
       "  time_signature                       song_name     artist_name  \\\n",
       "0              4            Like a Rolling Stone       Bob Dylan   \n",
       "1              4         Smells Like Teen Spirit         Nirvana   \n",
       "2              4  A Day In The Life - Remastered     The Beatles   \n",
       "3              4          Good Vibrations (Mono)  The Beach Boys   \n",
       "4              4                  Johnny B Goode     Chuck Berry   \n",
       "\n",
       "                                       artist_genres artist_pop     song_genre  \n",
       "0  ['classic rock', 'country rock', 'folk', 'folk...         72           folk  \n",
       "1               ['grunge', 'permanent wave', 'rock']         82         grunge  \n",
       "2  ['beatlesque', 'british invasion', 'classic ro...         84           rock  \n",
       "3  ['adult standards', 'baroque pop', 'classic ro...         77           rock  \n",
       "4  ['classic rock', 'rock', 'rock-and-roll', 'roc...         74  rock and roll  \n",
       "\n",
       "[5 rows x 23 columns]"
      ]
     },
     "execution_count": 6,
     "metadata": {},
     "output_type": "execute_result"
    }
   ],
   "source": [
    "data.head()"
   ]
  },
  {
   "cell_type": "code",
   "execution_count": 7,
   "metadata": {},
   "outputs": [],
   "source": [
    "#function to turn artist genres string to list\n",
    "def genre_list(self):\n",
    "    split = self.strip().split(',')\n",
    "    clean = [x.strip(\" [']\") for x in split]\n",
    "    return clean"
   ]
  },
  {
   "cell_type": "code",
   "execution_count": 8,
   "metadata": {},
   "outputs": [],
   "source": [
    "# convert the df to list\n",
    "data['artist_genres'] = data['artist_genres'].apply(lambda x: genre_list(x))"
   ]
  },
  {
   "cell_type": "code",
   "execution_count": 9,
   "metadata": {},
   "outputs": [],
   "source": [
    "#finding all the genres in the data set\n",
    "all_genres_counts = {}\n",
    "for row in data.artist_genres:\n",
    "    for x in row:\n",
    "        if x not in all_genres_counts:\n",
    "            all_genres_counts[x] = 1\n",
    "        else:\n",
    "            all_genres_counts[x] += 1\n",
    "    "
   ]
  },
  {
   "cell_type": "code",
   "execution_count": 10,
   "metadata": {},
   "outputs": [
    {
     "data": {
      "text/html": [
       "<div>\n",
       "<style scoped>\n",
       "    .dataframe tbody tr th:only-of-type {\n",
       "        vertical-align: middle;\n",
       "    }\n",
       "\n",
       "    .dataframe tbody tr th {\n",
       "        vertical-align: top;\n",
       "    }\n",
       "\n",
       "    .dataframe thead th {\n",
       "        text-align: right;\n",
       "    }\n",
       "</style>\n",
       "<table border=\"1\" class=\"dataframe\">\n",
       "  <thead>\n",
       "    <tr style=\"text-align: right;\">\n",
       "      <th></th>\n",
       "      <th>danceability</th>\n",
       "      <th>energy</th>\n",
       "      <th>key</th>\n",
       "      <th>loudness</th>\n",
       "      <th>mode</th>\n",
       "      <th>speechiness</th>\n",
       "      <th>acousticness</th>\n",
       "      <th>instrumentalness</th>\n",
       "      <th>liveness</th>\n",
       "      <th>valence</th>\n",
       "      <th>...</th>\n",
       "      <th>uri</th>\n",
       "      <th>track_href</th>\n",
       "      <th>analysis_url</th>\n",
       "      <th>duration_ms</th>\n",
       "      <th>time_signature</th>\n",
       "      <th>song_name</th>\n",
       "      <th>artist_name</th>\n",
       "      <th>artist_genres</th>\n",
       "      <th>artist_pop</th>\n",
       "      <th>song_genre</th>\n",
       "    </tr>\n",
       "  </thead>\n",
       "  <tbody>\n",
       "    <tr>\n",
       "      <th>0</th>\n",
       "      <td>0.482</td>\n",
       "      <td>0.721</td>\n",
       "      <td>0</td>\n",
       "      <td>-6.839</td>\n",
       "      <td>1</td>\n",
       "      <td>0.0321</td>\n",
       "      <td>0.731000</td>\n",
       "      <td>0.000000</td>\n",
       "      <td>0.1890</td>\n",
       "      <td>0.557</td>\n",
       "      <td>...</td>\n",
       "      <td>spotify:track:3AhXZa8sUQht0UEdBJgpGc</td>\n",
       "      <td>https://api.spotify.com/v1/tracks/3AhXZa8sUQht...</td>\n",
       "      <td>https://api.spotify.com/v1/audio-analysis/3AhX...</td>\n",
       "      <td>369600</td>\n",
       "      <td>4</td>\n",
       "      <td>Like a Rolling Stone</td>\n",
       "      <td>Bob Dylan</td>\n",
       "      <td>[classic rock, country rock, folk, folk rock, ...</td>\n",
       "      <td>72</td>\n",
       "      <td>folk</td>\n",
       "    </tr>\n",
       "    <tr>\n",
       "      <th>1</th>\n",
       "      <td>0.485</td>\n",
       "      <td>0.863</td>\n",
       "      <td>1</td>\n",
       "      <td>-9.027</td>\n",
       "      <td>1</td>\n",
       "      <td>0.0495</td>\n",
       "      <td>0.000012</td>\n",
       "      <td>0.016200</td>\n",
       "      <td>0.1380</td>\n",
       "      <td>0.767</td>\n",
       "      <td>...</td>\n",
       "      <td>spotify:track:3oTlkzk1OtrhH8wBAduVEi</td>\n",
       "      <td>https://api.spotify.com/v1/tracks/3oTlkzk1Otrh...</td>\n",
       "      <td>https://api.spotify.com/v1/audio-analysis/3oTl...</td>\n",
       "      <td>300977</td>\n",
       "      <td>4</td>\n",
       "      <td>Smells Like Teen Spirit</td>\n",
       "      <td>Nirvana</td>\n",
       "      <td>[grunge, permanent wave, rock]</td>\n",
       "      <td>82</td>\n",
       "      <td>grunge</td>\n",
       "    </tr>\n",
       "    <tr>\n",
       "      <th>2</th>\n",
       "      <td>0.364</td>\n",
       "      <td>0.457</td>\n",
       "      <td>4</td>\n",
       "      <td>-14.162</td>\n",
       "      <td>0</td>\n",
       "      <td>0.0675</td>\n",
       "      <td>0.290000</td>\n",
       "      <td>0.000106</td>\n",
       "      <td>0.9220</td>\n",
       "      <td>0.175</td>\n",
       "      <td>...</td>\n",
       "      <td>spotify:track:3ZFBeIyP41HhnALjxWy1pR</td>\n",
       "      <td>https://api.spotify.com/v1/tracks/3ZFBeIyP41Hh...</td>\n",
       "      <td>https://api.spotify.com/v1/audio-analysis/3ZFB...</td>\n",
       "      <td>337413</td>\n",
       "      <td>4</td>\n",
       "      <td>A Day In The Life - Remastered</td>\n",
       "      <td>The Beatles</td>\n",
       "      <td>[beatlesque, british invasion, classic rock, m...</td>\n",
       "      <td>84</td>\n",
       "      <td>rock</td>\n",
       "    </tr>\n",
       "    <tr>\n",
       "      <th>3</th>\n",
       "      <td>0.398</td>\n",
       "      <td>0.413</td>\n",
       "      <td>1</td>\n",
       "      <td>-10.934</td>\n",
       "      <td>1</td>\n",
       "      <td>0.0388</td>\n",
       "      <td>0.082200</td>\n",
       "      <td>0.000025</td>\n",
       "      <td>0.0891</td>\n",
       "      <td>0.331</td>\n",
       "      <td>...</td>\n",
       "      <td>spotify:track:5Qt4Cc66g24QWwGP3YYV9y</td>\n",
       "      <td>https://api.spotify.com/v1/tracks/5Qt4Cc66g24Q...</td>\n",
       "      <td>https://api.spotify.com/v1/audio-analysis/5Qt4...</td>\n",
       "      <td>219147</td>\n",
       "      <td>4</td>\n",
       "      <td>Good Vibrations (Mono)</td>\n",
       "      <td>The Beach Boys</td>\n",
       "      <td>[adult standards, baroque pop, classic rock, p...</td>\n",
       "      <td>77</td>\n",
       "      <td>rock</td>\n",
       "    </tr>\n",
       "    <tr>\n",
       "      <th>4</th>\n",
       "      <td>0.518</td>\n",
       "      <td>0.756</td>\n",
       "      <td>10</td>\n",
       "      <td>-10.851</td>\n",
       "      <td>1</td>\n",
       "      <td>0.0915</td>\n",
       "      <td>0.735000</td>\n",
       "      <td>0.000062</td>\n",
       "      <td>0.3170</td>\n",
       "      <td>0.968</td>\n",
       "      <td>...</td>\n",
       "      <td>spotify:track:7MH2ZclofPlTrZOkPzZKhK</td>\n",
       "      <td>https://api.spotify.com/v1/tracks/7MH2ZclofPlT...</td>\n",
       "      <td>https://api.spotify.com/v1/audio-analysis/7MH2...</td>\n",
       "      <td>160893</td>\n",
       "      <td>4</td>\n",
       "      <td>Johnny B Goode</td>\n",
       "      <td>Chuck Berry</td>\n",
       "      <td>[classic rock, rock, rock-and-roll, rockabilly]</td>\n",
       "      <td>74</td>\n",
       "      <td>rock and roll</td>\n",
       "    </tr>\n",
       "  </tbody>\n",
       "</table>\n",
       "<p>5 rows × 23 columns</p>\n",
       "</div>"
      ],
      "text/plain": [
       "   danceability  energy  key  loudness  mode  speechiness  acousticness  \\\n",
       "0         0.482   0.721    0    -6.839     1       0.0321      0.731000   \n",
       "1         0.485   0.863    1    -9.027     1       0.0495      0.000012   \n",
       "2         0.364   0.457    4   -14.162     0       0.0675      0.290000   \n",
       "3         0.398   0.413    1   -10.934     1       0.0388      0.082200   \n",
       "4         0.518   0.756   10   -10.851     1       0.0915      0.735000   \n",
       "\n",
       "   instrumentalness  liveness  valence  ...  \\\n",
       "0          0.000000    0.1890    0.557  ...   \n",
       "1          0.016200    0.1380    0.767  ...   \n",
       "2          0.000106    0.9220    0.175  ...   \n",
       "3          0.000025    0.0891    0.331  ...   \n",
       "4          0.000062    0.3170    0.968  ...   \n",
       "\n",
       "                                    uri  \\\n",
       "0  spotify:track:3AhXZa8sUQht0UEdBJgpGc   \n",
       "1  spotify:track:3oTlkzk1OtrhH8wBAduVEi   \n",
       "2  spotify:track:3ZFBeIyP41HhnALjxWy1pR   \n",
       "3  spotify:track:5Qt4Cc66g24QWwGP3YYV9y   \n",
       "4  spotify:track:7MH2ZclofPlTrZOkPzZKhK   \n",
       "\n",
       "                                          track_href  \\\n",
       "0  https://api.spotify.com/v1/tracks/3AhXZa8sUQht...   \n",
       "1  https://api.spotify.com/v1/tracks/3oTlkzk1Otrh...   \n",
       "2  https://api.spotify.com/v1/tracks/3ZFBeIyP41Hh...   \n",
       "3  https://api.spotify.com/v1/tracks/5Qt4Cc66g24Q...   \n",
       "4  https://api.spotify.com/v1/tracks/7MH2ZclofPlT...   \n",
       "\n",
       "                                        analysis_url duration_ms  \\\n",
       "0  https://api.spotify.com/v1/audio-analysis/3AhX...      369600   \n",
       "1  https://api.spotify.com/v1/audio-analysis/3oTl...      300977   \n",
       "2  https://api.spotify.com/v1/audio-analysis/3ZFB...      337413   \n",
       "3  https://api.spotify.com/v1/audio-analysis/5Qt4...      219147   \n",
       "4  https://api.spotify.com/v1/audio-analysis/7MH2...      160893   \n",
       "\n",
       "  time_signature                       song_name     artist_name  \\\n",
       "0              4            Like a Rolling Stone       Bob Dylan   \n",
       "1              4         Smells Like Teen Spirit         Nirvana   \n",
       "2              4  A Day In The Life - Remastered     The Beatles   \n",
       "3              4          Good Vibrations (Mono)  The Beach Boys   \n",
       "4              4                  Johnny B Goode     Chuck Berry   \n",
       "\n",
       "                                       artist_genres artist_pop     song_genre  \n",
       "0  [classic rock, country rock, folk, folk rock, ...         72           folk  \n",
       "1                     [grunge, permanent wave, rock]         82         grunge  \n",
       "2  [beatlesque, british invasion, classic rock, m...         84           rock  \n",
       "3  [adult standards, baroque pop, classic rock, p...         77           rock  \n",
       "4    [classic rock, rock, rock-and-roll, rockabilly]         74  rock and roll  \n",
       "\n",
       "[5 rows x 23 columns]"
      ]
     },
     "execution_count": 10,
     "metadata": {},
     "output_type": "execute_result"
    }
   ],
   "source": [
    "data.head()"
   ]
  },
  {
   "cell_type": "code",
   "execution_count": 11,
   "metadata": {},
   "outputs": [],
   "source": [
    "genre_df = data[['song_genre', 'danceability','energy','acousticness','valence','artist_pop']].copy()"
   ]
  },
  {
   "cell_type": "code",
   "execution_count": 12,
   "metadata": {},
   "outputs": [
    {
     "data": {
      "application/vnd.plotly.v1+json": {
       "config": {
        "plotlyServerURL": "https://plot.ly"
       },
       "data": [
        {
         "alignmentgroup": "True",
         "hovertemplate": "variable=valence<br>song_genre=%{x}<br>value=%{y}<extra></extra>",
         "legendgroup": "valence",
         "marker": {
          "color": "#636efa",
          "pattern": {
           "shape": ""
          }
         },
         "name": "valence",
         "offsetgroup": "valence",
         "orientation": "v",
         "showlegend": true,
         "textposition": "auto",
         "type": "bar",
         "x": [
          "reggaeton",
          "pop",
          "pop",
          "pop",
          " pop.",
          " pop.",
          "pop",
          "r&b",
          "r&b",
          "r&b"
         ],
         "xaxis": "x",
         "y": [
          0.187,
          0.583,
          0.337,
          0.533,
          0.0976,
          0.533,
          0.0976,
          0.585,
          0.287,
          0.758
         ],
         "yaxis": "y"
        },
        {
         "alignmentgroup": "True",
         "hovertemplate": "variable=energy<br>song_genre=%{x}<br>value=%{y}<extra></extra>",
         "legendgroup": "energy",
         "marker": {
          "color": "#EF553B",
          "pattern": {
           "shape": ""
          }
         },
         "name": "energy",
         "offsetgroup": "energy",
         "orientation": "v",
         "showlegend": true,
         "textposition": "auto",
         "type": "bar",
         "x": [
          "reggaeton",
          "pop",
          "pop",
          "pop",
          " pop.",
          " pop.",
          "pop",
          "r&b",
          "r&b",
          "r&b"
         ],
         "xaxis": "x",
         "y": [
          0.715,
          0.678,
          0.609,
          0.643,
          0.436,
          0.643,
          0.436,
          0.623,
          0.413,
          0.909
         ],
         "yaxis": "y"
        },
        {
         "alignmentgroup": "True",
         "hovertemplate": "variable=danceability<br>song_genre=%{x}<br>value=%{y}<extra></extra>",
         "legendgroup": "danceability",
         "marker": {
          "color": "#00cc96",
          "pattern": {
           "shape": ""
          }
         },
         "name": "danceability",
         "offsetgroup": "danceability",
         "orientation": "v",
         "showlegend": true,
         "textposition": "auto",
         "type": "bar",
         "x": [
          "reggaeton",
          "pop",
          "pop",
          "pop",
          " pop.",
          " pop.",
          "pop",
          "r&b",
          "r&b",
          "r&b"
         ],
         "xaxis": "x",
         "y": [
          0.65,
          0.752,
          0.602,
          0.637,
          0.733,
          0.637,
          0.733,
          0.896,
          0.776,
          0.585
         ],
         "yaxis": "y"
        },
        {
         "alignmentgroup": "True",
         "hovertemplate": "variable=acousticness<br>song_genre=%{x}<br>value=%{y}<extra></extra>",
         "legendgroup": "acousticness",
         "marker": {
          "color": "#ab63fa",
          "pattern": {
           "shape": ""
          }
         },
         "name": "acousticness",
         "offsetgroup": "acousticness",
         "orientation": "v",
         "showlegend": true,
         "textposition": "auto",
         "type": "bar",
         "x": [
          "reggaeton",
          "pop",
          "pop",
          "pop",
          " pop.",
          " pop.",
          "pop",
          "r&b",
          "r&b",
          "r&b"
         ],
         "xaxis": "x",
         "y": [
          0.0993,
          0.085,
          0.0382,
          0.13,
          0.258,
          0.13,
          0.258,
          0.00257,
          0.00415,
          0.0891
         ],
         "yaxis": "y"
        }
       ],
       "layout": {
        "barmode": "group",
        "legend": {
         "title": {
          "text": "variable"
         },
         "tracegroupgap": 0
        },
        "margin": {
         "t": 60
        },
        "template": {
         "data": {
          "bar": [
           {
            "error_x": {
             "color": "#2a3f5f"
            },
            "error_y": {
             "color": "#2a3f5f"
            },
            "marker": {
             "line": {
              "color": "#E5ECF6",
              "width": 0.5
             },
             "pattern": {
              "fillmode": "overlay",
              "size": 10,
              "solidity": 0.2
             }
            },
            "type": "bar"
           }
          ],
          "barpolar": [
           {
            "marker": {
             "line": {
              "color": "#E5ECF6",
              "width": 0.5
             },
             "pattern": {
              "fillmode": "overlay",
              "size": 10,
              "solidity": 0.2
             }
            },
            "type": "barpolar"
           }
          ],
          "carpet": [
           {
            "aaxis": {
             "endlinecolor": "#2a3f5f",
             "gridcolor": "white",
             "linecolor": "white",
             "minorgridcolor": "white",
             "startlinecolor": "#2a3f5f"
            },
            "baxis": {
             "endlinecolor": "#2a3f5f",
             "gridcolor": "white",
             "linecolor": "white",
             "minorgridcolor": "white",
             "startlinecolor": "#2a3f5f"
            },
            "type": "carpet"
           }
          ],
          "choropleth": [
           {
            "colorbar": {
             "outlinewidth": 0,
             "ticks": ""
            },
            "type": "choropleth"
           }
          ],
          "contour": [
           {
            "colorbar": {
             "outlinewidth": 0,
             "ticks": ""
            },
            "colorscale": [
             [
              0,
              "#0d0887"
             ],
             [
              0.1111111111111111,
              "#46039f"
             ],
             [
              0.2222222222222222,
              "#7201a8"
             ],
             [
              0.3333333333333333,
              "#9c179e"
             ],
             [
              0.4444444444444444,
              "#bd3786"
             ],
             [
              0.5555555555555556,
              "#d8576b"
             ],
             [
              0.6666666666666666,
              "#ed7953"
             ],
             [
              0.7777777777777778,
              "#fb9f3a"
             ],
             [
              0.8888888888888888,
              "#fdca26"
             ],
             [
              1,
              "#f0f921"
             ]
            ],
            "type": "contour"
           }
          ],
          "contourcarpet": [
           {
            "colorbar": {
             "outlinewidth": 0,
             "ticks": ""
            },
            "type": "contourcarpet"
           }
          ],
          "heatmap": [
           {
            "colorbar": {
             "outlinewidth": 0,
             "ticks": ""
            },
            "colorscale": [
             [
              0,
              "#0d0887"
             ],
             [
              0.1111111111111111,
              "#46039f"
             ],
             [
              0.2222222222222222,
              "#7201a8"
             ],
             [
              0.3333333333333333,
              "#9c179e"
             ],
             [
              0.4444444444444444,
              "#bd3786"
             ],
             [
              0.5555555555555556,
              "#d8576b"
             ],
             [
              0.6666666666666666,
              "#ed7953"
             ],
             [
              0.7777777777777778,
              "#fb9f3a"
             ],
             [
              0.8888888888888888,
              "#fdca26"
             ],
             [
              1,
              "#f0f921"
             ]
            ],
            "type": "heatmap"
           }
          ],
          "heatmapgl": [
           {
            "colorbar": {
             "outlinewidth": 0,
             "ticks": ""
            },
            "colorscale": [
             [
              0,
              "#0d0887"
             ],
             [
              0.1111111111111111,
              "#46039f"
             ],
             [
              0.2222222222222222,
              "#7201a8"
             ],
             [
              0.3333333333333333,
              "#9c179e"
             ],
             [
              0.4444444444444444,
              "#bd3786"
             ],
             [
              0.5555555555555556,
              "#d8576b"
             ],
             [
              0.6666666666666666,
              "#ed7953"
             ],
             [
              0.7777777777777778,
              "#fb9f3a"
             ],
             [
              0.8888888888888888,
              "#fdca26"
             ],
             [
              1,
              "#f0f921"
             ]
            ],
            "type": "heatmapgl"
           }
          ],
          "histogram": [
           {
            "marker": {
             "pattern": {
              "fillmode": "overlay",
              "size": 10,
              "solidity": 0.2
             }
            },
            "type": "histogram"
           }
          ],
          "histogram2d": [
           {
            "colorbar": {
             "outlinewidth": 0,
             "ticks": ""
            },
            "colorscale": [
             [
              0,
              "#0d0887"
             ],
             [
              0.1111111111111111,
              "#46039f"
             ],
             [
              0.2222222222222222,
              "#7201a8"
             ],
             [
              0.3333333333333333,
              "#9c179e"
             ],
             [
              0.4444444444444444,
              "#bd3786"
             ],
             [
              0.5555555555555556,
              "#d8576b"
             ],
             [
              0.6666666666666666,
              "#ed7953"
             ],
             [
              0.7777777777777778,
              "#fb9f3a"
             ],
             [
              0.8888888888888888,
              "#fdca26"
             ],
             [
              1,
              "#f0f921"
             ]
            ],
            "type": "histogram2d"
           }
          ],
          "histogram2dcontour": [
           {
            "colorbar": {
             "outlinewidth": 0,
             "ticks": ""
            },
            "colorscale": [
             [
              0,
              "#0d0887"
             ],
             [
              0.1111111111111111,
              "#46039f"
             ],
             [
              0.2222222222222222,
              "#7201a8"
             ],
             [
              0.3333333333333333,
              "#9c179e"
             ],
             [
              0.4444444444444444,
              "#bd3786"
             ],
             [
              0.5555555555555556,
              "#d8576b"
             ],
             [
              0.6666666666666666,
              "#ed7953"
             ],
             [
              0.7777777777777778,
              "#fb9f3a"
             ],
             [
              0.8888888888888888,
              "#fdca26"
             ],
             [
              1,
              "#f0f921"
             ]
            ],
            "type": "histogram2dcontour"
           }
          ],
          "mesh3d": [
           {
            "colorbar": {
             "outlinewidth": 0,
             "ticks": ""
            },
            "type": "mesh3d"
           }
          ],
          "parcoords": [
           {
            "line": {
             "colorbar": {
              "outlinewidth": 0,
              "ticks": ""
             }
            },
            "type": "parcoords"
           }
          ],
          "pie": [
           {
            "automargin": true,
            "type": "pie"
           }
          ],
          "scatter": [
           {
            "fillpattern": {
             "fillmode": "overlay",
             "size": 10,
             "solidity": 0.2
            },
            "type": "scatter"
           }
          ],
          "scatter3d": [
           {
            "line": {
             "colorbar": {
              "outlinewidth": 0,
              "ticks": ""
             }
            },
            "marker": {
             "colorbar": {
              "outlinewidth": 0,
              "ticks": ""
             }
            },
            "type": "scatter3d"
           }
          ],
          "scattercarpet": [
           {
            "marker": {
             "colorbar": {
              "outlinewidth": 0,
              "ticks": ""
             }
            },
            "type": "scattercarpet"
           }
          ],
          "scattergeo": [
           {
            "marker": {
             "colorbar": {
              "outlinewidth": 0,
              "ticks": ""
             }
            },
            "type": "scattergeo"
           }
          ],
          "scattergl": [
           {
            "marker": {
             "colorbar": {
              "outlinewidth": 0,
              "ticks": ""
             }
            },
            "type": "scattergl"
           }
          ],
          "scattermapbox": [
           {
            "marker": {
             "colorbar": {
              "outlinewidth": 0,
              "ticks": ""
             }
            },
            "type": "scattermapbox"
           }
          ],
          "scatterpolar": [
           {
            "marker": {
             "colorbar": {
              "outlinewidth": 0,
              "ticks": ""
             }
            },
            "type": "scatterpolar"
           }
          ],
          "scatterpolargl": [
           {
            "marker": {
             "colorbar": {
              "outlinewidth": 0,
              "ticks": ""
             }
            },
            "type": "scatterpolargl"
           }
          ],
          "scatterternary": [
           {
            "marker": {
             "colorbar": {
              "outlinewidth": 0,
              "ticks": ""
             }
            },
            "type": "scatterternary"
           }
          ],
          "surface": [
           {
            "colorbar": {
             "outlinewidth": 0,
             "ticks": ""
            },
            "colorscale": [
             [
              0,
              "#0d0887"
             ],
             [
              0.1111111111111111,
              "#46039f"
             ],
             [
              0.2222222222222222,
              "#7201a8"
             ],
             [
              0.3333333333333333,
              "#9c179e"
             ],
             [
              0.4444444444444444,
              "#bd3786"
             ],
             [
              0.5555555555555556,
              "#d8576b"
             ],
             [
              0.6666666666666666,
              "#ed7953"
             ],
             [
              0.7777777777777778,
              "#fb9f3a"
             ],
             [
              0.8888888888888888,
              "#fdca26"
             ],
             [
              1,
              "#f0f921"
             ]
            ],
            "type": "surface"
           }
          ],
          "table": [
           {
            "cells": {
             "fill": {
              "color": "#EBF0F8"
             },
             "line": {
              "color": "white"
             }
            },
            "header": {
             "fill": {
              "color": "#C8D4E3"
             },
             "line": {
              "color": "white"
             }
            },
            "type": "table"
           }
          ]
         },
         "layout": {
          "annotationdefaults": {
           "arrowcolor": "#2a3f5f",
           "arrowhead": 0,
           "arrowwidth": 1
          },
          "autotypenumbers": "strict",
          "coloraxis": {
           "colorbar": {
            "outlinewidth": 0,
            "ticks": ""
           }
          },
          "colorscale": {
           "diverging": [
            [
             0,
             "#8e0152"
            ],
            [
             0.1,
             "#c51b7d"
            ],
            [
             0.2,
             "#de77ae"
            ],
            [
             0.3,
             "#f1b6da"
            ],
            [
             0.4,
             "#fde0ef"
            ],
            [
             0.5,
             "#f7f7f7"
            ],
            [
             0.6,
             "#e6f5d0"
            ],
            [
             0.7,
             "#b8e186"
            ],
            [
             0.8,
             "#7fbc41"
            ],
            [
             0.9,
             "#4d9221"
            ],
            [
             1,
             "#276419"
            ]
           ],
           "sequential": [
            [
             0,
             "#0d0887"
            ],
            [
             0.1111111111111111,
             "#46039f"
            ],
            [
             0.2222222222222222,
             "#7201a8"
            ],
            [
             0.3333333333333333,
             "#9c179e"
            ],
            [
             0.4444444444444444,
             "#bd3786"
            ],
            [
             0.5555555555555556,
             "#d8576b"
            ],
            [
             0.6666666666666666,
             "#ed7953"
            ],
            [
             0.7777777777777778,
             "#fb9f3a"
            ],
            [
             0.8888888888888888,
             "#fdca26"
            ],
            [
             1,
             "#f0f921"
            ]
           ],
           "sequentialminus": [
            [
             0,
             "#0d0887"
            ],
            [
             0.1111111111111111,
             "#46039f"
            ],
            [
             0.2222222222222222,
             "#7201a8"
            ],
            [
             0.3333333333333333,
             "#9c179e"
            ],
            [
             0.4444444444444444,
             "#bd3786"
            ],
            [
             0.5555555555555556,
             "#d8576b"
            ],
            [
             0.6666666666666666,
             "#ed7953"
            ],
            [
             0.7777777777777778,
             "#fb9f3a"
            ],
            [
             0.8888888888888888,
             "#fdca26"
            ],
            [
             1,
             "#f0f921"
            ]
           ]
          },
          "colorway": [
           "#636efa",
           "#EF553B",
           "#00cc96",
           "#ab63fa",
           "#FFA15A",
           "#19d3f3",
           "#FF6692",
           "#B6E880",
           "#FF97FF",
           "#FECB52"
          ],
          "font": {
           "color": "#2a3f5f"
          },
          "geo": {
           "bgcolor": "white",
           "lakecolor": "white",
           "landcolor": "#E5ECF6",
           "showlakes": true,
           "showland": true,
           "subunitcolor": "white"
          },
          "hoverlabel": {
           "align": "left"
          },
          "hovermode": "closest",
          "mapbox": {
           "style": "light"
          },
          "paper_bgcolor": "white",
          "plot_bgcolor": "#E5ECF6",
          "polar": {
           "angularaxis": {
            "gridcolor": "white",
            "linecolor": "white",
            "ticks": ""
           },
           "bgcolor": "#E5ECF6",
           "radialaxis": {
            "gridcolor": "white",
            "linecolor": "white",
            "ticks": ""
           }
          },
          "scene": {
           "xaxis": {
            "backgroundcolor": "#E5ECF6",
            "gridcolor": "white",
            "gridwidth": 2,
            "linecolor": "white",
            "showbackground": true,
            "ticks": "",
            "zerolinecolor": "white"
           },
           "yaxis": {
            "backgroundcolor": "#E5ECF6",
            "gridcolor": "white",
            "gridwidth": 2,
            "linecolor": "white",
            "showbackground": true,
            "ticks": "",
            "zerolinecolor": "white"
           },
           "zaxis": {
            "backgroundcolor": "#E5ECF6",
            "gridcolor": "white",
            "gridwidth": 2,
            "linecolor": "white",
            "showbackground": true,
            "ticks": "",
            "zerolinecolor": "white"
           }
          },
          "shapedefaults": {
           "line": {
            "color": "#2a3f5f"
           }
          },
          "ternary": {
           "aaxis": {
            "gridcolor": "white",
            "linecolor": "white",
            "ticks": ""
           },
           "baxis": {
            "gridcolor": "white",
            "linecolor": "white",
            "ticks": ""
           },
           "bgcolor": "#E5ECF6",
           "caxis": {
            "gridcolor": "white",
            "linecolor": "white",
            "ticks": ""
           }
          },
          "title": {
           "x": 0.05
          },
          "xaxis": {
           "automargin": true,
           "gridcolor": "white",
           "linecolor": "white",
           "ticks": "",
           "title": {
            "standoff": 15
           },
           "zerolinecolor": "white",
           "zerolinewidth": 2
          },
          "yaxis": {
           "automargin": true,
           "gridcolor": "white",
           "linecolor": "white",
           "ticks": "",
           "title": {
            "standoff": 15
           },
           "zerolinecolor": "white",
           "zerolinewidth": 2
          }
         }
        },
        "xaxis": {
         "anchor": "y",
         "domain": [
          0,
          1
         ],
         "title": {
          "text": "song_genre"
         }
        },
        "yaxis": {
         "anchor": "x",
         "domain": [
          0,
          1
         ],
         "dtick": 0.2,
         "tick0": 0,
         "tickmode": "linear",
         "title": {
          "text": "value"
         }
        }
       }
      }
     },
     "metadata": {},
     "output_type": "display_data"
    }
   ],
   "source": [
    "top10_genres = genre_df.nlargest(10, 'artist_pop')\n",
    "\n",
    "fig = px.bar(top10_genres, x='song_genre', y=['valence', 'energy', 'danceability', 'acousticness'], barmode='group')\n",
    "\n",
    "\n",
    "fig.update_layout(\n",
    "    yaxis = dict(\n",
    "        tickmode = 'linear',\n",
    "        tick0 = 0,\n",
    "        dtick = 0.2\n",
    "    )\n",
    ")\n",
    "fig.show()"
   ]
  },
  {
   "cell_type": "code",
   "execution_count": 13,
   "metadata": {},
   "outputs": [
    {
     "data": {
      "image/png": "[encoded data removed]",
      "text/plain": [
       "<Figure size 640x480 with 1 Axes>"
      ]
     },
     "metadata": {},
     "output_type": "display_data"
    }
   ],
   "source": [
    "inertia = []\n",
    "k = list(range(1, 11))\n",
    "\n",
    "# Looking for the best k\n",
    "for i in k:\n",
    "    km = KMeans(n_clusters=i, random_state=0)\n",
    "    km.fit(genre_df.drop(columns='song_genre'))\n",
    "    inertia.append(km.inertia_)\n",
    "\n",
    "# Define a DataFrame to plot the Elbow Curve using hvPlot\n",
    "elbow_data = {\"k\": k, \"inertia\": inertia}\n",
    "df_elbow = pd.DataFrame(elbow_data)\n",
    "\n",
    "plt.plot(df_elbow['k'], df_elbow['inertia'])\n",
    "plt.xticks(range(1,11))\n",
    "plt.xlabel('Number of clusters')\n",
    "plt.ylabel('Inertia')\n",
    "plt.show()"
   ]
  },
  {
   "cell_type": "code",
   "execution_count": 14,
   "metadata": {},
   "outputs": [],
   "source": [
    "cluster_pipeline = Pipeline([('scaler', StandardScaler()), ('kmeans', KMeans(n_clusters=10, random_state=0))])\n",
    "X = genre_df.select_dtypes(np.number)\n",
    "cluster_pipeline.fit(X)\n",
    "genre_df['cluster'] = cluster_pipeline.predict(X)"
   ]
  },
  {
   "cell_type": "code",
   "execution_count": 15,
   "metadata": {},
   "outputs": [
    {
     "name": "stdout",
     "output_type": "stream",
     "text": [
      "[t-SNE] Computing 91 nearest neighbors...\n",
      "[t-SNE] Indexed 2425 samples in 0.010s...\n",
      "[t-SNE] Computed neighbors for 2425 samples in 0.072s...\n",
      "[t-SNE] Computed conditional probabilities for sample 1000 / 2425\n",
      "[t-SNE] Computed conditional probabilities for sample 2000 / 2425\n",
      "[t-SNE] Computed conditional probabilities for sample 2425 / 2425\n",
      "[t-SNE] Mean sigma: 0.491281\n",
      "[t-SNE] KL divergence after 250 iterations with early exaggeration: 76.270851\n",
      "[t-SNE] KL divergence after 1000 iterations: 1.385197\n"
     ]
    },
    {
     "data": {
      "application/vnd.plotly.v1+json": {
       "config": {
        "plotlyServerURL": "https://plot.ly"
       },
       "data": [
        {
         "customdata": [
          [
           "folk"
          ],
          [
           "grunge"
          ],
          [
           "rock"
          ],
          [
           "rock"
          ],
          [
           "rock and roll"
          ],
          [
           "r&b"
          ],
          [
           " a pop song with elements of rock and roll."
          ],
          [
           "r&b; soul"
          ],
          [
           "r&b"
          ],
          [
           "rock"
          ],
          [
           "r&b"
          ],
          [
           "rock"
          ],
          [
           "rock"
          ],
          [
           "rock"
          ],
          [
           "rock"
          ],
          [
           " pop."
          ],
          [
           "r&b"
          ],
          [
           " a mix of radio and club music."
          ],
          [
           "punk"
          ],
          [
           "hip hop"
          ],
          [
           "punk rock"
          ],
          [
           "rock"
          ],
          [
           "rock"
          ],
          [
           "rock and roll"
          ],
          [
           "rock"
          ],
          [
           "hip hop"
          ],
          [
           "r&b"
          ],
          [
           " pop."
          ],
          [
           " gospel."
          ],
          [
           "rock"
          ],
          [
           " in the genre of pop."
          ],
          [
           " r&b."
          ],
          [
           " a pop song."
          ],
          [
           "rock"
          ],
          [
           "jazz"
          ],
          [
           "rock"
          ],
          [
           "r&b"
          ],
          [
           "rock"
          ],
          [
           " alternative rock."
          ],
          [
           "punk"
          ],
          [
           "rock"
          ],
          [
           " considered to be a classic in the genre."
          ],
          [
           "rock"
          ],
          [
           "rock"
          ],
          [
           " a pop song from their debut album."
          ],
          [
           "r&b"
          ],
          [
           " pop."
          ],
          [
           "pop"
          ],
          [
           "rock"
          ],
          [
           "indie rock"
          ],
          [
           "hip-hop"
          ],
          [
           "rock and roll"
          ],
          [
           " a rock song."
          ],
          [
           "co"
          ],
          [
           "indie rock"
          ],
          [
           "rock"
          ],
          [
           "r&b"
          ],
          [
           "folk rock"
          ],
          [
           "rock"
          ],
          [
           "rock"
          ],
          [
           "blues"
          ],
          [
           " soul."
          ],
          [
           "trip hop"
          ],
          [
           "alternative rock"
          ],
          [
           "hip hop"
          ],
          [
           "new wave"
          ],
          [
           " alternative rock."
          ],
          [
           "rock"
          ],
          [
           "hip-hop"
          ],
          [
           " folk rock."
          ],
          [
           "rock"
          ],
          [
           "rock"
          ],
          [
           "hip hop"
          ],
          [
           "dance"
          ],
          [
           "r&b"
          ],
          [
           " r&b."
          ],
          [
           "rock"
          ],
          [
           "dance-punk"
          ],
          [
           "folk"
          ],
          [
           " punk rock."
          ],
          [
           " motown."
          ],
          [
           "rock and roll"
          ],
          [
           "electronic"
          ],
          [
           "rock"
          ],
          [
           " rock."
          ],
          [
           "pop"
          ],
          [
           "indie rock"
          ],
          [
           "rock"
          ],
          [
           " folk rock."
          ],
          [
           " a rock song."
          ],
          [
           "hip hop"
          ],
          [
           "ska"
          ],
          [
           " a pop song."
          ],
          [
           "electronic"
          ],
          [
           " a song in the genre of rock and roll."
          ],
          [
           "rock"
          ],
          [
           "r&b"
          ],
          [
           "rockabilly"
          ],
          [
           "funk"
          ],
          [
           "britpop"
          ],
          [
           "rock"
          ],
          [
           "rock and roll"
          ],
          [
           " rock."
          ],
          [
           " rock."
          ],
          [
           "rock"
          ],
          [
           " r&b."
          ],
          [
           "rock"
          ],
          [
           "co"
          ],
          [
           "rock and roll"
          ],
          [
           "indie rock"
          ],
          [
           "rockabilly"
          ],
          [
           "co"
          ],
          [
           "r&b"
          ],
          [
           "r&b"
          ],
          [
           " rock."
          ],
          [
           "pop"
          ],
          [
           " soul."
          ],
          [
           "hip hop"
          ],
          [
           "folk"
          ],
          [
           "rock"
          ],
          [
           "funk"
          ],
          [
           "folk"
          ],
          [
           "reggae"
          ],
          [
           "rock"
          ],
          [
           " a rock song."
          ],
          [
           "rock and roll"
          ],
          [
           "progressive rock"
          ],
          [
           "indie rock"
          ],
          [
           "indie rock"
          ],
          [
           "country"
          ],
          [
           " a folk rock song."
          ],
          [
           "electronic"
          ],
          [
           "rock and roll"
          ],
          [
           "soul"
          ],
          [
           "indie rock"
          ],
          [
           "r&b"
          ],
          [
           "rock"
          ],
          [
           "co"
          ],
          [
           "folk"
          ],
          [
           " rock."
          ],
          [
           "r&b"
          ],
          [
           "indie rock"
          ],
          [
           "rock"
          ],
          [
           "rockabilly"
          ],
          [
           "heavy metal"
          ],
          [
           "new wave"
          ],
          [
           "rock"
          ],
          [
           "hip hop"
          ],
          [
           " pop."
          ],
          [
           "rock"
          ],
          [
           "r&b"
          ],
          [
           "rock"
          ],
          [
           "indie rock"
          ],
          [
           "r&b"
          ],
          [
           "rock"
          ],
          [
           " musical theater."
          ],
          [
           "rock"
          ],
          [
           "folk"
          ],
          [
           " pop."
          ],
          [
           "rock"
          ],
          [
           "hip-hop"
          ],
          [
           "indie rock"
          ],
          [
           " a pop song."
          ],
          [
           " dance-pop."
          ],
          [
           "indie rock"
          ],
          [
           "r&b"
          ],
          [
           "rock"
          ],
          [
           "rock"
          ],
          [
           " rock."
          ],
          [
           " rock."
          ],
          [
           "indie rock"
          ],
          [
           "hip-hop"
          ],
          [
           "rock"
          ],
          [
           " psychedelic rock."
          ],
          [
           " pop."
          ],
          [
           "rock"
          ],
          [
           "new wave"
          ],
          [
           "new wave"
          ],
          [
           " pop."
          ],
          [
           "funk"
          ],
          [
           " dance-pop."
          ],
          [
           " a country-style honky tonk."
          ],
          [
           "indie rock"
          ],
          [
           "electronic"
          ],
          [
           "indie rock"
          ],
          [
           " pop."
          ],
          [
           " a glam rock song."
          ],
          [
           "indie rock"
          ],
          [
           " song could also be classified as rhythm and blues or soul."
          ],
          [
           "indie rock"
          ],
          [
           "indie rock"
          ],
          [
           "co"
          ],
          [
           " in the genre of rock."
          ],
          [
           " considered a rock song."
          ],
          [
           "country"
          ],
          [
           "hip hop"
          ],
          [
           " pop."
          ],
          [
           "country"
          ],
          [
           "rock"
          ],
          [
           "pop"
          ],
          [
           "punk"
          ],
          [
           "h gambino."
          ],
          [
           "folk"
          ],
          [
           "country"
          ],
          [
           " pop."
          ],
          [
           "rock and roll"
          ],
          [
           "hip hop"
          ],
          [
           "country"
          ],
          [
           " rock and roll."
          ],
          [
           "folk"
          ],
          [
           "indie rock"
          ],
          [
           " gospel."
          ],
          [
           "new wave"
          ],
          [
           " pop."
          ],
          [
           " about the loss of innocence of a young person."
          ],
          [
           "rock"
          ],
          [
           "r&b"
          ],
          [
           "punk"
          ],
          [
           "rock"
          ],
          [
           " a pop song."
          ],
          [
           "hard rock"
          ],
          [
           "pop"
          ],
          [
           " a rock song."
          ],
          [
           "new wave"
          ],
          [
           "hip hop"
          ],
          [
           "rock"
          ],
          [
           "funk"
          ],
          [
           "rock"
          ],
          [
           "rock and roll"
          ],
          [
           " soul."
          ],
          [
           " pop."
          ],
          [
           " r&b."
          ],
          [
           "rock"
          ],
          [
           "soul"
          ],
          [
           "punk rock"
          ],
          [
           " alternative rock."
          ],
          [
           "jazz"
          ],
          [
           " r&b."
          ],
          [
           " a garage rock song."
          ],
          [
           "rock"
          ],
          [
           "soul"
          ],
          [
           " country."
          ],
          [
           "funk"
          ],
          [
           " a electronic song with elements of idm and glitch music."
          ],
          [
           "rock"
          ],
          [
           "punk rock"
          ],
          [
           "rock"
          ],
          [
           "punk rock"
          ],
          [
           "folk"
          ],
          [
           "rock"
          ],
          [
           "rockabilly"
          ],
          [
           " pop."
          ],
          [
           "r&b"
          ],
          [
           "ts. the most well-known version was recorded by ritchie valens in 1958."
          ],
          [
           "indie rock"
          ],
          [
           "dance-pop"
          ],
          [
           "electronic"
          ],
          [
           "indie rock"
          ],
          [
           ", and carl wilson, their cousin mike love, and their friend al jardine."
          ],
          [
           "alternative rock"
          ],
          [
           "rock"
          ],
          [
           "doo-wop"
          ],
          [
           " rock."
          ],
          [
           "rock"
          ],
          [
           "progressive rock"
          ],
          [
           "hip hop"
          ],
          [
           " pop."
          ],
          [
           "dance"
          ],
          [
           "pop"
          ],
          [
           " dance-pop."
          ],
          [
           "rock"
          ],
          [
           "rock"
          ],
          [
           " rap."
          ],
          [
           "hip-hop"
          ],
          [
           "electronic"
          ],
          [
           "punk rock"
          ],
          [
           "rock"
          ],
          [
           "indie rock"
          ],
          [
           "rock"
          ],
          [
           "soul"
          ],
          [
           " classified as alternative rock."
          ],
          [
           "hip-hop"
          ],
          [
           "r&b"
          ],
          [
           "reggae"
          ],
          [
           "hip-hop"
          ],
          [
           "reggae"
          ],
          [
           "rock"
          ],
          [
           "country"
          ],
          [
           "r&b"
          ],
          [
           " blues."
          ],
          [
           "heavy metal"
          ],
          [
           "rock"
          ],
          [
           "dance"
          ],
          [
           "soul"
          ],
          [
           " rock."
          ],
          [
           "rock and roll"
          ],
          [
           "blues"
          ],
          [
           "gospel"
          ],
          [
           "folk"
          ],
          [
           " a country song."
          ],
          [
           "electronic"
          ],
          [
           "indie pop"
          ],
          [
           "rock"
          ],
          [
           " a motown soul song."
          ],
          [
           "chanson"
          ],
          [
           " rock."
          ],
          [
           "heavy metal"
          ],
          [
           "chanson"
          ],
          [
           "alternative rock"
          ],
          [
           "garage rock"
          ],
          [
           " rap."
          ],
          [
           " alternative rock."
          ],
          [
           "hip hop"
          ],
          [
           "heavy metal"
          ],
          [
           " motown."
          ],
          [
           "indie rock"
          ],
          [
           "soul"
          ],
          [
           " indie rock."
          ],
          [
           "rock"
          ],
          [
           "rock"
          ],
          [
           "rock"
          ],
          [
           "rock"
          ],
          [
           "rock"
          ],
          [
           "rock"
          ],
          [
           "dance"
          ],
          [
           "rap metal"
          ],
          [
           " pop."
          ],
          [
           "s me."
          ],
          [
           " a pop song."
          ],
          [
           "indie pop"
          ],
          [
           "indie rock"
          ],
          [
           "rock"
          ],
          [
           "rock"
          ],
          [
           "dance"
          ],
          [
           "indie rock"
          ],
          [
           "tmas."
          ],
          [
           "rock"
          ],
          [
           "funk"
          ],
          [
           "r&b"
          ],
          [
           "soul"
          ],
          [
           "rock"
          ],
          [
           "hip-hop"
          ],
          [
           "punk rock"
          ],
          [
           "folk rock"
          ],
          [
           "hip-hop"
          ],
          [
           " rock."
          ],
          [
           "hip hop"
          ],
          [
           "soul"
          ],
          [
           "jazz"
          ],
          [
           "rock"
          ],
          [
           "rock"
          ],
          [
           "rock"
          ],
          [
           " a psychedelic rock song."
          ],
          [
           "rock"
          ],
          [
           " electronic dance music."
          ],
          [
           " in the genre of rock."
          ],
          [
           "r&b"
          ],
          [
           " in the genre of alternative rock."
          ],
          [
           "rock"
          ],
          [
           " alternative rock."
          ],
          [
           "jazz"
          ],
          [
           "rock"
          ],
          [
           "indie rock"
          ],
          [
           "hip hop"
          ],
          [
           "electronic"
          ],
          [
           "rock"
          ],
          [
           "rock"
          ],
          [
           "indie rock"
          ],
          [
           " pop."
          ],
          [
           "new wave"
          ],
          [
           "rock and roll"
          ],
          [
           "indie folk"
          ],
          [
           " blues."
          ],
          [
           "rock and roll"
          ],
          [
           " pop."
          ],
          [
           "swing"
          ],
          [
           " r&b/hip-hop."
          ],
          [
           "rock"
          ],
          [
           "folk"
          ],
          [
           "folk"
          ],
          [
           "rock"
          ],
          [
           "r&b"
          ],
          [
           "rock"
          ],
          [
           "the genre of the song \"monkey gone to heaven\" by pixies would be considered alternative rock."
          ],
          [
           "rock"
          ],
          [
           " a rock song by guns n' roses."
          ],
          [
           "rock"
          ],
          [
           " a song by the jam, released as a single in march 1980. it was the first single from the album sound affects and reached number one in the uk singles chart."
          ],
          [
           "jazz"
          ],
          [
           "rock and roll"
          ],
          [
           "r&b"
          ],
          [
           " boogie-woogie."
          ],
          [
           "rock"
          ],
          [
           "dance"
          ],
          [
           "folk"
          ],
          [
           " pop."
          ],
          [
           "trip hop"
          ],
          [
           " pop."
          ],
          [
           "funk"
          ],
          [
           "pop"
          ],
          [
           "country"
          ],
          [
           "rock"
          ],
          [
           " rock."
          ],
          [
           "hard rock"
          ],
          [
           "punk"
          ],
          [
           "rock"
          ],
          [
           "rock"
          ],
          [
           "pop"
          ],
          [
           "pop"
          ],
          [
           "co"
          ],
          [
           "rock"
          ],
          [
           "reggae"
          ],
          [
           "jazz"
          ],
          [
           " a song in the genre of rock."
          ],
          [
           " a rock song."
          ],
          [
           "doo-wop"
          ],
          [
           "rock"
          ],
          [
           " doo-wop."
          ],
          [
           "rap"
          ],
          [
           "r&b"
          ],
          [
           "indie rock"
          ],
          [
           "indie rock"
          ],
          [
           " a new wave/post-punk band, so the genre of bizarre love triangle would be new wave/post-punk."
          ],
          [
           "rock"
          ],
          [
           "the miracles were a motown r&b group during the 1960s."
          ],
          [
           "indie rock"
          ],
          [
           "hip-hop"
          ],
          [
           "funk"
          ],
          [
           " in the genre of rock."
          ],
          [
           " blues."
          ],
          [
           " pop."
          ],
          [
           "indie rock"
          ],
          [
           "hip hop"
          ],
          [
           "indie rock"
          ],
          [
           " r&b."
          ],
          [
           "experimental electronic"
          ],
          [
           "rock"
          ],
          [
           "punk rock"
          ],
          [
           "rock"
          ],
          [
           " soul."
          ],
          [
           " electronic."
          ],
          [
           "rock"
          ],
          [
           "r&b"
          ],
          [
           "psychedelic rock"
          ],
          [
           "the everly brothers are an american country-influenced rock and roll duo, known for steel-string acoustic guitar and close harmony singing."
          ],
          [
           "new wave"
          ],
          [
           " pop."
          ],
          [
           " punk rock."
          ],
          [
           "hip-hop"
          ],
          [
           "indie rock"
          ],
          [
           "electronic"
          ],
          [
           "indie rock"
          ],
          [
           "gospel"
          ],
          [
           "indie rock"
          ],
          [
           "punk rock"
          ],
          [
           "r&b"
          ],
          [
           " a song from their 1979 debut album, three imaginary boys."
          ],
          [
           "rock"
          ],
          [
           " doo-wop."
          ],
          [
           "pop"
          ],
          [
           "rock"
          ],
          [
           "grunge"
          ],
          [
           "rock"
          ],
          [
           "indie folk"
          ],
          [
           "rock"
          ],
          [
           "dance"
          ],
          [
           "indie rock"
          ],
          [
           "indie rock"
          ],
          [
           "singer-songwriter, pop, soft rock"
          ],
          [
           " rock."
          ],
          [
           "r&b"
          ],
          [
           "indie rock"
          ],
          [
           " a pop song."
          ],
          [
           "r&b"
          ],
          [
           "afrobeat"
          ],
          [
           " alternative rock."
          ],
          [
           "grunge"
          ],
          [
           " alternative rock."
          ],
          [
           "dance"
          ],
          [
           "indie rock"
          ],
          [
           "folk"
          ],
          [
           " soul."
          ],
          [
           "gangsta rap"
          ],
          [
           "rock"
          ],
          [
           " a hip hop song by the roots."
          ],
          [
           "rock"
          ],
          [
           " a country song."
          ],
          [
           "pop"
          ],
          [
           " blues."
          ],
          [
           "r&b"
          ],
          [
           "h punk rock."
          ],
          [
           "rock"
          ],
          [
           "soul"
          ],
          [
           " pop."
          ],
          [
           "r&b"
          ],
          [
           "rock"
          ],
          [
           "rock"
          ],
          [
           "country"
          ],
          [
           "funk"
          ],
          [
           "grunge"
          ],
          [
           " a pop song written by motown songwriters lamont dozier and edward holland, jr."
          ],
          [
           "'s haunted graffitiindie rock"
          ],
          [
           "folk"
          ],
          [
           "rock"
          ],
          [
           "r&b"
          ],
          [
           "electronic"
          ],
          [
           "rock"
          ],
          [
           "blues"
          ],
          [
           "hip-hop"
          ],
          [
           "industrial rock"
          ],
          [
           "r&b"
          ],
          [
           "r&b"
          ],
          [
           "rock"
          ],
          [
           "jazz"
          ],
          [
           "indie folk"
          ],
          [
           "pop"
          ],
          [
           " pop."
          ],
          [
           "hip-hop"
          ],
          [
           "rock"
          ],
          [
           "jazz"
          ],
          [
           " rock."
          ],
          [
           " alternative rock."
          ],
          [
           " a song in the genre of pop."
          ],
          [
           "indie rock"
          ],
          [
           "dance"
          ],
          [
           "rock"
          ],
          [
           "hip hop"
          ],
          [
           "rock and roll"
          ],
          [
           "rock and roll"
          ],
          [
           " soul."
          ],
          [
           "indie rock"
          ],
          [
           "progressive rock"
          ],
          [
           "rock"
          ],
          [
           "trip hop"
          ],
          [
           " pop."
          ],
          [
           "rock"
          ],
          [
           "folk-rock"
          ],
          [
           "folk"
          ],
          [
           "reggae"
          ],
          [
           "post-hardcore"
          ],
          [
           "hip-hop"
          ],
          [
           "reggae"
          ],
          [
           "chanson"
          ],
          [
           " pop."
          ],
          [
           "electronic"
          ],
          [
           "folk"
          ],
          [
           "electronic"
          ],
          [
           " pop."
          ],
          [
           "indie rock"
          ],
          [
           "rock"
          ],
          [
           "soul"
          ],
          [
           " a rock song."
          ],
          [
           "soft rock"
          ],
          [
           "country"
          ],
          [
           "the everly brothers are an american country-influenced rock and roll duo, known for steel-string acoustic guitar and close harmony singing."
          ],
          [
           " pop."
          ],
          [
           "rock"
          ],
          [
           " a rock song."
          ],
          [
           "pop"
          ],
          [
           "rock and roll"
          ],
          [
           "pop"
          ],
          [
           "rock"
          ],
          [
           "r&b"
          ],
          [
           " rock."
          ],
          [
           "folk"
          ],
          [
           "indie rock"
          ],
          [
           "bluegrass"
          ],
          [
           "pop"
          ],
          [
           "rock"
          ],
          [
           "dance"
          ],
          [
           "rock"
          ],
          [
           " rock."
          ],
          [
           "rap"
          ],
          [
           "funk"
          ],
          [
           " rock."
          ],
          [
           " pop."
          ],
          [
           "rock"
          ],
          [
           "pop"
          ],
          [
           "hip-hop"
          ],
          [
           " a rock song."
          ],
          [
           "reggae"
          ],
          [
           "flamenco"
          ],
          [
           "funk"
          ],
          [
           "soul"
          ],
          [
           "blues"
          ],
          [
           "r&b"
          ],
          [
           " new wave."
          ],
          [
           "folk"
          ],
          [
           "rock"
          ],
          [
           "indietronica"
          ],
          [
           "indie pop"
          ],
          [
           "indie pop"
          ],
          [
           "big band"
          ],
          [
           "pop"
          ],
          [
           "doowop"
          ],
          [
           "indie electronic"
          ],
          [
           "folk"
          ],
          [
           " indie rock."
          ],
          [
           "indie rock"
          ],
          [
           " soul."
          ],
          [
           "jazz"
          ],
          [
           "rock"
          ],
          [
           "jazz"
          ],
          [
           "indie rock"
          ],
          [
           "folk"
          ],
          [
           "trip hop"
          ],
          [
           "indie rock"
          ],
          [
           "electronic"
          ],
          [
           "rock"
          ],
          [
           " a rock song."
          ],
          [
           "r&b"
          ],
          [
           " classified as pop."
          ],
          [
           " rock and roll."
          ],
          [
           "hip-hop"
          ],
          [
           " a garage rock song."
          ],
          [
           "hip-hop"
          ],
          [
           "new wave"
          ],
          [
           "gospel"
          ],
          [
           "indie rock"
          ],
          [
           "jazz"
          ],
          [
           " alternative rock."
          ],
          [
           "jazz"
          ],
          [
           "electronic"
          ],
          [
           "rock"
          ],
          [
           " indie rock."
          ],
          [
           "new wave"
          ],
          [
           "pop"
          ],
          [
           "r&b"
          ],
          [
           " pop."
          ],
          [
           "indie rock"
          ],
          [
           "rock"
          ],
          [
           "dance"
          ],
          [
           " alternative rock."
          ],
          [
           "rock"
          ],
          [
           "instrumental rock"
          ],
          [
           "rock"
          ],
          [
           " pop."
          ],
          [
           "r&b"
          ],
          [
           "indie rock"
          ],
          [
           "rock"
          ],
          [
           "folk"
          ],
          [
           "progressive rock"
          ],
          [
           " new wave."
          ],
          [
           " blues."
          ],
          [
           "r&b"
          ],
          [
           "folk"
          ],
          [
           "bluegrass"
          ],
          [
           "folk"
          ],
          [
           "rock"
          ],
          [
           "reggae"
          ],
          [
           "r&b"
          ],
          [
           "rock"
          ],
          [
           " being the only constant members."
          ],
          [
           "indie rock"
          ],
          [
           "hip hop"
          ],
          [
           "electronic"
          ],
          [
           "co"
          ],
          [
           "electronic"
          ],
          [
           "new wave"
          ],
          [
           "r&b"
          ],
          [
           "rock"
          ],
          [
           "progressive rock"
          ],
          [
           " a rock song."
          ],
          [
           "folk"
          ],
          [
           " rock."
          ],
          [
           " a folk rock song."
          ],
          [
           " pop."
          ],
          [
           "dance-pop"
          ],
          [
           "hip hop"
          ],
          [
           "punk"
          ],
          [
           "post-punk"
          ],
          [
           " blues."
          ],
          [
           "folk"
          ],
          [
           "rock and roll"
          ],
          [
           " r&b."
          ],
          [
           "pop"
          ],
          [
           "folk"
          ],
          [
           "rock"
          ],
          [
           "new wave"
          ],
          [
           "soul"
          ],
          [
           "rock"
          ],
          [
           "punk"
          ],
          [
           "punk"
          ],
          [
           "rock"
          ],
          [
           "indie rock"
          ],
          [
           "rock"
          ],
          [
           " indie rock."
          ],
          [
           "folk rock"
          ],
          [
           "post-punk"
          ],
          [
           "rock"
          ],
          [
           "jazz"
          ],
          [
           " soul."
          ],
          [
           "rock"
          ],
          [
           "jazz"
          ],
          [
           "pop"
          ],
          [
           "indie rock"
          ],
          [
           "r&b"
          ],
          [
           "doo-wop"
          ],
          [
           "rock"
          ],
          [
           " soul."
          ],
          [
           "rock and roll"
          ],
          [
           "indie rock"
          ],
          [
           " r&b."
          ],
          [
           " rock."
          ],
          [
           "punk rock"
          ],
          [
           "grunge"
          ],
          [
           " pop-rock."
          ],
          [
           " and kanye westrap"
          ],
          [
           "hip hop"
          ],
          [
           "rock"
          ],
          [
           "folk"
          ],
          [
           " rock."
          ],
          [
           "pop"
          ],
          [
           "funk"
          ],
          [
           "hip-hop"
          ],
          [
           " hip hop."
          ],
          [
           "indie rock"
          ],
          [
           "math rock"
          ],
          [
           "folk"
          ],
          [
           "rock"
          ],
          [
           "alternative rock"
          ],
          [
           "jazz"
          ],
          [
           "indie rock"
          ],
          [
           "motown"
          ],
          [
           " new wave."
          ],
          [
           "country"
          ],
          [
           "r&b"
          ],
          [
           "hip-hop"
          ],
          [
           "punk rock"
          ],
          [
           "hip hop"
          ],
          [
           "rock"
          ],
          [
           " a rock song."
          ],
          [
           "rock"
          ],
          [
           " rap."
          ],
          [
           "rock"
          ],
          [
           "rock"
          ],
          [
           " soul."
          ],
          [
           " rock."
          ],
          [
           "rock"
          ],
          [
           "heavy metal"
          ],
          [
           "rock"
          ],
          [
           "r&b"
          ],
          [
           "rock"
          ],
          [
           "progressive rock"
          ],
          [
           "blues"
          ],
          [
           "folk"
          ],
          [
           "experimental rock"
          ],
          [
           " country."
          ],
          [
           "indie rock"
          ],
          [
           "new wave"
          ],
          [
           " pop."
          ],
          [
           ", and carl wilson; their cousin mike love; and their friend al jardine."
          ],
          [
           "folk"
          ],
          [
           " surf rock."
          ],
          [
           "reggae"
          ],
          [
           "protest"
          ],
          [
           "pop"
          ],
          [
           " blues."
          ],
          [
           "jazz"
          ],
          [
           "rock"
          ],
          [
           "pop"
          ],
          [
           "rock"
          ],
          [
           "dance"
          ],
          [
           " motown."
          ],
          [
           " rock."
          ],
          [
           "rock"
          ],
          [
           "folk"
          ],
          [
           " pop."
          ],
          [
           "hip hop"
          ],
          [
           "jazz"
          ],
          [
           " a baroque pop song."
          ],
          [
           " a rock song."
          ],
          [
           " alternative rock."
          ],
          [
           "r&b"
          ],
          [
           "punk rock"
          ],
          [
           "rock"
          ],
          [
           " pop."
          ],
          [
           " rock."
          ],
          [
           "dance-pop"
          ],
          [
           "hip-hop"
          ],
          [
           " folk rock."
          ],
          [
           "r&b"
          ],
          [
           "funk"
          ],
          [
           "new wave"
          ],
          [
           "folk rock"
          ],
          [
           "heavy metal"
          ],
          [
           "hip-hop"
          ],
          [
           " a pop song."
          ],
          [
           " classified as a garage rock song."
          ],
          [
           "rap"
          ],
          [
           "funk"
          ],
          [
           "rock"
          ],
          [
           "folk"
          ],
          [
           " folk."
          ],
          [
           " rock."
          ],
          [
           "rock"
          ],
          [
           "funk"
          ],
          [
           "rock"
          ],
          [
           "rock"
          ],
          [
           "rock"
          ],
          [
           " a song from their 1980 album, seventeen seconds."
          ],
          [
           "hip hop"
          ],
          [
           "r&b"
          ],
          [
           " new wave."
          ],
          [
           "hip hop"
          ],
          [
           "shoegaze"
          ],
          [
           " electronic"
          ],
          [
           "folk"
          ],
          [
           " in the genre of rock."
          ],
          [
           "indie rock"
          ],
          [
           "reggae"
          ],
          [
           "rock"
          ],
          [
           "rap"
          ],
          [
           "pop"
          ],
          [
           " pop."
          ],
          [
           "rock"
          ],
          [
           "folk"
          ],
          [
           "alt-rock"
          ],
          [
           " pop."
          ],
          [
           "punk rock"
          ],
          [
           "rock"
          ],
          [
           "folk"
          ],
          [
           "new wave"
          ],
          [
           " pop."
          ],
          [
           "hip-hop"
          ],
          [
           "gothic rock"
          ],
          [
           "h rock"
          ],
          [
           "hip-hop"
          ],
          [
           "jazz"
          ],
          [
           " grunge."
          ],
          [
           "co"
          ],
          [
           "r&b"
          ],
          [
           "rock"
          ],
          [
           "hip hop"
          ],
          [
           "rock"
          ],
          [
           "blues"
          ],
          [
           "punk rock"
          ],
          [
           " rock."
          ],
          [
           "indie rock"
          ],
          [
           "r&b"
          ],
          [
           "indie rock"
          ],
          [
           " rock."
          ],
          [
           "pop"
          ],
          [
           "indie rock"
          ],
          [
           "hip hop"
          ],
          [
           "rock"
          ],
          [
           "pop"
          ],
          [
           " soul."
          ],
          [
           " pop."
          ],
          [
           " rap."
          ],
          [
           "jazz"
          ],
          [
           "funk"
          ],
          [
           " a pop song."
          ],
          [
           "hip-hop"
          ],
          [
           "shoegaze"
          ],
          [
           "shoegaze"
          ],
          [
           "new wave"
          ],
          [
           "grunge"
          ],
          [
           "country"
          ],
          [
           "rock"
          ],
          [
           "folk"
          ],
          [
           " swing."
          ],
          [
           " a 1966 song written and composed by holland–dozier–holland. the song was first recorded by the supremes for their eleventh studio album, the supremes sing holland–dozier–holland."
          ],
          [
           "c."
          ],
          [
           "rockabilly"
          ],
          [
           " r&b."
          ],
          [
           "post-punk"
          ],
          [
           "folk"
          ],
          [
           "rock"
          ],
          [
           "folk"
          ],
          [
           "reggae"
          ],
          [
           "trip-hop"
          ],
          [
           " blues."
          ],
          [
           "rap"
          ],
          [
           " electronic."
          ],
          [
           "rock"
          ],
          [
           "rock"
          ],
          [
           "dance-rock"
          ],
          [
           "indie rock"
          ],
          [
           " in the genre of pop."
          ],
          [
           "rock"
          ],
          [
           " jazz."
          ],
          [
           " rock."
          ],
          [
           "r&b"
          ],
          [
           "indie rock"
          ],
          [
           " & wingsrock"
          ],
          [
           " a rock song."
          ],
          [
           "electronic"
          ],
          [
           " hip hop."
          ],
          [
           "country"
          ],
          [
           " & tammi terrellsoul"
          ],
          [
           " rhythm and blues."
          ],
          [
           " a pop song."
          ],
          [
           "rock and roll"
          ],
          [
           "blues"
          ],
          [
           "folk"
          ],
          [
           " rock."
          ],
          [
           "folk"
          ],
          [
           " psychedelic rock."
          ],
          [
           "punk rock"
          ],
          [
           "hip hop"
          ],
          [
           "new wave"
          ],
          [
           "rap"
          ],
          [
           "rock"
          ],
          [
           "r&b"
          ],
          [
           "gangsta rap"
          ],
          [
           "new wave"
          ],
          [
           " blues."
          ],
          [
           "rock"
          ],
          [
           "progressive rock"
          ],
          [
           "rock"
          ],
          [
           "hip-hop"
          ],
          [
           "indie rock"
          ],
          [
           "bossa nova"
          ],
          [
           "jazz"
          ],
          [
           "electronic"
          ],
          [
           "techno"
          ],
          [
           "rock"
          ],
          [
           "pop"
          ],
          [
           "punk rock"
          ],
          [
           " in the genre of alternative rock."
          ],
          [
           " a pop song."
          ],
          [
           "hip hop"
          ],
          [
           "rock"
          ],
          [
           "progressive rock"
          ],
          [
           "blues"
          ],
          [
           "r&b"
          ],
          [
           "electronic"
          ],
          [
           "indie rock"
          ],
          [
           "electronic"
          ],
          [
           "h, and the pixies."
          ],
          [
           " r&b."
          ],
          [
           "industrial rock"
          ],
          [
           "folk"
          ],
          [
           " a song in the genre of country."
          ],
          [
           "doo-wop"
          ],
          [
           "pop"
          ],
          [
           "indie rock"
          ],
          [
           "blues"
          ],
          [
           "r&b"
          ],
          [
           "rap"
          ],
          [
           " pop."
          ],
          [
           " rock."
          ],
          [
           "indie rock"
          ],
          [
           "folk"
          ],
          [
           "rock"
          ],
          [
           " pop."
          ],
          [
           "punk rock"
          ],
          [
           "heavy metal"
          ],
          [
           " rock."
          ],
          [
           "soul"
          ],
          [
           " jazz."
          ],
          [
           " rock."
          ],
          [
           "hip hop"
          ],
          [
           "rock"
          ],
          [
           "indie rock"
          ],
          [
           "hip-hop"
          ],
          [
           "rock 'n' roll"
          ],
          [
           "indie rock"
          ],
          [
           " r&b."
          ],
          [
           "alternative rock"
          ],
          [
           "blues"
          ],
          [
           "indie rock"
          ],
          [
           " a pop song."
          ],
          [
           " a motown soul song."
          ],
          [
           "co."
          ],
          [
           "pop"
          ],
          [
           "soul"
          ],
          [
           " a rock song."
          ],
          [
           "new wave"
          ],
          [
           " a hip hop song."
          ],
          [
           "indie rock"
          ],
          [
           "h rock band the beatles from their 1969 album abbey road. the song was written by paul mccartney and credited to lennon–mccartney."
          ],
          [
           "dance"
          ],
          [
           "punk"
          ],
          [
           "folk"
          ],
          [
           " singer-songwriter."
          ],
          [
           " pop."
          ],
          [
           "folk"
          ],
          [
           "rock"
          ],
          [
           "rock"
          ],
          [
           " pop."
          ],
          [
           " motown."
          ],
          [
           " in the genre of rock."
          ],
          [
           " rock."
          ],
          [
           "soul"
          ],
          [
           " classified as a pop song."
          ],
          [
           "gospel"
          ],
          [
           "soft rock"
          ],
          [
           "rock"
          ],
          [
           "the platters are an american vocal group from los angeles, california. they were one of the most successful vocal groups of the early rock and roll era. the platters were originally formed in 1952 and were managed by music entrepreneur and producer buck ram.the platters' recording of \"the great pretender\" was released in december 1955 and reached number one on the billboard chart in february 1956. the song was written by buck ram and was inspired by a novel of the same name by w. somerset maugham.the platters were inducted into the rock and roll hall of fame in 1990."
          ],
          [
           "rock"
          ],
          [
           "jazz"
          ],
          [
           "jazz-funk"
          ],
          [
           "indie rock"
          ],
          [
           "rock"
          ],
          [
           " rhythm and blues."
          ],
          [
           "rock"
          ],
          [
           " rock."
          ],
          [
           "funk"
          ],
          [
           " funk."
          ],
          [
           "post-punk"
          ],
          [
           "rock"
          ],
          [
           "r&b"
          ],
          [
           " alternative rock."
          ],
          [
           "folk"
          ],
          [
           "drum and bass"
          ],
          [
           "rock"
          ],
          [
           "hip-hop"
          ],
          [
           "southern rock"
          ],
          [
           "rock and roll"
          ],
          [
           "r&b"
          ],
          [
           "funk"
          ],
          [
           " alternative rock."
          ],
          [
           "hip hop"
          ],
          [
           "r&b"
          ],
          [
           "h invasion"
          ],
          [
           " a synth-pop song."
          ],
          [
           "dance-pop"
          ],
          [
           " doo-wop."
          ],
          [
           "rock"
          ],
          [
           " soul."
          ],
          [
           "folk"
          ],
          [
           "pop"
          ],
          [
           " pop."
          ],
          [
           " a pop song."
          ],
          [
           "rock"
          ],
          [
           "pop"
          ],
          [
           " rock and roll."
          ],
          [
           "country"
          ],
          [
           "rock"
          ],
          [
           "r&b"
          ],
          [
           " r&b."
          ],
          [
           "southern rock"
          ],
          [
           " rock."
          ],
          [
           "rock"
          ],
          [
           "hip-hop"
          ],
          [
           "funk"
          ],
          [
           "hip hop"
          ],
          [
           " rock."
          ],
          [
           "post-punk"
          ],
          [
           "rock"
          ],
          [
           "indie folk"
          ],
          [
           " alternative rock."
          ],
          [
           "fusion"
          ],
          [
           " rock."
          ],
          [
           " soul."
          ],
          [
           "rock and roll"
          ],
          [
           " rock."
          ],
          [
           "2 tone"
          ],
          [
           " a rap song."
          ],
          [
           "indie rock"
          ],
          [
           "hard rock"
          ],
          [
           "dance-pop"
          ],
          [
           "hip-hop"
          ],
          [
           "rock"
          ],
          [
           "rock"
          ],
          [
           "jazz"
          ],
          [
           "pop"
          ],
          [
           "rock"
          ],
          [
           "country"
          ],
          [
           "uk grime"
          ],
          [
           "soul"
          ],
          [
           " a blend of post-punk, new wave, electronic dance music, and synth-pop. the band's debut album, movement, was released in 1981. the album was not commercially successful, but it did garner the band critical acclaim. new order's second album, power, corruption & lies, was released in 1983 and was a commercial success, reaching number 4 in the uk. the album was also acclaimed by critics."
          ],
          [
           "jazz"
          ],
          [
           " a country song."
          ],
          [
           "electronic"
          ],
          [
           " rhythm and blues."
          ],
          [
           "hip-hop"
          ],
          [
           " a pop song written by ray davies. it was released as a single in july 1966 and reached number 1 on the uk singles chart."
          ],
          [
           "rock"
          ],
          [
           "blues"
          ],
          [
           "dance-pop"
          ],
          [
           "jazz"
          ],
          [
           "trip hop"
          ],
          [
           "hip hop"
          ],
          [
           "afro-cuban jazz"
          ],
          [
           " rhythm and blues."
          ],
          [
           " motown."
          ],
          [
           " in the genre of pop."
          ],
          [
           "punk"
          ],
          [
           "country"
          ],
          [
           "indie rock"
          ],
          [
           " soul."
          ],
          [
           "jazz"
          ],
          [
           "bluegrass"
          ],
          [
           " r&b."
          ],
          [
           "surf rock"
          ],
          [
           " alternative rock."
          ],
          [
           "co."
          ],
          [
           "blues"
          ],
          [
           "funk"
          ],
          [
           "electronic"
          ],
          [
           "rock"
          ],
          [
           "folk"
          ],
          [
           "indie rock"
          ],
          [
           "indie rock"
          ],
          [
           "jazz"
          ],
          [
           " a pop song."
          ],
          [
           " a rock song."
          ],
          [
           " a rap song."
          ],
          [
           " in the genre of alternative."
          ],
          [
           "soul"
          ],
          [
           "indie rock"
          ],
          [
           " a pop song."
          ],
          [
           "electronic"
          ],
          [
           "h hip hop and uk garage group from birmingham, england."
          ],
          [
           "gospel"
          ],
          [
           "rock"
          ],
          [
           " a song in the genre of rock."
          ],
          [
           "dance-pop"
          ],
          [
           "rock"
          ],
          [
           "folk"
          ],
          [
           "rock"
          ],
          [
           "rock"
          ],
          [
           "indie rock"
          ],
          [
           "heavy metal"
          ],
          [
           "pop"
          ],
          [
           "rap"
          ],
          [
           "indie rock"
          ],
          [
           "rock"
          ],
          [
           "pop"
          ],
          [
           "jazz"
          ],
          [
           " in the genre of rock."
          ],
          [
           "electronic"
          ],
          [
           " ska."
          ],
          [
           " pop."
          ],
          [
           "jazz"
          ],
          [
           "pop"
          ],
          [
           "punk"
          ],
          [
           "rock"
          ],
          [
           " r&b."
          ],
          [
           "folk rock"
          ],
          [
           "fusion"
          ],
          [
           "hip-hop"
          ],
          [
           " synthpop."
          ],
          [
           "jazz"
          ],
          [
           " a song in the genre of punk rock."
          ],
          [
           "rock"
          ],
          [
           " pop."
          ],
          [
           "tory of rock and roll."
          ],
          [
           "new wave"
          ],
          [
           " an alternative rock song."
          ],
          [
           "rock"
          ],
          [
           "rock"
          ],
          [
           "blues"
          ],
          [
           "indie rock"
          ],
          [
           " alternative rock."
          ],
          [
           "rock"
          ],
          [
           "pop"
          ],
          [
           " a rock song."
          ],
          [
           "new wave"
          ],
          [
           " country rock."
          ],
          [
           " pop."
          ],
          [
           "pop"
          ],
          [
           "r&b"
          ],
          [
           "house"
          ],
          [
           "rock"
          ],
          [
           "indie rock"
          ],
          [
           "electronic"
          ],
          [
           " rock."
          ],
          [
           "r&b"
          ],
          [
           "rock"
          ],
          [
           "trip-hop"
          ],
          [
           "r&b"
          ],
          [
           "flamenco"
          ],
          [
           "new wave"
          ],
          [
           "blues"
          ],
          [
           "indie rock"
          ],
          [
           "rock"
          ],
          [
           "co."
          ],
          [
           " pop."
          ],
          [
           "jazz"
          ],
          [
           " rock."
          ],
          [
           " rhythm and blues."
          ],
          [
           " pop."
          ],
          [
           "country"
          ],
          [
           "tic vocal style."
          ],
          [
           "funk"
          ],
          [
           "folk"
          ],
          [
           "electronic"
          ],
          [
           "funk"
          ],
          [
           "pop"
          ],
          [
           "rock"
          ],
          [
           " \"love shack\".new wave"
          ],
          [
           "rap"
          ],
          [
           "rock"
          ],
          [
           "indie rock"
          ],
          [
           "indie rock"
          ],
          [
           "hip hop"
          ],
          [
           "hip hop"
          ],
          [
           "hip-hop"
          ],
          [
           "the drifters were a doo-wop and r&b group in the 1950s."
          ],
          [
           "mod/new wave"
          ],
          [
           " alternative rock."
          ],
          [
           "rock"
          ],
          [
           "post-punk"
          ],
          [
           "pop"
          ],
          [
           "funk"
          ],
          [
           "pop"
          ],
          [
           "hip-hop"
          ],
          [
           "r&b"
          ],
          [
           "gangsta rap"
          ],
          [
           "country"
          ],
          [
           "indie rock"
          ],
          [
           " a song from the genre of electronic music."
          ],
          [
           "house"
          ],
          [
           " a rock song."
          ],
          [
           " a soul song."
          ],
          [
           " pop."
          ],
          [
           "rock"
          ],
          [
           "pop"
          ],
          [
           " soul."
          ],
          [
           " pop."
          ],
          [
           "rock and roll"
          ],
          [
           "folk"
          ],
          [
           " psychedelic rock."
          ],
          [
           "2 tone"
          ],
          [
           "rockabilly"
          ],
          [
           "new wave"
          ],
          [
           "ska"
          ],
          [
           "co"
          ],
          [
           "ska"
          ],
          [
           "blues"
          ],
          [
           " a protest against the use of drone bombs."
          ],
          [
           "pop"
          ],
          [
           " rock."
          ],
          [
           " a pop song."
          ],
          [
           "jazz fusion"
          ],
          [
           "post-hardcore"
          ],
          [
           " pop."
          ],
          [
           " musical theater."
          ],
          [
           "funk"
          ],
          [
           " rock."
          ],
          [
           " pop."
          ],
          [
           "folk"
          ],
          [
           " a rock song."
          ],
          [
           "rock"
          ],
          [
           "rock"
          ],
          [
           "folk"
          ],
          [
           "indie rock"
          ],
          [
           "soul"
          ],
          [
           " blues."
          ],
          [
           "rock"
          ],
          [
           "hip-hop"
          ],
          [
           " punk rock."
          ],
          [
           "punk"
          ],
          [
           " pop."
          ],
          [
           "rock"
          ],
          [
           "jazz"
          ],
          [
           "rock"
          ],
          [
           "indie rock"
          ],
          [
           "hip-hop"
          ],
          [
           "dance"
          ],
          [
           "rock"
          ],
          [
           "r&b"
          ],
          [
           "r&b"
          ],
          [
           " pop."
          ],
          [
           "folk"
          ],
          [
           "reggae"
          ],
          [
           " rock."
          ],
          [
           "jazz"
          ],
          [
           "rock"
          ],
          [
           "indie rock"
          ],
          [
           "indie rock"
          ],
          [
           "rock"
          ],
          [
           " alternative rock."
          ],
          [
           "punk"
          ],
          [
           "rock"
          ],
          [
           "alternative rock"
          ],
          [
           "grime"
          ],
          [
           " electronic dance music."
          ],
          [
           "rock"
          ],
          [
           " in the genre of britpop."
          ],
          [
           "rap"
          ],
          [
           "co"
          ],
          [
           "punk rock"
          ],
          [
           " pop."
          ],
          [
           "rock"
          ],
          [
           "punk rock"
          ],
          [
           "rock"
          ],
          [
           " a pop song."
          ],
          [
           "hip-hop"
          ],
          [
           "rock"
          ],
          [
           "indie rock"
          ],
          [
           "country"
          ],
          [
           " alternative rock."
          ],
          [
           " alternative rock."
          ],
          [
           "r&b"
          ],
          [
           "indie rock"
          ],
          [
           "indie rock"
          ],
          [
           " psychedelic rock."
          ],
          [
           " tejano."
          ],
          [
           " a rock song."
          ],
          [
           " a rock song."
          ],
          [
           "electronic"
          ],
          [
           "rock"
          ],
          [
           " in the genre of pop."
          ],
          [
           "indie rock"
          ],
          [
           " world music."
          ],
          [
           "folk"
          ],
          [
           "heavy metal"
          ],
          [
           "hip-hop"
          ],
          [
           " rock."
          ],
          [
           "rock"
          ],
          [
           "new wave"
          ],
          [
           "rock"
          ],
          [
           "alternative rock"
          ],
          [
           "new wave"
          ],
          [
           "rock"
          ],
          [
           " rock."
          ],
          [
           "hip hop"
          ],
          [
           " a song about the fear of nuclear war."
          ],
          [
           "indie rock"
          ],
          [
           " rock."
          ],
          [
           " a pop song."
          ],
          [
           "rock"
          ],
          [
           "punk rock"
          ],
          [
           "heavy metal"
          ],
          [
           "folk"
          ],
          [
           " electronic dance music."
          ],
          [
           "pop"
          ],
          [
           "folk"
          ],
          [
           "rock"
          ],
          [
           "the electric prunes are an american psychedelic rock band."
          ],
          [
           "indie rock"
          ],
          [
           "indie dance"
          ],
          [
           "rock and roll"
          ],
          [
           " alternative rock."
          ],
          [
           "rockabilly"
          ],
          [
           "rap"
          ],
          [
           " r&b."
          ],
          [
           "rap"
          ],
          [
           " from their album, the stone roses."
          ],
          [
           "glam rock"
          ],
          [
           "rock"
          ],
          [
           " about the pressure that society puts on women to conform to certain standards."
          ],
          [
           "the byrds are a folk rock band."
          ],
          [
           "rock"
          ],
          [
           "rock"
          ],
          [
           " alternative rock."
          ],
          [
           " soul."
          ],
          [
           "folk"
          ],
          [
           "r&b"
          ],
          [
           " a pop song."
          ],
          [
           "post-punk"
          ],
          [
           " alternative rock."
          ],
          [
           "folk"
          ],
          [
           "indie rock"
          ],
          [
           " alternative rock."
          ],
          [
           "electronic"
          ],
          [
           "dance"
          ],
          [
           " indie rock."
          ],
          [
           "jazz"
          ],
          [
           "hip-hop"
          ],
          [
           "rock"
          ],
          [
           "electronic"
          ],
          [
           " soul."
          ],
          [
           " alternative rock."
          ],
          [
           "punk"
          ],
          [
           "reggae"
          ],
          [
           "soul"
          ],
          [
           " alternative rock."
          ],
          [
           "hip-hop"
          ],
          [
           " soul."
          ],
          [
           "indie rock"
          ],
          [
           "indie rock"
          ],
          [
           "grunge"
          ],
          [
           " psychedelic rock."
          ],
          [
           "r&b"
          ],
          [
           "rock"
          ],
          [
           " rock."
          ],
          [
           " rock."
          ],
          [
           "punk rock"
          ],
          [
           " chanson."
          ],
          [
           "r&b"
          ],
          [
           "jazz"
          ],
          [
           "pop"
          ],
          [
           " a pop song."
          ],
          [
           "pop"
          ],
          [
           "electronic"
          ],
          [
           " a song from their 1972 album, exile on main st."
          ],
          [
           "pop"
          ],
          [
           "pop"
          ],
          [
           "rock"
          ],
          [
           "folk"
          ],
          [
           " rhythm and blues."
          ],
          [
           "electronic"
          ],
          [
           " rhythm and blues"
          ],
          [
           "pop"
          ],
          [
           "new wave"
          ],
          [
           "new wave"
          ],
          [
           "rock"
          ],
          [
           "country"
          ],
          [
           " love?\" which was a crossover hit, reaching #5 in the uk singles chart and #69 on the billboard hot 100 in the united states. the duo also produced several other well-known songs, such as \"3 a.m. eternal\" and \"last train to transcentral\"."
          ],
          [
           "indie rock"
          ],
          [
           "jazz"
          ],
          [
           "indie folk"
          ],
          [
           "rock"
          ],
          [
           "garage rock"
          ],
          [
           "pop"
          ],
          [
           " a doo-wop song."
          ],
          [
           " pop."
          ],
          [
           "rock"
          ],
          [
           " pop."
          ],
          [
           "new wave"
          ],
          [
           "rock"
          ],
          [
           "country"
          ],
          [
           "rock"
          ],
          [
           "hip hop"
          ],
          [
           "r&b"
          ],
          [
           "post-rock"
          ],
          [
           "folk"
          ],
          [
           "punk rock"
          ],
          [
           " a pop song."
          ],
          [
           "r&b, soul"
          ],
          [
           "rock"
          ],
          [
           " pop."
          ],
          [
           "indie rock"
          ],
          [
           "folk"
          ],
          [
           " pop."
          ],
          [
           "country"
          ],
          [
           " a complex pop song that features elements of psychedelic rock, baroque pop, and country music. the song was not released as a single, but it received significant airplay on fm radio."
          ],
          [
           "rock"
          ],
          [
           "pop"
          ],
          [
           "blues"
          ],
          [
           "electronic"
          ],
          [
           " a rock song by the pretenders."
          ],
          [
           "rock"
          ],
          [
           "rock"
          ],
          [
           "country"
          ],
          [
           " pop."
          ],
          [
           " soul."
          ],
          [
           " electronic."
          ],
          [
           " pop."
          ],
          [
           " a rock song."
          ],
          [
           "hip hop"
          ],
          [
           "rock"
          ],
          [
           "rock"
          ],
          [
           "r&b"
          ],
          [
           "jazz"
          ],
          [
           "rock"
          ],
          [
           "blues"
          ],
          [
           " in the genre of pop."
          ],
          [
           "r&b"
          ],
          [
           " alternative rock."
          ],
          [
           "jazz"
          ],
          [
           "funk"
          ],
          [
           "acoustic; live"
          ],
          [
           "glam rock"
          ],
          [
           " jazz."
          ],
          [
           "pop"
          ],
          [
           " rock."
          ],
          [
           "krautrock"
          ],
          [
           "rock"
          ],
          [
           " pop."
          ],
          [
           " motown."
          ],
          [
           "rock"
          ],
          [
           "big band"
          ],
          [
           "indie pop"
          ],
          [
           "hip hop"
          ],
          [
           "rock"
          ],
          [
           "r&b"
          ],
          [
           "dance-pop"
          ],
          [
           "jazz"
          ],
          [
           "hip-hop"
          ],
          [
           "hip hop"
          ],
          [
           "reggae"
          ],
          [
           "post-rock"
          ],
          [
           "alternative rock"
          ],
          [
           "r&b"
          ],
          [
           "reggae"
          ],
          [
           " rock."
          ],
          [
           "soul"
          ],
          [
           "pop"
          ],
          [
           "jazz"
          ],
          [
           ", and carl wilson, their cousin mike love, and their friend al jardine."
          ],
          [
           " alternative rock."
          ],
          [
           " pop."
          ],
          [
           "rock"
          ],
          [
           " a pop song."
          ],
          [
           "jazz"
          ],
          [
           "hip hop"
          ],
          [
           "indie rock"
          ],
          [
           " country."
          ],
          [
           "pop"
          ],
          [
           "electronic"
          ],
          [
           " alternative rock."
          ],
          [
           "punk rock"
          ],
          [
           "indie rock"
          ],
          [
           "soul"
          ],
          [
           "on."
          ],
          [
           "the spinners are an r&b and soul group."
          ],
          [
           "blues"
          ],
          [
           "funk"
          ],
          [
           "rockabilly"
          ],
          [
           "pop"
          ],
          [
           " a latin rock song."
          ],
          [
           "dance-pop"
          ],
          [
           "co."
          ],
          [
           "dance"
          ],
          [
           "indie rock"
          ],
          [
           " pop."
          ],
          [
           "rock"
          ],
          [
           "gospel"
          ],
          [
           "country"
          ],
          [
           "pop"
          ],
          [
           "reggae"
          ],
          [
           "hip-hop"
          ],
          [
           " r&b."
          ],
          [
           "indie rock"
          ],
          [
           " an industrial song."
          ],
          [
           "rock"
          ],
          [
           "country"
          ],
          [
           " in the genre of country."
          ],
          [
           "rock"
          ],
          [
           "hip-hop"
          ],
          [
           "rap"
          ],
          [
           "r&b"
          ],
          [
           "rock"
          ],
          [
           "gothic rock"
          ],
          [
           "reggae"
          ],
          [
           " rock."
          ],
          [
           "hip hop"
          ],
          [
           "indie rock"
          ],
          [
           "hip hop"
          ],
          [
           "hip hop"
          ],
          [
           "country"
          ],
          [
           "pop"
          ],
          [
           "swing"
          ],
          [
           "folk"
          ],
          [
           "on ivy rorschach."
          ],
          [
           " synth-pop."
          ],
          [
           " a doo-wop song."
          ],
          [
           "indie rock"
          ],
          [
           "rock"
          ],
          [
           "r&b"
          ],
          [
           "industrial metal"
          ],
          [
           "r&b"
          ],
          [
           " in the genre of indie pop."
          ],
          [
           " electronic dance music."
          ],
          [
           " pop."
          ],
          [
           " pop."
          ],
          [
           "pop"
          ],
          [
           "folk"
          ],
          [
           "indie rock"
          ],
          [
           "indie rock"
          ],
          [
           "funk"
          ],
          [
           " pop."
          ],
          [
           "alternative"
          ],
          [
           "funk"
          ],
          [
           " a blues song."
          ],
          [
           "rock"
          ],
          [
           "reggae"
          ],
          [
           " alternative rock."
          ],
          [
           "folk"
          ],
          [
           "rock"
          ],
          [
           "electro"
          ],
          [
           "gothic metal"
          ],
          [
           " pop."
          ],
          [
           "r&b"
          ],
          [
           "hip-hop"
          ],
          [
           " pop."
          ],
          [
           "indie rock"
          ],
          [
           "indie rock"
          ],
          [
           "indie rock"
          ],
          [
           "r&b"
          ],
          [
           " a pop song."
          ],
          [
           " rock."
          ],
          [
           "pop"
          ],
          [
           " a hip hop song."
          ],
          [
           " a doo-wop song."
          ],
          [
           " alternative rock."
          ],
          [
           " country."
          ],
          [
           "indie rock"
          ],
          [
           " rock."
          ],
          [
           "punk rock"
          ],
          [
           " alternative rock."
          ],
          [
           " pop."
          ],
          [
           "new wave"
          ],
          [
           "indie rock"
          ],
          [
           "soul"
          ],
          [
           "folk"
          ],
          [
           " in the pop genre."
          ],
          [
           " a rock song by fleetwood mac."
          ],
          [
           "rock"
          ],
          [
           " alternative rock."
          ],
          [
           " funk."
          ],
          [
           " alternative rock."
          ],
          [
           " pop."
          ],
          [
           " about the social and political turmoil of the time."
          ],
          [
           "r&b"
          ],
          [
           "new wave"
          ],
          [
           "hip-hop"
          ],
          [
           " a doo-wop song."
          ],
          [
           "r&b"
          ],
          [
           "black metal"
          ],
          [
           " blues."
          ],
          [
           "rock"
          ],
          [
           " soul."
          ],
          [
           "new wave"
          ],
          [
           "rock"
          ],
          [
           "rock"
          ],
          [
           " rhythm and blues."
          ],
          [
           " rock."
          ],
          [
           "folk"
          ],
          [
           " a soul song."
          ],
          [
           "r&b"
          ],
          [
           "blues"
          ],
          [
           "folk"
          ],
          [
           "doowop"
          ],
          [
           "blues"
          ],
          [
           "surf rock"
          ],
          [
           "rock"
          ],
          [
           "pop"
          ],
          [
           "r&b"
          ],
          [
           "rock"
          ],
          [
           "indie"
          ],
          [
           " alternative rock."
          ],
          [
           "pop"
          ],
          [
           "indie rock"
          ],
          [
           " rock."
          ],
          [
           "co"
          ],
          [
           " synth-pop."
          ],
          [
           "country"
          ],
          [
           "pop"
          ],
          [
           "garage rock"
          ],
          [
           "hip hop"
          ],
          [
           "dance-punk"
          ],
          [
           " pop."
          ],
          [
           "electronic"
          ],
          [
           " pop."
          ],
          [
           "glam rock"
          ],
          [
           "jazz"
          ],
          [
           "r&b"
          ],
          [
           " r&b."
          ],
          [
           " alternative rock."
          ],
          [
           "hip hop"
          ],
          [
           "folk"
          ],
          [
           "indie rock"
          ],
          [
           "indie rock"
          ],
          [
           " a rock song."
          ],
          [
           "indie pop"
          ],
          [
           "surf rock"
          ],
          [
           "indie rock"
          ],
          [
           "indie folk"
          ],
          [
           "folk"
          ],
          [
           "rock"
          ],
          [
           "hip hop"
          ],
          [
           "indie folk"
          ],
          [
           "rock"
          ],
          [
           "hip-hop"
          ],
          [
           "rock"
          ],
          [
           " a rock song."
          ],
          [
           " a pop song that was written by the group's lead singer, michael jackson."
          ],
          [
           "rock"
          ],
          [
           "folk"
          ],
          [
           "pop"
          ],
          [
           "folk"
          ],
          [
           " alternative rock."
          ],
          [
           "soul"
          ],
          [
           "electronic"
          ],
          [
           "punk"
          ],
          [
           "britpop"
          ],
          [
           "rap"
          ],
          [
           "new wave"
          ],
          [
           "rock"
          ],
          [
           "hip hop"
          ],
          [
           " heavy metal."
          ],
          [
           "dance"
          ],
          [
           " alternative rock."
          ],
          [
           " folk."
          ],
          [
           null
          ],
          [
           " r&b."
          ],
          [
           "new wave"
          ],
          [
           "jazz"
          ],
          [
           " a pop song."
          ],
          [
           "french pop"
          ],
          [
           "country"
          ],
          [
           "hip-hop"
          ],
          [
           "patriotic"
          ],
          [
           "rock"
          ],
          [
           "rock"
          ],
          [
           "ambient"
          ],
          [
           "punk"
          ],
          [
           "pop"
          ],
          [
           " indie rock."
          ],
          [
           " rock and roll."
          ],
          [
           "indie rock"
          ],
          [
           "indie rock"
          ],
          [
           " rock."
          ],
          [
           "alternative rock"
          ],
          [
           "indie rock"
          ],
          [
           " pop."
          ],
          [
           "bluegrass"
          ],
          [
           "indie rock"
          ],
          [
           "alternative rock"
          ],
          [
           " world music."
          ],
          [
           "indie rock"
          ],
          [
           "rock"
          ],
          [
           "pop"
          ],
          [
           "rock"
          ],
          [
           "rock"
          ],
          [
           "electronic"
          ],
          [
           "hip hop"
          ],
          [
           " a country rock song by eagles."
          ],
          [
           " a pop song."
          ],
          [
           " rap."
          ],
          [
           "indie rock"
          ],
          [
           "co"
          ],
          [
           "punk"
          ],
          [
           "progressive rock"
          ],
          [
           "hip-hop"
          ],
          [
           "indie rock"
          ],
          [
           "co"
          ],
          [
           "pop"
          ],
          [
           " synth-pop."
          ],
          [
           " rock."
          ],
          [
           "indie rock"
          ],
          [
           "new wave"
          ],
          [
           "pop"
          ],
          [
           "folk"
          ],
          [
           " motown."
          ],
          [
           "blues"
          ],
          [
           "pop"
          ],
          [
           "folk"
          ],
          [
           "dance"
          ],
          [
           "rock and roll"
          ],
          [
           " acid house."
          ],
          [
           "reggae"
          ],
          [
           "hip hop"
          ],
          [
           " pop."
          ],
          [
           "dancehall"
          ],
          [
           "space rock"
          ],
          [
           "electropop"
          ],
          [
           " a doo-wop song."
          ],
          [
           "indie folk"
          ],
          [
           "rock"
          ],
          [
           " a ballad."
          ],
          [
           "blues"
          ],
          [
           "electroclash"
          ],
          [
           "britpop"
          ],
          [
           "country"
          ],
          [
           " rock."
          ],
          [
           "jazz"
          ],
          [
           " pop."
          ],
          [
           " classified as new wave."
          ],
          [
           "hip hop"
          ],
          [
           "rock"
          ],
          [
           " doo-wop."
          ],
          [
           "electronic"
          ],
          [
           "pop"
          ],
          [
           "hip hop"
          ],
          [
           "co."
          ],
          [
           "blues"
          ],
          [
           "dance-punk"
          ],
          [
           "indie folk"
          ],
          [
           "blues"
          ],
          [
           " pop."
          ],
          [
           "rock"
          ],
          [
           "indie rock"
          ],
          [
           "progressive rock"
          ],
          [
           " blues."
          ],
          [
           "jazz"
          ],
          [
           "rock"
          ],
          [
           "r&b"
          ],
          [
           "country"
          ],
          [
           "indie folk"
          ],
          [
           "jazz"
          ],
          [
           "new wave"
          ],
          [
           "indie rock"
          ],
          [
           "hip-hop"
          ],
          [
           "country"
          ],
          [
           "rock"
          ],
          [
           "rock"
          ],
          [
           " in the genre of pop."
          ],
          [
           "blues"
          ],
          [
           "rock"
          ],
          [
           "indie rock"
          ],
          [
           "rock"
          ],
          [
           "rock"
          ],
          [
           " a pop song."
          ],
          [
           " britpop."
          ],
          [
           " country."
          ],
          [
           " a rock song."
          ],
          [
           "indie rock"
          ],
          [
           "r&b"
          ],
          [
           " ska."
          ],
          [
           " delta blues."
          ],
          [
           "pop"
          ],
          [
           "country"
          ],
          [
           " folk rock."
          ],
          [
           "folk"
          ],
          [
           "new wave"
          ],
          [
           " pop."
          ],
          [
           "indie rock"
          ],
          [
           "rock"
          ],
          [
           "rock"
          ],
          [
           "r&b"
          ],
          [
           "indie rock"
          ],
          [
           "indie rock"
          ],
          [
           "indie rock"
          ],
          [
           "indie rock"
          ],
          [
           " alternative rock."
          ],
          [
           " and mary j. bligehip hop"
          ],
          [
           " soul."
          ],
          [
           "electronic"
          ],
          [
           " post-punk."
          ],
          [
           "indie rock"
          ],
          [
           "rock"
          ],
          [
           "rock"
          ],
          [
           "rock"
          ],
          [
           "alternative"
          ],
          [
           " a psychedelic rock song with elements of garage rock and folk rock."
          ],
          [
           "chanson"
          ],
          [
           "hip hop"
          ],
          [
           "rock"
          ],
          [
           "jazz"
          ],
          [
           "funk"
          ],
          [
           " pop."
          ],
          [
           "rock"
          ],
          [
           "heavy metal"
          ],
          [
           "reggae"
          ],
          [
           "country"
          ],
          [
           "folk"
          ],
          [
           "rock"
          ],
          [
           " classified as punk rock."
          ],
          [
           "jazz"
          ],
          [
           "pop"
          ],
          [
           " pop."
          ],
          [
           " blues."
          ],
          [
           " pop."
          ],
          [
           "mambo"
          ],
          [
           "folk"
          ],
          [
           "indie folk"
          ],
          [
           " pop."
          ],
          [
           "rock"
          ],
          [
           "new wave"
          ],
          [
           "blues"
          ],
          [
           "alternative rock"
          ],
          [
           " blues."
          ],
          [
           "rockabilly"
          ],
          [
           "blues"
          ],
          [
           "glam rock"
          ],
          [
           " alternative rock."
          ],
          [
           "jazz rock"
          ],
          [
           " a doo-wop song."
          ],
          [
           " a pop song by icelandic singer björk."
          ],
          [
           "folk"
          ],
          [
           "reggae"
          ],
          [
           "new wave"
          ],
          [
           "jazz"
          ],
          [
           "new wave"
          ],
          [
           "rock"
          ],
          [
           "rap"
          ],
          [
           "h rock"
          ],
          [
           "indie rock"
          ],
          [
           "hip hop"
          ],
          [
           "folk rock"
          ],
          [
           "indie rock"
          ],
          [
           "co."
          ],
          [
           "reggae"
          ],
          [
           "indie rock"
          ],
          [
           "rock"
          ],
          [
           "indie rock"
          ],
          [
           " pop."
          ],
          [
           "rock"
          ],
          [
           "garage rock"
          ],
          [
           "ska"
          ],
          [
           "r&b"
          ],
          [
           "jazz"
          ],
          [
           " a rock song."
          ],
          [
           " an indie pop song."
          ],
          [
           "experimental"
          ],
          [
           "rock"
          ],
          [
           "punk"
          ],
          [
           "dance"
          ],
          [
           "funk"
          ],
          [
           "hip-hop"
          ],
          [
           "big band"
          ],
          [
           "garage rock"
          ],
          [
           "folk"
          ],
          [
           "folk rock"
          ],
          [
           "indie rock"
          ],
          [
           "r&b"
          ],
          [
           "funk"
          ],
          [
           "indie rock"
          ],
          [
           " a soul song."
          ],
          [
           "drum and bass"
          ],
          [
           " alternative rock."
          ],
          [
           " synth-pop."
          ],
          [
           "post-punk"
          ],
          [
           " pop."
          ],
          [
           " rock."
          ],
          [
           "tmas"
          ],
          [
           " electronic."
          ],
          [
           " rock."
          ],
          [
           " country."
          ],
          [
           "electronic"
          ],
          [
           "dixieland jazz"
          ],
          [
           " & the silver bullet bandrock"
          ],
          [
           " synthpop."
          ],
          [
           "indie rock"
          ],
          [
           "new wave"
          ],
          [
           " country."
          ],
          [
           "indie rock"
          ],
          [
           "hip-hop"
          ],
          [
           "indie rock"
          ],
          [
           "blues rock"
          ],
          [
           "electronic"
          ],
          [
           " rhythm and blues."
          ],
          [
           " pop."
          ],
          [
           "new wave"
          ],
          [
           " alternative rock."
          ],
          [
           "chanson"
          ],
          [
           " punk rock."
          ],
          [
           "indie folk"
          ],
          [
           "indie rock"
          ],
          [
           "rock"
          ],
          [
           "rock"
          ],
          [
           "indie rock"
          ],
          [
           "indie pop"
          ],
          [
           "indie rock"
          ],
          [
           "indie rock"
          ],
          [
           "r&b"
          ],
          [
           "r&b"
          ],
          [
           "hip-hop"
          ],
          [
           "r&b"
          ],
          [
           "hip-hop"
          ],
          [
           "r&b"
          ],
          [
           "indie pop"
          ],
          [
           "r&b"
          ],
          [
           "r&b"
          ],
          [
           "r&b"
          ],
          [
           "hip-hop"
          ],
          [
           "hip hop"
          ],
          [
           "rap"
          ],
          [
           "hip hop"
          ],
          [
           "hip hop"
          ],
          [
           "r&b"
          ],
          [
           "r&b"
          ],
          [
           "r&b"
          ],
          [
           "r&b"
          ],
          [
           "r&b"
          ],
          [
           "r&b"
          ],
          [
           "hip hop"
          ],
          [
           "hip hop"
          ],
          [
           " hip hop."
          ],
          [
           "r&b"
          ],
          [
           "hip hop"
          ],
          [
           "r&b"
          ],
          [
           "rap"
          ],
          [
           "r&b"
          ],
          [
           "hip-hop"
          ],
          [
           "hip-hop"
          ],
          [
           " hip hop."
          ],
          [
           "hip-hop"
          ],
          [
           "hip-hop"
          ],
          [
           "hip-hop"
          ],
          [
           "hip hop"
          ],
          [
           "rap"
          ],
          [
           "indie rock"
          ],
          [
           "indie rock"
          ],
          [
           "indie pop"
          ],
          [
           "indie pop"
          ],
          [
           null
          ],
          [
           "r&b"
          ],
          [
           "r&b"
          ],
          [
           "hip hop"
          ],
          [
           "r&b"
          ],
          [
           "hip-hop"
          ],
          [
           "r&b"
          ],
          [
           " alternative rock."
          ],
          [
           " alternative rock."
          ],
          [
           "r&b"
          ],
          [
           "hip-hop"
          ],
          [
           "indie rock"
          ],
          [
           " in the alternative rock genre."
          ],
          [
           "hip hop"
          ],
          [
           "indie rock"
          ],
          [
           "indie rock"
          ],
          [
           " alternative rock."
          ],
          [
           "hip hop"
          ],
          [
           "pop"
          ],
          [
           "r&b"
          ],
          [
           "indie pop"
          ],
          [
           "indie rock"
          ],
          [
           "indie pop"
          ],
          [
           "r&b"
          ],
          [
           "r&b"
          ],
          [
           "r&b"
          ],
          [
           " psychedelic rock."
          ],
          [
           "indie rock"
          ],
          [
           "indie rock"
          ],
          [
           "r&b"
          ],
          [
           "rap"
          ],
          [
           "indie rock"
          ],
          [
           "indie rock"
          ],
          [
           " in the genre of alternative rock."
          ],
          [
           "indie rock"
          ],
          [
           "hip-hop"
          ],
          [
           "indie rock"
          ],
          [
           "pop"
          ],
          [
           "electronic"
          ],
          [
           "r&b"
          ],
          [
           "werksdance"
          ],
          [
           "hip hop"
          ],
          [
           "hip hop"
          ],
          [
           "r&b"
          ],
          [
           " hip hop."
          ],
          [
           "trap"
          ],
          [
           "rap"
          ],
          [
           "hip hop"
          ],
          [
           "hip-hop"
          ],
          [
           "hip hop"
          ],
          [
           "hip-hop"
          ],
          [
           "r&b"
          ],
          [
           "hip-hop"
          ],
          [
           "pop"
          ],
          [
           "hip hop"
          ],
          [
           "r&b"
          ],
          [
           "pop"
          ],
          [
           " pop."
          ],
          [
           "hip-hop"
          ],
          [
           "pop"
          ],
          [
           "r&b"
          ],
          [
           "pop"
          ],
          [
           "pop"
          ],
          [
           "r&b"
          ],
          [
           "reggaeton"
          ],
          [
           "r&b"
          ],
          [
           " a pop song with influences of r&b and hip hop."
          ],
          [
           " ft. vassydance"
          ],
          [
           "hip-hop"
          ],
          [
           "hip hop"
          ],
          [
           "pop"
          ],
          [
           " pop."
          ],
          [
           "pop"
          ],
          [
           " alternative r&b."
          ],
          [
           "r&b"
          ],
          [
           " electronic."
          ],
          [
           "r&b"
          ],
          [
           "hip hop"
          ],
          [
           "trance"
          ],
          [
           "hip-hop"
          ],
          [
           "reggaeton"
          ],
          [
           "pop"
          ],
          [
           "r&b"
          ],
          [
           "r&b"
          ],
          [
           "flamenco"
          ],
          [
           "hip-hop"
          ],
          [
           "rock"
          ],
          [
           "folk"
          ],
          [
           "bachata"
          ],
          [
           "r&b"
          ],
          [
           "r&b"
          ],
          [
           "r&b"
          ],
          [
           "pop"
          ],
          [
           "emannfolk"
          ],
          [
           "hip hop"
          ],
          [
           "k-pop"
          ],
          [
           "hip hop"
          ],
          [
           " hip hop."
          ],
          [
           "r&b"
          ],
          [
           "indie rock"
          ],
          [
           "rap"
          ],
          [
           "pop"
          ],
          [
           "k-pop"
          ],
          [
           "indie pop"
          ],
          [
           " pop."
          ],
          [
           "pop"
          ],
          [
           "r&b"
          ],
          [
           "hip hop"
          ],
          [
           "r&b"
          ],
          [
           "hip-hop"
          ],
          [
           "pop"
          ],
          [
           " pop."
          ],
          [
           " pop."
          ],
          [
           " a pop song with elements of r&b."
          ],
          [
           "r&b"
          ],
          [
           "pop"
          ],
          [
           "r&b"
          ],
          [
           " rap."
          ],
          [
           "dance"
          ],
          [
           "country"
          ],
          [
           "pop"
          ],
          [
           "pop"
          ],
          [
           "hip-hop"
          ],
          [
           "hip-hop"
          ],
          [
           "emannfolk"
          ],
          [
           "pop"
          ],
          [
           "r&b"
          ],
          [
           "indie rock"
          ],
          [
           "pop"
          ],
          [
           "hip hop"
          ],
          [
           " a pop song."
          ],
          [
           "r&b"
          ],
          [
           "reggae"
          ],
          [
           " indie pop."
          ],
          [
           "pop"
          ],
          [
           "r&b"
          ],
          [
           "r&b"
          ],
          [
           " rock."
          ],
          [
           "hip-hop"
          ],
          [
           "rap"
          ],
          [
           " rap."
          ],
          [
           "dance-pop"
          ],
          [
           " pop."
          ],
          [
           "r&b"
          ],
          [
           "r&b"
          ],
          [
           "r&b"
          ],
          [
           "indie rock"
          ],
          [
           "pop"
          ],
          [
           "r&b"
          ],
          [
           "r&b"
          ],
          [
           "pop"
          ],
          [
           "pop"
          ],
          [
           "pop"
          ],
          [
           "pop"
          ],
          [
           " a pop song."
          ],
          [
           "hip-hop"
          ],
          [
           "pop"
          ],
          [
           "pop"
          ],
          [
           "pop"
          ],
          [
           "r&b"
          ],
          [
           "rap"
          ],
          [
           "r&b"
          ],
          [
           "pop"
          ],
          [
           "pop"
          ],
          [
           "r&b"
          ],
          [
           "rap"
          ],
          [
           "trap"
          ],
          [
           " pop."
          ],
          [
           " rap."
          ],
          [
           "hip-hop"
          ],
          [
           " and swae leehip-hop"
          ],
          [
           " a song about love."
          ],
          [
           "pop"
          ],
          [
           "country"
          ],
          [
           "pop"
          ],
          [
           "pop"
          ],
          [
           "dance"
          ],
          [
           " pop."
          ],
          [
           "indie rock"
          ],
          [
           "r&b"
          ],
          [
           " pop."
          ],
          [
           "pop"
          ],
          [
           " electronic dance music."
          ],
          [
           "pop"
          ],
          [
           " a pop song."
          ],
          [
           "pop"
          ],
          [
           "r&b"
          ],
          [
           "hip hop"
          ],
          [
           "r&b"
          ],
          [
           "rock"
          ],
          [
           " pop."
          ],
          [
           "rock"
          ],
          [
           "indie rock"
          ],
          [
           "pop"
          ],
          [
           "r&b"
          ],
          [
           "indie rock"
          ],
          [
           "r&b"
          ],
          [
           " a pop song."
          ],
          [
           "pop"
          ],
          [
           "reggae"
          ],
          [
           "r&b"
          ],
          [
           "r&b"
          ],
          [
           "pop"
          ],
          [
           "pop"
          ],
          [
           "hip-hop"
          ],
          [
           " electronic dance music."
          ],
          [
           "electronic"
          ],
          [
           " house."
          ],
          [
           " in the genre of electronic music."
          ],
          [
           "house"
          ],
          [
           "house"
          ],
          [
           "drum and bass, electronic"
          ],
          [
           "electronic dance music"
          ],
          [
           " electronic dance music."
          ],
          [
           "dubstep"
          ],
          [
           "electronic"
          ],
          [
           " electronic dance music."
          ],
          [
           "jazz"
          ],
          [
           "pop"
          ],
          [
           "dance"
          ],
          [
           "dance"
          ],
          [
           " drum and bass"
          ],
          [
           "drum and bass"
          ],
          [
           "techno"
          ],
          [
           "house"
          ],
          [
           " electronic dance music."
          ],
          [
           "electronic"
          ],
          [
           "house"
          ],
          [
           "techno"
          ],
          [
           "drum and bass"
          ],
          [
           "dance"
          ],
          [
           "indie rock"
          ],
          [
           "dance"
          ],
          [
           "co"
          ],
          [
           " electronic dance music."
          ],
          [
           " electronic dance music."
          ],
          [
           "house"
          ],
          [
           " in the genre of deep house."
          ],
          [
           "electronic"
          ],
          [
           " electronic."
          ],
          [
           "house"
          ],
          [
           " electronic dance music."
          ],
          [
           "dubstep"
          ],
          [
           "drum and bass"
          ],
          [
           "dance"
          ],
          [
           "techno"
          ],
          [
           "electronic"
          ],
          [
           "country"
          ],
          [
           " electronic dance music."
          ],
          [
           "dance"
          ],
          [
           "electronic"
          ],
          [
           " electronic."
          ],
          [
           "electronic"
          ],
          [
           " house."
          ],
          [
           "house"
          ],
          [
           "electronic"
          ],
          [
           " pop."
          ],
          [
           " pop."
          ],
          [
           " rock."
          ],
          [
           "dance"
          ],
          [
           " electronic."
          ],
          [
           "electronic"
          ],
          [
           "dancehall"
          ],
          [
           "techno"
          ],
          [
           " a deep house song."
          ],
          [
           "electronic"
          ],
          [
           "pussyhip-hop"
          ],
          [
           "electronic"
          ],
          [
           "dubstep"
          ],
          [
           "r&b"
          ],
          [
           " in the genre of grime."
          ],
          [
           "hip hop"
          ],
          [
           "r&b"
          ],
          [
           "electronic"
          ],
          [
           " pop."
          ],
          [
           "electronic"
          ],
          [
           "electronic"
          ],
          [
           "tian"
          ],
          [
           "r&b"
          ],
          [
           " a pop song."
          ],
          [
           "indie rock"
          ],
          [
           " a pop song."
          ],
          [
           " electronic dance music."
          ],
          [
           " in the genre of electronic."
          ],
          [
           "rap"
          ],
          [
           " pop."
          ],
          [
           "pop"
          ],
          [
           "electronic"
          ],
          [
           "electronic"
          ],
          [
           "electronic"
          ],
          [
           " electronic."
          ],
          [
           "hip-hop"
          ],
          [
           "drum and bass"
          ],
          [
           " electronic."
          ],
          [
           "electronic"
          ],
          [
           "trip hop"
          ],
          [
           "reggae"
          ],
          [
           "jazz"
          ],
          [
           " electronic."
          ],
          [
           "electronic"
          ],
          [
           "r&b"
          ],
          [
           "techno"
          ],
          [
           "electronic"
          ],
          [
           "r&b"
          ],
          [
           "electronic"
          ],
          [
           "electronic"
          ],
          [
           "indie rock"
          ],
          [
           "funk"
          ],
          [
           "techno"
          ],
          [
           "hip-hop"
          ],
          [
           "dance"
          ],
          [
           "electronic"
          ],
          [
           "electronic"
          ],
          [
           " electronic."
          ],
          [
           "electronic"
          ],
          [
           "electronic"
          ],
          [
           " world music."
          ],
          [
           "electronic"
          ],
          [
           "electronic"
          ],
          [
           "uk garage"
          ],
          [
           "electronic"
          ],
          [
           "electronic"
          ],
          [
           "techno"
          ],
          [
           " rock."
          ],
          [
           "electronic"
          ],
          [
           "electronic"
          ],
          [
           "r&b"
          ],
          [
           "house"
          ],
          [
           "electronic"
          ],
          [
           " a carnatic song."
          ],
          [
           "dance"
          ],
          [
           "electronic"
          ],
          [
           "electronic"
          ],
          [
           "electronic"
          ],
          [
           "electronic"
          ],
          [
           "indie pop"
          ],
          [
           " alternative rock."
          ],
          [
           "electronic"
          ],
          [
           "reggaeton"
          ],
          [
           "dance"
          ],
          [
           "reggaeton"
          ],
          [
           "indie rock"
          ],
          [
           "r&b"
          ],
          [
           "pop"
          ],
          [
           "r&b, soul"
          ],
          [
           "electronic"
          ],
          [
           "pop"
          ],
          [
           "r&b"
          ],
          [
           "hip hop"
          ],
          [
           "r&b"
          ],
          [
           " in the genre of electronic."
          ],
          [
           "georgeelectronic"
          ],
          [
           "r&b"
          ],
          [
           " pop."
          ],
          [
           "uk garage"
          ],
          [
           "rap"
          ],
          [
           "r&b"
          ],
          [
           "hip hop"
          ],
          [
           "hip hop"
          ],
          [
           "hip-hop"
          ],
          [
           "hip-hop"
          ],
          [
           "rap"
          ],
          [
           "hip hop"
          ],
          [
           "hip-hop"
          ],
          [
           "r&b"
          ],
          [
           "hip-hop"
          ],
          [
           "hip hop"
          ],
          [
           "hip-hop"
          ],
          [
           "hip-hop"
          ],
          [
           "trap"
          ],
          [
           "rap"
          ],
          [
           "hip-hop"
          ],
          [
           "rap"
          ],
          [
           "hip-hop"
          ],
          [
           " rap."
          ],
          [
           "hip hop"
          ],
          [
           "hip hop"
          ],
          [
           "drill"
          ],
          [
           "trap"
          ],
          [
           " rap."
          ],
          [
           "rap"
          ],
          [
           " pop."
          ],
          [
           "hip-hop"
          ],
          [
           "hip-hop"
          ],
          [
           "hip-hop"
          ],
          [
           "hip-hop"
          ],
          [
           "hip-hop"
          ],
          [
           "r&b"
          ],
          [
           "rap"
          ],
          [
           "hip-hop"
          ],
          [
           "hip hop"
          ],
          [
           "hip-hop"
          ],
          [
           " country."
          ],
          [
           "rap"
          ],
          [
           "hip hop"
          ],
          [
           "hip hop"
          ],
          [
           " country."
          ],
          [
           "hip hop"
          ],
          [
           "r&b/hip-hop"
          ],
          [
           " rap."
          ],
          [
           "hip hop"
          ],
          [
           "hip hop"
          ],
          [
           "hip hop"
          ],
          [
           "hip hop"
          ],
          [
           "hip hop"
          ],
          [
           " anticipateduk drill"
          ],
          [
           "rap"
          ],
          [
           "hip-hop/rap"
          ],
          [
           "rap"
          ],
          [
           "uk drill"
          ],
          [
           " pop."
          ],
          [
           "r&b"
          ],
          [
           "hip hop"
          ],
          [
           "uk drill"
          ],
          [
           "r&b"
          ],
          [
           "hip-hop"
          ],
          [
           "hip hop"
          ],
          [
           "reggae"
          ],
          [
           "hip hop"
          ],
          [
           "pop"
          ],
          [
           "grime"
          ],
          [
           "r&b"
          ],
          [
           " hip hop."
          ],
          [
           "rap"
          ],
          [
           "uk drill"
          ],
          [
           "grime"
          ],
          [
           " rap."
          ],
          [
           "uk drill"
          ],
          [
           "uk drill"
          ],
          [
           "hip-hop"
          ],
          [
           "rap"
          ],
          [
           "pop"
          ],
          [
           "r&b"
          ],
          [
           "uk drill"
          ],
          [
           "hip hop"
          ],
          [
           "uk drill"
          ],
          [
           "janeindie folk"
          ],
          [
           "hip-hop"
          ],
          [
           "zyr&b"
          ],
          [
           "hip hop"
          ],
          [
           "hip hop"
          ],
          [
           "r&b"
          ],
          [
           "hip hop"
          ],
          [
           "hip hop"
          ],
          [
           "grime"
          ],
          [
           " braudefolk"
          ],
          [
           "rap"
          ],
          [
           "reggae"
          ],
          [
           "r&b"
          ],
          [
           "hip hop"
          ],
          [
           "r&b"
          ],
          [
           "oul"
          ],
          [
           "reggae"
          ],
          [
           " hip hop."
          ],
          [
           "grime"
          ],
          [
           " fosterr&b"
          ],
          [
           "r&b"
          ],
          [
           "reggae"
          ],
          [
           "uk drill"
          ],
          [
           " r&b."
          ]
         ],
         "hovertemplate": "x=%{x}<br>y=%{y}<br>genres=%{customdata[0]}<br>cluster=%{marker.color}<extra></extra>",
         "legendgroup": "",
         "marker": {
          "color": [
           5,
           6,
           7,
           7,
           5,
           0,
           6,
           6,
           0,
           0,
           0,
           5,
           6,
           6,
           6,
           7,
           5,
           0,
           2,
           2,
           6,
           5,
           7,
           5,
           4,
           3,
           5,
           4,
           4,
           6,
           0,
           6,
           2,
           8,
           4,
           6,
           6,
           8,
           0,
           2,
           7,
           0,
           6,
           3,
           0,
           0,
           4,
           6,
           6,
           2,
           0,
           5,
           7,
           0,
           6,
           7,
           5,
           5,
           2,
           3,
           2,
           2,
           6,
           6,
           9,
           6,
           7,
           2,
           8,
           7,
           4,
           8,
           6,
           9,
           0,
           5,
           6,
           3,
           5,
           6,
           6,
           5,
           8,
           6,
           6,
           7,
           6,
           6,
           5,
           9,
           7,
           0,
           8,
           0,
           7,
           7,
           6,
           5,
           0,
           6,
           2,
           5,
           5,
           7,
           0,
           5,
           4,
           6,
           3,
           6,
           3,
           0,
           7,
           5,
           6,
           4,
           6,
           3,
           7,
           0,
           0,
           4,
           8,
           0,
           5,
           5,
           4,
           7,
           0,
           1,
           2,
           2,
           5,
           5,
           2,
           8,
           6,
           0,
           7,
           5,
           5,
           6,
           7,
           3,
           7,
           0,
           5,
           0,
           8,
           3,
           8,
           2,
           2,
           7,
           0,
           1,
           7,
           1,
           5,
           0,
           6,
           6,
           0,
           0,
           6,
           9,
           0,
           7,
           7,
           6,
           2,
           0,
           5,
           4,
           0,
           6,
           0,
           5,
           0,
           5,
           0,
           6,
           7,
           7,
           2,
           5,
           0,
           6,
           6,
           3,
           6,
           0,
           9,
           8,
           4,
           0,
           5,
           5,
           0,
           8,
           2,
           8,
           4,
           5,
           6,
           5,
           3,
           4,
           3,
           5,
           2,
           4,
           5,
           5,
           7,
           6,
           2,
           0,
           2,
           8,
           6,
           0,
           3,
           0,
           9,
           7,
           0,
           4,
           5,
           5,
           8,
           8,
           3,
           7,
           2,
           0,
           4,
           4,
           5,
           7,
           0,
           7,
           5,
           6,
           5,
           2,
           6,
           2,
           4,
           7,
           8,
           1,
           6,
           5,
           0,
           0,
           9,
           6,
           6,
           6,
           0,
           3,
           4,
           0,
           4,
           2,
           4,
           8,
           8,
           3,
           2,
           6,
           8,
           0,
           2,
           2,
           7,
           6,
           0,
           5,
           6,
           0,
           8,
           4,
           8,
           3,
           7,
           8,
           0,
           1,
           8,
           2,
           0,
           9,
           5,
           5,
           5,
           6,
           4,
           5,
           9,
           9,
           2,
           5,
           4,
           2,
           6,
           7,
           7,
           3,
           8,
           6,
           3,
           2,
           5,
           2,
           6,
           2,
           9,
           2,
           2,
           6,
           6,
           2,
           3,
           6,
           5,
           6,
           0,
           3,
           9,
           6,
           6,
           3,
           6,
           4,
           7,
           6,
           4,
           3,
           2,
           8,
           2,
           5,
           8,
           0,
           8,
           5,
           1,
           2,
           7,
           2,
           6,
           7,
           0,
           6,
           4,
           2,
           2,
           6,
           1,
           7,
           6,
           6,
           9,
           6,
           0,
           9,
           4,
           6,
           1,
           5,
           1,
           5,
           8,
           1,
           8,
           9,
           4,
           5,
           7,
           4,
           6,
           8,
           6,
           2,
           3,
           6,
           4,
           5,
           5,
           1,
           7,
           9,
           5,
           0,
           7,
           5,
           3,
           8,
           5,
           5,
           5,
           6,
           2,
           4,
           7,
           0,
           5,
           0,
           0,
           6,
           7,
           6,
           8,
           1,
           6,
           5,
           0,
           5,
           2,
           2,
           6,
           0,
           5,
           2,
           9,
           0,
           7,
           1,
           3,
           4,
           9,
           9,
           5,
           1,
           2,
           6,
           2,
           9,
           9,
           2,
           0,
           2,
           5,
           5,
           6,
           0,
           0,
           6,
           7,
           5,
           4,
           4,
           2,
           0,
           6,
           6,
           4,
           8,
           2,
           7,
           6,
           4,
           5,
           9,
           2,
           7,
           4,
           7,
           0,
           5,
           3,
           0,
           3,
           9,
           6,
           4,
           9,
           2,
           4,
           5,
           0,
           6,
           0,
           2,
           5,
           8,
           1,
           7,
           6,
           6,
           5,
           4,
           5,
           6,
           9,
           5,
           0,
           2,
           6,
           9,
           5,
           2,
           6,
           3,
           0,
           1,
           8,
           6,
           5,
           0,
           8,
           4,
           2,
           8,
           8,
           8,
           6,
           5,
           7,
           2,
           3,
           8,
           6,
           6,
           0,
           6,
           5,
           3,
           6,
           7,
           4,
           9,
           7,
           2,
           7,
           4,
           5,
           9,
           0,
           5,
           4,
           5,
           9,
           5,
           2,
           4,
           2,
           2,
           5,
           6,
           4,
           1,
           0,
           4,
           7,
           6,
           6,
           5,
           8,
           4,
           0,
           5,
           4,
           6,
           1,
           0,
           2,
           8,
           6,
           0,
           0,
           0,
           6,
           5,
           0,
           2,
           6,
           8,
           5,
           8,
           0,
           0,
           5,
           0,
           6,
           5,
           6,
           3,
           3,
           0,
           5,
           6,
           1,
           4,
           7,
           2,
           9,
           4,
           4,
           6,
           5,
           9,
           5,
           7,
           7,
           8,
           1,
           7,
           3,
           7,
           5,
           6,
           3,
           0,
           0,
           1,
           2,
           4,
           5,
           4,
           3,
           0,
           9,
           1,
           6,
           4,
           6,
           3,
           2,
           6,
           2,
           6,
           3,
           7,
           2,
           4,
           6,
           6,
           7,
           4,
           0,
           3,
           9,
           4,
           1,
           4,
           6,
           3,
           8,
           7,
           6,
           6,
           3,
           6,
           9,
           8,
           9,
           7,
           7,
           2,
           0,
           5,
           8,
           6,
           0,
           0,
           0,
           2,
           2,
           5,
           7,
           3,
           3,
           7,
           5,
           5,
           5,
           1,
           2,
           2,
           6,
           6,
           2,
           7,
           7,
           6,
           2,
           9,
           5,
           5,
           6,
           5,
           0,
           2,
           0,
           5,
           5,
           3,
           3,
           6,
           3,
           6,
           3,
           8,
           6,
           0,
           3,
           6,
           6,
           2,
           0,
           0,
           0,
           0,
           2,
           9,
           4,
           6,
           9,
           5,
           6,
           5,
           3,
           1,
           0,
           3,
           2,
           0,
           4,
           2,
           7,
           9,
           8,
           4,
           4,
           9,
           3,
           2,
           1,
           8,
           6,
           6,
           7,
           4,
           4,
           1,
           2,
           3,
           0,
           5,
           4,
           4,
           3,
           5,
           0,
           1,
           9,
           3,
           4,
           0,
           3,
           6,
           7,
           6,
           1,
           3,
           8,
           4,
           3,
           2,
           4,
           8,
           2,
           9,
           8,
           7,
           3,
           0,
           5,
           0,
           3,
           3,
           5,
           6,
           8,
           9,
           2,
           0,
           0,
           6,
           7,
           4,
           4,
           0,
           0,
           6,
           0,
           6,
           8,
           8,
           6,
           0,
           0,
           6,
           7,
           4,
           6,
           9,
           3,
           6,
           0,
           5,
           6,
           6,
           5,
           8,
           2,
           6,
           4,
           5,
           6,
           0,
           0,
           2,
           2,
           5,
           4,
           6,
           3,
           0,
           2,
           9,
           5,
           1,
           6,
           0,
           2,
           0,
           7,
           9,
           7,
           9,
           0,
           5,
           8,
           3,
           7,
           0,
           6,
           0,
           6,
           8,
           2,
           2,
           6,
           2,
           4,
           6,
           1,
           1,
           0,
           4,
           3,
           7,
           7,
           5,
           6,
           4,
           0,
           7,
           6,
           0,
           9,
           4,
           6,
           8,
           2,
           4,
           6,
           1,
           6,
           5,
           9,
           6,
           4,
           6,
           3,
           5,
           0,
           5,
           7,
           3,
           5,
           5,
           7,
           5,
           4,
           2,
           8,
           2,
           0,
           7,
           0,
           8,
           3,
           1,
           2,
           7,
           5,
           0,
           2,
           5,
           5,
           4,
           3,
           0,
           7,
           9,
           2,
           9,
           0,
           7,
           6,
           6,
           8,
           6,
           3,
           2,
           6,
           1,
           4,
           1,
           4,
           1,
           4,
           5,
           1,
           5,
           0,
           8,
           0,
           6,
           5,
           7,
           1,
           2,
           6,
           6,
           4,
           5,
           8,
           3,
           6,
           2,
           0,
           3,
           2,
           1,
           4,
           4,
           6,
           5,
           5,
           0,
           0,
           6,
           0,
           6,
           3,
           5,
           7,
           3,
           7,
           3,
           4,
           5,
           5,
           9,
           0,
           6,
           5,
           2,
           6,
           0,
           5,
           1,
           7,
           6,
           5,
           6,
           1,
           3,
           7,
           9,
           5,
           0,
           2,
           0,
           0,
           6,
           6,
           6,
           7,
           1,
           9,
           2,
           7,
           6,
           5,
           5,
           3,
           6,
           0,
           5,
           1,
           0,
           2,
           5,
           7,
           4,
           5,
           0,
           5,
           9,
           5,
           8,
           5,
           1,
           8,
           5,
           0,
           5,
           6,
           6,
           0,
           3,
           9,
           8,
           0,
           6,
           7,
           0,
           5,
           9,
           0,
           5,
           4,
           0,
           5,
           0,
           6,
           0,
           9,
           2,
           2,
           1,
           0,
           4,
           1,
           0,
           3,
           6,
           4,
           1,
           3,
           3,
           6,
           7,
           6,
           1,
           2,
           4,
           4,
           8,
           5,
           1,
           0,
           7,
           2,
           5,
           2,
           0,
           1,
           1,
           0,
           3,
           3,
           3,
           1,
           0,
           9,
           7,
           6,
           9,
           6,
           1,
           6,
           0,
           0,
           2,
           0,
           7,
           6,
           0,
           2,
           2,
           7,
           2,
           9,
           7,
           4,
           6,
           5,
           5,
           9,
           4,
           0,
           3,
           4,
           2,
           1,
           7,
           2,
           3,
           4,
           1,
           8,
           2,
           5,
           7,
           2,
           5,
           3,
           5,
           4,
           6,
           9,
           6,
           3,
           3,
           7,
           3,
           3,
           7,
           2,
           2,
           2,
           6,
           5,
           0,
           4,
           6,
           4,
           0,
           2,
           6,
           2,
           3,
           2,
           5,
           8,
           6,
           2,
           0,
           3,
           1,
           0,
           8,
           3,
           4,
           1,
           6,
           1,
           5,
           5,
           6,
           3,
           4,
           3,
           9,
           0,
           4,
           0,
           8,
           2,
           2,
           6,
           9,
           3,
           8,
           5,
           6,
           6,
           5,
           5,
           0,
           3,
           8,
           0,
           2,
           8,
           5,
           4,
           9,
           3,
           5,
           0,
           4,
           0,
           0,
           1,
           6,
           6,
           5,
           6,
           6,
           3,
           6,
           0,
           3,
           5,
           1,
           2,
           5,
           6,
           5,
           5,
           2,
           0,
           1,
           5,
           5,
           6,
           4,
           8,
           6,
           6,
           5,
           2,
           3,
           1,
           6,
           0,
           6,
           2,
           3,
           6,
           4,
           0,
           2,
           0,
           0,
           5,
           4,
           0,
           0,
           6,
           5,
           6,
           1,
           0,
           6,
           4,
           7,
           6,
           2,
           7,
           2,
           0,
           6,
           9,
           7,
           0,
           0,
           6,
           4,
           7,
           2,
           0,
           1,
           9,
           6,
           6,
           1,
           6,
           0,
           5,
           2,
           4,
           7,
           1,
           6,
           6,
           9,
           0,
           3,
           2,
           4,
           6,
           2,
           5,
           7,
           6,
           0,
           3,
           2,
           2,
           3,
           5,
           8,
           6,
           2,
           8,
           1,
           6,
           2,
           7,
           4,
           0,
           8,
           4,
           9,
           2,
           4,
           3,
           5,
           6,
           1,
           0,
           8,
           0,
           6,
           2,
           6,
           3,
           6,
           6,
           0,
           9,
           0,
           4,
           6,
           6,
           2,
           3,
           4,
           6,
           6,
           9,
           9,
           4,
           1,
           9,
           6,
           3,
           1,
           7,
           2,
           5,
           1,
           9,
           0,
           5,
           3,
           2,
           6,
           9,
           9,
           2,
           6,
           6,
           6,
           1,
           1,
           8,
           4,
           2,
           0,
           9,
           6,
           5,
           4,
           6,
           5,
           5,
           9,
           5,
           6,
           0,
           6,
           9,
           3,
           9,
           2,
           4,
           7,
           6,
           3,
           4,
           5,
           0,
           9,
           8,
           3,
           6,
           1,
           2,
           3,
           4,
           7,
           4,
           2,
           6,
           3,
           7,
           0,
           3,
           4,
           0,
           1,
           7,
           3,
           7,
           4,
           2,
           6,
           7,
           5,
           5,
           6,
           7,
           9,
           0,
           9,
           8,
           0,
           5,
           9,
           0,
           2,
           4,
           6,
           0,
           2,
           5,
           4,
           5,
           6,
           4,
           0,
           6,
           3,
           6,
           7,
           5,
           6,
           1,
           3,
           0,
           8,
           8,
           6,
           1,
           0,
           9,
           9,
           4,
           2,
           8,
           0,
           5,
           6,
           8,
           4,
           5,
           7,
           4,
           6,
           3,
           3,
           0,
           6,
           1,
           6,
           9,
           4,
           6,
           2,
           5,
           7,
           6,
           5,
           0,
           3,
           6,
           0,
           3,
           5,
           3,
           7,
           1,
           6,
           0,
           4,
           5,
           0,
           3,
           9,
           2,
           1,
           3,
           7,
           1,
           6,
           0,
           0,
           4,
           0,
           4,
           9,
           2,
           0,
           3,
           3,
           6,
           5,
           4,
           5,
           1,
           2,
           2,
           5,
           2,
           0,
           5,
           9,
           6,
           9,
           9,
           9,
           5,
           5,
           5,
           2,
           2,
           6,
           9,
           9,
           0,
           1,
           6,
           3,
           2,
           5,
           2,
           9,
           6,
           5,
           8,
           0,
           3,
           3,
           2,
           4,
           4,
           0,
           7,
           3,
           3,
           3,
           9,
           4,
           8,
           4,
           2,
           2,
           7,
           0,
           7,
           0,
           4,
           8,
           0,
           0,
           6,
           0,
           4,
           7,
           6,
           5,
           6,
           8,
           5,
           8,
           2,
           5,
           2,
           6,
           4,
           2,
           6,
           5,
           7,
           5,
           3,
           4,
           5,
           1,
           5,
           1,
           2,
           7,
           8,
           6,
           9,
           9,
           6,
           4,
           2,
           2,
           3,
           0,
           4,
           0,
           2,
           3,
           3,
           6,
           3,
           7,
           6,
           5,
           0,
           4,
           0,
           8,
           4,
           1,
           2,
           8,
           9,
           1,
           4,
           4,
           7,
           5,
           9,
           7,
           6,
           0,
           6,
           7,
           7,
           2,
           1,
           7,
           1,
           6,
           5,
           9,
           2,
           6,
           6,
           9,
           0,
           9,
           2,
           3,
           3,
           4,
           1,
           0,
           4,
           1,
           6,
           5,
           5,
           8,
           1,
           0,
           6,
           4,
           3,
           8,
           2,
           4,
           6,
           2,
           7,
           2,
           0,
           4,
           3,
           4,
           7,
           3,
           2,
           6,
           0,
           2,
           6,
           3,
           8,
           0,
           0,
           0,
           2,
           3,
           3,
           6,
           0,
           3,
           3,
           6,
           9,
           4,
           3,
           5,
           3,
           4,
           6,
           1,
           0,
           4,
           9,
           3,
           3,
           3,
           0,
           7,
           6,
           4,
           6,
           1,
           4,
           3,
           1,
           1,
           3,
           2,
           5,
           0,
           1,
           5,
           6,
           0,
           7,
           1,
           9,
           7,
           9,
           3,
           3,
           0,
           1,
           1,
           1,
           2,
           9,
           7,
           1,
           1,
           2,
           9,
           1,
           4,
           5,
           3,
           0,
           3,
           1,
           6,
           9,
           6,
           6,
           8,
           2,
           0,
           5,
           9,
           2,
           7,
           7,
           7,
           6,
           3,
           1,
           0,
           5,
           5,
           7,
           9,
           8,
           2,
           5,
           6,
           6,
           2,
           2,
           6,
           6,
           7,
           0,
           3,
           5,
           3,
           3,
           6,
           7,
           6,
           7,
           5,
           4,
           3,
           8,
           5,
           0,
           0,
           2,
           7,
           5,
           1,
           3,
           7,
           6,
           2,
           0,
           0,
           5,
           1,
           3,
           4,
           4,
           2,
           6,
           6,
           1,
           3,
           1,
           3,
           5,
           2,
           7,
           5,
           4,
           9,
           5,
           3,
           3,
           4,
           3,
           6,
           8,
           6,
           6,
           3,
           5,
           2,
           8,
           0,
           9,
           9,
           5,
           5,
           6,
           3,
           6,
           0,
           4,
           7,
           6,
           1,
           2,
           2,
           9,
           0,
           3,
           1,
           3,
           5,
           9,
           2,
           0,
           0,
           5,
           2,
           2,
           2,
           6,
           3,
           9,
           2,
           4,
           9,
           4,
           1,
           7,
           1,
           2,
           9,
           0,
           4,
           0,
           9,
           0,
           4,
           2,
           4,
           9,
           0,
           4,
           9,
           1,
           3,
           3,
           6,
           3,
           1,
           9,
           8,
           8,
           0,
           8,
           0,
           8,
           9,
           8,
           8,
           7,
           7,
           7,
           0,
           0,
           5,
           4,
           8,
           9,
           8,
           7,
           7,
           8,
           8,
           4,
           6,
           0,
           8,
           8,
           7,
           4,
           0,
           7,
           7,
           7,
           8,
           8,
           8,
           8,
           5,
           8,
           0,
           7,
           7,
           4,
           4,
           8,
           0,
           8,
           7,
           9,
           8,
           8,
           7,
           0,
           3,
           8,
           8,
           0,
           8,
           6,
           3,
           8,
           7,
           8,
           8,
           8,
           8,
           5,
           0,
           7,
           6,
           7,
           7,
           6,
           8,
           4,
           7,
           8,
           8,
           4,
           6,
           0,
           8,
           4,
           9,
           0,
           8,
           8,
           8,
           8,
           8,
           8,
           6,
           6,
           8,
           9,
           0,
           0,
           0,
           8,
           8,
           0,
           8,
           8,
           0,
           8,
           6,
           5,
           8,
           4,
           0,
           8,
           8,
           8,
           7,
           8,
           0,
           8,
           8,
           7,
           8,
           8,
           0,
           7,
           8,
           0,
           4,
           4,
           0,
           0,
           8,
           4,
           0,
           5,
           7,
           8,
           6,
           8,
           0,
           8,
           0,
           8,
           4,
           7,
           8,
           0,
           0,
           7,
           7,
           8,
           8,
           0,
           5,
           8,
           6,
           8,
           8,
           0,
           0,
           0,
           0,
           0,
           0,
           8,
           6,
           8,
           6,
           7,
           8,
           0,
           3,
           8,
           8,
           3,
           0,
           3,
           0,
           0,
           0,
           8,
           9,
           8,
           0,
           8,
           0,
           0,
           8,
           3,
           0,
           8,
           8,
           8,
           3,
           8,
           8,
           4,
           4,
           4,
           8,
           0,
           5,
           0,
           0,
           0,
           8,
           9,
           0,
           3,
           8,
           8,
           9,
           3,
           8,
           0,
           0,
           9,
           0,
           0,
           8,
           8,
           0,
           8,
           6,
           3,
           8,
           0,
           0,
           7,
           3,
           8,
           9,
           0,
           8,
           6,
           3,
           8,
           8,
           0,
           4,
           4,
           4,
           0,
           0,
           0,
           8,
           7,
           8,
           7,
           8,
           9,
           3,
           0,
           3,
           0,
           0,
           2,
           0,
           9,
           2,
           0,
           0,
           9,
           9,
           0,
           9,
           2,
           2,
           3,
           9,
           9,
           9,
           3,
           3,
           2,
           6,
           9,
           3,
           3,
           9,
           3,
           9,
           9,
           2,
           9,
           9,
           3,
           2,
           2,
           9,
           9,
           9,
           9,
           9,
           6,
           9,
           0,
           9,
           9,
           3,
           0,
           9,
           3,
           6,
           9,
           2,
           9,
           9,
           9,
           3,
           3,
           9,
           9,
           9,
           9,
           3,
           0,
           8,
           9,
           3,
           3,
           9,
           3,
           9,
           3,
           3,
           6,
           9,
           9,
           0,
           9,
           3,
           3,
           9,
           3,
           3,
           0,
           9,
           3,
           8,
           9,
           3,
           9,
           3,
           3,
           3,
           9,
           9,
           9,
           5,
           3,
           2,
           3,
           9,
           3,
           9,
           2,
           9,
           3,
           3,
           3,
           9,
           2,
           2,
           3,
           9,
           3,
           2,
           9,
           9,
           9,
           9,
           9,
           9,
           3,
           9,
           2,
           1,
           9,
           3,
           9,
           3,
           3,
           3,
           9,
           3,
           3,
           5,
           1,
           7,
           3,
           3,
           9,
           9,
           9,
           0,
           9,
           9,
           9,
           3,
           9,
           8,
           0,
           0,
           0,
           8,
           9,
           9,
           9,
           9,
           9,
           7,
           9,
           7,
           9,
           9,
           8,
           9,
           8,
           3,
           0,
           5,
           9,
           0,
           0,
           8,
           9,
           0,
           9,
           9,
           3,
           2,
           9,
           9,
           8,
           9,
           3,
           9,
           3,
           8,
           8,
           9,
           9,
           3,
           9,
           9,
           9,
           5,
           9,
           2,
           5,
           5,
           5,
           5,
           0,
           7,
           0,
           9,
           9,
           8,
           9,
           8,
           0,
           8,
           9,
           5,
           5,
           0,
           8,
           0,
           0,
           6,
           9,
           9,
           5,
           0,
           4,
           3,
           9,
           5,
           9,
           3,
           7,
           5,
           9,
           7,
           0,
           3,
           8,
           0,
           3,
           9,
           9,
           0,
           8,
           0,
           3,
           6,
           9,
           4,
           3,
           8,
           4,
           5,
           3
          ],
          "coloraxis": "coloraxis",
          "symbol": "circle"
         },
         "mode": "markers",
         "name": "",
         "showlegend": false,
         "type": "scattergl",
         "x": [
          27.465436935424805,
          -7.214879989624023,
          24.893836975097656,
          20.481342315673828,
          10.277522087097168,
          -9.131139755249023,
          -4.923679828643799,
          12.249558448791504,
          12.273872375488281,
          -22.40983009338379,
          -11.867165565490723,
          35.9458122253418,
          -14.63792896270752,
          -20.466346740722656,
          -25.583152770996094,
          16.99358367919922,
          33.49900436401367,
          -25.965839385986328,
          5.69703483581543,
          -5.6919755935668945,
          -24.911394119262695,
          24.634828567504883,
          25.195110321044922,
          20.78989601135254,
          49.72244644165039,
          -46.79899215698242,
          18.70406723022461,
          47.51045227050781,
          48.60208511352539,
          -3.846043825149536,
          -28.372526168823242,
          -15.694856643676758,
          -13.799553871154785,
          23.94133758544922,
          58.807586669921875,
          11.989062309265137,
          -12.486258506774902,
          -10.186366081237793,
          -24.04995346069336,
          -14.094670295715332,
          24.69718360900879,
          -35.12423324584961,
          -5.480808258056641,
          -42.247806549072266,
          -14.930075645446777,
          -4.014388561248779,
          45.678245544433594,
          -5.5372633934021,
          -6.820451259613037,
          -15.057812690734863,
          7.18254280090332,
          32.171302795410156,
          25.804636001586914,
          -32.185516357421875,
          -8.272077560424805,
          19.30001449584961,
          36.229366302490234,
          33.74663162231445,
          -11.401991844177246,
          -31.632007598876953,
          25.67873191833496,
          7.991439342498779,
          -30.660322189331055,
          -30.806652069091797,
          -17.440271377563477,
          -28.00287628173828,
          15.975943565368652,
          -6.033325672149658,
          -8.140552520751953,
          13.504525184631348,
          42.41350555419922,
          11.443192481994629,
          -1.5087717771530151,
          -19.966379165649414,
          -12.160858154296875,
          11.313782691955566,
          -9.098928451538086,
          -25.370824813842773,
          26.92609214782715,
          -29.673921585083008,
          -36.588077545166016,
          9.553346633911133,
          -8.059964179992676,
          9.144322395324707,
          -9.877363204956055,
          13.139289855957031,
          -16.614336013793945,
          -15.215971946716309,
          13.96171760559082,
          3.526662588119507,
          23.0484561920166,
          -32.754451751708984,
          13.815651893615723,
          -20.811569213867188,
          16.25175666809082,
          31.650726318359375,
          -30.9548397064209,
          26.972705841064453,
          -28.384183883666992,
          -7.650004863739014,
          11.515195846557617,
          29.652278900146484,
          28.404579162597656,
          23.26106834411621,
          -32.950721740722656,
          35.69697952270508,
          52.275299072265625,
          2.425586700439453,
          -32.016971588134766,
          -10.450611114501953,
          -39.53593063354492,
          -40.49113082885742,
          20.707683563232422,
          26.359113693237305,
          -7.847923755645752,
          54.642677307128906,
          -16.148324966430664,
          -30.985610961914062,
          16.361780166625977,
          -15.249350547790527,
          10.260459899902344,
          51.91743850708008,
          6.962728500366211,
          -15.301474571228027,
          7.239533424377441,
          13.988306045532227,
          39.791656494140625,
          1.5241855382919312,
          -32.94483184814453,
          41.82243728637695,
          10.017857551574707,
          -29.75997543334961,
          16.03753662109375,
          36.62717056274414,
          0.5936498045921326,
          -0.8443085551261902,
          -4.232687950134277,
          -22.88045883178711,
          26.73628807067871,
          25.118865966796875,
          30.725492477416992,
          -8.059249877929688,
          20.866594314575195,
          25.05062484741211,
          -2.765613317489624,
          -26.689571380615234,
          30.820703506469727,
          -35.74950408935547,
          24.286378860473633,
          -40.548580169677734,
          -6.035212993621826,
          16.854854583740234,
          -5.390383720397949,
          24.226503372192383,
          -22.084571838378906,
          56.91011047363281,
          20.182954788208008,
          50.83810043334961,
          12.320343017578125,
          -15.996692657470703,
          -6.3730082511901855,
          -6.097235202789307,
          -12.319256782531738,
          -21.185508728027344,
          -3.16910982131958,
          18.19835662841797,
          -26.127349853515625,
          14.339238166809082,
          32.4109992980957,
          -8.20913028717041,
          0.9417544603347778,
          -10.61192798614502,
          36.07789611816406,
          40.513309478759766,
          -0.6214593648910522,
          2.6992526054382324,
          -8.506546020507812,
          32.88386535644531,
          -20.84583282470703,
          12.32938003540039,
          -9.743597030639648,
          8.763496398925781,
          22.7982177734375,
          11.949158668518066,
          -30.34090805053711,
          35.28702163696289,
          -30.785104751586914,
          -43.89046096801758,
          -3.1073999404907227,
          -44.00032043457031,
          -10.353264808654785,
          -38.4766731262207,
          -21.002124786376953,
          15.763025283813477,
          43.45099639892578,
          -7.307394981384277,
          36.434898376464844,
          16.483232498168945,
          -1.7590528726577759,
          13.227328300476074,
          -11.728097915649414,
          -3.6761693954467773,
          52.90337371826172,
          8.351325035095215,
          -17.016969680786133,
          29.46214485168457,
          -44.08708953857422,
          47.27610397338867,
          -40.523197174072266,
          16.977252960205078,
          -2.106139898300171,
          39.071529388427734,
          19.435731887817383,
          26.13406753540039,
          9.62238597869873,
          -9.121238708496094,
          2.349485158920288,
          -22.660181045532227,
          -12.153294563293457,
          11.516480445861816,
          -31.1622257232666,
          -21.296974182128906,
          -23.818876266479492,
          -34.514339447021484,
          -22.503173828125,
          26.319766998291016,
          -21.37116050720215,
          33.15177536010742,
          17.04601287841797,
          13.17183780670166,
          2.949606418609619,
          10.085121154785156,
          -33.92330551147461,
          22.122024536132812,
          3.9169373512268066,
          -33.931480407714844,
          43.251705169677734,
          43.99637222290039,
          24.90435791015625,
          11.704119682312012,
          -2.428194522857666,
          38.43565368652344,
          20.079246520996094,
          -3.538395643234253,
          14.598541259765625,
          6.437411308288574,
          -7.144444942474365,
          -17.92169189453125,
          32.834877014160156,
          20.499094009399414,
          13.159939765930176,
          40.38843536376953,
          -8.564903259277344,
          14.5702543258667,
          -34.84313201904297,
          -22.152334213256836,
          -24.44354248046875,
          -19.532981872558594,
          14.75463581085205,
          -10.927000999450684,
          -31.602741241455078,
          23.732194900512695,
          41.44532012939453,
          -21.550994873046875,
          48.73188781738281,
          -9.831867218017578,
          44.345947265625,
          -0.687595784664154,
          7.383358955383301,
          -38.51304626464844,
          5.844819068908691,
          -21.666107177734375,
          9.35778522491455,
          -22.247159957885742,
          -5.027796268463135,
          -18.951560974121094,
          -4.235601425170898,
          -35.67458724975586,
          -27.091909408569336,
          -0.11998414993286133,
          -37.787418365478516,
          -19.665313720703125,
          21.099735260009766,
          45.02259063720703,
          -1.0241618156433105,
          -50.16148376464844,
          20.888996124267578,
          12.08702564239502,
          -4.780087947845459,
          43.76759338378906,
          1.6320571899414062,
          -6.768342018127441,
          -16.539060592651367,
          -0.48344552516937256,
          13.244796752929688,
          31.203420639038086,
          39.73491668701172,
          3.278550624847412,
          53.451358795166016,
          19.954233169555664,
          -17.67094612121582,
          -26.429765701293945,
          9.830770492553711,
          27.367258071899414,
          51.96806335449219,
          14.378643989562988,
          -2.2162082195281982,
          -1.656119704246521,
          20.299177169799805,
          -42.27525329589844,
          -7.502681732177734,
          -16.833688735961914,
          -38.81816101074219,
          4.962520599365234,
          19.509685516357422,
          -16.16761016845703,
          -44.79872512817383,
          10.247163772583008,
          -29.32664680480957,
          -3.3410305976867676,
          -8.184697151184082,
          -7.883126735687256,
          3.821070671081543,
          -4.06104850769043,
          -36.570133209228516,
          -16.311552047729492,
          16.143325805664062,
          -8.373902320861816,
          -24.704347610473633,
          -33.63258361816406,
          4.655516624450684,
          -17.32829475402832,
          -16.154903411865234,
          -45.92253112792969,
          -26.827800750732422,
          53.62305450439453,
          34.162479400634766,
          -48.9158935546875,
          47.528411865234375,
          -1.5107181072235107,
          -10.58621597290039,
          -6.671757221221924,
          -15.829268455505371,
          -0.7791619300842285,
          -5.744180202484131,
          -21.77324867248535,
          -6.14412784576416,
          33.36311721801758,
          52.78789138793945,
          7.0092010498046875,
          26.796091079711914,
          11.490754127502441,
          -5.537738800048828,
          13.81358814239502,
          -21.893869400024414,
          12.219300270080566,
          51.284912109375,
          -10.22499942779541,
          -10.311347961425781,
          -18.231067657470703,
          42.59661865234375,
          18.51128387451172,
          -30.095321655273438,
          -26.789289474487305,
          -34.405479431152344,
          -7.186234951019287,
          -22.857891082763672,
          -19.343486785888672,
          46.81499481201172,
          -27.46300506591797,
          29.538982391357422,
          32.67393493652344,
          38.82207107543945,
          14.17770767211914,
          -0.29793283343315125,
          44.79753494262695,
          6.9771857261657715,
          -16.500946044921875,
          43.37821960449219,
          31.483434677124023,
          22.834135055541992,
          47.656761169433594,
          -7.378636360168457,
          11.015493392944336,
          -6.373315334320068,
          -4.258288860321045,
          -38.68986892700195,
          -23.896007537841797,
          50.42350769042969,
          20.207529067993164,
          34.69773864746094,
          44.28623580932617,
          20.913602828979492,
          -44.91083526611328,
          -1.6971969604492188,
          -6.9443888664245605,
          22.453866958618164,
          19.566280364990234,
          -43.26732635498047,
          1.234153389930725,
          15.1375150680542,
          -2.3184564113616943,
          19.935632705688477,
          -10.507448196411133,
          -21.75008201599121,
          48.27242660522461,
          16.884693145751953,
          -22.422035217285156,
          13.407503128051758,
          -23.661943435668945,
          11.515344619750977,
          -11.539053916931152,
          36.631465911865234,
          -33.8841438293457,
          4.960891246795654,
          52.4013557434082,
          -15.636137008666992,
          19.412620544433594,
          -13.361623764038086,
          27.999162673950195,
          7.087981700897217,
          3.9356322288513184,
          -28.011537551879883,
          -20.09575843811035,
          38.62161636352539,
          -10.447280883789062,
          -21.222484588623047,
          -34.88797378540039,
          23.000045776367188,
          52.2857666015625,
          26.765228271484375,
          46.788612365722656,
          -18.906740188598633,
          -20.13983726501465,
          28.514694213867188,
          46.43756103515625,
          -14.613653182983398,
          -12.73270320892334,
          14.413361549377441,
          2.2138137817382812,
          -3.538912773132324,
          -9.010114669799805,
          -22.106529235839844,
          -21.56934928894043,
          38.25626754760742,
          15.229063987731934,
          -10.597002029418945,
          -22.065271377563477,
          -13.135004997253418,
          -28.393600463867188,
          23.53059196472168,
          33.297061920166016,
          28.242319107055664,
          58.82872772216797,
          7.412434101104736,
          -6.8374528884887695,
          -15.479413986206055,
          -11.915094375610352,
          54.575130462646484,
          7.054553508758545,
          -10.98864459991455,
          -3.2573111057281494,
          -8.116891860961914,
          47.255714416503906,
          21.11175537109375,
          -20.966045379638672,
          6.481406211853027,
          11.533550262451172,
          46.56309127807617,
          15.80455493927002,
          -1.6838798522949219,
          24.812788009643555,
          -0.6887995004653931,
          -38.204524993896484,
          -34.86414337158203,
          -18.30487632751465,
          -1.8313709497451782,
          50.210575103759766,
          -26.90353775024414,
          7.118228435516357,
          40.24555206298828,
          32.496307373046875,
          -37.53785705566406,
          -6.7314581871032715,
          -32.980045318603516,
          -15.08326244354248,
          14.199217796325684,
          8.840445518493652,
          39.08869934082031,
          30.748306274414062,
          -35.53752899169922,
          12.918895721435547,
          10.7097806930542,
          44.00997543334961,
          24.457420349121094,
          -11.037118911743164,
          9.734800338745117,
          39.272438049316406,
          -30.032875061035156,
          8.408103942871094,
          -21.514225006103516,
          17.504329681396484,
          19.78022003173828,
          -15.361160278320312,
          25.63665199279785,
          -45.4893798828125,
          -27.404197692871094,
          32.94963073730469,
          -1.4756609201431274,
          -11.08216381072998,
          32.74458312988281,
          -21.897192001342773,
          -1.7051810026168823,
          47.697811126708984,
          -10.593650817871094,
          39.018558502197266,
          -8.969558715820312,
          7.522321701049805,
          -3.638963460922241,
          33.77088928222656,
          20.23004913330078,
          -5.204914093017578,
          -38.5047721862793,
          9.700681686401367,
          -27.228836059570312,
          -14.481511116027832,
          -6.627322196960449,
          13.27751350402832,
          27.960739135742188,
          -39.60044860839844,
          -18.28664207458496,
          21.82388687133789,
          46.1924934387207,
          -23.98566436767578,
          20.67963981628418,
          16.763919830322266,
          2.3480966091156006,
          54.61753463745117,
          35.23124313354492,
          -27.954492568969727,
          -22.658430099487305,
          3.7143194675445557,
          51.163639068603516,
          14.762826919555664,
          -19.07343864440918,
          28.97515869140625,
          -30.48378562927246,
          41.48659133911133,
          7.420207500457764,
          -6.291342735290527,
          20.179738998413086,
          -3.052999973297119,
          43.528282165527344,
          46.110687255859375,
          -35.2471923828125,
          46.006710052490234,
          23.86870002746582,
          -14.029266357421875,
          -9.272047996520996,
          20.330217361450195,
          5.274593353271484,
          48.614585876464844,
          -10.642980575561523,
          32.44640350341797,
          52.50359344482422,
          -12.759960174560547,
          51.30876541137695,
          -18.298694610595703,
          15.44553279876709,
          -10.152291297912598,
          -11.498739242553711,
          -8.86385726928711,
          -9.0780029296875,
          -20.71270179748535,
          -10.996310234069824,
          10.444000244140625,
          -19.210573196411133,
          -22.17928695678711,
          -17.57994842529297,
          13.939491271972656,
          15.229116439819336,
          14.855318069458008,
          -1.2983074188232422,
          -1.7531049251556396,
          0.8652840256690979,
          -2.123265504837036,
          -28.04743766784668,
          20.980621337890625,
          -21.349885940551758,
          -33.348915100097656,
          -32.38352584838867,
          -10.947925567626953,
          37.1583251953125,
          -35.2894401550293,
          51.4815673828125,
          37.94346618652344,
          34.46564483642578,
          -0.6053337454795837,
          -17.533533096313477,
          44.058265686035156,
          54.14509201049805,
          -9.061298370361328,
          37.14641571044922,
          -23.198041915893555,
          31.465858459472656,
          15.423959732055664,
          23.359582901000977,
          -10.122323036193848,
          38.72007751464844,
          5.973999977111816,
          -39.23086929321289,
          17.572805404663086,
          32.21565246582031,
          -27.458019256591797,
          -43.693599700927734,
          -39.1148567199707,
          -21.943567276000977,
          52.098854064941406,
          3.576286554336548,
          51.595787048339844,
          36.29253005981445,
          55.40632247924805,
          -47.477176666259766,
          -1.8657923936843872,
          -27.032638549804688,
          7.013779163360596,
          -7.733246803283691,
          47.86848449707031,
          -3.1082229614257812,
          -45.129024505615234,
          -8.021604537963867,
          -12.876386642456055,
          6.610398769378662,
          -9.123979568481445,
          -42.59325408935547,
          31.169708251953125,
          -19.182077407836914,
          49.250755310058594,
          -8.479713439941406,
          -18.773706436157227,
          21.323348999023438,
          53.4835319519043,
          -32.00223159790039,
          -40.31523513793945,
          -19.777788162231445,
          58.790428161621094,
          27.48932456970215,
          47.2747917175293,
          27.534460067749023,
          -49.233543395996094,
          14.647690773010254,
          24.79743003845215,
          -29.009164810180664,
          -29.100276947021484,
          -45.13669204711914,
          -31.924877166748047,
          4.655627250671387,
          -1.2955386638641357,
          -18.319122314453125,
          13.398517608642578,
          25.68475341796875,
          -15.148514747619629,
          -20.74953269958496,
          35.25999450683594,
          8.941919326782227,
          -7.710816860198975,
          -3.1118083000183105,
          -16.475143432617188,
          -40.70887756347656,
          8.601648330688477,
          -15.448477745056152,
          14.986272811889648,
          21.216938018798828,
          25.828115463256836,
          32.68656921386719,
          20.93014907836914,
          30.33005142211914,
          16.783662796020508,
          20.581199645996094,
          52.68107604980469,
          -10.284335136413574,
          -21.48580551147461,
          -28.76487922668457,
          -2.6517486572265625,
          7.841753005981445,
          5.225700855255127,
          20.67197036743164,
          -21.45126724243164,
          -17.479156494140625,
          -27.40485382080078,
          32.88078308105469,
          29.644969940185547,
          -50.21978759765625,
          37.39605712890625,
          -5.877659320831299,
          -8.865166664123535,
          -16.830759048461914,
          27.39505386352539,
          24.7885799407959,
          -46.38418960571289,
          -40.788856506347656,
          -29.466726303100586,
          -48.11933517456055,
          -8.197951316833496,
          -39.57452392578125,
          0.9318949580192566,
          -9.357809066772461,
          -18.915468215942383,
          -39.262977600097656,
          -30.672225952148438,
          -10.6727294921875,
          -2.0582821369171143,
          -22.279033660888672,
          -5.2382893562316895,
          -9.695064544677734,
          -38.72446060180664,
          -13.873578071594238,
          -43.141117095947266,
          41.10848617553711,
          -18.796722412109375,
          8.661214828491211,
          37.18049240112305,
          -49.76704788208008,
          21.378299713134766,
          -40.15089416503906,
          42.95448303222656,
          -6.073002815246582,
          -38.549930572509766,
          -15.105008125305176,
          -48.165950775146484,
          45.38536834716797,
          -6.473721027374268,
          17.82347869873047,
          -18.0229549407959,
          26.857759475708008,
          32.34991455078125,
          48.677886962890625,
          18.83213233947754,
          32.614227294921875,
          -10.22004508972168,
          30.343828201293945,
          26.20943832397461,
          12.37067699432373,
          -6.322829723358154,
          21.8254337310791,
          54.942710876464844,
          51.69739532470703,
          42.24022674560547,
          -13.515800476074219,
          -46.76618576049805,
          -2.993089437484741,
          10.090336799621582,
          48.89412307739258,
          49.16497802734375,
          -47.662235260009766,
          21.30731773376465,
          -19.276643753051758,
          51.243560791015625,
          6.004683017730713,
          -35.759910583496094,
          46.959808349609375,
          -3.3576831817626953,
          -33.981658935546875,
          -49.433162689208984,
          26.852163314819336,
          -9.537566184997559,
          41.709877014160156,
          -31.622970581054688,
          10.358255386352539,
          53.51968765258789,
          2.551407814025879,
          5.709830284118652,
          54.2495231628418,
          0.4039967656135559,
          8.84928035736084,
          17.480653762817383,
          -9.665669441223145,
          27.345279693603516,
          -46.827144622802734,
          -14.191494941711426,
          29.708877563476562,
          0.7918790578842163,
          -45.42904281616211,
          -38.6783447265625,
          17.30779457092285,
          -2.085092306137085,
          9.13171100616455,
          -20.561368942260742,
          -19.09478759765625,
          -15.078268051147461,
          -38.07839584350586,
          -16.901533126831055,
          25.21739959716797,
          49.77998733520508,
          49.3063850402832,
          -18.506181716918945,
          -9.517969131469727,
          -4.651329517364502,
          -12.706393241882324,
          -9.188070297241211,
          24.13838005065918,
          13.959538459777832,
          11.848124504089355,
          -7.304600715637207,
          -27.985736846923828,
          -20.40154266357422,
          15.004905700683594,
          45.94461441040039,
          -1.502530813217163,
          0.18082194030284882,
          -40.132999420166016,
          -2.519679069519043,
          -12.385226249694824,
          -0.7414835691452026,
          -9.187657356262207,
          19.041528701782227,
          35.244041442871094,
          -5.062086582183838,
          5.54167366027832,
          -17.235992431640625,
          52.06900405883789,
          20.842248916625977,
          -15.192992210388184,
          -26.95537567138672,
          -12.18818473815918,
          -12.863001823425293,
          14.660483360290527,
          30.580358505249023,
          48.02320861816406,
          -14.94521427154541,
          -41.40410614013672,
          -37.902244567871094,
          -4.053528785705566,
          -13.549413681030273,
          32.274681091308594,
          48.106346130371094,
          -17.099721908569336,
          -34.07832717895508,
          -3.161450147628784,
          -34.169612884521484,
          -5.4503960609436035,
          -14.69416332244873,
          0.8119558691978455,
          1.4885746240615845,
          2.10560941696167,
          27.86996841430664,
          1.1141035556793213,
          -41.78767776489258,
          34.016841888427734,
          -21.895788192749023,
          -24.51374053955078,
          1.3896043300628662,
          -32.99651336669922,
          -3.301657199859619,
          11.037410736083984,
          8.100179672241211,
          -14.919992446899414,
          -15.836737632751465,
          47.96970748901367,
          -4.037711143493652,
          48.72893142700195,
          54.452579498291016,
          1.3343168497085571,
          51.245933532714844,
          28.606767654418945,
          24.922012329101562,
          4.211120128631592,
          37.88998031616211,
          -19.345157623291016,
          43.425655364990234,
          2.777996063232422,
          13.411125183105469,
          13.935948371887207,
          -33.4554557800293,
          12.333426475524902,
          58.179168701171875,
          -18.293346405029297,
          13.336153030395508,
          -8.36994457244873,
          52.5755729675293,
          -11.862083435058594,
          44.0316047668457,
          -15.333986282348633,
          32.82102966308594,
          -29.175661087036133,
          -7.054698944091797,
          43.32227325439453,
          -28.28421401977539,
          -36.386016845703125,
          37.867530822753906,
          -21.967485427856445,
          21.762939453125,
          0.8719504475593567,
          -32.0019645690918,
          17.99704360961914,
          17.65693473815918,
          26.042274475097656,
          39.28856658935547,
          53.4594612121582,
          -11.460538864135742,
          -6.560020446777344,
          -10.506715774536133,
          -16.89812660217285,
          25.568477630615234,
          -2.968876361846924,
          2.9991323947906494,
          -38.88445281982422,
          45.95875549316406,
          -8.579771995544434,
          26.445247650146484,
          28.98535919189453,
          -10.23063850402832,
          -14.420403480529785,
          42.133155822753906,
          27.53921127319336,
          44.29011917114258,
          -39.85939025878906,
          -22.14179039001465,
          20.107261657714844,
          -16.159215927124023,
          13.158117294311523,
          -10.198588371276855,
          -14.625346183776855,
          20.892349243164062,
          -0.7024264931678772,
          -18.06041145324707,
          12.269628524780273,
          -6.7503132820129395,
          -33.668800354003906,
          7.97106409072876,
          -34.94236373901367,
          37.722381591796875,
          47.810359954833984,
          53.614871978759766,
          54.13670349121094,
          41.556217193603516,
          51.150901794433594,
          20.54545021057129,
          45.93842315673828,
          12.488198280334473,
          -6.286074638366699,
          -4.07720422744751,
          -13.9397554397583,
          -8.9028902053833,
          25.561161041259766,
          15.553146362304688,
          50.443931579589844,
          -15.887428283691406,
          -5.481916904449463,
          -5.940832138061523,
          41.73054885864258,
          29.28528594970703,
          25.853696823120117,
          -41.52090072631836,
          -15.290556907653809,
          11.729681968688965,
          -38.80168533325195,
          -40.46419143676758,
          0.9702510833740234,
          39.31309509277344,
          53.84331130981445,
          51.89876174926758,
          -20.584022521972656,
          28.11907196044922,
          27.282384872436523,
          -29.478429794311523,
          -27.355642318725586,
          -16.637638092041016,
          -14.281246185302734,
          -30.203243255615234,
          -46.004058837890625,
          18.73805809020996,
          23.998905181884766,
          -42.267784118652344,
          16.110490798950195,
          -34.30052947998047,
          59.198699951171875,
          28.602367401123047,
          22.65739631652832,
          2.789828300476074,
          -3.684544801712036,
          24.188291549682617,
          19.6743221282959,
          -9.736056327819824,
          -22.327524185180664,
          -5.492609024047852,
          16.09043312072754,
          57.20304870605469,
          26.125608444213867,
          -16.749055862426758,
          37.406097412109375,
          -26.62779998779297,
          44.37769317626953,
          -22.662925720214844,
          3.6825597286224365,
          1.2218512296676636,
          33.87582778930664,
          -23.853456497192383,
          -11.695794105529785,
          -2.8875491619110107,
          -17.1853084564209,
          -30.67567253112793,
          -19.959545135498047,
          -2.6004316806793213,
          22.337242126464844,
          27.13878059387207,
          8.89155387878418,
          -3.870072603225708,
          3.21340012550354,
          12.379125595092773,
          28.4539737701416,
          16.86688232421875,
          -41.76740264892578,
          -18.625507354736328,
          -38.81923294067383,
          17.661479949951172,
          51.24005889892578,
          -24.583438873291016,
          -5.490218639373779,
          32.99608612060547,
          9.182281494140625,
          48.03311538696289,
          20.71104621887207,
          -22.19063949584961,
          31.34267234802246,
          12.368896484375,
          36.138790130615234,
          -8.981955528259277,
          25.450611114501953,
          42.56591796875,
          1.5477030277252197,
          29.61861801147461,
          -29.83606719970703,
          29.352039337158203,
          -27.64886474609375,
          -8.579504013061523,
          -26.601722717285156,
          5.641268253326416,
          13.801017761230469,
          0.1522584706544876,
          -6.184420585632324,
          -12.249899864196777,
          14.003883361816406,
          -24.088272094726562,
          31.55545997619629,
          -29.016868591308594,
          4.075312614440918,
          9.217489242553711,
          41.49031448364258,
          -33.78440475463867,
          30.091567993164062,
          -8.304132461547852,
          -9.825480461120605,
          -11.771540641784668,
          -25.242218017578125,
          14.47922420501709,
          -11.239087104797363,
          50.66380310058594,
          -26.511398315429688,
          44.201629638671875,
          42.378395080566406,
          -30.436386108398438,
          -42.878089904785156,
          -21.251203536987305,
          56.26026916503906,
          44.2868766784668,
          -30.753108978271484,
          31.02923583984375,
          -0.8034073710441589,
          3.7309422492980957,
          -11.861618041992188,
          54.36225128173828,
          -0.7428358197212219,
          54.683929443359375,
          44.80373764038086,
          -8.570391654968262,
          25.67102813720703,
          41.788490295410156,
          -35.30677795410156,
          14.599066734313965,
          -14.592867851257324,
          29.299100875854492,
          5.914277076721191,
          12.270312309265137,
          56.45389938354492,
          39.030643463134766,
          10.576678276062012,
          -22.534603118896484,
          -42.824920654296875,
          -40.44660949707031,
          54.585262298583984,
          -23.139934539794922,
          -23.180221557617188,
          22.163803100585938,
          -1.9011937379837036,
          -11.164874076843262,
          -32.17833709716797,
          54.467041015625,
          -33.921592712402344,
          -5.88775110244751,
          1.7874895334243774,
          7.077211380004883,
          -2.431260108947754,
          -3.2095487117767334,
          1.9206695556640625,
          -10.880205154418945,
          -2.4767491817474365,
          4.543030261993408,
          0.44148945808410645,
          6.140773296356201,
          12.81828784942627,
          17.723411560058594,
          47.075279235839844,
          0.9548693299293518,
          17.147438049316406,
          19.27452850341797,
          0.6331101059913635,
          46.1691780090332,
          -22.21790885925293,
          -41.096290588378906,
          49.0394172668457,
          -11.538858413696289,
          50.67628860473633,
          14.348566055297852,
          2.1153011322021484,
          -40.91255569458008,
          45.902042388916016,
          6.793361186981201,
          3.107600450515747,
          6.140190601348877,
          34.88853073120117,
          -1.4596315622329712,
          -0.6329149007797241,
          14.310592651367188,
          -42.8730583190918,
          13.732717514038086,
          58.240814208984375,
          -24.03893280029297,
          2.744985818862915,
          -27.163970947265625,
          -47.188838958740234,
          -48.3383903503418,
          17.105358123779297,
          -39.879451751708984,
          -41.160133361816406,
          23.970022201538086,
          9.856078147888184,
          6.666211128234863,
          4.714202404022217,
          -5.496272087097168,
          33.09090805053711,
          -21.106992721557617,
          53.12518310546875,
          -13.055792808532715,
          52.93526840209961,
          -24.34010887145996,
          -31.768701553344727,
          -1.4953997135162354,
          8.564596176147461,
          -33.018367767333984,
          8.808137893676758,
          31.077848434448242,
          12.048352241516113,
          0.3183407485485077,
          -9.890945434570312,
          -15.486062049865723,
          -47.035640716552734,
          54.93819046020508,
          -6.097285747528076,
          6.932155132293701,
          -40.44507598876953,
          53.750423431396484,
          51.263389587402344,
          -5.2591400146484375,
          30.176679611206055,
          22.697046279907227,
          37.67034149169922,
          -19.570415496826172,
          -36.38985824584961,
          33.38291549682617,
          -42.12808609008789,
          -28.91343879699707,
          -14.05210018157959,
          34.10517120361328,
          -37.15678405761719,
          4.322367191314697,
          -10.011025428771973,
          7.623105525970459,
          -10.130596160888672,
          -20.895418167114258,
          -39.3892707824707,
          1.5655832290649414,
          15.966426849365234,
          -49.74065399169922,
          -6.9174580574035645,
          31.395580291748047,
          21.815725326538086,
          -5.9395599365234375,
          -40.33403778076172,
          6.30399227142334,
          -10.101066589355469,
          3.2339415550231934,
          -5.43952751159668,
          39.55250549316406,
          52.054996490478516,
          -16.96977424621582,
          -46.61668395996094,
          32.245113372802734,
          -40.778236389160156,
          49.27595520019531,
          -34.57997512817383,
          -12.147624969482422,
          58.127586364746094,
          -3.0623538494110107,
          9.997162818908691,
          37.561866760253906,
          -0.7843546271324158,
          -32.102542877197266,
          23.205211639404297,
          -22.092369079589844,
          -5.001163959503174,
          -43.684059143066406,
          36.310302734375,
          41.7303352355957,
          9.200528144836426,
          7.607310771942139,
          -13.811751365661621,
          22.395851135253906,
          29.22944450378418,
          6.12466287612915,
          -36.954002380371094,
          52.99412155151367,
          13.97642707824707,
          12.847774505615234,
          9.619500160217285,
          52.829044342041016,
          12.007976531982422,
          -18.249481201171875,
          -12.196660041809082,
          21.311704635620117,
          11.833843231201172,
          -41.310585021972656,
          52.35778045654297,
          -28.681320190429688,
          -21.194515228271484,
          -24.161893844604492,
          6.092423439025879,
          -43.80562210083008,
          -6.226484298706055,
          56.708744049072266,
          -20.77507209777832,
          -15.473974227905273,
          -4.494050979614258,
          -39.613468170166016,
          19.492374420166016,
          43.011695861816406,
          -4.669679164886475,
          -12.755002975463867,
          -30.985319137573242,
          34.60443878173828,
          -35.58145523071289,
          50.629486083984375,
          -22.05558967590332,
          -13.310210227966309,
          45.0819091796875,
          39.84601974487305,
          -12.511296272277832,
          4.518892765045166,
          13.104762077331543,
          -5.298676490783691,
          -22.152774810791016,
          -31.705888748168945,
          -24.541364669799805,
          12.498766899108887,
          -8.843100547790527,
          -37.067138671875,
          -18.57713508605957,
          51.19839859008789,
          22.79326820373535,
          -20.104202270507812,
          -10.850068092346191,
          50.408233642578125,
          -23.89021110534668,
          -7.531109809875488,
          -49.64628982543945,
          47.24686813354492,
          -10.422086715698242,
          -2.83656644821167,
          30.461713790893555,
          -30.29210662841797,
          44.12306213378906,
          21.928592681884766,
          53.555206298828125,
          -6.990355014801025,
          -24.2122802734375,
          -23.39808464050293,
          -14.900599479675293,
          -44.16030502319336,
          -18.826757431030273,
          27.482479095458984,
          -3.066263198852539,
          4.446686744689941,
          19.99669647216797,
          40.40694046020508,
          -6.876495361328125,
          -26.974157333374023,
          -44.96367645263672,
          -5.125068187713623,
          12.949423789978027,
          -21.98015594482422,
          15.510108947753906,
          -8.986162185668945,
          -8.436573028564453,
          -7.076300144195557,
          12.266608238220215,
          39.792091369628906,
          1.4074113368988037,
          -13.602639198303223,
          -3.607971668243408,
          57.775150299072266,
          -25.45237159729004,
          -4.176551818847656,
          49.140960693359375,
          -11.064835548400879,
          5.269870758056641,
          52.12114334106445,
          -38.4821891784668,
          15.080192565917969,
          1.7133691310882568,
          22.945661544799805,
          -22.82439613342285,
          9.736214637756348,
          -6.352559566497803,
          -18.951181411743164,
          -7.011746406555176,
          7.053524494171143,
          -40.8060302734375,
          -24.475278854370117,
          -4.811153411865234,
          -12.44294548034668,
          -12.227407455444336,
          -35.472408294677734,
          43.24933624267578,
          12.128613471984863,
          9.246957778930664,
          -16.529296875,
          -33.2156982421875,
          58.72327423095703,
          -19.499032974243164,
          -7.348833084106445,
          -5.621160984039307,
          -15.897329330444336,
          56.81779098510742,
          40.390323638916016,
          -22.125566482543945,
          -11.352828979492188,
          -38.77915954589844,
          32.93896484375,
          19.99480438232422,
          7.663450717926025,
          1.9418865442276,
          58.251060485839844,
          -0.23081709444522858,
          -4.679612636566162,
          28.824893951416016,
          -0.6437375545501709,
          -18.135452270507812,
          -20.55391502380371,
          -5.107476711273193,
          -22.43250274658203,
          -13.15101146697998,
          -17.64801788330078,
          -28.315332412719727,
          -6.827109336853027,
          54.56380081176758,
          55.55799865722656,
          9.335183143615723,
          51.60814666748047,
          -8.47488784790039,
          -22.46062469482422,
          -23.781513214111328,
          -6.468119144439697,
          25.566797256469727,
          43.2254753112793,
          -18.13878631591797,
          16.490671157836914,
          11.276246070861816,
          -19.725788116455078,
          35.54830551147461,
          -29.29648780822754,
          -8.811474800109863,
          -3.114238977432251,
          -5.789451599121094,
          -0.0027127028442919254,
          -28.585161209106445,
          10.2776460647583,
          42.01534652709961,
          39.97922134399414,
          -28.672792434692383,
          -43.2000617980957,
          53.342350006103516,
          39.59230041503906,
          -7.846909523010254,
          -2.4733707904815674,
          6.111001014709473,
          -45.55524444580078,
          -9.223594665527344,
          41.76557540893555,
          -7.279413223266602,
          -44.70978546142578,
          42.22739791870117,
          12.082634925842285,
          48.27678680419922,
          -18.777889251708984,
          -11.312314987182617,
          -47.79023742675781,
          15.108719825744629,
          -24.14750862121582,
          -40.654083251953125,
          50.662025451660156,
          -10.170321464538574,
          40.99575424194336,
          23.494291305541992,
          -47.3953971862793,
          15.919271469116211,
          47.42304992675781,
          -0.6899842619895935,
          -27.95765495300293,
          21.395719528198242,
          20.20026969909668,
          36.477561950683594,
          -20.571718215942383,
          38.37299728393555,
          -10.816998481750488,
          -34.11170196533203,
          -0.6408562064170837,
          4.846721649169922,
          -20.902198791503906,
          3.3636245727539062,
          -10.610058784484863,
          -9.926674842834473,
          9.050127983093262,
          47.1800422668457,
          -6.973424434661865,
          1.8943586349487305,
          -4.204893112182617,
          21.48797607421875,
          44.78508377075195,
          41.721473693847656,
          -24.550411224365234,
          52.78227615356445,
          -14.92717170715332,
          -28.518165588378906,
          -41.57902908325195,
          -5.7262115478515625,
          -3.913283109664917,
          19.342958450317383,
          24.46082878112793,
          52.79865646362305,
          -38.64979934692383,
          -2.8910841941833496,
          5.471993923187256,
          7.426297664642334,
          -49.22344970703125,
          54.298213958740234,
          -23.115234375,
          -23.249000549316406,
          2.3751680850982666,
          42.57772445678711,
          5.889569282531738,
          5.865955829620361,
          -7.4840312004089355,
          28.082326889038086,
          -44.28622055053711,
          13.824210166931152,
          53.51975631713867,
          32.29197311401367,
          14.087157249450684,
          50.2535400390625,
          -6.633086204528809,
          -46.3547477722168,
          -35.032833099365234,
          -24.618383407592773,
          -18.84646224975586,
          51.088661193847656,
          -8.315061569213867,
          -25.647703170776367,
          58.999122619628906,
          -36.467262268066406,
          -5.9947309494018555,
          16.621732711791992,
          12.738923072814941,
          -29.997737884521484,
          32.98876190185547,
          -4.6054301261901855,
          -43.201717376708984,
          -2.5124499797821045,
          -6.280756950378418,
          -45.98484802246094,
          14.27376651763916,
          -45.527198791503906,
          12.979206085205078,
          5.851377487182617,
          -6.655725955963135,
          -44.8405876159668,
          52.83319091796875,
          6.485955238342285,
          -3.646974563598633,
          6.912705898284912,
          -17.68546485900879,
          -24.248001098632812,
          2.7026588916778564,
          -45.867164611816406,
          25.44148826599121,
          54.0411262512207,
          -29.143918991088867,
          -24.386056900024414,
          -6.482285976409912,
          48.49235534667969,
          -20.42974853515625,
          59.3236198425293,
          -21.669063568115234,
          0.015549000352621078,
          -7.774364471435547,
          -38.66958236694336,
          -38.906105041503906,
          -8.90466594696045,
          29.18906593322754,
          46.907470703125,
          28.63959312438965,
          28.86771011352539,
          -1.6412606239318848,
          -0.21472525596618652,
          32.087913513183594,
          -17.668397903442383,
          -24.834659576416016,
          27.500654220581055,
          -22.496017456054688,
          -5.268311023712158,
          -9.947300910949707,
          -0.9140157699584961,
          -24.886199951171875,
          32.61915969848633,
          35.71357727050781,
          35.154327392578125,
          -6.922332763671875,
          -4.516899108886719,
          -24.054832458496094,
          12.020511627197266,
          -24.045133590698242,
          -30.617263793945312,
          46.05480194091797,
          -6.387187480926514,
          -47.2034797668457,
          6.783430099487305,
          25.762073516845703,
          -13.48751449584961,
          -14.728150367736816,
          -26.30702018737793,
          0.217092365026474,
          7.051682949066162,
          -26.248626708984375,
          -45.91327667236328,
          -34.97559356689453,
          -14.689048767089844,
          37.524208068847656,
          47.55432891845703,
          -29.395355224609375,
          22.808032989501953,
          -46.57337188720703,
          -31.77044677734375,
          -46.84700012207031,
          -9.82515811920166,
          50.0188102722168,
          -10.006954193115234,
          51.60646057128906,
          -4.107322692871094,
          -4.104899883270264,
          29.19241714477539,
          -21.00078773498535,
          23.3488826751709,
          -26.46784019470215,
          27.116680145263672,
          22.746044158935547,
          -17.171642303466797,
          -3.638246774673462,
          -8.209970474243164,
          -40.57699203491211,
          54.693660736083984,
          24.0621395111084,
          -17.062076568603516,
          16.28816032409668,
          -44.512996673583984,
          -10.127102851867676,
          30.120121002197266,
          10.095083236694336,
          6.610888481140137,
          37.308074951171875,
          -8.849591255187988,
          19.06495475769043,
          45.015228271484375,
          -5.486189842224121,
          -14.041616439819336,
          29.801124572753906,
          20.520103454589844,
          27.299461364746094,
          31.83823013305664,
          45.27287292480469,
          26.79724884033203,
          57.14106369018555,
          22.588117599487305,
          52.23588562011719,
          -16.1134033203125,
          40.185935974121094,
          2.6880850791931152,
          -23.97369956970215,
          5.9510416984558105,
          -31.340152740478516,
          -28.691160202026367,
          51.64895248413086,
          -15.152718544006348,
          -6.649744987487793,
          -50.14775466918945,
          -23.611167907714844,
          46.13249588012695,
          -31.836244583129883,
          -15.371809959411621,
          -48.57401657104492,
          -30.624958038330078,
          -21.04658317565918,
          -31.60175895690918,
          6.487527847290039,
          -13.93991756439209,
          32.87392807006836,
          -29.09454345703125,
          48.64387893676758,
          -22.688051223754883,
          13.434724807739258,
          53.45009994506836,
          31.22816276550293,
          1.0127614736557007,
          -5.857522964477539,
          7.495119571685791,
          28.489091873168945,
          51.609947204589844,
          49.926937103271484,
          15.034770011901855,
          15.367949485778809,
          -8.432276725769043,
          12.342521667480469,
          -7.875796794891357,
          -8.58749771118164,
          -21.76378631591797,
          23.620676040649414,
          34.23823547363281,
          5.643960952758789,
          46.83413314819336,
          22.645029067993164,
          44.43342208862305,
          3.0515942573547363,
          33.359615325927734,
          11.11329174041748,
          -16.248804092407227,
          -25.8364315032959,
          -1.6440812349319458,
          -24.013978958129883,
          -33.873268127441406,
          8.826664924621582,
          4.224747657775879,
          -43.770347595214844,
          -32.16542053222656,
          40.876258850097656,
          55.1263427734375,
          -10.88683795928955,
          24.417457580566406,
          49.686988830566406,
          -49.68989944458008,
          36.04232406616211,
          36.12161636352539,
          5.257006645202637,
          54.2890625,
          -0.487456738948822,
          -14.511201858520508,
          59.2253532409668,
          -31.44355583190918,
          6.233558177947998,
          -14.93907356262207,
          43.66820526123047,
          -19.32967185974121,
          -16.083663940429688,
          19.5664005279541,
          1.9751194715499878,
          -6.604207515716553,
          59.5311164855957,
          -24.72294044494629,
          51.3478889465332,
          21.20931053161621,
          -38.81669616699219,
          -16.51458168029785,
          -0.8296567797660828,
          -23.657337188720703,
          -11.544482231140137,
          -18.212642669677734,
          -47.24360656738281,
          2.9347026348114014,
          -14.270694732666016,
          12.196246147155762,
          -0.031158199533820152,
          -13.072627067565918,
          -30.560009002685547,
          -37.87236404418945,
          -19.601652145385742,
          -1.8400808572769165,
          -30.394893646240234,
          -44.97550964355469,
          -7.412333011627197,
          19.779850006103516,
          55.311336517333984,
          -34.54362106323242,
          1.5188101530075073,
          -44.862770080566406,
          46.284645080566406,
          -30.734298706054688,
          44.76166915893555,
          -28.387178421020508,
          39.820213317871094,
          -29.709047317504883,
          -49.235355377197266,
          -40.20974349975586,
          -46.914695739746094,
          6.79970121383667,
          3.015730619430542,
          -16.599502563476562,
          43.7287483215332,
          -29.403106689453125,
          56.95292282104492,
          43.1873664855957,
          -39.892181396484375,
          54.74766540527344,
          51.637935638427734,
          -30.257225036621094,
          -20.454784393310547,
          38.55385208129883,
          -39.09223937988281,
          55.07081604003906,
          29.85312843322754,
          -22.940900802612305,
          -19.820972442626953,
          16.37049102783203,
          57.02035903930664,
          10.43117904663086,
          26.454627990722656,
          -35.41102981567383,
          -30.612524032592773,
          2.949490547180176,
          -40.67128372192383,
          52.68258285522461,
          43.50487518310547,
          43.60662841796875,
          -2.367021083831787,
          18.457115173339844,
          35.75581741333008,
          46.354923248291016,
          48.57810592651367,
          -13.588797569274902,
          -22.176105499267578,
          50.84962463378906,
          53.08911895751953,
          25.234195709228516,
          -40.90464782714844,
          -37.187625885009766,
          -33.74369812011719,
          34.24851608276367,
          16.30507469177246,
          16.154314041137695,
          -33.19728469848633,
          24.825714111328125,
          5.993546485900879,
          7.22761869430542,
          11.718152046203613,
          34.27841567993164,
          -15.142058372497559,
          -12.849011421203613,
          14.588335037231445,
          15.367354393005371,
          26.63237953186035,
          -0.8891869783401489,
          -41.58913040161133,
          53.33586502075195,
          -33.723487854003906,
          40.313785552978516,
          26.772504806518555,
          22.960723876953125,
          2.409834384918213,
          3.66304874420166,
          2.6376593112945557,
          31.962766647338867,
          -1.819783329963684,
          24.4350528717041,
          -0.6844920516014099,
          -18.151350021362305,
          -29.105051040649414,
          -13.48716926574707,
          26.02166175842285,
          -17.605487823486328,
          24.967607498168945,
          33.34147262573242,
          -48.20417022705078,
          -36.84385299682617,
          -10.481066703796387,
          33.147796630859375,
          2.2683680057525635,
          11.986658096313477,
          16.403608322143555,
          57.92195510864258,
          28.950963973999023,
          -2.826808452606201,
          37.83796310424805,
          -10.295565605163574,
          -7.673266410827637,
          -13.700387954711914,
          22.22915267944336,
          36.937889099121094,
          46.50559616088867,
          -28.973800659179688,
          21.138017654418945,
          -37.97312927246094,
          4.314157485961914,
          -18.564973831176758,
          -23.912572860717773,
          35.71003341674805,
          53.32585525512695,
          -33.7496337890625,
          49.995269775390625,
          52.129295349121094,
          -12.78516960144043,
          -15.678521156311035,
          -27.05689811706543,
          45.490604400634766,
          -33.48512268066406,
          45.591094970703125,
          14.541738510131836,
          40.6640510559082,
          -5.9144086837768555,
          21.961408615112305,
          20.114198684692383,
          58.23614501953125,
          -22.5961856842041,
          35.40745162963867,
          -50.10958480834961,
          -35.93911361694336,
          46.14418411254883,
          -22.70734977722168,
          -18.78886604309082,
          9.000056266784668,
          -27.587688446044922,
          -5.964963436126709,
          -43.535240173339844,
          16.672468185424805,
          -17.098833084106445,
          11.452449798583984,
          -5.757206916809082,
          -12.680925369262695,
          -2.9794185161590576,
          19.828510284423828,
          27.9454288482666,
          -10.56345272064209,
          -42.16501235961914,
          -33.99641036987305,
          9.91594409942627,
          54.30405807495117,
          15.506491661071777,
          -33.39765167236328,
          59.7933464050293,
          -11.167215347290039,
          -16.62709617614746,
          -27.53827667236328,
          -3.249220609664917,
          -48.01420211791992,
          53.83216094970703,
          -23.05588150024414,
          17.265005111694336,
          -30.052358627319336,
          6.149362564086914,
          -11.792133331298828,
          -16.543188095092773,
          25.099773406982422,
          2.7637524604797363,
          -32.20979309082031,
          -15.262919425964355,
          -50.37379455566406,
          -0.08733168244361877,
          -24.44826889038086,
          16.317323684692383,
          53.16416549682617,
          -15.379557609558105,
          45.89868927001953,
          57.03761672973633,
          14.851401329040527,
          49.150630950927734,
          2.7052001953125,
          -27.635374069213867,
          -18.68412208557129,
          48.65458297729492,
          -29.230552673339844,
          -8.357697486877441,
          -10.731181144714355,
          54.40766143798828,
          -32.653900146484375,
          46.5870361328125,
          -33.6903190612793,
          1.597398281097412,
          58.74756622314453,
          -45.874996185302734,
          28.414108276367188,
          -0.06385299563407898,
          -34.98244094848633,
          -30.396778106689453,
          -23.601057052612305,
          52.546390533447266,
          -21.529294967651367,
          12.70108413696289,
          13.84045696258545,
          -16.837989807128906,
          -7.824697494506836,
          -14.594738006591797,
          2.680840253829956,
          -9.990410804748535,
          15.787610054016113,
          -1.2570692300796509,
          25.448030471801758,
          22.802547454833984,
          22.383718490600586,
          8.341076850891113,
          -14.591439247131348,
          23.994699478149414,
          45.503761291503906,
          24.18968391418457,
          -18.11831283569336,
          -6.008341312408447,
          30.076295852661133,
          31.139789581298828,
          7.325993537902832,
          12.313529968261719,
          43.67113494873047,
          23.587303161621094,
          -21.826797485351562,
          8.297852516174316,
          -5.557865619659424,
          18.613895416259766,
          45.6308708190918,
          -9.77225112915039,
          22.78721809387207,
          19.99117660522461,
          20.85829734802246,
          3.3277547359466553,
          14.783262252807617,
          12.174714088439941,
          10.719608306884766,
          28.803247451782227,
          15.700166702270508,
          -26.195676803588867,
          20.75613784790039,
          27.7375431060791,
          55.05837631225586,
          53.02388381958008,
          11.286704063415527,
          -17.446456909179688,
          -13.146281242370605,
          20.70784568786621,
          -17.611982345581055,
          7.780877113342285,
          2.1563613414764404,
          25.286128997802734,
          -11.951499938964844,
          -38.508609771728516,
          17.19312858581543,
          8.960074424743652,
          -9.348226547241211,
          4.0245537757873535,
          -11.486571311950684,
          -39.580841064453125,
          9.109780311584473,
          19.333297729492188,
          11.11952018737793,
          23.061119079589844,
          8.38686752319336,
          1.4069335460662842,
          27.09166145324707,
          -16.490745544433594,
          18.84824562072754,
          -4.159443378448486,
          22.262184143066406,
          14.722936630249023,
          2.5411124229431152,
          -9.245549201965332,
          52.6236572265625,
          20.247882843017578,
          7.253068447113037,
          9.045226097106934,
          52.86549377441406,
          -5.142122268676758,
          -17.127704620361328,
          9.300482749938965,
          50.87551498413086,
          -20.4664249420166,
          -6.511593341827393,
          13.644447326660156,
          5.865976333618164,
          3.8934531211853027,
          -5.904944896697998,
          23.99139976501465,
          5.385180473327637,
          -13.285094261169434,
          -7.971405029296875,
          5.257006645202637,
          -17.68546485900879,
          -18.451566696166992,
          -24.222585678100586,
          -20.97931671142578,
          3.6044020652770996,
          5.38104248046875,
          -21.697317123413086,
          15.923871994018555,
          13.567035675048828,
          -9.647150993347168,
          6.006525993347168,
          0.0039028157480061054,
          27.65729331970215,
          16.011816024780273,
          50.904541015625,
          -13.958822250366211,
          3.063587188720703,
          7.263759613037109,
          3.971034288406372,
          41.67292785644531,
          15.748766899108887,
          -18.36212730407715,
          7.413882732391357,
          8.701080322265625,
          26.443004608154297,
          2.4186582565307617,
          6.6494927406311035,
          -12.635196685791016,
          23.96207618713379,
          9.016712188720703,
          -18.62639045715332,
          42.330970764160156,
          54.66889572143555,
          -11.39874267578125,
          -12.793933868408203,
          -8.544682502746582,
          49.64357376098633,
          7.532449245452881,
          26.269472122192383,
          26.173133850097656,
          8.322343826293945,
          -22.016847610473633,
          10.769424438476562,
          -11.344419479370117,
          -10.10824203491211,
          -22.22809600830078,
          -0.005014529451727867,
          40.165931701660156,
          8.598837852478027,
          -0.5904117226600647,
          8.204548835754395,
          -9.786954879760742,
          18.237308502197266,
          20.174623489379883,
          13.567035675048828,
          3.6044020652770996,
          -11.344419479370117,
          26.2210636138916,
          15.894338607788086,
          0.0039028157480061054,
          5.3810200691223145,
          -0.005191135220229626,
          -13.958822250366211,
          -43.36085891723633,
          -18.626367568969727,
          -9.647150993347168,
          -22.22810935974121,
          -20.628061294555664,
          -8.343953132629395,
          -0.29473423957824707,
          15.748766899108887,
          13.344043731689453,
          25.232316970825195,
          10.76942253112793,
          8.204548835754395,
          -38.248069763183594,
          16.533374786376953,
          3.9709367752075195,
          -35.539913177490234,
          -20.615493774414062,
          -40.77207565307617,
          -18.218576431274414,
          -31.514387130737305,
          -18.079259872436523,
          16.43141746520996,
          -26.736980438232422,
          2.6727914810180664,
          -17.22525405883789,
          7.263759613037109,
          -20.704198837280273,
          -19.603303909301758,
          -7.993995666503906,
          -34.06336975097656,
          -19.86610221862793,
          -0.49423545598983765,
          1.6935184001922607,
          4.032670497894287,
          -37.81311798095703,
          4.191847801208496,
          -0.5421018004417419,
          43.057029724121094,
          42.93136978149414,
          33.72532272338867,
          11.775869369506836,
          15.315092086791992,
          23.60701560974121,
          -9.919143676757812,
          -14.086772918701172,
          -16.991065979003906,
          2.739560842514038,
          5.594807147979736,
          3.210860252380371,
          -43.69830322265625,
          2.4186582565307617,
          -13.755431175231934,
          -14.438020706176758,
          -44.34494400024414,
          4.9770002365112305,
          -9.014243125915527,
          6.36919641494751,
          -37.89921188354492,
          -12.672856330871582,
          -9.0780029296875,
          13.227328300476074,
          29.307714462280273,
          -12.038054466247559,
          3.107600450515747,
          -3.98834228515625,
          -45.57358169555664,
          -10.365178108215332,
          7.160603046417236,
          16.475135803222656,
          25.905393600463867,
          -45.110267639160156,
          5.274593353271484,
          15.49473762512207,
          -19.774351119995117,
          0.4146459102630615,
          -8.938922882080078,
          -29.774843215942383,
          -9.162898063659668,
          -10.105639457702637,
          -22.803016662597656,
          51.350189208984375,
          42.07981491088867,
          29.07379722595215,
          -13.04987621307373,
          -19.103673934936523,
          -35.148738861083984,
          12.9173002243042,
          31.116424560546875,
          14.139654159545898,
          26.880624771118164,
          25.489381790161133,
          -23.657075881958008,
          -0.1482185572385788,
          -20.205617904663086,
          -38.954166412353516,
          -38.0395622253418,
          -37.46133804321289,
          -6.868284702301025,
          -25.519372940063477,
          -27.048809051513672,
          -14.54800033569336,
          -37.913997650146484,
          -29.23025131225586,
          -16.872333526611328,
          -0.9701248407363892,
          -21.701921463012695,
          -24.629974365234375,
          -7.6159563064575195,
          3.4263525009155273,
          -37.18815231323242,
          -20.238859176635742,
          -18.816255569458008,
          -21.520660400390625,
          -46.71709442138672,
          -46.46284103393555,
          -27.096904754638672,
          -8.23820686340332,
          -16.061119079589844,
          -46.838661193847656,
          -43.677127838134766,
          -22.176706314086914,
          -45.368324279785156,
          -18.280847549438477,
          -14.750750541687012,
          -6.045000076293945,
          26.820350646972656,
          -36.590084075927734,
          -42.192588806152344,
          -5.0901899337768555,
          4.125861644744873,
          -26.359622955322266,
          -36.176517486572266,
          -15.446012496948242,
          -39.046051025390625,
          -25.45209503173828,
          -32.44750213623047,
          -23.591745376586914,
          -23.63747215270996,
          9.732895851135254,
          -30.98824119567871,
          -35.307228088378906,
          -24.11429786682129,
          -22.836109161376953,
          -38.98399353027344,
          -9.208877563476562,
          -30.06133270263672,
          -3.184046745300293,
          9.82305908203125,
          -19.65824317932129,
          10.58975601196289,
          -33.74073791503906,
          -49.84492111206055,
          -24.649307250976562,
          -43.373382568359375,
          -20.390169143676758,
          12.519743919372559,
          -44.139930725097656,
          -29.35984230041504,
          13.002420425415039,
          -36.0814323425293,
          -43.755126953125,
          -44.643455505371094,
          -17.228181838989258,
          -45.188209533691406,
          -39.317298889160156,
          -39.97208023071289,
          -32.634925842285156,
          -26.076892852783203,
          -31.338428497314453,
          -40.75408935546875,
          -26.46127700805664,
          2.6959991455078125,
          -33.072757720947266,
          -39.151798248291016,
          -30.538728713989258,
          -44.36557388305664,
          -42.15364074707031,
          -19.193389892578125,
          -35.45096969604492,
          -23.350507736206055,
          17.608827590942383,
          -21.670164108276367,
          -42.68079376220703,
          -15.888362884521484,
          -37.51364517211914,
          -47.34844207763672,
          -43.215187072753906,
          -27.4471378326416,
          26.676952362060547,
          -18.88270378112793,
          25.410781860351562,
          5.388095378875732,
          -14.617136001586914,
          -41.108978271484375,
          -19.091960906982422,
          -38.5152702331543,
          -33.7613410949707,
          8.673883438110352,
          -26.306699752807617,
          -41.64107894897461,
          -40.066585540771484,
          -34.25651550292969,
          -34.24919891357422,
          3.8344333171844482,
          3.9431867599487305,
          -39.0589485168457,
          -28.040042877197266,
          -38.8805046081543,
          -29.550952911376953,
          9.072174072265625,
          10.68603515625,
          6.1539387702941895,
          -24.504240036010742,
          -44.53823471069336,
          -25.603240966796875,
          -46.686832427978516,
          -38.98872375488281,
          7.248465061187744,
          44.76786422729492,
          -29.010112762451172,
          -39.7951545715332,
          -15.811537742614746,
          34.02861404418945,
          -46.93326950073242,
          -43.47503662109375,
          -25.879247665405273,
          -47.581485748291016,
          -37.247066497802734,
          24.08424186706543,
          5.532896041870117,
          14.862380981445312,
          -34.66744613647461,
          -41.882957458496094,
          -45.59878921508789,
          -26.467588424682617,
          -25.635541915893555,
          -22.207176208496094,
          -21.640583038330078,
          -20.402956008911133,
          -45.78901672363281,
          -45.199928283691406,
          -16.56153678894043,
          16.624643325805664,
          -24.274595260620117,
          -12.252763748168945,
          -42.45765686035156,
          -8.281469345092773,
          -17.103055953979492,
          -15.213624000549316,
          -14.490447044372559,
          -14.330660820007324,
          -18.540834426879883,
          8.453828811645508,
          -13.557827949523926,
          15.494974136352539,
          13.33175277709961,
          -14.975144386291504,
          16.7220401763916,
          -19.163917541503906,
          11.273695945739746,
          -44.10920715332031,
          -0.15810631215572357,
          4.6653923988342285,
          -10.840017318725586,
          -5.609101295471191,
          -42.920597076416016,
          14.589715003967285,
          -16.1742000579834,
          -21.826791763305664,
          -13.567639350891113,
          5.4322829246521,
          -36.56440353393555,
          6.173401832580566,
          -27.19542121887207,
          17.2016658782959,
          12.99721622467041,
          -19.06136703491211,
          -43.450836181640625,
          -21.520029067993164,
          -38.52876663208008,
          8.531542778015137,
          14.26857852935791,
          -25.898921966552734,
          -19.79627227783203,
          -39.0726432800293,
          -20.75577163696289,
          -16.181690216064453,
          -27.850658416748047,
          23.94232177734375,
          -28.681324005126953,
          4.9291229248046875,
          36.741615295410156,
          27.65738296508789,
          17.70769691467285,
          19.45091438293457,
          -15.439654350280762,
          32.3365364074707,
          -37.200035095214844,
          -12.31138801574707,
          18.11233901977539,
          3.772549629211426,
          18.226770401000977,
          -8.095309257507324,
          -24.816646575927734,
          5.858942985534668,
          -23.064279556274414,
          5.862663745880127,
          6.284168243408203,
          -22.436994552612305,
          -7.3058624267578125,
          0.8791905045509338,
          -23.693634033203125,
          4.480777263641357,
          20.008785247802734,
          -9.875493049621582,
          20.06131935119629,
          11.16619873046875,
          43.415409088134766,
          2.905205726623535,
          -22.503450393676758,
          19.81301498413086,
          -25.954137802124023,
          -44.504173278808594,
          -1.957313060760498,
          23.731407165527344,
          -16.468460083007812,
          6.934425354003906,
          -33.96064758300781,
          -49.0336799621582,
          8.637748718261719,
          -16.92290687561035,
          5.365299224853516,
          -16.29266929626465,
          -22.943391799926758,
          -10.940896034240723,
          -6.640345096588135,
          10.955058097839355,
          -42.973777770996094,
          -37.890106201171875,
          -16.20071029663086,
          53.29713439941406,
          5.4876203536987305,
          8.701080322265625,
          35.18402862548828,
          3.61042857170105,
          -32.193817138671875
         ],
         "xaxis": "x",
         "y": [
          3.9718446731567383,
          6.968015670776367,
          -29.253101348876953,
          -28.03000831604004,
          22.33074378967285,
          39.045204162597656,
          12.094512939453125,
          20.013681411743164,
          9.622298240661621,
          24.23954963684082,
          30.935440063476562,
          13.91772174835205,
          -35.02032470703125,
          -34.05043411254883,
          -37.85527420043945,
          -5.472810745239258,
          7.799748420715332,
          23.824281692504883,
          -44.5336799621582,
          -40.679771423339844,
          11.343167304992676,
          5.382105350494385,
          -28.657909393310547,
          29.739839553833008,
          -8.7647066116333,
          23.745704650878906,
          28.108169555664062,
          0.2812284827232361,
          -13.235015869140625,
          -31.911951065063477,
          22.81064796447754,
          14.704449653625488,
          -43.47188186645508,
          6.354824542999268,
          5.810197353363037,
          25.033296585083008,
          19.988985061645508,
          -6.628427028656006,
          19.81768226623535,
          -44.181678771972656,
          -28.210527420043945,
          24.74445343017578,
          -39.76868438720703,
          8.593084335327148,
          38.783199310302734,
          32.9139289855957,
          -10.77596664428711,
          -13.276190757751465,
          -20.986507415771484,
          -40.995933532714844,
          31.219219207763672,
          29.806852340698242,
          -2.39102840423584,
          10.874216079711914,
          10.423401832580566,
          -28.051475524902344,
          10.9833345413208,
          3.382568359375,
          -42.25890350341797,
          31.689348220825195,
          1.1917152404785156,
          -33.90385437011719,
          -1.4430201053619385,
          9.397507667541504,
          -10.597146034240723,
          18.34042739868164,
          -38.10586929321289,
          -35.41146469116211,
          22.64845085144043,
          -33.69914627075195,
          6.781312942504883,
          -5.5945515632629395,
          -8.31181812286377,
          -19.354393005371094,
          30.899057388305664,
          13.00568675994873,
          6.168520450592041,
          13.952030181884766,
          5.152137279510498,
          14.113261222839355,
          -0.5458875298500061,
          21.020015716552734,
          -5.740592002868652,
          22.095592498779297,
          -31.936445236206055,
          -25.55217170715332,
          -33.04681396484375,
          -31.665355682373047,
          32.63054275512695,
          -16.951763153076172,
          -34.31826400756836,
          10.824097633361816,
          -7.99506139755249,
          26.71954345703125,
          -2.2089130878448486,
          -5.883005619049072,
          0.20645833015441895,
          9.889627456665039,
          31.204336166381836,
          -33.42317581176758,
          -43.064964294433594,
          0.3310105502605438,
          2.634772777557373,
          -10.780084609985352,
          11.115365028381348,
          18.427095413208008,
          -3.5433268547058105,
          15.814600944519043,
          31.041715621948242,
          7.439544200897217,
          6.777796745300293,
          24.499664306640625,
          -35.677982330322266,
          5.6278486251831055,
          6.938426494598389,
          -6.999508380889893,
          -32.18328094482422,
          32.320858001708984,
          -4.143133640289307,
          17.36197853088379,
          36.77897262573242,
          -6.764694690704346,
          7.313896656036377,
          18.2734432220459,
          41.1197624206543,
          39.42560577392578,
          -8.762892723083496,
          -35.25406265258789,
          21.273590087890625,
          18.03252601623535,
          -40.31816101074219,
          -20.910036087036133,
          30.031177520751953,
          28.16431427001953,
          -41.65566635131836,
          -5.932417392730713,
          10.127324104309082,
          23.271888732910156,
          -2.0422170162200928,
          6.408608436584473,
          21.975751876831055,
          -20.9268798828125,
          -24.068435668945312,
          23.851112365722656,
          -32.50198745727539,
          6.917502403259277,
          -2.8873395919799805,
          25.00410270690918,
          -7.1422038078308105,
          0.7201032638549805,
          24.621213912963867,
          -40.045753479003906,
          -35.983062744140625,
          -19.247806549072266,
          21.872533798217773,
          19.368160247802734,
          -37.602508544921875,
          16.716196060180664,
          34.00052261352539,
          38.01688003540039,
          7.1215081214904785,
          6.258251190185547,
          38.95934295654297,
          23.90936851501465,
          -7.050779819488525,
          14.399297714233398,
          20.443492889404297,
          -33.34931564331055,
          -1.4584413766860962,
          -33.39126205444336,
          -40.35726547241211,
          25.9334774017334,
          21.297544479370117,
          5.461546897888184,
          31.51792335510254,
          16.27590560913086,
          40.05890655517578,
          3.278632640838623,
          15.205554008483887,
          38.42616653442383,
          38.366127014160156,
          23.06268310546875,
          -26.28770637512207,
          -31.255464553833008,
          -25.140213012695312,
          14.316842079162598,
          28.412614822387695,
          6.17552375793457,
          12.581535339355469,
          15.246491432189941,
          7.023165225982666,
          23.483844757080078,
          -20.99773597717285,
          5.137571334838867,
          -2.779676675796509,
          28.64314079284668,
          20.899612426757812,
          37.459075927734375,
          30.73187255859375,
          5.143492221832275,
          -47.3802604675293,
          29.19174575805664,
          3.313938856124878,
          41.31804275512695,
          10.234671592712402,
          20.846736907958984,
          18.109907150268555,
          10.943385124206543,
          -8.17719841003418,
          23.678993225097656,
          -36.7732048034668,
          2.0336668491363525,
          18.597551345825195,
          31.716184616088867,
          -37.87376022338867,
          11.756231307983398,
          -35.24793243408203,
          15.610396385192871,
          -42.940467834472656,
          -0.34399840235710144,
          8.68547248840332,
          26.439807891845703,
          -46.4383659362793,
          28.50023078918457,
          -22.574169158935547,
          -12.149588584899902,
          29.168996810913086,
          -4.118660926818848,
          38.91738510131836,
          37.46714782714844,
          5.357772350311279,
          -4.910311698913574,
          -12.407013893127441,
          -18.558340072631836,
          -39.724021911621094,
          25.08746910095215,
          14.045215606689453,
          9.872870445251465,
          30.99921226501465,
          -6.046957492828369,
          41.13718032836914,
          -13.471034049987793,
          9.81847095489502,
          -6.960577964782715,
          32.94192886352539,
          -47.39570999145508,
          -12.74452018737793,
          -44.377498626708984,
          7.188816070556641,
          -23.85438346862793,
          7.869070053100586,
          -7.8666510581970215,
          -16.53415298461914,
          25.42350196838379,
          12.75014877319336,
          11.2559814453125,
          -11.931953430175781,
          -36.458621978759766,
          -0.7419268488883972,
          -31.05526351928711,
          11.128533363342285,
          25.064958572387695,
          -2.2286694049835205,
          26.377601623535156,
          -2.1926074028015137,
          -37.79012680053711,
          -8.853256225585938,
          -3.0929839611053467,
          -12.652203559875488,
          18.031064987182617,
          -32.52873992919922,
          -33.71736145019531,
          -10.010890007019043,
          0.481799453496933,
          -42.50727844238281,
          -48.002689361572266,
          -31.238155364990234,
          3.7626445293426514,
          22.303377151489258,
          -15.21123218536377,
          0.4133193790912628,
          5.7663421630859375,
          -15.597309112548828,
          -9.514348983764648,
          3.056957960128784,
          19.115365982055664,
          -27.06476593017578,
          9.14195442199707,
          34.57807159423828,
          21.084054946899414,
          -9.057077407836914,
          -22.22207260131836,
          26.496597290039062,
          -20.277437210083008,
          38.375911712646484,
          29.883211135864258,
          18.21427345275879,
          12.405535697937012,
          4.458711624145508,
          29.85980224609375,
          -0.7701852917671204,
          -13.198847770690918,
          -43.27045440673828,
          5.380819797515869,
          7.95550537109375,
          -46.05778884887695,
          -6.559012413024902,
          -21.26653480529785,
          -22.2478084564209,
          3.406869411468506,
          22.500225067138672,
          -34.07218551635742,
          18.875661849975586,
          -44.988887786865234,
          29.78047752380371,
          -38.8508415222168,
          6.765940189361572,
          -43.201045989990234,
          -14.147066116333008,
          -23.998693466186523,
          -44.841827392578125,
          -12.934701919555664,
          16.288541793823242,
          -23.315654754638672,
          -9.312640190124512,
          -29.988292694091797,
          30.207256317138672,
          -32.47747802734375,
          16.391225814819336,
          -4.418209075927734,
          -37.53110885620117,
          12.043859481811523,
          9.278783798217773,
          10.802231788635254,
          -3.359424114227295,
          -3.909989833831787,
          -6.395091533660889,
          7.214794635772705,
          5.403808116912842,
          42.68765640258789,
          -36.46565628051758,
          26.44875144958496,
          -38.460304260253906,
          -14.994792938232422,
          25.491464614868164,
          20.648733139038086,
          25.265098571777344,
          -0.4171420931816101,
          19.845129013061523,
          -42.972930908203125,
          -2.750265598297119,
          -36.68701934814453,
          -13.172613143920898,
          -3.4218969345092773,
          30.332500457763672,
          24.154470443725586,
          -7.772899150848389,
          -44.41078186035156,
          -34.5456657409668,
          -33.692630767822266,
          18.55936622619629,
          -30.293222427368164,
          -1.1509268283843994,
          2.0564417839050293,
          -14.048910140991211,
          6.678680896759033,
          22.89817237854004,
          -19.575641632080078,
          -8.457324981689453,
          -2.5283851623535156,
          28.142026901245117,
          -0.05375732481479645,
          21.137531280517578,
          39.47581100463867,
          -39.42601776123047,
          20.28367042541504,
          3.0095772743225098,
          -0.5627427697181702,
          11.879891395568848,
          2.9263250827789307,
          -25.086441040039062,
          1.6885480880737305,
          -16.220951080322266,
          9.598783493041992,
          -21.702363967895508,
          -36.290000915527344,
          4.302698135375977,
          -37.89547348022461,
          10.347526550292969,
          28.0117244720459,
          30.604572296142578,
          11.68266773223877,
          -24.150978088378906,
          -15.074151992797852,
          -16.366893768310547,
          29.37364959716797,
          -21.235395431518555,
          28.141332626342773,
          25.042821884155273,
          -1.9610702991485596,
          37.17224884033203,
          42.91083908081055,
          8.363856315612793,
          9.05772590637207,
          -47.210655212402344,
          -4.97428560256958,
          -1.9735490083694458,
          14.724626541137695,
          25.574462890625,
          0.6726803779602051,
          8.95907974243164,
          14.182281494140625,
          2.071281909942627,
          2.72314715385437,
          9.76561450958252,
          12.514216423034668,
          -30.99734115600586,
          21.05093765258789,
          30.363901138305664,
          -0.3109237849712372,
          -41.9122428894043,
          -32.12214279174805,
          17.66874885559082,
          20.989517211914062,
          22.932388305664062,
          -44.676029205322266,
          -3.221489429473877,
          13.452455520629883,
          -26.853797912597656,
          17.97988510131836,
          33.508480072021484,
          -8.738478660583496,
          -10.746496200561523,
          -19.077383041381836,
          6.280473232269287,
          17.03325843811035,
          -50.16321563720703,
          6.149332046508789,
          -46.35190963745117,
          -17.489532470703125,
          -20.097896575927734,
          -44.30020523071289,
          3.0947697162628174,
          -46.09627151489258,
          20.18580436706543,
          27.84138298034668,
          -29.026025772094727,
          15.062378883361816,
          21.493953704833984,
          5.298577785491943,
          -8.445627212524414,
          18.94392967224121,
          -9.12401008605957,
          9.093311309814453,
          -48.3675651550293,
          38.55845260620117,
          -30.685436248779297,
          11.946377754211426,
          12.925865173339844,
          -13.224157333374023,
          -42.46464538574219,
          -30.762136459350586,
          12.519278526306152,
          0.6474714279174805,
          2.1777193546295166,
          -12.72769546508789,
          -47.317134857177734,
          -29.37627601623535,
          -1.1860939264297485,
          -3.8772828578948975,
          31.822580337524414,
          14.602078437805176,
          43.432926177978516,
          21.128040313720703,
          -13.467517852783203,
          0.5820924043655396,
          -8.564009666442871,
          -10.089044570922852,
          -24.378110885620117,
          -48.37659454345703,
          6.642974853515625,
          5.610386371612549,
          21.99597930908203,
          9.105908393859863,
          21.307371139526367,
          -47.69297409057617,
          26.8877010345459,
          -2.594191312789917,
          21.783235549926758,
          -5.445765018463135,
          5.191560745239258,
          27.196252822875977,
          13.243367195129395,
          6.80385160446167,
          5.974956512451172,
          -40.80984878540039,
          13.92827033996582,
          10.556312561035156,
          32.591339111328125,
          -41.204986572265625,
          9.862507820129395,
          16.501209259033203,
          8.698391914367676,
          -41.4034423828125,
          1.0173593759536743,
          23.25213623046875,
          30.911527633666992,
          28.723756790161133,
          -2.2149360179901123,
          -17.99188232421875,
          -0.8385478854179382,
          25.405893325805664,
          -2.283352851867676,
          3.8185536861419678,
          -41.274452209472656,
          7.563849449157715,
          21.893980026245117,
          -3.692554473876953,
          -7.567238807678223,
          12.196041107177734,
          -30.607765197753906,
          -35.350032806396484,
          6.988119125366211,
          -3.035085916519165,
          -24.53449821472168,
          -31.153162002563477,
          29.649091720581055,
          25.043100357055664,
          32.49569320678711,
          2.4883980751037598,
          -36.8031120300293,
          -24.566898345947266,
          -6.753146648406982,
          4.45115852355957,
          -33.984840393066406,
          -40.214534759521484,
          -19.93807601928711,
          5.634171962738037,
          12.661027908325195,
          -9.64413833618164,
          34.23202133178711,
          37.1912727355957,
          8.468561172485352,
          32.86186599731445,
          -20.882204055786133,
          3.222248077392578,
          -25.636260986328125,
          7.832151412963867,
          -34.43962097167969,
          -44.847774505615234,
          7.854613780975342,
          15.6218843460083,
          -10.641404151916504,
          14.364623069763184,
          29.41283416748047,
          -10.71646499633789,
          -30.44877815246582,
          10.239636421203613,
          6.533518314361572,
          31.07748031616211,
          4.059839725494385,
          1.13741934299469,
          40.117584228515625,
          1.8367315530776978,
          -5.404416561126709,
          -40.307491302490234,
          19.841745376586914,
          30.69378662109375,
          -38.864891052246094,
          1.3248401880264282,
          12.816338539123535,
          43.2800178527832,
          27.994895935058594,
          23.983381271362305,
          13.539810180664062,
          36.26097869873047,
          20.526742935180664,
          -44.777923583984375,
          22.61642837524414,
          -2.1518473625183105,
          34.955955505371094,
          6.744327545166016,
          39.177181243896484,
          40.5657958984375,
          -16.600353240966797,
          38.36329650878906,
          16.438024520874023,
          9.66612720489502,
          -37.775428771972656,
          -5.580485820770264,
          -8.108684539794922,
          39.09027862548828,
          20.47233772277832,
          3.845104455947876,
          16.058002471923828,
          3.735304832458496,
          -7.389918804168701,
          -42.0810661315918,
          -18.77057456970215,
          6.035373210906982,
          4.953521728515625,
          9.743305206298828,
          2.755234479904175,
          -5.681375980377197,
          6.283746242523193,
          -23.00885581970215,
          -21.13060188293457,
          -2.246981620788574,
          2.1329634189605713,
          -13.078051567077637,
          14.526982307434082,
          -0.8152619004249573,
          32.84064865112305,
          6.016092777252197,
          9.048215866088867,
          23.79819107055664,
          0.47588083148002625,
          15.391457557678223,
          -49.243560791015625,
          -5.761358737945557,
          23.722576141357422,
          5.890108108520508,
          10.611141204833984,
          40.40497970581055,
          -14.980173110961914,
          -26.743915557861328,
          -31.036436080932617,
          4.974883079528809,
          12.473217964172363,
          10.200032234191895,
          -42.43988800048828,
          14.14091682434082,
          -34.335182189941406,
          10.675773620605469,
          2.1804282665252686,
          -5.213476181030273,
          -48.73479080200195,
          -11.99020004272461,
          -27.617666244506836,
          5.970527648925781,
          -16.818439483642578,
          -7.813632965087891,
          7.843332767486572,
          0.35593748092651367,
          -2.6721503734588623,
          6.172505855560303,
          26.228879928588867,
          -9.721298217773438,
          -0.8904162645339966,
          23.352367401123047,
          -10.68649673461914,
          -11.594527244567871,
          18.541706085205078,
          14.900764465332031,
          19.70293617248535,
          -2.1393752098083496,
          -18.7864990234375,
          -2.3408312797546387,
          -15.913286209106445,
          -5.498171806335449,
          -29.7309513092041,
          -42.304664611816406,
          34.91355895996094,
          15.200509071350098,
          -4.550683975219727,
          -41.348533630371094,
          30.4577579498291,
          23.085519790649414,
          19.831356048583984,
          -46.01829528808594,
          -49.63107681274414,
          27.72238540649414,
          -22.16168785095215,
          32.988121032714844,
          34.585594177246094,
          -33.485206604003906,
          8.216525077819824,
          29.301286697387695,
          21.904769897460938,
          12.700441360473633,
          -35.45222473144531,
          -45.701900482177734,
          18.32550811767578,
          -8.458605766296387,
          -43.73358154296875,
          -11.941871643066406,
          -37.29107666015625,
          -40.38628387451172,
          -46.463191986083984,
          -9.77261734008789,
          29.95084571838379,
          7.716646671295166,
          5.185439109802246,
          4.9646525382995605,
          32.236331939697266,
          -35.79538345336914,
          34.88683319091797,
          21.427804946899414,
          4.166867733001709,
          18.888864517211914,
          6.44362735748291,
          5.190549373626709,
          7.3518171310424805,
          7.908112525939941,
          26.264263153076172,
          -1.644214391708374,
          7.300811767578125,
          27.49932289123535,
          -8.445167541503906,
          -26.010652542114258,
          8.901277542114258,
          -36.798065185546875,
          20.537841796875,
          41.14630126953125,
          29.031660079956055,
          20.723630905151367,
          -45.156795501708984,
          -17.327978134155273,
          -10.674507141113281,
          -34.97157287597656,
          -26.586008071899414,
          18.509645462036133,
          5.986201763153076,
          20.248138427734375,
          2.2903592586517334,
          16.17243766784668,
          33.83732986450195,
          14.268146514892578,
          -37.96630096435547,
          24.526973724365234,
          -2.044382333755493,
          -46.82615280151367,
          -2.5825917720794678,
          -12.325726509094238,
          -5.970607280731201,
          -5.534422397613525,
          -13.101056098937988,
          12.848329544067383,
          34.64734649658203,
          -34.854881286621094,
          24.944591522216797,
          -8.130013465881348,
          23.05089569091797,
          -12.057023048400879,
          -11.904894828796387,
          6.495918273925781,
          -9.781003952026367,
          20.607053756713867,
          -44.204368591308594,
          4.4872236251831055,
          30.535181045532227,
          22.388792037963867,
          -9.181979179382324,
          -7.632338523864746,
          23.51814842224121,
          30.051570892333984,
          27.1094970703125,
          16.260276794433594,
          -19.727767944335938,
          7.572592258453369,
          -12.65591812133789,
          41.3206787109375,
          -5.149233341217041,
          4.801070690155029,
          -12.298005104064941,
          -17.45299530029297,
          17.94729995727539,
          -8.751836776733398,
          -3.0631167888641357,
          4.294219493865967,
          -25.902299880981445,
          -45.4103889465332,
          -8.50222110748291,
          4.909319877624512,
          -48.3188591003418,
          13.857489585876465,
          -0.3050495684146881,
          -9.338884353637695,
          23.779117584228516,
          20.43769073486328,
          4.392554759979248,
          36.19701385498047,
          15.541219711303711,
          6.291778087615967,
          36.254791259765625,
          -7.725282669067383,
          -10.302464485168457,
          -13.342276573181152,
          -46.49028778076172,
          32.15242004394531,
          22.608016967773438,
          22.91854476928711,
          -28.222043991088867,
          4.3679518699646,
          -2.9580531120300293,
          20.21947479248047,
          37.466148376464844,
          -38.60722732543945,
          35.04533386230469,
          -17.187240600585938,
          -4.236093997955322,
          -10.908166885375977,
          28.95831298828125,
          42.71895980834961,
          31.641176223754883,
          -40.15459442138672,
          -24.575883865356445,
          10.540264129638672,
          -16.385574340820312,
          -24.32950782775879,
          8.687554359436035,
          -8.450677871704102,
          30.29463005065918,
          14.60164737701416,
          -23.928424835205078,
          -0.591533899307251,
          11.260950088500977,
          -3.6424968242645264,
          -30.946399688720703,
          -32.84635543823242,
          6.65050745010376,
          2.6415903568267822,
          9.622842788696289,
          5.232961654663086,
          26.679624557495117,
          -40.435516357421875,
          -40.27062225341797,
          3.628401517868042,
          -10.326004981994629,
          -32.354312896728516,
          2.137016773223877,
          23.584501266479492,
          -39.157596588134766,
          -7.275442600250244,
          5.696500301361084,
          14.80325984954834,
          -32.15024185180664,
          25.937009811401367,
          -22.483312606811523,
          30.09758186340332,
          -30.92520523071289,
          -16.255704879760742,
          -19.698266983032227,
          25.46645736694336,
          9.81735897064209,
          11.011767387390137,
          4.475290298461914,
          9.284383773803711,
          -7.080228328704834,
          -2.1888694763183594,
          -40.48423385620117,
          35.46955490112305,
          -0.3848538398742676,
          -39.247867584228516,
          -34.55937576293945,
          -47.92055892944336,
          2.5368428230285645,
          -47.40089416503906,
          -11.223114967346191,
          10.748759269714355,
          14.749421119689941,
          20.99872589111328,
          25.411867141723633,
          7.229693412780762,
          29.25283432006836,
          -3.4508941173553467,
          -18.627464294433594,
          11.34245491027832,
          -32.36099624633789,
          10.063119888305664,
          36.22442626953125,
          -24.64316749572754,
          24.740253448486328,
          10.435796737670898,
          -23.500457763671875,
          6.770838260650635,
          -29.80004119873047,
          1.8084453344345093,
          -43.83421325683594,
          -9.636844635009766,
          -34.76408386230469,
          22.397546768188477,
          -32.840702056884766,
          31.709421157836914,
          -8.255691528320312,
          -13.864447593688965,
          -1.6586194038391113,
          -6.135061264038086,
          12.603560447692871,
          20.033449172973633,
          16.053638458251953,
          29.577423095703125,
          -19.258834838867188,
          30.18937873840332,
          30.30999755859375,
          31.553112030029297,
          -30.635395050048828,
          10.649751663208008,
          3.9253978729248047,
          -37.8088493347168,
          23.424610137939453,
          -47.29243850708008,
          23.10100555419922,
          -30.138626098632812,
          42.144569396972656,
          -9.224919319152832,
          26.552013397216797,
          17.481836318969727,
          -36.27374267578125,
          -30.824377059936523,
          7.369293689727783,
          26.336444854736328,
          -45.961814880371094,
          10.70941162109375,
          16.815107345581055,
          7.68179178237915,
          -15.37199878692627,
          22.020679473876953,
          -21.91224479675293,
          -16.301286697387695,
          -45.51033020019531,
          -7.927500247955322,
          25.624034881591797,
          -27.265453338623047,
          -18.655969619750977,
          -28.786348342895508,
          8.376636505126953,
          -28.717266082763672,
          -10.479790687561035,
          -36.469661712646484,
          4.671997547149658,
          3.423668146133423,
          3.211693525314331,
          21.530784606933594,
          -1.637873649597168,
          21.3155574798584,
          -7.0724968910217285,
          9.621441841125488,
          16.371057510375977,
          36.405269622802734,
          37.46672439575195,
          -3.435535192489624,
          24.41520118713379,
          -42.13490676879883,
          28.514122009277344,
          -3.5429418087005615,
          15.101284980773926,
          -42.03590774536133,
          -28.971654891967773,
          -28.64811134338379,
          8.238024711608887,
          32.32807922363281,
          -8.714654922485352,
          -7.834295272827148,
          -34.71636962890625,
          -32.60993194580078,
          20.075828552246094,
          7.468143939971924,
          -41.76350021362305,
          22.861804962158203,
          5.92401123046875,
          3.6200904846191406,
          -42.145362854003906,
          2.639734983444214,
          31.371780395507812,
          30.18347930908203,
          25.589860916137695,
          13.855090141296387,
          37.29645919799805,
          12.883739471435547,
          19.66384506225586,
          18.901254653930664,
          -24.89579963684082,
          8.663294792175293,
          -1.7560480833053589,
          2.279590606689453,
          11.389975547790527,
          0.9745090007781982,
          20.00031089782715,
          -18.297895431518555,
          36.129638671875,
          -0.7311376333236694,
          19.791215896606445,
          -24.41753578186035,
          -39.739280700683594,
          41.39678192138672,
          0.4402371048927307,
          16.592361450195312,
          -12.533711433410645,
          -27.84701919555664,
          19.634550094604492,
          22.0299015045166,
          17.557296752929688,
          -1.7658867835998535,
          -19.156213760375977,
          -34.42723083496094,
          18.569217681884766,
          -1.0798296928405762,
          -24.918237686157227,
          32.31849670410156,
          12.93937873840332,
          6.121822834014893,
          -37.75216293334961,
          15.447002410888672,
          -29.15094566345215,
          28.217548370361328,
          -29.12340545654297,
          -22.956401824951172,
          -17.792251586914062,
          20.435869216918945,
          30.95600700378418,
          31.386987686157227,
          19.25199317932129,
          -29.360769271850586,
          22.23724365234375,
          29.030864715576172,
          24.53600311279297,
          -1.1789416074752808,
          -43.88731384277344,
          29.427722930908203,
          -37.13883590698242,
          -9.695249557495117,
          8.100593566894531,
          23.80906105041504,
          19.386030197143555,
          -23.59478187561035,
          28.828882217407227,
          19.830650329589844,
          32.16618728637695,
          17.502704620361328,
          0.23375974595546722,
          3.7891757488250732,
          21.50870704650879,
          -0.08505044132471085,
          7.357907772064209,
          8.99364185333252,
          20.778846740722656,
          34.60799026489258,
          -16.80519676208496,
          12.707911491394043,
          33.67029571533203,
          9.108312606811523,
          -32.77171325683594,
          14.966363906860352,
          5.349183559417725,
          -11.111188888549805,
          35.68734359741211,
          23.769062042236328,
          9.06391716003418,
          11.306366920471191,
          18.97385597229004,
          17.5816593170166,
          -32.48383712768555,
          26.62751007080078,
          -17.36798858642578,
          -46.662715911865234,
          -45.14768600463867,
          20.177446365356445,
          6.261044502258301,
          2.8790688514709473,
          20.636150360107422,
          29.308671951293945,
          17.911867141723633,
          -36.14351272583008,
          6.330708026885986,
          22.47650146484375,
          -11.706316947937012,
          33.716251373291016,
          -6.955634117126465,
          -18.02499008178711,
          -29.09705924987793,
          18.25082015991211,
          -44.46548843383789,
          -2.846652030944824,
          -12.792841911315918,
          -1.7337746620178223,
          29.486854553222656,
          22.556303024291992,
          29.045528411865234,
          -3.2312402725219727,
          -46.75143051147461,
          31.97678565979004,
          -36.26840591430664,
          37.06878662109375,
          19.728557586669922,
          22.1577205657959,
          33.854698181152344,
          -45.497032165527344,
          10.70422649383545,
          27.15573501586914,
          18.979639053344727,
          13.845404624938965,
          -21.924291610717773,
          -12.285513877868652,
          15.527731895446777,
          -17.36492919921875,
          -2.721487045288086,
          20.044076919555664,
          7.370794296264648,
          42.48637390136719,
          36.656883239746094,
          -35.80714797973633,
          37.85697555541992,
          -31.97832489013672,
          17.09805679321289,
          26.437047958374023,
          -22.235816955566406,
          -30.368797302246094,
          -19.425270080566406,
          -40.9079704284668,
          -25.364768981933594,
          -38.07887649536133,
          5.249718189239502,
          16.97524070739746,
          38.8870735168457,
          19.461957931518555,
          -24.093692779541016,
          -1.2169826030731201,
          17.92354393005371,
          2.3098397254943848,
          -8.043413162231445,
          -47.67335510253906,
          23.64226722717285,
          -31.207870483398438,
          -42.68745040893555,
          10.000059127807617,
          -6.3706183433532715,
          -26.853952407836914,
          -2.022178888320923,
          -41.5092887878418,
          13.181206703186035,
          -31.60201644897461,
          -42.656803131103516,
          36.81454086303711,
          21.620718002319336,
          34.24488067626953,
          7.241725921630859,
          -38.541080474853516,
          -29.389545440673828,
          7.736021041870117,
          3.7093734741210938,
          6.772792339324951,
          -37.194156646728516,
          27.86312484741211,
          -12.40830135345459,
          -11.866520881652832,
          -42.41654968261719,
          -46.435054779052734,
          -37.516822814941406,
          -12.834976196289062,
          3.1843533515930176,
          35.2414665222168,
          -5.786742210388184,
          19.102924346923828,
          -2.585958957672119,
          21.301483154296875,
          -17.71480941772461,
          -18.484577178955078,
          -46.42900466918945,
          -10.239465713500977,
          -46.086753845214844,
          19.274343490600586,
          -12.749505043029785,
          -14.831228256225586,
          -24.522289276123047,
          33.00258255004883,
          7.168284893035889,
          19.176612854003906,
          39.83466720581055,
          -12.498046875,
          7.777789115905762,
          5.670992851257324,
          14.54276180267334,
          -28.195087432861328,
          27.2464542388916,
          30.63163948059082,
          22.514728546142578,
          -32.195274353027344,
          2.1849257946014404,
          7.159962177276611,
          -14.491256713867188,
          -7.5059428215026855,
          18.535118103027344,
          6.281314849853516,
          25.948556900024414,
          -9.433758735656738,
          -37.5654296875,
          -42.096527099609375,
          -17.733190536499023,
          -0.9578943848609924,
          14.852861404418945,
          -0.44639384746551514,
          36.0941047668457,
          4.863453388214111,
          -28.744108200073242,
          1.4330577850341797,
          21.1774845123291,
          34.87666320800781,
          27.752643585205078,
          -2.703955888748169,
          28.532686233520508,
          -49.393436431884766,
          -4.153885364532471,
          17.892778396606445,
          5.844034671783447,
          -6.177084922790527,
          -12.3785400390625,
          32.9465217590332,
          25.35045623779297,
          8.49354076385498,
          29.028207778930664,
          39.39767837524414,
          10.920104026794434,
          12.237435340881348,
          23.339570999145508,
          24.12288475036621,
          -17.238296508789062,
          7.675919532775879,
          24.82377052307129,
          -41.616798400878906,
          40.78162384033203,
          19.47472381591797,
          29.744169235229492,
          15.697093963623047,
          -27.951887130737305,
          40.505409240722656,
          -33.262271881103516,
          28.730810165405273,
          23.56951904296875,
          -48.14012908935547,
          28.333412170410156,
          15.525571823120117,
          34.77663803100586,
          37.006534576416016,
          23.254907608032227,
          5.613757610321045,
          -4.844455242156982,
          -32.85832214355469,
          10.839539527893066,
          20.127843856811523,
          -41.734649658203125,
          5.50585412979126,
          19.5466251373291,
          -4.264350414276123,
          29.304113388061523,
          -38.11940002441406,
          -46.02490997314453,
          -12.69862174987793,
          -32.03115463256836,
          6.715381622314453,
          21.33621597290039,
          -49.948890686035156,
          34.707706451416016,
          21.126705169677734,
          28.3727970123291,
          9.890979766845703,
          36.25661849975586,
          39.90769577026367,
          -0.15117470920085907,
          30.58502960205078,
          4.729738712310791,
          11.151348114013672,
          34.24423599243164,
          14.257076263427734,
          -12.904343605041504,
          -12.45960521697998,
          13.284539222717285,
          -30.966510772705078,
          -4.56173849105835,
          -32.04863739013672,
          18.55910301208496,
          -2.272045612335205,
          -17.54045295715332,
          -32.071075439453125,
          27.013721466064453,
          24.008930206298828,
          -28.897924423217773,
          -2.748506784439087,
          -31.86826515197754,
          -46.40293502807617,
          31.29441261291504,
          14.564411163330078,
          -3.092935800552368,
          9.467782974243164,
          4.963401794433594,
          12.37595272064209,
          -32.10149002075195,
          17.956687927246094,
          22.361059188842773,
          -17.377288818359375,
          6.2650017738342285,
          -29.72493553161621,
          21.11237335205078,
          -29.212722778320312,
          -36.92104721069336,
          -5.808254241943359,
          37.326934814453125,
          9.207878112792969,
          -40.02519226074219,
          16.784988403320312,
          15.51698112487793,
          -45.389530181884766,
          18.68584632873535,
          -13.391200065612793,
          -15.108574867248535,
          25.49137306213379,
          -9.298466682434082,
          -33.99260330200195,
          -36.377254486083984,
          -47.738773345947266,
          -1.2171539068222046,
          -1.2535898685455322,
          9.437483787536621,
          -46.20559310913086,
          6.776400566101074,
          -8.412077903747559,
          16.92308235168457,
          -50.440834045410156,
          -30.829181671142578,
          5.737233638763428,
          21.052425384521484,
          28.908857345581055,
          -9.90858268737793,
          -8.628717422485352,
          -29.490510940551758,
          5.4173502922058105,
          26.04021453857422,
          26.021324157714844,
          15.077062606811523,
          28.221132278442383,
          27.40873146057129,
          -12.29976749420166,
          39.20811462402344,
          -38.75080108642578,
          -45.15027618408203,
          21.621631622314453,
          -0.06855493783950806,
          -38.9603271484375,
          13.740277290344238,
          36.426719665527344,
          -18.064393997192383,
          13.768474578857422,
          -5.607381820678711,
          23.77191734313965,
          22.871740341186523,
          -49.621299743652344,
          -5.6516876220703125,
          9.384156227111816,
          -35.85100173950195,
          -21.012554168701172,
          -4.398815631866455,
          -9.646773338317871,
          9.118609428405762,
          23.14241600036621,
          -3.751272439956665,
          -31.18738555908203,
          26.06939697265625,
          21.758676528930664,
          -36.3702278137207,
          -46.80813217163086,
          28.466707229614258,
          13.076433181762695,
          -24.06633758544922,
          33.11686706542969,
          7.5230207443237305,
          43.579017639160156,
          -39.271793365478516,
          -38.97929763793945,
          -19.58587646484375,
          -8.290008544921875,
          -43.254844665527344,
          -34.82966232299805,
          5.234358310699463,
          9.400609016418457,
          13.864242553710938,
          17.43243408203125,
          14.089924812316895,
          -2.1812572479248047,
          -37.561248779296875,
          27.755634307861328,
          -10.87935733795166,
          8.576248168945312,
          28.695653915405273,
          12.367033004760742,
          -36.76670455932617,
          35.807342529296875,
          32.556861877441406,
          -12.302289962768555,
          29.89213752746582,
          -4.542052745819092,
          34.80524826049805,
          16.388065338134766,
          -20.061378479003906,
          -21.51457977294922,
          -15.90750789642334,
          -42.696075439453125,
          11.78981876373291,
          -12.160364151000977,
          -2.352764129638672,
          0.2540871798992157,
          -5.730720520019531,
          17.053071975708008,
          40.535762786865234,
          -21.40875816345215,
          9.026410102844238,
          9.205780029296875,
          12.30482292175293,
          18.900917053222656,
          -36.001705169677734,
          22.033733367919922,
          3.9440462589263916,
          -32.2346076965332,
          -7.430128574371338,
          -44.001197814941406,
          11.156817436218262,
          8.30925464630127,
          -33.29629135131836,
          32.935874938964844,
          -10.029350280761719,
          4.397574424743652,
          36.410438537597656,
          17.318477630615234,
          -29.57472801208496,
          8.009929656982422,
          -5.524310111999512,
          -10.605427742004395,
          -45.315006256103516,
          16.908292770385742,
          -17.00697898864746,
          2.8211381435394287,
          20.596708297729492,
          -38.873207092285156,
          -10.691995620727539,
          -7.623624324798584,
          29.555810928344727,
          -23.88649559020996,
          9.631113052368164,
          21.74505615234375,
          -16.63297462463379,
          -7.579098701477051,
          40.610740661621094,
          -44.861167907714844,
          6.333547115325928,
          -17.19980812072754,
          10.461332321166992,
          -45.296077728271484,
          9.457697868347168,
          -8.829913139343262,
          10.476272583007812,
          -37.81837463378906,
          -1.458052635192871,
          31.832653045654297,
          18.61995506286621,
          -11.327868461608887,
          -30.398956298828125,
          -28.56308937072754,
          18.693092346191406,
          -0.9253547191619873,
          19.128217697143555,
          -1.146220326423645,
          31.739437103271484,
          -9.489823341369629,
          -4.7464423179626465,
          6.585965633392334,
          17.22351837158203,
          0.5773605704307556,
          3.9203038215637207,
          28.217756271362305,
          -12.692646980285645,
          -43.98725509643555,
          2.3859331607818604,
          42.80052185058594,
          3.2866060733795166,
          6.3512678146362305,
          1.4791969060897827,
          6.95792293548584,
          7.18026065826416,
          -36.62544631958008,
          -4.224787712097168,
          -21.765256881713867,
          11.970009803771973,
          6.254335403442383,
          1.1528122425079346,
          -36.98917007446289,
          14.423624992370605,
          11.116750717163086,
          -16.209562301635742,
          6.9639387130737305,
          5.150911808013916,
          -35.503108978271484,
          23.727949142456055,
          -32.94062805175781,
          -6.4981160163879395,
          5.958931922912598,
          36.09615707397461,
          -0.10608857870101929,
          -18.379737854003906,
          42.66107940673828,
          12.384601593017578,
          38.70332336425781,
          15.77196216583252,
          -34.87672424316406,
          -29.34592056274414,
          -12.21500015258789,
          23.389747619628906,
          0.8778565526008606,
          40.66758728027344,
          42.470672607421875,
          35.32115936279297,
          -0.06664667278528214,
          -18.218435287475586,
          -26.87676239013672,
          7.985349655151367,
          -10.444561004638672,
          15.476349830627441,
          -2.960068702697754,
          0.772989809513092,
          34.70558166503906,
          6.03935432434082,
          22.04183578491211,
          10.434286117553711,
          -9.411242485046387,
          -47.06986618041992,
          27.015954971313477,
          -0.4870840013027191,
          14.162800788879395,
          -14.208172798156738,
          23.76678466796875,
          1.6076840162277222,
          32.24907684326172,
          26.081043243408203,
          -41.91178894042969,
          -41.710693359375,
          30.171314239501953,
          -44.70896530151367,
          24.694568634033203,
          12.1032133102417,
          -22.42333221435547,
          5.456727981567383,
          -3.2904295921325684,
          -40.53437423706055,
          4.910977363586426,
          9.252856254577637,
          10.934223175048828,
          9.873368263244629,
          -46.1898193359375,
          -45.688446044921875,
          -37.4829216003418,
          -23.0710506439209,
          4.56304931640625,
          27.899404525756836,
          18.94449234008789,
          -31.007875442504883,
          -13.117003440856934,
          -48.44337844848633,
          27.411508560180664,
          -46.0869255065918,
          -7.307127952575684,
          19.642438888549805,
          -16.531782150268555,
          6.3976826667785645,
          30.495283126831055,
          22.094440460205078,
          5.685019493103027,
          -47.22371292114258,
          2.3975212574005127,
          -2.907038927078247,
          21.69976806640625,
          -20.649934768676758,
          5.400104999542236,
          32.28923034667969,
          -15.382607460021973,
          -7.809947967529297,
          5.263102054595947,
          18.17628288269043,
          -1.3119752407073975,
          -22.450836181640625,
          -36.59284973144531,
          -0.8369472026824951,
          14.002237319946289,
          -20.507280349731445,
          30.900423049926758,
          -13.445417404174805,
          -8.676172256469727,
          13.300494194030762,
          42.63597106933594,
          -15.514079093933105,
          28.4482479095459,
          -5.316049575805664,
          -22.333343505859375,
          10.156431198120117,
          31.318931579589844,
          5.967746257781982,
          -0.261269211769104,
          24.296125411987305,
          3.173097610473633,
          -49.46244812011719,
          25.35471534729004,
          -35.430274963378906,
          -0.4901556372642517,
          -8.53187370300293,
          -46.12793731689453,
          13.75727367401123,
          30.417831420898438,
          -31.34345245361328,
          9.426616668701172,
          33.799110412597656,
          -13.01043701171875,
          30.238025665283203,
          9.45622444152832,
          27.713476181030273,
          23.687000274658203,
          -47.77622985839844,
          -12.304837226867676,
          -0.8462479710578918,
          -35.65845489501953,
          -21.582944869995117,
          -18.66930389404297,
          -1.216233730316162,
          -3.8230502605438232,
          -49.1263427734375,
          -42.217533111572266,
          18.96626091003418,
          14.554038047790527,
          -1.0867648124694824,
          11.177130699157715,
          -52.758445739746094,
          15.877887725830078,
          5.6502885818481445,
          -35.786624908447266,
          -6.235152721405029,
          -22.291860580444336,
          11.686918258666992,
          2.8997814655303955,
          29.896238327026367,
          -13.16923999786377,
          25.738292694091797,
          -11.413395881652832,
          10.485919952392578,
          24.984153747558594,
          -41.25019073486328,
          -3.039721965789795,
          -13.94880485534668,
          26.418794631958008,
          6.549250602722168,
          4.328597068786621,
          -30.53705406188965,
          28.8563175201416,
          -6.422058582305908,
          -27.684904098510742,
          8.811182975769043,
          34.320213317871094,
          9.319385528564453,
          -22.333818435668945,
          -7.722859859466553,
          -37.263954162597656,
          11.468087196350098,
          -31.768693923950195,
          22.454708099365234,
          15.937468528747559,
          18.76786231994629,
          -25.058441162109375,
          -43.76095199584961,
          11.66830062866211,
          2.417168617248535,
          -16.601423263549805,
          30.221637725830078,
          13.203619956970215,
          -45.34101486206055,
          -13.256815910339355,
          6.462526321411133,
          9.092690467834473,
          20.672273635864258,
          40.24473190307617,
          -19.181060791015625,
          21.450292587280273,
          5.471065521240234,
          28.0411376953125,
          14.053323745727539,
          -2.82946515083313,
          15.953466415405273,
          31.068391799926758,
          9.362059593200684,
          6.2253947257995605,
          -11.714712142944336,
          6.748537540435791,
          -49.3612174987793,
          7.91508150100708,
          -41.508148193359375,
          -46.42811584472656,
          -30.416105270385742,
          -42.15873718261719,
          38.51373291015625,
          9.985312461853027,
          -49.15438461303711,
          -3.099674701690674,
          -22.480789184570312,
          6.330747127532959,
          -47.90742111206055,
          14.43079662322998,
          20.744007110595703,
          -24.92805290222168,
          -41.61053466796875,
          6.064566135406494,
          -3.13814640045166,
          14.460102081298828,
          32.980167388916016,
          30.620647430419922,
          -50.42232131958008,
          -13.577388763427734,
          -0.4013426899909973,
          -36.96099090576172,
          30.795040130615234,
          -12.366571426391602,
          21.557832717895508,
          -11.724405288696289,
          13.05239200592041,
          -4.1596198081970215,
          -9.887120246887207,
          -17.798574447631836,
          9.724569320678711,
          11.218243598937988,
          0.8061258792877197,
          18.907732009887695,
          0.8475605249404907,
          5.419924259185791,
          -21.313167572021484,
          16.495574951171875,
          -16.282424926757812,
          21.5580997467041,
          41.95573043823242,
          -20.069068908691406,
          9.302620887756348,
          -8.4869966506958,
          -0.4800533056259155,
          13.624090194702148,
          -10.586482048034668,
          3.089324474334717,
          17.569305419921875,
          20.92032814025879,
          -12.881945610046387,
          -43.37948989868164,
          16.058847427368164,
          28.421907424926758,
          18.309314727783203,
          8.346490859985352,
          -42.223182678222656,
          26.032773971557617,
          -37.71409225463867,
          17.192564010620117,
          -27.486520767211914,
          -10.984917640686035,
          -5.186923980712891,
          21.322940826416016,
          -28.039812088012695,
          20.019731521606445,
          13.320066452026367,
          14.99271011352539,
          17.764604568481445,
          -36.455596923828125,
          15.741275787353516,
          -6.907268524169922,
          19.442485809326172,
          23.9301815032959,
          -35.47358703613281,
          -4.976044654846191,
          24.241039276123047,
          1.256003975868225,
          29.983386993408203,
          3.557718515396118,
          20.358760833740234,
          -8.563546180725098,
          29.409528732299805,
          -0.5361804962158203,
          12.97970962524414,
          7.238186359405518,
          -0.05147138983011246,
          6.521524429321289,
          -36.46961212158203,
          33.44451141357422,
          12.46735954284668,
          2.573380470275879,
          -36.80821990966797,
          -31.185779571533203,
          -33.10832214355469,
          -6.562301158905029,
          -17.67515754699707,
          8.163912773132324,
          18.261228561401367,
          26.325559616088867,
          17.11656951904297,
          21.966781616210938,
          -12.028130531311035,
          -16.509305953979492,
          -3.0796899795532227,
          -29.542858123779297,
          18.274980545043945,
          12.78390884399414,
          -1.5377180576324463,
          -44.871639251708984,
          -49.15192413330078,
          -3.4226481914520264,
          15.467025756835938,
          -27.24495506286621,
          16.631072998046875,
          23.763351440429688,
          23.884140014648438,
          22.591142654418945,
          -0.615056574344635,
          15.509574890136719,
          -7.061519622802734,
          15.842355728149414,
          -41.749759674072266,
          37.11600875854492,
          8.34171199798584,
          29.645708084106445,
          -31.440649032592773,
          18.849910736083984,
          36.32877731323242,
          39.023765563964844,
          -53.42490005493164,
          -29.301513671875,
          22.765886306762695,
          21.223453521728516,
          4.373603343963623,
          -25.881147384643555,
          0.4337148070335388,
          -30.10345458984375,
          28.153427124023438,
          32.98066711425781,
          27.945756912231445,
          13.216300010681152,
          -11.003552436828613,
          3.455876588821411,
          1.2981290817260742,
          -48.36201477050781,
          9.71061897277832,
          1.464737057685852,
          20.210771560668945,
          -9.783597946166992,
          16.648597717285156,
          24.604839324951172,
          14.058871269226074,
          -42.540504455566406,
          -22.556568145751953,
          14.873005867004395,
          4.436802387237549,
          2.8396964073181152,
          2.326692581176758,
          19.28044891357422,
          -11.797014236450195,
          -9.701634407043457,
          -48.22733688354492,
          -34.63623046875,
          -2.7159736156463623,
          -24.960805892944336,
          10.366912841796875,
          -7.267718315124512,
          28.427576065063477,
          -50.83890914916992,
          9.205272674560547,
          35.34135437011719,
          -17.990962982177734,
          -42.68016815185547,
          16.951993942260742,
          21.33158302307129,
          -30.0377254486084,
          -11.940031051635742,
          8.589118003845215,
          36.30051040649414,
          -3.506565809249878,
          -36.798439025878906,
          2.9032344818115234,
          11.648487091064453,
          -37.82843780517578,
          -46.11663818359375,
          -12.630913734436035,
          38.6854133605957,
          23.951210021972656,
          18.94826316833496,
          -45.155452728271484,
          32.201114654541016,
          -7.289541244506836,
          -45.157379150390625,
          40.87934875488281,
          35.38652038574219,
          6.768118381500244,
          -25.323930740356445,
          -17.509782791137695,
          -43.26850509643555,
          6.86634635925293,
          -22.080881118774414,
          -15.930789947509766,
          -40.425048828125,
          -3.167203903198242,
          -9.69504451751709,
          1.4833799600601196,
          13.4316987991333,
          -24.9624080657959,
          23.84908676147461,
          -35.348358154296875,
          -10.33828067779541,
          20.980531692504883,
          -8.7103271484375,
          22.140499114990234,
          -5.176329135894775,
          33.15073776245117,
          -8.055625915527344,
          -18.636707305908203,
          6.164818286895752,
          -13.219353675842285,
          28.920654296875,
          11.861730575561523,
          -14.151687622070312,
          26.367656707763672,
          41.281639099121094,
          -4.173019886016846,
          12.797136306762695,
          -48.19129943847656,
          23.936906814575195,
          -19.361513137817383,
          3.875443935394287,
          -8.031355857849121,
          20.302461624145508,
          18.642505645751953,
          34.47434997558594,
          8.334031105041504,
          -2.947237014770508,
          -13.734580039978027,
          1.861152172088623,
          -32.35398483276367,
          -33.974674224853516,
          -35.467227935791016,
          43.891502380371094,
          19.126041412353516,
          6.146701335906982,
          -1.0127073526382446,
          -3.5953099727630615,
          -18.99629783630371,
          26.293689727783203,
          -5.471013069152832,
          -3.3948466777801514,
          -1.5956478118896484,
          6.264284133911133,
          -2.277254104614258,
          0.6465322375297546,
          11.438004493713379,
          -4.970476150512695,
          -0.7043981552124023,
          -32.43075942993164,
          0.007066232152283192,
          26.791397094726562,
          -34.66990280151367,
          -33.36772155761719,
          -32.557464599609375,
          3.8723411560058594,
          -10.030657768249512,
          -11.06915283203125,
          5.395339488983154,
          10.992223739624023,
          -11.321173667907715,
          6.315134525299072,
          -35.31100082397461,
          -30.116966247558594,
          -6.624051570892334,
          -5.141952991485596,
          3.8281331062316895,
          27.771617889404297,
          18.69197654724121,
          -35.67815399169922,
          -1.4234519004821777,
          -12.807085990905762,
          -8.85032844543457,
          -12.270951271057129,
          34.725502014160156,
          3.210296154022217,
          -5.392845153808594,
          -4.111669540405273,
          23.29046630859375,
          -9.826193809509277,
          13.791516304016113,
          3.213789224624634,
          -11.946451187133789,
          -32.869110107421875,
          -1.1075009107589722,
          -1.3497236967086792,
          -4.667171001434326,
          7.736439228057861,
          7.550260543823242,
          35.84896469116211,
          -30.207054138183594,
          -27.766300201416016,
          -36.4282112121582,
          -4.255573272705078,
          13.752657890319824,
          17.898229598999023,
          -10.469657897949219,
          -35.990318298339844,
          -5.617694854736328,
          -11.350310325622559,
          -2.2238049507141113,
          -39.77481460571289,
          16.69407081604004,
          -12.861249923706055,
          -10.367300987243652,
          -14.269469261169434,
          26.794097900390625,
          -15.208102226257324,
          2.385883092880249,
          2.5231761932373047,
          -0.5322403907775879,
          -7.096219539642334,
          2.596020460128784,
          -35.417015075683594,
          -31.39637565612793,
          -2.82946515083313,
          -0.06664667278528214,
          32.695648193359375,
          26.55832862854004,
          17.948925018310547,
          -2.345771551132202,
          -0.2320019006729126,
          34.33004379272461,
          -14.219944953918457,
          -10.925637245178223,
          24.34066390991211,
          -12.174017906188965,
          12.200867652893066,
          11.89537525177002,
          -10.729864120483398,
          -3.6521897315979004,
          35.57304000854492,
          -9.812836647033691,
          -2.2086193561553955,
          3.3179593086242676,
          -3.2608399391174316,
          -12.476752281188965,
          32.642642974853516,
          -11.616897583007812,
          3.1435165405273438,
          -8.99809455871582,
          -0.05807161703705788,
          -9.151551246643066,
          20.641677856445312,
          -34.48434829711914,
          -9.190940856933594,
          24.378883361816406,
          -2.597238779067993,
          -6.9786763191223145,
          32.450782775878906,
          33.0167121887207,
          22.634550094604492,
          -6.742056846618652,
          44.77238082885742,
          10.000967025756836,
          -27.689781188964844,
          -9.959086418151855,
          16.746795654296875,
          -5.9725117683410645,
          27.212160110473633,
          1.3695327043533325,
          29.661771774291992,
          -4.074042320251465,
          7.9867987632751465,
          -13.9142484664917,
          -4.770860195159912,
          43.78200149536133,
          25.41954803466797,
          -32.187171936035156,
          -31.841630935668945,
          -10.925637245178223,
          -2.345771551132202,
          27.212160110473633,
          10.018288612365723,
          -14.176806449890137,
          12.200867652893066,
          -0.23196153342723846,
          -4.073991298675537,
          35.57304000854492,
          24.86730194091797,
          24.378849029541016,
          24.34066390991211,
          29.661691665649414,
          27.37785530090332,
          19.277238845825195,
          13.073939323425293,
          -12.476752281188965,
          23.448001861572266,
          -8.622159004211426,
          -5.972507476806641,
          43.78200149536133,
          -14.461572647094727,
          7.233671188354492,
          3.3180861473083496,
          12.898100852966309,
          35.39427947998047,
          -14.344731330871582,
          30.87128257751465,
          28.991464614868164,
          28.977609634399414,
          11.246706008911133,
          -20.587352752685547,
          6.635709762573242,
          25.637845993041992,
          -2.2086193561553955,
          16.275283813476562,
          25.234045028686523,
          21.524063110351562,
          -1.4271061420440674,
          28.48970603942871,
          4.27877140045166,
          -4.770574569702148,
          -1.4529463052749634,
          26.239459991455078,
          -8.663806915283203,
          -6.1967573165893555,
          -1.8520581722259521,
          -1.08556067943573,
          -3.648271322250366,
          -0.05770602077245712,
          1.426146149635315,
          14.450263023376465,
          23.108963012695312,
          30.300676345825195,
          33.463863372802734,
          6.45231819152832,
          -27.089778900146484,
          10.375279426574707,
          -14.697304725646973,
          -0.05807161703705788,
          -1.1208231449127197,
          -1.0148606300354004,
          -8.216869354248047,
          6.022055149078369,
          28.72047996520996,
          45.37810516357422,
          14.342575073242188,
          33.72147750854492,
          27.994895935058594,
          5.143492221832275,
          -9.701834678649902,
          18.669553756713867,
          -2.022178888320923,
          7.842468738555908,
          -12.820862770080566,
          19.247169494628906,
          45.104984283447266,
          8.000725746154785,
          -6.358545303344727,
          -9.35660171508789,
          4.059839725494385,
          12.783742904663086,
          25.34477996826172,
          4.8774590492248535,
          -33.29214859008789,
          -13.356043815612793,
          17.800216674804688,
          16.30226707458496,
          17.018856048583984,
          -2.27042818069458,
          -3.4981582164764404,
          11.03072452545166,
          22.10230827331543,
          25.88347816467285,
          24.867040634155273,
          -11.869975090026855,
          -4.584095001220703,
          5.873720645904541,
          -10.562660217285156,
          -7.1879167556762695,
          -12.997879981994629,
          41.41802978515625,
          5.368956565856934,
          -7.612233638763428,
          15.272872924804688,
          23.280574798583984,
          -44.370567321777344,
          22.173398971557617,
          -12.384624481201172,
          -50.38067626953125,
          19.21379280090332,
          23.52210235595703,
          -9.572083473205566,
          -41.50958251953125,
          2.192849636077881,
          -4.2790117263793945,
          -41.76201629638672,
          -42.608299255371094,
          -8.261635780334473,
          -15.152637481689453,
          -1.9565188884735107,
          0.1674935221672058,
          23.230335235595703,
          13.476099967956543,
          -25.275156021118164,
          -20.7589168548584,
          1.1652555465698242,
          22.094680786132812,
          19.469356536865234,
          -4.434354305267334,
          15.955717086791992,
          -10.357320785522461,
          -7.587528228759766,
          -42.73800277709961,
          16.945499420166016,
          -17.58240509033203,
          18.630460739135742,
          -44.87890625,
          -40.07072830200195,
          -17.730194091796875,
          -17.933122634887695,
          -10.736543655395508,
          -11.259171485900879,
          -1.2819044589996338,
          -2.1195104122161865,
          -13.223272323608398,
          -0.11454132199287415,
          -24.239404678344727,
          -20.48894691467285,
          -8.415947914123535,
          0.2491978406906128,
          -19.23175048828125,
          -6.406534194946289,
          17.1260929107666,
          -20.229045867919922,
          -42.300743103027344,
          -24.68820571899414,
          -17.478696823120117,
          -24.146175384521484,
          -6.828054904937744,
          17.982711791992188,
          -4.146129608154297,
          -17.26551055908203,
          -14.815726280212402,
          -25.01418113708496,
          -12.680727005004883,
          22.815221786499023,
          -15.727643013000488,
          -9.217533111572266,
          -16.334245681762695,
          -15.044071197509766,
          -0.34704869985580444,
          -14.62998104095459,
          -17.5261287689209,
          -16.343618392944336,
          -7.336982727050781,
          -24.566120147705078,
          -19.439607620239258,
          -17.33246612548828,
          7.101717948913574,
          -25.05474090576172,
          -16.600425720214844,
          -14.797417640686035,
          -19.844409942626953,
          16.312332153320312,
          -15.837337493896484,
          5.842649459838867,
          -18.0489444732666,
          -45.98695755004883,
          12.507780075073242,
          -8.983489036560059,
          -14.013752937316895,
          -16.15489387512207,
          -14.652134895324707,
          5.327685832977295,
          -14.586678504943848,
          -16.730224609375,
          17.039024353027344,
          -8.66574764251709,
          32.656490325927734,
          33.42011642456055,
          -51.852142333984375,
          -16.785329818725586,
          -20.047224044799805,
          -8.763360023498535,
          -20.543174743652344,
          -29.34426498413086,
          -18.35929298400879,
          -15.291496276855469,
          -8.684354782104492,
          -9.14822769165039,
          -19.6309871673584,
          -40.20682144165039,
          -39.645652770996094,
          -9.067322731018066,
          -17.159622192382812,
          -15.183948516845703,
          -24.64295768737793,
          -24.112154006958008,
          -25.180978775024414,
          -21.421926498413086,
          -15.091686248779297,
          -16.61663055419922,
          -1.8651082515716553,
          14.646183967590332,
          -11.037129402160645,
          -31.115711212158203,
          17.069244384765625,
          -21.793771743774414,
          -7.450354099273682,
          -11.602953910827637,
          32.4712028503418,
          -14.823721885681152,
          -10.479490280151367,
          -18.10845947265625,
          15.365439414978027,
          -10.175707817077637,
          14.843761444091797,
          -26.88899040222168,
          -23.850929260253906,
          -13.814006805419922,
          -15.29648208618164,
          -17.584781646728516,
          -20.360733032226562,
          -20.422624588012695,
          -0.8489289879798889,
          1.225661277770996,
          -8.60925579071045,
          -17.406736373901367,
          17.273073196411133,
          -8.127193450927734,
          7.016808986663818,
          13.37292766571045,
          34.10362243652344,
          22.33754539489746,
          -0.5937416553497314,
          -7.1389994621276855,
          -11.256983757019043,
          -8.788666725158691,
          -10.297430992126465,
          -10.322882652282715,
          -36.791954040527344,
          -10.055850982666016,
          -21.65185546875,
          -16.42003059387207,
          -8.822568893432617,
          6.052987098693848,
          -11.545463562011719,
          -2.400103807449341,
          24.45929718017578,
          35.88279724121094,
          35.20726776123047,
          -8.539532661437988,
          35.5709114074707,
          22.054340362548828,
          0.8568664193153381,
          -17.33827781677246,
          11.43804931640625,
          -17.990812301635742,
          -20.778287887573242,
          12.675848960876465,
          -34.523468017578125,
          -13.734485626220703,
          16.13804054260254,
          -15.321748733520508,
          -8.593110084533691,
          -7.165151596069336,
          -9.900301933288574,
          18.102436065673828,
          5.036989688873291,
          -14.948817253112793,
          -14.510894775390625,
          -11.826407432556152,
          -6.648702144622803,
          -10.03153133392334,
          -9.436052322387695,
          -15.867877006530762,
          15.414851188659668,
          -9.91484260559082,
          -24.479843139648438,
          25.808820724487305,
          11.895453453063965,
          7.982276439666748,
          12.62813949584961,
          33.096351623535156,
          1.6615731716156006,
          14.335858345031738,
          -8.098262786865234,
          14.003364562988281,
          -2.261324644088745,
          13.760597229003906,
          -1.8341636657714844,
          15.39055061340332,
          5.940960884094238,
          -10.378958702087402,
          41.33976364135742,
          40.09860610961914,
          16.172231674194336,
          -3.1441657543182373,
          36.236427307128906,
          12.906904220581055,
          16.917261123657227,
          16.776273727416992,
          -3.29483699798584,
          14.970471382141113,
          39.42936325073242,
          8.447502136230469,
          28.000274658203125,
          1.5490186214447021,
          33.146480560302734,
          -15.159431457519531,
          22.244539260864258,
          -31.50709342956543,
          14.623393058776855,
          -9.069462776184082,
          -23.085311889648438,
          27.393888473510742,
          22.130107879638672,
          -2.1969621181488037,
          17.31675148010254,
          34.03865051269531,
          -11.067127227783203,
          -16.984146118164062,
          29.92485809326172,
          -0.8940205574035645,
          39.0523796081543,
          -6.7589569091796875,
          6.354719161987305,
          1.013378620147705,
          -4.893074989318848,
          34.5308952331543,
          3.1435165405273438,
          -7.634978294372559,
          36.45945739746094,
          28.387439727783203
         ],
         "yaxis": "y"
        }
       ],
       "layout": {
        "coloraxis": {
         "colorbar": {
          "title": {
           "text": "cluster"
          }
         },
         "colorscale": [
          [
           0,
           "#0d0887"
          ],
          [
           0.1111111111111111,
           "#46039f"
          ],
          [
           0.2222222222222222,
           "#7201a8"
          ],
          [
           0.3333333333333333,
           "#9c179e"
          ],
          [
           0.4444444444444444,
           "#bd3786"
          ],
          [
           0.5555555555555556,
           "#d8576b"
          ],
          [
           0.6666666666666666,
           "#ed7953"
          ],
          [
           0.7777777777777778,
           "#fb9f3a"
          ],
          [
           0.8888888888888888,
           "#fdca26"
          ],
          [
           1,
           "#f0f921"
          ]
         ]
        },
        "legend": {
         "tracegroupgap": 0
        },
        "margin": {
         "t": 60
        },
        "template": {
         "data": {
          "bar": [
           {
            "error_x": {
             "color": "#2a3f5f"
            },
            "error_y": {
             "color": "#2a3f5f"
            },
            "marker": {
             "line": {
              "color": "#E5ECF6",
              "width": 0.5
             },
             "pattern": {
              "fillmode": "overlay",
              "size": 10,
              "solidity": 0.2
             }
            },
            "type": "bar"
           }
          ],
          "barpolar": [
           {
            "marker": {
             "line": {
              "color": "#E5ECF6",
              "width": 0.5
             },
             "pattern": {
              "fillmode": "overlay",
              "size": 10,
              "solidity": 0.2
             }
            },
            "type": "barpolar"
           }
          ],
          "carpet": [
           {
            "aaxis": {
             "endlinecolor": "#2a3f5f",
             "gridcolor": "white",
             "linecolor": "white",
             "minorgridcolor": "white",
             "startlinecolor": "#2a3f5f"
            },
            "baxis": {
             "endlinecolor": "#2a3f5f",
             "gridcolor": "white",
             "linecolor": "white",
             "minorgridcolor": "white",
             "startlinecolor": "#2a3f5f"
            },
            "type": "carpet"
           }
          ],
          "choropleth": [
           {
            "colorbar": {
             "outlinewidth": 0,
             "ticks": ""
            },
            "type": "choropleth"
           }
          ],
          "contour": [
           {
            "colorbar": {
             "outlinewidth": 0,
             "ticks": ""
            },
            "colorscale": [
             [
              0,
              "#0d0887"
             ],
             [
              0.1111111111111111,
              "#46039f"
             ],
             [
              0.2222222222222222,
              "#7201a8"
             ],
             [
              0.3333333333333333,
              "#9c179e"
             ],
             [
              0.4444444444444444,
              "#bd3786"
             ],
             [
              0.5555555555555556,
              "#d8576b"
             ],
             [
              0.6666666666666666,
              "#ed7953"
             ],
             [
              0.7777777777777778,
              "#fb9f3a"
             ],
             [
              0.8888888888888888,
              "#fdca26"
             ],
             [
              1,
              "#f0f921"
             ]
            ],
            "type": "contour"
           }
          ],
          "contourcarpet": [
           {
            "colorbar": {
             "outlinewidth": 0,
             "ticks": ""
            },
            "type": "contourcarpet"
           }
          ],
          "heatmap": [
           {
            "colorbar": {
             "outlinewidth": 0,
             "ticks": ""
            },
            "colorscale": [
             [
              0,
              "#0d0887"
             ],
             [
              0.1111111111111111,
              "#46039f"
             ],
             [
              0.2222222222222222,
              "#7201a8"
             ],
             [
              0.3333333333333333,
              "#9c179e"
             ],
             [
              0.4444444444444444,
              "#bd3786"
             ],
             [
              0.5555555555555556,
              "#d8576b"
             ],
             [
              0.6666666666666666,
              "#ed7953"
             ],
             [
              0.7777777777777778,
              "#fb9f3a"
             ],
             [
              0.8888888888888888,
              "#fdca26"
             ],
             [
              1,
              "#f0f921"
             ]
            ],
            "type": "heatmap"
           }
          ],
          "heatmapgl": [
           {
            "colorbar": {
             "outlinewidth": 0,
             "ticks": ""
            },
            "colorscale": [
             [
              0,
              "#0d0887"
             ],
             [
              0.1111111111111111,
              "#46039f"
             ],
             [
              0.2222222222222222,
              "#7201a8"
             ],
             [
              0.3333333333333333,
              "#9c179e"
             ],
             [
              0.4444444444444444,
              "#bd3786"
             ],
             [
              0.5555555555555556,
              "#d8576b"
             ],
             [
              0.6666666666666666,
              "#ed7953"
             ],
             [
              0.7777777777777778,
              "#fb9f3a"
             ],
             [
              0.8888888888888888,
              "#fdca26"
             ],
             [
              1,
              "#f0f921"
             ]
            ],
            "type": "heatmapgl"
           }
          ],
          "histogram": [
           {
            "marker": {
             "pattern": {
              "fillmode": "overlay",
              "size": 10,
              "solidity": 0.2
             }
            },
            "type": "histogram"
           }
          ],
          "histogram2d": [
           {
            "colorbar": {
             "outlinewidth": 0,
             "ticks": ""
            },
            "colorscale": [
             [
              0,
              "#0d0887"
             ],
             [
              0.1111111111111111,
              "#46039f"
             ],
             [
              0.2222222222222222,
              "#7201a8"
             ],
             [
              0.3333333333333333,
              "#9c179e"
             ],
             [
              0.4444444444444444,
              "#bd3786"
             ],
             [
              0.5555555555555556,
              "#d8576b"
             ],
             [
              0.6666666666666666,
              "#ed7953"
             ],
             [
              0.7777777777777778,
              "#fb9f3a"
             ],
             [
              0.8888888888888888,
              "#fdca26"
             ],
             [
              1,
              "#f0f921"
             ]
            ],
            "type": "histogram2d"
           }
          ],
          "histogram2dcontour": [
           {
            "colorbar": {
             "outlinewidth": 0,
             "ticks": ""
            },
            "colorscale": [
             [
              0,
              "#0d0887"
             ],
             [
              0.1111111111111111,
              "#46039f"
             ],
             [
              0.2222222222222222,
              "#7201a8"
             ],
             [
              0.3333333333333333,
              "#9c179e"
             ],
             [
              0.4444444444444444,
              "#bd3786"
             ],
             [
              0.5555555555555556,
              "#d8576b"
             ],
             [
              0.6666666666666666,
              "#ed7953"
             ],
             [
              0.7777777777777778,
              "#fb9f3a"
             ],
             [
              0.8888888888888888,
              "#fdca26"
             ],
             [
              1,
              "#f0f921"
             ]
            ],
            "type": "histogram2dcontour"
           }
          ],
          "mesh3d": [
           {
            "colorbar": {
             "outlinewidth": 0,
             "ticks": ""
            },
            "type": "mesh3d"
           }
          ],
          "parcoords": [
           {
            "line": {
             "colorbar": {
              "outlinewidth": 0,
              "ticks": ""
             }
            },
            "type": "parcoords"
           }
          ],
          "pie": [
           {
            "automargin": true,
            "type": "pie"
           }
          ],
          "scatter": [
           {
            "fillpattern": {
             "fillmode": "overlay",
             "size": 10,
             "solidity": 0.2
            },
            "type": "scatter"
           }
          ],
          "scatter3d": [
           {
            "line": {
             "colorbar": {
              "outlinewidth": 0,
              "ticks": ""
             }
            },
            "marker": {
             "colorbar": {
              "outlinewidth": 0,
              "ticks": ""
             }
            },
            "type": "scatter3d"
           }
          ],
          "scattercarpet": [
           {
            "marker": {
             "colorbar": {
              "outlinewidth": 0,
              "ticks": ""
             }
            },
            "type": "scattercarpet"
           }
          ],
          "scattergeo": [
           {
            "marker": {
             "colorbar": {
              "outlinewidth": 0,
              "ticks": ""
             }
            },
            "type": "scattergeo"
           }
          ],
          "scattergl": [
           {
            "marker": {
             "colorbar": {
              "outlinewidth": 0,
              "ticks": ""
             }
            },
            "type": "scattergl"
           }
          ],
          "scattermapbox": [
           {
            "marker": {
             "colorbar": {
              "outlinewidth": 0,
              "ticks": ""
             }
            },
            "type": "scattermapbox"
           }
          ],
          "scatterpolar": [
           {
            "marker": {
             "colorbar": {
              "outlinewidth": 0,
              "ticks": ""
             }
            },
            "type": "scatterpolar"
           }
          ],
          "scatterpolargl": [
           {
            "marker": {
             "colorbar": {
              "outlinewidth": 0,
              "ticks": ""
             }
            },
            "type": "scatterpolargl"
           }
          ],
          "scatterternary": [
           {
            "marker": {
             "colorbar": {
              "outlinewidth": 0,
              "ticks": ""
             }
            },
            "type": "scatterternary"
           }
          ],
          "surface": [
           {
            "colorbar": {
             "outlinewidth": 0,
             "ticks": ""
            },
            "colorscale": [
             [
              0,
              "#0d0887"
             ],
             [
              0.1111111111111111,
              "#46039f"
             ],
             [
              0.2222222222222222,
              "#7201a8"
             ],
             [
              0.3333333333333333,
              "#9c179e"
             ],
             [
              0.4444444444444444,
              "#bd3786"
             ],
             [
              0.5555555555555556,
              "#d8576b"
             ],
             [
              0.6666666666666666,
              "#ed7953"
             ],
             [
              0.7777777777777778,
              "#fb9f3a"
             ],
             [
              0.8888888888888888,
              "#fdca26"
             ],
             [
              1,
              "#f0f921"
             ]
            ],
            "type": "surface"
           }
          ],
          "table": [
           {
            "cells": {
             "fill": {
              "color": "#EBF0F8"
             },
             "line": {
              "color": "white"
             }
            },
            "header": {
             "fill": {
              "color": "#C8D4E3"
             },
             "line": {
              "color": "white"
             }
            },
            "type": "table"
           }
          ]
         },
         "layout": {
          "annotationdefaults": {
           "arrowcolor": "#2a3f5f",
           "arrowhead": 0,
           "arrowwidth": 1
          },
          "autotypenumbers": "strict",
          "coloraxis": {
           "colorbar": {
            "outlinewidth": 0,
            "ticks": ""
           }
          },
          "colorscale": {
           "diverging": [
            [
             0,
             "#8e0152"
            ],
            [
             0.1,
             "#c51b7d"
            ],
            [
             0.2,
             "#de77ae"
            ],
            [
             0.3,
             "#f1b6da"
            ],
            [
             0.4,
             "#fde0ef"
            ],
            [
             0.5,
             "#f7f7f7"
            ],
            [
             0.6,
             "#e6f5d0"
            ],
            [
             0.7,
             "#b8e186"
            ],
            [
             0.8,
             "#7fbc41"
            ],
            [
             0.9,
             "#4d9221"
            ],
            [
             1,
             "#276419"
            ]
           ],
           "sequential": [
            [
             0,
             "#0d0887"
            ],
            [
             0.1111111111111111,
             "#46039f"
            ],
            [
             0.2222222222222222,
             "#7201a8"
            ],
            [
             0.3333333333333333,
             "#9c179e"
            ],
            [
             0.4444444444444444,
             "#bd3786"
            ],
            [
             0.5555555555555556,
             "#d8576b"
            ],
            [
             0.6666666666666666,
             "#ed7953"
            ],
            [
             0.7777777777777778,
             "#fb9f3a"
            ],
            [
             0.8888888888888888,
             "#fdca26"
            ],
            [
             1,
             "#f0f921"
            ]
           ],
           "sequentialminus": [
            [
             0,
             "#0d0887"
            ],
            [
             0.1111111111111111,
             "#46039f"
            ],
            [
             0.2222222222222222,
             "#7201a8"
            ],
            [
             0.3333333333333333,
             "#9c179e"
            ],
            [
             0.4444444444444444,
             "#bd3786"
            ],
            [
             0.5555555555555556,
             "#d8576b"
            ],
            [
             0.6666666666666666,
             "#ed7953"
            ],
            [
             0.7777777777777778,
             "#fb9f3a"
            ],
            [
             0.8888888888888888,
             "#fdca26"
            ],
            [
             1,
             "#f0f921"
            ]
           ]
          },
          "colorway": [
           "#636efa",
           "#EF553B",
           "#00cc96",
           "#ab63fa",
           "#FFA15A",
           "#19d3f3",
           "#FF6692",
           "#B6E880",
           "#FF97FF",
           "#FECB52"
          ],
          "font": {
           "color": "#2a3f5f"
          },
          "geo": {
           "bgcolor": "white",
           "lakecolor": "white",
           "landcolor": "#E5ECF6",
           "showlakes": true,
           "showland": true,
           "subunitcolor": "white"
          },
          "hoverlabel": {
           "align": "left"
          },
          "hovermode": "closest",
          "mapbox": {
           "style": "light"
          },
          "paper_bgcolor": "white",
          "plot_bgcolor": "#E5ECF6",
          "polar": {
           "angularaxis": {
            "gridcolor": "white",
            "linecolor": "white",
            "ticks": ""
           },
           "bgcolor": "#E5ECF6",
           "radialaxis": {
            "gridcolor": "white",
            "linecolor": "white",
            "ticks": ""
           }
          },
          "scene": {
           "xaxis": {
            "backgroundcolor": "#E5ECF6",
            "gridcolor": "white",
            "gridwidth": 2,
            "linecolor": "white",
            "showbackground": true,
            "ticks": "",
            "zerolinecolor": "white"
           },
           "yaxis": {
            "backgroundcolor": "#E5ECF6",
            "gridcolor": "white",
            "gridwidth": 2,
            "linecolor": "white",
            "showbackground": true,
            "ticks": "",
            "zerolinecolor": "white"
           },
           "zaxis": {
            "backgroundcolor": "#E5ECF6",
            "gridcolor": "white",
            "gridwidth": 2,
            "linecolor": "white",
            "showbackground": true,
            "ticks": "",
            "zerolinecolor": "white"
           }
          },
          "shapedefaults": {
           "line": {
            "color": "#2a3f5f"
           }
          },
          "ternary": {
           "aaxis": {
            "gridcolor": "white",
            "linecolor": "white",
            "ticks": ""
           },
           "baxis": {
            "gridcolor": "white",
            "linecolor": "white",
            "ticks": ""
           },
           "bgcolor": "#E5ECF6",
           "caxis": {
            "gridcolor": "white",
            "linecolor": "white",
            "ticks": ""
           }
          },
          "title": {
           "x": 0.05
          },
          "xaxis": {
           "automargin": true,
           "gridcolor": "white",
           "linecolor": "white",
           "ticks": "",
           "title": {
            "standoff": 15
           },
           "zerolinecolor": "white",
           "zerolinewidth": 2
          },
          "yaxis": {
           "automargin": true,
           "gridcolor": "white",
           "linecolor": "white",
           "ticks": "",
           "title": {
            "standoff": 15
           },
           "zerolinecolor": "white",
           "zerolinewidth": 2
          }
         }
        },
        "xaxis": {
         "anchor": "y",
         "domain": [
          0,
          1
         ],
         "title": {
          "text": "x"
         }
        },
        "yaxis": {
         "anchor": "x",
         "domain": [
          0,
          1
         ],
         "title": {
          "text": "y"
         }
        }
       }
      }
     },
     "metadata": {},
     "output_type": "display_data"
    }
   ],
   "source": [
    "tsne_pipeline = Pipeline([('scaler', StandardScaler()), ('tsne', TSNE(n_components=2, verbose=1))])\n",
    "genre_embedding = tsne_pipeline.fit_transform(X)\n",
    "projection = pd.DataFrame(columns=['x', 'y'], data=genre_embedding)\n",
    "projection['genres'] = genre_df['song_genre']\n",
    "projection['cluster'] = genre_df['cluster']\n",
    "\n",
    "fig = px.scatter(\n",
    "    projection, x='x', y='y', color='cluster', hover_data=['x', 'y', 'genres'])\n",
    "fig.show()"
   ]
  },
  {
   "cell_type": "code",
   "execution_count": 38,
   "metadata": {},
   "outputs": [
    {
     "name": "stdout",
     "output_type": "stream",
     "text": [
      "[[7.33935361e-01 4.41565918e-01 1.89591441e-01 7.22790641e-01\n",
      "  0.00000000e+00 0.00000000e+00 1.82442272e-01 7.47788020e-01\n",
      "  1.00000000e+00 1.46985134e-02 3.27091218e-01 7.50000000e-01\n",
      "  5.50220172e-01]\n",
      " [1.08132685e-05 4.45020150e-01 1.42764730e-01 8.65931474e-01\n",
      "  1.63141994e-02 9.09090909e-02 1.29394633e-01 6.80334186e-01\n",
      "  1.00000000e+00 4.37614832e-02 4.55049648e-01 7.50000000e-01\n",
      "  7.70392116e-01]]\n"
     ]
    }
   ],
   "source": [
    "feature_cols=['acousticness', 'danceability', 'duration_ms', 'energy',\n",
    "              'instrumentalness', 'key', 'liveness', 'loudness', 'mode',\n",
    "              'speechiness', 'tempo', 'time_signature', 'valence',\n",
    "]\n",
    "\n",
    "from sklearn.preprocessing import MinMaxScaler\n",
    "scaler = MinMaxScaler()\n",
    "normalized_df =scaler.fit_transform(data[feature_cols])\n",
    "\n",
    "print(normalized_df[:2])"
   ]
  },
  {
   "cell_type": "code",
   "execution_count": 39,
   "metadata": {},
   "outputs": [],
   "source": [
    "from sklearn.metrics.pairwise import sigmoid_kernel\n",
    "from sklearn.metrics.pairwise import cosine_similarity\n",
    "from sklearn import preprocessing"
   ]
  },
  {
   "cell_type": "code",
   "execution_count": 40,
   "metadata": {},
   "outputs": [],
   "source": [
    "# Create a pandas series with song titles as indices and indices as series values \n",
    "indices = pd.Series(data.index, index=data['song_name']).drop_duplicates()\n",
    "\n",
    "# Create cosine similarity matrix based on given matrix\n",
    "cosine = cosine_similarity(normalized_df)\n",
    "\n",
    "def generate_recommendation(song_name, model_type=cosine ):\n",
    "    \"\"\"\n",
    "    Purpose: Function for song recommendations \n",
    "    Inputs: song title and type of similarity model\n",
    "    Output: Pandas series of recommended songs\n",
    "    \"\"\"\n",
    "    # Get song indices\n",
    "    index=indices[song_name]\n",
    "    # Get list of songs for given songs\n",
    "    score=list(enumerate(model_type[index]))\n",
    "    # Sort the most similar songs\n",
    "    similarity_score = sorted(score,key = lambda x:x[1],reverse = True)\n",
    "    # Select the top-20 recommend songs\n",
    "    similarity_score = similarity_score[1:21]\n",
    "    top_songs_index = [i[0] for i in similarity_score]\n",
    "    # Top 20 recommended songs\n",
    "    top_songs=data['song_name'].iloc[top_songs_index]\n",
    "    return top_songs"
   ]
  },
  {
   "cell_type": "code",
   "execution_count": 41,
   "metadata": {},
   "outputs": [
    {
     "name": "stdout",
     "output_type": "stream",
     "text": [
      "['Boys' 'Love Is The Drug' 'Rinse & Repeat'\n",
      " 'Yeah! (feat. Lil Jon & Ludacris)' 'We Found Love' 'Stitches'\n",
      " 'Sweet but Psycho' 'Genius Of Love' 'No Passa' 'Proud Mary' 'Atlas'\n",
      " 'Voodoo Ray' 'Human Behaviour' 'Milkshake'\n",
      " 'Love Galore (feat. Travis Scott)' 'Love Galore (feat. Travis Scott)'\n",
      " 'Borderline' \"Don't You (Forget About Me)\" 'L.E.S Artistes' 'Love Train']\n"
     ]
    }
   ],
   "source": [
    "print(generate_recommendation('Hotline Bling',cosine).values)"
   ]
  },
  {
   "cell_type": "code",
   "execution_count": 42,
   "metadata": {},
   "outputs": [
    {
     "name": "stdout",
     "output_type": "stream",
     "text": [
      "[1 2 3]\n",
      "[1 1 1]\n",
      "2.23606797749979\n"
     ]
    }
   ],
   "source": [
    "# initializing points in\n",
    "# numpy arrays\n",
    "point1 = np.array((1, 2, 3))\n",
    "point2 = np.array((1, 1, 1))\n",
    "# calculating Euclidean distance\n",
    "# using linalg.norm()\n",
    "dist = np.linalg.norm(point1 - point2)\n",
    "# printing Euclidean distance\n",
    "print(point1)\n",
    "print(point2)\n",
    "print(dist)"
   ]
  },
  {
   "cell_type": "code",
   "execution_count": 43,
   "metadata": {},
   "outputs": [
    {
     "data": {
      "text/html": [
       "<div>\n",
       "<style scoped>\n",
       "    .dataframe tbody tr th:only-of-type {\n",
       "        vertical-align: middle;\n",
       "    }\n",
       "\n",
       "    .dataframe tbody tr th {\n",
       "        vertical-align: top;\n",
       "    }\n",
       "\n",
       "    .dataframe thead th {\n",
       "        text-align: right;\n",
       "    }\n",
       "</style>\n",
       "<table border=\"1\" class=\"dataframe\">\n",
       "  <thead>\n",
       "    <tr style=\"text-align: right;\">\n",
       "      <th></th>\n",
       "      <th>acousticness</th>\n",
       "      <th>danceability</th>\n",
       "      <th>energy</th>\n",
       "      <th>liveness</th>\n",
       "      <th>loudness</th>\n",
       "      <th>speechiness</th>\n",
       "      <th>valence</th>\n",
       "      <th>song_name</th>\n",
       "    </tr>\n",
       "  </thead>\n",
       "  <tbody>\n",
       "    <tr>\n",
       "      <th>35</th>\n",
       "      <td>0.412000</td>\n",
       "      <td>0.571</td>\n",
       "      <td>0.908</td>\n",
       "      <td>0.0802</td>\n",
       "      <td>-8.208</td>\n",
       "      <td>0.0907</td>\n",
       "      <td>0.958</td>\n",
       "      <td>You Really Got Me</td>\n",
       "    </tr>\n",
       "    <tr>\n",
       "      <th>36</th>\n",
       "      <td>0.002490</td>\n",
       "      <td>0.646</td>\n",
       "      <td>0.770</td>\n",
       "      <td>0.0715</td>\n",
       "      <td>-6.596</td>\n",
       "      <td>0.2260</td>\n",
       "      <td>0.681</td>\n",
       "      <td>Crazy In Love (feat. Jay-Z)</td>\n",
       "    </tr>\n",
       "    <tr>\n",
       "      <th>37</th>\n",
       "      <td>0.006660</td>\n",
       "      <td>0.745</td>\n",
       "      <td>0.466</td>\n",
       "      <td>0.2720</td>\n",
       "      <td>-7.620</td>\n",
       "      <td>0.0864</td>\n",
       "      <td>0.303</td>\n",
       "      <td>Seven Nation Army</td>\n",
       "    </tr>\n",
       "    <tr>\n",
       "      <th>38</th>\n",
       "      <td>0.076700</td>\n",
       "      <td>0.672</td>\n",
       "      <td>0.841</td>\n",
       "      <td>0.1350</td>\n",
       "      <td>-5.992</td>\n",
       "      <td>0.0285</td>\n",
       "      <td>0.820</td>\n",
       "      <td>Losing My Religion</td>\n",
       "    </tr>\n",
       "    <tr>\n",
       "      <th>39</th>\n",
       "      <td>0.001050</td>\n",
       "      <td>0.304</td>\n",
       "      <td>0.901</td>\n",
       "      <td>0.1580</td>\n",
       "      <td>-7.756</td>\n",
       "      <td>0.0602</td>\n",
       "      <td>0.541</td>\n",
       "      <td>God Save The Queen</td>\n",
       "    </tr>\n",
       "    <tr>\n",
       "      <th>40</th>\n",
       "      <td>0.271000</td>\n",
       "      <td>0.414</td>\n",
       "      <td>0.404</td>\n",
       "      <td>0.3000</td>\n",
       "      <td>-9.928</td>\n",
       "      <td>0.0499</td>\n",
       "      <td>0.224</td>\n",
       "      <td>Bohemian Rhapsody - Remastered 2011</td>\n",
       "    </tr>\n",
       "    <tr>\n",
       "      <th>41</th>\n",
       "      <td>0.007080</td>\n",
       "      <td>0.757</td>\n",
       "      <td>0.758</td>\n",
       "      <td>0.1120</td>\n",
       "      <td>-7.873</td>\n",
       "      <td>0.0512</td>\n",
       "      <td>0.918</td>\n",
       "      <td>Blue Monday</td>\n",
       "    </tr>\n",
       "    <tr>\n",
       "      <th>42</th>\n",
       "      <td>0.008760</td>\n",
       "      <td>0.533</td>\n",
       "      <td>0.905</td>\n",
       "      <td>0.0698</td>\n",
       "      <td>-5.270</td>\n",
       "      <td>0.0754</td>\n",
       "      <td>0.486</td>\n",
       "      <td>Purple Haze</td>\n",
       "    </tr>\n",
       "    <tr>\n",
       "      <th>43</th>\n",
       "      <td>0.102000</td>\n",
       "      <td>0.623</td>\n",
       "      <td>0.709</td>\n",
       "      <td>0.0967</td>\n",
       "      <td>-9.818</td>\n",
       "      <td>0.0636</td>\n",
       "      <td>0.948</td>\n",
       "      <td>Louie Louie</td>\n",
       "    </tr>\n",
       "    <tr>\n",
       "      <th>44</th>\n",
       "      <td>0.290000</td>\n",
       "      <td>0.639</td>\n",
       "      <td>0.548</td>\n",
       "      <td>0.3660</td>\n",
       "      <td>-13.534</td>\n",
       "      <td>0.0394</td>\n",
       "      <td>0.887</td>\n",
       "      <td>I Want You Back</td>\n",
       "    </tr>\n",
       "    <tr>\n",
       "      <th>45</th>\n",
       "      <td>0.050500</td>\n",
       "      <td>0.855</td>\n",
       "      <td>0.587</td>\n",
       "      <td>0.1050</td>\n",
       "      <td>-4.589</td>\n",
       "      <td>0.0336</td>\n",
       "      <td>0.640</td>\n",
       "      <td>Crazy</td>\n",
       "    </tr>\n",
       "    <tr>\n",
       "      <th>46</th>\n",
       "      <td>0.569000</td>\n",
       "      <td>0.357</td>\n",
       "      <td>0.389</td>\n",
       "      <td>0.0990</td>\n",
       "      <td>-9.702</td>\n",
       "      <td>0.0269</td>\n",
       "      <td>0.324</td>\n",
       "      <td>You've Lost That Lovin' Feelin' - Single Version</td>\n",
       "    </tr>\n",
       "    <tr>\n",
       "      <th>47</th>\n",
       "      <td>0.030400</td>\n",
       "      <td>0.394</td>\n",
       "      <td>0.566</td>\n",
       "      <td>0.1010</td>\n",
       "      <td>-9.435</td>\n",
       "      <td>0.0261</td>\n",
       "      <td>0.631</td>\n",
       "      <td>Hey Jude - Remastered</td>\n",
       "    </tr>\n",
       "    <tr>\n",
       "      <th>48</th>\n",
       "      <td>0.253000</td>\n",
       "      <td>0.517</td>\n",
       "      <td>0.692</td>\n",
       "      <td>0.1720</td>\n",
       "      <td>-7.273</td>\n",
       "      <td>0.0246</td>\n",
       "      <td>0.476</td>\n",
       "      <td>Waterloo Sunset - Stereo</td>\n",
       "    </tr>\n",
       "    <tr>\n",
       "      <th>49</th>\n",
       "      <td>0.000458</td>\n",
       "      <td>0.273</td>\n",
       "      <td>0.665</td>\n",
       "      <td>0.1170</td>\n",
       "      <td>-8.795</td>\n",
       "      <td>0.0382</td>\n",
       "      <td>0.514</td>\n",
       "      <td>Take Me Out</td>\n",
       "    </tr>\n",
       "    <tr>\n",
       "      <th>50</th>\n",
       "      <td>0.533000</td>\n",
       "      <td>0.780</td>\n",
       "      <td>0.787</td>\n",
       "      <td>0.1220</td>\n",
       "      <td>-6.653</td>\n",
       "      <td>0.2090</td>\n",
       "      <td>0.668</td>\n",
       "      <td>Get Ur Freak On</td>\n",
       "    </tr>\n",
       "    <tr>\n",
       "      <th>51</th>\n",
       "      <td>0.800000</td>\n",
       "      <td>0.654</td>\n",
       "      <td>0.523</td>\n",
       "      <td>0.2850</td>\n",
       "      <td>-8.053</td>\n",
       "      <td>0.0349</td>\n",
       "      <td>0.851</td>\n",
       "      <td>That'll Be the Day</td>\n",
       "    </tr>\n",
       "    <tr>\n",
       "      <th>52</th>\n",
       "      <td>0.369000</td>\n",
       "      <td>0.413</td>\n",
       "      <td>0.725</td>\n",
       "      <td>0.0905</td>\n",
       "      <td>-5.787</td>\n",
       "      <td>0.0324</td>\n",
       "      <td>0.440</td>\n",
       "      <td>Light My Fire</td>\n",
       "    </tr>\n",
       "    <tr>\n",
       "      <th>53</th>\n",
       "      <td>0.016600</td>\n",
       "      <td>0.639</td>\n",
       "      <td>0.659</td>\n",
       "      <td>0.1160</td>\n",
       "      <td>-16.098</td>\n",
       "      <td>0.0491</td>\n",
       "      <td>0.920</td>\n",
       "      <td>I Feel Love</td>\n",
       "    </tr>\n",
       "    <tr>\n",
       "      <th>54</th>\n",
       "      <td>0.040000</td>\n",
       "      <td>0.523</td>\n",
       "      <td>0.769</td>\n",
       "      <td>0.1360</td>\n",
       "      <td>-5.855</td>\n",
       "      <td>0.0269</td>\n",
       "      <td>0.876</td>\n",
       "      <td>There Is a Light That Never Goes Out - 2011 Re...</td>\n",
       "    </tr>\n",
       "  </tbody>\n",
       "</table>\n",
       "</div>"
      ],
      "text/plain": [
       "    acousticness  danceability  energy  liveness  loudness  speechiness  \\\n",
       "35      0.412000         0.571   0.908    0.0802    -8.208       0.0907   \n",
       "36      0.002490         0.646   0.770    0.0715    -6.596       0.2260   \n",
       "37      0.006660         0.745   0.466    0.2720    -7.620       0.0864   \n",
       "38      0.076700         0.672   0.841    0.1350    -5.992       0.0285   \n",
       "39      0.001050         0.304   0.901    0.1580    -7.756       0.0602   \n",
       "40      0.271000         0.414   0.404    0.3000    -9.928       0.0499   \n",
       "41      0.007080         0.757   0.758    0.1120    -7.873       0.0512   \n",
       "42      0.008760         0.533   0.905    0.0698    -5.270       0.0754   \n",
       "43      0.102000         0.623   0.709    0.0967    -9.818       0.0636   \n",
       "44      0.290000         0.639   0.548    0.3660   -13.534       0.0394   \n",
       "45      0.050500         0.855   0.587    0.1050    -4.589       0.0336   \n",
       "46      0.569000         0.357   0.389    0.0990    -9.702       0.0269   \n",
       "47      0.030400         0.394   0.566    0.1010    -9.435       0.0261   \n",
       "48      0.253000         0.517   0.692    0.1720    -7.273       0.0246   \n",
       "49      0.000458         0.273   0.665    0.1170    -8.795       0.0382   \n",
       "50      0.533000         0.780   0.787    0.1220    -6.653       0.2090   \n",
       "51      0.800000         0.654   0.523    0.2850    -8.053       0.0349   \n",
       "52      0.369000         0.413   0.725    0.0905    -5.787       0.0324   \n",
       "53      0.016600         0.639   0.659    0.1160   -16.098       0.0491   \n",
       "54      0.040000         0.523   0.769    0.1360    -5.855       0.0269   \n",
       "\n",
       "    valence                                          song_name  \n",
       "35    0.958                                  You Really Got Me  \n",
       "36    0.681                        Crazy In Love (feat. Jay-Z)  \n",
       "37    0.303                                  Seven Nation Army  \n",
       "38    0.820                                 Losing My Religion  \n",
       "39    0.541                                 God Save The Queen  \n",
       "40    0.224                Bohemian Rhapsody - Remastered 2011  \n",
       "41    0.918                                        Blue Monday  \n",
       "42    0.486                                        Purple Haze  \n",
       "43    0.948                                        Louie Louie  \n",
       "44    0.887                                    I Want You Back  \n",
       "45    0.640                                              Crazy  \n",
       "46    0.324   You've Lost That Lovin' Feelin' - Single Version  \n",
       "47    0.631                              Hey Jude - Remastered  \n",
       "48    0.476                           Waterloo Sunset - Stereo  \n",
       "49    0.514                                        Take Me Out  \n",
       "50    0.668                                    Get Ur Freak On  \n",
       "51    0.851                                 That'll Be the Day  \n",
       "52    0.440                                      Light My Fire  \n",
       "53    0.920                                        I Feel Love  \n",
       "54    0.876  There Is a Light That Never Goes Out - 2011 Re...  "
      ]
     },
     "execution_count": 43,
     "metadata": {},
     "output_type": "execute_result"
    }
   ],
   "source": [
    "clean_df = data.iloc[35:55][['acousticness', 'danceability', 'energy',\n",
    "              'liveness', 'loudness',\n",
    "              'speechiness', 'valence', 'song_name']]\n",
    "clean_df"
   ]
  },
  {
   "cell_type": "code",
   "execution_count": 44,
   "metadata": {},
   "outputs": [],
   "source": [
    "df_averages = clean_df.mean(axis=0)"
   ]
  },
  {
   "cell_type": "code",
   "execution_count": 45,
   "metadata": {},
   "outputs": [
    {
     "data": {
      "text/plain": [
       "acousticness    0.191985\n",
       "danceability    0.565450\n",
       "energy          0.678600\n",
       "liveness        0.150235\n",
       "loudness       -8.241750\n",
       "speechiness     0.063650\n",
       "valence         0.655300\n",
       "dtype: float64"
      ]
     },
     "execution_count": 45,
     "metadata": {},
     "output_type": "execute_result"
    }
   ],
   "source": [
    "df_averages"
   ]
  },
  {
   "cell_type": "code",
   "execution_count": 46,
   "metadata": {},
   "outputs": [
    {
     "data": {
      "text/plain": [
       "'energy'"
      ]
     },
     "execution_count": 46,
     "metadata": {},
     "output_type": "execute_result"
    }
   ],
   "source": [
    "search_variable = df_averages.idxmax()\n",
    "search_variable"
   ]
  },
  {
   "cell_type": "code",
   "execution_count": 47,
   "metadata": {},
   "outputs": [],
   "source": [
    "distance = []"
   ]
  },
  {
   "cell_type": "code",
   "execution_count": 48,
   "metadata": {},
   "outputs": [],
   "source": [
    "for index, row in clean_df.iterrows():\n",
    "    point1 = df_averages[search_variable]\n",
    "    point2 = np.array(row[search_variable])\n",
    "    dist = np.linalg.norm(point1 - point2)\n",
    "    distance.append(dist)"
   ]
  },
  {
   "cell_type": "code",
   "execution_count": 49,
   "metadata": {},
   "outputs": [
    {
     "name": "stdout",
     "output_type": "stream",
     "text": [
      "[0.22939999999999994, 0.09139999999999993, 0.21260000000000007, 0.16239999999999988, 0.22239999999999993, 0.27460000000000007, 0.07939999999999992, 0.22639999999999993, 0.03039999999999987, 0.13060000000000005, 0.09160000000000013, 0.2896000000000001, 0.11260000000000014, 0.013399999999999856, 0.013600000000000056, 0.10839999999999994, 0.15560000000000007, 0.046399999999999886, 0.019600000000000062, 0.09039999999999992]\n"
     ]
    }
   ],
   "source": [
    "print(distance)"
   ]
  },
  {
   "cell_type": "code",
   "execution_count": 50,
   "metadata": {},
   "outputs": [
    {
     "name": "stdout",
     "output_type": "stream",
     "text": [
      "Waterloo Sunset - Stereo\n"
     ]
    }
   ],
   "source": [
    "clean_df[f'distance_for_{search_variable}'] = distance\n",
    "clean_df.set_index('song_name', inplace= True)\n",
    "y = clean_df['distance_for_energy'].idxmin()\n",
    "print(y)"
   ]
  },
  {
   "cell_type": "code",
   "execution_count": 51,
   "metadata": {},
   "outputs": [],
   "source": [
    "import spotipy\n",
    "import spotipy.util as util\n",
    "from spotipy.oauth2 import SpotifyClientCredentials\n",
    "from dotenv import load_dotenv\n",
    "\n",
    "load_dotenv()\n",
    "CLIENT_ID = os.getenv('CLIENT_ID')\n",
    "CLIENT_SECRET = os.getenv('CLIENT_SECRET')"
   ]
  },
  {
   "cell_type": "code",
   "execution_count": 52,
   "metadata": {},
   "outputs": [],
   "source": [
    "client_credentials_manager = SpotifyClientCredentials(client_id=CLIENT_ID, client_secret=CLIENT_SECRET)\n",
    "sp = spotipy.Spotify(client_credentials_manager=client_credentials_manager)"
   ]
  },
  {
   "cell_type": "code",
   "execution_count": 53,
   "metadata": {},
   "outputs": [],
   "source": [
    "def extract_user_playlist(url):\n",
    "    # Split the url and use Spotipy to retrieve the track information for each song in the playlist\n",
    "    playlist_url = url.split(\"/\")[4].split(\"?\")[0]\n",
    "    playlist_tracks = sp.playlist_tracks(playlist_url)\n",
    "\n",
    "    # For loop to extract the necessary track information\n",
    "    track_ids = []\n",
    "    track_titles = []\n",
    "    track_artist = []\n",
    "    track_album_art = []\n",
    "    track_album_url = []\n",
    "\n",
    "    for track in playlist_tracks['items']:\n",
    "        track_ids.append(track['track']['id'])\n",
    "        track_titles.append(track['track']['name'])\n",
    "        track_album_art.append(track['track']['album']['images'][2]['url'])\n",
    "        track_album_url.append(track['track']['album']['external_urls']['spotify'])\n",
    "        artist_list = []\n",
    "        for artist in track['track']['artists']:\n",
    "            artist_list.append(artist['name'])\n",
    "        track_artist.append(artist_list[0])\n",
    "\n",
    "    # Create a dataframe from the track_ids to bring in features\n",
    "    features = sp.audio_features(track_ids)\n",
    "\n",
    "    features_df = pd.DataFrame(data=features, columns=features[0].keys())\n",
    "    features_df['title'] = track_titles\n",
    "    features_df['artist'] = track_artist\n",
    "    features_df['album_art'] = track_album_art\n",
    "    features_df['album_url'] = track_album_url\n",
    "    features_df = features_df[['artist','title','album_url','album_art','id','danceability','energy','loudness','speechiness','acousticness','liveness','valence']]\n",
    "    \n",
    "    return features_df"
   ]
  },
  {
   "cell_type": "code",
   "execution_count": 54,
   "metadata": {},
   "outputs": [],
   "source": [
    "def song_chooser(url):\n",
    "    user_df = extract_user_playlist(url)\n",
    "    clean_df = user_df[['acousticness', 'danceability', 'energy','liveness', 'loudness', 'speechiness', 'valence', 'title']]\n",
    "    user_avg_scores = clean_df.mean(axis=0)\n",
    "    search_variable = user_avg_scores.idxmax()\n",
    "    distance = []\n",
    "    for index, row in clean_df.iterrows():\n",
    "        point1 = user_avg_scores[search_variable]\n",
    "        point2 = np.array(row[search_variable])\n",
    "        dist = np.linalg.norm(point1 - point2)\n",
    "        distance.append(dist)\n",
    "    clean_df[f'distance_for_{search_variable}'] = distance\n",
    "    clean_df.set_index('title', inplace= True)\n",
    "    song_search = clean_df[f'distance_for_{search_variable}'].idxmin()\n",
    "    return song_search\n"
   ]
  },
  {
   "cell_type": "code",
   "execution_count": 55,
   "metadata": {},
   "outputs": [],
   "source": [
    "z = song_chooser('https://open.spotify.com/playlist/37i9dQZF1DXcBWIGoYBM5M?si=V2SBvVUBQk-uQFK0B4_m-g&nd=1')"
   ]
  },
  {
   "cell_type": "code",
   "execution_count": 56,
   "metadata": {},
   "outputs": [
    {
     "name": "stdout",
     "output_type": "stream",
     "text": [
      "975                                                  Luka\n",
      "1663                             Parklife - 2012 Remaster\n",
      "1934                                             Sundress\n",
      "893                                               Lucille\n",
      "407                           Girls Just Want to Have Fun\n",
      "1166                                         Radio, Radio\n",
      "6                                              Be My Baby\n",
      "1406                                             Badlands\n",
      "847     Money (That's What I Want) - Single Version / ...\n",
      "1043                                       Devils Haircut\n",
      "1722                                           Bernadette\n",
      "1444                                            Countdown\n",
      "413                                      The Killing Moon\n",
      "1155                                                Think\n",
      "2141                                              Happier\n",
      "2113                                           Rubberband\n",
      "217                     (White Man) In Hammersmith Palais\n",
      "1869                                      Twist and Shout\n",
      "783                                         Oliver's Army\n",
      "1423             We're An American Band - Remastered 2002\n",
      "Name: song_name, dtype: object\n"
     ]
    }
   ],
   "source": [
    "print(generate_recommendation(z,cosine))"
   ]
  },
  {
   "cell_type": "code",
   "execution_count": null,
   "metadata": {},
   "outputs": [],
   "source": []
  }
 ],
 "metadata": {
  "kernelspec": {
   "display_name": "Python 3.11.0 64-bit",
   "language": "python",
   "name": "python3"
  },
  "language_info": {
   "codemirror_mode": {
    "name": "ipython",
    "version": 3
   },
   "file_extension": ".py",
   "mimetype": "text/x-python",
   "name": "python",
   "nbconvert_exporter": "python",
   "pygments_lexer": "ipython3",
   "version": "3.11.0"
  },
  "orig_nbformat": 4,
  "vscode": {
   "interpreter": {
    "hash": "c261aea317cc0286b3b3261fbba9abdec21eaa57589985bb7a274bf54d6cc0a7"
   }
  }
 },
 "nbformat": 4,
 "nbformat_minor": 2
}
